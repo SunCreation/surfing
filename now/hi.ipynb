{
 "cells": [
  {
   "cell_type": "code",
   "execution_count": 1,
   "metadata": {},
   "outputs": [],
   "source": [
    "from selenium import webdriver\n",
    "from selenium.webdriver.chrome.options import Options\n",
    "from chromedriver_autoinstaller import install\n",
    "\n",
    "chrome_options = Options()\n",
    "chrome_options.add_experimental_option(\"debuggerAddress\", \"127.0.0.1:9222\")\n",
    "install()\n",
    "driver = webdriver.Chrome(options=chrome_options)\n",
    "\n",
    "# driver.get('https://naver.com')"
   ]
  },
  {
   "cell_type": "code",
   "execution_count": 2,
   "metadata": {},
   "outputs": [],
   "source": [
    "hi = webdriver.Chrome(options=chrome_options)\n"
   ]
  },
  {
   "cell_type": "code",
   "execution_count": 3,
   "metadata": {},
   "outputs": [],
   "source": [
    "hi.get('https://naver.com')"
   ]
  },
  {
   "cell_type": "code",
   "execution_count": 2,
   "metadata": {},
   "outputs": [],
   "source": [
    "# driver.page_source"
   ]
  },
  {
   "cell_type": "code",
   "execution_count": 3,
   "metadata": {},
   "outputs": [
    {
     "name": "stderr",
     "output_type": "stream",
     "text": [
      "/tmp/ipykernel_12899/957646803.py:1: DeprecationWarning: find_elements_by_css_selector is deprecated. Please use find_elements(by=By.CSS_SELECTOR, value=css_selector) instead\n",
      "  attendance = driver.find_elements_by_css_selector('.css-tjoa3l')\n"
     ]
    }
   ],
   "source": [
    "attendance = driver.find_elements_by_css_selector('.css-tjoa3l')"
   ]
  },
  {
   "cell_type": "code",
   "execution_count": 5,
   "metadata": {},
   "outputs": [
    {
     "data": {
      "text/plain": [
       "['강남4기/이오연🐕\\u200d🦺\\n아이펠 심리상담소',\n",
       " '강남4기/진정민',\n",
       " '강남4기/홍성현',\n",
       " '강남 4기 / 정강민 / 퍼시리',\n",
       " '강남4기 / 박혜민\\n🙊🙉🙈💕',\n",
       " '강남4기/이세한',\n",
       " '강남4기/이창환',\n",
       " '대전 3기/채준병',\n",
       " '대전 3기/한연규',\n",
       " '대전3기 / 윤혜연',\n",
       " '박혁성/대전3기',\n",
       " '강남 4기/김예슬\\nIn conversation',\n",
       " '강남4기/오성균',\n",
       " '강남4기/진샛별',\n",
       " '강남 4기 / 김도현 😎\\n돌고 돌아 결국 연머니..',\n",
       " '강남4기/오준엽 🐳',\n",
       " '강남4기/유제준',\n",
       " '강남4기/전형진Desktop',\n",
       " '강남4기/지정용',\n",
       " '강남4기/김도균',\n",
       " '강남4기/나융/퍼실',\n",
       " '강남4기/박범석\\n끝까지 화이팅 입니다',\n",
       " '강남4기/조해창/퍼시리\\nHi!',\n",
       " '강남 4기 봇\\n내가 크롤링좀 한다 손!',\n",
       " '강남4기/이창권',\n",
       " '강남4기/장수경',\n",
       " '이창호 / 강남4기']"
      ]
     },
     "execution_count": 5,
     "metadata": {},
     "output_type": "execute_result"
    }
   ],
   "source": [
    "[i.text for i in attendance]"
   ]
  },
  {
   "cell_type": "code",
   "execution_count": null,
   "metadata": {},
   "outputs": [],
   "source": []
  }
 ],
 "metadata": {
  "kernelspec": {
   "display_name": "Python 3.10.4 ('env')",
   "language": "python",
   "name": "python3"
  },
  "language_info": {
   "codemirror_mode": {
    "name": "ipython",
    "version": 3
   },
   "file_extension": ".py",
   "mimetype": "text/x-python",
   "name": "python",
   "nbconvert_exporter": "python",
   "pygments_lexer": "ipython3",
   "version": "3.10.4"
  },
  "orig_nbformat": 4,
  "vscode": {
   "interpreter": {
    "hash": "a39879ae9ccb927afc0cf2ce944a9e89e93d1a75059893b60dcfa8646ca8faf1"
   }
  }
 },
 "nbformat": 4,
 "nbformat_minor": 2
}
