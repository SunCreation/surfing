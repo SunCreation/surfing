{
 "cells": [
  {
   "cell_type": "code",
   "execution_count": 1,
   "source": [
    "from chromedriver_autoinstaller import install\n",
    "from selenium import webdriver\n",
    "install()\n",
    "driver = webdriver.Chrome()\n",
    "driver.get('https://data.kleague.com/')\n"
   ],
   "outputs": [],
   "metadata": {}
  },
  {
   "cell_type": "code",
   "execution_count": 2,
   "source": [
    "driver.page_source"
   ],
   "outputs": [
    {
     "output_type": "execute_result",
     "data": {
      "text/plain": [
       "'<html xmlns=\"http://www.w3.org/1999/xhtml\"><head>\\n<link rel=\"shortcut icon\" href=\"/images/favicon/favicon.ico\">\\n<meta http-equiv=\"Content-Type\" content=\"text/html; charset=utf-8\">\\n<meta name=\"description\" content=\"K리그 축구 전문 데이터 포털\">\\n<meta property=\"og:type\" content=\"website\">\\n<meta property=\"og:title\" content=\"K리그 축구 전문 데이터 포털\">\\n<meta property=\"og:description\" content=\"K리그의 모든 것이 담겨있습니다. 경기전 관전포인트 부터 전문 분석 매치서머리까지 지금 방문해보세요. 로그인 없이 이용하실 수 있습니다.\">\\n<meta property=\"og:image\" content=\"http://data.kleague.com/images/K_LEAGUE_PORTAL.png\">\\n<meta property=\"og:url\" content=\"https://data.kleague.com\">\\n<meta name=\"google-site-verification\" content=\"O3awnS63EFambt9EtuWECT_4xMY65nLH88j01m1vP88\">\\n<link rel=\"canonical\" href=\"https://data.kleague.com\">\\n<title>K리그 데이터 포털</title>\\n</head>\\n<frameset rows=\"0,*\" border=\"0\">\\n\\t<frame src=\"about:blank\">\\n\\t<frame src=\"https://portal.kleague.com/user/loginById.do?portalGuest=rstNE9zxjdkUC9kbUA08XQ==\" frameborder=\"0\" scrolling=\"auto\">\\n</frameset>\\n<noframes>\\n<body>\\n프레임지원X\\n</body>\\n</noframes>\\n</html>'"
      ]
     },
     "metadata": {},
     "execution_count": 2
    }
   ],
   "metadata": {}
  },
  {
   "cell_type": "code",
   "execution_count": 3,
   "source": [
    "from bs4 import BeautifulSoup\n",
    "driver.get('https://portal.kleague.com/user/loginById.do?portalGuest=rstNE9zxjdkUC9kbUA08XQ==')"
   ],
   "outputs": [],
   "metadata": {}
  },
  {
   "cell_type": "code",
   "execution_count": 5,
   "source": [
    "len(driver.find_elements_by_css_selector('.main-menu'))"
   ],
   "outputs": [
    {
     "output_type": "stream",
     "name": "stderr",
     "text": [
      "/tmp/ipykernel_46587/4247526136.py:1: DeprecationWarning: find_elements_by_css_selector is deprecated. Please use find_elements(by=By.CSS_SELECTOR, value=css_selector) instead\n",
      "  len(driver.find_elements_by_css_selector('.main-menu'))\n"
     ]
    },
    {
     "output_type": "execute_result",
     "data": {
      "text/plain": [
       "1"
      ]
     },
     "metadata": {},
     "execution_count": 5
    }
   ],
   "metadata": {}
  },
  {
   "cell_type": "code",
   "execution_count": 6,
   "source": [
    "to_data = [i for i in driver.find_elements_by_css_selector('.main-menu > ul > li') if i.text=='데이터센터'][0]\n",
    "to_data"
   ],
   "outputs": [
    {
     "output_type": "stream",
     "name": "stderr",
     "text": [
      "/tmp/ipykernel_46587/2024004088.py:1: DeprecationWarning: find_elements_by_css_selector is deprecated. Please use find_elements(by=By.CSS_SELECTOR, value=css_selector) instead\n",
      "  to_data = [i for i in driver.find_elements_by_css_selector('.main-menu > ul > li') if i.text=='데이터센터'][0]\n"
     ]
    },
    {
     "output_type": "execute_result",
     "data": {
      "text/plain": [
       "<selenium.webdriver.remote.webelement.WebElement (session=\"e9b4c29db49edae591840b1957a3e74f\", element=\"240f1b13-71f8-4755-a56a-d33f4818872b\")>"
      ]
     },
     "metadata": {},
     "execution_count": 6
    }
   ],
   "metadata": {}
  },
  {
   "cell_type": "code",
   "execution_count": 7,
   "source": [
    "to_data.click()"
   ],
   "outputs": [],
   "metadata": {}
  },
  {
   "cell_type": "code",
   "execution_count": 37,
   "source": [
    "butten = {}\n",
    "for i in driver.find_elements_by_css_selector('.two-depthMenu.col-width > ul > li'):\n",
    "    butten[i.text] = i"
   ],
   "outputs": [
    {
     "output_type": "stream",
     "name": "stderr",
     "text": [
      "/tmp/ipykernel_11671/2231767775.py:2: DeprecationWarning: find_elements_by_css_selector is deprecated. Please use find_elements(by=By.CSS_SELECTOR, value=css_selector) instead\n",
      "  for i in driver.find_elements_by_css_selector('.two-depthMenu.col-width > ul > li'):\n"
     ]
    }
   ],
   "metadata": {}
  },
  {
   "cell_type": "code",
   "execution_count": 40,
   "source": [
    "butten.keys()"
   ],
   "outputs": [
    {
     "output_type": "execute_result",
     "data": {
      "text/plain": [
       "dict_keys(['매치센터', '종합검색', '클럽', '선수', '공식기록', '부가기록'])"
      ]
     },
     "metadata": {},
     "execution_count": 40
    }
   ],
   "metadata": {}
  },
  {
   "cell_type": "code",
   "execution_count": 41,
   "source": [
    "butten['부가기록'].click()"
   ],
   "outputs": [],
   "metadata": {}
  },
  {
   "cell_type": "code",
   "execution_count": 46,
   "source": [
    "select = driver.find_elements_by_css_selector('.select-control.wid80')\n",
    "len(select)"
   ],
   "outputs": [
    {
     "output_type": "stream",
     "name": "stderr",
     "text": [
      "/tmp/ipykernel_11671/1899361047.py:1: DeprecationWarning: find_elements_by_css_selector is deprecated. Please use find_elements(by=By.CSS_SELECTOR, value=css_selector) instead\n",
      "  select = driver.find_elements_by_css_selector('.select-control.wid80')\n"
     ]
    },
    {
     "output_type": "execute_result",
     "data": {
      "text/plain": [
       "1"
      ]
     },
     "metadata": {},
     "execution_count": 46
    }
   ],
   "metadata": {}
  },
  {
   "cell_type": "code",
   "execution_count": 48,
   "source": [
    "option = driver.find_elements_by_css_selector('.select-control.wid80 > option')\n",
    "year = [i.text for i in option]\n",
    "year # 전체로 검색하면 오류뜸ㅋㅋㅋ\n",
    "    "
   ],
   "outputs": [
    {
     "output_type": "stream",
     "name": "stderr",
     "text": [
      "/tmp/ipykernel_11671/3901033396.py:1: DeprecationWarning: find_elements_by_css_selector is deprecated. Please use find_elements(by=By.CSS_SELECTOR, value=css_selector) instead\n",
      "  option = driver.find_elements_by_css_selector('.select-control.wid80 > option')\n"
     ]
    },
    {
     "output_type": "execute_result",
     "data": {
      "text/plain": [
       "['전체', '2022', '2021', '2020', '2019', '2018', '2017', '2016', '2015']"
      ]
     },
     "metadata": {},
     "execution_count": 48
    }
   ],
   "metadata": {}
  },
  {
   "cell_type": "code",
   "execution_count": 53,
   "source": [
    "option = driver.find_elements_by_css_selector('#selectMeetSeq > option')\n",
    "league = [i.text for i in option]\n",
    "league # 전체로 검색하면 오류뜸ㅋㅋㅋselectMeetSeq\n",
    "    "
   ],
   "outputs": [
    {
     "output_type": "stream",
     "name": "stderr",
     "text": [
      "/tmp/ipykernel_11671/1089076832.py:1: DeprecationWarning: find_elements_by_css_selector is deprecated. Please use find_elements(by=By.CSS_SELECTOR, value=css_selector) instead\n",
      "  option = driver.find_elements_by_css_selector('#selectMeetSeq > option')\n"
     ]
    },
    {
     "output_type": "execute_result",
     "data": {
      "text/plain": [
       "['전체', '하나원큐 K리그1 2020', '하나원큐 K리그2 2020']"
      ]
     },
     "metadata": {},
     "execution_count": 53
    }
   ],
   "metadata": {}
  },
  {
   "cell_type": "code",
   "execution_count": 51,
   "source": [
    "option = driver.find_elements_by_css_selector('.searchForm-box > div > div.input-group-addon')\n",
    "\n",
    "searchlist = [i.text for i in option]\n",
    "searchlist"
   ],
   "outputs": [
    {
     "output_type": "stream",
     "name": "stderr",
     "text": [
      "/tmp/ipykernel_11671/1571128697.py:1: DeprecationWarning: find_elements_by_css_selector is deprecated. Please use find_elements(by=By.CSS_SELECTOR, value=css_selector) instead\n",
      "  option = driver.find_elements_by_css_selector('.searchForm-box > div > div.input-group-addon')\n"
     ]
    },
    {
     "output_type": "execute_result",
     "data": {
      "text/plain": [
       "['대회년도', '대회명', '팀']"
      ]
     },
     "metadata": {},
     "execution_count": 51
    }
   ],
   "metadata": {}
  },
  {
   "cell_type": "code",
   "execution_count": 56,
   "source": [
    "leagueselect = driver.find_element_by_css_selector('#selectMeetSeq')\n",
    "leagueselect.send_keys('하나원큐 K리그2 2020')"
   ],
   "outputs": [
    {
     "output_type": "stream",
     "name": "stderr",
     "text": [
      "/tmp/ipykernel_11671/3728110459.py:1: DeprecationWarning: find_element_by_css_selector is deprecated. Please use find_element(by=By.CSS_SELECTOR, value=css_selector) instead\n",
      "  leagueselect = driver.find_element_by_css_selector('#selectMeetSeq')\n"
     ]
    }
   ],
   "metadata": {}
  },
  {
   "cell_type": "code",
   "execution_count": 47,
   "source": [
    "select[0].send_keys('2019')"
   ],
   "outputs": [],
   "metadata": {}
  },
  {
   "cell_type": "code",
   "execution_count": 11,
   "source": [
    "from time import sleep\n",
    "import pandas as pd"
   ],
   "outputs": [],
   "metadata": {}
  },
  {
   "cell_type": "code",
   "execution_count": 12,
   "source": [
    "def get_table():\n",
    "    source = driver.page_source\n",
    "    soup = BeautifulSoup(source, 'html.parser')\n",
    "    return soup.find_all('table')"
   ],
   "outputs": [],
   "metadata": {}
  },
  {
   "cell_type": "code",
   "execution_count": 64,
   "source": [
    "hi = pd.read_html(str(get_table()[0]))[0]"
   ],
   "outputs": [],
   "metadata": {}
  },
  {
   "cell_type": "code",
   "execution_count": 69,
   "source": [
    "hi[0][['후방패스','횡패스']]"
   ],
   "outputs": [
    {
     "output_type": "execute_result",
     "data": {
      "text/html": [
       "<div>\n",
       "<style scoped>\n",
       "    .dataframe tbody tr th:only-of-type {\n",
       "        vertical-align: middle;\n",
       "    }\n",
       "\n",
       "    .dataframe tbody tr th {\n",
       "        vertical-align: top;\n",
       "    }\n",
       "\n",
       "    .dataframe thead tr th {\n",
       "        text-align: left;\n",
       "    }\n",
       "</style>\n",
       "<table border=\"1\" class=\"dataframe\">\n",
       "  <thead>\n",
       "    <tr>\n",
       "      <th></th>\n",
       "      <th colspan=\"3\" halign=\"left\">후방패스</th>\n",
       "      <th colspan=\"3\" halign=\"left\">횡패스</th>\n",
       "    </tr>\n",
       "    <tr>\n",
       "      <th></th>\n",
       "      <th>시도</th>\n",
       "      <th>성공</th>\n",
       "      <th>성공%</th>\n",
       "      <th>시도</th>\n",
       "      <th>성공</th>\n",
       "      <th>성공%</th>\n",
       "    </tr>\n",
       "  </thead>\n",
       "  <tbody>\n",
       "    <tr>\n",
       "      <th>0</th>\n",
       "      <td>43</td>\n",
       "      <td>40</td>\n",
       "      <td>93.0</td>\n",
       "      <td>99</td>\n",
       "      <td>63</td>\n",
       "      <td>63.6</td>\n",
       "    </tr>\n",
       "    <tr>\n",
       "      <th>1</th>\n",
       "      <td>55</td>\n",
       "      <td>53</td>\n",
       "      <td>96.4</td>\n",
       "      <td>126</td>\n",
       "      <td>112</td>\n",
       "      <td>88.9</td>\n",
       "    </tr>\n",
       "    <tr>\n",
       "      <th>2</th>\n",
       "      <td>86</td>\n",
       "      <td>81</td>\n",
       "      <td>94.2</td>\n",
       "      <td>181</td>\n",
       "      <td>150</td>\n",
       "      <td>82.9</td>\n",
       "    </tr>\n",
       "    <tr>\n",
       "      <th>3</th>\n",
       "      <td>89</td>\n",
       "      <td>86</td>\n",
       "      <td>96.6</td>\n",
       "      <td>231</td>\n",
       "      <td>206</td>\n",
       "      <td>89.2</td>\n",
       "    </tr>\n",
       "    <tr>\n",
       "      <th>4</th>\n",
       "      <td>118</td>\n",
       "      <td>114</td>\n",
       "      <td>96.6</td>\n",
       "      <td>241</td>\n",
       "      <td>197</td>\n",
       "      <td>81.7</td>\n",
       "    </tr>\n",
       "    <tr>\n",
       "      <th>5</th>\n",
       "      <td>82</td>\n",
       "      <td>79</td>\n",
       "      <td>96.3</td>\n",
       "      <td>141</td>\n",
       "      <td>125</td>\n",
       "      <td>88.7</td>\n",
       "    </tr>\n",
       "    <tr>\n",
       "      <th>6</th>\n",
       "      <td>86</td>\n",
       "      <td>81</td>\n",
       "      <td>94.2</td>\n",
       "      <td>167</td>\n",
       "      <td>139</td>\n",
       "      <td>83.2</td>\n",
       "    </tr>\n",
       "    <tr>\n",
       "      <th>7</th>\n",
       "      <td>99</td>\n",
       "      <td>98</td>\n",
       "      <td>99.0</td>\n",
       "      <td>205</td>\n",
       "      <td>175</td>\n",
       "      <td>85.4</td>\n",
       "    </tr>\n",
       "    <tr>\n",
       "      <th>8</th>\n",
       "      <td>69</td>\n",
       "      <td>67</td>\n",
       "      <td>97.1</td>\n",
       "      <td>101</td>\n",
       "      <td>78</td>\n",
       "      <td>77.2</td>\n",
       "    </tr>\n",
       "    <tr>\n",
       "      <th>9</th>\n",
       "      <td>73</td>\n",
       "      <td>67</td>\n",
       "      <td>91.8</td>\n",
       "      <td>161</td>\n",
       "      <td>133</td>\n",
       "      <td>82.6</td>\n",
       "    </tr>\n",
       "    <tr>\n",
       "      <th>10</th>\n",
       "      <td>49</td>\n",
       "      <td>46</td>\n",
       "      <td>93.9</td>\n",
       "      <td>85</td>\n",
       "      <td>71</td>\n",
       "      <td>83.5</td>\n",
       "    </tr>\n",
       "    <tr>\n",
       "      <th>11</th>\n",
       "      <td>100</td>\n",
       "      <td>96</td>\n",
       "      <td>96.0</td>\n",
       "      <td>256</td>\n",
       "      <td>221</td>\n",
       "      <td>86.3</td>\n",
       "    </tr>\n",
       "    <tr>\n",
       "      <th>12</th>\n",
       "      <td>61</td>\n",
       "      <td>60</td>\n",
       "      <td>98.4</td>\n",
       "      <td>78</td>\n",
       "      <td>65</td>\n",
       "      <td>83.3</td>\n",
       "    </tr>\n",
       "    <tr>\n",
       "      <th>13</th>\n",
       "      <td>132</td>\n",
       "      <td>128</td>\n",
       "      <td>97.0</td>\n",
       "      <td>258</td>\n",
       "      <td>226</td>\n",
       "      <td>87.6</td>\n",
       "    </tr>\n",
       "    <tr>\n",
       "      <th>14</th>\n",
       "      <td>110</td>\n",
       "      <td>107</td>\n",
       "      <td>97.3</td>\n",
       "      <td>186</td>\n",
       "      <td>159</td>\n",
       "      <td>85.5</td>\n",
       "    </tr>\n",
       "    <tr>\n",
       "      <th>15</th>\n",
       "      <td>62</td>\n",
       "      <td>61</td>\n",
       "      <td>98.4</td>\n",
       "      <td>132</td>\n",
       "      <td>109</td>\n",
       "      <td>82.6</td>\n",
       "    </tr>\n",
       "    <tr>\n",
       "      <th>16</th>\n",
       "      <td>82</td>\n",
       "      <td>80</td>\n",
       "      <td>97.6</td>\n",
       "      <td>141</td>\n",
       "      <td>120</td>\n",
       "      <td>85.1</td>\n",
       "    </tr>\n",
       "    <tr>\n",
       "      <th>17</th>\n",
       "      <td>52</td>\n",
       "      <td>48</td>\n",
       "      <td>92.3</td>\n",
       "      <td>73</td>\n",
       "      <td>52</td>\n",
       "      <td>71.2</td>\n",
       "    </tr>\n",
       "    <tr>\n",
       "      <th>18</th>\n",
       "      <td>43</td>\n",
       "      <td>39</td>\n",
       "      <td>90.7</td>\n",
       "      <td>67</td>\n",
       "      <td>54</td>\n",
       "      <td>80.6</td>\n",
       "    </tr>\n",
       "    <tr>\n",
       "      <th>19</th>\n",
       "      <td>87</td>\n",
       "      <td>85</td>\n",
       "      <td>97.7</td>\n",
       "      <td>126</td>\n",
       "      <td>110</td>\n",
       "      <td>87.3</td>\n",
       "    </tr>\n",
       "    <tr>\n",
       "      <th>20</th>\n",
       "      <td>73</td>\n",
       "      <td>71</td>\n",
       "      <td>97.3</td>\n",
       "      <td>137</td>\n",
       "      <td>117</td>\n",
       "      <td>85.4</td>\n",
       "    </tr>\n",
       "    <tr>\n",
       "      <th>21</th>\n",
       "      <td>93</td>\n",
       "      <td>88</td>\n",
       "      <td>94.6</td>\n",
       "      <td>214</td>\n",
       "      <td>196</td>\n",
       "      <td>91.6</td>\n",
       "    </tr>\n",
       "    <tr>\n",
       "      <th>22</th>\n",
       "      <td>80</td>\n",
       "      <td>77</td>\n",
       "      <td>96.2</td>\n",
       "      <td>130</td>\n",
       "      <td>109</td>\n",
       "      <td>83.8</td>\n",
       "    </tr>\n",
       "    <tr>\n",
       "      <th>23</th>\n",
       "      <td>100</td>\n",
       "      <td>95</td>\n",
       "      <td>95.0</td>\n",
       "      <td>161</td>\n",
       "      <td>134</td>\n",
       "      <td>83.2</td>\n",
       "    </tr>\n",
       "    <tr>\n",
       "      <th>24</th>\n",
       "      <td>90</td>\n",
       "      <td>88</td>\n",
       "      <td>97.8</td>\n",
       "      <td>176</td>\n",
       "      <td>149</td>\n",
       "      <td>84.7</td>\n",
       "    </tr>\n",
       "    <tr>\n",
       "      <th>25</th>\n",
       "      <td>109</td>\n",
       "      <td>105</td>\n",
       "      <td>96.3</td>\n",
       "      <td>211</td>\n",
       "      <td>176</td>\n",
       "      <td>83.4</td>\n",
       "    </tr>\n",
       "    <tr>\n",
       "      <th>26</th>\n",
       "      <td>81</td>\n",
       "      <td>80</td>\n",
       "      <td>98.8</td>\n",
       "      <td>144</td>\n",
       "      <td>115</td>\n",
       "      <td>79.9</td>\n",
       "    </tr>\n",
       "  </tbody>\n",
       "</table>\n",
       "</div>"
      ],
      "text/plain": [
       "   후방패스             횡패스           \n",
       "     시도   성공   성공%   시도   성공   성공%\n",
       "0    43   40  93.0   99   63  63.6\n",
       "1    55   53  96.4  126  112  88.9\n",
       "2    86   81  94.2  181  150  82.9\n",
       "3    89   86  96.6  231  206  89.2\n",
       "4   118  114  96.6  241  197  81.7\n",
       "5    82   79  96.3  141  125  88.7\n",
       "6    86   81  94.2  167  139  83.2\n",
       "7    99   98  99.0  205  175  85.4\n",
       "8    69   67  97.1  101   78  77.2\n",
       "9    73   67  91.8  161  133  82.6\n",
       "10   49   46  93.9   85   71  83.5\n",
       "11  100   96  96.0  256  221  86.3\n",
       "12   61   60  98.4   78   65  83.3\n",
       "13  132  128  97.0  258  226  87.6\n",
       "14  110  107  97.3  186  159  85.5\n",
       "15   62   61  98.4  132  109  82.6\n",
       "16   82   80  97.6  141  120  85.1\n",
       "17   52   48  92.3   73   52  71.2\n",
       "18   43   39  90.7   67   54  80.6\n",
       "19   87   85  97.7  126  110  87.3\n",
       "20   73   71  97.3  137  117  85.4\n",
       "21   93   88  94.6  214  196  91.6\n",
       "22   80   77  96.2  130  109  83.8\n",
       "23  100   95  95.0  161  134  83.2\n",
       "24   90   88  97.8  176  149  84.7\n",
       "25  109  105  96.3  211  176  83.4\n",
       "26   81   80  98.8  144  115  79.9"
      ]
     },
     "metadata": {},
     "execution_count": 69
    }
   ],
   "metadata": {}
  },
  {
   "cell_type": "code",
   "execution_count": 91,
   "source": [
    "import os"
   ],
   "outputs": [],
   "metadata": {}
  },
  {
   "cell_type": "code",
   "execution_count": 26,
   "source": [
    "def search(year):\n",
    "    yearsel = driver.find_element_by_css_selector('#selectYear')\n",
    "    yearsel.send_keys(year)\n",
    "    sleep(0.4)\n",
    "    option = driver.find_elements_by_css_selector('#selectMeetSeq > option')\n",
    "    league = [i.text for i in option if i.text!='전체']\n",
    "    print(league)\n",
    "    for lg in league:\n",
    "        leaguesel = driver.find_element_by_css_selector('#selectMeetSeq')\n",
    "        leaguesel.send_keys(lg)\n",
    "        sleep(0.4)\n",
    "        option = driver.find_elements_by_css_selector('#selectTeamId > option')\n",
    "        teams = [i.text for i in option if i.text not in{'전체','선택'}]\n",
    "        print(teams)\n",
    "        for tm in teams:\n",
    "            teamsel = driver.find_element_by_css_selector('#selectTeamId')\n",
    "            teamsel.send_keys(tm)\n",
    "            sleep(0.4)\n",
    "            try:\n",
    "                searchbutten = driver.find_element_by_css_selector('#btnSearch')\n",
    "                searchbutten.click()\n",
    "                sleep(0.7)\n",
    "                hi = pd.read_html(str(get_table()[0]))[0]\n",
    "                filepath = f'data/perteam/{year}/{lg}'\n",
    "                filepath = filepath.replace(' ', '\\ ')\n",
    "                os.system(f'mkdir -p {filepath}')\n",
    "                sleep(0.1)\n",
    "                hi.to_excel(f'data/perteam/{year}/{lg}/{tm}.xlsx')\n",
    "            except:\n",
    "                print('\\n\\n\\n\\n오류발생!!!')\n",
    "        \n",
    "    "
   ],
   "outputs": [],
   "metadata": {}
  },
  {
   "cell_type": "code",
   "execution_count": null,
   "source": [
    "for i in range(2019,2023):\n",
    "    search(str(i))"
   ],
   "outputs": [],
   "metadata": {}
  },
  {
   "cell_type": "code",
   "execution_count": 33,
   "source": [
    "def searchperson(year):\n",
    "    count = 0\n",
    "    yearsel = driver.find_element_by_css_selector('#selectYear')\n",
    "    yearsel.send_keys(year)\n",
    "    sleep(0.6)\n",
    "    option = driver.find_elements_by_css_selector('#selectMeetSeq > option')\n",
    "    league = [i.text for i in option if i.text!='전체']\n",
    "    print(league)\n",
    "    for lg in league:\n",
    "        leaguesel = driver.find_element_by_css_selector('#selectMeetSeq')\n",
    "        leaguesel.send_keys(lg)\n",
    "        sleep(0.4)\n",
    "        option = driver.find_elements_by_css_selector('#selectTeamId > option')\n",
    "        teams = [i.text for i in option if i.text not in{'전체','선택'}]\n",
    "        print(teams)\n",
    "        for tm in teams:\n",
    "            teamsel = driver.find_element_by_css_selector('#selectTeamId')\n",
    "            teamsel.send_keys(tm)\n",
    "            sleep(0.4)\n",
    "            gamessel = driver.find_elements_by_css_selector('#selectGameId > option')\n",
    "            games = [i.text for i in gamessel if i.text not in {'전체','선택'}]\n",
    "            for gm in games:\n",
    "                game = driver.find_element_by_css_selector('#selectGameId')\n",
    "                game.send_keys(gm)\n",
    "                sleep(0.4)\n",
    "                try:\n",
    "                    searchbutten = driver.find_element_by_css_selector('#btnSearch')\n",
    "                    searchbutten.click()\n",
    "                    sleep(0.7)\n",
    "                    hi = pd.read_html(str(get_table()[0]))[0]\n",
    "                    filepath = f'data/perperson/{year}/{lg}/{tm}'\n",
    "                    filepath = filepath.replace(' ', '\\ ')\n",
    "                    os.system(f'mkdir -p {filepath}')\n",
    "                    sleep(0.1)\n",
    "                    print(gm)\n",
    "                    gm = gm.replace('/','')\n",
    "                    hi.to_excel(f'data/perperson/{year}/{lg}/{tm}/{gm}.xlsx')\n",
    "                except:\n",
    "                    count += 1\n",
    "                    print(f'총 오류 {count}개')\n",
    "\n",
    "    print(f'총 오류 {count}개')\n",
    "    return count\n",
    "        "
   ],
   "outputs": [],
   "metadata": {}
  },
  {
   "cell_type": "code",
   "execution_count": 22,
   "source": [
    "def debugperson(year):\n",
    "    yearsel = driver.find_element_by_css_selector('#selectYear')\n",
    "    yearsel.send_keys(year)\n",
    "    sleep(0.1)\n",
    "    option = driver.find_elements_by_css_selector('#selectMeetSeq > option')\n",
    "    league = [i.text for i in option if i.text!='전체' and ('2018' not in i.text) and ('2019' not in i.text) and ('2020' not in i.text)]\n",
    "    print(league)\n",
    "    league = ['하나원큐 K리그2']\n",
    "    for lg in league:\n",
    "        leaguesel = driver.find_element_by_css_selector('#selectMeetSeq')\n",
    "        leaguesel.send_keys(lg)\n",
    "        sleep(0.4)\n",
    "        option = driver.find_elements_by_css_selector('#selectTeamId > option')\n",
    "        teams = [i.text for i in option if i.text not in{'전체','선택'}]\n",
    "        # print(teams)\n",
    "        for tm in teams:\n",
    "            teamsel = driver.find_element_by_css_selector('#selectTeamId')\n",
    "            teamsel.send_keys(tm)\n",
    "            sleep(0.4)\n",
    "            gamessel = driver.find_elements_by_css_selector('#selectGameId > option')\n",
    "            games = [i.text for i in gamessel if (i.text not in {'전체','선택'})]\n",
    "            # print(games)\n",
    "            for gm in games:\n",
    "                game = driver.find_element_by_css_selector('#selectGameId')\n",
    "                game.send_keys(gm)\n",
    "                sleep(0.4)\n",
    "                try:\n",
    "                    searchbutten = driver.find_element_by_css_selector('#btnSearch')\n",
    "                    searchbutten.click()\n",
    "                    sleep(0.7)\n",
    "                    hi = pd.read_html(str(get_table()[0]))[0]\n",
    "                    filepath = f'data/perperson/{year}/{lg}/{tm}'\n",
    "                    filepath = filepath.replace(' ', '\\ ')\n",
    "                    os.system(f'mkdir -p {filepath}')\n",
    "                    sleep(0.1)\n",
    "                    # print(gm)\n",
    "                    gm = gm.replace('/','')\n",
    "                    hi.to_excel(f'data/perperson/{year}/{lg}/{tm}/{gm}.xlsx')\n",
    "                except:\n",
    "                    pass\n",
    "        "
   ],
   "outputs": [],
   "metadata": {}
  },
  {
   "cell_type": "code",
   "execution_count": 23,
   "source": [
    "debugperson('2021')"
   ],
   "outputs": [
    {
     "output_type": "stream",
     "name": "stderr",
     "text": [
      "/tmp/ipykernel_46587/1885124001.py:2: DeprecationWarning: find_element_by_css_selector is deprecated. Please use find_element(by=By.CSS_SELECTOR, value=css_selector) instead\n",
      "  yearsel = driver.find_element_by_css_selector('#selectYear')\n",
      "/tmp/ipykernel_46587/1885124001.py:5: DeprecationWarning: find_elements_by_css_selector is deprecated. Please use find_elements(by=By.CSS_SELECTOR, value=css_selector) instead\n",
      "  option = driver.find_elements_by_css_selector('#selectMeetSeq > option')\n"
     ]
    },
    {
     "output_type": "stream",
     "name": "stdout",
     "text": [
      "['하나원큐 K리그1', '하나원큐 K리그2', 'K리그 승강PO 2021']\n"
     ]
    },
    {
     "output_type": "stream",
     "name": "stderr",
     "text": [
      "/tmp/ipykernel_46587/1885124001.py:10: DeprecationWarning: find_element_by_css_selector is deprecated. Please use find_element(by=By.CSS_SELECTOR, value=css_selector) instead\n",
      "  leaguesel = driver.find_element_by_css_selector('#selectMeetSeq')\n",
      "/tmp/ipykernel_46587/1885124001.py:13: DeprecationWarning: find_elements_by_css_selector is deprecated. Please use find_elements(by=By.CSS_SELECTOR, value=css_selector) instead\n",
      "  option = driver.find_elements_by_css_selector('#selectTeamId > option')\n",
      "/tmp/ipykernel_46587/1885124001.py:17: DeprecationWarning: find_element_by_css_selector is deprecated. Please use find_element(by=By.CSS_SELECTOR, value=css_selector) instead\n",
      "  teamsel = driver.find_element_by_css_selector('#selectTeamId')\n",
      "/tmp/ipykernel_46587/1885124001.py:20: DeprecationWarning: find_elements_by_css_selector is deprecated. Please use find_elements(by=By.CSS_SELECTOR, value=css_selector) instead\n",
      "  gamessel = driver.find_elements_by_css_selector('#selectGameId > option')\n",
      "/tmp/ipykernel_46587/1885124001.py:24: DeprecationWarning: find_element_by_css_selector is deprecated. Please use find_element(by=By.CSS_SELECTOR, value=css_selector) instead\n",
      "  game = driver.find_element_by_css_selector('#selectGameId')\n",
      "/tmp/ipykernel_46587/1885124001.py:28: DeprecationWarning: find_element_by_css_selector is deprecated. Please use find_element(by=By.CSS_SELECTOR, value=css_selector) instead\n",
      "  searchbutten = driver.find_element_by_css_selector('#btnSearch')\n",
      "/tmp/ipykernel_46587/1885124001.py:24: DeprecationWarning: find_element_by_css_selector is deprecated. Please use find_element(by=By.CSS_SELECTOR, value=css_selector) instead\n",
      "  game = driver.find_element_by_css_selector('#selectGameId')\n",
      "/tmp/ipykernel_46587/1885124001.py:28: DeprecationWarning: find_element_by_css_selector is deprecated. Please use find_element(by=By.CSS_SELECTOR, value=css_selector) instead\n",
      "  searchbutten = driver.find_element_by_css_selector('#btnSearch')\n",
      "/tmp/ipykernel_46587/1885124001.py:24: DeprecationWarning: find_element_by_css_selector is deprecated. Please use find_element(by=By.CSS_SELECTOR, value=css_selector) instead\n",
      "  game = driver.find_element_by_css_selector('#selectGameId')\n",
      "/tmp/ipykernel_46587/1885124001.py:28: DeprecationWarning: find_element_by_css_selector is deprecated. Please use find_element(by=By.CSS_SELECTOR, value=css_selector) instead\n",
      "  searchbutten = driver.find_element_by_css_selector('#btnSearch')\n",
      "/tmp/ipykernel_46587/1885124001.py:24: DeprecationWarning: find_element_by_css_selector is deprecated. Please use find_element(by=By.CSS_SELECTOR, value=css_selector) instead\n",
      "  game = driver.find_element_by_css_selector('#selectGameId')\n",
      "/tmp/ipykernel_46587/1885124001.py:28: DeprecationWarning: find_element_by_css_selector is deprecated. Please use find_element(by=By.CSS_SELECTOR, value=css_selector) instead\n",
      "  searchbutten = driver.find_element_by_css_selector('#btnSearch')\n",
      "/tmp/ipykernel_46587/1885124001.py:24: DeprecationWarning: find_element_by_css_selector is deprecated. Please use find_element(by=By.CSS_SELECTOR, value=css_selector) instead\n",
      "  game = driver.find_element_by_css_selector('#selectGameId')\n",
      "/tmp/ipykernel_46587/1885124001.py:28: DeprecationWarning: find_element_by_css_selector is deprecated. Please use find_element(by=By.CSS_SELECTOR, value=css_selector) instead\n",
      "  searchbutten = driver.find_element_by_css_selector('#btnSearch')\n",
      "/tmp/ipykernel_46587/1885124001.py:24: DeprecationWarning: find_element_by_css_selector is deprecated. Please use find_element(by=By.CSS_SELECTOR, value=css_selector) instead\n",
      "  game = driver.find_element_by_css_selector('#selectGameId')\n",
      "/tmp/ipykernel_46587/1885124001.py:28: DeprecationWarning: find_element_by_css_selector is deprecated. Please use find_element(by=By.CSS_SELECTOR, value=css_selector) instead\n",
      "  searchbutten = driver.find_element_by_css_selector('#btnSearch')\n",
      "/tmp/ipykernel_46587/1885124001.py:24: DeprecationWarning: find_element_by_css_selector is deprecated. Please use find_element(by=By.CSS_SELECTOR, value=css_selector) instead\n",
      "  game = driver.find_element_by_css_selector('#selectGameId')\n",
      "/tmp/ipykernel_46587/1885124001.py:28: DeprecationWarning: find_element_by_css_selector is deprecated. Please use find_element(by=By.CSS_SELECTOR, value=css_selector) instead\n",
      "  searchbutten = driver.find_element_by_css_selector('#btnSearch')\n",
      "/tmp/ipykernel_46587/1885124001.py:24: DeprecationWarning: find_element_by_css_selector is deprecated. Please use find_element(by=By.CSS_SELECTOR, value=css_selector) instead\n",
      "  game = driver.find_element_by_css_selector('#selectGameId')\n",
      "/tmp/ipykernel_46587/1885124001.py:28: DeprecationWarning: find_element_by_css_selector is deprecated. Please use find_element(by=By.CSS_SELECTOR, value=css_selector) instead\n",
      "  searchbutten = driver.find_element_by_css_selector('#btnSearch')\n",
      "/tmp/ipykernel_46587/1885124001.py:24: DeprecationWarning: find_element_by_css_selector is deprecated. Please use find_element(by=By.CSS_SELECTOR, value=css_selector) instead\n",
      "  game = driver.find_element_by_css_selector('#selectGameId')\n",
      "/tmp/ipykernel_46587/1885124001.py:28: DeprecationWarning: find_element_by_css_selector is deprecated. Please use find_element(by=By.CSS_SELECTOR, value=css_selector) instead\n",
      "  searchbutten = driver.find_element_by_css_selector('#btnSearch')\n",
      "/tmp/ipykernel_46587/1885124001.py:24: DeprecationWarning: find_element_by_css_selector is deprecated. Please use find_element(by=By.CSS_SELECTOR, value=css_selector) instead\n",
      "  game = driver.find_element_by_css_selector('#selectGameId')\n",
      "/tmp/ipykernel_46587/1885124001.py:28: DeprecationWarning: find_element_by_css_selector is deprecated. Please use find_element(by=By.CSS_SELECTOR, value=css_selector) instead\n",
      "  searchbutten = driver.find_element_by_css_selector('#btnSearch')\n",
      "/tmp/ipykernel_46587/1885124001.py:24: DeprecationWarning: find_element_by_css_selector is deprecated. Please use find_element(by=By.CSS_SELECTOR, value=css_selector) instead\n",
      "  game = driver.find_element_by_css_selector('#selectGameId')\n",
      "/tmp/ipykernel_46587/1885124001.py:28: DeprecationWarning: find_element_by_css_selector is deprecated. Please use find_element(by=By.CSS_SELECTOR, value=css_selector) instead\n",
      "  searchbutten = driver.find_element_by_css_selector('#btnSearch')\n",
      "/tmp/ipykernel_46587/1885124001.py:24: DeprecationWarning: find_element_by_css_selector is deprecated. Please use find_element(by=By.CSS_SELECTOR, value=css_selector) instead\n",
      "  game = driver.find_element_by_css_selector('#selectGameId')\n",
      "/tmp/ipykernel_46587/1885124001.py:28: DeprecationWarning: find_element_by_css_selector is deprecated. Please use find_element(by=By.CSS_SELECTOR, value=css_selector) instead\n",
      "  searchbutten = driver.find_element_by_css_selector('#btnSearch')\n",
      "/tmp/ipykernel_46587/1885124001.py:24: DeprecationWarning: find_element_by_css_selector is deprecated. Please use find_element(by=By.CSS_SELECTOR, value=css_selector) instead\n",
      "  game = driver.find_element_by_css_selector('#selectGameId')\n",
      "/tmp/ipykernel_46587/1885124001.py:28: DeprecationWarning: find_element_by_css_selector is deprecated. Please use find_element(by=By.CSS_SELECTOR, value=css_selector) instead\n",
      "  searchbutten = driver.find_element_by_css_selector('#btnSearch')\n",
      "/tmp/ipykernel_46587/1885124001.py:24: DeprecationWarning: find_element_by_css_selector is deprecated. Please use find_element(by=By.CSS_SELECTOR, value=css_selector) instead\n",
      "  game = driver.find_element_by_css_selector('#selectGameId')\n",
      "/tmp/ipykernel_46587/1885124001.py:28: DeprecationWarning: find_element_by_css_selector is deprecated. Please use find_element(by=By.CSS_SELECTOR, value=css_selector) instead\n",
      "  searchbutten = driver.find_element_by_css_selector('#btnSearch')\n",
      "/tmp/ipykernel_46587/1885124001.py:24: DeprecationWarning: find_element_by_css_selector is deprecated. Please use find_element(by=By.CSS_SELECTOR, value=css_selector) instead\n",
      "  game = driver.find_element_by_css_selector('#selectGameId')\n",
      "/tmp/ipykernel_46587/1885124001.py:28: DeprecationWarning: find_element_by_css_selector is deprecated. Please use find_element(by=By.CSS_SELECTOR, value=css_selector) instead\n",
      "  searchbutten = driver.find_element_by_css_selector('#btnSearch')\n",
      "/tmp/ipykernel_46587/1885124001.py:24: DeprecationWarning: find_element_by_css_selector is deprecated. Please use find_element(by=By.CSS_SELECTOR, value=css_selector) instead\n",
      "  game = driver.find_element_by_css_selector('#selectGameId')\n",
      "/tmp/ipykernel_46587/1885124001.py:28: DeprecationWarning: find_element_by_css_selector is deprecated. Please use find_element(by=By.CSS_SELECTOR, value=css_selector) instead\n",
      "  searchbutten = driver.find_element_by_css_selector('#btnSearch')\n",
      "/tmp/ipykernel_46587/1885124001.py:24: DeprecationWarning: find_element_by_css_selector is deprecated. Please use find_element(by=By.CSS_SELECTOR, value=css_selector) instead\n",
      "  game = driver.find_element_by_css_selector('#selectGameId')\n",
      "/tmp/ipykernel_46587/1885124001.py:28: DeprecationWarning: find_element_by_css_selector is deprecated. Please use find_element(by=By.CSS_SELECTOR, value=css_selector) instead\n",
      "  searchbutten = driver.find_element_by_css_selector('#btnSearch')\n",
      "/tmp/ipykernel_46587/1885124001.py:24: DeprecationWarning: find_element_by_css_selector is deprecated. Please use find_element(by=By.CSS_SELECTOR, value=css_selector) instead\n",
      "  game = driver.find_element_by_css_selector('#selectGameId')\n",
      "/tmp/ipykernel_46587/1885124001.py:28: DeprecationWarning: find_element_by_css_selector is deprecated. Please use find_element(by=By.CSS_SELECTOR, value=css_selector) instead\n",
      "  searchbutten = driver.find_element_by_css_selector('#btnSearch')\n",
      "/tmp/ipykernel_46587/1885124001.py:24: DeprecationWarning: find_element_by_css_selector is deprecated. Please use find_element(by=By.CSS_SELECTOR, value=css_selector) instead\n",
      "  game = driver.find_element_by_css_selector('#selectGameId')\n",
      "/tmp/ipykernel_46587/1885124001.py:28: DeprecationWarning: find_element_by_css_selector is deprecated. Please use find_element(by=By.CSS_SELECTOR, value=css_selector) instead\n",
      "  searchbutten = driver.find_element_by_css_selector('#btnSearch')\n",
      "/tmp/ipykernel_46587/1885124001.py:24: DeprecationWarning: find_element_by_css_selector is deprecated. Please use find_element(by=By.CSS_SELECTOR, value=css_selector) instead\n",
      "  game = driver.find_element_by_css_selector('#selectGameId')\n",
      "/tmp/ipykernel_46587/1885124001.py:28: DeprecationWarning: find_element_by_css_selector is deprecated. Please use find_element(by=By.CSS_SELECTOR, value=css_selector) instead\n",
      "  searchbutten = driver.find_element_by_css_selector('#btnSearch')\n",
      "/tmp/ipykernel_46587/1885124001.py:24: DeprecationWarning: find_element_by_css_selector is deprecated. Please use find_element(by=By.CSS_SELECTOR, value=css_selector) instead\n",
      "  game = driver.find_element_by_css_selector('#selectGameId')\n",
      "/tmp/ipykernel_46587/1885124001.py:28: DeprecationWarning: find_element_by_css_selector is deprecated. Please use find_element(by=By.CSS_SELECTOR, value=css_selector) instead\n",
      "  searchbutten = driver.find_element_by_css_selector('#btnSearch')\n",
      "/tmp/ipykernel_46587/1885124001.py:24: DeprecationWarning: find_element_by_css_selector is deprecated. Please use find_element(by=By.CSS_SELECTOR, value=css_selector) instead\n",
      "  game = driver.find_element_by_css_selector('#selectGameId')\n",
      "/tmp/ipykernel_46587/1885124001.py:28: DeprecationWarning: find_element_by_css_selector is deprecated. Please use find_element(by=By.CSS_SELECTOR, value=css_selector) instead\n",
      "  searchbutten = driver.find_element_by_css_selector('#btnSearch')\n",
      "/tmp/ipykernel_46587/1885124001.py:24: DeprecationWarning: find_element_by_css_selector is deprecated. Please use find_element(by=By.CSS_SELECTOR, value=css_selector) instead\n",
      "  game = driver.find_element_by_css_selector('#selectGameId')\n",
      "/tmp/ipykernel_46587/1885124001.py:28: DeprecationWarning: find_element_by_css_selector is deprecated. Please use find_element(by=By.CSS_SELECTOR, value=css_selector) instead\n",
      "  searchbutten = driver.find_element_by_css_selector('#btnSearch')\n",
      "/tmp/ipykernel_46587/1885124001.py:24: DeprecationWarning: find_element_by_css_selector is deprecated. Please use find_element(by=By.CSS_SELECTOR, value=css_selector) instead\n",
      "  game = driver.find_element_by_css_selector('#selectGameId')\n",
      "/tmp/ipykernel_46587/1885124001.py:28: DeprecationWarning: find_element_by_css_selector is deprecated. Please use find_element(by=By.CSS_SELECTOR, value=css_selector) instead\n",
      "  searchbutten = driver.find_element_by_css_selector('#btnSearch')\n",
      "/tmp/ipykernel_46587/1885124001.py:24: DeprecationWarning: find_element_by_css_selector is deprecated. Please use find_element(by=By.CSS_SELECTOR, value=css_selector) instead\n",
      "  game = driver.find_element_by_css_selector('#selectGameId')\n",
      "/tmp/ipykernel_46587/1885124001.py:28: DeprecationWarning: find_element_by_css_selector is deprecated. Please use find_element(by=By.CSS_SELECTOR, value=css_selector) instead\n",
      "  searchbutten = driver.find_element_by_css_selector('#btnSearch')\n",
      "/tmp/ipykernel_46587/1885124001.py:24: DeprecationWarning: find_element_by_css_selector is deprecated. Please use find_element(by=By.CSS_SELECTOR, value=css_selector) instead\n",
      "  game = driver.find_element_by_css_selector('#selectGameId')\n",
      "/tmp/ipykernel_46587/1885124001.py:28: DeprecationWarning: find_element_by_css_selector is deprecated. Please use find_element(by=By.CSS_SELECTOR, value=css_selector) instead\n",
      "  searchbutten = driver.find_element_by_css_selector('#btnSearch')\n",
      "/tmp/ipykernel_46587/1885124001.py:24: DeprecationWarning: find_element_by_css_selector is deprecated. Please use find_element(by=By.CSS_SELECTOR, value=css_selector) instead\n",
      "  game = driver.find_element_by_css_selector('#selectGameId')\n",
      "/tmp/ipykernel_46587/1885124001.py:28: DeprecationWarning: find_element_by_css_selector is deprecated. Please use find_element(by=By.CSS_SELECTOR, value=css_selector) instead\n",
      "  searchbutten = driver.find_element_by_css_selector('#btnSearch')\n",
      "/tmp/ipykernel_46587/1885124001.py:24: DeprecationWarning: find_element_by_css_selector is deprecated. Please use find_element(by=By.CSS_SELECTOR, value=css_selector) instead\n",
      "  game = driver.find_element_by_css_selector('#selectGameId')\n",
      "/tmp/ipykernel_46587/1885124001.py:28: DeprecationWarning: find_element_by_css_selector is deprecated. Please use find_element(by=By.CSS_SELECTOR, value=css_selector) instead\n",
      "  searchbutten = driver.find_element_by_css_selector('#btnSearch')\n",
      "/tmp/ipykernel_46587/1885124001.py:24: DeprecationWarning: find_element_by_css_selector is deprecated. Please use find_element(by=By.CSS_SELECTOR, value=css_selector) instead\n",
      "  game = driver.find_element_by_css_selector('#selectGameId')\n",
      "/tmp/ipykernel_46587/1885124001.py:28: DeprecationWarning: find_element_by_css_selector is deprecated. Please use find_element(by=By.CSS_SELECTOR, value=css_selector) instead\n",
      "  searchbutten = driver.find_element_by_css_selector('#btnSearch')\n",
      "/tmp/ipykernel_46587/1885124001.py:24: DeprecationWarning: find_element_by_css_selector is deprecated. Please use find_element(by=By.CSS_SELECTOR, value=css_selector) instead\n",
      "  game = driver.find_element_by_css_selector('#selectGameId')\n",
      "/tmp/ipykernel_46587/1885124001.py:28: DeprecationWarning: find_element_by_css_selector is deprecated. Please use find_element(by=By.CSS_SELECTOR, value=css_selector) instead\n",
      "  searchbutten = driver.find_element_by_css_selector('#btnSearch')\n",
      "/tmp/ipykernel_46587/1885124001.py:24: DeprecationWarning: find_element_by_css_selector is deprecated. Please use find_element(by=By.CSS_SELECTOR, value=css_selector) instead\n",
      "  game = driver.find_element_by_css_selector('#selectGameId')\n",
      "/tmp/ipykernel_46587/1885124001.py:28: DeprecationWarning: find_element_by_css_selector is deprecated. Please use find_element(by=By.CSS_SELECTOR, value=css_selector) instead\n",
      "  searchbutten = driver.find_element_by_css_selector('#btnSearch')\n",
      "/tmp/ipykernel_46587/1885124001.py:24: DeprecationWarning: find_element_by_css_selector is deprecated. Please use find_element(by=By.CSS_SELECTOR, value=css_selector) instead\n",
      "  game = driver.find_element_by_css_selector('#selectGameId')\n",
      "/tmp/ipykernel_46587/1885124001.py:28: DeprecationWarning: find_element_by_css_selector is deprecated. Please use find_element(by=By.CSS_SELECTOR, value=css_selector) instead\n",
      "  searchbutten = driver.find_element_by_css_selector('#btnSearch')\n",
      "/tmp/ipykernel_46587/1885124001.py:24: DeprecationWarning: find_element_by_css_selector is deprecated. Please use find_element(by=By.CSS_SELECTOR, value=css_selector) instead\n",
      "  game = driver.find_element_by_css_selector('#selectGameId')\n",
      "/tmp/ipykernel_46587/1885124001.py:28: DeprecationWarning: find_element_by_css_selector is deprecated. Please use find_element(by=By.CSS_SELECTOR, value=css_selector) instead\n",
      "  searchbutten = driver.find_element_by_css_selector('#btnSearch')\n",
      "/tmp/ipykernel_46587/1885124001.py:24: DeprecationWarning: find_element_by_css_selector is deprecated. Please use find_element(by=By.CSS_SELECTOR, value=css_selector) instead\n",
      "  game = driver.find_element_by_css_selector('#selectGameId')\n",
      "/tmp/ipykernel_46587/1885124001.py:28: DeprecationWarning: find_element_by_css_selector is deprecated. Please use find_element(by=By.CSS_SELECTOR, value=css_selector) instead\n",
      "  searchbutten = driver.find_element_by_css_selector('#btnSearch')\n",
      "/tmp/ipykernel_46587/1885124001.py:24: DeprecationWarning: find_element_by_css_selector is deprecated. Please use find_element(by=By.CSS_SELECTOR, value=css_selector) instead\n",
      "  game = driver.find_element_by_css_selector('#selectGameId')\n",
      "/tmp/ipykernel_46587/1885124001.py:28: DeprecationWarning: find_element_by_css_selector is deprecated. Please use find_element(by=By.CSS_SELECTOR, value=css_selector) instead\n",
      "  searchbutten = driver.find_element_by_css_selector('#btnSearch')\n",
      "/tmp/ipykernel_46587/1885124001.py:24: DeprecationWarning: find_element_by_css_selector is deprecated. Please use find_element(by=By.CSS_SELECTOR, value=css_selector) instead\n",
      "  game = driver.find_element_by_css_selector('#selectGameId')\n",
      "/tmp/ipykernel_46587/1885124001.py:28: DeprecationWarning: find_element_by_css_selector is deprecated. Please use find_element(by=By.CSS_SELECTOR, value=css_selector) instead\n",
      "  searchbutten = driver.find_element_by_css_selector('#btnSearch')\n",
      "/tmp/ipykernel_46587/1885124001.py:17: DeprecationWarning: find_element_by_css_selector is deprecated. Please use find_element(by=By.CSS_SELECTOR, value=css_selector) instead\n",
      "  teamsel = driver.find_element_by_css_selector('#selectTeamId')\n",
      "/tmp/ipykernel_46587/1885124001.py:20: DeprecationWarning: find_elements_by_css_selector is deprecated. Please use find_elements(by=By.CSS_SELECTOR, value=css_selector) instead\n",
      "  gamessel = driver.find_elements_by_css_selector('#selectGameId > option')\n",
      "/tmp/ipykernel_46587/1885124001.py:24: DeprecationWarning: find_element_by_css_selector is deprecated. Please use find_element(by=By.CSS_SELECTOR, value=css_selector) instead\n",
      "  game = driver.find_element_by_css_selector('#selectGameId')\n",
      "/tmp/ipykernel_46587/1885124001.py:28: DeprecationWarning: find_element_by_css_selector is deprecated. Please use find_element(by=By.CSS_SELECTOR, value=css_selector) instead\n",
      "  searchbutten = driver.find_element_by_css_selector('#btnSearch')\n",
      "/tmp/ipykernel_46587/1885124001.py:24: DeprecationWarning: find_element_by_css_selector is deprecated. Please use find_element(by=By.CSS_SELECTOR, value=css_selector) instead\n",
      "  game = driver.find_element_by_css_selector('#selectGameId')\n",
      "/tmp/ipykernel_46587/1885124001.py:28: DeprecationWarning: find_element_by_css_selector is deprecated. Please use find_element(by=By.CSS_SELECTOR, value=css_selector) instead\n",
      "  searchbutten = driver.find_element_by_css_selector('#btnSearch')\n",
      "/tmp/ipykernel_46587/1885124001.py:24: DeprecationWarning: find_element_by_css_selector is deprecated. Please use find_element(by=By.CSS_SELECTOR, value=css_selector) instead\n",
      "  game = driver.find_element_by_css_selector('#selectGameId')\n",
      "/tmp/ipykernel_46587/1885124001.py:28: DeprecationWarning: find_element_by_css_selector is deprecated. Please use find_element(by=By.CSS_SELECTOR, value=css_selector) instead\n",
      "  searchbutten = driver.find_element_by_css_selector('#btnSearch')\n",
      "/tmp/ipykernel_46587/1885124001.py:24: DeprecationWarning: find_element_by_css_selector is deprecated. Please use find_element(by=By.CSS_SELECTOR, value=css_selector) instead\n",
      "  game = driver.find_element_by_css_selector('#selectGameId')\n",
      "/tmp/ipykernel_46587/1885124001.py:28: DeprecationWarning: find_element_by_css_selector is deprecated. Please use find_element(by=By.CSS_SELECTOR, value=css_selector) instead\n",
      "  searchbutten = driver.find_element_by_css_selector('#btnSearch')\n",
      "/tmp/ipykernel_46587/1885124001.py:24: DeprecationWarning: find_element_by_css_selector is deprecated. Please use find_element(by=By.CSS_SELECTOR, value=css_selector) instead\n",
      "  game = driver.find_element_by_css_selector('#selectGameId')\n",
      "/tmp/ipykernel_46587/1885124001.py:28: DeprecationWarning: find_element_by_css_selector is deprecated. Please use find_element(by=By.CSS_SELECTOR, value=css_selector) instead\n",
      "  searchbutten = driver.find_element_by_css_selector('#btnSearch')\n",
      "/tmp/ipykernel_46587/1885124001.py:24: DeprecationWarning: find_element_by_css_selector is deprecated. Please use find_element(by=By.CSS_SELECTOR, value=css_selector) instead\n",
      "  game = driver.find_element_by_css_selector('#selectGameId')\n",
      "/tmp/ipykernel_46587/1885124001.py:28: DeprecationWarning: find_element_by_css_selector is deprecated. Please use find_element(by=By.CSS_SELECTOR, value=css_selector) instead\n",
      "  searchbutten = driver.find_element_by_css_selector('#btnSearch')\n",
      "/tmp/ipykernel_46587/1885124001.py:24: DeprecationWarning: find_element_by_css_selector is deprecated. Please use find_element(by=By.CSS_SELECTOR, value=css_selector) instead\n",
      "  game = driver.find_element_by_css_selector('#selectGameId')\n",
      "/tmp/ipykernel_46587/1885124001.py:28: DeprecationWarning: find_element_by_css_selector is deprecated. Please use find_element(by=By.CSS_SELECTOR, value=css_selector) instead\n",
      "  searchbutten = driver.find_element_by_css_selector('#btnSearch')\n",
      "/tmp/ipykernel_46587/1885124001.py:24: DeprecationWarning: find_element_by_css_selector is deprecated. Please use find_element(by=By.CSS_SELECTOR, value=css_selector) instead\n",
      "  game = driver.find_element_by_css_selector('#selectGameId')\n",
      "/tmp/ipykernel_46587/1885124001.py:28: DeprecationWarning: find_element_by_css_selector is deprecated. Please use find_element(by=By.CSS_SELECTOR, value=css_selector) instead\n",
      "  searchbutten = driver.find_element_by_css_selector('#btnSearch')\n",
      "/tmp/ipykernel_46587/1885124001.py:24: DeprecationWarning: find_element_by_css_selector is deprecated. Please use find_element(by=By.CSS_SELECTOR, value=css_selector) instead\n",
      "  game = driver.find_element_by_css_selector('#selectGameId')\n",
      "/tmp/ipykernel_46587/1885124001.py:28: DeprecationWarning: find_element_by_css_selector is deprecated. Please use find_element(by=By.CSS_SELECTOR, value=css_selector) instead\n",
      "  searchbutten = driver.find_element_by_css_selector('#btnSearch')\n",
      "/tmp/ipykernel_46587/1885124001.py:24: DeprecationWarning: find_element_by_css_selector is deprecated. Please use find_element(by=By.CSS_SELECTOR, value=css_selector) instead\n",
      "  game = driver.find_element_by_css_selector('#selectGameId')\n",
      "/tmp/ipykernel_46587/1885124001.py:28: DeprecationWarning: find_element_by_css_selector is deprecated. Please use find_element(by=By.CSS_SELECTOR, value=css_selector) instead\n",
      "  searchbutten = driver.find_element_by_css_selector('#btnSearch')\n",
      "/tmp/ipykernel_46587/1885124001.py:24: DeprecationWarning: find_element_by_css_selector is deprecated. Please use find_element(by=By.CSS_SELECTOR, value=css_selector) instead\n",
      "  game = driver.find_element_by_css_selector('#selectGameId')\n",
      "/tmp/ipykernel_46587/1885124001.py:28: DeprecationWarning: find_element_by_css_selector is deprecated. Please use find_element(by=By.CSS_SELECTOR, value=css_selector) instead\n",
      "  searchbutten = driver.find_element_by_css_selector('#btnSearch')\n",
      "/tmp/ipykernel_46587/1885124001.py:24: DeprecationWarning: find_element_by_css_selector is deprecated. Please use find_element(by=By.CSS_SELECTOR, value=css_selector) instead\n",
      "  game = driver.find_element_by_css_selector('#selectGameId')\n",
      "/tmp/ipykernel_46587/1885124001.py:28: DeprecationWarning: find_element_by_css_selector is deprecated. Please use find_element(by=By.CSS_SELECTOR, value=css_selector) instead\n",
      "  searchbutten = driver.find_element_by_css_selector('#btnSearch')\n",
      "/tmp/ipykernel_46587/1885124001.py:24: DeprecationWarning: find_element_by_css_selector is deprecated. Please use find_element(by=By.CSS_SELECTOR, value=css_selector) instead\n",
      "  game = driver.find_element_by_css_selector('#selectGameId')\n",
      "/tmp/ipykernel_46587/1885124001.py:28: DeprecationWarning: find_element_by_css_selector is deprecated. Please use find_element(by=By.CSS_SELECTOR, value=css_selector) instead\n",
      "  searchbutten = driver.find_element_by_css_selector('#btnSearch')\n",
      "/tmp/ipykernel_46587/1885124001.py:24: DeprecationWarning: find_element_by_css_selector is deprecated. Please use find_element(by=By.CSS_SELECTOR, value=css_selector) instead\n",
      "  game = driver.find_element_by_css_selector('#selectGameId')\n",
      "/tmp/ipykernel_46587/1885124001.py:28: DeprecationWarning: find_element_by_css_selector is deprecated. Please use find_element(by=By.CSS_SELECTOR, value=css_selector) instead\n",
      "  searchbutten = driver.find_element_by_css_selector('#btnSearch')\n",
      "/tmp/ipykernel_46587/1885124001.py:24: DeprecationWarning: find_element_by_css_selector is deprecated. Please use find_element(by=By.CSS_SELECTOR, value=css_selector) instead\n",
      "  game = driver.find_element_by_css_selector('#selectGameId')\n",
      "/tmp/ipykernel_46587/1885124001.py:28: DeprecationWarning: find_element_by_css_selector is deprecated. Please use find_element(by=By.CSS_SELECTOR, value=css_selector) instead\n",
      "  searchbutten = driver.find_element_by_css_selector('#btnSearch')\n",
      "/tmp/ipykernel_46587/1885124001.py:24: DeprecationWarning: find_element_by_css_selector is deprecated. Please use find_element(by=By.CSS_SELECTOR, value=css_selector) instead\n",
      "  game = driver.find_element_by_css_selector('#selectGameId')\n",
      "/tmp/ipykernel_46587/1885124001.py:28: DeprecationWarning: find_element_by_css_selector is deprecated. Please use find_element(by=By.CSS_SELECTOR, value=css_selector) instead\n",
      "  searchbutten = driver.find_element_by_css_selector('#btnSearch')\n",
      "/tmp/ipykernel_46587/1885124001.py:24: DeprecationWarning: find_element_by_css_selector is deprecated. Please use find_element(by=By.CSS_SELECTOR, value=css_selector) instead\n",
      "  game = driver.find_element_by_css_selector('#selectGameId')\n",
      "/tmp/ipykernel_46587/1885124001.py:28: DeprecationWarning: find_element_by_css_selector is deprecated. Please use find_element(by=By.CSS_SELECTOR, value=css_selector) instead\n",
      "  searchbutten = driver.find_element_by_css_selector('#btnSearch')\n",
      "/tmp/ipykernel_46587/1885124001.py:24: DeprecationWarning: find_element_by_css_selector is deprecated. Please use find_element(by=By.CSS_SELECTOR, value=css_selector) instead\n",
      "  game = driver.find_element_by_css_selector('#selectGameId')\n",
      "/tmp/ipykernel_46587/1885124001.py:28: DeprecationWarning: find_element_by_css_selector is deprecated. Please use find_element(by=By.CSS_SELECTOR, value=css_selector) instead\n",
      "  searchbutten = driver.find_element_by_css_selector('#btnSearch')\n",
      "/tmp/ipykernel_46587/1885124001.py:24: DeprecationWarning: find_element_by_css_selector is deprecated. Please use find_element(by=By.CSS_SELECTOR, value=css_selector) instead\n",
      "  game = driver.find_element_by_css_selector('#selectGameId')\n",
      "/tmp/ipykernel_46587/1885124001.py:28: DeprecationWarning: find_element_by_css_selector is deprecated. Please use find_element(by=By.CSS_SELECTOR, value=css_selector) instead\n",
      "  searchbutten = driver.find_element_by_css_selector('#btnSearch')\n",
      "/tmp/ipykernel_46587/1885124001.py:24: DeprecationWarning: find_element_by_css_selector is deprecated. Please use find_element(by=By.CSS_SELECTOR, value=css_selector) instead\n",
      "  game = driver.find_element_by_css_selector('#selectGameId')\n",
      "/tmp/ipykernel_46587/1885124001.py:28: DeprecationWarning: find_element_by_css_selector is deprecated. Please use find_element(by=By.CSS_SELECTOR, value=css_selector) instead\n",
      "  searchbutten = driver.find_element_by_css_selector('#btnSearch')\n",
      "/tmp/ipykernel_46587/1885124001.py:24: DeprecationWarning: find_element_by_css_selector is deprecated. Please use find_element(by=By.CSS_SELECTOR, value=css_selector) instead\n",
      "  game = driver.find_element_by_css_selector('#selectGameId')\n",
      "/tmp/ipykernel_46587/1885124001.py:28: DeprecationWarning: find_element_by_css_selector is deprecated. Please use find_element(by=By.CSS_SELECTOR, value=css_selector) instead\n",
      "  searchbutten = driver.find_element_by_css_selector('#btnSearch')\n",
      "/tmp/ipykernel_46587/1885124001.py:24: DeprecationWarning: find_element_by_css_selector is deprecated. Please use find_element(by=By.CSS_SELECTOR, value=css_selector) instead\n",
      "  game = driver.find_element_by_css_selector('#selectGameId')\n",
      "/tmp/ipykernel_46587/1885124001.py:28: DeprecationWarning: find_element_by_css_selector is deprecated. Please use find_element(by=By.CSS_SELECTOR, value=css_selector) instead\n",
      "  searchbutten = driver.find_element_by_css_selector('#btnSearch')\n",
      "/tmp/ipykernel_46587/1885124001.py:24: DeprecationWarning: find_element_by_css_selector is deprecated. Please use find_element(by=By.CSS_SELECTOR, value=css_selector) instead\n",
      "  game = driver.find_element_by_css_selector('#selectGameId')\n",
      "/tmp/ipykernel_46587/1885124001.py:28: DeprecationWarning: find_element_by_css_selector is deprecated. Please use find_element(by=By.CSS_SELECTOR, value=css_selector) instead\n",
      "  searchbutten = driver.find_element_by_css_selector('#btnSearch')\n",
      "/tmp/ipykernel_46587/1885124001.py:24: DeprecationWarning: find_element_by_css_selector is deprecated. Please use find_element(by=By.CSS_SELECTOR, value=css_selector) instead\n",
      "  game = driver.find_element_by_css_selector('#selectGameId')\n",
      "/tmp/ipykernel_46587/1885124001.py:28: DeprecationWarning: find_element_by_css_selector is deprecated. Please use find_element(by=By.CSS_SELECTOR, value=css_selector) instead\n",
      "  searchbutten = driver.find_element_by_css_selector('#btnSearch')\n",
      "/tmp/ipykernel_46587/1885124001.py:24: DeprecationWarning: find_element_by_css_selector is deprecated. Please use find_element(by=By.CSS_SELECTOR, value=css_selector) instead\n",
      "  game = driver.find_element_by_css_selector('#selectGameId')\n",
      "/tmp/ipykernel_46587/1885124001.py:28: DeprecationWarning: find_element_by_css_selector is deprecated. Please use find_element(by=By.CSS_SELECTOR, value=css_selector) instead\n",
      "  searchbutten = driver.find_element_by_css_selector('#btnSearch')\n",
      "/tmp/ipykernel_46587/1885124001.py:24: DeprecationWarning: find_element_by_css_selector is deprecated. Please use find_element(by=By.CSS_SELECTOR, value=css_selector) instead\n",
      "  game = driver.find_element_by_css_selector('#selectGameId')\n",
      "/tmp/ipykernel_46587/1885124001.py:28: DeprecationWarning: find_element_by_css_selector is deprecated. Please use find_element(by=By.CSS_SELECTOR, value=css_selector) instead\n",
      "  searchbutten = driver.find_element_by_css_selector('#btnSearch')\n",
      "/tmp/ipykernel_46587/1885124001.py:24: DeprecationWarning: find_element_by_css_selector is deprecated. Please use find_element(by=By.CSS_SELECTOR, value=css_selector) instead\n",
      "  game = driver.find_element_by_css_selector('#selectGameId')\n",
      "/tmp/ipykernel_46587/1885124001.py:28: DeprecationWarning: find_element_by_css_selector is deprecated. Please use find_element(by=By.CSS_SELECTOR, value=css_selector) instead\n",
      "  searchbutten = driver.find_element_by_css_selector('#btnSearch')\n",
      "/tmp/ipykernel_46587/1885124001.py:24: DeprecationWarning: find_element_by_css_selector is deprecated. Please use find_element(by=By.CSS_SELECTOR, value=css_selector) instead\n",
      "  game = driver.find_element_by_css_selector('#selectGameId')\n",
      "/tmp/ipykernel_46587/1885124001.py:28: DeprecationWarning: find_element_by_css_selector is deprecated. Please use find_element(by=By.CSS_SELECTOR, value=css_selector) instead\n",
      "  searchbutten = driver.find_element_by_css_selector('#btnSearch')\n",
      "/tmp/ipykernel_46587/1885124001.py:24: DeprecationWarning: find_element_by_css_selector is deprecated. Please use find_element(by=By.CSS_SELECTOR, value=css_selector) instead\n",
      "  game = driver.find_element_by_css_selector('#selectGameId')\n",
      "/tmp/ipykernel_46587/1885124001.py:28: DeprecationWarning: find_element_by_css_selector is deprecated. Please use find_element(by=By.CSS_SELECTOR, value=css_selector) instead\n",
      "  searchbutten = driver.find_element_by_css_selector('#btnSearch')\n",
      "/tmp/ipykernel_46587/1885124001.py:24: DeprecationWarning: find_element_by_css_selector is deprecated. Please use find_element(by=By.CSS_SELECTOR, value=css_selector) instead\n",
      "  game = driver.find_element_by_css_selector('#selectGameId')\n",
      "/tmp/ipykernel_46587/1885124001.py:28: DeprecationWarning: find_element_by_css_selector is deprecated. Please use find_element(by=By.CSS_SELECTOR, value=css_selector) instead\n",
      "  searchbutten = driver.find_element_by_css_selector('#btnSearch')\n",
      "/tmp/ipykernel_46587/1885124001.py:24: DeprecationWarning: find_element_by_css_selector is deprecated. Please use find_element(by=By.CSS_SELECTOR, value=css_selector) instead\n",
      "  game = driver.find_element_by_css_selector('#selectGameId')\n",
      "/tmp/ipykernel_46587/1885124001.py:28: DeprecationWarning: find_element_by_css_selector is deprecated. Please use find_element(by=By.CSS_SELECTOR, value=css_selector) instead\n",
      "  searchbutten = driver.find_element_by_css_selector('#btnSearch')\n",
      "/tmp/ipykernel_46587/1885124001.py:24: DeprecationWarning: find_element_by_css_selector is deprecated. Please use find_element(by=By.CSS_SELECTOR, value=css_selector) instead\n",
      "  game = driver.find_element_by_css_selector('#selectGameId')\n",
      "/tmp/ipykernel_46587/1885124001.py:28: DeprecationWarning: find_element_by_css_selector is deprecated. Please use find_element(by=By.CSS_SELECTOR, value=css_selector) instead\n",
      "  searchbutten = driver.find_element_by_css_selector('#btnSearch')\n",
      "/tmp/ipykernel_46587/1885124001.py:24: DeprecationWarning: find_element_by_css_selector is deprecated. Please use find_element(by=By.CSS_SELECTOR, value=css_selector) instead\n",
      "  game = driver.find_element_by_css_selector('#selectGameId')\n",
      "/tmp/ipykernel_46587/1885124001.py:28: DeprecationWarning: find_element_by_css_selector is deprecated. Please use find_element(by=By.CSS_SELECTOR, value=css_selector) instead\n",
      "  searchbutten = driver.find_element_by_css_selector('#btnSearch')\n",
      "/tmp/ipykernel_46587/1885124001.py:24: DeprecationWarning: find_element_by_css_selector is deprecated. Please use find_element(by=By.CSS_SELECTOR, value=css_selector) instead\n",
      "  game = driver.find_element_by_css_selector('#selectGameId')\n",
      "/tmp/ipykernel_46587/1885124001.py:28: DeprecationWarning: find_element_by_css_selector is deprecated. Please use find_element(by=By.CSS_SELECTOR, value=css_selector) instead\n",
      "  searchbutten = driver.find_element_by_css_selector('#btnSearch')\n",
      "/tmp/ipykernel_46587/1885124001.py:24: DeprecationWarning: find_element_by_css_selector is deprecated. Please use find_element(by=By.CSS_SELECTOR, value=css_selector) instead\n",
      "  game = driver.find_element_by_css_selector('#selectGameId')\n",
      "/tmp/ipykernel_46587/1885124001.py:28: DeprecationWarning: find_element_by_css_selector is deprecated. Please use find_element(by=By.CSS_SELECTOR, value=css_selector) instead\n",
      "  searchbutten = driver.find_element_by_css_selector('#btnSearch')\n",
      "/tmp/ipykernel_46587/1885124001.py:24: DeprecationWarning: find_element_by_css_selector is deprecated. Please use find_element(by=By.CSS_SELECTOR, value=css_selector) instead\n",
      "  game = driver.find_element_by_css_selector('#selectGameId')\n",
      "/tmp/ipykernel_46587/1885124001.py:28: DeprecationWarning: find_element_by_css_selector is deprecated. Please use find_element(by=By.CSS_SELECTOR, value=css_selector) instead\n",
      "  searchbutten = driver.find_element_by_css_selector('#btnSearch')\n",
      "/tmp/ipykernel_46587/1885124001.py:24: DeprecationWarning: find_element_by_css_selector is deprecated. Please use find_element(by=By.CSS_SELECTOR, value=css_selector) instead\n",
      "  game = driver.find_element_by_css_selector('#selectGameId')\n",
      "/tmp/ipykernel_46587/1885124001.py:28: DeprecationWarning: find_element_by_css_selector is deprecated. Please use find_element(by=By.CSS_SELECTOR, value=css_selector) instead\n",
      "  searchbutten = driver.find_element_by_css_selector('#btnSearch')\n",
      "/tmp/ipykernel_46587/1885124001.py:17: DeprecationWarning: find_element_by_css_selector is deprecated. Please use find_element(by=By.CSS_SELECTOR, value=css_selector) instead\n",
      "  teamsel = driver.find_element_by_css_selector('#selectTeamId')\n",
      "/tmp/ipykernel_46587/1885124001.py:20: DeprecationWarning: find_elements_by_css_selector is deprecated. Please use find_elements(by=By.CSS_SELECTOR, value=css_selector) instead\n",
      "  gamessel = driver.find_elements_by_css_selector('#selectGameId > option')\n",
      "/tmp/ipykernel_46587/1885124001.py:24: DeprecationWarning: find_element_by_css_selector is deprecated. Please use find_element(by=By.CSS_SELECTOR, value=css_selector) instead\n",
      "  game = driver.find_element_by_css_selector('#selectGameId')\n",
      "/tmp/ipykernel_46587/1885124001.py:28: DeprecationWarning: find_element_by_css_selector is deprecated. Please use find_element(by=By.CSS_SELECTOR, value=css_selector) instead\n",
      "  searchbutten = driver.find_element_by_css_selector('#btnSearch')\n",
      "/tmp/ipykernel_46587/1885124001.py:24: DeprecationWarning: find_element_by_css_selector is deprecated. Please use find_element(by=By.CSS_SELECTOR, value=css_selector) instead\n",
      "  game = driver.find_element_by_css_selector('#selectGameId')\n",
      "/tmp/ipykernel_46587/1885124001.py:28: DeprecationWarning: find_element_by_css_selector is deprecated. Please use find_element(by=By.CSS_SELECTOR, value=css_selector) instead\n",
      "  searchbutten = driver.find_element_by_css_selector('#btnSearch')\n",
      "/tmp/ipykernel_46587/1885124001.py:24: DeprecationWarning: find_element_by_css_selector is deprecated. Please use find_element(by=By.CSS_SELECTOR, value=css_selector) instead\n",
      "  game = driver.find_element_by_css_selector('#selectGameId')\n",
      "/tmp/ipykernel_46587/1885124001.py:28: DeprecationWarning: find_element_by_css_selector is deprecated. Please use find_element(by=By.CSS_SELECTOR, value=css_selector) instead\n",
      "  searchbutten = driver.find_element_by_css_selector('#btnSearch')\n",
      "/tmp/ipykernel_46587/1885124001.py:24: DeprecationWarning: find_element_by_css_selector is deprecated. Please use find_element(by=By.CSS_SELECTOR, value=css_selector) instead\n",
      "  game = driver.find_element_by_css_selector('#selectGameId')\n",
      "/tmp/ipykernel_46587/1885124001.py:28: DeprecationWarning: find_element_by_css_selector is deprecated. Please use find_element(by=By.CSS_SELECTOR, value=css_selector) instead\n",
      "  searchbutten = driver.find_element_by_css_selector('#btnSearch')\n",
      "/tmp/ipykernel_46587/1885124001.py:24: DeprecationWarning: find_element_by_css_selector is deprecated. Please use find_element(by=By.CSS_SELECTOR, value=css_selector) instead\n",
      "  game = driver.find_element_by_css_selector('#selectGameId')\n",
      "/tmp/ipykernel_46587/1885124001.py:28: DeprecationWarning: find_element_by_css_selector is deprecated. Please use find_element(by=By.CSS_SELECTOR, value=css_selector) instead\n",
      "  searchbutten = driver.find_element_by_css_selector('#btnSearch')\n",
      "/tmp/ipykernel_46587/1885124001.py:24: DeprecationWarning: find_element_by_css_selector is deprecated. Please use find_element(by=By.CSS_SELECTOR, value=css_selector) instead\n",
      "  game = driver.find_element_by_css_selector('#selectGameId')\n",
      "/tmp/ipykernel_46587/1885124001.py:28: DeprecationWarning: find_element_by_css_selector is deprecated. Please use find_element(by=By.CSS_SELECTOR, value=css_selector) instead\n",
      "  searchbutten = driver.find_element_by_css_selector('#btnSearch')\n",
      "/tmp/ipykernel_46587/1885124001.py:24: DeprecationWarning: find_element_by_css_selector is deprecated. Please use find_element(by=By.CSS_SELECTOR, value=css_selector) instead\n",
      "  game = driver.find_element_by_css_selector('#selectGameId')\n",
      "/tmp/ipykernel_46587/1885124001.py:28: DeprecationWarning: find_element_by_css_selector is deprecated. Please use find_element(by=By.CSS_SELECTOR, value=css_selector) instead\n",
      "  searchbutten = driver.find_element_by_css_selector('#btnSearch')\n",
      "/tmp/ipykernel_46587/1885124001.py:24: DeprecationWarning: find_element_by_css_selector is deprecated. Please use find_element(by=By.CSS_SELECTOR, value=css_selector) instead\n",
      "  game = driver.find_element_by_css_selector('#selectGameId')\n",
      "/tmp/ipykernel_46587/1885124001.py:28: DeprecationWarning: find_element_by_css_selector is deprecated. Please use find_element(by=By.CSS_SELECTOR, value=css_selector) instead\n",
      "  searchbutten = driver.find_element_by_css_selector('#btnSearch')\n",
      "/tmp/ipykernel_46587/1885124001.py:24: DeprecationWarning: find_element_by_css_selector is deprecated. Please use find_element(by=By.CSS_SELECTOR, value=css_selector) instead\n",
      "  game = driver.find_element_by_css_selector('#selectGameId')\n",
      "/tmp/ipykernel_46587/1885124001.py:28: DeprecationWarning: find_element_by_css_selector is deprecated. Please use find_element(by=By.CSS_SELECTOR, value=css_selector) instead\n",
      "  searchbutten = driver.find_element_by_css_selector('#btnSearch')\n",
      "/tmp/ipykernel_46587/1885124001.py:24: DeprecationWarning: find_element_by_css_selector is deprecated. Please use find_element(by=By.CSS_SELECTOR, value=css_selector) instead\n",
      "  game = driver.find_element_by_css_selector('#selectGameId')\n",
      "/tmp/ipykernel_46587/1885124001.py:28: DeprecationWarning: find_element_by_css_selector is deprecated. Please use find_element(by=By.CSS_SELECTOR, value=css_selector) instead\n",
      "  searchbutten = driver.find_element_by_css_selector('#btnSearch')\n",
      "/tmp/ipykernel_46587/1885124001.py:24: DeprecationWarning: find_element_by_css_selector is deprecated. Please use find_element(by=By.CSS_SELECTOR, value=css_selector) instead\n",
      "  game = driver.find_element_by_css_selector('#selectGameId')\n",
      "/tmp/ipykernel_46587/1885124001.py:28: DeprecationWarning: find_element_by_css_selector is deprecated. Please use find_element(by=By.CSS_SELECTOR, value=css_selector) instead\n",
      "  searchbutten = driver.find_element_by_css_selector('#btnSearch')\n",
      "/tmp/ipykernel_46587/1885124001.py:24: DeprecationWarning: find_element_by_css_selector is deprecated. Please use find_element(by=By.CSS_SELECTOR, value=css_selector) instead\n",
      "  game = driver.find_element_by_css_selector('#selectGameId')\n",
      "/tmp/ipykernel_46587/1885124001.py:28: DeprecationWarning: find_element_by_css_selector is deprecated. Please use find_element(by=By.CSS_SELECTOR, value=css_selector) instead\n",
      "  searchbutten = driver.find_element_by_css_selector('#btnSearch')\n",
      "/tmp/ipykernel_46587/1885124001.py:24: DeprecationWarning: find_element_by_css_selector is deprecated. Please use find_element(by=By.CSS_SELECTOR, value=css_selector) instead\n",
      "  game = driver.find_element_by_css_selector('#selectGameId')\n",
      "/tmp/ipykernel_46587/1885124001.py:28: DeprecationWarning: find_element_by_css_selector is deprecated. Please use find_element(by=By.CSS_SELECTOR, value=css_selector) instead\n",
      "  searchbutten = driver.find_element_by_css_selector('#btnSearch')\n",
      "/tmp/ipykernel_46587/1885124001.py:24: DeprecationWarning: find_element_by_css_selector is deprecated. Please use find_element(by=By.CSS_SELECTOR, value=css_selector) instead\n",
      "  game = driver.find_element_by_css_selector('#selectGameId')\n",
      "/tmp/ipykernel_46587/1885124001.py:28: DeprecationWarning: find_element_by_css_selector is deprecated. Please use find_element(by=By.CSS_SELECTOR, value=css_selector) instead\n",
      "  searchbutten = driver.find_element_by_css_selector('#btnSearch')\n",
      "/tmp/ipykernel_46587/1885124001.py:24: DeprecationWarning: find_element_by_css_selector is deprecated. Please use find_element(by=By.CSS_SELECTOR, value=css_selector) instead\n",
      "  game = driver.find_element_by_css_selector('#selectGameId')\n",
      "/tmp/ipykernel_46587/1885124001.py:28: DeprecationWarning: find_element_by_css_selector is deprecated. Please use find_element(by=By.CSS_SELECTOR, value=css_selector) instead\n",
      "  searchbutten = driver.find_element_by_css_selector('#btnSearch')\n",
      "/tmp/ipykernel_46587/1885124001.py:24: DeprecationWarning: find_element_by_css_selector is deprecated. Please use find_element(by=By.CSS_SELECTOR, value=css_selector) instead\n",
      "  game = driver.find_element_by_css_selector('#selectGameId')\n",
      "/tmp/ipykernel_46587/1885124001.py:28: DeprecationWarning: find_element_by_css_selector is deprecated. Please use find_element(by=By.CSS_SELECTOR, value=css_selector) instead\n",
      "  searchbutten = driver.find_element_by_css_selector('#btnSearch')\n",
      "/tmp/ipykernel_46587/1885124001.py:24: DeprecationWarning: find_element_by_css_selector is deprecated. Please use find_element(by=By.CSS_SELECTOR, value=css_selector) instead\n",
      "  game = driver.find_element_by_css_selector('#selectGameId')\n",
      "/tmp/ipykernel_46587/1885124001.py:28: DeprecationWarning: find_element_by_css_selector is deprecated. Please use find_element(by=By.CSS_SELECTOR, value=css_selector) instead\n",
      "  searchbutten = driver.find_element_by_css_selector('#btnSearch')\n",
      "/tmp/ipykernel_46587/1885124001.py:24: DeprecationWarning: find_element_by_css_selector is deprecated. Please use find_element(by=By.CSS_SELECTOR, value=css_selector) instead\n",
      "  game = driver.find_element_by_css_selector('#selectGameId')\n",
      "/tmp/ipykernel_46587/1885124001.py:28: DeprecationWarning: find_element_by_css_selector is deprecated. Please use find_element(by=By.CSS_SELECTOR, value=css_selector) instead\n",
      "  searchbutten = driver.find_element_by_css_selector('#btnSearch')\n",
      "/tmp/ipykernel_46587/1885124001.py:24: DeprecationWarning: find_element_by_css_selector is deprecated. Please use find_element(by=By.CSS_SELECTOR, value=css_selector) instead\n",
      "  game = driver.find_element_by_css_selector('#selectGameId')\n",
      "/tmp/ipykernel_46587/1885124001.py:28: DeprecationWarning: find_element_by_css_selector is deprecated. Please use find_element(by=By.CSS_SELECTOR, value=css_selector) instead\n",
      "  searchbutten = driver.find_element_by_css_selector('#btnSearch')\n",
      "/tmp/ipykernel_46587/1885124001.py:24: DeprecationWarning: find_element_by_css_selector is deprecated. Please use find_element(by=By.CSS_SELECTOR, value=css_selector) instead\n",
      "  game = driver.find_element_by_css_selector('#selectGameId')\n",
      "/tmp/ipykernel_46587/1885124001.py:28: DeprecationWarning: find_element_by_css_selector is deprecated. Please use find_element(by=By.CSS_SELECTOR, value=css_selector) instead\n",
      "  searchbutten = driver.find_element_by_css_selector('#btnSearch')\n",
      "/tmp/ipykernel_46587/1885124001.py:24: DeprecationWarning: find_element_by_css_selector is deprecated. Please use find_element(by=By.CSS_SELECTOR, value=css_selector) instead\n",
      "  game = driver.find_element_by_css_selector('#selectGameId')\n",
      "/tmp/ipykernel_46587/1885124001.py:28: DeprecationWarning: find_element_by_css_selector is deprecated. Please use find_element(by=By.CSS_SELECTOR, value=css_selector) instead\n",
      "  searchbutten = driver.find_element_by_css_selector('#btnSearch')\n",
      "/tmp/ipykernel_46587/1885124001.py:24: DeprecationWarning: find_element_by_css_selector is deprecated. Please use find_element(by=By.CSS_SELECTOR, value=css_selector) instead\n",
      "  game = driver.find_element_by_css_selector('#selectGameId')\n",
      "/tmp/ipykernel_46587/1885124001.py:28: DeprecationWarning: find_element_by_css_selector is deprecated. Please use find_element(by=By.CSS_SELECTOR, value=css_selector) instead\n",
      "  searchbutten = driver.find_element_by_css_selector('#btnSearch')\n",
      "/tmp/ipykernel_46587/1885124001.py:24: DeprecationWarning: find_element_by_css_selector is deprecated. Please use find_element(by=By.CSS_SELECTOR, value=css_selector) instead\n",
      "  game = driver.find_element_by_css_selector('#selectGameId')\n",
      "/tmp/ipykernel_46587/1885124001.py:28: DeprecationWarning: find_element_by_css_selector is deprecated. Please use find_element(by=By.CSS_SELECTOR, value=css_selector) instead\n",
      "  searchbutten = driver.find_element_by_css_selector('#btnSearch')\n",
      "/tmp/ipykernel_46587/1885124001.py:24: DeprecationWarning: find_element_by_css_selector is deprecated. Please use find_element(by=By.CSS_SELECTOR, value=css_selector) instead\n",
      "  game = driver.find_element_by_css_selector('#selectGameId')\n",
      "/tmp/ipykernel_46587/1885124001.py:28: DeprecationWarning: find_element_by_css_selector is deprecated. Please use find_element(by=By.CSS_SELECTOR, value=css_selector) instead\n",
      "  searchbutten = driver.find_element_by_css_selector('#btnSearch')\n",
      "/tmp/ipykernel_46587/1885124001.py:24: DeprecationWarning: find_element_by_css_selector is deprecated. Please use find_element(by=By.CSS_SELECTOR, value=css_selector) instead\n",
      "  game = driver.find_element_by_css_selector('#selectGameId')\n",
      "/tmp/ipykernel_46587/1885124001.py:28: DeprecationWarning: find_element_by_css_selector is deprecated. Please use find_element(by=By.CSS_SELECTOR, value=css_selector) instead\n",
      "  searchbutten = driver.find_element_by_css_selector('#btnSearch')\n",
      "/tmp/ipykernel_46587/1885124001.py:24: DeprecationWarning: find_element_by_css_selector is deprecated. Please use find_element(by=By.CSS_SELECTOR, value=css_selector) instead\n",
      "  game = driver.find_element_by_css_selector('#selectGameId')\n",
      "/tmp/ipykernel_46587/1885124001.py:28: DeprecationWarning: find_element_by_css_selector is deprecated. Please use find_element(by=By.CSS_SELECTOR, value=css_selector) instead\n",
      "  searchbutten = driver.find_element_by_css_selector('#btnSearch')\n",
      "/tmp/ipykernel_46587/1885124001.py:24: DeprecationWarning: find_element_by_css_selector is deprecated. Please use find_element(by=By.CSS_SELECTOR, value=css_selector) instead\n",
      "  game = driver.find_element_by_css_selector('#selectGameId')\n",
      "/tmp/ipykernel_46587/1885124001.py:28: DeprecationWarning: find_element_by_css_selector is deprecated. Please use find_element(by=By.CSS_SELECTOR, value=css_selector) instead\n",
      "  searchbutten = driver.find_element_by_css_selector('#btnSearch')\n",
      "/tmp/ipykernel_46587/1885124001.py:24: DeprecationWarning: find_element_by_css_selector is deprecated. Please use find_element(by=By.CSS_SELECTOR, value=css_selector) instead\n",
      "  game = driver.find_element_by_css_selector('#selectGameId')\n",
      "/tmp/ipykernel_46587/1885124001.py:28: DeprecationWarning: find_element_by_css_selector is deprecated. Please use find_element(by=By.CSS_SELECTOR, value=css_selector) instead\n",
      "  searchbutten = driver.find_element_by_css_selector('#btnSearch')\n",
      "/tmp/ipykernel_46587/1885124001.py:24: DeprecationWarning: find_element_by_css_selector is deprecated. Please use find_element(by=By.CSS_SELECTOR, value=css_selector) instead\n",
      "  game = driver.find_element_by_css_selector('#selectGameId')\n",
      "/tmp/ipykernel_46587/1885124001.py:28: DeprecationWarning: find_element_by_css_selector is deprecated. Please use find_element(by=By.CSS_SELECTOR, value=css_selector) instead\n",
      "  searchbutten = driver.find_element_by_css_selector('#btnSearch')\n",
      "/tmp/ipykernel_46587/1885124001.py:24: DeprecationWarning: find_element_by_css_selector is deprecated. Please use find_element(by=By.CSS_SELECTOR, value=css_selector) instead\n",
      "  game = driver.find_element_by_css_selector('#selectGameId')\n",
      "/tmp/ipykernel_46587/1885124001.py:28: DeprecationWarning: find_element_by_css_selector is deprecated. Please use find_element(by=By.CSS_SELECTOR, value=css_selector) instead\n",
      "  searchbutten = driver.find_element_by_css_selector('#btnSearch')\n",
      "/tmp/ipykernel_46587/1885124001.py:24: DeprecationWarning: find_element_by_css_selector is deprecated. Please use find_element(by=By.CSS_SELECTOR, value=css_selector) instead\n",
      "  game = driver.find_element_by_css_selector('#selectGameId')\n",
      "/tmp/ipykernel_46587/1885124001.py:28: DeprecationWarning: find_element_by_css_selector is deprecated. Please use find_element(by=By.CSS_SELECTOR, value=css_selector) instead\n",
      "  searchbutten = driver.find_element_by_css_selector('#btnSearch')\n",
      "/tmp/ipykernel_46587/1885124001.py:24: DeprecationWarning: find_element_by_css_selector is deprecated. Please use find_element(by=By.CSS_SELECTOR, value=css_selector) instead\n",
      "  game = driver.find_element_by_css_selector('#selectGameId')\n",
      "/tmp/ipykernel_46587/1885124001.py:28: DeprecationWarning: find_element_by_css_selector is deprecated. Please use find_element(by=By.CSS_SELECTOR, value=css_selector) instead\n",
      "  searchbutten = driver.find_element_by_css_selector('#btnSearch')\n",
      "/tmp/ipykernel_46587/1885124001.py:24: DeprecationWarning: find_element_by_css_selector is deprecated. Please use find_element(by=By.CSS_SELECTOR, value=css_selector) instead\n",
      "  game = driver.find_element_by_css_selector('#selectGameId')\n",
      "/tmp/ipykernel_46587/1885124001.py:28: DeprecationWarning: find_element_by_css_selector is deprecated. Please use find_element(by=By.CSS_SELECTOR, value=css_selector) instead\n",
      "  searchbutten = driver.find_element_by_css_selector('#btnSearch')\n",
      "/tmp/ipykernel_46587/1885124001.py:24: DeprecationWarning: find_element_by_css_selector is deprecated. Please use find_element(by=By.CSS_SELECTOR, value=css_selector) instead\n",
      "  game = driver.find_element_by_css_selector('#selectGameId')\n",
      "/tmp/ipykernel_46587/1885124001.py:28: DeprecationWarning: find_element_by_css_selector is deprecated. Please use find_element(by=By.CSS_SELECTOR, value=css_selector) instead\n",
      "  searchbutten = driver.find_element_by_css_selector('#btnSearch')\n",
      "/tmp/ipykernel_46587/1885124001.py:24: DeprecationWarning: find_element_by_css_selector is deprecated. Please use find_element(by=By.CSS_SELECTOR, value=css_selector) instead\n",
      "  game = driver.find_element_by_css_selector('#selectGameId')\n",
      "/tmp/ipykernel_46587/1885124001.py:28: DeprecationWarning: find_element_by_css_selector is deprecated. Please use find_element(by=By.CSS_SELECTOR, value=css_selector) instead\n",
      "  searchbutten = driver.find_element_by_css_selector('#btnSearch')\n",
      "/tmp/ipykernel_46587/1885124001.py:24: DeprecationWarning: find_element_by_css_selector is deprecated. Please use find_element(by=By.CSS_SELECTOR, value=css_selector) instead\n",
      "  game = driver.find_element_by_css_selector('#selectGameId')\n",
      "/tmp/ipykernel_46587/1885124001.py:28: DeprecationWarning: find_element_by_css_selector is deprecated. Please use find_element(by=By.CSS_SELECTOR, value=css_selector) instead\n",
      "  searchbutten = driver.find_element_by_css_selector('#btnSearch')\n",
      "/tmp/ipykernel_46587/1885124001.py:24: DeprecationWarning: find_element_by_css_selector is deprecated. Please use find_element(by=By.CSS_SELECTOR, value=css_selector) instead\n",
      "  game = driver.find_element_by_css_selector('#selectGameId')\n",
      "/tmp/ipykernel_46587/1885124001.py:28: DeprecationWarning: find_element_by_css_selector is deprecated. Please use find_element(by=By.CSS_SELECTOR, value=css_selector) instead\n",
      "  searchbutten = driver.find_element_by_css_selector('#btnSearch')\n",
      "/tmp/ipykernel_46587/1885124001.py:24: DeprecationWarning: find_element_by_css_selector is deprecated. Please use find_element(by=By.CSS_SELECTOR, value=css_selector) instead\n",
      "  game = driver.find_element_by_css_selector('#selectGameId')\n",
      "/tmp/ipykernel_46587/1885124001.py:28: DeprecationWarning: find_element_by_css_selector is deprecated. Please use find_element(by=By.CSS_SELECTOR, value=css_selector) instead\n",
      "  searchbutten = driver.find_element_by_css_selector('#btnSearch')\n",
      "/tmp/ipykernel_46587/1885124001.py:17: DeprecationWarning: find_element_by_css_selector is deprecated. Please use find_element(by=By.CSS_SELECTOR, value=css_selector) instead\n",
      "  teamsel = driver.find_element_by_css_selector('#selectTeamId')\n",
      "/tmp/ipykernel_46587/1885124001.py:20: DeprecationWarning: find_elements_by_css_selector is deprecated. Please use find_elements(by=By.CSS_SELECTOR, value=css_selector) instead\n",
      "  gamessel = driver.find_elements_by_css_selector('#selectGameId > option')\n",
      "/tmp/ipykernel_46587/1885124001.py:24: DeprecationWarning: find_element_by_css_selector is deprecated. Please use find_element(by=By.CSS_SELECTOR, value=css_selector) instead\n",
      "  game = driver.find_element_by_css_selector('#selectGameId')\n",
      "/tmp/ipykernel_46587/1885124001.py:28: DeprecationWarning: find_element_by_css_selector is deprecated. Please use find_element(by=By.CSS_SELECTOR, value=css_selector) instead\n",
      "  searchbutten = driver.find_element_by_css_selector('#btnSearch')\n",
      "/tmp/ipykernel_46587/1885124001.py:24: DeprecationWarning: find_element_by_css_selector is deprecated. Please use find_element(by=By.CSS_SELECTOR, value=css_selector) instead\n",
      "  game = driver.find_element_by_css_selector('#selectGameId')\n",
      "/tmp/ipykernel_46587/1885124001.py:28: DeprecationWarning: find_element_by_css_selector is deprecated. Please use find_element(by=By.CSS_SELECTOR, value=css_selector) instead\n",
      "  searchbutten = driver.find_element_by_css_selector('#btnSearch')\n",
      "/tmp/ipykernel_46587/1885124001.py:24: DeprecationWarning: find_element_by_css_selector is deprecated. Please use find_element(by=By.CSS_SELECTOR, value=css_selector) instead\n",
      "  game = driver.find_element_by_css_selector('#selectGameId')\n",
      "/tmp/ipykernel_46587/1885124001.py:28: DeprecationWarning: find_element_by_css_selector is deprecated. Please use find_element(by=By.CSS_SELECTOR, value=css_selector) instead\n",
      "  searchbutten = driver.find_element_by_css_selector('#btnSearch')\n",
      "/tmp/ipykernel_46587/1885124001.py:24: DeprecationWarning: find_element_by_css_selector is deprecated. Please use find_element(by=By.CSS_SELECTOR, value=css_selector) instead\n",
      "  game = driver.find_element_by_css_selector('#selectGameId')\n",
      "/tmp/ipykernel_46587/1885124001.py:28: DeprecationWarning: find_element_by_css_selector is deprecated. Please use find_element(by=By.CSS_SELECTOR, value=css_selector) instead\n",
      "  searchbutten = driver.find_element_by_css_selector('#btnSearch')\n",
      "/tmp/ipykernel_46587/1885124001.py:24: DeprecationWarning: find_element_by_css_selector is deprecated. Please use find_element(by=By.CSS_SELECTOR, value=css_selector) instead\n",
      "  game = driver.find_element_by_css_selector('#selectGameId')\n",
      "/tmp/ipykernel_46587/1885124001.py:28: DeprecationWarning: find_element_by_css_selector is deprecated. Please use find_element(by=By.CSS_SELECTOR, value=css_selector) instead\n",
      "  searchbutten = driver.find_element_by_css_selector('#btnSearch')\n",
      "/tmp/ipykernel_46587/1885124001.py:24: DeprecationWarning: find_element_by_css_selector is deprecated. Please use find_element(by=By.CSS_SELECTOR, value=css_selector) instead\n",
      "  game = driver.find_element_by_css_selector('#selectGameId')\n",
      "/tmp/ipykernel_46587/1885124001.py:28: DeprecationWarning: find_element_by_css_selector is deprecated. Please use find_element(by=By.CSS_SELECTOR, value=css_selector) instead\n",
      "  searchbutten = driver.find_element_by_css_selector('#btnSearch')\n",
      "/tmp/ipykernel_46587/1885124001.py:24: DeprecationWarning: find_element_by_css_selector is deprecated. Please use find_element(by=By.CSS_SELECTOR, value=css_selector) instead\n",
      "  game = driver.find_element_by_css_selector('#selectGameId')\n",
      "/tmp/ipykernel_46587/1885124001.py:28: DeprecationWarning: find_element_by_css_selector is deprecated. Please use find_element(by=By.CSS_SELECTOR, value=css_selector) instead\n",
      "  searchbutten = driver.find_element_by_css_selector('#btnSearch')\n",
      "/tmp/ipykernel_46587/1885124001.py:24: DeprecationWarning: find_element_by_css_selector is deprecated. Please use find_element(by=By.CSS_SELECTOR, value=css_selector) instead\n",
      "  game = driver.find_element_by_css_selector('#selectGameId')\n",
      "/tmp/ipykernel_46587/1885124001.py:28: DeprecationWarning: find_element_by_css_selector is deprecated. Please use find_element(by=By.CSS_SELECTOR, value=css_selector) instead\n",
      "  searchbutten = driver.find_element_by_css_selector('#btnSearch')\n",
      "/tmp/ipykernel_46587/1885124001.py:24: DeprecationWarning: find_element_by_css_selector is deprecated. Please use find_element(by=By.CSS_SELECTOR, value=css_selector) instead\n",
      "  game = driver.find_element_by_css_selector('#selectGameId')\n",
      "/tmp/ipykernel_46587/1885124001.py:28: DeprecationWarning: find_element_by_css_selector is deprecated. Please use find_element(by=By.CSS_SELECTOR, value=css_selector) instead\n",
      "  searchbutten = driver.find_element_by_css_selector('#btnSearch')\n",
      "/tmp/ipykernel_46587/1885124001.py:24: DeprecationWarning: find_element_by_css_selector is deprecated. Please use find_element(by=By.CSS_SELECTOR, value=css_selector) instead\n",
      "  game = driver.find_element_by_css_selector('#selectGameId')\n",
      "/tmp/ipykernel_46587/1885124001.py:28: DeprecationWarning: find_element_by_css_selector is deprecated. Please use find_element(by=By.CSS_SELECTOR, value=css_selector) instead\n",
      "  searchbutten = driver.find_element_by_css_selector('#btnSearch')\n",
      "/tmp/ipykernel_46587/1885124001.py:24: DeprecationWarning: find_element_by_css_selector is deprecated. Please use find_element(by=By.CSS_SELECTOR, value=css_selector) instead\n",
      "  game = driver.find_element_by_css_selector('#selectGameId')\n",
      "/tmp/ipykernel_46587/1885124001.py:28: DeprecationWarning: find_element_by_css_selector is deprecated. Please use find_element(by=By.CSS_SELECTOR, value=css_selector) instead\n",
      "  searchbutten = driver.find_element_by_css_selector('#btnSearch')\n",
      "/tmp/ipykernel_46587/1885124001.py:24: DeprecationWarning: find_element_by_css_selector is deprecated. Please use find_element(by=By.CSS_SELECTOR, value=css_selector) instead\n",
      "  game = driver.find_element_by_css_selector('#selectGameId')\n",
      "/tmp/ipykernel_46587/1885124001.py:28: DeprecationWarning: find_element_by_css_selector is deprecated. Please use find_element(by=By.CSS_SELECTOR, value=css_selector) instead\n",
      "  searchbutten = driver.find_element_by_css_selector('#btnSearch')\n",
      "/tmp/ipykernel_46587/1885124001.py:24: DeprecationWarning: find_element_by_css_selector is deprecated. Please use find_element(by=By.CSS_SELECTOR, value=css_selector) instead\n",
      "  game = driver.find_element_by_css_selector('#selectGameId')\n",
      "/tmp/ipykernel_46587/1885124001.py:28: DeprecationWarning: find_element_by_css_selector is deprecated. Please use find_element(by=By.CSS_SELECTOR, value=css_selector) instead\n",
      "  searchbutten = driver.find_element_by_css_selector('#btnSearch')\n",
      "/tmp/ipykernel_46587/1885124001.py:24: DeprecationWarning: find_element_by_css_selector is deprecated. Please use find_element(by=By.CSS_SELECTOR, value=css_selector) instead\n",
      "  game = driver.find_element_by_css_selector('#selectGameId')\n",
      "/tmp/ipykernel_46587/1885124001.py:28: DeprecationWarning: find_element_by_css_selector is deprecated. Please use find_element(by=By.CSS_SELECTOR, value=css_selector) instead\n",
      "  searchbutten = driver.find_element_by_css_selector('#btnSearch')\n",
      "/tmp/ipykernel_46587/1885124001.py:24: DeprecationWarning: find_element_by_css_selector is deprecated. Please use find_element(by=By.CSS_SELECTOR, value=css_selector) instead\n",
      "  game = driver.find_element_by_css_selector('#selectGameId')\n",
      "/tmp/ipykernel_46587/1885124001.py:28: DeprecationWarning: find_element_by_css_selector is deprecated. Please use find_element(by=By.CSS_SELECTOR, value=css_selector) instead\n",
      "  searchbutten = driver.find_element_by_css_selector('#btnSearch')\n",
      "/tmp/ipykernel_46587/1885124001.py:24: DeprecationWarning: find_element_by_css_selector is deprecated. Please use find_element(by=By.CSS_SELECTOR, value=css_selector) instead\n",
      "  game = driver.find_element_by_css_selector('#selectGameId')\n",
      "/tmp/ipykernel_46587/1885124001.py:28: DeprecationWarning: find_element_by_css_selector is deprecated. Please use find_element(by=By.CSS_SELECTOR, value=css_selector) instead\n",
      "  searchbutten = driver.find_element_by_css_selector('#btnSearch')\n",
      "/tmp/ipykernel_46587/1885124001.py:24: DeprecationWarning: find_element_by_css_selector is deprecated. Please use find_element(by=By.CSS_SELECTOR, value=css_selector) instead\n",
      "  game = driver.find_element_by_css_selector('#selectGameId')\n",
      "/tmp/ipykernel_46587/1885124001.py:28: DeprecationWarning: find_element_by_css_selector is deprecated. Please use find_element(by=By.CSS_SELECTOR, value=css_selector) instead\n",
      "  searchbutten = driver.find_element_by_css_selector('#btnSearch')\n",
      "/tmp/ipykernel_46587/1885124001.py:24: DeprecationWarning: find_element_by_css_selector is deprecated. Please use find_element(by=By.CSS_SELECTOR, value=css_selector) instead\n",
      "  game = driver.find_element_by_css_selector('#selectGameId')\n",
      "/tmp/ipykernel_46587/1885124001.py:28: DeprecationWarning: find_element_by_css_selector is deprecated. Please use find_element(by=By.CSS_SELECTOR, value=css_selector) instead\n",
      "  searchbutten = driver.find_element_by_css_selector('#btnSearch')\n",
      "/tmp/ipykernel_46587/1885124001.py:24: DeprecationWarning: find_element_by_css_selector is deprecated. Please use find_element(by=By.CSS_SELECTOR, value=css_selector) instead\n",
      "  game = driver.find_element_by_css_selector('#selectGameId')\n",
      "/tmp/ipykernel_46587/1885124001.py:28: DeprecationWarning: find_element_by_css_selector is deprecated. Please use find_element(by=By.CSS_SELECTOR, value=css_selector) instead\n",
      "  searchbutten = driver.find_element_by_css_selector('#btnSearch')\n",
      "/tmp/ipykernel_46587/1885124001.py:24: DeprecationWarning: find_element_by_css_selector is deprecated. Please use find_element(by=By.CSS_SELECTOR, value=css_selector) instead\n",
      "  game = driver.find_element_by_css_selector('#selectGameId')\n",
      "/tmp/ipykernel_46587/1885124001.py:28: DeprecationWarning: find_element_by_css_selector is deprecated. Please use find_element(by=By.CSS_SELECTOR, value=css_selector) instead\n",
      "  searchbutten = driver.find_element_by_css_selector('#btnSearch')\n",
      "/tmp/ipykernel_46587/1885124001.py:24: DeprecationWarning: find_element_by_css_selector is deprecated. Please use find_element(by=By.CSS_SELECTOR, value=css_selector) instead\n",
      "  game = driver.find_element_by_css_selector('#selectGameId')\n",
      "/tmp/ipykernel_46587/1885124001.py:28: DeprecationWarning: find_element_by_css_selector is deprecated. Please use find_element(by=By.CSS_SELECTOR, value=css_selector) instead\n",
      "  searchbutten = driver.find_element_by_css_selector('#btnSearch')\n",
      "/tmp/ipykernel_46587/1885124001.py:24: DeprecationWarning: find_element_by_css_selector is deprecated. Please use find_element(by=By.CSS_SELECTOR, value=css_selector) instead\n",
      "  game = driver.find_element_by_css_selector('#selectGameId')\n",
      "/tmp/ipykernel_46587/1885124001.py:28: DeprecationWarning: find_element_by_css_selector is deprecated. Please use find_element(by=By.CSS_SELECTOR, value=css_selector) instead\n",
      "  searchbutten = driver.find_element_by_css_selector('#btnSearch')\n",
      "/tmp/ipykernel_46587/1885124001.py:24: DeprecationWarning: find_element_by_css_selector is deprecated. Please use find_element(by=By.CSS_SELECTOR, value=css_selector) instead\n",
      "  game = driver.find_element_by_css_selector('#selectGameId')\n",
      "/tmp/ipykernel_46587/1885124001.py:28: DeprecationWarning: find_element_by_css_selector is deprecated. Please use find_element(by=By.CSS_SELECTOR, value=css_selector) instead\n",
      "  searchbutten = driver.find_element_by_css_selector('#btnSearch')\n",
      "/tmp/ipykernel_46587/1885124001.py:24: DeprecationWarning: find_element_by_css_selector is deprecated. Please use find_element(by=By.CSS_SELECTOR, value=css_selector) instead\n",
      "  game = driver.find_element_by_css_selector('#selectGameId')\n",
      "/tmp/ipykernel_46587/1885124001.py:28: DeprecationWarning: find_element_by_css_selector is deprecated. Please use find_element(by=By.CSS_SELECTOR, value=css_selector) instead\n",
      "  searchbutten = driver.find_element_by_css_selector('#btnSearch')\n",
      "/tmp/ipykernel_46587/1885124001.py:24: DeprecationWarning: find_element_by_css_selector is deprecated. Please use find_element(by=By.CSS_SELECTOR, value=css_selector) instead\n",
      "  game = driver.find_element_by_css_selector('#selectGameId')\n",
      "/tmp/ipykernel_46587/1885124001.py:28: DeprecationWarning: find_element_by_css_selector is deprecated. Please use find_element(by=By.CSS_SELECTOR, value=css_selector) instead\n",
      "  searchbutten = driver.find_element_by_css_selector('#btnSearch')\n",
      "/tmp/ipykernel_46587/1885124001.py:24: DeprecationWarning: find_element_by_css_selector is deprecated. Please use find_element(by=By.CSS_SELECTOR, value=css_selector) instead\n",
      "  game = driver.find_element_by_css_selector('#selectGameId')\n",
      "/tmp/ipykernel_46587/1885124001.py:28: DeprecationWarning: find_element_by_css_selector is deprecated. Please use find_element(by=By.CSS_SELECTOR, value=css_selector) instead\n",
      "  searchbutten = driver.find_element_by_css_selector('#btnSearch')\n",
      "/tmp/ipykernel_46587/1885124001.py:24: DeprecationWarning: find_element_by_css_selector is deprecated. Please use find_element(by=By.CSS_SELECTOR, value=css_selector) instead\n",
      "  game = driver.find_element_by_css_selector('#selectGameId')\n",
      "/tmp/ipykernel_46587/1885124001.py:28: DeprecationWarning: find_element_by_css_selector is deprecated. Please use find_element(by=By.CSS_SELECTOR, value=css_selector) instead\n",
      "  searchbutten = driver.find_element_by_css_selector('#btnSearch')\n",
      "/tmp/ipykernel_46587/1885124001.py:24: DeprecationWarning: find_element_by_css_selector is deprecated. Please use find_element(by=By.CSS_SELECTOR, value=css_selector) instead\n",
      "  game = driver.find_element_by_css_selector('#selectGameId')\n",
      "/tmp/ipykernel_46587/1885124001.py:28: DeprecationWarning: find_element_by_css_selector is deprecated. Please use find_element(by=By.CSS_SELECTOR, value=css_selector) instead\n",
      "  searchbutten = driver.find_element_by_css_selector('#btnSearch')\n",
      "/tmp/ipykernel_46587/1885124001.py:24: DeprecationWarning: find_element_by_css_selector is deprecated. Please use find_element(by=By.CSS_SELECTOR, value=css_selector) instead\n",
      "  game = driver.find_element_by_css_selector('#selectGameId')\n",
      "/tmp/ipykernel_46587/1885124001.py:28: DeprecationWarning: find_element_by_css_selector is deprecated. Please use find_element(by=By.CSS_SELECTOR, value=css_selector) instead\n",
      "  searchbutten = driver.find_element_by_css_selector('#btnSearch')\n",
      "/tmp/ipykernel_46587/1885124001.py:24: DeprecationWarning: find_element_by_css_selector is deprecated. Please use find_element(by=By.CSS_SELECTOR, value=css_selector) instead\n",
      "  game = driver.find_element_by_css_selector('#selectGameId')\n",
      "/tmp/ipykernel_46587/1885124001.py:28: DeprecationWarning: find_element_by_css_selector is deprecated. Please use find_element(by=By.CSS_SELECTOR, value=css_selector) instead\n",
      "  searchbutten = driver.find_element_by_css_selector('#btnSearch')\n",
      "/tmp/ipykernel_46587/1885124001.py:24: DeprecationWarning: find_element_by_css_selector is deprecated. Please use find_element(by=By.CSS_SELECTOR, value=css_selector) instead\n",
      "  game = driver.find_element_by_css_selector('#selectGameId')\n",
      "/tmp/ipykernel_46587/1885124001.py:28: DeprecationWarning: find_element_by_css_selector is deprecated. Please use find_element(by=By.CSS_SELECTOR, value=css_selector) instead\n",
      "  searchbutten = driver.find_element_by_css_selector('#btnSearch')\n",
      "/tmp/ipykernel_46587/1885124001.py:24: DeprecationWarning: find_element_by_css_selector is deprecated. Please use find_element(by=By.CSS_SELECTOR, value=css_selector) instead\n",
      "  game = driver.find_element_by_css_selector('#selectGameId')\n",
      "/tmp/ipykernel_46587/1885124001.py:28: DeprecationWarning: find_element_by_css_selector is deprecated. Please use find_element(by=By.CSS_SELECTOR, value=css_selector) instead\n",
      "  searchbutten = driver.find_element_by_css_selector('#btnSearch')\n",
      "/tmp/ipykernel_46587/1885124001.py:24: DeprecationWarning: find_element_by_css_selector is deprecated. Please use find_element(by=By.CSS_SELECTOR, value=css_selector) instead\n",
      "  game = driver.find_element_by_css_selector('#selectGameId')\n",
      "/tmp/ipykernel_46587/1885124001.py:28: DeprecationWarning: find_element_by_css_selector is deprecated. Please use find_element(by=By.CSS_SELECTOR, value=css_selector) instead\n",
      "  searchbutten = driver.find_element_by_css_selector('#btnSearch')\n",
      "/tmp/ipykernel_46587/1885124001.py:24: DeprecationWarning: find_element_by_css_selector is deprecated. Please use find_element(by=By.CSS_SELECTOR, value=css_selector) instead\n",
      "  game = driver.find_element_by_css_selector('#selectGameId')\n",
      "/tmp/ipykernel_46587/1885124001.py:28: DeprecationWarning: find_element_by_css_selector is deprecated. Please use find_element(by=By.CSS_SELECTOR, value=css_selector) instead\n",
      "  searchbutten = driver.find_element_by_css_selector('#btnSearch')\n",
      "/tmp/ipykernel_46587/1885124001.py:24: DeprecationWarning: find_element_by_css_selector is deprecated. Please use find_element(by=By.CSS_SELECTOR, value=css_selector) instead\n",
      "  game = driver.find_element_by_css_selector('#selectGameId')\n",
      "/tmp/ipykernel_46587/1885124001.py:28: DeprecationWarning: find_element_by_css_selector is deprecated. Please use find_element(by=By.CSS_SELECTOR, value=css_selector) instead\n",
      "  searchbutten = driver.find_element_by_css_selector('#btnSearch')\n",
      "/tmp/ipykernel_46587/1885124001.py:24: DeprecationWarning: find_element_by_css_selector is deprecated. Please use find_element(by=By.CSS_SELECTOR, value=css_selector) instead\n",
      "  game = driver.find_element_by_css_selector('#selectGameId')\n",
      "/tmp/ipykernel_46587/1885124001.py:28: DeprecationWarning: find_element_by_css_selector is deprecated. Please use find_element(by=By.CSS_SELECTOR, value=css_selector) instead\n",
      "  searchbutten = driver.find_element_by_css_selector('#btnSearch')\n",
      "/tmp/ipykernel_46587/1885124001.py:17: DeprecationWarning: find_element_by_css_selector is deprecated. Please use find_element(by=By.CSS_SELECTOR, value=css_selector) instead\n",
      "  teamsel = driver.find_element_by_css_selector('#selectTeamId')\n",
      "/tmp/ipykernel_46587/1885124001.py:20: DeprecationWarning: find_elements_by_css_selector is deprecated. Please use find_elements(by=By.CSS_SELECTOR, value=css_selector) instead\n",
      "  gamessel = driver.find_elements_by_css_selector('#selectGameId > option')\n",
      "/tmp/ipykernel_46587/1885124001.py:24: DeprecationWarning: find_element_by_css_selector is deprecated. Please use find_element(by=By.CSS_SELECTOR, value=css_selector) instead\n",
      "  game = driver.find_element_by_css_selector('#selectGameId')\n",
      "/tmp/ipykernel_46587/1885124001.py:28: DeprecationWarning: find_element_by_css_selector is deprecated. Please use find_element(by=By.CSS_SELECTOR, value=css_selector) instead\n",
      "  searchbutten = driver.find_element_by_css_selector('#btnSearch')\n",
      "/tmp/ipykernel_46587/1885124001.py:24: DeprecationWarning: find_element_by_css_selector is deprecated. Please use find_element(by=By.CSS_SELECTOR, value=css_selector) instead\n",
      "  game = driver.find_element_by_css_selector('#selectGameId')\n",
      "/tmp/ipykernel_46587/1885124001.py:28: DeprecationWarning: find_element_by_css_selector is deprecated. Please use find_element(by=By.CSS_SELECTOR, value=css_selector) instead\n",
      "  searchbutten = driver.find_element_by_css_selector('#btnSearch')\n",
      "/tmp/ipykernel_46587/1885124001.py:24: DeprecationWarning: find_element_by_css_selector is deprecated. Please use find_element(by=By.CSS_SELECTOR, value=css_selector) instead\n",
      "  game = driver.find_element_by_css_selector('#selectGameId')\n",
      "/tmp/ipykernel_46587/1885124001.py:28: DeprecationWarning: find_element_by_css_selector is deprecated. Please use find_element(by=By.CSS_SELECTOR, value=css_selector) instead\n",
      "  searchbutten = driver.find_element_by_css_selector('#btnSearch')\n",
      "/tmp/ipykernel_46587/1885124001.py:24: DeprecationWarning: find_element_by_css_selector is deprecated. Please use find_element(by=By.CSS_SELECTOR, value=css_selector) instead\n",
      "  game = driver.find_element_by_css_selector('#selectGameId')\n",
      "/tmp/ipykernel_46587/1885124001.py:28: DeprecationWarning: find_element_by_css_selector is deprecated. Please use find_element(by=By.CSS_SELECTOR, value=css_selector) instead\n",
      "  searchbutten = driver.find_element_by_css_selector('#btnSearch')\n",
      "/tmp/ipykernel_46587/1885124001.py:24: DeprecationWarning: find_element_by_css_selector is deprecated. Please use find_element(by=By.CSS_SELECTOR, value=css_selector) instead\n",
      "  game = driver.find_element_by_css_selector('#selectGameId')\n",
      "/tmp/ipykernel_46587/1885124001.py:28: DeprecationWarning: find_element_by_css_selector is deprecated. Please use find_element(by=By.CSS_SELECTOR, value=css_selector) instead\n",
      "  searchbutten = driver.find_element_by_css_selector('#btnSearch')\n",
      "/tmp/ipykernel_46587/1885124001.py:24: DeprecationWarning: find_element_by_css_selector is deprecated. Please use find_element(by=By.CSS_SELECTOR, value=css_selector) instead\n",
      "  game = driver.find_element_by_css_selector('#selectGameId')\n",
      "/tmp/ipykernel_46587/1885124001.py:28: DeprecationWarning: find_element_by_css_selector is deprecated. Please use find_element(by=By.CSS_SELECTOR, value=css_selector) instead\n",
      "  searchbutten = driver.find_element_by_css_selector('#btnSearch')\n",
      "/tmp/ipykernel_46587/1885124001.py:24: DeprecationWarning: find_element_by_css_selector is deprecated. Please use find_element(by=By.CSS_SELECTOR, value=css_selector) instead\n",
      "  game = driver.find_element_by_css_selector('#selectGameId')\n",
      "/tmp/ipykernel_46587/1885124001.py:28: DeprecationWarning: find_element_by_css_selector is deprecated. Please use find_element(by=By.CSS_SELECTOR, value=css_selector) instead\n",
      "  searchbutten = driver.find_element_by_css_selector('#btnSearch')\n",
      "/tmp/ipykernel_46587/1885124001.py:24: DeprecationWarning: find_element_by_css_selector is deprecated. Please use find_element(by=By.CSS_SELECTOR, value=css_selector) instead\n",
      "  game = driver.find_element_by_css_selector('#selectGameId')\n",
      "/tmp/ipykernel_46587/1885124001.py:28: DeprecationWarning: find_element_by_css_selector is deprecated. Please use find_element(by=By.CSS_SELECTOR, value=css_selector) instead\n",
      "  searchbutten = driver.find_element_by_css_selector('#btnSearch')\n",
      "/tmp/ipykernel_46587/1885124001.py:24: DeprecationWarning: find_element_by_css_selector is deprecated. Please use find_element(by=By.CSS_SELECTOR, value=css_selector) instead\n",
      "  game = driver.find_element_by_css_selector('#selectGameId')\n",
      "/tmp/ipykernel_46587/1885124001.py:28: DeprecationWarning: find_element_by_css_selector is deprecated. Please use find_element(by=By.CSS_SELECTOR, value=css_selector) instead\n",
      "  searchbutten = driver.find_element_by_css_selector('#btnSearch')\n",
      "/tmp/ipykernel_46587/1885124001.py:24: DeprecationWarning: find_element_by_css_selector is deprecated. Please use find_element(by=By.CSS_SELECTOR, value=css_selector) instead\n",
      "  game = driver.find_element_by_css_selector('#selectGameId')\n",
      "/tmp/ipykernel_46587/1885124001.py:28: DeprecationWarning: find_element_by_css_selector is deprecated. Please use find_element(by=By.CSS_SELECTOR, value=css_selector) instead\n",
      "  searchbutten = driver.find_element_by_css_selector('#btnSearch')\n",
      "/tmp/ipykernel_46587/1885124001.py:24: DeprecationWarning: find_element_by_css_selector is deprecated. Please use find_element(by=By.CSS_SELECTOR, value=css_selector) instead\n",
      "  game = driver.find_element_by_css_selector('#selectGameId')\n",
      "/tmp/ipykernel_46587/1885124001.py:28: DeprecationWarning: find_element_by_css_selector is deprecated. Please use find_element(by=By.CSS_SELECTOR, value=css_selector) instead\n",
      "  searchbutten = driver.find_element_by_css_selector('#btnSearch')\n",
      "/tmp/ipykernel_46587/1885124001.py:24: DeprecationWarning: find_element_by_css_selector is deprecated. Please use find_element(by=By.CSS_SELECTOR, value=css_selector) instead\n",
      "  game = driver.find_element_by_css_selector('#selectGameId')\n",
      "/tmp/ipykernel_46587/1885124001.py:28: DeprecationWarning: find_element_by_css_selector is deprecated. Please use find_element(by=By.CSS_SELECTOR, value=css_selector) instead\n",
      "  searchbutten = driver.find_element_by_css_selector('#btnSearch')\n",
      "/tmp/ipykernel_46587/1885124001.py:24: DeprecationWarning: find_element_by_css_selector is deprecated. Please use find_element(by=By.CSS_SELECTOR, value=css_selector) instead\n",
      "  game = driver.find_element_by_css_selector('#selectGameId')\n",
      "/tmp/ipykernel_46587/1885124001.py:28: DeprecationWarning: find_element_by_css_selector is deprecated. Please use find_element(by=By.CSS_SELECTOR, value=css_selector) instead\n",
      "  searchbutten = driver.find_element_by_css_selector('#btnSearch')\n",
      "/tmp/ipykernel_46587/1885124001.py:24: DeprecationWarning: find_element_by_css_selector is deprecated. Please use find_element(by=By.CSS_SELECTOR, value=css_selector) instead\n",
      "  game = driver.find_element_by_css_selector('#selectGameId')\n",
      "/tmp/ipykernel_46587/1885124001.py:28: DeprecationWarning: find_element_by_css_selector is deprecated. Please use find_element(by=By.CSS_SELECTOR, value=css_selector) instead\n",
      "  searchbutten = driver.find_element_by_css_selector('#btnSearch')\n",
      "/tmp/ipykernel_46587/1885124001.py:24: DeprecationWarning: find_element_by_css_selector is deprecated. Please use find_element(by=By.CSS_SELECTOR, value=css_selector) instead\n",
      "  game = driver.find_element_by_css_selector('#selectGameId')\n",
      "/tmp/ipykernel_46587/1885124001.py:28: DeprecationWarning: find_element_by_css_selector is deprecated. Please use find_element(by=By.CSS_SELECTOR, value=css_selector) instead\n",
      "  searchbutten = driver.find_element_by_css_selector('#btnSearch')\n",
      "/tmp/ipykernel_46587/1885124001.py:24: DeprecationWarning: find_element_by_css_selector is deprecated. Please use find_element(by=By.CSS_SELECTOR, value=css_selector) instead\n",
      "  game = driver.find_element_by_css_selector('#selectGameId')\n",
      "/tmp/ipykernel_46587/1885124001.py:28: DeprecationWarning: find_element_by_css_selector is deprecated. Please use find_element(by=By.CSS_SELECTOR, value=css_selector) instead\n",
      "  searchbutten = driver.find_element_by_css_selector('#btnSearch')\n",
      "/tmp/ipykernel_46587/1885124001.py:24: DeprecationWarning: find_element_by_css_selector is deprecated. Please use find_element(by=By.CSS_SELECTOR, value=css_selector) instead\n",
      "  game = driver.find_element_by_css_selector('#selectGameId')\n",
      "/tmp/ipykernel_46587/1885124001.py:28: DeprecationWarning: find_element_by_css_selector is deprecated. Please use find_element(by=By.CSS_SELECTOR, value=css_selector) instead\n",
      "  searchbutten = driver.find_element_by_css_selector('#btnSearch')\n",
      "/tmp/ipykernel_46587/1885124001.py:24: DeprecationWarning: find_element_by_css_selector is deprecated. Please use find_element(by=By.CSS_SELECTOR, value=css_selector) instead\n",
      "  game = driver.find_element_by_css_selector('#selectGameId')\n",
      "/tmp/ipykernel_46587/1885124001.py:28: DeprecationWarning: find_element_by_css_selector is deprecated. Please use find_element(by=By.CSS_SELECTOR, value=css_selector) instead\n",
      "  searchbutten = driver.find_element_by_css_selector('#btnSearch')\n",
      "/tmp/ipykernel_46587/1885124001.py:24: DeprecationWarning: find_element_by_css_selector is deprecated. Please use find_element(by=By.CSS_SELECTOR, value=css_selector) instead\n",
      "  game = driver.find_element_by_css_selector('#selectGameId')\n",
      "/tmp/ipykernel_46587/1885124001.py:28: DeprecationWarning: find_element_by_css_selector is deprecated. Please use find_element(by=By.CSS_SELECTOR, value=css_selector) instead\n",
      "  searchbutten = driver.find_element_by_css_selector('#btnSearch')\n",
      "/tmp/ipykernel_46587/1885124001.py:24: DeprecationWarning: find_element_by_css_selector is deprecated. Please use find_element(by=By.CSS_SELECTOR, value=css_selector) instead\n",
      "  game = driver.find_element_by_css_selector('#selectGameId')\n",
      "/tmp/ipykernel_46587/1885124001.py:28: DeprecationWarning: find_element_by_css_selector is deprecated. Please use find_element(by=By.CSS_SELECTOR, value=css_selector) instead\n",
      "  searchbutten = driver.find_element_by_css_selector('#btnSearch')\n",
      "/tmp/ipykernel_46587/1885124001.py:24: DeprecationWarning: find_element_by_css_selector is deprecated. Please use find_element(by=By.CSS_SELECTOR, value=css_selector) instead\n",
      "  game = driver.find_element_by_css_selector('#selectGameId')\n",
      "/tmp/ipykernel_46587/1885124001.py:28: DeprecationWarning: find_element_by_css_selector is deprecated. Please use find_element(by=By.CSS_SELECTOR, value=css_selector) instead\n",
      "  searchbutten = driver.find_element_by_css_selector('#btnSearch')\n",
      "/tmp/ipykernel_46587/1885124001.py:24: DeprecationWarning: find_element_by_css_selector is deprecated. Please use find_element(by=By.CSS_SELECTOR, value=css_selector) instead\n",
      "  game = driver.find_element_by_css_selector('#selectGameId')\n",
      "/tmp/ipykernel_46587/1885124001.py:28: DeprecationWarning: find_element_by_css_selector is deprecated. Please use find_element(by=By.CSS_SELECTOR, value=css_selector) instead\n",
      "  searchbutten = driver.find_element_by_css_selector('#btnSearch')\n",
      "/tmp/ipykernel_46587/1885124001.py:24: DeprecationWarning: find_element_by_css_selector is deprecated. Please use find_element(by=By.CSS_SELECTOR, value=css_selector) instead\n",
      "  game = driver.find_element_by_css_selector('#selectGameId')\n",
      "/tmp/ipykernel_46587/1885124001.py:28: DeprecationWarning: find_element_by_css_selector is deprecated. Please use find_element(by=By.CSS_SELECTOR, value=css_selector) instead\n",
      "  searchbutten = driver.find_element_by_css_selector('#btnSearch')\n",
      "/tmp/ipykernel_46587/1885124001.py:24: DeprecationWarning: find_element_by_css_selector is deprecated. Please use find_element(by=By.CSS_SELECTOR, value=css_selector) instead\n",
      "  game = driver.find_element_by_css_selector('#selectGameId')\n",
      "/tmp/ipykernel_46587/1885124001.py:28: DeprecationWarning: find_element_by_css_selector is deprecated. Please use find_element(by=By.CSS_SELECTOR, value=css_selector) instead\n",
      "  searchbutten = driver.find_element_by_css_selector('#btnSearch')\n",
      "/tmp/ipykernel_46587/1885124001.py:24: DeprecationWarning: find_element_by_css_selector is deprecated. Please use find_element(by=By.CSS_SELECTOR, value=css_selector) instead\n",
      "  game = driver.find_element_by_css_selector('#selectGameId')\n",
      "/tmp/ipykernel_46587/1885124001.py:28: DeprecationWarning: find_element_by_css_selector is deprecated. Please use find_element(by=By.CSS_SELECTOR, value=css_selector) instead\n",
      "  searchbutten = driver.find_element_by_css_selector('#btnSearch')\n",
      "/tmp/ipykernel_46587/1885124001.py:24: DeprecationWarning: find_element_by_css_selector is deprecated. Please use find_element(by=By.CSS_SELECTOR, value=css_selector) instead\n",
      "  game = driver.find_element_by_css_selector('#selectGameId')\n",
      "/tmp/ipykernel_46587/1885124001.py:28: DeprecationWarning: find_element_by_css_selector is deprecated. Please use find_element(by=By.CSS_SELECTOR, value=css_selector) instead\n",
      "  searchbutten = driver.find_element_by_css_selector('#btnSearch')\n",
      "/tmp/ipykernel_46587/1885124001.py:24: DeprecationWarning: find_element_by_css_selector is deprecated. Please use find_element(by=By.CSS_SELECTOR, value=css_selector) instead\n",
      "  game = driver.find_element_by_css_selector('#selectGameId')\n",
      "/tmp/ipykernel_46587/1885124001.py:28: DeprecationWarning: find_element_by_css_selector is deprecated. Please use find_element(by=By.CSS_SELECTOR, value=css_selector) instead\n",
      "  searchbutten = driver.find_element_by_css_selector('#btnSearch')\n",
      "/tmp/ipykernel_46587/1885124001.py:24: DeprecationWarning: find_element_by_css_selector is deprecated. Please use find_element(by=By.CSS_SELECTOR, value=css_selector) instead\n",
      "  game = driver.find_element_by_css_selector('#selectGameId')\n",
      "/tmp/ipykernel_46587/1885124001.py:28: DeprecationWarning: find_element_by_css_selector is deprecated. Please use find_element(by=By.CSS_SELECTOR, value=css_selector) instead\n",
      "  searchbutten = driver.find_element_by_css_selector('#btnSearch')\n",
      "/tmp/ipykernel_46587/1885124001.py:24: DeprecationWarning: find_element_by_css_selector is deprecated. Please use find_element(by=By.CSS_SELECTOR, value=css_selector) instead\n",
      "  game = driver.find_element_by_css_selector('#selectGameId')\n",
      "/tmp/ipykernel_46587/1885124001.py:28: DeprecationWarning: find_element_by_css_selector is deprecated. Please use find_element(by=By.CSS_SELECTOR, value=css_selector) instead\n",
      "  searchbutten = driver.find_element_by_css_selector('#btnSearch')\n",
      "/tmp/ipykernel_46587/1885124001.py:24: DeprecationWarning: find_element_by_css_selector is deprecated. Please use find_element(by=By.CSS_SELECTOR, value=css_selector) instead\n",
      "  game = driver.find_element_by_css_selector('#selectGameId')\n",
      "/tmp/ipykernel_46587/1885124001.py:28: DeprecationWarning: find_element_by_css_selector is deprecated. Please use find_element(by=By.CSS_SELECTOR, value=css_selector) instead\n",
      "  searchbutten = driver.find_element_by_css_selector('#btnSearch')\n",
      "/tmp/ipykernel_46587/1885124001.py:24: DeprecationWarning: find_element_by_css_selector is deprecated. Please use find_element(by=By.CSS_SELECTOR, value=css_selector) instead\n",
      "  game = driver.find_element_by_css_selector('#selectGameId')\n",
      "/tmp/ipykernel_46587/1885124001.py:28: DeprecationWarning: find_element_by_css_selector is deprecated. Please use find_element(by=By.CSS_SELECTOR, value=css_selector) instead\n",
      "  searchbutten = driver.find_element_by_css_selector('#btnSearch')\n",
      "/tmp/ipykernel_46587/1885124001.py:24: DeprecationWarning: find_element_by_css_selector is deprecated. Please use find_element(by=By.CSS_SELECTOR, value=css_selector) instead\n",
      "  game = driver.find_element_by_css_selector('#selectGameId')\n",
      "/tmp/ipykernel_46587/1885124001.py:28: DeprecationWarning: find_element_by_css_selector is deprecated. Please use find_element(by=By.CSS_SELECTOR, value=css_selector) instead\n",
      "  searchbutten = driver.find_element_by_css_selector('#btnSearch')\n",
      "/tmp/ipykernel_46587/1885124001.py:24: DeprecationWarning: find_element_by_css_selector is deprecated. Please use find_element(by=By.CSS_SELECTOR, value=css_selector) instead\n",
      "  game = driver.find_element_by_css_selector('#selectGameId')\n",
      "/tmp/ipykernel_46587/1885124001.py:28: DeprecationWarning: find_element_by_css_selector is deprecated. Please use find_element(by=By.CSS_SELECTOR, value=css_selector) instead\n",
      "  searchbutten = driver.find_element_by_css_selector('#btnSearch')\n",
      "/tmp/ipykernel_46587/1885124001.py:24: DeprecationWarning: find_element_by_css_selector is deprecated. Please use find_element(by=By.CSS_SELECTOR, value=css_selector) instead\n",
      "  game = driver.find_element_by_css_selector('#selectGameId')\n",
      "/tmp/ipykernel_46587/1885124001.py:28: DeprecationWarning: find_element_by_css_selector is deprecated. Please use find_element(by=By.CSS_SELECTOR, value=css_selector) instead\n",
      "  searchbutten = driver.find_element_by_css_selector('#btnSearch')\n",
      "/tmp/ipykernel_46587/1885124001.py:24: DeprecationWarning: find_element_by_css_selector is deprecated. Please use find_element(by=By.CSS_SELECTOR, value=css_selector) instead\n",
      "  game = driver.find_element_by_css_selector('#selectGameId')\n",
      "/tmp/ipykernel_46587/1885124001.py:28: DeprecationWarning: find_element_by_css_selector is deprecated. Please use find_element(by=By.CSS_SELECTOR, value=css_selector) instead\n",
      "  searchbutten = driver.find_element_by_css_selector('#btnSearch')\n",
      "/tmp/ipykernel_46587/1885124001.py:24: DeprecationWarning: find_element_by_css_selector is deprecated. Please use find_element(by=By.CSS_SELECTOR, value=css_selector) instead\n",
      "  game = driver.find_element_by_css_selector('#selectGameId')\n",
      "/tmp/ipykernel_46587/1885124001.py:28: DeprecationWarning: find_element_by_css_selector is deprecated. Please use find_element(by=By.CSS_SELECTOR, value=css_selector) instead\n",
      "  searchbutten = driver.find_element_by_css_selector('#btnSearch')\n",
      "/tmp/ipykernel_46587/1885124001.py:17: DeprecationWarning: find_element_by_css_selector is deprecated. Please use find_element(by=By.CSS_SELECTOR, value=css_selector) instead\n",
      "  teamsel = driver.find_element_by_css_selector('#selectTeamId')\n",
      "/tmp/ipykernel_46587/1885124001.py:20: DeprecationWarning: find_elements_by_css_selector is deprecated. Please use find_elements(by=By.CSS_SELECTOR, value=css_selector) instead\n",
      "  gamessel = driver.find_elements_by_css_selector('#selectGameId > option')\n",
      "/tmp/ipykernel_46587/1885124001.py:24: DeprecationWarning: find_element_by_css_selector is deprecated. Please use find_element(by=By.CSS_SELECTOR, value=css_selector) instead\n",
      "  game = driver.find_element_by_css_selector('#selectGameId')\n",
      "/tmp/ipykernel_46587/1885124001.py:28: DeprecationWarning: find_element_by_css_selector is deprecated. Please use find_element(by=By.CSS_SELECTOR, value=css_selector) instead\n",
      "  searchbutten = driver.find_element_by_css_selector('#btnSearch')\n",
      "/tmp/ipykernel_46587/1885124001.py:24: DeprecationWarning: find_element_by_css_selector is deprecated. Please use find_element(by=By.CSS_SELECTOR, value=css_selector) instead\n",
      "  game = driver.find_element_by_css_selector('#selectGameId')\n",
      "/tmp/ipykernel_46587/1885124001.py:28: DeprecationWarning: find_element_by_css_selector is deprecated. Please use find_element(by=By.CSS_SELECTOR, value=css_selector) instead\n",
      "  searchbutten = driver.find_element_by_css_selector('#btnSearch')\n",
      "/tmp/ipykernel_46587/1885124001.py:24: DeprecationWarning: find_element_by_css_selector is deprecated. Please use find_element(by=By.CSS_SELECTOR, value=css_selector) instead\n",
      "  game = driver.find_element_by_css_selector('#selectGameId')\n",
      "/tmp/ipykernel_46587/1885124001.py:28: DeprecationWarning: find_element_by_css_selector is deprecated. Please use find_element(by=By.CSS_SELECTOR, value=css_selector) instead\n",
      "  searchbutten = driver.find_element_by_css_selector('#btnSearch')\n",
      "/tmp/ipykernel_46587/1885124001.py:24: DeprecationWarning: find_element_by_css_selector is deprecated. Please use find_element(by=By.CSS_SELECTOR, value=css_selector) instead\n",
      "  game = driver.find_element_by_css_selector('#selectGameId')\n",
      "/tmp/ipykernel_46587/1885124001.py:28: DeprecationWarning: find_element_by_css_selector is deprecated. Please use find_element(by=By.CSS_SELECTOR, value=css_selector) instead\n",
      "  searchbutten = driver.find_element_by_css_selector('#btnSearch')\n",
      "/tmp/ipykernel_46587/1885124001.py:24: DeprecationWarning: find_element_by_css_selector is deprecated. Please use find_element(by=By.CSS_SELECTOR, value=css_selector) instead\n",
      "  game = driver.find_element_by_css_selector('#selectGameId')\n",
      "/tmp/ipykernel_46587/1885124001.py:28: DeprecationWarning: find_element_by_css_selector is deprecated. Please use find_element(by=By.CSS_SELECTOR, value=css_selector) instead\n",
      "  searchbutten = driver.find_element_by_css_selector('#btnSearch')\n",
      "/tmp/ipykernel_46587/1885124001.py:24: DeprecationWarning: find_element_by_css_selector is deprecated. Please use find_element(by=By.CSS_SELECTOR, value=css_selector) instead\n",
      "  game = driver.find_element_by_css_selector('#selectGameId')\n",
      "/tmp/ipykernel_46587/1885124001.py:28: DeprecationWarning: find_element_by_css_selector is deprecated. Please use find_element(by=By.CSS_SELECTOR, value=css_selector) instead\n",
      "  searchbutten = driver.find_element_by_css_selector('#btnSearch')\n",
      "/tmp/ipykernel_46587/1885124001.py:24: DeprecationWarning: find_element_by_css_selector is deprecated. Please use find_element(by=By.CSS_SELECTOR, value=css_selector) instead\n",
      "  game = driver.find_element_by_css_selector('#selectGameId')\n",
      "/tmp/ipykernel_46587/1885124001.py:28: DeprecationWarning: find_element_by_css_selector is deprecated. Please use find_element(by=By.CSS_SELECTOR, value=css_selector) instead\n",
      "  searchbutten = driver.find_element_by_css_selector('#btnSearch')\n",
      "/tmp/ipykernel_46587/1885124001.py:24: DeprecationWarning: find_element_by_css_selector is deprecated. Please use find_element(by=By.CSS_SELECTOR, value=css_selector) instead\n",
      "  game = driver.find_element_by_css_selector('#selectGameId')\n",
      "/tmp/ipykernel_46587/1885124001.py:28: DeprecationWarning: find_element_by_css_selector is deprecated. Please use find_element(by=By.CSS_SELECTOR, value=css_selector) instead\n",
      "  searchbutten = driver.find_element_by_css_selector('#btnSearch')\n",
      "/tmp/ipykernel_46587/1885124001.py:24: DeprecationWarning: find_element_by_css_selector is deprecated. Please use find_element(by=By.CSS_SELECTOR, value=css_selector) instead\n",
      "  game = driver.find_element_by_css_selector('#selectGameId')\n",
      "/tmp/ipykernel_46587/1885124001.py:28: DeprecationWarning: find_element_by_css_selector is deprecated. Please use find_element(by=By.CSS_SELECTOR, value=css_selector) instead\n",
      "  searchbutten = driver.find_element_by_css_selector('#btnSearch')\n",
      "/tmp/ipykernel_46587/1885124001.py:24: DeprecationWarning: find_element_by_css_selector is deprecated. Please use find_element(by=By.CSS_SELECTOR, value=css_selector) instead\n",
      "  game = driver.find_element_by_css_selector('#selectGameId')\n",
      "/tmp/ipykernel_46587/1885124001.py:28: DeprecationWarning: find_element_by_css_selector is deprecated. Please use find_element(by=By.CSS_SELECTOR, value=css_selector) instead\n",
      "  searchbutten = driver.find_element_by_css_selector('#btnSearch')\n",
      "/tmp/ipykernel_46587/1885124001.py:24: DeprecationWarning: find_element_by_css_selector is deprecated. Please use find_element(by=By.CSS_SELECTOR, value=css_selector) instead\n",
      "  game = driver.find_element_by_css_selector('#selectGameId')\n",
      "/tmp/ipykernel_46587/1885124001.py:28: DeprecationWarning: find_element_by_css_selector is deprecated. Please use find_element(by=By.CSS_SELECTOR, value=css_selector) instead\n",
      "  searchbutten = driver.find_element_by_css_selector('#btnSearch')\n",
      "/tmp/ipykernel_46587/1885124001.py:24: DeprecationWarning: find_element_by_css_selector is deprecated. Please use find_element(by=By.CSS_SELECTOR, value=css_selector) instead\n",
      "  game = driver.find_element_by_css_selector('#selectGameId')\n",
      "/tmp/ipykernel_46587/1885124001.py:28: DeprecationWarning: find_element_by_css_selector is deprecated. Please use find_element(by=By.CSS_SELECTOR, value=css_selector) instead\n",
      "  searchbutten = driver.find_element_by_css_selector('#btnSearch')\n",
      "/tmp/ipykernel_46587/1885124001.py:24: DeprecationWarning: find_element_by_css_selector is deprecated. Please use find_element(by=By.CSS_SELECTOR, value=css_selector) instead\n",
      "  game = driver.find_element_by_css_selector('#selectGameId')\n",
      "/tmp/ipykernel_46587/1885124001.py:28: DeprecationWarning: find_element_by_css_selector is deprecated. Please use find_element(by=By.CSS_SELECTOR, value=css_selector) instead\n",
      "  searchbutten = driver.find_element_by_css_selector('#btnSearch')\n",
      "/tmp/ipykernel_46587/1885124001.py:24: DeprecationWarning: find_element_by_css_selector is deprecated. Please use find_element(by=By.CSS_SELECTOR, value=css_selector) instead\n",
      "  game = driver.find_element_by_css_selector('#selectGameId')\n",
      "/tmp/ipykernel_46587/1885124001.py:28: DeprecationWarning: find_element_by_css_selector is deprecated. Please use find_element(by=By.CSS_SELECTOR, value=css_selector) instead\n",
      "  searchbutten = driver.find_element_by_css_selector('#btnSearch')\n",
      "/tmp/ipykernel_46587/1885124001.py:24: DeprecationWarning: find_element_by_css_selector is deprecated. Please use find_element(by=By.CSS_SELECTOR, value=css_selector) instead\n",
      "  game = driver.find_element_by_css_selector('#selectGameId')\n",
      "/tmp/ipykernel_46587/1885124001.py:28: DeprecationWarning: find_element_by_css_selector is deprecated. Please use find_element(by=By.CSS_SELECTOR, value=css_selector) instead\n",
      "  searchbutten = driver.find_element_by_css_selector('#btnSearch')\n",
      "/tmp/ipykernel_46587/1885124001.py:24: DeprecationWarning: find_element_by_css_selector is deprecated. Please use find_element(by=By.CSS_SELECTOR, value=css_selector) instead\n",
      "  game = driver.find_element_by_css_selector('#selectGameId')\n",
      "/tmp/ipykernel_46587/1885124001.py:28: DeprecationWarning: find_element_by_css_selector is deprecated. Please use find_element(by=By.CSS_SELECTOR, value=css_selector) instead\n",
      "  searchbutten = driver.find_element_by_css_selector('#btnSearch')\n",
      "/tmp/ipykernel_46587/1885124001.py:24: DeprecationWarning: find_element_by_css_selector is deprecated. Please use find_element(by=By.CSS_SELECTOR, value=css_selector) instead\n",
      "  game = driver.find_element_by_css_selector('#selectGameId')\n",
      "/tmp/ipykernel_46587/1885124001.py:28: DeprecationWarning: find_element_by_css_selector is deprecated. Please use find_element(by=By.CSS_SELECTOR, value=css_selector) instead\n",
      "  searchbutten = driver.find_element_by_css_selector('#btnSearch')\n",
      "/tmp/ipykernel_46587/1885124001.py:24: DeprecationWarning: find_element_by_css_selector is deprecated. Please use find_element(by=By.CSS_SELECTOR, value=css_selector) instead\n",
      "  game = driver.find_element_by_css_selector('#selectGameId')\n",
      "/tmp/ipykernel_46587/1885124001.py:28: DeprecationWarning: find_element_by_css_selector is deprecated. Please use find_element(by=By.CSS_SELECTOR, value=css_selector) instead\n",
      "  searchbutten = driver.find_element_by_css_selector('#btnSearch')\n",
      "/tmp/ipykernel_46587/1885124001.py:24: DeprecationWarning: find_element_by_css_selector is deprecated. Please use find_element(by=By.CSS_SELECTOR, value=css_selector) instead\n",
      "  game = driver.find_element_by_css_selector('#selectGameId')\n",
      "/tmp/ipykernel_46587/1885124001.py:28: DeprecationWarning: find_element_by_css_selector is deprecated. Please use find_element(by=By.CSS_SELECTOR, value=css_selector) instead\n",
      "  searchbutten = driver.find_element_by_css_selector('#btnSearch')\n",
      "/tmp/ipykernel_46587/1885124001.py:24: DeprecationWarning: find_element_by_css_selector is deprecated. Please use find_element(by=By.CSS_SELECTOR, value=css_selector) instead\n",
      "  game = driver.find_element_by_css_selector('#selectGameId')\n",
      "/tmp/ipykernel_46587/1885124001.py:28: DeprecationWarning: find_element_by_css_selector is deprecated. Please use find_element(by=By.CSS_SELECTOR, value=css_selector) instead\n",
      "  searchbutten = driver.find_element_by_css_selector('#btnSearch')\n",
      "/tmp/ipykernel_46587/1885124001.py:24: DeprecationWarning: find_element_by_css_selector is deprecated. Please use find_element(by=By.CSS_SELECTOR, value=css_selector) instead\n",
      "  game = driver.find_element_by_css_selector('#selectGameId')\n",
      "/tmp/ipykernel_46587/1885124001.py:28: DeprecationWarning: find_element_by_css_selector is deprecated. Please use find_element(by=By.CSS_SELECTOR, value=css_selector) instead\n",
      "  searchbutten = driver.find_element_by_css_selector('#btnSearch')\n",
      "/tmp/ipykernel_46587/1885124001.py:24: DeprecationWarning: find_element_by_css_selector is deprecated. Please use find_element(by=By.CSS_SELECTOR, value=css_selector) instead\n",
      "  game = driver.find_element_by_css_selector('#selectGameId')\n",
      "/tmp/ipykernel_46587/1885124001.py:28: DeprecationWarning: find_element_by_css_selector is deprecated. Please use find_element(by=By.CSS_SELECTOR, value=css_selector) instead\n",
      "  searchbutten = driver.find_element_by_css_selector('#btnSearch')\n",
      "/tmp/ipykernel_46587/1885124001.py:24: DeprecationWarning: find_element_by_css_selector is deprecated. Please use find_element(by=By.CSS_SELECTOR, value=css_selector) instead\n",
      "  game = driver.find_element_by_css_selector('#selectGameId')\n",
      "/tmp/ipykernel_46587/1885124001.py:28: DeprecationWarning: find_element_by_css_selector is deprecated. Please use find_element(by=By.CSS_SELECTOR, value=css_selector) instead\n",
      "  searchbutten = driver.find_element_by_css_selector('#btnSearch')\n",
      "/tmp/ipykernel_46587/1885124001.py:24: DeprecationWarning: find_element_by_css_selector is deprecated. Please use find_element(by=By.CSS_SELECTOR, value=css_selector) instead\n",
      "  game = driver.find_element_by_css_selector('#selectGameId')\n",
      "/tmp/ipykernel_46587/1885124001.py:28: DeprecationWarning: find_element_by_css_selector is deprecated. Please use find_element(by=By.CSS_SELECTOR, value=css_selector) instead\n",
      "  searchbutten = driver.find_element_by_css_selector('#btnSearch')\n",
      "/tmp/ipykernel_46587/1885124001.py:24: DeprecationWarning: find_element_by_css_selector is deprecated. Please use find_element(by=By.CSS_SELECTOR, value=css_selector) instead\n",
      "  game = driver.find_element_by_css_selector('#selectGameId')\n",
      "/tmp/ipykernel_46587/1885124001.py:28: DeprecationWarning: find_element_by_css_selector is deprecated. Please use find_element(by=By.CSS_SELECTOR, value=css_selector) instead\n",
      "  searchbutten = driver.find_element_by_css_selector('#btnSearch')\n",
      "/tmp/ipykernel_46587/1885124001.py:24: DeprecationWarning: find_element_by_css_selector is deprecated. Please use find_element(by=By.CSS_SELECTOR, value=css_selector) instead\n",
      "  game = driver.find_element_by_css_selector('#selectGameId')\n",
      "/tmp/ipykernel_46587/1885124001.py:28: DeprecationWarning: find_element_by_css_selector is deprecated. Please use find_element(by=By.CSS_SELECTOR, value=css_selector) instead\n",
      "  searchbutten = driver.find_element_by_css_selector('#btnSearch')\n",
      "/tmp/ipykernel_46587/1885124001.py:24: DeprecationWarning: find_element_by_css_selector is deprecated. Please use find_element(by=By.CSS_SELECTOR, value=css_selector) instead\n",
      "  game = driver.find_element_by_css_selector('#selectGameId')\n",
      "/tmp/ipykernel_46587/1885124001.py:28: DeprecationWarning: find_element_by_css_selector is deprecated. Please use find_element(by=By.CSS_SELECTOR, value=css_selector) instead\n",
      "  searchbutten = driver.find_element_by_css_selector('#btnSearch')\n",
      "/tmp/ipykernel_46587/1885124001.py:24: DeprecationWarning: find_element_by_css_selector is deprecated. Please use find_element(by=By.CSS_SELECTOR, value=css_selector) instead\n",
      "  game = driver.find_element_by_css_selector('#selectGameId')\n",
      "/tmp/ipykernel_46587/1885124001.py:28: DeprecationWarning: find_element_by_css_selector is deprecated. Please use find_element(by=By.CSS_SELECTOR, value=css_selector) instead\n",
      "  searchbutten = driver.find_element_by_css_selector('#btnSearch')\n",
      "/tmp/ipykernel_46587/1885124001.py:24: DeprecationWarning: find_element_by_css_selector is deprecated. Please use find_element(by=By.CSS_SELECTOR, value=css_selector) instead\n",
      "  game = driver.find_element_by_css_selector('#selectGameId')\n",
      "/tmp/ipykernel_46587/1885124001.py:28: DeprecationWarning: find_element_by_css_selector is deprecated. Please use find_element(by=By.CSS_SELECTOR, value=css_selector) instead\n",
      "  searchbutten = driver.find_element_by_css_selector('#btnSearch')\n",
      "/tmp/ipykernel_46587/1885124001.py:24: DeprecationWarning: find_element_by_css_selector is deprecated. Please use find_element(by=By.CSS_SELECTOR, value=css_selector) instead\n",
      "  game = driver.find_element_by_css_selector('#selectGameId')\n",
      "/tmp/ipykernel_46587/1885124001.py:28: DeprecationWarning: find_element_by_css_selector is deprecated. Please use find_element(by=By.CSS_SELECTOR, value=css_selector) instead\n",
      "  searchbutten = driver.find_element_by_css_selector('#btnSearch')\n",
      "/tmp/ipykernel_46587/1885124001.py:24: DeprecationWarning: find_element_by_css_selector is deprecated. Please use find_element(by=By.CSS_SELECTOR, value=css_selector) instead\n",
      "  game = driver.find_element_by_css_selector('#selectGameId')\n",
      "/tmp/ipykernel_46587/1885124001.py:28: DeprecationWarning: find_element_by_css_selector is deprecated. Please use find_element(by=By.CSS_SELECTOR, value=css_selector) instead\n",
      "  searchbutten = driver.find_element_by_css_selector('#btnSearch')\n",
      "/tmp/ipykernel_46587/1885124001.py:24: DeprecationWarning: find_element_by_css_selector is deprecated. Please use find_element(by=By.CSS_SELECTOR, value=css_selector) instead\n",
      "  game = driver.find_element_by_css_selector('#selectGameId')\n",
      "/tmp/ipykernel_46587/1885124001.py:28: DeprecationWarning: find_element_by_css_selector is deprecated. Please use find_element(by=By.CSS_SELECTOR, value=css_selector) instead\n",
      "  searchbutten = driver.find_element_by_css_selector('#btnSearch')\n",
      "/tmp/ipykernel_46587/1885124001.py:24: DeprecationWarning: find_element_by_css_selector is deprecated. Please use find_element(by=By.CSS_SELECTOR, value=css_selector) instead\n",
      "  game = driver.find_element_by_css_selector('#selectGameId')\n",
      "/tmp/ipykernel_46587/1885124001.py:28: DeprecationWarning: find_element_by_css_selector is deprecated. Please use find_element(by=By.CSS_SELECTOR, value=css_selector) instead\n",
      "  searchbutten = driver.find_element_by_css_selector('#btnSearch')\n",
      "/tmp/ipykernel_46587/1885124001.py:24: DeprecationWarning: find_element_by_css_selector is deprecated. Please use find_element(by=By.CSS_SELECTOR, value=css_selector) instead\n",
      "  game = driver.find_element_by_css_selector('#selectGameId')\n",
      "/tmp/ipykernel_46587/1885124001.py:28: DeprecationWarning: find_element_by_css_selector is deprecated. Please use find_element(by=By.CSS_SELECTOR, value=css_selector) instead\n",
      "  searchbutten = driver.find_element_by_css_selector('#btnSearch')\n",
      "/tmp/ipykernel_46587/1885124001.py:24: DeprecationWarning: find_element_by_css_selector is deprecated. Please use find_element(by=By.CSS_SELECTOR, value=css_selector) instead\n",
      "  game = driver.find_element_by_css_selector('#selectGameId')\n",
      "/tmp/ipykernel_46587/1885124001.py:28: DeprecationWarning: find_element_by_css_selector is deprecated. Please use find_element(by=By.CSS_SELECTOR, value=css_selector) instead\n",
      "  searchbutten = driver.find_element_by_css_selector('#btnSearch')\n",
      "/tmp/ipykernel_46587/1885124001.py:24: DeprecationWarning: find_element_by_css_selector is deprecated. Please use find_element(by=By.CSS_SELECTOR, value=css_selector) instead\n",
      "  game = driver.find_element_by_css_selector('#selectGameId')\n",
      "/tmp/ipykernel_46587/1885124001.py:28: DeprecationWarning: find_element_by_css_selector is deprecated. Please use find_element(by=By.CSS_SELECTOR, value=css_selector) instead\n",
      "  searchbutten = driver.find_element_by_css_selector('#btnSearch')\n",
      "/tmp/ipykernel_46587/1885124001.py:24: DeprecationWarning: find_element_by_css_selector is deprecated. Please use find_element(by=By.CSS_SELECTOR, value=css_selector) instead\n",
      "  game = driver.find_element_by_css_selector('#selectGameId')\n",
      "/tmp/ipykernel_46587/1885124001.py:28: DeprecationWarning: find_element_by_css_selector is deprecated. Please use find_element(by=By.CSS_SELECTOR, value=css_selector) instead\n",
      "  searchbutten = driver.find_element_by_css_selector('#btnSearch')\n",
      "/tmp/ipykernel_46587/1885124001.py:17: DeprecationWarning: find_element_by_css_selector is deprecated. Please use find_element(by=By.CSS_SELECTOR, value=css_selector) instead\n",
      "  teamsel = driver.find_element_by_css_selector('#selectTeamId')\n",
      "/tmp/ipykernel_46587/1885124001.py:20: DeprecationWarning: find_elements_by_css_selector is deprecated. Please use find_elements(by=By.CSS_SELECTOR, value=css_selector) instead\n",
      "  gamessel = driver.find_elements_by_css_selector('#selectGameId > option')\n",
      "/tmp/ipykernel_46587/1885124001.py:24: DeprecationWarning: find_element_by_css_selector is deprecated. Please use find_element(by=By.CSS_SELECTOR, value=css_selector) instead\n",
      "  game = driver.find_element_by_css_selector('#selectGameId')\n",
      "/tmp/ipykernel_46587/1885124001.py:28: DeprecationWarning: find_element_by_css_selector is deprecated. Please use find_element(by=By.CSS_SELECTOR, value=css_selector) instead\n",
      "  searchbutten = driver.find_element_by_css_selector('#btnSearch')\n",
      "/tmp/ipykernel_46587/1885124001.py:24: DeprecationWarning: find_element_by_css_selector is deprecated. Please use find_element(by=By.CSS_SELECTOR, value=css_selector) instead\n",
      "  game = driver.find_element_by_css_selector('#selectGameId')\n",
      "/tmp/ipykernel_46587/1885124001.py:28: DeprecationWarning: find_element_by_css_selector is deprecated. Please use find_element(by=By.CSS_SELECTOR, value=css_selector) instead\n",
      "  searchbutten = driver.find_element_by_css_selector('#btnSearch')\n",
      "/tmp/ipykernel_46587/1885124001.py:24: DeprecationWarning: find_element_by_css_selector is deprecated. Please use find_element(by=By.CSS_SELECTOR, value=css_selector) instead\n",
      "  game = driver.find_element_by_css_selector('#selectGameId')\n",
      "/tmp/ipykernel_46587/1885124001.py:28: DeprecationWarning: find_element_by_css_selector is deprecated. Please use find_element(by=By.CSS_SELECTOR, value=css_selector) instead\n",
      "  searchbutten = driver.find_element_by_css_selector('#btnSearch')\n",
      "/tmp/ipykernel_46587/1885124001.py:24: DeprecationWarning: find_element_by_css_selector is deprecated. Please use find_element(by=By.CSS_SELECTOR, value=css_selector) instead\n",
      "  game = driver.find_element_by_css_selector('#selectGameId')\n",
      "/tmp/ipykernel_46587/1885124001.py:28: DeprecationWarning: find_element_by_css_selector is deprecated. Please use find_element(by=By.CSS_SELECTOR, value=css_selector) instead\n",
      "  searchbutten = driver.find_element_by_css_selector('#btnSearch')\n",
      "/tmp/ipykernel_46587/1885124001.py:24: DeprecationWarning: find_element_by_css_selector is deprecated. Please use find_element(by=By.CSS_SELECTOR, value=css_selector) instead\n",
      "  game = driver.find_element_by_css_selector('#selectGameId')\n",
      "/tmp/ipykernel_46587/1885124001.py:28: DeprecationWarning: find_element_by_css_selector is deprecated. Please use find_element(by=By.CSS_SELECTOR, value=css_selector) instead\n",
      "  searchbutten = driver.find_element_by_css_selector('#btnSearch')\n",
      "/tmp/ipykernel_46587/1885124001.py:24: DeprecationWarning: find_element_by_css_selector is deprecated. Please use find_element(by=By.CSS_SELECTOR, value=css_selector) instead\n",
      "  game = driver.find_element_by_css_selector('#selectGameId')\n",
      "/tmp/ipykernel_46587/1885124001.py:28: DeprecationWarning: find_element_by_css_selector is deprecated. Please use find_element(by=By.CSS_SELECTOR, value=css_selector) instead\n",
      "  searchbutten = driver.find_element_by_css_selector('#btnSearch')\n",
      "/tmp/ipykernel_46587/1885124001.py:24: DeprecationWarning: find_element_by_css_selector is deprecated. Please use find_element(by=By.CSS_SELECTOR, value=css_selector) instead\n",
      "  game = driver.find_element_by_css_selector('#selectGameId')\n",
      "/tmp/ipykernel_46587/1885124001.py:28: DeprecationWarning: find_element_by_css_selector is deprecated. Please use find_element(by=By.CSS_SELECTOR, value=css_selector) instead\n",
      "  searchbutten = driver.find_element_by_css_selector('#btnSearch')\n",
      "/tmp/ipykernel_46587/1885124001.py:24: DeprecationWarning: find_element_by_css_selector is deprecated. Please use find_element(by=By.CSS_SELECTOR, value=css_selector) instead\n",
      "  game = driver.find_element_by_css_selector('#selectGameId')\n",
      "/tmp/ipykernel_46587/1885124001.py:28: DeprecationWarning: find_element_by_css_selector is deprecated. Please use find_element(by=By.CSS_SELECTOR, value=css_selector) instead\n",
      "  searchbutten = driver.find_element_by_css_selector('#btnSearch')\n",
      "/tmp/ipykernel_46587/1885124001.py:24: DeprecationWarning: find_element_by_css_selector is deprecated. Please use find_element(by=By.CSS_SELECTOR, value=css_selector) instead\n",
      "  game = driver.find_element_by_css_selector('#selectGameId')\n",
      "/tmp/ipykernel_46587/1885124001.py:28: DeprecationWarning: find_element_by_css_selector is deprecated. Please use find_element(by=By.CSS_SELECTOR, value=css_selector) instead\n",
      "  searchbutten = driver.find_element_by_css_selector('#btnSearch')\n",
      "/tmp/ipykernel_46587/1885124001.py:24: DeprecationWarning: find_element_by_css_selector is deprecated. Please use find_element(by=By.CSS_SELECTOR, value=css_selector) instead\n",
      "  game = driver.find_element_by_css_selector('#selectGameId')\n",
      "/tmp/ipykernel_46587/1885124001.py:28: DeprecationWarning: find_element_by_css_selector is deprecated. Please use find_element(by=By.CSS_SELECTOR, value=css_selector) instead\n",
      "  searchbutten = driver.find_element_by_css_selector('#btnSearch')\n",
      "/tmp/ipykernel_46587/1885124001.py:24: DeprecationWarning: find_element_by_css_selector is deprecated. Please use find_element(by=By.CSS_SELECTOR, value=css_selector) instead\n",
      "  game = driver.find_element_by_css_selector('#selectGameId')\n",
      "/tmp/ipykernel_46587/1885124001.py:28: DeprecationWarning: find_element_by_css_selector is deprecated. Please use find_element(by=By.CSS_SELECTOR, value=css_selector) instead\n",
      "  searchbutten = driver.find_element_by_css_selector('#btnSearch')\n",
      "/tmp/ipykernel_46587/1885124001.py:24: DeprecationWarning: find_element_by_css_selector is deprecated. Please use find_element(by=By.CSS_SELECTOR, value=css_selector) instead\n",
      "  game = driver.find_element_by_css_selector('#selectGameId')\n",
      "/tmp/ipykernel_46587/1885124001.py:28: DeprecationWarning: find_element_by_css_selector is deprecated. Please use find_element(by=By.CSS_SELECTOR, value=css_selector) instead\n",
      "  searchbutten = driver.find_element_by_css_selector('#btnSearch')\n",
      "/tmp/ipykernel_46587/1885124001.py:24: DeprecationWarning: find_element_by_css_selector is deprecated. Please use find_element(by=By.CSS_SELECTOR, value=css_selector) instead\n",
      "  game = driver.find_element_by_css_selector('#selectGameId')\n",
      "/tmp/ipykernel_46587/1885124001.py:28: DeprecationWarning: find_element_by_css_selector is deprecated. Please use find_element(by=By.CSS_SELECTOR, value=css_selector) instead\n",
      "  searchbutten = driver.find_element_by_css_selector('#btnSearch')\n",
      "/tmp/ipykernel_46587/1885124001.py:24: DeprecationWarning: find_element_by_css_selector is deprecated. Please use find_element(by=By.CSS_SELECTOR, value=css_selector) instead\n",
      "  game = driver.find_element_by_css_selector('#selectGameId')\n",
      "/tmp/ipykernel_46587/1885124001.py:28: DeprecationWarning: find_element_by_css_selector is deprecated. Please use find_element(by=By.CSS_SELECTOR, value=css_selector) instead\n",
      "  searchbutten = driver.find_element_by_css_selector('#btnSearch')\n",
      "/tmp/ipykernel_46587/1885124001.py:24: DeprecationWarning: find_element_by_css_selector is deprecated. Please use find_element(by=By.CSS_SELECTOR, value=css_selector) instead\n",
      "  game = driver.find_element_by_css_selector('#selectGameId')\n",
      "/tmp/ipykernel_46587/1885124001.py:28: DeprecationWarning: find_element_by_css_selector is deprecated. Please use find_element(by=By.CSS_SELECTOR, value=css_selector) instead\n",
      "  searchbutten = driver.find_element_by_css_selector('#btnSearch')\n",
      "/tmp/ipykernel_46587/1885124001.py:24: DeprecationWarning: find_element_by_css_selector is deprecated. Please use find_element(by=By.CSS_SELECTOR, value=css_selector) instead\n",
      "  game = driver.find_element_by_css_selector('#selectGameId')\n",
      "/tmp/ipykernel_46587/1885124001.py:28: DeprecationWarning: find_element_by_css_selector is deprecated. Please use find_element(by=By.CSS_SELECTOR, value=css_selector) instead\n",
      "  searchbutten = driver.find_element_by_css_selector('#btnSearch')\n",
      "/tmp/ipykernel_46587/1885124001.py:24: DeprecationWarning: find_element_by_css_selector is deprecated. Please use find_element(by=By.CSS_SELECTOR, value=css_selector) instead\n",
      "  game = driver.find_element_by_css_selector('#selectGameId')\n",
      "/tmp/ipykernel_46587/1885124001.py:28: DeprecationWarning: find_element_by_css_selector is deprecated. Please use find_element(by=By.CSS_SELECTOR, value=css_selector) instead\n",
      "  searchbutten = driver.find_element_by_css_selector('#btnSearch')\n",
      "/tmp/ipykernel_46587/1885124001.py:24: DeprecationWarning: find_element_by_css_selector is deprecated. Please use find_element(by=By.CSS_SELECTOR, value=css_selector) instead\n",
      "  game = driver.find_element_by_css_selector('#selectGameId')\n",
      "/tmp/ipykernel_46587/1885124001.py:28: DeprecationWarning: find_element_by_css_selector is deprecated. Please use find_element(by=By.CSS_SELECTOR, value=css_selector) instead\n",
      "  searchbutten = driver.find_element_by_css_selector('#btnSearch')\n",
      "/tmp/ipykernel_46587/1885124001.py:24: DeprecationWarning: find_element_by_css_selector is deprecated. Please use find_element(by=By.CSS_SELECTOR, value=css_selector) instead\n",
      "  game = driver.find_element_by_css_selector('#selectGameId')\n",
      "/tmp/ipykernel_46587/1885124001.py:28: DeprecationWarning: find_element_by_css_selector is deprecated. Please use find_element(by=By.CSS_SELECTOR, value=css_selector) instead\n",
      "  searchbutten = driver.find_element_by_css_selector('#btnSearch')\n",
      "/tmp/ipykernel_46587/1885124001.py:24: DeprecationWarning: find_element_by_css_selector is deprecated. Please use find_element(by=By.CSS_SELECTOR, value=css_selector) instead\n",
      "  game = driver.find_element_by_css_selector('#selectGameId')\n",
      "/tmp/ipykernel_46587/1885124001.py:28: DeprecationWarning: find_element_by_css_selector is deprecated. Please use find_element(by=By.CSS_SELECTOR, value=css_selector) instead\n",
      "  searchbutten = driver.find_element_by_css_selector('#btnSearch')\n",
      "/tmp/ipykernel_46587/1885124001.py:24: DeprecationWarning: find_element_by_css_selector is deprecated. Please use find_element(by=By.CSS_SELECTOR, value=css_selector) instead\n",
      "  game = driver.find_element_by_css_selector('#selectGameId')\n",
      "/tmp/ipykernel_46587/1885124001.py:28: DeprecationWarning: find_element_by_css_selector is deprecated. Please use find_element(by=By.CSS_SELECTOR, value=css_selector) instead\n",
      "  searchbutten = driver.find_element_by_css_selector('#btnSearch')\n",
      "/tmp/ipykernel_46587/1885124001.py:24: DeprecationWarning: find_element_by_css_selector is deprecated. Please use find_element(by=By.CSS_SELECTOR, value=css_selector) instead\n",
      "  game = driver.find_element_by_css_selector('#selectGameId')\n",
      "/tmp/ipykernel_46587/1885124001.py:28: DeprecationWarning: find_element_by_css_selector is deprecated. Please use find_element(by=By.CSS_SELECTOR, value=css_selector) instead\n",
      "  searchbutten = driver.find_element_by_css_selector('#btnSearch')\n",
      "/tmp/ipykernel_46587/1885124001.py:24: DeprecationWarning: find_element_by_css_selector is deprecated. Please use find_element(by=By.CSS_SELECTOR, value=css_selector) instead\n",
      "  game = driver.find_element_by_css_selector('#selectGameId')\n",
      "/tmp/ipykernel_46587/1885124001.py:28: DeprecationWarning: find_element_by_css_selector is deprecated. Please use find_element(by=By.CSS_SELECTOR, value=css_selector) instead\n",
      "  searchbutten = driver.find_element_by_css_selector('#btnSearch')\n",
      "/tmp/ipykernel_46587/1885124001.py:24: DeprecationWarning: find_element_by_css_selector is deprecated. Please use find_element(by=By.CSS_SELECTOR, value=css_selector) instead\n",
      "  game = driver.find_element_by_css_selector('#selectGameId')\n",
      "/tmp/ipykernel_46587/1885124001.py:28: DeprecationWarning: find_element_by_css_selector is deprecated. Please use find_element(by=By.CSS_SELECTOR, value=css_selector) instead\n",
      "  searchbutten = driver.find_element_by_css_selector('#btnSearch')\n",
      "/tmp/ipykernel_46587/1885124001.py:24: DeprecationWarning: find_element_by_css_selector is deprecated. Please use find_element(by=By.CSS_SELECTOR, value=css_selector) instead\n",
      "  game = driver.find_element_by_css_selector('#selectGameId')\n",
      "/tmp/ipykernel_46587/1885124001.py:28: DeprecationWarning: find_element_by_css_selector is deprecated. Please use find_element(by=By.CSS_SELECTOR, value=css_selector) instead\n",
      "  searchbutten = driver.find_element_by_css_selector('#btnSearch')\n",
      "/tmp/ipykernel_46587/1885124001.py:24: DeprecationWarning: find_element_by_css_selector is deprecated. Please use find_element(by=By.CSS_SELECTOR, value=css_selector) instead\n",
      "  game = driver.find_element_by_css_selector('#selectGameId')\n",
      "/tmp/ipykernel_46587/1885124001.py:28: DeprecationWarning: find_element_by_css_selector is deprecated. Please use find_element(by=By.CSS_SELECTOR, value=css_selector) instead\n",
      "  searchbutten = driver.find_element_by_css_selector('#btnSearch')\n",
      "/tmp/ipykernel_46587/1885124001.py:24: DeprecationWarning: find_element_by_css_selector is deprecated. Please use find_element(by=By.CSS_SELECTOR, value=css_selector) instead\n",
      "  game = driver.find_element_by_css_selector('#selectGameId')\n",
      "/tmp/ipykernel_46587/1885124001.py:28: DeprecationWarning: find_element_by_css_selector is deprecated. Please use find_element(by=By.CSS_SELECTOR, value=css_selector) instead\n",
      "  searchbutten = driver.find_element_by_css_selector('#btnSearch')\n",
      "/tmp/ipykernel_46587/1885124001.py:24: DeprecationWarning: find_element_by_css_selector is deprecated. Please use find_element(by=By.CSS_SELECTOR, value=css_selector) instead\n",
      "  game = driver.find_element_by_css_selector('#selectGameId')\n",
      "/tmp/ipykernel_46587/1885124001.py:28: DeprecationWarning: find_element_by_css_selector is deprecated. Please use find_element(by=By.CSS_SELECTOR, value=css_selector) instead\n",
      "  searchbutten = driver.find_element_by_css_selector('#btnSearch')\n",
      "/tmp/ipykernel_46587/1885124001.py:24: DeprecationWarning: find_element_by_css_selector is deprecated. Please use find_element(by=By.CSS_SELECTOR, value=css_selector) instead\n",
      "  game = driver.find_element_by_css_selector('#selectGameId')\n",
      "/tmp/ipykernel_46587/1885124001.py:28: DeprecationWarning: find_element_by_css_selector is deprecated. Please use find_element(by=By.CSS_SELECTOR, value=css_selector) instead\n",
      "  searchbutten = driver.find_element_by_css_selector('#btnSearch')\n",
      "/tmp/ipykernel_46587/1885124001.py:24: DeprecationWarning: find_element_by_css_selector is deprecated. Please use find_element(by=By.CSS_SELECTOR, value=css_selector) instead\n",
      "  game = driver.find_element_by_css_selector('#selectGameId')\n",
      "/tmp/ipykernel_46587/1885124001.py:28: DeprecationWarning: find_element_by_css_selector is deprecated. Please use find_element(by=By.CSS_SELECTOR, value=css_selector) instead\n",
      "  searchbutten = driver.find_element_by_css_selector('#btnSearch')\n",
      "/tmp/ipykernel_46587/1885124001.py:24: DeprecationWarning: find_element_by_css_selector is deprecated. Please use find_element(by=By.CSS_SELECTOR, value=css_selector) instead\n",
      "  game = driver.find_element_by_css_selector('#selectGameId')\n",
      "/tmp/ipykernel_46587/1885124001.py:28: DeprecationWarning: find_element_by_css_selector is deprecated. Please use find_element(by=By.CSS_SELECTOR, value=css_selector) instead\n",
      "  searchbutten = driver.find_element_by_css_selector('#btnSearch')\n",
      "/tmp/ipykernel_46587/1885124001.py:24: DeprecationWarning: find_element_by_css_selector is deprecated. Please use find_element(by=By.CSS_SELECTOR, value=css_selector) instead\n",
      "  game = driver.find_element_by_css_selector('#selectGameId')\n",
      "/tmp/ipykernel_46587/1885124001.py:28: DeprecationWarning: find_element_by_css_selector is deprecated. Please use find_element(by=By.CSS_SELECTOR, value=css_selector) instead\n",
      "  searchbutten = driver.find_element_by_css_selector('#btnSearch')\n",
      "/tmp/ipykernel_46587/1885124001.py:24: DeprecationWarning: find_element_by_css_selector is deprecated. Please use find_element(by=By.CSS_SELECTOR, value=css_selector) instead\n",
      "  game = driver.find_element_by_css_selector('#selectGameId')\n",
      "/tmp/ipykernel_46587/1885124001.py:28: DeprecationWarning: find_element_by_css_selector is deprecated. Please use find_element(by=By.CSS_SELECTOR, value=css_selector) instead\n",
      "  searchbutten = driver.find_element_by_css_selector('#btnSearch')\n",
      "/tmp/ipykernel_46587/1885124001.py:24: DeprecationWarning: find_element_by_css_selector is deprecated. Please use find_element(by=By.CSS_SELECTOR, value=css_selector) instead\n",
      "  game = driver.find_element_by_css_selector('#selectGameId')\n",
      "/tmp/ipykernel_46587/1885124001.py:28: DeprecationWarning: find_element_by_css_selector is deprecated. Please use find_element(by=By.CSS_SELECTOR, value=css_selector) instead\n",
      "  searchbutten = driver.find_element_by_css_selector('#btnSearch')\n",
      "/tmp/ipykernel_46587/1885124001.py:24: DeprecationWarning: find_element_by_css_selector is deprecated. Please use find_element(by=By.CSS_SELECTOR, value=css_selector) instead\n",
      "  game = driver.find_element_by_css_selector('#selectGameId')\n",
      "/tmp/ipykernel_46587/1885124001.py:28: DeprecationWarning: find_element_by_css_selector is deprecated. Please use find_element(by=By.CSS_SELECTOR, value=css_selector) instead\n",
      "  searchbutten = driver.find_element_by_css_selector('#btnSearch')\n",
      "/tmp/ipykernel_46587/1885124001.py:24: DeprecationWarning: find_element_by_css_selector is deprecated. Please use find_element(by=By.CSS_SELECTOR, value=css_selector) instead\n",
      "  game = driver.find_element_by_css_selector('#selectGameId')\n",
      "/tmp/ipykernel_46587/1885124001.py:28: DeprecationWarning: find_element_by_css_selector is deprecated. Please use find_element(by=By.CSS_SELECTOR, value=css_selector) instead\n",
      "  searchbutten = driver.find_element_by_css_selector('#btnSearch')\n",
      "/tmp/ipykernel_46587/1885124001.py:17: DeprecationWarning: find_element_by_css_selector is deprecated. Please use find_element(by=By.CSS_SELECTOR, value=css_selector) instead\n",
      "  teamsel = driver.find_element_by_css_selector('#selectTeamId')\n",
      "/tmp/ipykernel_46587/1885124001.py:20: DeprecationWarning: find_elements_by_css_selector is deprecated. Please use find_elements(by=By.CSS_SELECTOR, value=css_selector) instead\n",
      "  gamessel = driver.find_elements_by_css_selector('#selectGameId > option')\n",
      "/tmp/ipykernel_46587/1885124001.py:24: DeprecationWarning: find_element_by_css_selector is deprecated. Please use find_element(by=By.CSS_SELECTOR, value=css_selector) instead\n",
      "  game = driver.find_element_by_css_selector('#selectGameId')\n",
      "/tmp/ipykernel_46587/1885124001.py:28: DeprecationWarning: find_element_by_css_selector is deprecated. Please use find_element(by=By.CSS_SELECTOR, value=css_selector) instead\n",
      "  searchbutten = driver.find_element_by_css_selector('#btnSearch')\n",
      "/tmp/ipykernel_46587/1885124001.py:24: DeprecationWarning: find_element_by_css_selector is deprecated. Please use find_element(by=By.CSS_SELECTOR, value=css_selector) instead\n",
      "  game = driver.find_element_by_css_selector('#selectGameId')\n",
      "/tmp/ipykernel_46587/1885124001.py:28: DeprecationWarning: find_element_by_css_selector is deprecated. Please use find_element(by=By.CSS_SELECTOR, value=css_selector) instead\n",
      "  searchbutten = driver.find_element_by_css_selector('#btnSearch')\n",
      "/tmp/ipykernel_46587/1885124001.py:24: DeprecationWarning: find_element_by_css_selector is deprecated. Please use find_element(by=By.CSS_SELECTOR, value=css_selector) instead\n",
      "  game = driver.find_element_by_css_selector('#selectGameId')\n",
      "/tmp/ipykernel_46587/1885124001.py:28: DeprecationWarning: find_element_by_css_selector is deprecated. Please use find_element(by=By.CSS_SELECTOR, value=css_selector) instead\n",
      "  searchbutten = driver.find_element_by_css_selector('#btnSearch')\n",
      "/tmp/ipykernel_46587/1885124001.py:24: DeprecationWarning: find_element_by_css_selector is deprecated. Please use find_element(by=By.CSS_SELECTOR, value=css_selector) instead\n",
      "  game = driver.find_element_by_css_selector('#selectGameId')\n",
      "/tmp/ipykernel_46587/1885124001.py:28: DeprecationWarning: find_element_by_css_selector is deprecated. Please use find_element(by=By.CSS_SELECTOR, value=css_selector) instead\n",
      "  searchbutten = driver.find_element_by_css_selector('#btnSearch')\n",
      "/tmp/ipykernel_46587/1885124001.py:24: DeprecationWarning: find_element_by_css_selector is deprecated. Please use find_element(by=By.CSS_SELECTOR, value=css_selector) instead\n",
      "  game = driver.find_element_by_css_selector('#selectGameId')\n",
      "/tmp/ipykernel_46587/1885124001.py:28: DeprecationWarning: find_element_by_css_selector is deprecated. Please use find_element(by=By.CSS_SELECTOR, value=css_selector) instead\n",
      "  searchbutten = driver.find_element_by_css_selector('#btnSearch')\n",
      "/tmp/ipykernel_46587/1885124001.py:24: DeprecationWarning: find_element_by_css_selector is deprecated. Please use find_element(by=By.CSS_SELECTOR, value=css_selector) instead\n",
      "  game = driver.find_element_by_css_selector('#selectGameId')\n",
      "/tmp/ipykernel_46587/1885124001.py:28: DeprecationWarning: find_element_by_css_selector is deprecated. Please use find_element(by=By.CSS_SELECTOR, value=css_selector) instead\n",
      "  searchbutten = driver.find_element_by_css_selector('#btnSearch')\n",
      "/tmp/ipykernel_46587/1885124001.py:24: DeprecationWarning: find_element_by_css_selector is deprecated. Please use find_element(by=By.CSS_SELECTOR, value=css_selector) instead\n",
      "  game = driver.find_element_by_css_selector('#selectGameId')\n",
      "/tmp/ipykernel_46587/1885124001.py:28: DeprecationWarning: find_element_by_css_selector is deprecated. Please use find_element(by=By.CSS_SELECTOR, value=css_selector) instead\n",
      "  searchbutten = driver.find_element_by_css_selector('#btnSearch')\n",
      "/tmp/ipykernel_46587/1885124001.py:24: DeprecationWarning: find_element_by_css_selector is deprecated. Please use find_element(by=By.CSS_SELECTOR, value=css_selector) instead\n",
      "  game = driver.find_element_by_css_selector('#selectGameId')\n",
      "/tmp/ipykernel_46587/1885124001.py:28: DeprecationWarning: find_element_by_css_selector is deprecated. Please use find_element(by=By.CSS_SELECTOR, value=css_selector) instead\n",
      "  searchbutten = driver.find_element_by_css_selector('#btnSearch')\n",
      "/tmp/ipykernel_46587/1885124001.py:24: DeprecationWarning: find_element_by_css_selector is deprecated. Please use find_element(by=By.CSS_SELECTOR, value=css_selector) instead\n",
      "  game = driver.find_element_by_css_selector('#selectGameId')\n",
      "/tmp/ipykernel_46587/1885124001.py:28: DeprecationWarning: find_element_by_css_selector is deprecated. Please use find_element(by=By.CSS_SELECTOR, value=css_selector) instead\n",
      "  searchbutten = driver.find_element_by_css_selector('#btnSearch')\n",
      "/tmp/ipykernel_46587/1885124001.py:24: DeprecationWarning: find_element_by_css_selector is deprecated. Please use find_element(by=By.CSS_SELECTOR, value=css_selector) instead\n",
      "  game = driver.find_element_by_css_selector('#selectGameId')\n",
      "/tmp/ipykernel_46587/1885124001.py:28: DeprecationWarning: find_element_by_css_selector is deprecated. Please use find_element(by=By.CSS_SELECTOR, value=css_selector) instead\n",
      "  searchbutten = driver.find_element_by_css_selector('#btnSearch')\n",
      "/tmp/ipykernel_46587/1885124001.py:24: DeprecationWarning: find_element_by_css_selector is deprecated. Please use find_element(by=By.CSS_SELECTOR, value=css_selector) instead\n",
      "  game = driver.find_element_by_css_selector('#selectGameId')\n",
      "/tmp/ipykernel_46587/1885124001.py:28: DeprecationWarning: find_element_by_css_selector is deprecated. Please use find_element(by=By.CSS_SELECTOR, value=css_selector) instead\n",
      "  searchbutten = driver.find_element_by_css_selector('#btnSearch')\n",
      "/tmp/ipykernel_46587/1885124001.py:24: DeprecationWarning: find_element_by_css_selector is deprecated. Please use find_element(by=By.CSS_SELECTOR, value=css_selector) instead\n",
      "  game = driver.find_element_by_css_selector('#selectGameId')\n",
      "/tmp/ipykernel_46587/1885124001.py:28: DeprecationWarning: find_element_by_css_selector is deprecated. Please use find_element(by=By.CSS_SELECTOR, value=css_selector) instead\n",
      "  searchbutten = driver.find_element_by_css_selector('#btnSearch')\n",
      "/tmp/ipykernel_46587/1885124001.py:24: DeprecationWarning: find_element_by_css_selector is deprecated. Please use find_element(by=By.CSS_SELECTOR, value=css_selector) instead\n",
      "  game = driver.find_element_by_css_selector('#selectGameId')\n",
      "/tmp/ipykernel_46587/1885124001.py:28: DeprecationWarning: find_element_by_css_selector is deprecated. Please use find_element(by=By.CSS_SELECTOR, value=css_selector) instead\n",
      "  searchbutten = driver.find_element_by_css_selector('#btnSearch')\n",
      "/tmp/ipykernel_46587/1885124001.py:24: DeprecationWarning: find_element_by_css_selector is deprecated. Please use find_element(by=By.CSS_SELECTOR, value=css_selector) instead\n",
      "  game = driver.find_element_by_css_selector('#selectGameId')\n",
      "/tmp/ipykernel_46587/1885124001.py:28: DeprecationWarning: find_element_by_css_selector is deprecated. Please use find_element(by=By.CSS_SELECTOR, value=css_selector) instead\n",
      "  searchbutten = driver.find_element_by_css_selector('#btnSearch')\n",
      "/tmp/ipykernel_46587/1885124001.py:24: DeprecationWarning: find_element_by_css_selector is deprecated. Please use find_element(by=By.CSS_SELECTOR, value=css_selector) instead\n",
      "  game = driver.find_element_by_css_selector('#selectGameId')\n",
      "/tmp/ipykernel_46587/1885124001.py:28: DeprecationWarning: find_element_by_css_selector is deprecated. Please use find_element(by=By.CSS_SELECTOR, value=css_selector) instead\n",
      "  searchbutten = driver.find_element_by_css_selector('#btnSearch')\n",
      "/tmp/ipykernel_46587/1885124001.py:24: DeprecationWarning: find_element_by_css_selector is deprecated. Please use find_element(by=By.CSS_SELECTOR, value=css_selector) instead\n",
      "  game = driver.find_element_by_css_selector('#selectGameId')\n",
      "/tmp/ipykernel_46587/1885124001.py:28: DeprecationWarning: find_element_by_css_selector is deprecated. Please use find_element(by=By.CSS_SELECTOR, value=css_selector) instead\n",
      "  searchbutten = driver.find_element_by_css_selector('#btnSearch')\n",
      "/tmp/ipykernel_46587/1885124001.py:24: DeprecationWarning: find_element_by_css_selector is deprecated. Please use find_element(by=By.CSS_SELECTOR, value=css_selector) instead\n",
      "  game = driver.find_element_by_css_selector('#selectGameId')\n",
      "/tmp/ipykernel_46587/1885124001.py:28: DeprecationWarning: find_element_by_css_selector is deprecated. Please use find_element(by=By.CSS_SELECTOR, value=css_selector) instead\n",
      "  searchbutten = driver.find_element_by_css_selector('#btnSearch')\n",
      "/tmp/ipykernel_46587/1885124001.py:24: DeprecationWarning: find_element_by_css_selector is deprecated. Please use find_element(by=By.CSS_SELECTOR, value=css_selector) instead\n",
      "  game = driver.find_element_by_css_selector('#selectGameId')\n",
      "/tmp/ipykernel_46587/1885124001.py:28: DeprecationWarning: find_element_by_css_selector is deprecated. Please use find_element(by=By.CSS_SELECTOR, value=css_selector) instead\n",
      "  searchbutten = driver.find_element_by_css_selector('#btnSearch')\n",
      "/tmp/ipykernel_46587/1885124001.py:24: DeprecationWarning: find_element_by_css_selector is deprecated. Please use find_element(by=By.CSS_SELECTOR, value=css_selector) instead\n",
      "  game = driver.find_element_by_css_selector('#selectGameId')\n",
      "/tmp/ipykernel_46587/1885124001.py:28: DeprecationWarning: find_element_by_css_selector is deprecated. Please use find_element(by=By.CSS_SELECTOR, value=css_selector) instead\n",
      "  searchbutten = driver.find_element_by_css_selector('#btnSearch')\n",
      "/tmp/ipykernel_46587/1885124001.py:24: DeprecationWarning: find_element_by_css_selector is deprecated. Please use find_element(by=By.CSS_SELECTOR, value=css_selector) instead\n",
      "  game = driver.find_element_by_css_selector('#selectGameId')\n",
      "/tmp/ipykernel_46587/1885124001.py:28: DeprecationWarning: find_element_by_css_selector is deprecated. Please use find_element(by=By.CSS_SELECTOR, value=css_selector) instead\n",
      "  searchbutten = driver.find_element_by_css_selector('#btnSearch')\n",
      "/tmp/ipykernel_46587/1885124001.py:24: DeprecationWarning: find_element_by_css_selector is deprecated. Please use find_element(by=By.CSS_SELECTOR, value=css_selector) instead\n",
      "  game = driver.find_element_by_css_selector('#selectGameId')\n",
      "/tmp/ipykernel_46587/1885124001.py:28: DeprecationWarning: find_element_by_css_selector is deprecated. Please use find_element(by=By.CSS_SELECTOR, value=css_selector) instead\n",
      "  searchbutten = driver.find_element_by_css_selector('#btnSearch')\n",
      "/tmp/ipykernel_46587/1885124001.py:24: DeprecationWarning: find_element_by_css_selector is deprecated. Please use find_element(by=By.CSS_SELECTOR, value=css_selector) instead\n",
      "  game = driver.find_element_by_css_selector('#selectGameId')\n",
      "/tmp/ipykernel_46587/1885124001.py:28: DeprecationWarning: find_element_by_css_selector is deprecated. Please use find_element(by=By.CSS_SELECTOR, value=css_selector) instead\n",
      "  searchbutten = driver.find_element_by_css_selector('#btnSearch')\n",
      "/tmp/ipykernel_46587/1885124001.py:24: DeprecationWarning: find_element_by_css_selector is deprecated. Please use find_element(by=By.CSS_SELECTOR, value=css_selector) instead\n",
      "  game = driver.find_element_by_css_selector('#selectGameId')\n",
      "/tmp/ipykernel_46587/1885124001.py:28: DeprecationWarning: find_element_by_css_selector is deprecated. Please use find_element(by=By.CSS_SELECTOR, value=css_selector) instead\n",
      "  searchbutten = driver.find_element_by_css_selector('#btnSearch')\n",
      "/tmp/ipykernel_46587/1885124001.py:24: DeprecationWarning: find_element_by_css_selector is deprecated. Please use find_element(by=By.CSS_SELECTOR, value=css_selector) instead\n",
      "  game = driver.find_element_by_css_selector('#selectGameId')\n",
      "/tmp/ipykernel_46587/1885124001.py:28: DeprecationWarning: find_element_by_css_selector is deprecated. Please use find_element(by=By.CSS_SELECTOR, value=css_selector) instead\n",
      "  searchbutten = driver.find_element_by_css_selector('#btnSearch')\n",
      "/tmp/ipykernel_46587/1885124001.py:24: DeprecationWarning: find_element_by_css_selector is deprecated. Please use find_element(by=By.CSS_SELECTOR, value=css_selector) instead\n",
      "  game = driver.find_element_by_css_selector('#selectGameId')\n",
      "/tmp/ipykernel_46587/1885124001.py:28: DeprecationWarning: find_element_by_css_selector is deprecated. Please use find_element(by=By.CSS_SELECTOR, value=css_selector) instead\n",
      "  searchbutten = driver.find_element_by_css_selector('#btnSearch')\n",
      "/tmp/ipykernel_46587/1885124001.py:24: DeprecationWarning: find_element_by_css_selector is deprecated. Please use find_element(by=By.CSS_SELECTOR, value=css_selector) instead\n",
      "  game = driver.find_element_by_css_selector('#selectGameId')\n",
      "/tmp/ipykernel_46587/1885124001.py:28: DeprecationWarning: find_element_by_css_selector is deprecated. Please use find_element(by=By.CSS_SELECTOR, value=css_selector) instead\n",
      "  searchbutten = driver.find_element_by_css_selector('#btnSearch')\n",
      "/tmp/ipykernel_46587/1885124001.py:24: DeprecationWarning: find_element_by_css_selector is deprecated. Please use find_element(by=By.CSS_SELECTOR, value=css_selector) instead\n",
      "  game = driver.find_element_by_css_selector('#selectGameId')\n",
      "/tmp/ipykernel_46587/1885124001.py:28: DeprecationWarning: find_element_by_css_selector is deprecated. Please use find_element(by=By.CSS_SELECTOR, value=css_selector) instead\n",
      "  searchbutten = driver.find_element_by_css_selector('#btnSearch')\n",
      "/tmp/ipykernel_46587/1885124001.py:24: DeprecationWarning: find_element_by_css_selector is deprecated. Please use find_element(by=By.CSS_SELECTOR, value=css_selector) instead\n",
      "  game = driver.find_element_by_css_selector('#selectGameId')\n",
      "/tmp/ipykernel_46587/1885124001.py:28: DeprecationWarning: find_element_by_css_selector is deprecated. Please use find_element(by=By.CSS_SELECTOR, value=css_selector) instead\n",
      "  searchbutten = driver.find_element_by_css_selector('#btnSearch')\n",
      "/tmp/ipykernel_46587/1885124001.py:24: DeprecationWarning: find_element_by_css_selector is deprecated. Please use find_element(by=By.CSS_SELECTOR, value=css_selector) instead\n",
      "  game = driver.find_element_by_css_selector('#selectGameId')\n",
      "/tmp/ipykernel_46587/1885124001.py:28: DeprecationWarning: find_element_by_css_selector is deprecated. Please use find_element(by=By.CSS_SELECTOR, value=css_selector) instead\n",
      "  searchbutten = driver.find_element_by_css_selector('#btnSearch')\n",
      "/tmp/ipykernel_46587/1885124001.py:24: DeprecationWarning: find_element_by_css_selector is deprecated. Please use find_element(by=By.CSS_SELECTOR, value=css_selector) instead\n",
      "  game = driver.find_element_by_css_selector('#selectGameId')\n",
      "/tmp/ipykernel_46587/1885124001.py:28: DeprecationWarning: find_element_by_css_selector is deprecated. Please use find_element(by=By.CSS_SELECTOR, value=css_selector) instead\n",
      "  searchbutten = driver.find_element_by_css_selector('#btnSearch')\n",
      "/tmp/ipykernel_46587/1885124001.py:24: DeprecationWarning: find_element_by_css_selector is deprecated. Please use find_element(by=By.CSS_SELECTOR, value=css_selector) instead\n",
      "  game = driver.find_element_by_css_selector('#selectGameId')\n",
      "/tmp/ipykernel_46587/1885124001.py:28: DeprecationWarning: find_element_by_css_selector is deprecated. Please use find_element(by=By.CSS_SELECTOR, value=css_selector) instead\n",
      "  searchbutten = driver.find_element_by_css_selector('#btnSearch')\n",
      "/tmp/ipykernel_46587/1885124001.py:24: DeprecationWarning: find_element_by_css_selector is deprecated. Please use find_element(by=By.CSS_SELECTOR, value=css_selector) instead\n",
      "  game = driver.find_element_by_css_selector('#selectGameId')\n",
      "/tmp/ipykernel_46587/1885124001.py:28: DeprecationWarning: find_element_by_css_selector is deprecated. Please use find_element(by=By.CSS_SELECTOR, value=css_selector) instead\n",
      "  searchbutten = driver.find_element_by_css_selector('#btnSearch')\n",
      "/tmp/ipykernel_46587/1885124001.py:24: DeprecationWarning: find_element_by_css_selector is deprecated. Please use find_element(by=By.CSS_SELECTOR, value=css_selector) instead\n",
      "  game = driver.find_element_by_css_selector('#selectGameId')\n",
      "/tmp/ipykernel_46587/1885124001.py:28: DeprecationWarning: find_element_by_css_selector is deprecated. Please use find_element(by=By.CSS_SELECTOR, value=css_selector) instead\n",
      "  searchbutten = driver.find_element_by_css_selector('#btnSearch')\n",
      "/tmp/ipykernel_46587/1885124001.py:24: DeprecationWarning: find_element_by_css_selector is deprecated. Please use find_element(by=By.CSS_SELECTOR, value=css_selector) instead\n",
      "  game = driver.find_element_by_css_selector('#selectGameId')\n",
      "/tmp/ipykernel_46587/1885124001.py:28: DeprecationWarning: find_element_by_css_selector is deprecated. Please use find_element(by=By.CSS_SELECTOR, value=css_selector) instead\n",
      "  searchbutten = driver.find_element_by_css_selector('#btnSearch')\n",
      "/tmp/ipykernel_46587/1885124001.py:24: DeprecationWarning: find_element_by_css_selector is deprecated. Please use find_element(by=By.CSS_SELECTOR, value=css_selector) instead\n",
      "  game = driver.find_element_by_css_selector('#selectGameId')\n",
      "/tmp/ipykernel_46587/1885124001.py:28: DeprecationWarning: find_element_by_css_selector is deprecated. Please use find_element(by=By.CSS_SELECTOR, value=css_selector) instead\n",
      "  searchbutten = driver.find_element_by_css_selector('#btnSearch')\n",
      "/tmp/ipykernel_46587/1885124001.py:24: DeprecationWarning: find_element_by_css_selector is deprecated. Please use find_element(by=By.CSS_SELECTOR, value=css_selector) instead\n",
      "  game = driver.find_element_by_css_selector('#selectGameId')\n",
      "/tmp/ipykernel_46587/1885124001.py:28: DeprecationWarning: find_element_by_css_selector is deprecated. Please use find_element(by=By.CSS_SELECTOR, value=css_selector) instead\n",
      "  searchbutten = driver.find_element_by_css_selector('#btnSearch')\n",
      "/tmp/ipykernel_46587/1885124001.py:17: DeprecationWarning: find_element_by_css_selector is deprecated. Please use find_element(by=By.CSS_SELECTOR, value=css_selector) instead\n",
      "  teamsel = driver.find_element_by_css_selector('#selectTeamId')\n",
      "/tmp/ipykernel_46587/1885124001.py:20: DeprecationWarning: find_elements_by_css_selector is deprecated. Please use find_elements(by=By.CSS_SELECTOR, value=css_selector) instead\n",
      "  gamessel = driver.find_elements_by_css_selector('#selectGameId > option')\n",
      "/tmp/ipykernel_46587/1885124001.py:24: DeprecationWarning: find_element_by_css_selector is deprecated. Please use find_element(by=By.CSS_SELECTOR, value=css_selector) instead\n",
      "  game = driver.find_element_by_css_selector('#selectGameId')\n",
      "/tmp/ipykernel_46587/1885124001.py:28: DeprecationWarning: find_element_by_css_selector is deprecated. Please use find_element(by=By.CSS_SELECTOR, value=css_selector) instead\n",
      "  searchbutten = driver.find_element_by_css_selector('#btnSearch')\n",
      "/tmp/ipykernel_46587/1885124001.py:24: DeprecationWarning: find_element_by_css_selector is deprecated. Please use find_element(by=By.CSS_SELECTOR, value=css_selector) instead\n",
      "  game = driver.find_element_by_css_selector('#selectGameId')\n",
      "/tmp/ipykernel_46587/1885124001.py:28: DeprecationWarning: find_element_by_css_selector is deprecated. Please use find_element(by=By.CSS_SELECTOR, value=css_selector) instead\n",
      "  searchbutten = driver.find_element_by_css_selector('#btnSearch')\n",
      "/tmp/ipykernel_46587/1885124001.py:24: DeprecationWarning: find_element_by_css_selector is deprecated. Please use find_element(by=By.CSS_SELECTOR, value=css_selector) instead\n",
      "  game = driver.find_element_by_css_selector('#selectGameId')\n",
      "/tmp/ipykernel_46587/1885124001.py:28: DeprecationWarning: find_element_by_css_selector is deprecated. Please use find_element(by=By.CSS_SELECTOR, value=css_selector) instead\n",
      "  searchbutten = driver.find_element_by_css_selector('#btnSearch')\n",
      "/tmp/ipykernel_46587/1885124001.py:24: DeprecationWarning: find_element_by_css_selector is deprecated. Please use find_element(by=By.CSS_SELECTOR, value=css_selector) instead\n",
      "  game = driver.find_element_by_css_selector('#selectGameId')\n",
      "/tmp/ipykernel_46587/1885124001.py:28: DeprecationWarning: find_element_by_css_selector is deprecated. Please use find_element(by=By.CSS_SELECTOR, value=css_selector) instead\n",
      "  searchbutten = driver.find_element_by_css_selector('#btnSearch')\n",
      "/tmp/ipykernel_46587/1885124001.py:24: DeprecationWarning: find_element_by_css_selector is deprecated. Please use find_element(by=By.CSS_SELECTOR, value=css_selector) instead\n",
      "  game = driver.find_element_by_css_selector('#selectGameId')\n",
      "/tmp/ipykernel_46587/1885124001.py:28: DeprecationWarning: find_element_by_css_selector is deprecated. Please use find_element(by=By.CSS_SELECTOR, value=css_selector) instead\n",
      "  searchbutten = driver.find_element_by_css_selector('#btnSearch')\n",
      "/tmp/ipykernel_46587/1885124001.py:24: DeprecationWarning: find_element_by_css_selector is deprecated. Please use find_element(by=By.CSS_SELECTOR, value=css_selector) instead\n",
      "  game = driver.find_element_by_css_selector('#selectGameId')\n",
      "/tmp/ipykernel_46587/1885124001.py:28: DeprecationWarning: find_element_by_css_selector is deprecated. Please use find_element(by=By.CSS_SELECTOR, value=css_selector) instead\n",
      "  searchbutten = driver.find_element_by_css_selector('#btnSearch')\n",
      "/tmp/ipykernel_46587/1885124001.py:24: DeprecationWarning: find_element_by_css_selector is deprecated. Please use find_element(by=By.CSS_SELECTOR, value=css_selector) instead\n",
      "  game = driver.find_element_by_css_selector('#selectGameId')\n",
      "/tmp/ipykernel_46587/1885124001.py:28: DeprecationWarning: find_element_by_css_selector is deprecated. Please use find_element(by=By.CSS_SELECTOR, value=css_selector) instead\n",
      "  searchbutten = driver.find_element_by_css_selector('#btnSearch')\n",
      "/tmp/ipykernel_46587/1885124001.py:24: DeprecationWarning: find_element_by_css_selector is deprecated. Please use find_element(by=By.CSS_SELECTOR, value=css_selector) instead\n",
      "  game = driver.find_element_by_css_selector('#selectGameId')\n",
      "/tmp/ipykernel_46587/1885124001.py:28: DeprecationWarning: find_element_by_css_selector is deprecated. Please use find_element(by=By.CSS_SELECTOR, value=css_selector) instead\n",
      "  searchbutten = driver.find_element_by_css_selector('#btnSearch')\n",
      "/tmp/ipykernel_46587/1885124001.py:24: DeprecationWarning: find_element_by_css_selector is deprecated. Please use find_element(by=By.CSS_SELECTOR, value=css_selector) instead\n",
      "  game = driver.find_element_by_css_selector('#selectGameId')\n",
      "/tmp/ipykernel_46587/1885124001.py:28: DeprecationWarning: find_element_by_css_selector is deprecated. Please use find_element(by=By.CSS_SELECTOR, value=css_selector) instead\n",
      "  searchbutten = driver.find_element_by_css_selector('#btnSearch')\n",
      "/tmp/ipykernel_46587/1885124001.py:24: DeprecationWarning: find_element_by_css_selector is deprecated. Please use find_element(by=By.CSS_SELECTOR, value=css_selector) instead\n",
      "  game = driver.find_element_by_css_selector('#selectGameId')\n",
      "/tmp/ipykernel_46587/1885124001.py:28: DeprecationWarning: find_element_by_css_selector is deprecated. Please use find_element(by=By.CSS_SELECTOR, value=css_selector) instead\n",
      "  searchbutten = driver.find_element_by_css_selector('#btnSearch')\n",
      "/tmp/ipykernel_46587/1885124001.py:24: DeprecationWarning: find_element_by_css_selector is deprecated. Please use find_element(by=By.CSS_SELECTOR, value=css_selector) instead\n",
      "  game = driver.find_element_by_css_selector('#selectGameId')\n",
      "/tmp/ipykernel_46587/1885124001.py:28: DeprecationWarning: find_element_by_css_selector is deprecated. Please use find_element(by=By.CSS_SELECTOR, value=css_selector) instead\n",
      "  searchbutten = driver.find_element_by_css_selector('#btnSearch')\n",
      "/tmp/ipykernel_46587/1885124001.py:24: DeprecationWarning: find_element_by_css_selector is deprecated. Please use find_element(by=By.CSS_SELECTOR, value=css_selector) instead\n",
      "  game = driver.find_element_by_css_selector('#selectGameId')\n",
      "/tmp/ipykernel_46587/1885124001.py:28: DeprecationWarning: find_element_by_css_selector is deprecated. Please use find_element(by=By.CSS_SELECTOR, value=css_selector) instead\n",
      "  searchbutten = driver.find_element_by_css_selector('#btnSearch')\n",
      "/tmp/ipykernel_46587/1885124001.py:24: DeprecationWarning: find_element_by_css_selector is deprecated. Please use find_element(by=By.CSS_SELECTOR, value=css_selector) instead\n",
      "  game = driver.find_element_by_css_selector('#selectGameId')\n",
      "/tmp/ipykernel_46587/1885124001.py:28: DeprecationWarning: find_element_by_css_selector is deprecated. Please use find_element(by=By.CSS_SELECTOR, value=css_selector) instead\n",
      "  searchbutten = driver.find_element_by_css_selector('#btnSearch')\n",
      "/tmp/ipykernel_46587/1885124001.py:24: DeprecationWarning: find_element_by_css_selector is deprecated. Please use find_element(by=By.CSS_SELECTOR, value=css_selector) instead\n",
      "  game = driver.find_element_by_css_selector('#selectGameId')\n",
      "/tmp/ipykernel_46587/1885124001.py:28: DeprecationWarning: find_element_by_css_selector is deprecated. Please use find_element(by=By.CSS_SELECTOR, value=css_selector) instead\n",
      "  searchbutten = driver.find_element_by_css_selector('#btnSearch')\n",
      "/tmp/ipykernel_46587/1885124001.py:24: DeprecationWarning: find_element_by_css_selector is deprecated. Please use find_element(by=By.CSS_SELECTOR, value=css_selector) instead\n",
      "  game = driver.find_element_by_css_selector('#selectGameId')\n",
      "/tmp/ipykernel_46587/1885124001.py:28: DeprecationWarning: find_element_by_css_selector is deprecated. Please use find_element(by=By.CSS_SELECTOR, value=css_selector) instead\n",
      "  searchbutten = driver.find_element_by_css_selector('#btnSearch')\n",
      "/tmp/ipykernel_46587/1885124001.py:24: DeprecationWarning: find_element_by_css_selector is deprecated. Please use find_element(by=By.CSS_SELECTOR, value=css_selector) instead\n",
      "  game = driver.find_element_by_css_selector('#selectGameId')\n",
      "/tmp/ipykernel_46587/1885124001.py:28: DeprecationWarning: find_element_by_css_selector is deprecated. Please use find_element(by=By.CSS_SELECTOR, value=css_selector) instead\n",
      "  searchbutten = driver.find_element_by_css_selector('#btnSearch')\n",
      "/tmp/ipykernel_46587/1885124001.py:24: DeprecationWarning: find_element_by_css_selector is deprecated. Please use find_element(by=By.CSS_SELECTOR, value=css_selector) instead\n",
      "  game = driver.find_element_by_css_selector('#selectGameId')\n",
      "/tmp/ipykernel_46587/1885124001.py:28: DeprecationWarning: find_element_by_css_selector is deprecated. Please use find_element(by=By.CSS_SELECTOR, value=css_selector) instead\n",
      "  searchbutten = driver.find_element_by_css_selector('#btnSearch')\n",
      "/tmp/ipykernel_46587/1885124001.py:24: DeprecationWarning: find_element_by_css_selector is deprecated. Please use find_element(by=By.CSS_SELECTOR, value=css_selector) instead\n",
      "  game = driver.find_element_by_css_selector('#selectGameId')\n",
      "/tmp/ipykernel_46587/1885124001.py:28: DeprecationWarning: find_element_by_css_selector is deprecated. Please use find_element(by=By.CSS_SELECTOR, value=css_selector) instead\n",
      "  searchbutten = driver.find_element_by_css_selector('#btnSearch')\n",
      "/tmp/ipykernel_46587/1885124001.py:24: DeprecationWarning: find_element_by_css_selector is deprecated. Please use find_element(by=By.CSS_SELECTOR, value=css_selector) instead\n",
      "  game = driver.find_element_by_css_selector('#selectGameId')\n",
      "/tmp/ipykernel_46587/1885124001.py:28: DeprecationWarning: find_element_by_css_selector is deprecated. Please use find_element(by=By.CSS_SELECTOR, value=css_selector) instead\n",
      "  searchbutten = driver.find_element_by_css_selector('#btnSearch')\n",
      "/tmp/ipykernel_46587/1885124001.py:24: DeprecationWarning: find_element_by_css_selector is deprecated. Please use find_element(by=By.CSS_SELECTOR, value=css_selector) instead\n",
      "  game = driver.find_element_by_css_selector('#selectGameId')\n",
      "/tmp/ipykernel_46587/1885124001.py:28: DeprecationWarning: find_element_by_css_selector is deprecated. Please use find_element(by=By.CSS_SELECTOR, value=css_selector) instead\n",
      "  searchbutten = driver.find_element_by_css_selector('#btnSearch')\n",
      "/tmp/ipykernel_46587/1885124001.py:24: DeprecationWarning: find_element_by_css_selector is deprecated. Please use find_element(by=By.CSS_SELECTOR, value=css_selector) instead\n",
      "  game = driver.find_element_by_css_selector('#selectGameId')\n",
      "/tmp/ipykernel_46587/1885124001.py:28: DeprecationWarning: find_element_by_css_selector is deprecated. Please use find_element(by=By.CSS_SELECTOR, value=css_selector) instead\n",
      "  searchbutten = driver.find_element_by_css_selector('#btnSearch')\n",
      "/tmp/ipykernel_46587/1885124001.py:24: DeprecationWarning: find_element_by_css_selector is deprecated. Please use find_element(by=By.CSS_SELECTOR, value=css_selector) instead\n",
      "  game = driver.find_element_by_css_selector('#selectGameId')\n",
      "/tmp/ipykernel_46587/1885124001.py:28: DeprecationWarning: find_element_by_css_selector is deprecated. Please use find_element(by=By.CSS_SELECTOR, value=css_selector) instead\n",
      "  searchbutten = driver.find_element_by_css_selector('#btnSearch')\n",
      "/tmp/ipykernel_46587/1885124001.py:24: DeprecationWarning: find_element_by_css_selector is deprecated. Please use find_element(by=By.CSS_SELECTOR, value=css_selector) instead\n",
      "  game = driver.find_element_by_css_selector('#selectGameId')\n",
      "/tmp/ipykernel_46587/1885124001.py:28: DeprecationWarning: find_element_by_css_selector is deprecated. Please use find_element(by=By.CSS_SELECTOR, value=css_selector) instead\n",
      "  searchbutten = driver.find_element_by_css_selector('#btnSearch')\n",
      "/tmp/ipykernel_46587/1885124001.py:24: DeprecationWarning: find_element_by_css_selector is deprecated. Please use find_element(by=By.CSS_SELECTOR, value=css_selector) instead\n",
      "  game = driver.find_element_by_css_selector('#selectGameId')\n",
      "/tmp/ipykernel_46587/1885124001.py:28: DeprecationWarning: find_element_by_css_selector is deprecated. Please use find_element(by=By.CSS_SELECTOR, value=css_selector) instead\n",
      "  searchbutten = driver.find_element_by_css_selector('#btnSearch')\n",
      "/tmp/ipykernel_46587/1885124001.py:24: DeprecationWarning: find_element_by_css_selector is deprecated. Please use find_element(by=By.CSS_SELECTOR, value=css_selector) instead\n",
      "  game = driver.find_element_by_css_selector('#selectGameId')\n",
      "/tmp/ipykernel_46587/1885124001.py:28: DeprecationWarning: find_element_by_css_selector is deprecated. Please use find_element(by=By.CSS_SELECTOR, value=css_selector) instead\n",
      "  searchbutten = driver.find_element_by_css_selector('#btnSearch')\n",
      "/tmp/ipykernel_46587/1885124001.py:24: DeprecationWarning: find_element_by_css_selector is deprecated. Please use find_element(by=By.CSS_SELECTOR, value=css_selector) instead\n",
      "  game = driver.find_element_by_css_selector('#selectGameId')\n",
      "/tmp/ipykernel_46587/1885124001.py:28: DeprecationWarning: find_element_by_css_selector is deprecated. Please use find_element(by=By.CSS_SELECTOR, value=css_selector) instead\n",
      "  searchbutten = driver.find_element_by_css_selector('#btnSearch')\n",
      "/tmp/ipykernel_46587/1885124001.py:24: DeprecationWarning: find_element_by_css_selector is deprecated. Please use find_element(by=By.CSS_SELECTOR, value=css_selector) instead\n",
      "  game = driver.find_element_by_css_selector('#selectGameId')\n",
      "/tmp/ipykernel_46587/1885124001.py:28: DeprecationWarning: find_element_by_css_selector is deprecated. Please use find_element(by=By.CSS_SELECTOR, value=css_selector) instead\n",
      "  searchbutten = driver.find_element_by_css_selector('#btnSearch')\n",
      "/tmp/ipykernel_46587/1885124001.py:24: DeprecationWarning: find_element_by_css_selector is deprecated. Please use find_element(by=By.CSS_SELECTOR, value=css_selector) instead\n",
      "  game = driver.find_element_by_css_selector('#selectGameId')\n",
      "/tmp/ipykernel_46587/1885124001.py:28: DeprecationWarning: find_element_by_css_selector is deprecated. Please use find_element(by=By.CSS_SELECTOR, value=css_selector) instead\n",
      "  searchbutten = driver.find_element_by_css_selector('#btnSearch')\n",
      "/tmp/ipykernel_46587/1885124001.py:24: DeprecationWarning: find_element_by_css_selector is deprecated. Please use find_element(by=By.CSS_SELECTOR, value=css_selector) instead\n",
      "  game = driver.find_element_by_css_selector('#selectGameId')\n",
      "/tmp/ipykernel_46587/1885124001.py:28: DeprecationWarning: find_element_by_css_selector is deprecated. Please use find_element(by=By.CSS_SELECTOR, value=css_selector) instead\n",
      "  searchbutten = driver.find_element_by_css_selector('#btnSearch')\n",
      "/tmp/ipykernel_46587/1885124001.py:24: DeprecationWarning: find_element_by_css_selector is deprecated. Please use find_element(by=By.CSS_SELECTOR, value=css_selector) instead\n",
      "  game = driver.find_element_by_css_selector('#selectGameId')\n",
      "/tmp/ipykernel_46587/1885124001.py:28: DeprecationWarning: find_element_by_css_selector is deprecated. Please use find_element(by=By.CSS_SELECTOR, value=css_selector) instead\n",
      "  searchbutten = driver.find_element_by_css_selector('#btnSearch')\n",
      "/tmp/ipykernel_46587/1885124001.py:24: DeprecationWarning: find_element_by_css_selector is deprecated. Please use find_element(by=By.CSS_SELECTOR, value=css_selector) instead\n",
      "  game = driver.find_element_by_css_selector('#selectGameId')\n",
      "/tmp/ipykernel_46587/1885124001.py:28: DeprecationWarning: find_element_by_css_selector is deprecated. Please use find_element(by=By.CSS_SELECTOR, value=css_selector) instead\n",
      "  searchbutten = driver.find_element_by_css_selector('#btnSearch')\n",
      "/tmp/ipykernel_46587/1885124001.py:24: DeprecationWarning: find_element_by_css_selector is deprecated. Please use find_element(by=By.CSS_SELECTOR, value=css_selector) instead\n",
      "  game = driver.find_element_by_css_selector('#selectGameId')\n",
      "/tmp/ipykernel_46587/1885124001.py:28: DeprecationWarning: find_element_by_css_selector is deprecated. Please use find_element(by=By.CSS_SELECTOR, value=css_selector) instead\n",
      "  searchbutten = driver.find_element_by_css_selector('#btnSearch')\n",
      "/tmp/ipykernel_46587/1885124001.py:24: DeprecationWarning: find_element_by_css_selector is deprecated. Please use find_element(by=By.CSS_SELECTOR, value=css_selector) instead\n",
      "  game = driver.find_element_by_css_selector('#selectGameId')\n",
      "/tmp/ipykernel_46587/1885124001.py:28: DeprecationWarning: find_element_by_css_selector is deprecated. Please use find_element(by=By.CSS_SELECTOR, value=css_selector) instead\n",
      "  searchbutten = driver.find_element_by_css_selector('#btnSearch')\n",
      "/tmp/ipykernel_46587/1885124001.py:24: DeprecationWarning: find_element_by_css_selector is deprecated. Please use find_element(by=By.CSS_SELECTOR, value=css_selector) instead\n",
      "  game = driver.find_element_by_css_selector('#selectGameId')\n",
      "/tmp/ipykernel_46587/1885124001.py:28: DeprecationWarning: find_element_by_css_selector is deprecated. Please use find_element(by=By.CSS_SELECTOR, value=css_selector) instead\n",
      "  searchbutten = driver.find_element_by_css_selector('#btnSearch')\n",
      "/tmp/ipykernel_46587/1885124001.py:24: DeprecationWarning: find_element_by_css_selector is deprecated. Please use find_element(by=By.CSS_SELECTOR, value=css_selector) instead\n",
      "  game = driver.find_element_by_css_selector('#selectGameId')\n",
      "/tmp/ipykernel_46587/1885124001.py:28: DeprecationWarning: find_element_by_css_selector is deprecated. Please use find_element(by=By.CSS_SELECTOR, value=css_selector) instead\n",
      "  searchbutten = driver.find_element_by_css_selector('#btnSearch')\n",
      "/tmp/ipykernel_46587/1885124001.py:24: DeprecationWarning: find_element_by_css_selector is deprecated. Please use find_element(by=By.CSS_SELECTOR, value=css_selector) instead\n",
      "  game = driver.find_element_by_css_selector('#selectGameId')\n",
      "/tmp/ipykernel_46587/1885124001.py:28: DeprecationWarning: find_element_by_css_selector is deprecated. Please use find_element(by=By.CSS_SELECTOR, value=css_selector) instead\n",
      "  searchbutten = driver.find_element_by_css_selector('#btnSearch')\n",
      "/tmp/ipykernel_46587/1885124001.py:17: DeprecationWarning: find_element_by_css_selector is deprecated. Please use find_element(by=By.CSS_SELECTOR, value=css_selector) instead\n",
      "  teamsel = driver.find_element_by_css_selector('#selectTeamId')\n",
      "/tmp/ipykernel_46587/1885124001.py:20: DeprecationWarning: find_elements_by_css_selector is deprecated. Please use find_elements(by=By.CSS_SELECTOR, value=css_selector) instead\n",
      "  gamessel = driver.find_elements_by_css_selector('#selectGameId > option')\n",
      "/tmp/ipykernel_46587/1885124001.py:24: DeprecationWarning: find_element_by_css_selector is deprecated. Please use find_element(by=By.CSS_SELECTOR, value=css_selector) instead\n",
      "  game = driver.find_element_by_css_selector('#selectGameId')\n",
      "/tmp/ipykernel_46587/1885124001.py:28: DeprecationWarning: find_element_by_css_selector is deprecated. Please use find_element(by=By.CSS_SELECTOR, value=css_selector) instead\n",
      "  searchbutten = driver.find_element_by_css_selector('#btnSearch')\n",
      "/tmp/ipykernel_46587/1885124001.py:24: DeprecationWarning: find_element_by_css_selector is deprecated. Please use find_element(by=By.CSS_SELECTOR, value=css_selector) instead\n",
      "  game = driver.find_element_by_css_selector('#selectGameId')\n",
      "/tmp/ipykernel_46587/1885124001.py:28: DeprecationWarning: find_element_by_css_selector is deprecated. Please use find_element(by=By.CSS_SELECTOR, value=css_selector) instead\n",
      "  searchbutten = driver.find_element_by_css_selector('#btnSearch')\n",
      "/tmp/ipykernel_46587/1885124001.py:24: DeprecationWarning: find_element_by_css_selector is deprecated. Please use find_element(by=By.CSS_SELECTOR, value=css_selector) instead\n",
      "  game = driver.find_element_by_css_selector('#selectGameId')\n",
      "/tmp/ipykernel_46587/1885124001.py:28: DeprecationWarning: find_element_by_css_selector is deprecated. Please use find_element(by=By.CSS_SELECTOR, value=css_selector) instead\n",
      "  searchbutten = driver.find_element_by_css_selector('#btnSearch')\n",
      "/tmp/ipykernel_46587/1885124001.py:24: DeprecationWarning: find_element_by_css_selector is deprecated. Please use find_element(by=By.CSS_SELECTOR, value=css_selector) instead\n",
      "  game = driver.find_element_by_css_selector('#selectGameId')\n",
      "/tmp/ipykernel_46587/1885124001.py:28: DeprecationWarning: find_element_by_css_selector is deprecated. Please use find_element(by=By.CSS_SELECTOR, value=css_selector) instead\n",
      "  searchbutten = driver.find_element_by_css_selector('#btnSearch')\n",
      "/tmp/ipykernel_46587/1885124001.py:24: DeprecationWarning: find_element_by_css_selector is deprecated. Please use find_element(by=By.CSS_SELECTOR, value=css_selector) instead\n",
      "  game = driver.find_element_by_css_selector('#selectGameId')\n",
      "/tmp/ipykernel_46587/1885124001.py:28: DeprecationWarning: find_element_by_css_selector is deprecated. Please use find_element(by=By.CSS_SELECTOR, value=css_selector) instead\n",
      "  searchbutten = driver.find_element_by_css_selector('#btnSearch')\n",
      "/tmp/ipykernel_46587/1885124001.py:24: DeprecationWarning: find_element_by_css_selector is deprecated. Please use find_element(by=By.CSS_SELECTOR, value=css_selector) instead\n",
      "  game = driver.find_element_by_css_selector('#selectGameId')\n",
      "/tmp/ipykernel_46587/1885124001.py:28: DeprecationWarning: find_element_by_css_selector is deprecated. Please use find_element(by=By.CSS_SELECTOR, value=css_selector) instead\n",
      "  searchbutten = driver.find_element_by_css_selector('#btnSearch')\n",
      "/tmp/ipykernel_46587/1885124001.py:24: DeprecationWarning: find_element_by_css_selector is deprecated. Please use find_element(by=By.CSS_SELECTOR, value=css_selector) instead\n",
      "  game = driver.find_element_by_css_selector('#selectGameId')\n",
      "/tmp/ipykernel_46587/1885124001.py:28: DeprecationWarning: find_element_by_css_selector is deprecated. Please use find_element(by=By.CSS_SELECTOR, value=css_selector) instead\n",
      "  searchbutten = driver.find_element_by_css_selector('#btnSearch')\n",
      "/tmp/ipykernel_46587/1885124001.py:24: DeprecationWarning: find_element_by_css_selector is deprecated. Please use find_element(by=By.CSS_SELECTOR, value=css_selector) instead\n",
      "  game = driver.find_element_by_css_selector('#selectGameId')\n",
      "/tmp/ipykernel_46587/1885124001.py:28: DeprecationWarning: find_element_by_css_selector is deprecated. Please use find_element(by=By.CSS_SELECTOR, value=css_selector) instead\n",
      "  searchbutten = driver.find_element_by_css_selector('#btnSearch')\n",
      "/tmp/ipykernel_46587/1885124001.py:24: DeprecationWarning: find_element_by_css_selector is deprecated. Please use find_element(by=By.CSS_SELECTOR, value=css_selector) instead\n",
      "  game = driver.find_element_by_css_selector('#selectGameId')\n",
      "/tmp/ipykernel_46587/1885124001.py:28: DeprecationWarning: find_element_by_css_selector is deprecated. Please use find_element(by=By.CSS_SELECTOR, value=css_selector) instead\n",
      "  searchbutten = driver.find_element_by_css_selector('#btnSearch')\n",
      "/tmp/ipykernel_46587/1885124001.py:24: DeprecationWarning: find_element_by_css_selector is deprecated. Please use find_element(by=By.CSS_SELECTOR, value=css_selector) instead\n",
      "  game = driver.find_element_by_css_selector('#selectGameId')\n",
      "/tmp/ipykernel_46587/1885124001.py:28: DeprecationWarning: find_element_by_css_selector is deprecated. Please use find_element(by=By.CSS_SELECTOR, value=css_selector) instead\n",
      "  searchbutten = driver.find_element_by_css_selector('#btnSearch')\n",
      "/tmp/ipykernel_46587/1885124001.py:24: DeprecationWarning: find_element_by_css_selector is deprecated. Please use find_element(by=By.CSS_SELECTOR, value=css_selector) instead\n",
      "  game = driver.find_element_by_css_selector('#selectGameId')\n",
      "/tmp/ipykernel_46587/1885124001.py:28: DeprecationWarning: find_element_by_css_selector is deprecated. Please use find_element(by=By.CSS_SELECTOR, value=css_selector) instead\n",
      "  searchbutten = driver.find_element_by_css_selector('#btnSearch')\n",
      "/tmp/ipykernel_46587/1885124001.py:24: DeprecationWarning: find_element_by_css_selector is deprecated. Please use find_element(by=By.CSS_SELECTOR, value=css_selector) instead\n",
      "  game = driver.find_element_by_css_selector('#selectGameId')\n",
      "/tmp/ipykernel_46587/1885124001.py:28: DeprecationWarning: find_element_by_css_selector is deprecated. Please use find_element(by=By.CSS_SELECTOR, value=css_selector) instead\n",
      "  searchbutten = driver.find_element_by_css_selector('#btnSearch')\n",
      "/tmp/ipykernel_46587/1885124001.py:24: DeprecationWarning: find_element_by_css_selector is deprecated. Please use find_element(by=By.CSS_SELECTOR, value=css_selector) instead\n",
      "  game = driver.find_element_by_css_selector('#selectGameId')\n",
      "/tmp/ipykernel_46587/1885124001.py:28: DeprecationWarning: find_element_by_css_selector is deprecated. Please use find_element(by=By.CSS_SELECTOR, value=css_selector) instead\n",
      "  searchbutten = driver.find_element_by_css_selector('#btnSearch')\n",
      "/tmp/ipykernel_46587/1885124001.py:24: DeprecationWarning: find_element_by_css_selector is deprecated. Please use find_element(by=By.CSS_SELECTOR, value=css_selector) instead\n",
      "  game = driver.find_element_by_css_selector('#selectGameId')\n",
      "/tmp/ipykernel_46587/1885124001.py:28: DeprecationWarning: find_element_by_css_selector is deprecated. Please use find_element(by=By.CSS_SELECTOR, value=css_selector) instead\n",
      "  searchbutten = driver.find_element_by_css_selector('#btnSearch')\n",
      "/tmp/ipykernel_46587/1885124001.py:24: DeprecationWarning: find_element_by_css_selector is deprecated. Please use find_element(by=By.CSS_SELECTOR, value=css_selector) instead\n",
      "  game = driver.find_element_by_css_selector('#selectGameId')\n",
      "/tmp/ipykernel_46587/1885124001.py:28: DeprecationWarning: find_element_by_css_selector is deprecated. Please use find_element(by=By.CSS_SELECTOR, value=css_selector) instead\n",
      "  searchbutten = driver.find_element_by_css_selector('#btnSearch')\n",
      "/tmp/ipykernel_46587/1885124001.py:24: DeprecationWarning: find_element_by_css_selector is deprecated. Please use find_element(by=By.CSS_SELECTOR, value=css_selector) instead\n",
      "  game = driver.find_element_by_css_selector('#selectGameId')\n",
      "/tmp/ipykernel_46587/1885124001.py:28: DeprecationWarning: find_element_by_css_selector is deprecated. Please use find_element(by=By.CSS_SELECTOR, value=css_selector) instead\n",
      "  searchbutten = driver.find_element_by_css_selector('#btnSearch')\n",
      "/tmp/ipykernel_46587/1885124001.py:24: DeprecationWarning: find_element_by_css_selector is deprecated. Please use find_element(by=By.CSS_SELECTOR, value=css_selector) instead\n",
      "  game = driver.find_element_by_css_selector('#selectGameId')\n",
      "/tmp/ipykernel_46587/1885124001.py:28: DeprecationWarning: find_element_by_css_selector is deprecated. Please use find_element(by=By.CSS_SELECTOR, value=css_selector) instead\n",
      "  searchbutten = driver.find_element_by_css_selector('#btnSearch')\n",
      "/tmp/ipykernel_46587/1885124001.py:24: DeprecationWarning: find_element_by_css_selector is deprecated. Please use find_element(by=By.CSS_SELECTOR, value=css_selector) instead\n",
      "  game = driver.find_element_by_css_selector('#selectGameId')\n",
      "/tmp/ipykernel_46587/1885124001.py:28: DeprecationWarning: find_element_by_css_selector is deprecated. Please use find_element(by=By.CSS_SELECTOR, value=css_selector) instead\n",
      "  searchbutten = driver.find_element_by_css_selector('#btnSearch')\n",
      "/tmp/ipykernel_46587/1885124001.py:24: DeprecationWarning: find_element_by_css_selector is deprecated. Please use find_element(by=By.CSS_SELECTOR, value=css_selector) instead\n",
      "  game = driver.find_element_by_css_selector('#selectGameId')\n",
      "/tmp/ipykernel_46587/1885124001.py:28: DeprecationWarning: find_element_by_css_selector is deprecated. Please use find_element(by=By.CSS_SELECTOR, value=css_selector) instead\n",
      "  searchbutten = driver.find_element_by_css_selector('#btnSearch')\n",
      "/tmp/ipykernel_46587/1885124001.py:24: DeprecationWarning: find_element_by_css_selector is deprecated. Please use find_element(by=By.CSS_SELECTOR, value=css_selector) instead\n",
      "  game = driver.find_element_by_css_selector('#selectGameId')\n",
      "/tmp/ipykernel_46587/1885124001.py:28: DeprecationWarning: find_element_by_css_selector is deprecated. Please use find_element(by=By.CSS_SELECTOR, value=css_selector) instead\n",
      "  searchbutten = driver.find_element_by_css_selector('#btnSearch')\n",
      "/tmp/ipykernel_46587/1885124001.py:24: DeprecationWarning: find_element_by_css_selector is deprecated. Please use find_element(by=By.CSS_SELECTOR, value=css_selector) instead\n",
      "  game = driver.find_element_by_css_selector('#selectGameId')\n",
      "/tmp/ipykernel_46587/1885124001.py:28: DeprecationWarning: find_element_by_css_selector is deprecated. Please use find_element(by=By.CSS_SELECTOR, value=css_selector) instead\n",
      "  searchbutten = driver.find_element_by_css_selector('#btnSearch')\n",
      "/tmp/ipykernel_46587/1885124001.py:24: DeprecationWarning: find_element_by_css_selector is deprecated. Please use find_element(by=By.CSS_SELECTOR, value=css_selector) instead\n",
      "  game = driver.find_element_by_css_selector('#selectGameId')\n",
      "/tmp/ipykernel_46587/1885124001.py:28: DeprecationWarning: find_element_by_css_selector is deprecated. Please use find_element(by=By.CSS_SELECTOR, value=css_selector) instead\n",
      "  searchbutten = driver.find_element_by_css_selector('#btnSearch')\n",
      "/tmp/ipykernel_46587/1885124001.py:24: DeprecationWarning: find_element_by_css_selector is deprecated. Please use find_element(by=By.CSS_SELECTOR, value=css_selector) instead\n",
      "  game = driver.find_element_by_css_selector('#selectGameId')\n",
      "/tmp/ipykernel_46587/1885124001.py:28: DeprecationWarning: find_element_by_css_selector is deprecated. Please use find_element(by=By.CSS_SELECTOR, value=css_selector) instead\n",
      "  searchbutten = driver.find_element_by_css_selector('#btnSearch')\n",
      "/tmp/ipykernel_46587/1885124001.py:24: DeprecationWarning: find_element_by_css_selector is deprecated. Please use find_element(by=By.CSS_SELECTOR, value=css_selector) instead\n",
      "  game = driver.find_element_by_css_selector('#selectGameId')\n",
      "/tmp/ipykernel_46587/1885124001.py:28: DeprecationWarning: find_element_by_css_selector is deprecated. Please use find_element(by=By.CSS_SELECTOR, value=css_selector) instead\n",
      "  searchbutten = driver.find_element_by_css_selector('#btnSearch')\n",
      "/tmp/ipykernel_46587/1885124001.py:24: DeprecationWarning: find_element_by_css_selector is deprecated. Please use find_element(by=By.CSS_SELECTOR, value=css_selector) instead\n",
      "  game = driver.find_element_by_css_selector('#selectGameId')\n",
      "/tmp/ipykernel_46587/1885124001.py:28: DeprecationWarning: find_element_by_css_selector is deprecated. Please use find_element(by=By.CSS_SELECTOR, value=css_selector) instead\n",
      "  searchbutten = driver.find_element_by_css_selector('#btnSearch')\n",
      "/tmp/ipykernel_46587/1885124001.py:24: DeprecationWarning: find_element_by_css_selector is deprecated. Please use find_element(by=By.CSS_SELECTOR, value=css_selector) instead\n",
      "  game = driver.find_element_by_css_selector('#selectGameId')\n",
      "/tmp/ipykernel_46587/1885124001.py:28: DeprecationWarning: find_element_by_css_selector is deprecated. Please use find_element(by=By.CSS_SELECTOR, value=css_selector) instead\n",
      "  searchbutten = driver.find_element_by_css_selector('#btnSearch')\n",
      "/tmp/ipykernel_46587/1885124001.py:24: DeprecationWarning: find_element_by_css_selector is deprecated. Please use find_element(by=By.CSS_SELECTOR, value=css_selector) instead\n",
      "  game = driver.find_element_by_css_selector('#selectGameId')\n",
      "/tmp/ipykernel_46587/1885124001.py:28: DeprecationWarning: find_element_by_css_selector is deprecated. Please use find_element(by=By.CSS_SELECTOR, value=css_selector) instead\n",
      "  searchbutten = driver.find_element_by_css_selector('#btnSearch')\n",
      "/tmp/ipykernel_46587/1885124001.py:24: DeprecationWarning: find_element_by_css_selector is deprecated. Please use find_element(by=By.CSS_SELECTOR, value=css_selector) instead\n",
      "  game = driver.find_element_by_css_selector('#selectGameId')\n",
      "/tmp/ipykernel_46587/1885124001.py:28: DeprecationWarning: find_element_by_css_selector is deprecated. Please use find_element(by=By.CSS_SELECTOR, value=css_selector) instead\n",
      "  searchbutten = driver.find_element_by_css_selector('#btnSearch')\n",
      "/tmp/ipykernel_46587/1885124001.py:24: DeprecationWarning: find_element_by_css_selector is deprecated. Please use find_element(by=By.CSS_SELECTOR, value=css_selector) instead\n",
      "  game = driver.find_element_by_css_selector('#selectGameId')\n",
      "/tmp/ipykernel_46587/1885124001.py:28: DeprecationWarning: find_element_by_css_selector is deprecated. Please use find_element(by=By.CSS_SELECTOR, value=css_selector) instead\n",
      "  searchbutten = driver.find_element_by_css_selector('#btnSearch')\n",
      "/tmp/ipykernel_46587/1885124001.py:24: DeprecationWarning: find_element_by_css_selector is deprecated. Please use find_element(by=By.CSS_SELECTOR, value=css_selector) instead\n",
      "  game = driver.find_element_by_css_selector('#selectGameId')\n",
      "/tmp/ipykernel_46587/1885124001.py:28: DeprecationWarning: find_element_by_css_selector is deprecated. Please use find_element(by=By.CSS_SELECTOR, value=css_selector) instead\n",
      "  searchbutten = driver.find_element_by_css_selector('#btnSearch')\n",
      "/tmp/ipykernel_46587/1885124001.py:24: DeprecationWarning: find_element_by_css_selector is deprecated. Please use find_element(by=By.CSS_SELECTOR, value=css_selector) instead\n",
      "  game = driver.find_element_by_css_selector('#selectGameId')\n",
      "/tmp/ipykernel_46587/1885124001.py:28: DeprecationWarning: find_element_by_css_selector is deprecated. Please use find_element(by=By.CSS_SELECTOR, value=css_selector) instead\n",
      "  searchbutten = driver.find_element_by_css_selector('#btnSearch')\n",
      "/tmp/ipykernel_46587/1885124001.py:24: DeprecationWarning: find_element_by_css_selector is deprecated. Please use find_element(by=By.CSS_SELECTOR, value=css_selector) instead\n",
      "  game = driver.find_element_by_css_selector('#selectGameId')\n",
      "/tmp/ipykernel_46587/1885124001.py:28: DeprecationWarning: find_element_by_css_selector is deprecated. Please use find_element(by=By.CSS_SELECTOR, value=css_selector) instead\n",
      "  searchbutten = driver.find_element_by_css_selector('#btnSearch')\n",
      "/tmp/ipykernel_46587/1885124001.py:24: DeprecationWarning: find_element_by_css_selector is deprecated. Please use find_element(by=By.CSS_SELECTOR, value=css_selector) instead\n",
      "  game = driver.find_element_by_css_selector('#selectGameId')\n",
      "/tmp/ipykernel_46587/1885124001.py:28: DeprecationWarning: find_element_by_css_selector is deprecated. Please use find_element(by=By.CSS_SELECTOR, value=css_selector) instead\n",
      "  searchbutten = driver.find_element_by_css_selector('#btnSearch')\n",
      "/tmp/ipykernel_46587/1885124001.py:24: DeprecationWarning: find_element_by_css_selector is deprecated. Please use find_element(by=By.CSS_SELECTOR, value=css_selector) instead\n",
      "  game = driver.find_element_by_css_selector('#selectGameId')\n",
      "/tmp/ipykernel_46587/1885124001.py:28: DeprecationWarning: find_element_by_css_selector is deprecated. Please use find_element(by=By.CSS_SELECTOR, value=css_selector) instead\n",
      "  searchbutten = driver.find_element_by_css_selector('#btnSearch')\n",
      "/tmp/ipykernel_46587/1885124001.py:24: DeprecationWarning: find_element_by_css_selector is deprecated. Please use find_element(by=By.CSS_SELECTOR, value=css_selector) instead\n",
      "  game = driver.find_element_by_css_selector('#selectGameId')\n",
      "/tmp/ipykernel_46587/1885124001.py:28: DeprecationWarning: find_element_by_css_selector is deprecated. Please use find_element(by=By.CSS_SELECTOR, value=css_selector) instead\n",
      "  searchbutten = driver.find_element_by_css_selector('#btnSearch')\n",
      "/tmp/ipykernel_46587/1885124001.py:24: DeprecationWarning: find_element_by_css_selector is deprecated. Please use find_element(by=By.CSS_SELECTOR, value=css_selector) instead\n",
      "  game = driver.find_element_by_css_selector('#selectGameId')\n",
      "/tmp/ipykernel_46587/1885124001.py:28: DeprecationWarning: find_element_by_css_selector is deprecated. Please use find_element(by=By.CSS_SELECTOR, value=css_selector) instead\n",
      "  searchbutten = driver.find_element_by_css_selector('#btnSearch')\n"
     ]
    }
   ],
   "metadata": {}
  },
  {
   "cell_type": "code",
   "execution_count": 30,
   "source": [
    "from IPython.display import clear_output"
   ],
   "outputs": [],
   "metadata": {}
  },
  {
   "cell_type": "code",
   "execution_count": 34,
   "source": [
    "count = 0\n",
    "for i in range(2019, 2023):\n",
    "    count += searchperson(str(i))\n",
    "    clear_output()\n",
    "print('총오류 {}개'.format(count))"
   ],
   "outputs": [
    {
     "output_type": "stream",
     "name": "stderr",
     "text": [
      "/tmp/ipykernel_46587/2086319263.py:3: DeprecationWarning: find_element_by_css_selector is deprecated. Please use find_element(by=By.CSS_SELECTOR, value=css_selector) instead\n",
      "  yearsel = driver.find_element_by_css_selector('#selectYear')\n",
      "/tmp/ipykernel_46587/2086319263.py:6: DeprecationWarning: find_elements_by_css_selector is deprecated. Please use find_elements(by=By.CSS_SELECTOR, value=css_selector) instead\n",
      "  option = driver.find_elements_by_css_selector('#selectMeetSeq > option')\n",
      "/tmp/ipykernel_46587/2086319263.py:10: DeprecationWarning: find_element_by_css_selector is deprecated. Please use find_element(by=By.CSS_SELECTOR, value=css_selector) instead\n",
      "  leaguesel = driver.find_element_by_css_selector('#selectMeetSeq')\n"
     ]
    },
    {
     "output_type": "stream",
     "name": "stdout",
     "text": [
      "['K리그1 2018', 'K리그2 2018', 'K리그 승강PO 2018', '하나원큐 K리그1 2019', '하나원큐 K리그2 2019', 'K리그 승강PO 2019']\n"
     ]
    },
    {
     "output_type": "stream",
     "name": "stderr",
     "text": [
      "/tmp/ipykernel_46587/2086319263.py:13: DeprecationWarning: find_elements_by_css_selector is deprecated. Please use find_elements(by=By.CSS_SELECTOR, value=css_selector) instead\n",
      "  option = driver.find_elements_by_css_selector('#selectTeamId > option')\n",
      "/tmp/ipykernel_46587/2086319263.py:17: DeprecationWarning: find_element_by_css_selector is deprecated. Please use find_element(by=By.CSS_SELECTOR, value=css_selector) instead\n",
      "  teamsel = driver.find_element_by_css_selector('#selectTeamId')\n"
     ]
    },
    {
     "output_type": "stream",
     "name": "stdout",
     "text": [
      "['부산', '경남', '울산', '수원', '포항', '제주', '전북', '성남', '서울', '대구', '인천', '경남', '강원', '상주']\n"
     ]
    },
    {
     "output_type": "stream",
     "name": "stderr",
     "text": [
      "/tmp/ipykernel_46587/2086319263.py:20: DeprecationWarning: find_elements_by_css_selector is deprecated. Please use find_elements(by=By.CSS_SELECTOR, value=css_selector) instead\n",
      "  gamessel = driver.find_elements_by_css_selector('#selectGameId > option')\n"
     ]
    },
    {
     "output_type": "error",
     "ename": "KeyboardInterrupt",
     "evalue": "",
     "traceback": [
      "\u001b[0;31m---------------------------------------------------------------------------\u001b[0m",
      "\u001b[0;31mKeyboardInterrupt\u001b[0m                         Traceback (most recent call last)",
      "\u001b[1;32m/home/hchang/Working/more/crawling/kleague/hi.ipynb Cell 26'\u001b[0m in \u001b[0;36m<cell line: 2>\u001b[0;34m()\u001b[0m\n\u001b[1;32m      <a href='vscode-notebook-cell:/home/hchang/Working/more/crawling/kleague/hi.ipynb#ch0000023?line=0'>1</a>\u001b[0m count \u001b[39m=\u001b[39m \u001b[39m0\u001b[39m\n\u001b[1;32m      <a href='vscode-notebook-cell:/home/hchang/Working/more/crawling/kleague/hi.ipynb#ch0000023?line=1'>2</a>\u001b[0m \u001b[39mfor\u001b[39;00m i \u001b[39min\u001b[39;00m \u001b[39mrange\u001b[39m(\u001b[39m2019\u001b[39m, \u001b[39m2023\u001b[39m):\n\u001b[0;32m----> <a href='vscode-notebook-cell:/home/hchang/Working/more/crawling/kleague/hi.ipynb#ch0000023?line=2'>3</a>\u001b[0m     count \u001b[39m+\u001b[39m\u001b[39m=\u001b[39m searchperson(\u001b[39mstr\u001b[39;49m(i))\n\u001b[1;32m      <a href='vscode-notebook-cell:/home/hchang/Working/more/crawling/kleague/hi.ipynb#ch0000023?line=3'>4</a>\u001b[0m     clear_output()\n\u001b[1;32m      <a href='vscode-notebook-cell:/home/hchang/Working/more/crawling/kleague/hi.ipynb#ch0000023?line=4'>5</a>\u001b[0m \u001b[39mprint\u001b[39m(\u001b[39m'\u001b[39m\u001b[39m총오류 \u001b[39m\u001b[39m{}\u001b[39;00m\u001b[39m개\u001b[39m\u001b[39m'\u001b[39m\u001b[39m.\u001b[39mformat(count))\n",
      "\u001b[1;32m/home/hchang/Working/more/crawling/kleague/hi.ipynb Cell 22'\u001b[0m in \u001b[0;36msearchperson\u001b[0;34m(year)\u001b[0m\n\u001b[1;32m     <a href='vscode-notebook-cell:/home/hchang/Working/more/crawling/kleague/hi.ipynb#ch0000022?line=16'>17</a>\u001b[0m teamsel \u001b[39m=\u001b[39m driver\u001b[39m.\u001b[39mfind_element_by_css_selector(\u001b[39m'\u001b[39m\u001b[39m#selectTeamId\u001b[39m\u001b[39m'\u001b[39m)\n\u001b[1;32m     <a href='vscode-notebook-cell:/home/hchang/Working/more/crawling/kleague/hi.ipynb#ch0000022?line=17'>18</a>\u001b[0m teamsel\u001b[39m.\u001b[39msend_keys(tm)\n\u001b[0;32m---> <a href='vscode-notebook-cell:/home/hchang/Working/more/crawling/kleague/hi.ipynb#ch0000022?line=18'>19</a>\u001b[0m sleep(\u001b[39m0.4\u001b[39;49m)\n\u001b[1;32m     <a href='vscode-notebook-cell:/home/hchang/Working/more/crawling/kleague/hi.ipynb#ch0000022?line=19'>20</a>\u001b[0m gamessel \u001b[39m=\u001b[39m driver\u001b[39m.\u001b[39mfind_elements_by_css_selector(\u001b[39m'\u001b[39m\u001b[39m#selectGameId > option\u001b[39m\u001b[39m'\u001b[39m)\n\u001b[1;32m     <a href='vscode-notebook-cell:/home/hchang/Working/more/crawling/kleague/hi.ipynb#ch0000022?line=20'>21</a>\u001b[0m games \u001b[39m=\u001b[39m [i\u001b[39m.\u001b[39mtext \u001b[39mfor\u001b[39;00m i \u001b[39min\u001b[39;00m gamessel \u001b[39mif\u001b[39;00m i\u001b[39m.\u001b[39mtext \u001b[39mnot\u001b[39;00m \u001b[39min\u001b[39;00m {\u001b[39m'\u001b[39m\u001b[39m전체\u001b[39m\u001b[39m'\u001b[39m,\u001b[39m'\u001b[39m\u001b[39m선택\u001b[39m\u001b[39m'\u001b[39m}]\n",
      "\u001b[0;31mKeyboardInterrupt\u001b[0m: "
     ]
    }
   ],
   "metadata": {}
  },
  {
   "cell_type": "code",
   "execution_count": 130,
   "source": [
    "for year in ['2020','2021','2022']:\n",
    "    searchperson(year)"
   ],
   "outputs": [
    {
     "output_type": "stream",
     "name": "stdout",
     "text": [
      "21R / 인천(A)\n"
     ]
    },
    {
     "output_type": "stream",
     "name": "stderr",
     "text": [
      "/tmp/ipykernel_11671/1732342239.py:22: DeprecationWarning: find_element_by_css_selector is deprecated. Please use find_element(by=By.CSS_SELECTOR, value=css_selector) instead\n",
      "  game = driver.find_element_by_css_selector('#selectGameId')\n",
      "/tmp/ipykernel_11671/1732342239.py:25: DeprecationWarning: find_element_by_css_selector is deprecated. Please use find_element(by=By.CSS_SELECTOR, value=css_selector) instead\n",
      "  searchbutten = driver.find_element_by_css_selector('#btnSearch')\n"
     ]
    },
    {
     "output_type": "stream",
     "name": "stdout",
     "text": [
      "22R / 대구(H)\n"
     ]
    },
    {
     "output_type": "stream",
     "name": "stderr",
     "text": [
      "/tmp/ipykernel_11671/1732342239.py:22: DeprecationWarning: find_element_by_css_selector is deprecated. Please use find_element(by=By.CSS_SELECTOR, value=css_selector) instead\n",
      "  game = driver.find_element_by_css_selector('#selectGameId')\n",
      "/tmp/ipykernel_11671/1732342239.py:25: DeprecationWarning: find_element_by_css_selector is deprecated. Please use find_element(by=By.CSS_SELECTOR, value=css_selector) instead\n",
      "  searchbutten = driver.find_element_by_css_selector('#btnSearch')\n"
     ]
    },
    {
     "output_type": "stream",
     "name": "stdout",
     "text": [
      "23R / 수원(A)\n"
     ]
    },
    {
     "output_type": "stream",
     "name": "stderr",
     "text": [
      "/tmp/ipykernel_11671/1732342239.py:22: DeprecationWarning: find_element_by_css_selector is deprecated. Please use find_element(by=By.CSS_SELECTOR, value=css_selector) instead\n",
      "  game = driver.find_element_by_css_selector('#selectGameId')\n",
      "/tmp/ipykernel_11671/1732342239.py:25: DeprecationWarning: find_element_by_css_selector is deprecated. Please use find_element(by=By.CSS_SELECTOR, value=css_selector) instead\n",
      "  searchbutten = driver.find_element_by_css_selector('#btnSearch')\n"
     ]
    },
    {
     "output_type": "stream",
     "name": "stdout",
     "text": [
      "24R / 부산(H)\n"
     ]
    },
    {
     "output_type": "stream",
     "name": "stderr",
     "text": [
      "/tmp/ipykernel_11671/1732342239.py:22: DeprecationWarning: find_element_by_css_selector is deprecated. Please use find_element(by=By.CSS_SELECTOR, value=css_selector) instead\n",
      "  game = driver.find_element_by_css_selector('#selectGameId')\n",
      "/tmp/ipykernel_11671/1732342239.py:25: DeprecationWarning: find_element_by_css_selector is deprecated. Please use find_element(by=By.CSS_SELECTOR, value=css_selector) instead\n",
      "  searchbutten = driver.find_element_by_css_selector('#btnSearch')\n"
     ]
    },
    {
     "output_type": "stream",
     "name": "stdout",
     "text": [
      "25R / 성남(A)\n"
     ]
    },
    {
     "output_type": "stream",
     "name": "stderr",
     "text": [
      "/tmp/ipykernel_11671/1732342239.py:22: DeprecationWarning: find_element_by_css_selector is deprecated. Please use find_element(by=By.CSS_SELECTOR, value=css_selector) instead\n",
      "  game = driver.find_element_by_css_selector('#selectGameId')\n",
      "/tmp/ipykernel_11671/1732342239.py:25: DeprecationWarning: find_element_by_css_selector is deprecated. Please use find_element(by=By.CSS_SELECTOR, value=css_selector) instead\n",
      "  searchbutten = driver.find_element_by_css_selector('#btnSearch')\n"
     ]
    },
    {
     "output_type": "stream",
     "name": "stdout",
     "text": [
      "26R / 강원(H)\n"
     ]
    },
    {
     "output_type": "stream",
     "name": "stderr",
     "text": [
      "/tmp/ipykernel_11671/1732342239.py:22: DeprecationWarning: find_element_by_css_selector is deprecated. Please use find_element(by=By.CSS_SELECTOR, value=css_selector) instead\n",
      "  game = driver.find_element_by_css_selector('#selectGameId')\n",
      "/tmp/ipykernel_11671/1732342239.py:25: DeprecationWarning: find_element_by_css_selector is deprecated. Please use find_element(by=By.CSS_SELECTOR, value=css_selector) instead\n",
      "  searchbutten = driver.find_element_by_css_selector('#btnSearch')\n"
     ]
    },
    {
     "output_type": "stream",
     "name": "stdout",
     "text": [
      "27R / 인천(H)\n"
     ]
    },
    {
     "output_type": "stream",
     "name": "stderr",
     "text": [
      "/tmp/ipykernel_11671/1732342239.py:16: DeprecationWarning: find_element_by_css_selector is deprecated. Please use find_element(by=By.CSS_SELECTOR, value=css_selector) instead\n",
      "  teamsel = driver.find_element_by_css_selector('#selectTeamId')\n",
      "/tmp/ipykernel_11671/1732342239.py:19: DeprecationWarning: find_elements_by_css_selector is deprecated. Please use find_elements(by=By.CSS_SELECTOR, value=css_selector) instead\n",
      "  gamessel = driver.find_elements_by_css_selector('#selectGameId > option')\n",
      "/tmp/ipykernel_11671/1732342239.py:22: DeprecationWarning: find_element_by_css_selector is deprecated. Please use find_element(by=By.CSS_SELECTOR, value=css_selector) instead\n",
      "  game = driver.find_element_by_css_selector('#selectGameId')\n",
      "/tmp/ipykernel_11671/1732342239.py:25: DeprecationWarning: find_element_by_css_selector is deprecated. Please use find_element(by=By.CSS_SELECTOR, value=css_selector) instead\n",
      "  searchbutten = driver.find_element_by_css_selector('#btnSearch')\n"
     ]
    },
    {
     "output_type": "stream",
     "name": "stdout",
     "text": [
      "1R / 인천(A)\n"
     ]
    },
    {
     "output_type": "stream",
     "name": "stderr",
     "text": [
      "/tmp/ipykernel_11671/1732342239.py:22: DeprecationWarning: find_element_by_css_selector is deprecated. Please use find_element(by=By.CSS_SELECTOR, value=css_selector) instead\n",
      "  game = driver.find_element_by_css_selector('#selectGameId')\n",
      "/tmp/ipykernel_11671/1732342239.py:25: DeprecationWarning: find_element_by_css_selector is deprecated. Please use find_element(by=By.CSS_SELECTOR, value=css_selector) instead\n",
      "  searchbutten = driver.find_element_by_css_selector('#btnSearch')\n"
     ]
    },
    {
     "output_type": "stream",
     "name": "stdout",
     "text": [
      "2R / 포항(H)\n"
     ]
    },
    {
     "output_type": "stream",
     "name": "stderr",
     "text": [
      "/tmp/ipykernel_11671/1732342239.py:22: DeprecationWarning: find_element_by_css_selector is deprecated. Please use find_element(by=By.CSS_SELECTOR, value=css_selector) instead\n",
      "  game = driver.find_element_by_css_selector('#selectGameId')\n",
      "/tmp/ipykernel_11671/1732342239.py:25: DeprecationWarning: find_element_by_css_selector is deprecated. Please use find_element(by=By.CSS_SELECTOR, value=css_selector) instead\n",
      "  searchbutten = driver.find_element_by_css_selector('#btnSearch')\n"
     ]
    },
    {
     "output_type": "stream",
     "name": "stdout",
     "text": [
      "3R / 전북(A)\n"
     ]
    },
    {
     "output_type": "stream",
     "name": "stderr",
     "text": [
      "/tmp/ipykernel_11671/1732342239.py:22: DeprecationWarning: find_element_by_css_selector is deprecated. Please use find_element(by=By.CSS_SELECTOR, value=css_selector) instead\n",
      "  game = driver.find_element_by_css_selector('#selectGameId')\n",
      "/tmp/ipykernel_11671/1732342239.py:25: DeprecationWarning: find_element_by_css_selector is deprecated. Please use find_element(by=By.CSS_SELECTOR, value=css_selector) instead\n",
      "  searchbutten = driver.find_element_by_css_selector('#btnSearch')\n"
     ]
    },
    {
     "output_type": "stream",
     "name": "stdout",
     "text": [
      "4R / 상주(H)\n"
     ]
    },
    {
     "output_type": "stream",
     "name": "stderr",
     "text": [
      "/tmp/ipykernel_11671/1732342239.py:22: DeprecationWarning: find_element_by_css_selector is deprecated. Please use find_element(by=By.CSS_SELECTOR, value=css_selector) instead\n",
      "  game = driver.find_element_by_css_selector('#selectGameId')\n",
      "/tmp/ipykernel_11671/1732342239.py:25: DeprecationWarning: find_element_by_css_selector is deprecated. Please use find_element(by=By.CSS_SELECTOR, value=css_selector) instead\n",
      "  searchbutten = driver.find_element_by_css_selector('#btnSearch')\n"
     ]
    },
    {
     "output_type": "stream",
     "name": "stdout",
     "text": [
      "5R / 성남(A)\n"
     ]
    },
    {
     "output_type": "stream",
     "name": "stderr",
     "text": [
      "/tmp/ipykernel_11671/1732342239.py:22: DeprecationWarning: find_element_by_css_selector is deprecated. Please use find_element(by=By.CSS_SELECTOR, value=css_selector) instead\n",
      "  game = driver.find_element_by_css_selector('#selectGameId')\n",
      "/tmp/ipykernel_11671/1732342239.py:25: DeprecationWarning: find_element_by_css_selector is deprecated. Please use find_element(by=By.CSS_SELECTOR, value=css_selector) instead\n",
      "  searchbutten = driver.find_element_by_css_selector('#btnSearch')\n"
     ]
    },
    {
     "output_type": "stream",
     "name": "stdout",
     "text": [
      "6R / 서울(H)\n"
     ]
    },
    {
     "output_type": "stream",
     "name": "stderr",
     "text": [
      "/tmp/ipykernel_11671/1732342239.py:22: DeprecationWarning: find_element_by_css_selector is deprecated. Please use find_element(by=By.CSS_SELECTOR, value=css_selector) instead\n",
      "  game = driver.find_element_by_css_selector('#selectGameId')\n",
      "/tmp/ipykernel_11671/1732342239.py:25: DeprecationWarning: find_element_by_css_selector is deprecated. Please use find_element(by=By.CSS_SELECTOR, value=css_selector) instead\n",
      "  searchbutten = driver.find_element_by_css_selector('#btnSearch')\n"
     ]
    },
    {
     "output_type": "stream",
     "name": "stdout",
     "text": [
      "7R / 부산(A)\n"
     ]
    },
    {
     "output_type": "stream",
     "name": "stderr",
     "text": [
      "/tmp/ipykernel_11671/1732342239.py:22: DeprecationWarning: find_element_by_css_selector is deprecated. Please use find_element(by=By.CSS_SELECTOR, value=css_selector) instead\n",
      "  game = driver.find_element_by_css_selector('#selectGameId')\n",
      "/tmp/ipykernel_11671/1732342239.py:25: DeprecationWarning: find_element_by_css_selector is deprecated. Please use find_element(by=By.CSS_SELECTOR, value=css_selector) instead\n",
      "  searchbutten = driver.find_element_by_css_selector('#btnSearch')\n"
     ]
    },
    {
     "output_type": "stream",
     "name": "stdout",
     "text": [
      "8R / 수원(H)\n"
     ]
    },
    {
     "output_type": "stream",
     "name": "stderr",
     "text": [
      "/tmp/ipykernel_11671/1732342239.py:22: DeprecationWarning: find_element_by_css_selector is deprecated. Please use find_element(by=By.CSS_SELECTOR, value=css_selector) instead\n",
      "  game = driver.find_element_by_css_selector('#selectGameId')\n",
      "/tmp/ipykernel_11671/1732342239.py:25: DeprecationWarning: find_element_by_css_selector is deprecated. Please use find_element(by=By.CSS_SELECTOR, value=css_selector) instead\n",
      "  searchbutten = driver.find_element_by_css_selector('#btnSearch')\n"
     ]
    },
    {
     "output_type": "stream",
     "name": "stdout",
     "text": [
      "9R / 강원(H)\n"
     ]
    },
    {
     "output_type": "stream",
     "name": "stderr",
     "text": [
      "/tmp/ipykernel_11671/1732342239.py:22: DeprecationWarning: find_element_by_css_selector is deprecated. Please use find_element(by=By.CSS_SELECTOR, value=css_selector) instead\n",
      "  game = driver.find_element_by_css_selector('#selectGameId')\n",
      "/tmp/ipykernel_11671/1732342239.py:25: DeprecationWarning: find_element_by_css_selector is deprecated. Please use find_element(by=By.CSS_SELECTOR, value=css_selector) instead\n",
      "  searchbutten = driver.find_element_by_css_selector('#btnSearch')\n"
     ]
    },
    {
     "output_type": "stream",
     "name": "stdout",
     "text": [
      "10R / 광주(A)\n"
     ]
    },
    {
     "output_type": "stream",
     "name": "stderr",
     "text": [
      "/tmp/ipykernel_11671/1732342239.py:22: DeprecationWarning: find_element_by_css_selector is deprecated. Please use find_element(by=By.CSS_SELECTOR, value=css_selector) instead\n",
      "  game = driver.find_element_by_css_selector('#selectGameId')\n",
      "/tmp/ipykernel_11671/1732342239.py:25: DeprecationWarning: find_element_by_css_selector is deprecated. Please use find_element(by=By.CSS_SELECTOR, value=css_selector) instead\n",
      "  searchbutten = driver.find_element_by_css_selector('#btnSearch')\n"
     ]
    },
    {
     "output_type": "stream",
     "name": "stdout",
     "text": [
      "11R / 울산(H)\n"
     ]
    },
    {
     "output_type": "stream",
     "name": "stderr",
     "text": [
      "/tmp/ipykernel_11671/1732342239.py:22: DeprecationWarning: find_element_by_css_selector is deprecated. Please use find_element(by=By.CSS_SELECTOR, value=css_selector) instead\n",
      "  game = driver.find_element_by_css_selector('#selectGameId')\n",
      "/tmp/ipykernel_11671/1732342239.py:25: DeprecationWarning: find_element_by_css_selector is deprecated. Please use find_element(by=By.CSS_SELECTOR, value=css_selector) instead\n",
      "  searchbutten = driver.find_element_by_css_selector('#btnSearch')\n"
     ]
    },
    {
     "output_type": "stream",
     "name": "stdout",
     "text": [
      "12R / 상주(A)\n"
     ]
    },
    {
     "output_type": "stream",
     "name": "stderr",
     "text": [
      "/tmp/ipykernel_11671/1732342239.py:22: DeprecationWarning: find_element_by_css_selector is deprecated. Please use find_element(by=By.CSS_SELECTOR, value=css_selector) instead\n",
      "  game = driver.find_element_by_css_selector('#selectGameId')\n",
      "/tmp/ipykernel_11671/1732342239.py:25: DeprecationWarning: find_element_by_css_selector is deprecated. Please use find_element(by=By.CSS_SELECTOR, value=css_selector) instead\n",
      "  searchbutten = driver.find_element_by_css_selector('#btnSearch')\n"
     ]
    },
    {
     "output_type": "stream",
     "name": "stdout",
     "text": [
      "13R / 부산(H)\n"
     ]
    },
    {
     "output_type": "stream",
     "name": "stderr",
     "text": [
      "/tmp/ipykernel_11671/1732342239.py:22: DeprecationWarning: find_element_by_css_selector is deprecated. Please use find_element(by=By.CSS_SELECTOR, value=css_selector) instead\n",
      "  game = driver.find_element_by_css_selector('#selectGameId')\n",
      "/tmp/ipykernel_11671/1732342239.py:25: DeprecationWarning: find_element_by_css_selector is deprecated. Please use find_element(by=By.CSS_SELECTOR, value=css_selector) instead\n",
      "  searchbutten = driver.find_element_by_css_selector('#btnSearch')\n"
     ]
    },
    {
     "output_type": "stream",
     "name": "stdout",
     "text": [
      "14R / 수원(A)\n"
     ]
    },
    {
     "output_type": "stream",
     "name": "stderr",
     "text": [
      "/tmp/ipykernel_11671/1732342239.py:22: DeprecationWarning: find_element_by_css_selector is deprecated. Please use find_element(by=By.CSS_SELECTOR, value=css_selector) instead\n",
      "  game = driver.find_element_by_css_selector('#selectGameId')\n",
      "/tmp/ipykernel_11671/1732342239.py:25: DeprecationWarning: find_element_by_css_selector is deprecated. Please use find_element(by=By.CSS_SELECTOR, value=css_selector) instead\n",
      "  searchbutten = driver.find_element_by_css_selector('#btnSearch')\n"
     ]
    },
    {
     "output_type": "stream",
     "name": "stdout",
     "text": [
      "15R / 전북(H)\n"
     ]
    },
    {
     "output_type": "stream",
     "name": "stderr",
     "text": [
      "/tmp/ipykernel_11671/1732342239.py:22: DeprecationWarning: find_element_by_css_selector is deprecated. Please use find_element(by=By.CSS_SELECTOR, value=css_selector) instead\n",
      "  game = driver.find_element_by_css_selector('#selectGameId')\n",
      "/tmp/ipykernel_11671/1732342239.py:25: DeprecationWarning: find_element_by_css_selector is deprecated. Please use find_element(by=By.CSS_SELECTOR, value=css_selector) instead\n",
      "  searchbutten = driver.find_element_by_css_selector('#btnSearch')\n"
     ]
    },
    {
     "output_type": "stream",
     "name": "stdout",
     "text": [
      "16R / 인천(H)\n"
     ]
    },
    {
     "output_type": "stream",
     "name": "stderr",
     "text": [
      "/tmp/ipykernel_11671/1732342239.py:22: DeprecationWarning: find_element_by_css_selector is deprecated. Please use find_element(by=By.CSS_SELECTOR, value=css_selector) instead\n",
      "  game = driver.find_element_by_css_selector('#selectGameId')\n",
      "/tmp/ipykernel_11671/1732342239.py:25: DeprecationWarning: find_element_by_css_selector is deprecated. Please use find_element(by=By.CSS_SELECTOR, value=css_selector) instead\n",
      "  searchbutten = driver.find_element_by_css_selector('#btnSearch')\n"
     ]
    },
    {
     "output_type": "stream",
     "name": "stdout",
     "text": [
      "17R / 강원(A)\n"
     ]
    },
    {
     "output_type": "stream",
     "name": "stderr",
     "text": [
      "/tmp/ipykernel_11671/1732342239.py:22: DeprecationWarning: find_element_by_css_selector is deprecated. Please use find_element(by=By.CSS_SELECTOR, value=css_selector) instead\n",
      "  game = driver.find_element_by_css_selector('#selectGameId')\n",
      "/tmp/ipykernel_11671/1732342239.py:25: DeprecationWarning: find_element_by_css_selector is deprecated. Please use find_element(by=By.CSS_SELECTOR, value=css_selector) instead\n",
      "  searchbutten = driver.find_element_by_css_selector('#btnSearch')\n"
     ]
    },
    {
     "output_type": "stream",
     "name": "stdout",
     "text": [
      "18R / 광주(H)\n"
     ]
    },
    {
     "output_type": "stream",
     "name": "stderr",
     "text": [
      "/tmp/ipykernel_11671/1732342239.py:22: DeprecationWarning: find_element_by_css_selector is deprecated. Please use find_element(by=By.CSS_SELECTOR, value=css_selector) instead\n",
      "  game = driver.find_element_by_css_selector('#selectGameId')\n",
      "/tmp/ipykernel_11671/1732342239.py:25: DeprecationWarning: find_element_by_css_selector is deprecated. Please use find_element(by=By.CSS_SELECTOR, value=css_selector) instead\n",
      "  searchbutten = driver.find_element_by_css_selector('#btnSearch')\n"
     ]
    },
    {
     "output_type": "stream",
     "name": "stdout",
     "text": [
      "19R / 포항(A)\n"
     ]
    },
    {
     "output_type": "stream",
     "name": "stderr",
     "text": [
      "/tmp/ipykernel_11671/1732342239.py:22: DeprecationWarning: find_element_by_css_selector is deprecated. Please use find_element(by=By.CSS_SELECTOR, value=css_selector) instead\n",
      "  game = driver.find_element_by_css_selector('#selectGameId')\n",
      "/tmp/ipykernel_11671/1732342239.py:25: DeprecationWarning: find_element_by_css_selector is deprecated. Please use find_element(by=By.CSS_SELECTOR, value=css_selector) instead\n",
      "  searchbutten = driver.find_element_by_css_selector('#btnSearch')\n"
     ]
    },
    {
     "output_type": "stream",
     "name": "stdout",
     "text": [
      "20R / 울산(A)\n"
     ]
    },
    {
     "output_type": "stream",
     "name": "stderr",
     "text": [
      "/tmp/ipykernel_11671/1732342239.py:22: DeprecationWarning: find_element_by_css_selector is deprecated. Please use find_element(by=By.CSS_SELECTOR, value=css_selector) instead\n",
      "  game = driver.find_element_by_css_selector('#selectGameId')\n",
      "/tmp/ipykernel_11671/1732342239.py:25: DeprecationWarning: find_element_by_css_selector is deprecated. Please use find_element(by=By.CSS_SELECTOR, value=css_selector) instead\n",
      "  searchbutten = driver.find_element_by_css_selector('#btnSearch')\n"
     ]
    },
    {
     "output_type": "stream",
     "name": "stdout",
     "text": [
      "21R / 성남(H)\n"
     ]
    },
    {
     "output_type": "stream",
     "name": "stderr",
     "text": [
      "/tmp/ipykernel_11671/1732342239.py:22: DeprecationWarning: find_element_by_css_selector is deprecated. Please use find_element(by=By.CSS_SELECTOR, value=css_selector) instead\n",
      "  game = driver.find_element_by_css_selector('#selectGameId')\n",
      "/tmp/ipykernel_11671/1732342239.py:25: DeprecationWarning: find_element_by_css_selector is deprecated. Please use find_element(by=By.CSS_SELECTOR, value=css_selector) instead\n",
      "  searchbutten = driver.find_element_by_css_selector('#btnSearch')\n"
     ]
    },
    {
     "output_type": "stream",
     "name": "stdout",
     "text": [
      "22R / 서울(A)\n"
     ]
    },
    {
     "output_type": "stream",
     "name": "stderr",
     "text": [
      "/tmp/ipykernel_11671/1732342239.py:22: DeprecationWarning: find_element_by_css_selector is deprecated. Please use find_element(by=By.CSS_SELECTOR, value=css_selector) instead\n",
      "  game = driver.find_element_by_css_selector('#selectGameId')\n",
      "/tmp/ipykernel_11671/1732342239.py:25: DeprecationWarning: find_element_by_css_selector is deprecated. Please use find_element(by=By.CSS_SELECTOR, value=css_selector) instead\n",
      "  searchbutten = driver.find_element_by_css_selector('#btnSearch')\n"
     ]
    },
    {
     "output_type": "stream",
     "name": "stdout",
     "text": [
      "23R / 울산(H)\n"
     ]
    },
    {
     "output_type": "stream",
     "name": "stderr",
     "text": [
      "/tmp/ipykernel_11671/1732342239.py:22: DeprecationWarning: find_element_by_css_selector is deprecated. Please use find_element(by=By.CSS_SELECTOR, value=css_selector) instead\n",
      "  game = driver.find_element_by_css_selector('#selectGameId')\n",
      "/tmp/ipykernel_11671/1732342239.py:25: DeprecationWarning: find_element_by_css_selector is deprecated. Please use find_element(by=By.CSS_SELECTOR, value=css_selector) instead\n",
      "  searchbutten = driver.find_element_by_css_selector('#btnSearch')\n"
     ]
    },
    {
     "output_type": "stream",
     "name": "stdout",
     "text": [
      "24R / 광주(A)\n"
     ]
    },
    {
     "output_type": "stream",
     "name": "stderr",
     "text": [
      "/tmp/ipykernel_11671/1732342239.py:22: DeprecationWarning: find_element_by_css_selector is deprecated. Please use find_element(by=By.CSS_SELECTOR, value=css_selector) instead\n",
      "  game = driver.find_element_by_css_selector('#selectGameId')\n",
      "/tmp/ipykernel_11671/1732342239.py:25: DeprecationWarning: find_element_by_css_selector is deprecated. Please use find_element(by=By.CSS_SELECTOR, value=css_selector) instead\n",
      "  searchbutten = driver.find_element_by_css_selector('#btnSearch')\n"
     ]
    },
    {
     "output_type": "stream",
     "name": "stdout",
     "text": [
      "25R / 상주(A)\n"
     ]
    },
    {
     "output_type": "stream",
     "name": "stderr",
     "text": [
      "/tmp/ipykernel_11671/1732342239.py:22: DeprecationWarning: find_element_by_css_selector is deprecated. Please use find_element(by=By.CSS_SELECTOR, value=css_selector) instead\n",
      "  game = driver.find_element_by_css_selector('#selectGameId')\n",
      "/tmp/ipykernel_11671/1732342239.py:25: DeprecationWarning: find_element_by_css_selector is deprecated. Please use find_element(by=By.CSS_SELECTOR, value=css_selector) instead\n",
      "  searchbutten = driver.find_element_by_css_selector('#btnSearch')\n"
     ]
    },
    {
     "output_type": "stream",
     "name": "stdout",
     "text": [
      "26R / 포항(H)\n"
     ]
    },
    {
     "output_type": "stream",
     "name": "stderr",
     "text": [
      "/tmp/ipykernel_11671/1732342239.py:22: DeprecationWarning: find_element_by_css_selector is deprecated. Please use find_element(by=By.CSS_SELECTOR, value=css_selector) instead\n",
      "  game = driver.find_element_by_css_selector('#selectGameId')\n",
      "/tmp/ipykernel_11671/1732342239.py:25: DeprecationWarning: find_element_by_css_selector is deprecated. Please use find_element(by=By.CSS_SELECTOR, value=css_selector) instead\n",
      "  searchbutten = driver.find_element_by_css_selector('#btnSearch')\n"
     ]
    },
    {
     "output_type": "stream",
     "name": "stdout",
     "text": [
      "27R / 전북(A)\n"
     ]
    },
    {
     "output_type": "stream",
     "name": "stderr",
     "text": [
      "/tmp/ipykernel_11671/1732342239.py:16: DeprecationWarning: find_element_by_css_selector is deprecated. Please use find_element(by=By.CSS_SELECTOR, value=css_selector) instead\n",
      "  teamsel = driver.find_element_by_css_selector('#selectTeamId')\n",
      "/tmp/ipykernel_11671/1732342239.py:19: DeprecationWarning: find_elements_by_css_selector is deprecated. Please use find_elements(by=By.CSS_SELECTOR, value=css_selector) instead\n",
      "  gamessel = driver.find_elements_by_css_selector('#selectGameId > option')\n",
      "/tmp/ipykernel_11671/1732342239.py:22: DeprecationWarning: find_element_by_css_selector is deprecated. Please use find_element(by=By.CSS_SELECTOR, value=css_selector) instead\n",
      "  game = driver.find_element_by_css_selector('#selectGameId')\n",
      "/tmp/ipykernel_11671/1732342239.py:25: DeprecationWarning: find_element_by_css_selector is deprecated. Please use find_element(by=By.CSS_SELECTOR, value=css_selector) instead\n",
      "  searchbutten = driver.find_element_by_css_selector('#btnSearch')\n"
     ]
    },
    {
     "output_type": "stream",
     "name": "stdout",
     "text": [
      "1R / 대구(H)\n"
     ]
    },
    {
     "output_type": "stream",
     "name": "stderr",
     "text": [
      "/tmp/ipykernel_11671/1732342239.py:22: DeprecationWarning: find_element_by_css_selector is deprecated. Please use find_element(by=By.CSS_SELECTOR, value=css_selector) instead\n",
      "  game = driver.find_element_by_css_selector('#selectGameId')\n",
      "/tmp/ipykernel_11671/1732342239.py:25: DeprecationWarning: find_element_by_css_selector is deprecated. Please use find_element(by=By.CSS_SELECTOR, value=css_selector) instead\n",
      "  searchbutten = driver.find_element_by_css_selector('#btnSearch')\n"
     ]
    },
    {
     "output_type": "stream",
     "name": "stdout",
     "text": [
      "2R / 성남(A)\n"
     ]
    },
    {
     "output_type": "stream",
     "name": "stderr",
     "text": [
      "/tmp/ipykernel_11671/1732342239.py:22: DeprecationWarning: find_element_by_css_selector is deprecated. Please use find_element(by=By.CSS_SELECTOR, value=css_selector) instead\n",
      "  game = driver.find_element_by_css_selector('#selectGameId')\n",
      "/tmp/ipykernel_11671/1732342239.py:25: DeprecationWarning: find_element_by_css_selector is deprecated. Please use find_element(by=By.CSS_SELECTOR, value=css_selector) instead\n",
      "  searchbutten = driver.find_element_by_css_selector('#btnSearch')\n"
     ]
    },
    {
     "output_type": "stream",
     "name": "stdout",
     "text": [
      "3R / 수원(A)\n"
     ]
    },
    {
     "output_type": "stream",
     "name": "stderr",
     "text": [
      "/tmp/ipykernel_11671/1732342239.py:22: DeprecationWarning: find_element_by_css_selector is deprecated. Please use find_element(by=By.CSS_SELECTOR, value=css_selector) instead\n",
      "  game = driver.find_element_by_css_selector('#selectGameId')\n",
      "/tmp/ipykernel_11671/1732342239.py:25: DeprecationWarning: find_element_by_css_selector is deprecated. Please use find_element(by=By.CSS_SELECTOR, value=css_selector) instead\n",
      "  searchbutten = driver.find_element_by_css_selector('#btnSearch')\n"
     ]
    },
    {
     "output_type": "stream",
     "name": "stdout",
     "text": [
      "4R / 포항(H)\n"
     ]
    },
    {
     "output_type": "stream",
     "name": "stderr",
     "text": [
      "/tmp/ipykernel_11671/1732342239.py:22: DeprecationWarning: find_element_by_css_selector is deprecated. Please use find_element(by=By.CSS_SELECTOR, value=css_selector) instead\n",
      "  game = driver.find_element_by_css_selector('#selectGameId')\n",
      "/tmp/ipykernel_11671/1732342239.py:25: DeprecationWarning: find_element_by_css_selector is deprecated. Please use find_element(by=By.CSS_SELECTOR, value=css_selector) instead\n",
      "  searchbutten = driver.find_element_by_css_selector('#btnSearch')\n"
     ]
    },
    {
     "output_type": "stream",
     "name": "stdout",
     "text": [
      "5R / 강원(H)\n"
     ]
    },
    {
     "output_type": "stream",
     "name": "stderr",
     "text": [
      "/tmp/ipykernel_11671/1732342239.py:22: DeprecationWarning: find_element_by_css_selector is deprecated. Please use find_element(by=By.CSS_SELECTOR, value=css_selector) instead\n",
      "  game = driver.find_element_by_css_selector('#selectGameId')\n",
      "/tmp/ipykernel_11671/1732342239.py:25: DeprecationWarning: find_element_by_css_selector is deprecated. Please use find_element(by=By.CSS_SELECTOR, value=css_selector) instead\n",
      "  searchbutten = driver.find_element_by_css_selector('#btnSearch')\n"
     ]
    },
    {
     "output_type": "stream",
     "name": "stdout",
     "text": [
      "6R / 전북(A)\n"
     ]
    },
    {
     "output_type": "stream",
     "name": "stderr",
     "text": [
      "/tmp/ipykernel_11671/1732342239.py:22: DeprecationWarning: find_element_by_css_selector is deprecated. Please use find_element(by=By.CSS_SELECTOR, value=css_selector) instead\n",
      "  game = driver.find_element_by_css_selector('#selectGameId')\n",
      "/tmp/ipykernel_11671/1732342239.py:25: DeprecationWarning: find_element_by_css_selector is deprecated. Please use find_element(by=By.CSS_SELECTOR, value=css_selector) instead\n",
      "  searchbutten = driver.find_element_by_css_selector('#btnSearch')\n"
     ]
    },
    {
     "output_type": "stream",
     "name": "stdout",
     "text": [
      "7R / 광주(A)\n"
     ]
    },
    {
     "output_type": "stream",
     "name": "stderr",
     "text": [
      "/tmp/ipykernel_11671/1732342239.py:22: DeprecationWarning: find_element_by_css_selector is deprecated. Please use find_element(by=By.CSS_SELECTOR, value=css_selector) instead\n",
      "  game = driver.find_element_by_css_selector('#selectGameId')\n",
      "/tmp/ipykernel_11671/1732342239.py:25: DeprecationWarning: find_element_by_css_selector is deprecated. Please use find_element(by=By.CSS_SELECTOR, value=css_selector) instead\n",
      "  searchbutten = driver.find_element_by_css_selector('#btnSearch')\n"
     ]
    },
    {
     "output_type": "stream",
     "name": "stdout",
     "text": [
      "8R / 부산(H)\n"
     ]
    },
    {
     "output_type": "stream",
     "name": "stderr",
     "text": [
      "/tmp/ipykernel_11671/1732342239.py:22: DeprecationWarning: find_element_by_css_selector is deprecated. Please use find_element(by=By.CSS_SELECTOR, value=css_selector) instead\n",
      "  game = driver.find_element_by_css_selector('#selectGameId')\n",
      "/tmp/ipykernel_11671/1732342239.py:25: DeprecationWarning: find_element_by_css_selector is deprecated. Please use find_element(by=By.CSS_SELECTOR, value=css_selector) instead\n",
      "  searchbutten = driver.find_element_by_css_selector('#btnSearch')\n"
     ]
    },
    {
     "output_type": "stream",
     "name": "stdout",
     "text": [
      "9R / 서울(A)\n"
     ]
    },
    {
     "output_type": "stream",
     "name": "stderr",
     "text": [
      "/tmp/ipykernel_11671/1732342239.py:22: DeprecationWarning: find_element_by_css_selector is deprecated. Please use find_element(by=By.CSS_SELECTOR, value=css_selector) instead\n",
      "  game = driver.find_element_by_css_selector('#selectGameId')\n",
      "/tmp/ipykernel_11671/1732342239.py:25: DeprecationWarning: find_element_by_css_selector is deprecated. Please use find_element(by=By.CSS_SELECTOR, value=css_selector) instead\n",
      "  searchbutten = driver.find_element_by_css_selector('#btnSearch')\n"
     ]
    },
    {
     "output_type": "stream",
     "name": "stdout",
     "text": [
      "10R / 울산(A)\n"
     ]
    },
    {
     "output_type": "stream",
     "name": "stderr",
     "text": [
      "/tmp/ipykernel_11671/1732342239.py:22: DeprecationWarning: find_element_by_css_selector is deprecated. Please use find_element(by=By.CSS_SELECTOR, value=css_selector) instead\n",
      "  game = driver.find_element_by_css_selector('#selectGameId')\n",
      "/tmp/ipykernel_11671/1732342239.py:25: DeprecationWarning: find_element_by_css_selector is deprecated. Please use find_element(by=By.CSS_SELECTOR, value=css_selector) instead\n",
      "  searchbutten = driver.find_element_by_css_selector('#btnSearch')\n"
     ]
    },
    {
     "output_type": "stream",
     "name": "stdout",
     "text": [
      "11R / 상주(H)\n"
     ]
    },
    {
     "output_type": "stream",
     "name": "stderr",
     "text": [
      "/tmp/ipykernel_11671/1732342239.py:22: DeprecationWarning: find_element_by_css_selector is deprecated. Please use find_element(by=By.CSS_SELECTOR, value=css_selector) instead\n",
      "  game = driver.find_element_by_css_selector('#selectGameId')\n",
      "/tmp/ipykernel_11671/1732342239.py:25: DeprecationWarning: find_element_by_css_selector is deprecated. Please use find_element(by=By.CSS_SELECTOR, value=css_selector) instead\n",
      "  searchbutten = driver.find_element_by_css_selector('#btnSearch')\n"
     ]
    },
    {
     "output_type": "stream",
     "name": "stdout",
     "text": [
      "12R / 전북(H)\n"
     ]
    },
    {
     "output_type": "stream",
     "name": "stderr",
     "text": [
      "/tmp/ipykernel_11671/1732342239.py:22: DeprecationWarning: find_element_by_css_selector is deprecated. Please use find_element(by=By.CSS_SELECTOR, value=css_selector) instead\n",
      "  game = driver.find_element_by_css_selector('#selectGameId')\n",
      "/tmp/ipykernel_11671/1732342239.py:25: DeprecationWarning: find_element_by_css_selector is deprecated. Please use find_element(by=By.CSS_SELECTOR, value=css_selector) instead\n",
      "  searchbutten = driver.find_element_by_css_selector('#btnSearch')\n"
     ]
    },
    {
     "output_type": "stream",
     "name": "stdout",
     "text": [
      "13R / 포항(A)\n"
     ]
    },
    {
     "output_type": "stream",
     "name": "stderr",
     "text": [
      "/tmp/ipykernel_11671/1732342239.py:22: DeprecationWarning: find_element_by_css_selector is deprecated. Please use find_element(by=By.CSS_SELECTOR, value=css_selector) instead\n",
      "  game = driver.find_element_by_css_selector('#selectGameId')\n",
      "/tmp/ipykernel_11671/1732342239.py:25: DeprecationWarning: find_element_by_css_selector is deprecated. Please use find_element(by=By.CSS_SELECTOR, value=css_selector) instead\n",
      "  searchbutten = driver.find_element_by_css_selector('#btnSearch')\n"
     ]
    },
    {
     "output_type": "stream",
     "name": "stdout",
     "text": [
      "14R / 광주(H)\n"
     ]
    },
    {
     "output_type": "stream",
     "name": "stderr",
     "text": [
      "/tmp/ipykernel_11671/1732342239.py:22: DeprecationWarning: find_element_by_css_selector is deprecated. Please use find_element(by=By.CSS_SELECTOR, value=css_selector) instead\n",
      "  game = driver.find_element_by_css_selector('#selectGameId')\n",
      "/tmp/ipykernel_11671/1732342239.py:25: DeprecationWarning: find_element_by_css_selector is deprecated. Please use find_element(by=By.CSS_SELECTOR, value=css_selector) instead\n",
      "  searchbutten = driver.find_element_by_css_selector('#btnSearch')\n"
     ]
    },
    {
     "output_type": "stream",
     "name": "stdout",
     "text": [
      "15R / 성남(H)\n"
     ]
    },
    {
     "output_type": "stream",
     "name": "stderr",
     "text": [
      "/tmp/ipykernel_11671/1732342239.py:22: DeprecationWarning: find_element_by_css_selector is deprecated. Please use find_element(by=By.CSS_SELECTOR, value=css_selector) instead\n",
      "  game = driver.find_element_by_css_selector('#selectGameId')\n",
      "/tmp/ipykernel_11671/1732342239.py:25: DeprecationWarning: find_element_by_css_selector is deprecated. Please use find_element(by=By.CSS_SELECTOR, value=css_selector) instead\n",
      "  searchbutten = driver.find_element_by_css_selector('#btnSearch')\n"
     ]
    },
    {
     "output_type": "stream",
     "name": "stdout",
     "text": [
      "16R / 대구(A)\n"
     ]
    },
    {
     "output_type": "stream",
     "name": "stderr",
     "text": [
      "/tmp/ipykernel_11671/1732342239.py:22: DeprecationWarning: find_element_by_css_selector is deprecated. Please use find_element(by=By.CSS_SELECTOR, value=css_selector) instead\n",
      "  game = driver.find_element_by_css_selector('#selectGameId')\n",
      "/tmp/ipykernel_11671/1732342239.py:25: DeprecationWarning: find_element_by_css_selector is deprecated. Please use find_element(by=By.CSS_SELECTOR, value=css_selector) instead\n",
      "  searchbutten = driver.find_element_by_css_selector('#btnSearch')\n"
     ]
    },
    {
     "output_type": "stream",
     "name": "stdout",
     "text": [
      "17R / 수원(H)\n"
     ]
    },
    {
     "output_type": "stream",
     "name": "stderr",
     "text": [
      "/tmp/ipykernel_11671/1732342239.py:22: DeprecationWarning: find_element_by_css_selector is deprecated. Please use find_element(by=By.CSS_SELECTOR, value=css_selector) instead\n",
      "  game = driver.find_element_by_css_selector('#selectGameId')\n",
      "/tmp/ipykernel_11671/1732342239.py:25: DeprecationWarning: find_element_by_css_selector is deprecated. Please use find_element(by=By.CSS_SELECTOR, value=css_selector) instead\n",
      "  searchbutten = driver.find_element_by_css_selector('#btnSearch')\n"
     ]
    },
    {
     "output_type": "stream",
     "name": "stdout",
     "text": [
      "18R / 상주(A)\n"
     ]
    },
    {
     "output_type": "stream",
     "name": "stderr",
     "text": [
      "/tmp/ipykernel_11671/1732342239.py:22: DeprecationWarning: find_element_by_css_selector is deprecated. Please use find_element(by=By.CSS_SELECTOR, value=css_selector) instead\n",
      "  game = driver.find_element_by_css_selector('#selectGameId')\n",
      "/tmp/ipykernel_11671/1732342239.py:25: DeprecationWarning: find_element_by_css_selector is deprecated. Please use find_element(by=By.CSS_SELECTOR, value=css_selector) instead\n",
      "  searchbutten = driver.find_element_by_css_selector('#btnSearch')\n"
     ]
    },
    {
     "output_type": "stream",
     "name": "stdout",
     "text": [
      "19R / 강원(A)\n"
     ]
    },
    {
     "output_type": "stream",
     "name": "stderr",
     "text": [
      "/tmp/ipykernel_11671/1732342239.py:22: DeprecationWarning: find_element_by_css_selector is deprecated. Please use find_element(by=By.CSS_SELECTOR, value=css_selector) instead\n",
      "  game = driver.find_element_by_css_selector('#selectGameId')\n",
      "/tmp/ipykernel_11671/1732342239.py:25: DeprecationWarning: find_element_by_css_selector is deprecated. Please use find_element(by=By.CSS_SELECTOR, value=css_selector) instead\n",
      "  searchbutten = driver.find_element_by_css_selector('#btnSearch')\n"
     ]
    },
    {
     "output_type": "stream",
     "name": "stdout",
     "text": [
      "20R / 부산(A)\n"
     ]
    },
    {
     "output_type": "stream",
     "name": "stderr",
     "text": [
      "/tmp/ipykernel_11671/1732342239.py:22: DeprecationWarning: find_element_by_css_selector is deprecated. Please use find_element(by=By.CSS_SELECTOR, value=css_selector) instead\n",
      "  game = driver.find_element_by_css_selector('#selectGameId')\n",
      "/tmp/ipykernel_11671/1732342239.py:25: DeprecationWarning: find_element_by_css_selector is deprecated. Please use find_element(by=By.CSS_SELECTOR, value=css_selector) instead\n",
      "  searchbutten = driver.find_element_by_css_selector('#btnSearch')\n"
     ]
    },
    {
     "output_type": "stream",
     "name": "stdout",
     "text": [
      "21R / 서울(H)\n"
     ]
    },
    {
     "output_type": "stream",
     "name": "stderr",
     "text": [
      "/tmp/ipykernel_11671/1732342239.py:22: DeprecationWarning: find_element_by_css_selector is deprecated. Please use find_element(by=By.CSS_SELECTOR, value=css_selector) instead\n",
      "  game = driver.find_element_by_css_selector('#selectGameId')\n",
      "/tmp/ipykernel_11671/1732342239.py:25: DeprecationWarning: find_element_by_css_selector is deprecated. Please use find_element(by=By.CSS_SELECTOR, value=css_selector) instead\n",
      "  searchbutten = driver.find_element_by_css_selector('#btnSearch')\n"
     ]
    },
    {
     "output_type": "stream",
     "name": "stdout",
     "text": [
      "22R / 울산(H)\n"
     ]
    },
    {
     "output_type": "stream",
     "name": "stderr",
     "text": [
      "/tmp/ipykernel_11671/1732342239.py:22: DeprecationWarning: find_element_by_css_selector is deprecated. Please use find_element(by=By.CSS_SELECTOR, value=css_selector) instead\n",
      "  game = driver.find_element_by_css_selector('#selectGameId')\n",
      "/tmp/ipykernel_11671/1732342239.py:25: DeprecationWarning: find_element_by_css_selector is deprecated. Please use find_element(by=By.CSS_SELECTOR, value=css_selector) instead\n",
      "  searchbutten = driver.find_element_by_css_selector('#btnSearch')\n"
     ]
    },
    {
     "output_type": "stream",
     "name": "stdout",
     "text": [
      "23R / 성남(A)\n"
     ]
    },
    {
     "output_type": "stream",
     "name": "stderr",
     "text": [
      "/tmp/ipykernel_11671/1732342239.py:22: DeprecationWarning: find_element_by_css_selector is deprecated. Please use find_element(by=By.CSS_SELECTOR, value=css_selector) instead\n",
      "  game = driver.find_element_by_css_selector('#selectGameId')\n",
      "/tmp/ipykernel_11671/1732342239.py:25: DeprecationWarning: find_element_by_css_selector is deprecated. Please use find_element(by=By.CSS_SELECTOR, value=css_selector) instead\n",
      "  searchbutten = driver.find_element_by_css_selector('#btnSearch')\n"
     ]
    },
    {
     "output_type": "stream",
     "name": "stdout",
     "text": [
      "24R / 수원(H)\n"
     ]
    },
    {
     "output_type": "stream",
     "name": "stderr",
     "text": [
      "/tmp/ipykernel_11671/1732342239.py:22: DeprecationWarning: find_element_by_css_selector is deprecated. Please use find_element(by=By.CSS_SELECTOR, value=css_selector) instead\n",
      "  game = driver.find_element_by_css_selector('#selectGameId')\n",
      "/tmp/ipykernel_11671/1732342239.py:25: DeprecationWarning: find_element_by_css_selector is deprecated. Please use find_element(by=By.CSS_SELECTOR, value=css_selector) instead\n",
      "  searchbutten = driver.find_element_by_css_selector('#btnSearch')\n"
     ]
    },
    {
     "output_type": "stream",
     "name": "stdout",
     "text": [
      "25R / 강원(A)\n"
     ]
    },
    {
     "output_type": "stream",
     "name": "stderr",
     "text": [
      "/tmp/ipykernel_11671/1732342239.py:22: DeprecationWarning: find_element_by_css_selector is deprecated. Please use find_element(by=By.CSS_SELECTOR, value=css_selector) instead\n",
      "  game = driver.find_element_by_css_selector('#selectGameId')\n",
      "/tmp/ipykernel_11671/1732342239.py:25: DeprecationWarning: find_element_by_css_selector is deprecated. Please use find_element(by=By.CSS_SELECTOR, value=css_selector) instead\n",
      "  searchbutten = driver.find_element_by_css_selector('#btnSearch')\n"
     ]
    },
    {
     "output_type": "stream",
     "name": "stdout",
     "text": [
      "26R / 부산(H)\n"
     ]
    },
    {
     "output_type": "stream",
     "name": "stderr",
     "text": [
      "/tmp/ipykernel_11671/1732342239.py:22: DeprecationWarning: find_element_by_css_selector is deprecated. Please use find_element(by=By.CSS_SELECTOR, value=css_selector) instead\n",
      "  game = driver.find_element_by_css_selector('#selectGameId')\n",
      "/tmp/ipykernel_11671/1732342239.py:25: DeprecationWarning: find_element_by_css_selector is deprecated. Please use find_element(by=By.CSS_SELECTOR, value=css_selector) instead\n",
      "  searchbutten = driver.find_element_by_css_selector('#btnSearch')\n"
     ]
    },
    {
     "output_type": "stream",
     "name": "stdout",
     "text": [
      "27R / 서울(A)\n"
     ]
    },
    {
     "output_type": "stream",
     "name": "stderr",
     "text": [
      "/tmp/ipykernel_11671/1732342239.py:16: DeprecationWarning: find_element_by_css_selector is deprecated. Please use find_element(by=By.CSS_SELECTOR, value=css_selector) instead\n",
      "  teamsel = driver.find_element_by_css_selector('#selectTeamId')\n",
      "/tmp/ipykernel_11671/1732342239.py:19: DeprecationWarning: find_elements_by_css_selector is deprecated. Please use find_elements(by=By.CSS_SELECTOR, value=css_selector) instead\n",
      "  gamessel = driver.find_elements_by_css_selector('#selectGameId > option')\n",
      "/tmp/ipykernel_11671/1732342239.py:22: DeprecationWarning: find_element_by_css_selector is deprecated. Please use find_element(by=By.CSS_SELECTOR, value=css_selector) instead\n",
      "  game = driver.find_element_by_css_selector('#selectGameId')\n",
      "/tmp/ipykernel_11671/1732342239.py:25: DeprecationWarning: find_element_by_css_selector is deprecated. Please use find_element(by=By.CSS_SELECTOR, value=css_selector) instead\n",
      "  searchbutten = driver.find_element_by_css_selector('#btnSearch')\n"
     ]
    },
    {
     "output_type": "stream",
     "name": "stdout",
     "text": [
      "1R / 서울(H)\n"
     ]
    },
    {
     "output_type": "stream",
     "name": "stderr",
     "text": [
      "/tmp/ipykernel_11671/1732342239.py:22: DeprecationWarning: find_element_by_css_selector is deprecated. Please use find_element(by=By.CSS_SELECTOR, value=css_selector) instead\n",
      "  game = driver.find_element_by_css_selector('#selectGameId')\n",
      "/tmp/ipykernel_11671/1732342239.py:25: DeprecationWarning: find_element_by_css_selector is deprecated. Please use find_element(by=By.CSS_SELECTOR, value=css_selector) instead\n",
      "  searchbutten = driver.find_element_by_css_selector('#btnSearch')\n"
     ]
    },
    {
     "output_type": "stream",
     "name": "stdout",
     "text": [
      "2R / 상주(A)\n"
     ]
    },
    {
     "output_type": "stream",
     "name": "stderr",
     "text": [
      "/tmp/ipykernel_11671/1732342239.py:22: DeprecationWarning: find_element_by_css_selector is deprecated. Please use find_element(by=By.CSS_SELECTOR, value=css_selector) instead\n",
      "  game = driver.find_element_by_css_selector('#selectGameId')\n",
      "/tmp/ipykernel_11671/1732342239.py:25: DeprecationWarning: find_element_by_css_selector is deprecated. Please use find_element(by=By.CSS_SELECTOR, value=css_selector) instead\n",
      "  searchbutten = driver.find_element_by_css_selector('#btnSearch')\n"
     ]
    },
    {
     "output_type": "stream",
     "name": "stdout",
     "text": [
      "3R / 성남(H)\n"
     ]
    },
    {
     "output_type": "stream",
     "name": "stderr",
     "text": [
      "/tmp/ipykernel_11671/1732342239.py:22: DeprecationWarning: find_element_by_css_selector is deprecated. Please use find_element(by=By.CSS_SELECTOR, value=css_selector) instead\n",
      "  game = driver.find_element_by_css_selector('#selectGameId')\n",
      "/tmp/ipykernel_11671/1732342239.py:25: DeprecationWarning: find_element_by_css_selector is deprecated. Please use find_element(by=By.CSS_SELECTOR, value=css_selector) instead\n",
      "  searchbutten = driver.find_element_by_css_selector('#btnSearch')\n"
     ]
    },
    {
     "output_type": "stream",
     "name": "stdout",
     "text": [
      "4R / 전북(H)\n"
     ]
    },
    {
     "output_type": "stream",
     "name": "stderr",
     "text": [
      "/tmp/ipykernel_11671/1732342239.py:22: DeprecationWarning: find_element_by_css_selector is deprecated. Please use find_element(by=By.CSS_SELECTOR, value=css_selector) instead\n",
      "  game = driver.find_element_by_css_selector('#selectGameId')\n",
      "/tmp/ipykernel_11671/1732342239.py:25: DeprecationWarning: find_element_by_css_selector is deprecated. Please use find_element(by=By.CSS_SELECTOR, value=css_selector) instead\n",
      "  searchbutten = driver.find_element_by_css_selector('#btnSearch')\n"
     ]
    },
    {
     "output_type": "stream",
     "name": "stdout",
     "text": [
      "5R / 인천(A)\n"
     ]
    },
    {
     "output_type": "stream",
     "name": "stderr",
     "text": [
      "/tmp/ipykernel_11671/1732342239.py:22: DeprecationWarning: find_element_by_css_selector is deprecated. Please use find_element(by=By.CSS_SELECTOR, value=css_selector) instead\n",
      "  game = driver.find_element_by_css_selector('#selectGameId')\n",
      "/tmp/ipykernel_11671/1732342239.py:25: DeprecationWarning: find_element_by_css_selector is deprecated. Please use find_element(by=By.CSS_SELECTOR, value=css_selector) instead\n",
      "  searchbutten = driver.find_element_by_css_selector('#btnSearch')\n"
     ]
    },
    {
     "output_type": "stream",
     "name": "stdout",
     "text": [
      "6R / 수원(A)\n"
     ]
    },
    {
     "output_type": "stream",
     "name": "stderr",
     "text": [
      "/tmp/ipykernel_11671/1732342239.py:22: DeprecationWarning: find_element_by_css_selector is deprecated. Please use find_element(by=By.CSS_SELECTOR, value=css_selector) instead\n",
      "  game = driver.find_element_by_css_selector('#selectGameId')\n",
      "/tmp/ipykernel_11671/1732342239.py:25: DeprecationWarning: find_element_by_css_selector is deprecated. Please use find_element(by=By.CSS_SELECTOR, value=css_selector) instead\n",
      "  searchbutten = driver.find_element_by_css_selector('#btnSearch')\n"
     ]
    },
    {
     "output_type": "stream",
     "name": "stdout",
     "text": [
      "7R / 울산(H)\n"
     ]
    },
    {
     "output_type": "stream",
     "name": "stderr",
     "text": [
      "/tmp/ipykernel_11671/1732342239.py:22: DeprecationWarning: find_element_by_css_selector is deprecated. Please use find_element(by=By.CSS_SELECTOR, value=css_selector) instead\n",
      "  game = driver.find_element_by_css_selector('#selectGameId')\n",
      "/tmp/ipykernel_11671/1732342239.py:25: DeprecationWarning: find_element_by_css_selector is deprecated. Please use find_element(by=By.CSS_SELECTOR, value=css_selector) instead\n",
      "  searchbutten = driver.find_element_by_css_selector('#btnSearch')\n"
     ]
    },
    {
     "output_type": "stream",
     "name": "stdout",
     "text": [
      "8R / 포항(A)\n"
     ]
    },
    {
     "output_type": "stream",
     "name": "stderr",
     "text": [
      "/tmp/ipykernel_11671/1732342239.py:22: DeprecationWarning: find_element_by_css_selector is deprecated. Please use find_element(by=By.CSS_SELECTOR, value=css_selector) instead\n",
      "  game = driver.find_element_by_css_selector('#selectGameId')\n",
      "/tmp/ipykernel_11671/1732342239.py:25: DeprecationWarning: find_element_by_css_selector is deprecated. Please use find_element(by=By.CSS_SELECTOR, value=css_selector) instead\n",
      "  searchbutten = driver.find_element_by_css_selector('#btnSearch')\n"
     ]
    },
    {
     "output_type": "stream",
     "name": "stdout",
     "text": [
      "9R / 대구(A)\n"
     ]
    },
    {
     "output_type": "stream",
     "name": "stderr",
     "text": [
      "/tmp/ipykernel_11671/1732342239.py:22: DeprecationWarning: find_element_by_css_selector is deprecated. Please use find_element(by=By.CSS_SELECTOR, value=css_selector) instead\n",
      "  game = driver.find_element_by_css_selector('#selectGameId')\n",
      "/tmp/ipykernel_11671/1732342239.py:25: DeprecationWarning: find_element_by_css_selector is deprecated. Please use find_element(by=By.CSS_SELECTOR, value=css_selector) instead\n",
      "  searchbutten = driver.find_element_by_css_selector('#btnSearch')\n"
     ]
    },
    {
     "output_type": "stream",
     "name": "stdout",
     "text": [
      "10R / 부산(H)\n"
     ]
    },
    {
     "output_type": "stream",
     "name": "stderr",
     "text": [
      "/tmp/ipykernel_11671/1732342239.py:22: DeprecationWarning: find_element_by_css_selector is deprecated. Please use find_element(by=By.CSS_SELECTOR, value=css_selector) instead\n",
      "  game = driver.find_element_by_css_selector('#selectGameId')\n",
      "/tmp/ipykernel_11671/1732342239.py:25: DeprecationWarning: find_element_by_css_selector is deprecated. Please use find_element(by=By.CSS_SELECTOR, value=css_selector) instead\n",
      "  searchbutten = driver.find_element_by_css_selector('#btnSearch')\n"
     ]
    },
    {
     "output_type": "stream",
     "name": "stdout",
     "text": [
      "11R / 광주(H)\n"
     ]
    },
    {
     "output_type": "stream",
     "name": "stderr",
     "text": [
      "/tmp/ipykernel_11671/1732342239.py:22: DeprecationWarning: find_element_by_css_selector is deprecated. Please use find_element(by=By.CSS_SELECTOR, value=css_selector) instead\n",
      "  game = driver.find_element_by_css_selector('#selectGameId')\n",
      "/tmp/ipykernel_11671/1732342239.py:25: DeprecationWarning: find_element_by_css_selector is deprecated. Please use find_element(by=By.CSS_SELECTOR, value=css_selector) instead\n",
      "  searchbutten = driver.find_element_by_css_selector('#btnSearch')\n"
     ]
    },
    {
     "output_type": "stream",
     "name": "stdout",
     "text": [
      "12R / 울산(A)\n"
     ]
    },
    {
     "output_type": "stream",
     "name": "stderr",
     "text": [
      "/tmp/ipykernel_11671/1732342239.py:22: DeprecationWarning: find_element_by_css_selector is deprecated. Please use find_element(by=By.CSS_SELECTOR, value=css_selector) instead\n",
      "  game = driver.find_element_by_css_selector('#selectGameId')\n",
      "/tmp/ipykernel_11671/1732342239.py:25: DeprecationWarning: find_element_by_css_selector is deprecated. Please use find_element(by=By.CSS_SELECTOR, value=css_selector) instead\n",
      "  searchbutten = driver.find_element_by_css_selector('#btnSearch')\n"
     ]
    },
    {
     "output_type": "stream",
     "name": "stdout",
     "text": [
      "13R / 성남(A)\n"
     ]
    },
    {
     "output_type": "stream",
     "name": "stderr",
     "text": [
      "/tmp/ipykernel_11671/1732342239.py:22: DeprecationWarning: find_element_by_css_selector is deprecated. Please use find_element(by=By.CSS_SELECTOR, value=css_selector) instead\n",
      "  game = driver.find_element_by_css_selector('#selectGameId')\n",
      "/tmp/ipykernel_11671/1732342239.py:25: DeprecationWarning: find_element_by_css_selector is deprecated. Please use find_element(by=By.CSS_SELECTOR, value=css_selector) instead\n",
      "  searchbutten = driver.find_element_by_css_selector('#btnSearch')\n"
     ]
    },
    {
     "output_type": "stream",
     "name": "stdout",
     "text": [
      "14R / 상주(H)\n"
     ]
    },
    {
     "output_type": "stream",
     "name": "stderr",
     "text": [
      "/tmp/ipykernel_11671/1732342239.py:22: DeprecationWarning: find_element_by_css_selector is deprecated. Please use find_element(by=By.CSS_SELECTOR, value=css_selector) instead\n",
      "  game = driver.find_element_by_css_selector('#selectGameId')\n",
      "/tmp/ipykernel_11671/1732342239.py:25: DeprecationWarning: find_element_by_css_selector is deprecated. Please use find_element(by=By.CSS_SELECTOR, value=css_selector) instead\n",
      "  searchbutten = driver.find_element_by_css_selector('#btnSearch')\n"
     ]
    },
    {
     "output_type": "stream",
     "name": "stdout",
     "text": [
      "15R / 서울(A)\n"
     ]
    },
    {
     "output_type": "stream",
     "name": "stderr",
     "text": [
      "/tmp/ipykernel_11671/1732342239.py:22: DeprecationWarning: find_element_by_css_selector is deprecated. Please use find_element(by=By.CSS_SELECTOR, value=css_selector) instead\n",
      "  game = driver.find_element_by_css_selector('#selectGameId')\n",
      "/tmp/ipykernel_11671/1732342239.py:25: DeprecationWarning: find_element_by_css_selector is deprecated. Please use find_element(by=By.CSS_SELECTOR, value=css_selector) instead\n",
      "  searchbutten = driver.find_element_by_css_selector('#btnSearch')\n"
     ]
    },
    {
     "output_type": "stream",
     "name": "stdout",
     "text": [
      "16R / 광주(A)\n"
     ]
    },
    {
     "output_type": "stream",
     "name": "stderr",
     "text": [
      "/tmp/ipykernel_11671/1732342239.py:22: DeprecationWarning: find_element_by_css_selector is deprecated. Please use find_element(by=By.CSS_SELECTOR, value=css_selector) instead\n",
      "  game = driver.find_element_by_css_selector('#selectGameId')\n",
      "/tmp/ipykernel_11671/1732342239.py:25: DeprecationWarning: find_element_by_css_selector is deprecated. Please use find_element(by=By.CSS_SELECTOR, value=css_selector) instead\n",
      "  searchbutten = driver.find_element_by_css_selector('#btnSearch')\n"
     ]
    },
    {
     "output_type": "stream",
     "name": "stdout",
     "text": [
      "17R / 대구(H)\n"
     ]
    },
    {
     "output_type": "stream",
     "name": "stderr",
     "text": [
      "/tmp/ipykernel_11671/1732342239.py:22: DeprecationWarning: find_element_by_css_selector is deprecated. Please use find_element(by=By.CSS_SELECTOR, value=css_selector) instead\n",
      "  game = driver.find_element_by_css_selector('#selectGameId')\n",
      "/tmp/ipykernel_11671/1732342239.py:25: DeprecationWarning: find_element_by_css_selector is deprecated. Please use find_element(by=By.CSS_SELECTOR, value=css_selector) instead\n",
      "  searchbutten = driver.find_element_by_css_selector('#btnSearch')\n"
     ]
    },
    {
     "output_type": "stream",
     "name": "stdout",
     "text": [
      "18R / 전북(A)\n"
     ]
    },
    {
     "output_type": "stream",
     "name": "stderr",
     "text": [
      "/tmp/ipykernel_11671/1732342239.py:22: DeprecationWarning: find_element_by_css_selector is deprecated. Please use find_element(by=By.CSS_SELECTOR, value=css_selector) instead\n",
      "  game = driver.find_element_by_css_selector('#selectGameId')\n",
      "/tmp/ipykernel_11671/1732342239.py:25: DeprecationWarning: find_element_by_css_selector is deprecated. Please use find_element(by=By.CSS_SELECTOR, value=css_selector) instead\n",
      "  searchbutten = driver.find_element_by_css_selector('#btnSearch')\n"
     ]
    },
    {
     "output_type": "stream",
     "name": "stdout",
     "text": [
      "19R / 인천(H)\n"
     ]
    },
    {
     "output_type": "stream",
     "name": "stderr",
     "text": [
      "/tmp/ipykernel_11671/1732342239.py:22: DeprecationWarning: find_element_by_css_selector is deprecated. Please use find_element(by=By.CSS_SELECTOR, value=css_selector) instead\n",
      "  game = driver.find_element_by_css_selector('#selectGameId')\n",
      "/tmp/ipykernel_11671/1732342239.py:25: DeprecationWarning: find_element_by_css_selector is deprecated. Please use find_element(by=By.CSS_SELECTOR, value=css_selector) instead\n",
      "  searchbutten = driver.find_element_by_css_selector('#btnSearch')\n"
     ]
    },
    {
     "output_type": "stream",
     "name": "stdout",
     "text": [
      "20R / 포항(H)\n"
     ]
    },
    {
     "output_type": "stream",
     "name": "stderr",
     "text": [
      "/tmp/ipykernel_11671/1732342239.py:22: DeprecationWarning: find_element_by_css_selector is deprecated. Please use find_element(by=By.CSS_SELECTOR, value=css_selector) instead\n",
      "  game = driver.find_element_by_css_selector('#selectGameId')\n",
      "/tmp/ipykernel_11671/1732342239.py:25: DeprecationWarning: find_element_by_css_selector is deprecated. Please use find_element(by=By.CSS_SELECTOR, value=css_selector) instead\n",
      "  searchbutten = driver.find_element_by_css_selector('#btnSearch')\n"
     ]
    },
    {
     "output_type": "stream",
     "name": "stdout",
     "text": [
      "21R / 부산(A)\n"
     ]
    },
    {
     "output_type": "stream",
     "name": "stderr",
     "text": [
      "/tmp/ipykernel_11671/1732342239.py:22: DeprecationWarning: find_element_by_css_selector is deprecated. Please use find_element(by=By.CSS_SELECTOR, value=css_selector) instead\n",
      "  game = driver.find_element_by_css_selector('#selectGameId')\n",
      "/tmp/ipykernel_11671/1732342239.py:25: DeprecationWarning: find_element_by_css_selector is deprecated. Please use find_element(by=By.CSS_SELECTOR, value=css_selector) instead\n",
      "  searchbutten = driver.find_element_by_css_selector('#btnSearch')\n"
     ]
    },
    {
     "output_type": "stream",
     "name": "stdout",
     "text": [
      "22R / 수원(H)\n"
     ]
    },
    {
     "output_type": "stream",
     "name": "stderr",
     "text": [
      "/tmp/ipykernel_11671/1732342239.py:22: DeprecationWarning: find_element_by_css_selector is deprecated. Please use find_element(by=By.CSS_SELECTOR, value=css_selector) instead\n",
      "  game = driver.find_element_by_css_selector('#selectGameId')\n",
      "/tmp/ipykernel_11671/1732342239.py:25: DeprecationWarning: find_element_by_css_selector is deprecated. Please use find_element(by=By.CSS_SELECTOR, value=css_selector) instead\n",
      "  searchbutten = driver.find_element_by_css_selector('#btnSearch')\n"
     ]
    },
    {
     "output_type": "stream",
     "name": "stdout",
     "text": [
      "23R / 부산(A)\n"
     ]
    },
    {
     "output_type": "stream",
     "name": "stderr",
     "text": [
      "/tmp/ipykernel_11671/1732342239.py:22: DeprecationWarning: find_element_by_css_selector is deprecated. Please use find_element(by=By.CSS_SELECTOR, value=css_selector) instead\n",
      "  game = driver.find_element_by_css_selector('#selectGameId')\n",
      "/tmp/ipykernel_11671/1732342239.py:25: DeprecationWarning: find_element_by_css_selector is deprecated. Please use find_element(by=By.CSS_SELECTOR, value=css_selector) instead\n",
      "  searchbutten = driver.find_element_by_css_selector('#btnSearch')\n"
     ]
    },
    {
     "output_type": "stream",
     "name": "stdout",
     "text": [
      "24R / 성남(H)\n"
     ]
    },
    {
     "output_type": "stream",
     "name": "stderr",
     "text": [
      "/tmp/ipykernel_11671/1732342239.py:22: DeprecationWarning: find_element_by_css_selector is deprecated. Please use find_element(by=By.CSS_SELECTOR, value=css_selector) instead\n",
      "  game = driver.find_element_by_css_selector('#selectGameId')\n",
      "/tmp/ipykernel_11671/1732342239.py:25: DeprecationWarning: find_element_by_css_selector is deprecated. Please use find_element(by=By.CSS_SELECTOR, value=css_selector) instead\n",
      "  searchbutten = driver.find_element_by_css_selector('#btnSearch')\n"
     ]
    },
    {
     "output_type": "stream",
     "name": "stdout",
     "text": [
      "25R / 인천(H)\n"
     ]
    },
    {
     "output_type": "stream",
     "name": "stderr",
     "text": [
      "/tmp/ipykernel_11671/1732342239.py:22: DeprecationWarning: find_element_by_css_selector is deprecated. Please use find_element(by=By.CSS_SELECTOR, value=css_selector) instead\n",
      "  game = driver.find_element_by_css_selector('#selectGameId')\n",
      "/tmp/ipykernel_11671/1732342239.py:25: DeprecationWarning: find_element_by_css_selector is deprecated. Please use find_element(by=By.CSS_SELECTOR, value=css_selector) instead\n",
      "  searchbutten = driver.find_element_by_css_selector('#btnSearch')\n"
     ]
    },
    {
     "output_type": "stream",
     "name": "stdout",
     "text": [
      "26R / 서울(A)\n"
     ]
    },
    {
     "output_type": "stream",
     "name": "stderr",
     "text": [
      "/tmp/ipykernel_11671/1732342239.py:22: DeprecationWarning: find_element_by_css_selector is deprecated. Please use find_element(by=By.CSS_SELECTOR, value=css_selector) instead\n",
      "  game = driver.find_element_by_css_selector('#selectGameId')\n",
      "/tmp/ipykernel_11671/1732342239.py:25: DeprecationWarning: find_element_by_css_selector is deprecated. Please use find_element(by=By.CSS_SELECTOR, value=css_selector) instead\n",
      "  searchbutten = driver.find_element_by_css_selector('#btnSearch')\n"
     ]
    },
    {
     "output_type": "stream",
     "name": "stdout",
     "text": [
      "27R / 수원(H)\n"
     ]
    },
    {
     "output_type": "stream",
     "name": "stderr",
     "text": [
      "/tmp/ipykernel_11671/1732342239.py:16: DeprecationWarning: find_element_by_css_selector is deprecated. Please use find_element(by=By.CSS_SELECTOR, value=css_selector) instead\n",
      "  teamsel = driver.find_element_by_css_selector('#selectTeamId')\n",
      "/tmp/ipykernel_11671/1732342239.py:19: DeprecationWarning: find_elements_by_css_selector is deprecated. Please use find_elements(by=By.CSS_SELECTOR, value=css_selector) instead\n",
      "  gamessel = driver.find_elements_by_css_selector('#selectGameId > option')\n",
      "/tmp/ipykernel_11671/1732342239.py:22: DeprecationWarning: find_element_by_css_selector is deprecated. Please use find_element(by=By.CSS_SELECTOR, value=css_selector) instead\n",
      "  game = driver.find_element_by_css_selector('#selectGameId')\n",
      "/tmp/ipykernel_11671/1732342239.py:25: DeprecationWarning: find_element_by_css_selector is deprecated. Please use find_element(by=By.CSS_SELECTOR, value=css_selector) instead\n",
      "  searchbutten = driver.find_element_by_css_selector('#btnSearch')\n"
     ]
    },
    {
     "output_type": "stream",
     "name": "stdout",
     "text": [
      "1R / 성남(H)\n"
     ]
    },
    {
     "output_type": "stream",
     "name": "stderr",
     "text": [
      "/tmp/ipykernel_11671/1732342239.py:22: DeprecationWarning: find_element_by_css_selector is deprecated. Please use find_element(by=By.CSS_SELECTOR, value=css_selector) instead\n",
      "  game = driver.find_element_by_css_selector('#selectGameId')\n",
      "/tmp/ipykernel_11671/1732342239.py:25: DeprecationWarning: find_element_by_css_selector is deprecated. Please use find_element(by=By.CSS_SELECTOR, value=css_selector) instead\n",
      "  searchbutten = driver.find_element_by_css_selector('#btnSearch')\n"
     ]
    },
    {
     "output_type": "stream",
     "name": "stdout",
     "text": [
      "2R / 서울(A)\n"
     ]
    },
    {
     "output_type": "stream",
     "name": "stderr",
     "text": [
      "/tmp/ipykernel_11671/1732342239.py:22: DeprecationWarning: find_element_by_css_selector is deprecated. Please use find_element(by=By.CSS_SELECTOR, value=css_selector) instead\n",
      "  game = driver.find_element_by_css_selector('#selectGameId')\n",
      "/tmp/ipykernel_11671/1732342239.py:25: DeprecationWarning: find_element_by_css_selector is deprecated. Please use find_element(by=By.CSS_SELECTOR, value=css_selector) instead\n",
      "  searchbutten = driver.find_element_by_css_selector('#btnSearch')\n"
     ]
    },
    {
     "output_type": "stream",
     "name": "stdout",
     "text": [
      "3R / 상주(A)\n"
     ]
    },
    {
     "output_type": "stream",
     "name": "stderr",
     "text": [
      "/tmp/ipykernel_11671/1732342239.py:22: DeprecationWarning: find_element_by_css_selector is deprecated. Please use find_element(by=By.CSS_SELECTOR, value=css_selector) instead\n",
      "  game = driver.find_element_by_css_selector('#selectGameId')\n",
      "/tmp/ipykernel_11671/1732342239.py:25: DeprecationWarning: find_element_by_css_selector is deprecated. Please use find_element(by=By.CSS_SELECTOR, value=css_selector) instead\n",
      "  searchbutten = driver.find_element_by_css_selector('#btnSearch')\n"
     ]
    },
    {
     "output_type": "stream",
     "name": "stdout",
     "text": [
      "4R / 울산(H)\n"
     ]
    },
    {
     "output_type": "stream",
     "name": "stderr",
     "text": [
      "/tmp/ipykernel_11671/1732342239.py:22: DeprecationWarning: find_element_by_css_selector is deprecated. Please use find_element(by=By.CSS_SELECTOR, value=css_selector) instead\n",
      "  game = driver.find_element_by_css_selector('#selectGameId')\n",
      "/tmp/ipykernel_11671/1732342239.py:25: DeprecationWarning: find_element_by_css_selector is deprecated. Please use find_element(by=By.CSS_SELECTOR, value=css_selector) instead\n",
      "  searchbutten = driver.find_element_by_css_selector('#btnSearch')\n"
     ]
    },
    {
     "output_type": "stream",
     "name": "stdout",
     "text": [
      "5R / 수원(A)\n"
     ]
    },
    {
     "output_type": "stream",
     "name": "stderr",
     "text": [
      "/tmp/ipykernel_11671/1732342239.py:22: DeprecationWarning: find_element_by_css_selector is deprecated. Please use find_element(by=By.CSS_SELECTOR, value=css_selector) instead\n",
      "  game = driver.find_element_by_css_selector('#selectGameId')\n",
      "/tmp/ipykernel_11671/1732342239.py:25: DeprecationWarning: find_element_by_css_selector is deprecated. Please use find_element(by=By.CSS_SELECTOR, value=css_selector) instead\n",
      "  searchbutten = driver.find_element_by_css_selector('#btnSearch')\n"
     ]
    },
    {
     "output_type": "stream",
     "name": "stdout",
     "text": [
      "6R / 부산(H)\n"
     ]
    },
    {
     "output_type": "stream",
     "name": "stderr",
     "text": [
      "/tmp/ipykernel_11671/1732342239.py:22: DeprecationWarning: find_element_by_css_selector is deprecated. Please use find_element(by=By.CSS_SELECTOR, value=css_selector) instead\n",
      "  game = driver.find_element_by_css_selector('#selectGameId')\n",
      "/tmp/ipykernel_11671/1732342239.py:25: DeprecationWarning: find_element_by_css_selector is deprecated. Please use find_element(by=By.CSS_SELECTOR, value=css_selector) instead\n",
      "  searchbutten = driver.find_element_by_css_selector('#btnSearch')\n"
     ]
    },
    {
     "output_type": "stream",
     "name": "stdout",
     "text": [
      "7R / 인천(H)\n"
     ]
    },
    {
     "output_type": "stream",
     "name": "stderr",
     "text": [
      "/tmp/ipykernel_11671/1732342239.py:22: DeprecationWarning: find_element_by_css_selector is deprecated. Please use find_element(by=By.CSS_SELECTOR, value=css_selector) instead\n",
      "  game = driver.find_element_by_css_selector('#selectGameId')\n",
      "/tmp/ipykernel_11671/1732342239.py:25: DeprecationWarning: find_element_by_css_selector is deprecated. Please use find_element(by=By.CSS_SELECTOR, value=css_selector) instead\n",
      "  searchbutten = driver.find_element_by_css_selector('#btnSearch')\n"
     ]
    },
    {
     "output_type": "stream",
     "name": "stdout",
     "text": [
      "8R / 전북(A)\n"
     ]
    },
    {
     "output_type": "stream",
     "name": "stderr",
     "text": [
      "/tmp/ipykernel_11671/1732342239.py:22: DeprecationWarning: find_element_by_css_selector is deprecated. Please use find_element(by=By.CSS_SELECTOR, value=css_selector) instead\n",
      "  game = driver.find_element_by_css_selector('#selectGameId')\n",
      "/tmp/ipykernel_11671/1732342239.py:25: DeprecationWarning: find_element_by_css_selector is deprecated. Please use find_element(by=By.CSS_SELECTOR, value=css_selector) instead\n",
      "  searchbutten = driver.find_element_by_css_selector('#btnSearch')\n"
     ]
    },
    {
     "output_type": "stream",
     "name": "stdout",
     "text": [
      "9R / 포항(H)\n"
     ]
    },
    {
     "output_type": "stream",
     "name": "stderr",
     "text": [
      "/tmp/ipykernel_11671/1732342239.py:22: DeprecationWarning: find_element_by_css_selector is deprecated. Please use find_element(by=By.CSS_SELECTOR, value=css_selector) instead\n",
      "  game = driver.find_element_by_css_selector('#selectGameId')\n",
      "/tmp/ipykernel_11671/1732342239.py:25: DeprecationWarning: find_element_by_css_selector is deprecated. Please use find_element(by=By.CSS_SELECTOR, value=css_selector) instead\n",
      "  searchbutten = driver.find_element_by_css_selector('#btnSearch')\n"
     ]
    },
    {
     "output_type": "stream",
     "name": "stdout",
     "text": [
      "10R / 대구(H)\n"
     ]
    },
    {
     "output_type": "stream",
     "name": "stderr",
     "text": [
      "/tmp/ipykernel_11671/1732342239.py:22: DeprecationWarning: find_element_by_css_selector is deprecated. Please use find_element(by=By.CSS_SELECTOR, value=css_selector) instead\n",
      "  game = driver.find_element_by_css_selector('#selectGameId')\n",
      "/tmp/ipykernel_11671/1732342239.py:25: DeprecationWarning: find_element_by_css_selector is deprecated. Please use find_element(by=By.CSS_SELECTOR, value=css_selector) instead\n",
      "  searchbutten = driver.find_element_by_css_selector('#btnSearch')\n"
     ]
    },
    {
     "output_type": "stream",
     "name": "stdout",
     "text": [
      "11R / 강원(A)\n"
     ]
    },
    {
     "output_type": "stream",
     "name": "stderr",
     "text": [
      "/tmp/ipykernel_11671/1732342239.py:22: DeprecationWarning: find_element_by_css_selector is deprecated. Please use find_element(by=By.CSS_SELECTOR, value=css_selector) instead\n",
      "  game = driver.find_element_by_css_selector('#selectGameId')\n",
      "/tmp/ipykernel_11671/1732342239.py:25: DeprecationWarning: find_element_by_css_selector is deprecated. Please use find_element(by=By.CSS_SELECTOR, value=css_selector) instead\n",
      "  searchbutten = driver.find_element_by_css_selector('#btnSearch')\n"
     ]
    },
    {
     "output_type": "stream",
     "name": "stdout",
     "text": [
      "12R / 부산(A)\n"
     ]
    },
    {
     "output_type": "stream",
     "name": "stderr",
     "text": [
      "/tmp/ipykernel_11671/1732342239.py:22: DeprecationWarning: find_element_by_css_selector is deprecated. Please use find_element(by=By.CSS_SELECTOR, value=css_selector) instead\n",
      "  game = driver.find_element_by_css_selector('#selectGameId')\n",
      "/tmp/ipykernel_11671/1732342239.py:25: DeprecationWarning: find_element_by_css_selector is deprecated. Please use find_element(by=By.CSS_SELECTOR, value=css_selector) instead\n",
      "  searchbutten = driver.find_element_by_css_selector('#btnSearch')\n"
     ]
    },
    {
     "output_type": "stream",
     "name": "stdout",
     "text": [
      "13R / 수원(H)\n"
     ]
    },
    {
     "output_type": "stream",
     "name": "stderr",
     "text": [
      "/tmp/ipykernel_11671/1732342239.py:22: DeprecationWarning: find_element_by_css_selector is deprecated. Please use find_element(by=By.CSS_SELECTOR, value=css_selector) instead\n",
      "  game = driver.find_element_by_css_selector('#selectGameId')\n",
      "/tmp/ipykernel_11671/1732342239.py:25: DeprecationWarning: find_element_by_css_selector is deprecated. Please use find_element(by=By.CSS_SELECTOR, value=css_selector) instead\n",
      "  searchbutten = driver.find_element_by_css_selector('#btnSearch')\n"
     ]
    },
    {
     "output_type": "stream",
     "name": "stdout",
     "text": [
      "14R / 인천(A)\n"
     ]
    },
    {
     "output_type": "stream",
     "name": "stderr",
     "text": [
      "/tmp/ipykernel_11671/1732342239.py:22: DeprecationWarning: find_element_by_css_selector is deprecated. Please use find_element(by=By.CSS_SELECTOR, value=css_selector) instead\n",
      "  game = driver.find_element_by_css_selector('#selectGameId')\n",
      "/tmp/ipykernel_11671/1732342239.py:25: DeprecationWarning: find_element_by_css_selector is deprecated. Please use find_element(by=By.CSS_SELECTOR, value=css_selector) instead\n",
      "  searchbutten = driver.find_element_by_css_selector('#btnSearch')\n"
     ]
    },
    {
     "output_type": "stream",
     "name": "stdout",
     "text": [
      "15R / 포항(A)\n"
     ]
    },
    {
     "output_type": "stream",
     "name": "stderr",
     "text": [
      "/tmp/ipykernel_11671/1732342239.py:22: DeprecationWarning: find_element_by_css_selector is deprecated. Please use find_element(by=By.CSS_SELECTOR, value=css_selector) instead\n",
      "  game = driver.find_element_by_css_selector('#selectGameId')\n",
      "/tmp/ipykernel_11671/1732342239.py:25: DeprecationWarning: find_element_by_css_selector is deprecated. Please use find_element(by=By.CSS_SELECTOR, value=css_selector) instead\n",
      "  searchbutten = driver.find_element_by_css_selector('#btnSearch')\n"
     ]
    },
    {
     "output_type": "stream",
     "name": "stdout",
     "text": [
      "16R / 강원(H)\n"
     ]
    },
    {
     "output_type": "stream",
     "name": "stderr",
     "text": [
      "/tmp/ipykernel_11671/1732342239.py:22: DeprecationWarning: find_element_by_css_selector is deprecated. Please use find_element(by=By.CSS_SELECTOR, value=css_selector) instead\n",
      "  game = driver.find_element_by_css_selector('#selectGameId')\n",
      "/tmp/ipykernel_11671/1732342239.py:25: DeprecationWarning: find_element_by_css_selector is deprecated. Please use find_element(by=By.CSS_SELECTOR, value=css_selector) instead\n",
      "  searchbutten = driver.find_element_by_css_selector('#btnSearch')\n"
     ]
    },
    {
     "output_type": "stream",
     "name": "stdout",
     "text": [
      "17R / 서울(H)\n"
     ]
    },
    {
     "output_type": "stream",
     "name": "stderr",
     "text": [
      "/tmp/ipykernel_11671/1732342239.py:22: DeprecationWarning: find_element_by_css_selector is deprecated. Please use find_element(by=By.CSS_SELECTOR, value=css_selector) instead\n",
      "  game = driver.find_element_by_css_selector('#selectGameId')\n",
      "/tmp/ipykernel_11671/1732342239.py:25: DeprecationWarning: find_element_by_css_selector is deprecated. Please use find_element(by=By.CSS_SELECTOR, value=css_selector) instead\n",
      "  searchbutten = driver.find_element_by_css_selector('#btnSearch')\n"
     ]
    },
    {
     "output_type": "stream",
     "name": "stdout",
     "text": [
      "18R / 대구(A)\n"
     ]
    },
    {
     "output_type": "stream",
     "name": "stderr",
     "text": [
      "/tmp/ipykernel_11671/1732342239.py:22: DeprecationWarning: find_element_by_css_selector is deprecated. Please use find_element(by=By.CSS_SELECTOR, value=css_selector) instead\n",
      "  game = driver.find_element_by_css_selector('#selectGameId')\n",
      "/tmp/ipykernel_11671/1732342239.py:25: DeprecationWarning: find_element_by_css_selector is deprecated. Please use find_element(by=By.CSS_SELECTOR, value=css_selector) instead\n",
      "  searchbutten = driver.find_element_by_css_selector('#btnSearch')\n"
     ]
    },
    {
     "output_type": "stream",
     "name": "stdout",
     "text": [
      "19R / 울산(A)\n"
     ]
    },
    {
     "output_type": "stream",
     "name": "stderr",
     "text": [
      "/tmp/ipykernel_11671/1732342239.py:22: DeprecationWarning: find_element_by_css_selector is deprecated. Please use find_element(by=By.CSS_SELECTOR, value=css_selector) instead\n",
      "  game = driver.find_element_by_css_selector('#selectGameId')\n",
      "/tmp/ipykernel_11671/1732342239.py:25: DeprecationWarning: find_element_by_css_selector is deprecated. Please use find_element(by=By.CSS_SELECTOR, value=css_selector) instead\n",
      "  searchbutten = driver.find_element_by_css_selector('#btnSearch')\n"
     ]
    },
    {
     "output_type": "stream",
     "name": "stdout",
     "text": [
      "20R / 전북(H)\n"
     ]
    },
    {
     "output_type": "stream",
     "name": "stderr",
     "text": [
      "/tmp/ipykernel_11671/1732342239.py:22: DeprecationWarning: find_element_by_css_selector is deprecated. Please use find_element(by=By.CSS_SELECTOR, value=css_selector) instead\n",
      "  game = driver.find_element_by_css_selector('#selectGameId')\n",
      "/tmp/ipykernel_11671/1732342239.py:25: DeprecationWarning: find_element_by_css_selector is deprecated. Please use find_element(by=By.CSS_SELECTOR, value=css_selector) instead\n",
      "  searchbutten = driver.find_element_by_css_selector('#btnSearch')\n"
     ]
    },
    {
     "output_type": "stream",
     "name": "stdout",
     "text": [
      "21R / 상주(H)\n"
     ]
    },
    {
     "output_type": "stream",
     "name": "stderr",
     "text": [
      "/tmp/ipykernel_11671/1732342239.py:22: DeprecationWarning: find_element_by_css_selector is deprecated. Please use find_element(by=By.CSS_SELECTOR, value=css_selector) instead\n",
      "  game = driver.find_element_by_css_selector('#selectGameId')\n",
      "/tmp/ipykernel_11671/1732342239.py:25: DeprecationWarning: find_element_by_css_selector is deprecated. Please use find_element(by=By.CSS_SELECTOR, value=css_selector) instead\n",
      "  searchbutten = driver.find_element_by_css_selector('#btnSearch')\n"
     ]
    },
    {
     "output_type": "stream",
     "name": "stdout",
     "text": [
      "22R / 성남(A)\n"
     ]
    },
    {
     "output_type": "stream",
     "name": "stderr",
     "text": [
      "/tmp/ipykernel_11671/1732342239.py:22: DeprecationWarning: find_element_by_css_selector is deprecated. Please use find_element(by=By.CSS_SELECTOR, value=css_selector) instead\n",
      "  game = driver.find_element_by_css_selector('#selectGameId')\n",
      "/tmp/ipykernel_11671/1732342239.py:25: DeprecationWarning: find_element_by_css_selector is deprecated. Please use find_element(by=By.CSS_SELECTOR, value=css_selector) instead\n",
      "  searchbutten = driver.find_element_by_css_selector('#btnSearch')\n"
     ]
    },
    {
     "output_type": "stream",
     "name": "stdout",
     "text": [
      "23R / 포항(A)\n"
     ]
    },
    {
     "output_type": "stream",
     "name": "stderr",
     "text": [
      "/tmp/ipykernel_11671/1732342239.py:22: DeprecationWarning: find_element_by_css_selector is deprecated. Please use find_element(by=By.CSS_SELECTOR, value=css_selector) instead\n",
      "  game = driver.find_element_by_css_selector('#selectGameId')\n",
      "/tmp/ipykernel_11671/1732342239.py:25: DeprecationWarning: find_element_by_css_selector is deprecated. Please use find_element(by=By.CSS_SELECTOR, value=css_selector) instead\n",
      "  searchbutten = driver.find_element_by_css_selector('#btnSearch')\n"
     ]
    },
    {
     "output_type": "stream",
     "name": "stdout",
     "text": [
      "24R / 대구(H)\n"
     ]
    },
    {
     "output_type": "stream",
     "name": "stderr",
     "text": [
      "/tmp/ipykernel_11671/1732342239.py:22: DeprecationWarning: find_element_by_css_selector is deprecated. Please use find_element(by=By.CSS_SELECTOR, value=css_selector) instead\n",
      "  game = driver.find_element_by_css_selector('#selectGameId')\n",
      "/tmp/ipykernel_11671/1732342239.py:25: DeprecationWarning: find_element_by_css_selector is deprecated. Please use find_element(by=By.CSS_SELECTOR, value=css_selector) instead\n",
      "  searchbutten = driver.find_element_by_css_selector('#btnSearch')\n"
     ]
    },
    {
     "output_type": "stream",
     "name": "stdout",
     "text": [
      "25R / 전북(A)\n"
     ]
    },
    {
     "output_type": "stream",
     "name": "stderr",
     "text": [
      "/tmp/ipykernel_11671/1732342239.py:22: DeprecationWarning: find_element_by_css_selector is deprecated. Please use find_element(by=By.CSS_SELECTOR, value=css_selector) instead\n",
      "  game = driver.find_element_by_css_selector('#selectGameId')\n",
      "/tmp/ipykernel_11671/1732342239.py:25: DeprecationWarning: find_element_by_css_selector is deprecated. Please use find_element(by=By.CSS_SELECTOR, value=css_selector) instead\n",
      "  searchbutten = driver.find_element_by_css_selector('#btnSearch')\n"
     ]
    },
    {
     "output_type": "stream",
     "name": "stdout",
     "text": [
      "26R / 상주(H)\n"
     ]
    },
    {
     "output_type": "stream",
     "name": "stderr",
     "text": [
      "/tmp/ipykernel_11671/1732342239.py:22: DeprecationWarning: find_element_by_css_selector is deprecated. Please use find_element(by=By.CSS_SELECTOR, value=css_selector) instead\n",
      "  game = driver.find_element_by_css_selector('#selectGameId')\n",
      "/tmp/ipykernel_11671/1732342239.py:25: DeprecationWarning: find_element_by_css_selector is deprecated. Please use find_element(by=By.CSS_SELECTOR, value=css_selector) instead\n",
      "  searchbutten = driver.find_element_by_css_selector('#btnSearch')\n"
     ]
    },
    {
     "output_type": "stream",
     "name": "stdout",
     "text": [
      "27R / 울산(A)\n"
     ]
    },
    {
     "output_type": "stream",
     "name": "stderr",
     "text": [
      "/tmp/ipykernel_11671/1732342239.py:16: DeprecationWarning: find_element_by_css_selector is deprecated. Please use find_element(by=By.CSS_SELECTOR, value=css_selector) instead\n",
      "  teamsel = driver.find_element_by_css_selector('#selectTeamId')\n",
      "/tmp/ipykernel_11671/1732342239.py:19: DeprecationWarning: find_elements_by_css_selector is deprecated. Please use find_elements(by=By.CSS_SELECTOR, value=css_selector) instead\n",
      "  gamessel = driver.find_elements_by_css_selector('#selectGameId > option')\n",
      "/tmp/ipykernel_11671/1732342239.py:22: DeprecationWarning: find_element_by_css_selector is deprecated. Please use find_element(by=By.CSS_SELECTOR, value=css_selector) instead\n",
      "  game = driver.find_element_by_css_selector('#selectGameId')\n",
      "/tmp/ipykernel_11671/1732342239.py:25: DeprecationWarning: find_element_by_css_selector is deprecated. Please use find_element(by=By.CSS_SELECTOR, value=css_selector) instead\n",
      "  searchbutten = driver.find_element_by_css_selector('#btnSearch')\n"
     ]
    },
    {
     "output_type": "stream",
     "name": "stdout",
     "text": [
      "1R / 울산(A)\n"
     ]
    },
    {
     "output_type": "stream",
     "name": "stderr",
     "text": [
      "/tmp/ipykernel_11671/1732342239.py:22: DeprecationWarning: find_element_by_css_selector is deprecated. Please use find_element(by=By.CSS_SELECTOR, value=css_selector) instead\n",
      "  game = driver.find_element_by_css_selector('#selectGameId')\n",
      "/tmp/ipykernel_11671/1732342239.py:25: DeprecationWarning: find_element_by_css_selector is deprecated. Please use find_element(by=By.CSS_SELECTOR, value=css_selector) instead\n",
      "  searchbutten = driver.find_element_by_css_selector('#btnSearch')\n"
     ]
    },
    {
     "output_type": "stream",
     "name": "stdout",
     "text": [
      "2R / 강원(H)\n"
     ]
    },
    {
     "output_type": "stream",
     "name": "stderr",
     "text": [
      "/tmp/ipykernel_11671/1732342239.py:22: DeprecationWarning: find_element_by_css_selector is deprecated. Please use find_element(by=By.CSS_SELECTOR, value=css_selector) instead\n",
      "  game = driver.find_element_by_css_selector('#selectGameId')\n",
      "/tmp/ipykernel_11671/1732342239.py:25: DeprecationWarning: find_element_by_css_selector is deprecated. Please use find_element(by=By.CSS_SELECTOR, value=css_selector) instead\n",
      "  searchbutten = driver.find_element_by_css_selector('#btnSearch')\n"
     ]
    },
    {
     "output_type": "stream",
     "name": "stdout",
     "text": [
      "3R / 광주(H)\n"
     ]
    },
    {
     "output_type": "stream",
     "name": "stderr",
     "text": [
      "/tmp/ipykernel_11671/1732342239.py:22: DeprecationWarning: find_element_by_css_selector is deprecated. Please use find_element(by=By.CSS_SELECTOR, value=css_selector) instead\n",
      "  game = driver.find_element_by_css_selector('#selectGameId')\n",
      "/tmp/ipykernel_11671/1732342239.py:25: DeprecationWarning: find_element_by_css_selector is deprecated. Please use find_element(by=By.CSS_SELECTOR, value=css_selector) instead\n",
      "  searchbutten = driver.find_element_by_css_selector('#btnSearch')\n"
     ]
    },
    {
     "output_type": "stream",
     "name": "stdout",
     "text": [
      "4R / 대구(A)\n"
     ]
    },
    {
     "output_type": "stream",
     "name": "stderr",
     "text": [
      "/tmp/ipykernel_11671/1732342239.py:22: DeprecationWarning: find_element_by_css_selector is deprecated. Please use find_element(by=By.CSS_SELECTOR, value=css_selector) instead\n",
      "  game = driver.find_element_by_css_selector('#selectGameId')\n",
      "/tmp/ipykernel_11671/1732342239.py:25: DeprecationWarning: find_element_by_css_selector is deprecated. Please use find_element(by=By.CSS_SELECTOR, value=css_selector) instead\n",
      "  searchbutten = driver.find_element_by_css_selector('#btnSearch')\n"
     ]
    },
    {
     "output_type": "stream",
     "name": "stdout",
     "text": [
      "5R / 부산(A)\n"
     ]
    },
    {
     "output_type": "stream",
     "name": "stderr",
     "text": [
      "/tmp/ipykernel_11671/1732342239.py:22: DeprecationWarning: find_element_by_css_selector is deprecated. Please use find_element(by=By.CSS_SELECTOR, value=css_selector) instead\n",
      "  game = driver.find_element_by_css_selector('#selectGameId')\n",
      "/tmp/ipykernel_11671/1732342239.py:25: DeprecationWarning: find_element_by_css_selector is deprecated. Please use find_element(by=By.CSS_SELECTOR, value=css_selector) instead\n",
      "  searchbutten = driver.find_element_by_css_selector('#btnSearch')\n"
     ]
    },
    {
     "output_type": "stream",
     "name": "stdout",
     "text": [
      "6R / 포항(H)\n"
     ]
    },
    {
     "output_type": "stream",
     "name": "stderr",
     "text": [
      "/tmp/ipykernel_11671/1732342239.py:22: DeprecationWarning: find_element_by_css_selector is deprecated. Please use find_element(by=By.CSS_SELECTOR, value=css_selector) instead\n",
      "  game = driver.find_element_by_css_selector('#selectGameId')\n",
      "/tmp/ipykernel_11671/1732342239.py:25: DeprecationWarning: find_element_by_css_selector is deprecated. Please use find_element(by=By.CSS_SELECTOR, value=css_selector) instead\n",
      "  searchbutten = driver.find_element_by_css_selector('#btnSearch')\n"
     ]
    },
    {
     "output_type": "stream",
     "name": "stdout",
     "text": [
      "7R / 서울(H)\n"
     ]
    },
    {
     "output_type": "stream",
     "name": "stderr",
     "text": [
      "/tmp/ipykernel_11671/1732342239.py:22: DeprecationWarning: find_element_by_css_selector is deprecated. Please use find_element(by=By.CSS_SELECTOR, value=css_selector) instead\n",
      "  game = driver.find_element_by_css_selector('#selectGameId')\n",
      "/tmp/ipykernel_11671/1732342239.py:25: DeprecationWarning: find_element_by_css_selector is deprecated. Please use find_element(by=By.CSS_SELECTOR, value=css_selector) instead\n",
      "  searchbutten = driver.find_element_by_css_selector('#btnSearch')\n"
     ]
    },
    {
     "output_type": "stream",
     "name": "stdout",
     "text": [
      "8R / 성남(A)\n"
     ]
    },
    {
     "output_type": "stream",
     "name": "stderr",
     "text": [
      "/tmp/ipykernel_11671/1732342239.py:22: DeprecationWarning: find_element_by_css_selector is deprecated. Please use find_element(by=By.CSS_SELECTOR, value=css_selector) instead\n",
      "  game = driver.find_element_by_css_selector('#selectGameId')\n",
      "/tmp/ipykernel_11671/1732342239.py:25: DeprecationWarning: find_element_by_css_selector is deprecated. Please use find_element(by=By.CSS_SELECTOR, value=css_selector) instead\n",
      "  searchbutten = driver.find_element_by_css_selector('#btnSearch')\n"
     ]
    },
    {
     "output_type": "stream",
     "name": "stdout",
     "text": [
      "9R / 수원(A)\n"
     ]
    },
    {
     "output_type": "stream",
     "name": "stderr",
     "text": [
      "/tmp/ipykernel_11671/1732342239.py:22: DeprecationWarning: find_element_by_css_selector is deprecated. Please use find_element(by=By.CSS_SELECTOR, value=css_selector) instead\n",
      "  game = driver.find_element_by_css_selector('#selectGameId')\n",
      "/tmp/ipykernel_11671/1732342239.py:25: DeprecationWarning: find_element_by_css_selector is deprecated. Please use find_element(by=By.CSS_SELECTOR, value=css_selector) instead\n",
      "  searchbutten = driver.find_element_by_css_selector('#btnSearch')\n"
     ]
    },
    {
     "output_type": "stream",
     "name": "stdout",
     "text": [
      "10R / 전북(H)\n"
     ]
    },
    {
     "output_type": "stream",
     "name": "stderr",
     "text": [
      "/tmp/ipykernel_11671/1732342239.py:22: DeprecationWarning: find_element_by_css_selector is deprecated. Please use find_element(by=By.CSS_SELECTOR, value=css_selector) instead\n",
      "  game = driver.find_element_by_css_selector('#selectGameId')\n",
      "/tmp/ipykernel_11671/1732342239.py:25: DeprecationWarning: find_element_by_css_selector is deprecated. Please use find_element(by=By.CSS_SELECTOR, value=css_selector) instead\n",
      "  searchbutten = driver.find_element_by_css_selector('#btnSearch')\n"
     ]
    },
    {
     "output_type": "stream",
     "name": "stdout",
     "text": [
      "11R / 인천(A)\n"
     ]
    },
    {
     "output_type": "stream",
     "name": "stderr",
     "text": [
      "/tmp/ipykernel_11671/1732342239.py:22: DeprecationWarning: find_element_by_css_selector is deprecated. Please use find_element(by=By.CSS_SELECTOR, value=css_selector) instead\n",
      "  game = driver.find_element_by_css_selector('#selectGameId')\n",
      "/tmp/ipykernel_11671/1732342239.py:25: DeprecationWarning: find_element_by_css_selector is deprecated. Please use find_element(by=By.CSS_SELECTOR, value=css_selector) instead\n",
      "  searchbutten = driver.find_element_by_css_selector('#btnSearch')\n"
     ]
    },
    {
     "output_type": "stream",
     "name": "stdout",
     "text": [
      "12R / 대구(H)\n"
     ]
    },
    {
     "output_type": "stream",
     "name": "stderr",
     "text": [
      "/tmp/ipykernel_11671/1732342239.py:22: DeprecationWarning: find_element_by_css_selector is deprecated. Please use find_element(by=By.CSS_SELECTOR, value=css_selector) instead\n",
      "  game = driver.find_element_by_css_selector('#selectGameId')\n",
      "/tmp/ipykernel_11671/1732342239.py:25: DeprecationWarning: find_element_by_css_selector is deprecated. Please use find_element(by=By.CSS_SELECTOR, value=css_selector) instead\n",
      "  searchbutten = driver.find_element_by_css_selector('#btnSearch')\n"
     ]
    },
    {
     "output_type": "stream",
     "name": "stdout",
     "text": [
      "13R / 울산(H)\n"
     ]
    },
    {
     "output_type": "stream",
     "name": "stderr",
     "text": [
      "/tmp/ipykernel_11671/1732342239.py:22: DeprecationWarning: find_element_by_css_selector is deprecated. Please use find_element(by=By.CSS_SELECTOR, value=css_selector) instead\n",
      "  game = driver.find_element_by_css_selector('#selectGameId')\n",
      "/tmp/ipykernel_11671/1732342239.py:25: DeprecationWarning: find_element_by_css_selector is deprecated. Please use find_element(by=By.CSS_SELECTOR, value=css_selector) instead\n",
      "  searchbutten = driver.find_element_by_css_selector('#btnSearch')\n"
     ]
    },
    {
     "output_type": "stream",
     "name": "stdout",
     "text": [
      "14R / 강원(A)\n"
     ]
    },
    {
     "output_type": "stream",
     "name": "stderr",
     "text": [
      "/tmp/ipykernel_11671/1732342239.py:22: DeprecationWarning: find_element_by_css_selector is deprecated. Please use find_element(by=By.CSS_SELECTOR, value=css_selector) instead\n",
      "  game = driver.find_element_by_css_selector('#selectGameId')\n",
      "/tmp/ipykernel_11671/1732342239.py:25: DeprecationWarning: find_element_by_css_selector is deprecated. Please use find_element(by=By.CSS_SELECTOR, value=css_selector) instead\n",
      "  searchbutten = driver.find_element_by_css_selector('#btnSearch')\n"
     ]
    },
    {
     "output_type": "stream",
     "name": "stdout",
     "text": [
      "15R / 부산(H)\n"
     ]
    },
    {
     "output_type": "stream",
     "name": "stderr",
     "text": [
      "/tmp/ipykernel_11671/1732342239.py:22: DeprecationWarning: find_element_by_css_selector is deprecated. Please use find_element(by=By.CSS_SELECTOR, value=css_selector) instead\n",
      "  game = driver.find_element_by_css_selector('#selectGameId')\n",
      "/tmp/ipykernel_11671/1732342239.py:25: DeprecationWarning: find_element_by_css_selector is deprecated. Please use find_element(by=By.CSS_SELECTOR, value=css_selector) instead\n",
      "  searchbutten = driver.find_element_by_css_selector('#btnSearch')\n"
     ]
    },
    {
     "output_type": "stream",
     "name": "stdout",
     "text": [
      "16R / 서울(A)\n"
     ]
    },
    {
     "output_type": "stream",
     "name": "stderr",
     "text": [
      "/tmp/ipykernel_11671/1732342239.py:22: DeprecationWarning: find_element_by_css_selector is deprecated. Please use find_element(by=By.CSS_SELECTOR, value=css_selector) instead\n",
      "  game = driver.find_element_by_css_selector('#selectGameId')\n",
      "/tmp/ipykernel_11671/1732342239.py:25: DeprecationWarning: find_element_by_css_selector is deprecated. Please use find_element(by=By.CSS_SELECTOR, value=css_selector) instead\n",
      "  searchbutten = driver.find_element_by_css_selector('#btnSearch')\n"
     ]
    },
    {
     "output_type": "stream",
     "name": "stdout",
     "text": [
      "17R / 전북(A)\n"
     ]
    },
    {
     "output_type": "stream",
     "name": "stderr",
     "text": [
      "/tmp/ipykernel_11671/1732342239.py:22: DeprecationWarning: find_element_by_css_selector is deprecated. Please use find_element(by=By.CSS_SELECTOR, value=css_selector) instead\n",
      "  game = driver.find_element_by_css_selector('#selectGameId')\n",
      "/tmp/ipykernel_11671/1732342239.py:25: DeprecationWarning: find_element_by_css_selector is deprecated. Please use find_element(by=By.CSS_SELECTOR, value=css_selector) instead\n",
      "  searchbutten = driver.find_element_by_css_selector('#btnSearch')\n"
     ]
    },
    {
     "output_type": "stream",
     "name": "stdout",
     "text": [
      "18R / 인천(H)\n"
     ]
    },
    {
     "output_type": "stream",
     "name": "stderr",
     "text": [
      "/tmp/ipykernel_11671/1732342239.py:22: DeprecationWarning: find_element_by_css_selector is deprecated. Please use find_element(by=By.CSS_SELECTOR, value=css_selector) instead\n",
      "  game = driver.find_element_by_css_selector('#selectGameId')\n",
      "/tmp/ipykernel_11671/1732342239.py:25: DeprecationWarning: find_element_by_css_selector is deprecated. Please use find_element(by=By.CSS_SELECTOR, value=css_selector) instead\n",
      "  searchbutten = driver.find_element_by_css_selector('#btnSearch')\n"
     ]
    },
    {
     "output_type": "stream",
     "name": "stdout",
     "text": [
      "19R / 수원(H)\n"
     ]
    },
    {
     "output_type": "stream",
     "name": "stderr",
     "text": [
      "/tmp/ipykernel_11671/1732342239.py:22: DeprecationWarning: find_element_by_css_selector is deprecated. Please use find_element(by=By.CSS_SELECTOR, value=css_selector) instead\n",
      "  game = driver.find_element_by_css_selector('#selectGameId')\n",
      "/tmp/ipykernel_11671/1732342239.py:25: DeprecationWarning: find_element_by_css_selector is deprecated. Please use find_element(by=By.CSS_SELECTOR, value=css_selector) instead\n",
      "  searchbutten = driver.find_element_by_css_selector('#btnSearch')\n"
     ]
    },
    {
     "output_type": "stream",
     "name": "stdout",
     "text": [
      "20R / 성남(H)\n"
     ]
    },
    {
     "output_type": "stream",
     "name": "stderr",
     "text": [
      "/tmp/ipykernel_11671/1732342239.py:22: DeprecationWarning: find_element_by_css_selector is deprecated. Please use find_element(by=By.CSS_SELECTOR, value=css_selector) instead\n",
      "  game = driver.find_element_by_css_selector('#selectGameId')\n",
      "/tmp/ipykernel_11671/1732342239.py:25: DeprecationWarning: find_element_by_css_selector is deprecated. Please use find_element(by=By.CSS_SELECTOR, value=css_selector) instead\n",
      "  searchbutten = driver.find_element_by_css_selector('#btnSearch')\n"
     ]
    },
    {
     "output_type": "stream",
     "name": "stdout",
     "text": [
      "21R / 광주(A)\n"
     ]
    },
    {
     "output_type": "stream",
     "name": "stderr",
     "text": [
      "/tmp/ipykernel_11671/1732342239.py:22: DeprecationWarning: find_element_by_css_selector is deprecated. Please use find_element(by=By.CSS_SELECTOR, value=css_selector) instead\n",
      "  game = driver.find_element_by_css_selector('#selectGameId')\n",
      "/tmp/ipykernel_11671/1732342239.py:25: DeprecationWarning: find_element_by_css_selector is deprecated. Please use find_element(by=By.CSS_SELECTOR, value=css_selector) instead\n",
      "  searchbutten = driver.find_element_by_css_selector('#btnSearch')\n"
     ]
    },
    {
     "output_type": "stream",
     "name": "stdout",
     "text": [
      "22R / 포항(A)\n"
     ]
    },
    {
     "output_type": "stream",
     "name": "stderr",
     "text": [
      "/tmp/ipykernel_11671/1732342239.py:22: DeprecationWarning: find_element_by_css_selector is deprecated. Please use find_element(by=By.CSS_SELECTOR, value=css_selector) instead\n",
      "  game = driver.find_element_by_css_selector('#selectGameId')\n",
      "/tmp/ipykernel_11671/1732342239.py:25: DeprecationWarning: find_element_by_css_selector is deprecated. Please use find_element(by=By.CSS_SELECTOR, value=css_selector) instead\n",
      "  searchbutten = driver.find_element_by_css_selector('#btnSearch')\n"
     ]
    },
    {
     "output_type": "stream",
     "name": "stdout",
     "text": [
      "23R / 전북(H)\n"
     ]
    },
    {
     "output_type": "stream",
     "name": "stderr",
     "text": [
      "/tmp/ipykernel_11671/1732342239.py:22: DeprecationWarning: find_element_by_css_selector is deprecated. Please use find_element(by=By.CSS_SELECTOR, value=css_selector) instead\n",
      "  game = driver.find_element_by_css_selector('#selectGameId')\n",
      "/tmp/ipykernel_11671/1732342239.py:25: DeprecationWarning: find_element_by_css_selector is deprecated. Please use find_element(by=By.CSS_SELECTOR, value=css_selector) instead\n",
      "  searchbutten = driver.find_element_by_css_selector('#btnSearch')\n"
     ]
    },
    {
     "output_type": "stream",
     "name": "stdout",
     "text": [
      "24R / 울산(A)\n"
     ]
    },
    {
     "output_type": "stream",
     "name": "stderr",
     "text": [
      "/tmp/ipykernel_11671/1732342239.py:22: DeprecationWarning: find_element_by_css_selector is deprecated. Please use find_element(by=By.CSS_SELECTOR, value=css_selector) instead\n",
      "  game = driver.find_element_by_css_selector('#selectGameId')\n",
      "/tmp/ipykernel_11671/1732342239.py:25: DeprecationWarning: find_element_by_css_selector is deprecated. Please use find_element(by=By.CSS_SELECTOR, value=css_selector) instead\n",
      "  searchbutten = driver.find_element_by_css_selector('#btnSearch')\n"
     ]
    },
    {
     "output_type": "stream",
     "name": "stdout",
     "text": [
      "25R / 대구(H)\n"
     ]
    },
    {
     "output_type": "stream",
     "name": "stderr",
     "text": [
      "/tmp/ipykernel_11671/1732342239.py:22: DeprecationWarning: find_element_by_css_selector is deprecated. Please use find_element(by=By.CSS_SELECTOR, value=css_selector) instead\n",
      "  game = driver.find_element_by_css_selector('#selectGameId')\n",
      "/tmp/ipykernel_11671/1732342239.py:25: DeprecationWarning: find_element_by_css_selector is deprecated. Please use find_element(by=By.CSS_SELECTOR, value=css_selector) instead\n",
      "  searchbutten = driver.find_element_by_css_selector('#btnSearch')\n"
     ]
    },
    {
     "output_type": "stream",
     "name": "stdout",
     "text": [
      "26R / 광주(A)\n"
     ]
    },
    {
     "output_type": "stream",
     "name": "stderr",
     "text": [
      "/tmp/ipykernel_11671/1732342239.py:22: DeprecationWarning: find_element_by_css_selector is deprecated. Please use find_element(by=By.CSS_SELECTOR, value=css_selector) instead\n",
      "  game = driver.find_element_by_css_selector('#selectGameId')\n",
      "/tmp/ipykernel_11671/1732342239.py:25: DeprecationWarning: find_element_by_css_selector is deprecated. Please use find_element(by=By.CSS_SELECTOR, value=css_selector) instead\n",
      "  searchbutten = driver.find_element_by_css_selector('#btnSearch')\n"
     ]
    },
    {
     "output_type": "stream",
     "name": "stdout",
     "text": [
      "27R / 포항(A)\n"
     ]
    },
    {
     "output_type": "stream",
     "name": "stderr",
     "text": [
      "/tmp/ipykernel_11671/1732342239.py:9: DeprecationWarning: find_element_by_css_selector is deprecated. Please use find_element(by=By.CSS_SELECTOR, value=css_selector) instead\n",
      "  leaguesel = driver.find_element_by_css_selector('#selectMeetSeq')\n",
      "/tmp/ipykernel_11671/1732342239.py:12: DeprecationWarning: find_elements_by_css_selector is deprecated. Please use find_elements(by=By.CSS_SELECTOR, value=css_selector) instead\n",
      "  option = driver.find_elements_by_css_selector('#selectTeamId > option')\n"
     ]
    },
    {
     "output_type": "stream",
     "name": "stdout",
     "text": [
      "['제주', '전남', '대전', '경남', '부천', '안양', '수원FC', '서울E', '안산', '충남아산', '울산', '수원', '포항', '전북', '부산', '성남', '서울', '대구', '인천', '강원', '광주', '상주']\n"
     ]
    },
    {
     "output_type": "stream",
     "name": "stderr",
     "text": [
      "/tmp/ipykernel_11671/1732342239.py:16: DeprecationWarning: find_element_by_css_selector is deprecated. Please use find_element(by=By.CSS_SELECTOR, value=css_selector) instead\n",
      "  teamsel = driver.find_element_by_css_selector('#selectTeamId')\n",
      "/tmp/ipykernel_11671/1732342239.py:19: DeprecationWarning: find_elements_by_css_selector is deprecated. Please use find_elements(by=By.CSS_SELECTOR, value=css_selector) instead\n",
      "  gamessel = driver.find_elements_by_css_selector('#selectGameId > option')\n"
     ]
    },
    {
     "output_type": "stream",
     "name": "stdout",
     "text": [
      "['제주', '전남', '대전', '경남', '부천', '안양', '수원FC', '서울E', '안산', '충남아산']\n"
     ]
    },
    {
     "output_type": "stream",
     "name": "stderr",
     "text": [
      "/tmp/ipykernel_11671/1732342239.py:22: DeprecationWarning: find_element_by_css_selector is deprecated. Please use find_element(by=By.CSS_SELECTOR, value=css_selector) instead\n",
      "  game = driver.find_element_by_css_selector('#selectGameId')\n",
      "/tmp/ipykernel_11671/1732342239.py:25: DeprecationWarning: find_element_by_css_selector is deprecated. Please use find_element(by=By.CSS_SELECTOR, value=css_selector) instead\n",
      "  searchbutten = driver.find_element_by_css_selector('#btnSearch')\n"
     ]
    },
    {
     "output_type": "stream",
     "name": "stdout",
     "text": [
      "1R / 서울E(H)\n"
     ]
    },
    {
     "output_type": "stream",
     "name": "stderr",
     "text": [
      "/tmp/ipykernel_11671/1732342239.py:22: DeprecationWarning: find_element_by_css_selector is deprecated. Please use find_element(by=By.CSS_SELECTOR, value=css_selector) instead\n",
      "  game = driver.find_element_by_css_selector('#selectGameId')\n",
      "/tmp/ipykernel_11671/1732342239.py:25: DeprecationWarning: find_element_by_css_selector is deprecated. Please use find_element(by=By.CSS_SELECTOR, value=css_selector) instead\n",
      "  searchbutten = driver.find_element_by_css_selector('#btnSearch')\n"
     ]
    },
    {
     "output_type": "stream",
     "name": "stdout",
     "text": [
      "2R / 전남(A)\n"
     ]
    },
    {
     "output_type": "stream",
     "name": "stderr",
     "text": [
      "/tmp/ipykernel_11671/1732342239.py:22: DeprecationWarning: find_element_by_css_selector is deprecated. Please use find_element(by=By.CSS_SELECTOR, value=css_selector) instead\n",
      "  game = driver.find_element_by_css_selector('#selectGameId')\n",
      "/tmp/ipykernel_11671/1732342239.py:25: DeprecationWarning: find_element_by_css_selector is deprecated. Please use find_element(by=By.CSS_SELECTOR, value=css_selector) instead\n",
      "  searchbutten = driver.find_element_by_css_selector('#btnSearch')\n"
     ]
    },
    {
     "output_type": "stream",
     "name": "stdout",
     "text": [
      "3R / 대전(H)\n"
     ]
    },
    {
     "output_type": "stream",
     "name": "stderr",
     "text": [
      "/tmp/ipykernel_11671/1732342239.py:22: DeprecationWarning: find_element_by_css_selector is deprecated. Please use find_element(by=By.CSS_SELECTOR, value=css_selector) instead\n",
      "  game = driver.find_element_by_css_selector('#selectGameId')\n",
      "/tmp/ipykernel_11671/1732342239.py:25: DeprecationWarning: find_element_by_css_selector is deprecated. Please use find_element(by=By.CSS_SELECTOR, value=css_selector) instead\n",
      "  searchbutten = driver.find_element_by_css_selector('#btnSearch')\n"
     ]
    },
    {
     "output_type": "stream",
     "name": "stdout",
     "text": [
      "4R / 부천(A)\n"
     ]
    },
    {
     "output_type": "stream",
     "name": "stderr",
     "text": [
      "/tmp/ipykernel_11671/1732342239.py:22: DeprecationWarning: find_element_by_css_selector is deprecated. Please use find_element(by=By.CSS_SELECTOR, value=css_selector) instead\n",
      "  game = driver.find_element_by_css_selector('#selectGameId')\n",
      "/tmp/ipykernel_11671/1732342239.py:25: DeprecationWarning: find_element_by_css_selector is deprecated. Please use find_element(by=By.CSS_SELECTOR, value=css_selector) instead\n",
      "  searchbutten = driver.find_element_by_css_selector('#btnSearch')\n"
     ]
    },
    {
     "output_type": "stream",
     "name": "stdout",
     "text": [
      "5R / 안산(A)\n"
     ]
    },
    {
     "output_type": "stream",
     "name": "stderr",
     "text": [
      "/tmp/ipykernel_11671/1732342239.py:22: DeprecationWarning: find_element_by_css_selector is deprecated. Please use find_element(by=By.CSS_SELECTOR, value=css_selector) instead\n",
      "  game = driver.find_element_by_css_selector('#selectGameId')\n",
      "/tmp/ipykernel_11671/1732342239.py:25: DeprecationWarning: find_element_by_css_selector is deprecated. Please use find_element(by=By.CSS_SELECTOR, value=css_selector) instead\n",
      "  searchbutten = driver.find_element_by_css_selector('#btnSearch')\n"
     ]
    },
    {
     "output_type": "stream",
     "name": "stdout",
     "text": [
      "6R / 수원FC(H)\n"
     ]
    },
    {
     "output_type": "stream",
     "name": "stderr",
     "text": [
      "/tmp/ipykernel_11671/1732342239.py:22: DeprecationWarning: find_element_by_css_selector is deprecated. Please use find_element(by=By.CSS_SELECTOR, value=css_selector) instead\n",
      "  game = driver.find_element_by_css_selector('#selectGameId')\n",
      "/tmp/ipykernel_11671/1732342239.py:25: DeprecationWarning: find_element_by_css_selector is deprecated. Please use find_element(by=By.CSS_SELECTOR, value=css_selector) instead\n",
      "  searchbutten = driver.find_element_by_css_selector('#btnSearch')\n"
     ]
    },
    {
     "output_type": "stream",
     "name": "stdout",
     "text": [
      "7R / 충남아산(A)\n"
     ]
    },
    {
     "output_type": "stream",
     "name": "stderr",
     "text": [
      "/tmp/ipykernel_11671/1732342239.py:22: DeprecationWarning: find_element_by_css_selector is deprecated. Please use find_element(by=By.CSS_SELECTOR, value=css_selector) instead\n",
      "  game = driver.find_element_by_css_selector('#selectGameId')\n",
      "/tmp/ipykernel_11671/1732342239.py:25: DeprecationWarning: find_element_by_css_selector is deprecated. Please use find_element(by=By.CSS_SELECTOR, value=css_selector) instead\n",
      "  searchbutten = driver.find_element_by_css_selector('#btnSearch')\n"
     ]
    },
    {
     "output_type": "stream",
     "name": "stdout",
     "text": [
      "8R / 경남(H)\n"
     ]
    },
    {
     "output_type": "stream",
     "name": "stderr",
     "text": [
      "/tmp/ipykernel_11671/1732342239.py:22: DeprecationWarning: find_element_by_css_selector is deprecated. Please use find_element(by=By.CSS_SELECTOR, value=css_selector) instead\n",
      "  game = driver.find_element_by_css_selector('#selectGameId')\n",
      "/tmp/ipykernel_11671/1732342239.py:25: DeprecationWarning: find_element_by_css_selector is deprecated. Please use find_element(by=By.CSS_SELECTOR, value=css_selector) instead\n",
      "  searchbutten = driver.find_element_by_css_selector('#btnSearch')\n"
     ]
    },
    {
     "output_type": "stream",
     "name": "stdout",
     "text": [
      "9R / 안양(A)\n"
     ]
    },
    {
     "output_type": "stream",
     "name": "stderr",
     "text": [
      "/tmp/ipykernel_11671/1732342239.py:22: DeprecationWarning: find_element_by_css_selector is deprecated. Please use find_element(by=By.CSS_SELECTOR, value=css_selector) instead\n",
      "  game = driver.find_element_by_css_selector('#selectGameId')\n",
      "/tmp/ipykernel_11671/1732342239.py:25: DeprecationWarning: find_element_by_css_selector is deprecated. Please use find_element(by=By.CSS_SELECTOR, value=css_selector) instead\n",
      "  searchbutten = driver.find_element_by_css_selector('#btnSearch')\n"
     ]
    },
    {
     "output_type": "stream",
     "name": "stdout",
     "text": [
      "10R / 부천(H)\n"
     ]
    },
    {
     "output_type": "stream",
     "name": "stderr",
     "text": [
      "/tmp/ipykernel_11671/1732342239.py:22: DeprecationWarning: find_element_by_css_selector is deprecated. Please use find_element(by=By.CSS_SELECTOR, value=css_selector) instead\n",
      "  game = driver.find_element_by_css_selector('#selectGameId')\n",
      "/tmp/ipykernel_11671/1732342239.py:25: DeprecationWarning: find_element_by_css_selector is deprecated. Please use find_element(by=By.CSS_SELECTOR, value=css_selector) instead\n",
      "  searchbutten = driver.find_element_by_css_selector('#btnSearch')\n"
     ]
    },
    {
     "output_type": "stream",
     "name": "stdout",
     "text": [
      "11R / 서울E(A)\n"
     ]
    },
    {
     "output_type": "stream",
     "name": "stderr",
     "text": [
      "/tmp/ipykernel_11671/1732342239.py:22: DeprecationWarning: find_element_by_css_selector is deprecated. Please use find_element(by=By.CSS_SELECTOR, value=css_selector) instead\n",
      "  game = driver.find_element_by_css_selector('#selectGameId')\n",
      "/tmp/ipykernel_11671/1732342239.py:25: DeprecationWarning: find_element_by_css_selector is deprecated. Please use find_element(by=By.CSS_SELECTOR, value=css_selector) instead\n",
      "  searchbutten = driver.find_element_by_css_selector('#btnSearch')\n"
     ]
    },
    {
     "output_type": "stream",
     "name": "stdout",
     "text": [
      "12R / 대전(A)\n"
     ]
    },
    {
     "output_type": "stream",
     "name": "stderr",
     "text": [
      "/tmp/ipykernel_11671/1732342239.py:22: DeprecationWarning: find_element_by_css_selector is deprecated. Please use find_element(by=By.CSS_SELECTOR, value=css_selector) instead\n",
      "  game = driver.find_element_by_css_selector('#selectGameId')\n",
      "/tmp/ipykernel_11671/1732342239.py:25: DeprecationWarning: find_element_by_css_selector is deprecated. Please use find_element(by=By.CSS_SELECTOR, value=css_selector) instead\n",
      "  searchbutten = driver.find_element_by_css_selector('#btnSearch')\n"
     ]
    },
    {
     "output_type": "stream",
     "name": "stdout",
     "text": [
      "13R / 전남(H)\n"
     ]
    },
    {
     "output_type": "stream",
     "name": "stderr",
     "text": [
      "/tmp/ipykernel_11671/1732342239.py:22: DeprecationWarning: find_element_by_css_selector is deprecated. Please use find_element(by=By.CSS_SELECTOR, value=css_selector) instead\n",
      "  game = driver.find_element_by_css_selector('#selectGameId')\n",
      "/tmp/ipykernel_11671/1732342239.py:25: DeprecationWarning: find_element_by_css_selector is deprecated. Please use find_element(by=By.CSS_SELECTOR, value=css_selector) instead\n",
      "  searchbutten = driver.find_element_by_css_selector('#btnSearch')\n"
     ]
    },
    {
     "output_type": "stream",
     "name": "stdout",
     "text": [
      "14R / 충남아산(H)\n"
     ]
    },
    {
     "output_type": "stream",
     "name": "stderr",
     "text": [
      "/tmp/ipykernel_11671/1732342239.py:22: DeprecationWarning: find_element_by_css_selector is deprecated. Please use find_element(by=By.CSS_SELECTOR, value=css_selector) instead\n",
      "  game = driver.find_element_by_css_selector('#selectGameId')\n",
      "/tmp/ipykernel_11671/1732342239.py:25: DeprecationWarning: find_element_by_css_selector is deprecated. Please use find_element(by=By.CSS_SELECTOR, value=css_selector) instead\n",
      "  searchbutten = driver.find_element_by_css_selector('#btnSearch')\n"
     ]
    },
    {
     "output_type": "stream",
     "name": "stdout",
     "text": [
      "15R / 수원FC(A)\n"
     ]
    },
    {
     "output_type": "stream",
     "name": "stderr",
     "text": [
      "/tmp/ipykernel_11671/1732342239.py:22: DeprecationWarning: find_element_by_css_selector is deprecated. Please use find_element(by=By.CSS_SELECTOR, value=css_selector) instead\n",
      "  game = driver.find_element_by_css_selector('#selectGameId')\n",
      "/tmp/ipykernel_11671/1732342239.py:25: DeprecationWarning: find_element_by_css_selector is deprecated. Please use find_element(by=By.CSS_SELECTOR, value=css_selector) instead\n",
      "  searchbutten = driver.find_element_by_css_selector('#btnSearch')\n"
     ]
    },
    {
     "output_type": "stream",
     "name": "stdout",
     "text": [
      "16R / 안산(H)\n"
     ]
    },
    {
     "output_type": "stream",
     "name": "stderr",
     "text": [
      "/tmp/ipykernel_11671/1732342239.py:22: DeprecationWarning: find_element_by_css_selector is deprecated. Please use find_element(by=By.CSS_SELECTOR, value=css_selector) instead\n",
      "  game = driver.find_element_by_css_selector('#selectGameId')\n",
      "/tmp/ipykernel_11671/1732342239.py:25: DeprecationWarning: find_element_by_css_selector is deprecated. Please use find_element(by=By.CSS_SELECTOR, value=css_selector) instead\n",
      "  searchbutten = driver.find_element_by_css_selector('#btnSearch')\n"
     ]
    },
    {
     "output_type": "stream",
     "name": "stdout",
     "text": [
      "17R / 안양(H)\n"
     ]
    },
    {
     "output_type": "stream",
     "name": "stderr",
     "text": [
      "/tmp/ipykernel_11671/1732342239.py:22: DeprecationWarning: find_element_by_css_selector is deprecated. Please use find_element(by=By.CSS_SELECTOR, value=css_selector) instead\n",
      "  game = driver.find_element_by_css_selector('#selectGameId')\n",
      "/tmp/ipykernel_11671/1732342239.py:25: DeprecationWarning: find_element_by_css_selector is deprecated. Please use find_element(by=By.CSS_SELECTOR, value=css_selector) instead\n",
      "  searchbutten = driver.find_element_by_css_selector('#btnSearch')\n"
     ]
    },
    {
     "output_type": "stream",
     "name": "stdout",
     "text": [
      "18R / 경남(A)\n"
     ]
    },
    {
     "output_type": "stream",
     "name": "stderr",
     "text": [
      "/tmp/ipykernel_11671/1732342239.py:22: DeprecationWarning: find_element_by_css_selector is deprecated. Please use find_element(by=By.CSS_SELECTOR, value=css_selector) instead\n",
      "  game = driver.find_element_by_css_selector('#selectGameId')\n",
      "/tmp/ipykernel_11671/1732342239.py:25: DeprecationWarning: find_element_by_css_selector is deprecated. Please use find_element(by=By.CSS_SELECTOR, value=css_selector) instead\n",
      "  searchbutten = driver.find_element_by_css_selector('#btnSearch')\n"
     ]
    },
    {
     "output_type": "stream",
     "name": "stdout",
     "text": [
      "19R / 대전(H)\n"
     ]
    },
    {
     "output_type": "stream",
     "name": "stderr",
     "text": [
      "/tmp/ipykernel_11671/1732342239.py:22: DeprecationWarning: find_element_by_css_selector is deprecated. Please use find_element(by=By.CSS_SELECTOR, value=css_selector) instead\n",
      "  game = driver.find_element_by_css_selector('#selectGameId')\n",
      "/tmp/ipykernel_11671/1732342239.py:25: DeprecationWarning: find_element_by_css_selector is deprecated. Please use find_element(by=By.CSS_SELECTOR, value=css_selector) instead\n",
      "  searchbutten = driver.find_element_by_css_selector('#btnSearch')\n"
     ]
    },
    {
     "output_type": "stream",
     "name": "stdout",
     "text": [
      "20R / 부천(A)\n"
     ]
    },
    {
     "output_type": "stream",
     "name": "stderr",
     "text": [
      "/tmp/ipykernel_11671/1732342239.py:22: DeprecationWarning: find_element_by_css_selector is deprecated. Please use find_element(by=By.CSS_SELECTOR, value=css_selector) instead\n",
      "  game = driver.find_element_by_css_selector('#selectGameId')\n",
      "/tmp/ipykernel_11671/1732342239.py:25: DeprecationWarning: find_element_by_css_selector is deprecated. Please use find_element(by=By.CSS_SELECTOR, value=css_selector) instead\n",
      "  searchbutten = driver.find_element_by_css_selector('#btnSearch')\n"
     ]
    },
    {
     "output_type": "stream",
     "name": "stdout",
     "text": [
      "21R / 전남(A)\n"
     ]
    },
    {
     "output_type": "stream",
     "name": "stderr",
     "text": [
      "/tmp/ipykernel_11671/1732342239.py:22: DeprecationWarning: find_element_by_css_selector is deprecated. Please use find_element(by=By.CSS_SELECTOR, value=css_selector) instead\n",
      "  game = driver.find_element_by_css_selector('#selectGameId')\n",
      "/tmp/ipykernel_11671/1732342239.py:25: DeprecationWarning: find_element_by_css_selector is deprecated. Please use find_element(by=By.CSS_SELECTOR, value=css_selector) instead\n",
      "  searchbutten = driver.find_element_by_css_selector('#btnSearch')\n"
     ]
    },
    {
     "output_type": "stream",
     "name": "stdout",
     "text": [
      "22R / 안양(H)\n"
     ]
    },
    {
     "output_type": "stream",
     "name": "stderr",
     "text": [
      "/tmp/ipykernel_11671/1732342239.py:22: DeprecationWarning: find_element_by_css_selector is deprecated. Please use find_element(by=By.CSS_SELECTOR, value=css_selector) instead\n",
      "  game = driver.find_element_by_css_selector('#selectGameId')\n",
      "/tmp/ipykernel_11671/1732342239.py:25: DeprecationWarning: find_element_by_css_selector is deprecated. Please use find_element(by=By.CSS_SELECTOR, value=css_selector) instead\n",
      "  searchbutten = driver.find_element_by_css_selector('#btnSearch')\n"
     ]
    },
    {
     "output_type": "stream",
     "name": "stdout",
     "text": [
      "23R / 안산(H)\n"
     ]
    },
    {
     "output_type": "stream",
     "name": "stderr",
     "text": [
      "/tmp/ipykernel_11671/1732342239.py:22: DeprecationWarning: find_element_by_css_selector is deprecated. Please use find_element(by=By.CSS_SELECTOR, value=css_selector) instead\n",
      "  game = driver.find_element_by_css_selector('#selectGameId')\n",
      "/tmp/ipykernel_11671/1732342239.py:25: DeprecationWarning: find_element_by_css_selector is deprecated. Please use find_element(by=By.CSS_SELECTOR, value=css_selector) instead\n",
      "  searchbutten = driver.find_element_by_css_selector('#btnSearch')\n"
     ]
    },
    {
     "output_type": "stream",
     "name": "stdout",
     "text": [
      "24R / 경남(A)\n"
     ]
    },
    {
     "output_type": "stream",
     "name": "stderr",
     "text": [
      "/tmp/ipykernel_11671/1732342239.py:22: DeprecationWarning: find_element_by_css_selector is deprecated. Please use find_element(by=By.CSS_SELECTOR, value=css_selector) instead\n",
      "  game = driver.find_element_by_css_selector('#selectGameId')\n",
      "/tmp/ipykernel_11671/1732342239.py:25: DeprecationWarning: find_element_by_css_selector is deprecated. Please use find_element(by=By.CSS_SELECTOR, value=css_selector) instead\n",
      "  searchbutten = driver.find_element_by_css_selector('#btnSearch')\n"
     ]
    },
    {
     "output_type": "stream",
     "name": "stdout",
     "text": [
      "25R / 수원FC(H)\n"
     ]
    },
    {
     "output_type": "stream",
     "name": "stderr",
     "text": [
      "/tmp/ipykernel_11671/1732342239.py:22: DeprecationWarning: find_element_by_css_selector is deprecated. Please use find_element(by=By.CSS_SELECTOR, value=css_selector) instead\n",
      "  game = driver.find_element_by_css_selector('#selectGameId')\n",
      "/tmp/ipykernel_11671/1732342239.py:25: DeprecationWarning: find_element_by_css_selector is deprecated. Please use find_element(by=By.CSS_SELECTOR, value=css_selector) instead\n",
      "  searchbutten = driver.find_element_by_css_selector('#btnSearch')\n"
     ]
    },
    {
     "output_type": "stream",
     "name": "stdout",
     "text": [
      "26R / 서울E(H)\n"
     ]
    },
    {
     "output_type": "stream",
     "name": "stderr",
     "text": [
      "/tmp/ipykernel_11671/1732342239.py:22: DeprecationWarning: find_element_by_css_selector is deprecated. Please use find_element(by=By.CSS_SELECTOR, value=css_selector) instead\n",
      "  game = driver.find_element_by_css_selector('#selectGameId')\n",
      "/tmp/ipykernel_11671/1732342239.py:25: DeprecationWarning: find_element_by_css_selector is deprecated. Please use find_element(by=By.CSS_SELECTOR, value=css_selector) instead\n",
      "  searchbutten = driver.find_element_by_css_selector('#btnSearch')\n"
     ]
    },
    {
     "output_type": "stream",
     "name": "stdout",
     "text": [
      "27R / 충남아산(A)\n"
     ]
    },
    {
     "output_type": "stream",
     "name": "stderr",
     "text": [
      "/tmp/ipykernel_11671/1732342239.py:16: DeprecationWarning: find_element_by_css_selector is deprecated. Please use find_element(by=By.CSS_SELECTOR, value=css_selector) instead\n",
      "  teamsel = driver.find_element_by_css_selector('#selectTeamId')\n",
      "/tmp/ipykernel_11671/1732342239.py:19: DeprecationWarning: find_elements_by_css_selector is deprecated. Please use find_elements(by=By.CSS_SELECTOR, value=css_selector) instead\n",
      "  gamessel = driver.find_elements_by_css_selector('#selectGameId > option')\n",
      "/tmp/ipykernel_11671/1732342239.py:22: DeprecationWarning: find_element_by_css_selector is deprecated. Please use find_element(by=By.CSS_SELECTOR, value=css_selector) instead\n",
      "  game = driver.find_element_by_css_selector('#selectGameId')\n",
      "/tmp/ipykernel_11671/1732342239.py:25: DeprecationWarning: find_element_by_css_selector is deprecated. Please use find_element(by=By.CSS_SELECTOR, value=css_selector) instead\n",
      "  searchbutten = driver.find_element_by_css_selector('#btnSearch')\n"
     ]
    },
    {
     "output_type": "stream",
     "name": "stdout",
     "text": [
      "1R / 경남(A)\n"
     ]
    },
    {
     "output_type": "stream",
     "name": "stderr",
     "text": [
      "/tmp/ipykernel_11671/1732342239.py:22: DeprecationWarning: find_element_by_css_selector is deprecated. Please use find_element(by=By.CSS_SELECTOR, value=css_selector) instead\n",
      "  game = driver.find_element_by_css_selector('#selectGameId')\n",
      "/tmp/ipykernel_11671/1732342239.py:25: DeprecationWarning: find_element_by_css_selector is deprecated. Please use find_element(by=By.CSS_SELECTOR, value=css_selector) instead\n",
      "  searchbutten = driver.find_element_by_css_selector('#btnSearch')\n"
     ]
    },
    {
     "output_type": "stream",
     "name": "stdout",
     "text": [
      "2R / 제주(H)\n"
     ]
    },
    {
     "output_type": "stream",
     "name": "stderr",
     "text": [
      "/tmp/ipykernel_11671/1732342239.py:22: DeprecationWarning: find_element_by_css_selector is deprecated. Please use find_element(by=By.CSS_SELECTOR, value=css_selector) instead\n",
      "  game = driver.find_element_by_css_selector('#selectGameId')\n",
      "/tmp/ipykernel_11671/1732342239.py:25: DeprecationWarning: find_element_by_css_selector is deprecated. Please use find_element(by=By.CSS_SELECTOR, value=css_selector) instead\n",
      "  searchbutten = driver.find_element_by_css_selector('#btnSearch')\n"
     ]
    },
    {
     "output_type": "stream",
     "name": "stdout",
     "text": [
      "3R / 서울E(A)\n"
     ]
    },
    {
     "output_type": "stream",
     "name": "stderr",
     "text": [
      "/tmp/ipykernel_11671/1732342239.py:22: DeprecationWarning: find_element_by_css_selector is deprecated. Please use find_element(by=By.CSS_SELECTOR, value=css_selector) instead\n",
      "  game = driver.find_element_by_css_selector('#selectGameId')\n",
      "/tmp/ipykernel_11671/1732342239.py:25: DeprecationWarning: find_element_by_css_selector is deprecated. Please use find_element(by=By.CSS_SELECTOR, value=css_selector) instead\n",
      "  searchbutten = driver.find_element_by_css_selector('#btnSearch')\n"
     ]
    },
    {
     "output_type": "stream",
     "name": "stdout",
     "text": [
      "4R / 충남아산(H)\n"
     ]
    },
    {
     "output_type": "stream",
     "name": "stderr",
     "text": [
      "/tmp/ipykernel_11671/1732342239.py:22: DeprecationWarning: find_element_by_css_selector is deprecated. Please use find_element(by=By.CSS_SELECTOR, value=css_selector) instead\n",
      "  game = driver.find_element_by_css_selector('#selectGameId')\n",
      "/tmp/ipykernel_11671/1732342239.py:25: DeprecationWarning: find_element_by_css_selector is deprecated. Please use find_element(by=By.CSS_SELECTOR, value=css_selector) instead\n",
      "  searchbutten = driver.find_element_by_css_selector('#btnSearch')\n"
     ]
    },
    {
     "output_type": "stream",
     "name": "stdout",
     "text": [
      "5R / 안양(H)\n"
     ]
    },
    {
     "output_type": "stream",
     "name": "stderr",
     "text": [
      "/tmp/ipykernel_11671/1732342239.py:22: DeprecationWarning: find_element_by_css_selector is deprecated. Please use find_element(by=By.CSS_SELECTOR, value=css_selector) instead\n",
      "  game = driver.find_element_by_css_selector('#selectGameId')\n",
      "/tmp/ipykernel_11671/1732342239.py:25: DeprecationWarning: find_element_by_css_selector is deprecated. Please use find_element(by=By.CSS_SELECTOR, value=css_selector) instead\n",
      "  searchbutten = driver.find_element_by_css_selector('#btnSearch')\n"
     ]
    },
    {
     "output_type": "stream",
     "name": "stdout",
     "text": [
      "6R / 부천(A)\n"
     ]
    },
    {
     "output_type": "stream",
     "name": "stderr",
     "text": [
      "/tmp/ipykernel_11671/1732342239.py:22: DeprecationWarning: find_element_by_css_selector is deprecated. Please use find_element(by=By.CSS_SELECTOR, value=css_selector) instead\n",
      "  game = driver.find_element_by_css_selector('#selectGameId')\n",
      "/tmp/ipykernel_11671/1732342239.py:25: DeprecationWarning: find_element_by_css_selector is deprecated. Please use find_element(by=By.CSS_SELECTOR, value=css_selector) instead\n",
      "  searchbutten = driver.find_element_by_css_selector('#btnSearch')\n"
     ]
    },
    {
     "output_type": "stream",
     "name": "stdout",
     "text": [
      "7R / 대전(A)\n"
     ]
    },
    {
     "output_type": "stream",
     "name": "stderr",
     "text": [
      "/tmp/ipykernel_11671/1732342239.py:22: DeprecationWarning: find_element_by_css_selector is deprecated. Please use find_element(by=By.CSS_SELECTOR, value=css_selector) instead\n",
      "  game = driver.find_element_by_css_selector('#selectGameId')\n",
      "/tmp/ipykernel_11671/1732342239.py:25: DeprecationWarning: find_element_by_css_selector is deprecated. Please use find_element(by=By.CSS_SELECTOR, value=css_selector) instead\n",
      "  searchbutten = driver.find_element_by_css_selector('#btnSearch')\n"
     ]
    },
    {
     "output_type": "stream",
     "name": "stdout",
     "text": [
      "8R / 수원FC(H)\n"
     ]
    },
    {
     "output_type": "stream",
     "name": "stderr",
     "text": [
      "/tmp/ipykernel_11671/1732342239.py:22: DeprecationWarning: find_element_by_css_selector is deprecated. Please use find_element(by=By.CSS_SELECTOR, value=css_selector) instead\n",
      "  game = driver.find_element_by_css_selector('#selectGameId')\n",
      "/tmp/ipykernel_11671/1732342239.py:25: DeprecationWarning: find_element_by_css_selector is deprecated. Please use find_element(by=By.CSS_SELECTOR, value=css_selector) instead\n",
      "  searchbutten = driver.find_element_by_css_selector('#btnSearch')\n"
     ]
    },
    {
     "output_type": "stream",
     "name": "stdout",
     "text": [
      "9R / 안산(H)\n"
     ]
    },
    {
     "output_type": "stream",
     "name": "stderr",
     "text": [
      "/tmp/ipykernel_11671/1732342239.py:22: DeprecationWarning: find_element_by_css_selector is deprecated. Please use find_element(by=By.CSS_SELECTOR, value=css_selector) instead\n",
      "  game = driver.find_element_by_css_selector('#selectGameId')\n",
      "/tmp/ipykernel_11671/1732342239.py:25: DeprecationWarning: find_element_by_css_selector is deprecated. Please use find_element(by=By.CSS_SELECTOR, value=css_selector) instead\n",
      "  searchbutten = driver.find_element_by_css_selector('#btnSearch')\n"
     ]
    },
    {
     "output_type": "stream",
     "name": "stdout",
     "text": [
      "10R / 안양(A)\n"
     ]
    },
    {
     "output_type": "stream",
     "name": "stderr",
     "text": [
      "/tmp/ipykernel_11671/1732342239.py:22: DeprecationWarning: find_element_by_css_selector is deprecated. Please use find_element(by=By.CSS_SELECTOR, value=css_selector) instead\n",
      "  game = driver.find_element_by_css_selector('#selectGameId')\n",
      "/tmp/ipykernel_11671/1732342239.py:25: DeprecationWarning: find_element_by_css_selector is deprecated. Please use find_element(by=By.CSS_SELECTOR, value=css_selector) instead\n",
      "  searchbutten = driver.find_element_by_css_selector('#btnSearch')\n"
     ]
    },
    {
     "output_type": "stream",
     "name": "stdout",
     "text": [
      "11R / 부천(H)\n"
     ]
    },
    {
     "output_type": "stream",
     "name": "stderr",
     "text": [
      "/tmp/ipykernel_11671/1732342239.py:22: DeprecationWarning: find_element_by_css_selector is deprecated. Please use find_element(by=By.CSS_SELECTOR, value=css_selector) instead\n",
      "  game = driver.find_element_by_css_selector('#selectGameId')\n",
      "/tmp/ipykernel_11671/1732342239.py:25: DeprecationWarning: find_element_by_css_selector is deprecated. Please use find_element(by=By.CSS_SELECTOR, value=css_selector) instead\n",
      "  searchbutten = driver.find_element_by_css_selector('#btnSearch')\n"
     ]
    },
    {
     "output_type": "stream",
     "name": "stdout",
     "text": [
      "12R / 경남(H)\n"
     ]
    },
    {
     "output_type": "stream",
     "name": "stderr",
     "text": [
      "/tmp/ipykernel_11671/1732342239.py:22: DeprecationWarning: find_element_by_css_selector is deprecated. Please use find_element(by=By.CSS_SELECTOR, value=css_selector) instead\n",
      "  game = driver.find_element_by_css_selector('#selectGameId')\n",
      "/tmp/ipykernel_11671/1732342239.py:25: DeprecationWarning: find_element_by_css_selector is deprecated. Please use find_element(by=By.CSS_SELECTOR, value=css_selector) instead\n",
      "  searchbutten = driver.find_element_by_css_selector('#btnSearch')\n"
     ]
    },
    {
     "output_type": "stream",
     "name": "stdout",
     "text": [
      "13R / 제주(A)\n"
     ]
    },
    {
     "output_type": "stream",
     "name": "stderr",
     "text": [
      "/tmp/ipykernel_11671/1732342239.py:22: DeprecationWarning: find_element_by_css_selector is deprecated. Please use find_element(by=By.CSS_SELECTOR, value=css_selector) instead\n",
      "  game = driver.find_element_by_css_selector('#selectGameId')\n",
      "/tmp/ipykernel_11671/1732342239.py:25: DeprecationWarning: find_element_by_css_selector is deprecated. Please use find_element(by=By.CSS_SELECTOR, value=css_selector) instead\n",
      "  searchbutten = driver.find_element_by_css_selector('#btnSearch')\n"
     ]
    },
    {
     "output_type": "stream",
     "name": "stdout",
     "text": [
      "14R / 서울E(H)\n"
     ]
    },
    {
     "output_type": "stream",
     "name": "stderr",
     "text": [
      "/tmp/ipykernel_11671/1732342239.py:22: DeprecationWarning: find_element_by_css_selector is deprecated. Please use find_element(by=By.CSS_SELECTOR, value=css_selector) instead\n",
      "  game = driver.find_element_by_css_selector('#selectGameId')\n",
      "/tmp/ipykernel_11671/1732342239.py:25: DeprecationWarning: find_element_by_css_selector is deprecated. Please use find_element(by=By.CSS_SELECTOR, value=css_selector) instead\n",
      "  searchbutten = driver.find_element_by_css_selector('#btnSearch')\n"
     ]
    },
    {
     "output_type": "stream",
     "name": "stdout",
     "text": [
      "15R / 안산(A)\n"
     ]
    },
    {
     "output_type": "stream",
     "name": "stderr",
     "text": [
      "/tmp/ipykernel_11671/1732342239.py:22: DeprecationWarning: find_element_by_css_selector is deprecated. Please use find_element(by=By.CSS_SELECTOR, value=css_selector) instead\n",
      "  game = driver.find_element_by_css_selector('#selectGameId')\n",
      "/tmp/ipykernel_11671/1732342239.py:25: DeprecationWarning: find_element_by_css_selector is deprecated. Please use find_element(by=By.CSS_SELECTOR, value=css_selector) instead\n",
      "  searchbutten = driver.find_element_by_css_selector('#btnSearch')\n"
     ]
    },
    {
     "output_type": "stream",
     "name": "stdout",
     "text": [
      "16R / 충남아산(A)\n"
     ]
    },
    {
     "output_type": "stream",
     "name": "stderr",
     "text": [
      "/tmp/ipykernel_11671/1732342239.py:22: DeprecationWarning: find_element_by_css_selector is deprecated. Please use find_element(by=By.CSS_SELECTOR, value=css_selector) instead\n",
      "  game = driver.find_element_by_css_selector('#selectGameId')\n",
      "/tmp/ipykernel_11671/1732342239.py:25: DeprecationWarning: find_element_by_css_selector is deprecated. Please use find_element(by=By.CSS_SELECTOR, value=css_selector) instead\n",
      "  searchbutten = driver.find_element_by_css_selector('#btnSearch')\n"
     ]
    },
    {
     "output_type": "stream",
     "name": "stdout",
     "text": [
      "17R / 대전(H)\n"
     ]
    },
    {
     "output_type": "stream",
     "name": "stderr",
     "text": [
      "/tmp/ipykernel_11671/1732342239.py:22: DeprecationWarning: find_element_by_css_selector is deprecated. Please use find_element(by=By.CSS_SELECTOR, value=css_selector) instead\n",
      "  game = driver.find_element_by_css_selector('#selectGameId')\n",
      "/tmp/ipykernel_11671/1732342239.py:25: DeprecationWarning: find_element_by_css_selector is deprecated. Please use find_element(by=By.CSS_SELECTOR, value=css_selector) instead\n",
      "  searchbutten = driver.find_element_by_css_selector('#btnSearch')\n"
     ]
    },
    {
     "output_type": "stream",
     "name": "stdout",
     "text": [
      "18R / 수원FC(A)\n"
     ]
    },
    {
     "output_type": "stream",
     "name": "stderr",
     "text": [
      "/tmp/ipykernel_11671/1732342239.py:22: DeprecationWarning: find_element_by_css_selector is deprecated. Please use find_element(by=By.CSS_SELECTOR, value=css_selector) instead\n",
      "  game = driver.find_element_by_css_selector('#selectGameId')\n",
      "/tmp/ipykernel_11671/1732342239.py:25: DeprecationWarning: find_element_by_css_selector is deprecated. Please use find_element(by=By.CSS_SELECTOR, value=css_selector) instead\n",
      "  searchbutten = driver.find_element_by_css_selector('#btnSearch')\n"
     ]
    },
    {
     "output_type": "stream",
     "name": "stdout",
     "text": [
      "19R / 경남(H)\n"
     ]
    },
    {
     "output_type": "stream",
     "name": "stderr",
     "text": [
      "/tmp/ipykernel_11671/1732342239.py:22: DeprecationWarning: find_element_by_css_selector is deprecated. Please use find_element(by=By.CSS_SELECTOR, value=css_selector) instead\n",
      "  game = driver.find_element_by_css_selector('#selectGameId')\n",
      "/tmp/ipykernel_11671/1732342239.py:25: DeprecationWarning: find_element_by_css_selector is deprecated. Please use find_element(by=By.CSS_SELECTOR, value=css_selector) instead\n",
      "  searchbutten = driver.find_element_by_css_selector('#btnSearch')\n"
     ]
    },
    {
     "output_type": "stream",
     "name": "stdout",
     "text": [
      "20R / 안양(A)\n"
     ]
    },
    {
     "output_type": "stream",
     "name": "stderr",
     "text": [
      "/tmp/ipykernel_11671/1732342239.py:22: DeprecationWarning: find_element_by_css_selector is deprecated. Please use find_element(by=By.CSS_SELECTOR, value=css_selector) instead\n",
      "  game = driver.find_element_by_css_selector('#selectGameId')\n",
      "/tmp/ipykernel_11671/1732342239.py:25: DeprecationWarning: find_element_by_css_selector is deprecated. Please use find_element(by=By.CSS_SELECTOR, value=css_selector) instead\n",
      "  searchbutten = driver.find_element_by_css_selector('#btnSearch')\n"
     ]
    },
    {
     "output_type": "stream",
     "name": "stdout",
     "text": [
      "21R / 제주(H)\n"
     ]
    },
    {
     "output_type": "stream",
     "name": "stderr",
     "text": [
      "/tmp/ipykernel_11671/1732342239.py:22: DeprecationWarning: find_element_by_css_selector is deprecated. Please use find_element(by=By.CSS_SELECTOR, value=css_selector) instead\n",
      "  game = driver.find_element_by_css_selector('#selectGameId')\n",
      "/tmp/ipykernel_11671/1732342239.py:25: DeprecationWarning: find_element_by_css_selector is deprecated. Please use find_element(by=By.CSS_SELECTOR, value=css_selector) instead\n",
      "  searchbutten = driver.find_element_by_css_selector('#btnSearch')\n"
     ]
    },
    {
     "output_type": "stream",
     "name": "stdout",
     "text": [
      "22R / 부천(A)\n"
     ]
    },
    {
     "output_type": "stream",
     "name": "stderr",
     "text": [
      "/tmp/ipykernel_11671/1732342239.py:22: DeprecationWarning: find_element_by_css_selector is deprecated. Please use find_element(by=By.CSS_SELECTOR, value=css_selector) instead\n",
      "  game = driver.find_element_by_css_selector('#selectGameId')\n",
      "/tmp/ipykernel_11671/1732342239.py:25: DeprecationWarning: find_element_by_css_selector is deprecated. Please use find_element(by=By.CSS_SELECTOR, value=css_selector) instead\n",
      "  searchbutten = driver.find_element_by_css_selector('#btnSearch')\n"
     ]
    },
    {
     "output_type": "stream",
     "name": "stdout",
     "text": [
      "23R / 충남아산(H)\n"
     ]
    },
    {
     "output_type": "stream",
     "name": "stderr",
     "text": [
      "/tmp/ipykernel_11671/1732342239.py:22: DeprecationWarning: find_element_by_css_selector is deprecated. Please use find_element(by=By.CSS_SELECTOR, value=css_selector) instead\n",
      "  game = driver.find_element_by_css_selector('#selectGameId')\n",
      "/tmp/ipykernel_11671/1732342239.py:25: DeprecationWarning: find_element_by_css_selector is deprecated. Please use find_element(by=By.CSS_SELECTOR, value=css_selector) instead\n",
      "  searchbutten = driver.find_element_by_css_selector('#btnSearch')\n"
     ]
    },
    {
     "output_type": "stream",
     "name": "stdout",
     "text": [
      "24R / 수원FC(A)\n"
     ]
    },
    {
     "output_type": "stream",
     "name": "stderr",
     "text": [
      "/tmp/ipykernel_11671/1732342239.py:22: DeprecationWarning: find_element_by_css_selector is deprecated. Please use find_element(by=By.CSS_SELECTOR, value=css_selector) instead\n",
      "  game = driver.find_element_by_css_selector('#selectGameId')\n",
      "/tmp/ipykernel_11671/1732342239.py:25: DeprecationWarning: find_element_by_css_selector is deprecated. Please use find_element(by=By.CSS_SELECTOR, value=css_selector) instead\n",
      "  searchbutten = driver.find_element_by_css_selector('#btnSearch')\n"
     ]
    },
    {
     "output_type": "stream",
     "name": "stdout",
     "text": [
      "25R / 대전(H)\n"
     ]
    },
    {
     "output_type": "stream",
     "name": "stderr",
     "text": [
      "/tmp/ipykernel_11671/1732342239.py:22: DeprecationWarning: find_element_by_css_selector is deprecated. Please use find_element(by=By.CSS_SELECTOR, value=css_selector) instead\n",
      "  game = driver.find_element_by_css_selector('#selectGameId')\n",
      "/tmp/ipykernel_11671/1732342239.py:25: DeprecationWarning: find_element_by_css_selector is deprecated. Please use find_element(by=By.CSS_SELECTOR, value=css_selector) instead\n",
      "  searchbutten = driver.find_element_by_css_selector('#btnSearch')\n"
     ]
    },
    {
     "output_type": "stream",
     "name": "stdout",
     "text": [
      "26R / 안산(H)\n"
     ]
    },
    {
     "output_type": "stream",
     "name": "stderr",
     "text": [
      "/tmp/ipykernel_11671/1732342239.py:22: DeprecationWarning: find_element_by_css_selector is deprecated. Please use find_element(by=By.CSS_SELECTOR, value=css_selector) instead\n",
      "  game = driver.find_element_by_css_selector('#selectGameId')\n",
      "/tmp/ipykernel_11671/1732342239.py:25: DeprecationWarning: find_element_by_css_selector is deprecated. Please use find_element(by=By.CSS_SELECTOR, value=css_selector) instead\n",
      "  searchbutten = driver.find_element_by_css_selector('#btnSearch')\n"
     ]
    },
    {
     "output_type": "stream",
     "name": "stdout",
     "text": [
      "27R / 서울E(A)\n"
     ]
    },
    {
     "output_type": "stream",
     "name": "stderr",
     "text": [
      "/tmp/ipykernel_11671/1732342239.py:16: DeprecationWarning: find_element_by_css_selector is deprecated. Please use find_element(by=By.CSS_SELECTOR, value=css_selector) instead\n",
      "  teamsel = driver.find_element_by_css_selector('#selectTeamId')\n",
      "/tmp/ipykernel_11671/1732342239.py:19: DeprecationWarning: find_elements_by_css_selector is deprecated. Please use find_elements(by=By.CSS_SELECTOR, value=css_selector) instead\n",
      "  gamessel = driver.find_elements_by_css_selector('#selectGameId > option')\n",
      "/tmp/ipykernel_11671/1732342239.py:22: DeprecationWarning: find_element_by_css_selector is deprecated. Please use find_element(by=By.CSS_SELECTOR, value=css_selector) instead\n",
      "  game = driver.find_element_by_css_selector('#selectGameId')\n",
      "/tmp/ipykernel_11671/1732342239.py:25: DeprecationWarning: find_element_by_css_selector is deprecated. Please use find_element(by=By.CSS_SELECTOR, value=css_selector) instead\n",
      "  searchbutten = driver.find_element_by_css_selector('#btnSearch')\n"
     ]
    },
    {
     "output_type": "stream",
     "name": "stdout",
     "text": [
      "1R / 수원FC(A)\n"
     ]
    },
    {
     "output_type": "stream",
     "name": "stderr",
     "text": [
      "/tmp/ipykernel_11671/1732342239.py:22: DeprecationWarning: find_element_by_css_selector is deprecated. Please use find_element(by=By.CSS_SELECTOR, value=css_selector) instead\n",
      "  game = driver.find_element_by_css_selector('#selectGameId')\n",
      "/tmp/ipykernel_11671/1732342239.py:25: DeprecationWarning: find_element_by_css_selector is deprecated. Please use find_element(by=By.CSS_SELECTOR, value=css_selector) instead\n",
      "  searchbutten = driver.find_element_by_css_selector('#btnSearch')\n"
     ]
    },
    {
     "output_type": "stream",
     "name": "stdout",
     "text": [
      "2R / 충남아산(H)\n"
     ]
    },
    {
     "output_type": "stream",
     "name": "stderr",
     "text": [
      "/tmp/ipykernel_11671/1732342239.py:22: DeprecationWarning: find_element_by_css_selector is deprecated. Please use find_element(by=By.CSS_SELECTOR, value=css_selector) instead\n",
      "  game = driver.find_element_by_css_selector('#selectGameId')\n",
      "/tmp/ipykernel_11671/1732342239.py:25: DeprecationWarning: find_element_by_css_selector is deprecated. Please use find_element(by=By.CSS_SELECTOR, value=css_selector) instead\n",
      "  searchbutten = driver.find_element_by_css_selector('#btnSearch')\n"
     ]
    },
    {
     "output_type": "stream",
     "name": "stdout",
     "text": [
      "3R / 제주(A)\n"
     ]
    },
    {
     "output_type": "stream",
     "name": "stderr",
     "text": [
      "/tmp/ipykernel_11671/1732342239.py:22: DeprecationWarning: find_element_by_css_selector is deprecated. Please use find_element(by=By.CSS_SELECTOR, value=css_selector) instead\n",
      "  game = driver.find_element_by_css_selector('#selectGameId')\n",
      "/tmp/ipykernel_11671/1732342239.py:25: DeprecationWarning: find_element_by_css_selector is deprecated. Please use find_element(by=By.CSS_SELECTOR, value=css_selector) instead\n",
      "  searchbutten = driver.find_element_by_css_selector('#btnSearch')\n"
     ]
    },
    {
     "output_type": "stream",
     "name": "stdout",
     "text": [
      "4R / 안산(H)\n"
     ]
    },
    {
     "output_type": "stream",
     "name": "stderr",
     "text": [
      "/tmp/ipykernel_11671/1732342239.py:22: DeprecationWarning: find_element_by_css_selector is deprecated. Please use find_element(by=By.CSS_SELECTOR, value=css_selector) instead\n",
      "  game = driver.find_element_by_css_selector('#selectGameId')\n",
      "/tmp/ipykernel_11671/1732342239.py:25: DeprecationWarning: find_element_by_css_selector is deprecated. Please use find_element(by=By.CSS_SELECTOR, value=css_selector) instead\n",
      "  searchbutten = driver.find_element_by_css_selector('#btnSearch')\n"
     ]
    },
    {
     "output_type": "stream",
     "name": "stdout",
     "text": [
      "5R / 경남(A)\n"
     ]
    },
    {
     "output_type": "stream",
     "name": "stderr",
     "text": [
      "/tmp/ipykernel_11671/1732342239.py:22: DeprecationWarning: find_element_by_css_selector is deprecated. Please use find_element(by=By.CSS_SELECTOR, value=css_selector) instead\n",
      "  game = driver.find_element_by_css_selector('#selectGameId')\n",
      "/tmp/ipykernel_11671/1732342239.py:25: DeprecationWarning: find_element_by_css_selector is deprecated. Please use find_element(by=By.CSS_SELECTOR, value=css_selector) instead\n",
      "  searchbutten = driver.find_element_by_css_selector('#btnSearch')\n"
     ]
    },
    {
     "output_type": "stream",
     "name": "stdout",
     "text": [
      "6R / 서울E(A)\n"
     ]
    },
    {
     "output_type": "stream",
     "name": "stderr",
     "text": [
      "/tmp/ipykernel_11671/1732342239.py:22: DeprecationWarning: find_element_by_css_selector is deprecated. Please use find_element(by=By.CSS_SELECTOR, value=css_selector) instead\n",
      "  game = driver.find_element_by_css_selector('#selectGameId')\n",
      "/tmp/ipykernel_11671/1732342239.py:25: DeprecationWarning: find_element_by_css_selector is deprecated. Please use find_element(by=By.CSS_SELECTOR, value=css_selector) instead\n",
      "  searchbutten = driver.find_element_by_css_selector('#btnSearch')\n"
     ]
    },
    {
     "output_type": "stream",
     "name": "stdout",
     "text": [
      "7R / 전남(H)\n"
     ]
    },
    {
     "output_type": "stream",
     "name": "stderr",
     "text": [
      "/tmp/ipykernel_11671/1732342239.py:22: DeprecationWarning: find_element_by_css_selector is deprecated. Please use find_element(by=By.CSS_SELECTOR, value=css_selector) instead\n",
      "  game = driver.find_element_by_css_selector('#selectGameId')\n",
      "/tmp/ipykernel_11671/1732342239.py:25: DeprecationWarning: find_element_by_css_selector is deprecated. Please use find_element(by=By.CSS_SELECTOR, value=css_selector) instead\n",
      "  searchbutten = driver.find_element_by_css_selector('#btnSearch')\n"
     ]
    },
    {
     "output_type": "stream",
     "name": "stdout",
     "text": [
      "8R / 안양(H)\n"
     ]
    },
    {
     "output_type": "stream",
     "name": "stderr",
     "text": [
      "/tmp/ipykernel_11671/1732342239.py:22: DeprecationWarning: find_element_by_css_selector is deprecated. Please use find_element(by=By.CSS_SELECTOR, value=css_selector) instead\n",
      "  game = driver.find_element_by_css_selector('#selectGameId')\n",
      "/tmp/ipykernel_11671/1732342239.py:25: DeprecationWarning: find_element_by_css_selector is deprecated. Please use find_element(by=By.CSS_SELECTOR, value=css_selector) instead\n",
      "  searchbutten = driver.find_element_by_css_selector('#btnSearch')\n"
     ]
    },
    {
     "output_type": "stream",
     "name": "stdout",
     "text": [
      "9R / 부천(A)\n"
     ]
    },
    {
     "output_type": "stream",
     "name": "stderr",
     "text": [
      "/tmp/ipykernel_11671/1732342239.py:22: DeprecationWarning: find_element_by_css_selector is deprecated. Please use find_element(by=By.CSS_SELECTOR, value=css_selector) instead\n",
      "  game = driver.find_element_by_css_selector('#selectGameId')\n",
      "/tmp/ipykernel_11671/1732342239.py:25: DeprecationWarning: find_element_by_css_selector is deprecated. Please use find_element(by=By.CSS_SELECTOR, value=css_selector) instead\n",
      "  searchbutten = driver.find_element_by_css_selector('#btnSearch')\n"
     ]
    },
    {
     "output_type": "stream",
     "name": "stdout",
     "text": [
      "10R / 안산(A)\n"
     ]
    },
    {
     "output_type": "stream",
     "name": "stderr",
     "text": [
      "/tmp/ipykernel_11671/1732342239.py:22: DeprecationWarning: find_element_by_css_selector is deprecated. Please use find_element(by=By.CSS_SELECTOR, value=css_selector) instead\n",
      "  game = driver.find_element_by_css_selector('#selectGameId')\n",
      "/tmp/ipykernel_11671/1732342239.py:25: DeprecationWarning: find_element_by_css_selector is deprecated. Please use find_element(by=By.CSS_SELECTOR, value=css_selector) instead\n",
      "  searchbutten = driver.find_element_by_css_selector('#btnSearch')\n"
     ]
    },
    {
     "output_type": "stream",
     "name": "stdout",
     "text": [
      "11R / 수원FC(H)\n"
     ]
    },
    {
     "output_type": "stream",
     "name": "stderr",
     "text": [
      "/tmp/ipykernel_11671/1732342239.py:22: DeprecationWarning: find_element_by_css_selector is deprecated. Please use find_element(by=By.CSS_SELECTOR, value=css_selector) instead\n",
      "  game = driver.find_element_by_css_selector('#selectGameId')\n",
      "/tmp/ipykernel_11671/1732342239.py:25: DeprecationWarning: find_element_by_css_selector is deprecated. Please use find_element(by=By.CSS_SELECTOR, value=css_selector) instead\n",
      "  searchbutten = driver.find_element_by_css_selector('#btnSearch')\n"
     ]
    },
    {
     "output_type": "stream",
     "name": "stdout",
     "text": [
      "12R / 제주(H)\n"
     ]
    },
    {
     "output_type": "stream",
     "name": "stderr",
     "text": [
      "/tmp/ipykernel_11671/1732342239.py:22: DeprecationWarning: find_element_by_css_selector is deprecated. Please use find_element(by=By.CSS_SELECTOR, value=css_selector) instead\n",
      "  game = driver.find_element_by_css_selector('#selectGameId')\n",
      "/tmp/ipykernel_11671/1732342239.py:25: DeprecationWarning: find_element_by_css_selector is deprecated. Please use find_element(by=By.CSS_SELECTOR, value=css_selector) instead\n",
      "  searchbutten = driver.find_element_by_css_selector('#btnSearch')\n"
     ]
    },
    {
     "output_type": "stream",
     "name": "stdout",
     "text": [
      "13R / 충남아산(A)\n"
     ]
    },
    {
     "output_type": "stream",
     "name": "stderr",
     "text": [
      "/tmp/ipykernel_11671/1732342239.py:22: DeprecationWarning: find_element_by_css_selector is deprecated. Please use find_element(by=By.CSS_SELECTOR, value=css_selector) instead\n",
      "  game = driver.find_element_by_css_selector('#selectGameId')\n",
      "/tmp/ipykernel_11671/1732342239.py:25: DeprecationWarning: find_element_by_css_selector is deprecated. Please use find_element(by=By.CSS_SELECTOR, value=css_selector) instead\n",
      "  searchbutten = driver.find_element_by_css_selector('#btnSearch')\n"
     ]
    },
    {
     "output_type": "stream",
     "name": "stdout",
     "text": [
      "14R / 경남(H)\n"
     ]
    },
    {
     "output_type": "stream",
     "name": "stderr",
     "text": [
      "/tmp/ipykernel_11671/1732342239.py:22: DeprecationWarning: find_element_by_css_selector is deprecated. Please use find_element(by=By.CSS_SELECTOR, value=css_selector) instead\n",
      "  game = driver.find_element_by_css_selector('#selectGameId')\n",
      "/tmp/ipykernel_11671/1732342239.py:25: DeprecationWarning: find_element_by_css_selector is deprecated. Please use find_element(by=By.CSS_SELECTOR, value=css_selector) instead\n",
      "  searchbutten = driver.find_element_by_css_selector('#btnSearch')\n"
     ]
    },
    {
     "output_type": "stream",
     "name": "stdout",
     "text": [
      "15R / 서울E(H)\n"
     ]
    },
    {
     "output_type": "stream",
     "name": "stderr",
     "text": [
      "/tmp/ipykernel_11671/1732342239.py:22: DeprecationWarning: find_element_by_css_selector is deprecated. Please use find_element(by=By.CSS_SELECTOR, value=css_selector) instead\n",
      "  game = driver.find_element_by_css_selector('#selectGameId')\n",
      "/tmp/ipykernel_11671/1732342239.py:25: DeprecationWarning: find_element_by_css_selector is deprecated. Please use find_element(by=By.CSS_SELECTOR, value=css_selector) instead\n",
      "  searchbutten = driver.find_element_by_css_selector('#btnSearch')\n"
     ]
    },
    {
     "output_type": "stream",
     "name": "stdout",
     "text": [
      "16R / 안양(A)\n"
     ]
    },
    {
     "output_type": "stream",
     "name": "stderr",
     "text": [
      "/tmp/ipykernel_11671/1732342239.py:22: DeprecationWarning: find_element_by_css_selector is deprecated. Please use find_element(by=By.CSS_SELECTOR, value=css_selector) instead\n",
      "  game = driver.find_element_by_css_selector('#selectGameId')\n",
      "/tmp/ipykernel_11671/1732342239.py:25: DeprecationWarning: find_element_by_css_selector is deprecated. Please use find_element(by=By.CSS_SELECTOR, value=css_selector) instead\n",
      "  searchbutten = driver.find_element_by_css_selector('#btnSearch')\n"
     ]
    },
    {
     "output_type": "stream",
     "name": "stdout",
     "text": [
      "17R / 전남(A)\n"
     ]
    },
    {
     "output_type": "stream",
     "name": "stderr",
     "text": [
      "/tmp/ipykernel_11671/1732342239.py:22: DeprecationWarning: find_element_by_css_selector is deprecated. Please use find_element(by=By.CSS_SELECTOR, value=css_selector) instead\n",
      "  game = driver.find_element_by_css_selector('#selectGameId')\n",
      "/tmp/ipykernel_11671/1732342239.py:25: DeprecationWarning: find_element_by_css_selector is deprecated. Please use find_element(by=By.CSS_SELECTOR, value=css_selector) instead\n",
      "  searchbutten = driver.find_element_by_css_selector('#btnSearch')\n"
     ]
    },
    {
     "output_type": "stream",
     "name": "stdout",
     "text": [
      "18R / 부천(H)\n"
     ]
    },
    {
     "output_type": "stream",
     "name": "stderr",
     "text": [
      "/tmp/ipykernel_11671/1732342239.py:22: DeprecationWarning: find_element_by_css_selector is deprecated. Please use find_element(by=By.CSS_SELECTOR, value=css_selector) instead\n",
      "  game = driver.find_element_by_css_selector('#selectGameId')\n",
      "/tmp/ipykernel_11671/1732342239.py:25: DeprecationWarning: find_element_by_css_selector is deprecated. Please use find_element(by=By.CSS_SELECTOR, value=css_selector) instead\n",
      "  searchbutten = driver.find_element_by_css_selector('#btnSearch')\n"
     ]
    },
    {
     "output_type": "stream",
     "name": "stdout",
     "text": [
      "19R / 제주(A)\n"
     ]
    },
    {
     "output_type": "stream",
     "name": "stderr",
     "text": [
      "/tmp/ipykernel_11671/1732342239.py:22: DeprecationWarning: find_element_by_css_selector is deprecated. Please use find_element(by=By.CSS_SELECTOR, value=css_selector) instead\n",
      "  game = driver.find_element_by_css_selector('#selectGameId')\n",
      "/tmp/ipykernel_11671/1732342239.py:25: DeprecationWarning: find_element_by_css_selector is deprecated. Please use find_element(by=By.CSS_SELECTOR, value=css_selector) instead\n",
      "  searchbutten = driver.find_element_by_css_selector('#btnSearch')\n"
     ]
    },
    {
     "output_type": "stream",
     "name": "stdout",
     "text": [
      "20R / 서울E(H)\n"
     ]
    },
    {
     "output_type": "stream",
     "name": "stderr",
     "text": [
      "/tmp/ipykernel_11671/1732342239.py:22: DeprecationWarning: find_element_by_css_selector is deprecated. Please use find_element(by=By.CSS_SELECTOR, value=css_selector) instead\n",
      "  game = driver.find_element_by_css_selector('#selectGameId')\n",
      "/tmp/ipykernel_11671/1732342239.py:25: DeprecationWarning: find_element_by_css_selector is deprecated. Please use find_element(by=By.CSS_SELECTOR, value=css_selector) instead\n",
      "  searchbutten = driver.find_element_by_css_selector('#btnSearch')\n"
     ]
    },
    {
     "output_type": "stream",
     "name": "stdout",
     "text": [
      "21R / 안산(A)\n"
     ]
    },
    {
     "output_type": "stream",
     "name": "stderr",
     "text": [
      "/tmp/ipykernel_11671/1732342239.py:22: DeprecationWarning: find_element_by_css_selector is deprecated. Please use find_element(by=By.CSS_SELECTOR, value=css_selector) instead\n",
      "  game = driver.find_element_by_css_selector('#selectGameId')\n",
      "/tmp/ipykernel_11671/1732342239.py:25: DeprecationWarning: find_element_by_css_selector is deprecated. Please use find_element(by=By.CSS_SELECTOR, value=css_selector) instead\n",
      "  searchbutten = driver.find_element_by_css_selector('#btnSearch')\n"
     ]
    },
    {
     "output_type": "stream",
     "name": "stdout",
     "text": [
      "22R / 충남아산(A)\n"
     ]
    },
    {
     "output_type": "stream",
     "name": "stderr",
     "text": [
      "/tmp/ipykernel_11671/1732342239.py:22: DeprecationWarning: find_element_by_css_selector is deprecated. Please use find_element(by=By.CSS_SELECTOR, value=css_selector) instead\n",
      "  game = driver.find_element_by_css_selector('#selectGameId')\n",
      "/tmp/ipykernel_11671/1732342239.py:25: DeprecationWarning: find_element_by_css_selector is deprecated. Please use find_element(by=By.CSS_SELECTOR, value=css_selector) instead\n",
      "  searchbutten = driver.find_element_by_css_selector('#btnSearch')\n"
     ]
    },
    {
     "output_type": "stream",
     "name": "stdout",
     "text": [
      "23R / 수원FC(H)\n"
     ]
    },
    {
     "output_type": "stream",
     "name": "stderr",
     "text": [
      "/tmp/ipykernel_11671/1732342239.py:22: DeprecationWarning: find_element_by_css_selector is deprecated. Please use find_element(by=By.CSS_SELECTOR, value=css_selector) instead\n",
      "  game = driver.find_element_by_css_selector('#selectGameId')\n",
      "/tmp/ipykernel_11671/1732342239.py:25: DeprecationWarning: find_element_by_css_selector is deprecated. Please use find_element(by=By.CSS_SELECTOR, value=css_selector) instead\n",
      "  searchbutten = driver.find_element_by_css_selector('#btnSearch')\n"
     ]
    },
    {
     "output_type": "stream",
     "name": "stdout",
     "text": [
      "24R / 부천(H)\n"
     ]
    },
    {
     "output_type": "stream",
     "name": "stderr",
     "text": [
      "/tmp/ipykernel_11671/1732342239.py:22: DeprecationWarning: find_element_by_css_selector is deprecated. Please use find_element(by=By.CSS_SELECTOR, value=css_selector) instead\n",
      "  game = driver.find_element_by_css_selector('#selectGameId')\n",
      "/tmp/ipykernel_11671/1732342239.py:25: DeprecationWarning: find_element_by_css_selector is deprecated. Please use find_element(by=By.CSS_SELECTOR, value=css_selector) instead\n",
      "  searchbutten = driver.find_element_by_css_selector('#btnSearch')\n"
     ]
    },
    {
     "output_type": "stream",
     "name": "stdout",
     "text": [
      "25R / 전남(A)\n"
     ]
    },
    {
     "output_type": "stream",
     "name": "stderr",
     "text": [
      "/tmp/ipykernel_11671/1732342239.py:22: DeprecationWarning: find_element_by_css_selector is deprecated. Please use find_element(by=By.CSS_SELECTOR, value=css_selector) instead\n",
      "  game = driver.find_element_by_css_selector('#selectGameId')\n",
      "/tmp/ipykernel_11671/1732342239.py:25: DeprecationWarning: find_element_by_css_selector is deprecated. Please use find_element(by=By.CSS_SELECTOR, value=css_selector) instead\n",
      "  searchbutten = driver.find_element_by_css_selector('#btnSearch')\n"
     ]
    },
    {
     "output_type": "stream",
     "name": "stdout",
     "text": [
      "26R / 안양(H)\n"
     ]
    },
    {
     "output_type": "stream",
     "name": "stderr",
     "text": [
      "/tmp/ipykernel_11671/1732342239.py:22: DeprecationWarning: find_element_by_css_selector is deprecated. Please use find_element(by=By.CSS_SELECTOR, value=css_selector) instead\n",
      "  game = driver.find_element_by_css_selector('#selectGameId')\n",
      "/tmp/ipykernel_11671/1732342239.py:25: DeprecationWarning: find_element_by_css_selector is deprecated. Please use find_element(by=By.CSS_SELECTOR, value=css_selector) instead\n",
      "  searchbutten = driver.find_element_by_css_selector('#btnSearch')\n"
     ]
    },
    {
     "output_type": "stream",
     "name": "stdout",
     "text": [
      "27R / 경남(A)\n"
     ]
    },
    {
     "output_type": "stream",
     "name": "stderr",
     "text": [
      "/tmp/ipykernel_11671/1732342239.py:22: DeprecationWarning: find_element_by_css_selector is deprecated. Please use find_element(by=By.CSS_SELECTOR, value=css_selector) instead\n",
      "  game = driver.find_element_by_css_selector('#selectGameId')\n",
      "/tmp/ipykernel_11671/1732342239.py:25: DeprecationWarning: find_element_by_css_selector is deprecated. Please use find_element(by=By.CSS_SELECTOR, value=css_selector) instead\n",
      "  searchbutten = driver.find_element_by_css_selector('#btnSearch')\n"
     ]
    },
    {
     "output_type": "stream",
     "name": "stdout",
     "text": [
      "28R / 경남(A)\n"
     ]
    },
    {
     "output_type": "stream",
     "name": "stderr",
     "text": [
      "/tmp/ipykernel_11671/1732342239.py:16: DeprecationWarning: find_element_by_css_selector is deprecated. Please use find_element(by=By.CSS_SELECTOR, value=css_selector) instead\n",
      "  teamsel = driver.find_element_by_css_selector('#selectTeamId')\n",
      "/tmp/ipykernel_11671/1732342239.py:19: DeprecationWarning: find_elements_by_css_selector is deprecated. Please use find_elements(by=By.CSS_SELECTOR, value=css_selector) instead\n",
      "  gamessel = driver.find_elements_by_css_selector('#selectGameId > option')\n",
      "/tmp/ipykernel_11671/1732342239.py:22: DeprecationWarning: find_element_by_css_selector is deprecated. Please use find_element(by=By.CSS_SELECTOR, value=css_selector) instead\n",
      "  game = driver.find_element_by_css_selector('#selectGameId')\n",
      "/tmp/ipykernel_11671/1732342239.py:25: DeprecationWarning: find_element_by_css_selector is deprecated. Please use find_element(by=By.CSS_SELECTOR, value=css_selector) instead\n",
      "  searchbutten = driver.find_element_by_css_selector('#btnSearch')\n"
     ]
    },
    {
     "output_type": "stream",
     "name": "stdout",
     "text": [
      "1R / 전남(H)\n"
     ]
    },
    {
     "output_type": "stream",
     "name": "stderr",
     "text": [
      "/tmp/ipykernel_11671/1732342239.py:22: DeprecationWarning: find_element_by_css_selector is deprecated. Please use find_element(by=By.CSS_SELECTOR, value=css_selector) instead\n",
      "  game = driver.find_element_by_css_selector('#selectGameId')\n",
      "/tmp/ipykernel_11671/1732342239.py:25: DeprecationWarning: find_element_by_css_selector is deprecated. Please use find_element(by=By.CSS_SELECTOR, value=css_selector) instead\n",
      "  searchbutten = driver.find_element_by_css_selector('#btnSearch')\n"
     ]
    },
    {
     "output_type": "stream",
     "name": "stdout",
     "text": [
      "2R / 서울E(A)\n"
     ]
    },
    {
     "output_type": "stream",
     "name": "stderr",
     "text": [
      "/tmp/ipykernel_11671/1732342239.py:22: DeprecationWarning: find_element_by_css_selector is deprecated. Please use find_element(by=By.CSS_SELECTOR, value=css_selector) instead\n",
      "  game = driver.find_element_by_css_selector('#selectGameId')\n",
      "/tmp/ipykernel_11671/1732342239.py:25: DeprecationWarning: find_element_by_css_selector is deprecated. Please use find_element(by=By.CSS_SELECTOR, value=css_selector) instead\n",
      "  searchbutten = driver.find_element_by_css_selector('#btnSearch')\n"
     ]
    },
    {
     "output_type": "stream",
     "name": "stdout",
     "text": [
      "3R / 안양(A)\n"
     ]
    },
    {
     "output_type": "stream",
     "name": "stderr",
     "text": [
      "/tmp/ipykernel_11671/1732342239.py:22: DeprecationWarning: find_element_by_css_selector is deprecated. Please use find_element(by=By.CSS_SELECTOR, value=css_selector) instead\n",
      "  game = driver.find_element_by_css_selector('#selectGameId')\n",
      "/tmp/ipykernel_11671/1732342239.py:25: DeprecationWarning: find_element_by_css_selector is deprecated. Please use find_element(by=By.CSS_SELECTOR, value=css_selector) instead\n",
      "  searchbutten = driver.find_element_by_css_selector('#btnSearch')\n"
     ]
    },
    {
     "output_type": "stream",
     "name": "stdout",
     "text": [
      "4R / 수원FC(A)\n"
     ]
    },
    {
     "output_type": "stream",
     "name": "stderr",
     "text": [
      "/tmp/ipykernel_11671/1732342239.py:22: DeprecationWarning: find_element_by_css_selector is deprecated. Please use find_element(by=By.CSS_SELECTOR, value=css_selector) instead\n",
      "  game = driver.find_element_by_css_selector('#selectGameId')\n",
      "/tmp/ipykernel_11671/1732342239.py:25: DeprecationWarning: find_element_by_css_selector is deprecated. Please use find_element(by=By.CSS_SELECTOR, value=css_selector) instead\n",
      "  searchbutten = driver.find_element_by_css_selector('#btnSearch')\n"
     ]
    },
    {
     "output_type": "stream",
     "name": "stdout",
     "text": [
      "5R / 대전(H)\n"
     ]
    },
    {
     "output_type": "stream",
     "name": "stderr",
     "text": [
      "/tmp/ipykernel_11671/1732342239.py:22: DeprecationWarning: find_element_by_css_selector is deprecated. Please use find_element(by=By.CSS_SELECTOR, value=css_selector) instead\n",
      "  game = driver.find_element_by_css_selector('#selectGameId')\n",
      "/tmp/ipykernel_11671/1732342239.py:25: DeprecationWarning: find_element_by_css_selector is deprecated. Please use find_element(by=By.CSS_SELECTOR, value=css_selector) instead\n",
      "  searchbutten = driver.find_element_by_css_selector('#btnSearch')\n"
     ]
    },
    {
     "output_type": "stream",
     "name": "stdout",
     "text": [
      "6R / 안산(H)\n"
     ]
    },
    {
     "output_type": "stream",
     "name": "stderr",
     "text": [
      "/tmp/ipykernel_11671/1732342239.py:22: DeprecationWarning: find_element_by_css_selector is deprecated. Please use find_element(by=By.CSS_SELECTOR, value=css_selector) instead\n",
      "  game = driver.find_element_by_css_selector('#selectGameId')\n",
      "/tmp/ipykernel_11671/1732342239.py:25: DeprecationWarning: find_element_by_css_selector is deprecated. Please use find_element(by=By.CSS_SELECTOR, value=css_selector) instead\n",
      "  searchbutten = driver.find_element_by_css_selector('#btnSearch')\n"
     ]
    },
    {
     "output_type": "stream",
     "name": "stdout",
     "text": [
      "7R / 부천(H)\n"
     ]
    },
    {
     "output_type": "stream",
     "name": "stderr",
     "text": [
      "/tmp/ipykernel_11671/1732342239.py:22: DeprecationWarning: find_element_by_css_selector is deprecated. Please use find_element(by=By.CSS_SELECTOR, value=css_selector) instead\n",
      "  game = driver.find_element_by_css_selector('#selectGameId')\n",
      "/tmp/ipykernel_11671/1732342239.py:25: DeprecationWarning: find_element_by_css_selector is deprecated. Please use find_element(by=By.CSS_SELECTOR, value=css_selector) instead\n",
      "  searchbutten = driver.find_element_by_css_selector('#btnSearch')\n"
     ]
    },
    {
     "output_type": "stream",
     "name": "stdout",
     "text": [
      "8R / 제주(A)\n"
     ]
    },
    {
     "output_type": "stream",
     "name": "stderr",
     "text": [
      "/tmp/ipykernel_11671/1732342239.py:22: DeprecationWarning: find_element_by_css_selector is deprecated. Please use find_element(by=By.CSS_SELECTOR, value=css_selector) instead\n",
      "  game = driver.find_element_by_css_selector('#selectGameId')\n",
      "/tmp/ipykernel_11671/1732342239.py:25: DeprecationWarning: find_element_by_css_selector is deprecated. Please use find_element(by=By.CSS_SELECTOR, value=css_selector) instead\n",
      "  searchbutten = driver.find_element_by_css_selector('#btnSearch')\n"
     ]
    },
    {
     "output_type": "stream",
     "name": "stdout",
     "text": [
      "9R / 충남아산(A)\n"
     ]
    },
    {
     "output_type": "stream",
     "name": "stderr",
     "text": [
      "/tmp/ipykernel_11671/1732342239.py:22: DeprecationWarning: find_element_by_css_selector is deprecated. Please use find_element(by=By.CSS_SELECTOR, value=css_selector) instead\n",
      "  game = driver.find_element_by_css_selector('#selectGameId')\n",
      "/tmp/ipykernel_11671/1732342239.py:25: DeprecationWarning: find_element_by_css_selector is deprecated. Please use find_element(by=By.CSS_SELECTOR, value=css_selector) instead\n",
      "  searchbutten = driver.find_element_by_css_selector('#btnSearch')\n"
     ]
    },
    {
     "output_type": "stream",
     "name": "stdout",
     "text": [
      "10R / 서울E(H)\n"
     ]
    },
    {
     "output_type": "stream",
     "name": "stderr",
     "text": [
      "/tmp/ipykernel_11671/1732342239.py:22: DeprecationWarning: find_element_by_css_selector is deprecated. Please use find_element(by=By.CSS_SELECTOR, value=css_selector) instead\n",
      "  game = driver.find_element_by_css_selector('#selectGameId')\n",
      "/tmp/ipykernel_11671/1732342239.py:25: DeprecationWarning: find_element_by_css_selector is deprecated. Please use find_element(by=By.CSS_SELECTOR, value=css_selector) instead\n",
      "  searchbutten = driver.find_element_by_css_selector('#btnSearch')\n"
     ]
    },
    {
     "output_type": "stream",
     "name": "stdout",
     "text": [
      "11R / 안산(A)\n"
     ]
    },
    {
     "output_type": "stream",
     "name": "stderr",
     "text": [
      "/tmp/ipykernel_11671/1732342239.py:22: DeprecationWarning: find_element_by_css_selector is deprecated. Please use find_element(by=By.CSS_SELECTOR, value=css_selector) instead\n",
      "  game = driver.find_element_by_css_selector('#selectGameId')\n",
      "/tmp/ipykernel_11671/1732342239.py:25: DeprecationWarning: find_element_by_css_selector is deprecated. Please use find_element(by=By.CSS_SELECTOR, value=css_selector) instead\n",
      "  searchbutten = driver.find_element_by_css_selector('#btnSearch')\n"
     ]
    },
    {
     "output_type": "stream",
     "name": "stdout",
     "text": [
      "12R / 전남(A)\n"
     ]
    },
    {
     "output_type": "stream",
     "name": "stderr",
     "text": [
      "/tmp/ipykernel_11671/1732342239.py:22: DeprecationWarning: find_element_by_css_selector is deprecated. Please use find_element(by=By.CSS_SELECTOR, value=css_selector) instead\n",
      "  game = driver.find_element_by_css_selector('#selectGameId')\n",
      "/tmp/ipykernel_11671/1732342239.py:25: DeprecationWarning: find_element_by_css_selector is deprecated. Please use find_element(by=By.CSS_SELECTOR, value=css_selector) instead\n",
      "  searchbutten = driver.find_element_by_css_selector('#btnSearch')\n"
     ]
    },
    {
     "output_type": "stream",
     "name": "stdout",
     "text": [
      "13R / 안양(H)\n"
     ]
    },
    {
     "output_type": "stream",
     "name": "stderr",
     "text": [
      "/tmp/ipykernel_11671/1732342239.py:22: DeprecationWarning: find_element_by_css_selector is deprecated. Please use find_element(by=By.CSS_SELECTOR, value=css_selector) instead\n",
      "  game = driver.find_element_by_css_selector('#selectGameId')\n",
      "/tmp/ipykernel_11671/1732342239.py:25: DeprecationWarning: find_element_by_css_selector is deprecated. Please use find_element(by=By.CSS_SELECTOR, value=css_selector) instead\n",
      "  searchbutten = driver.find_element_by_css_selector('#btnSearch')\n"
     ]
    },
    {
     "output_type": "stream",
     "name": "stdout",
     "text": [
      "14R / 대전(A)\n"
     ]
    },
    {
     "output_type": "stream",
     "name": "stderr",
     "text": [
      "/tmp/ipykernel_11671/1732342239.py:22: DeprecationWarning: find_element_by_css_selector is deprecated. Please use find_element(by=By.CSS_SELECTOR, value=css_selector) instead\n",
      "  game = driver.find_element_by_css_selector('#selectGameId')\n",
      "/tmp/ipykernel_11671/1732342239.py:25: DeprecationWarning: find_element_by_css_selector is deprecated. Please use find_element(by=By.CSS_SELECTOR, value=css_selector) instead\n",
      "  searchbutten = driver.find_element_by_css_selector('#btnSearch')\n"
     ]
    },
    {
     "output_type": "stream",
     "name": "stdout",
     "text": [
      "15R / 충남아산(H)\n"
     ]
    },
    {
     "output_type": "stream",
     "name": "stderr",
     "text": [
      "/tmp/ipykernel_11671/1732342239.py:22: DeprecationWarning: find_element_by_css_selector is deprecated. Please use find_element(by=By.CSS_SELECTOR, value=css_selector) instead\n",
      "  game = driver.find_element_by_css_selector('#selectGameId')\n",
      "/tmp/ipykernel_11671/1732342239.py:25: DeprecationWarning: find_element_by_css_selector is deprecated. Please use find_element(by=By.CSS_SELECTOR, value=css_selector) instead\n",
      "  searchbutten = driver.find_element_by_css_selector('#btnSearch')\n"
     ]
    },
    {
     "output_type": "stream",
     "name": "stdout",
     "text": [
      "16R / 부천(A)\n"
     ]
    },
    {
     "output_type": "stream",
     "name": "stderr",
     "text": [
      "/tmp/ipykernel_11671/1732342239.py:22: DeprecationWarning: find_element_by_css_selector is deprecated. Please use find_element(by=By.CSS_SELECTOR, value=css_selector) instead\n",
      "  game = driver.find_element_by_css_selector('#selectGameId')\n",
      "/tmp/ipykernel_11671/1732342239.py:25: DeprecationWarning: find_element_by_css_selector is deprecated. Please use find_element(by=By.CSS_SELECTOR, value=css_selector) instead\n",
      "  searchbutten = driver.find_element_by_css_selector('#btnSearch')\n"
     ]
    },
    {
     "output_type": "stream",
     "name": "stdout",
     "text": [
      "17R / 수원FC(H)\n"
     ]
    },
    {
     "output_type": "stream",
     "name": "stderr",
     "text": [
      "/tmp/ipykernel_11671/1732342239.py:22: DeprecationWarning: find_element_by_css_selector is deprecated. Please use find_element(by=By.CSS_SELECTOR, value=css_selector) instead\n",
      "  game = driver.find_element_by_css_selector('#selectGameId')\n",
      "/tmp/ipykernel_11671/1732342239.py:25: DeprecationWarning: find_element_by_css_selector is deprecated. Please use find_element(by=By.CSS_SELECTOR, value=css_selector) instead\n",
      "  searchbutten = driver.find_element_by_css_selector('#btnSearch')\n"
     ]
    },
    {
     "output_type": "stream",
     "name": "stdout",
     "text": [
      "18R / 제주(H)\n"
     ]
    },
    {
     "output_type": "stream",
     "name": "stderr",
     "text": [
      "/tmp/ipykernel_11671/1732342239.py:22: DeprecationWarning: find_element_by_css_selector is deprecated. Please use find_element(by=By.CSS_SELECTOR, value=css_selector) instead\n",
      "  game = driver.find_element_by_css_selector('#selectGameId')\n",
      "/tmp/ipykernel_11671/1732342239.py:25: DeprecationWarning: find_element_by_css_selector is deprecated. Please use find_element(by=By.CSS_SELECTOR, value=css_selector) instead\n",
      "  searchbutten = driver.find_element_by_css_selector('#btnSearch')\n"
     ]
    },
    {
     "output_type": "stream",
     "name": "stdout",
     "text": [
      "19R / 전남(A)\n"
     ]
    },
    {
     "output_type": "stream",
     "name": "stderr",
     "text": [
      "/tmp/ipykernel_11671/1732342239.py:22: DeprecationWarning: find_element_by_css_selector is deprecated. Please use find_element(by=By.CSS_SELECTOR, value=css_selector) instead\n",
      "  game = driver.find_element_by_css_selector('#selectGameId')\n",
      "/tmp/ipykernel_11671/1732342239.py:25: DeprecationWarning: find_element_by_css_selector is deprecated. Please use find_element(by=By.CSS_SELECTOR, value=css_selector) instead\n",
      "  searchbutten = driver.find_element_by_css_selector('#btnSearch')\n"
     ]
    },
    {
     "output_type": "stream",
     "name": "stdout",
     "text": [
      "20R / 안산(H)\n"
     ]
    },
    {
     "output_type": "stream",
     "name": "stderr",
     "text": [
      "/tmp/ipykernel_11671/1732342239.py:22: DeprecationWarning: find_element_by_css_selector is deprecated. Please use find_element(by=By.CSS_SELECTOR, value=css_selector) instead\n",
      "  game = driver.find_element_by_css_selector('#selectGameId')\n",
      "/tmp/ipykernel_11671/1732342239.py:25: DeprecationWarning: find_element_by_css_selector is deprecated. Please use find_element(by=By.CSS_SELECTOR, value=css_selector) instead\n",
      "  searchbutten = driver.find_element_by_css_selector('#btnSearch')\n"
     ]
    },
    {
     "output_type": "stream",
     "name": "stdout",
     "text": [
      "21R / 충남아산(H)\n"
     ]
    },
    {
     "output_type": "stream",
     "name": "stderr",
     "text": [
      "/tmp/ipykernel_11671/1732342239.py:22: DeprecationWarning: find_element_by_css_selector is deprecated. Please use find_element(by=By.CSS_SELECTOR, value=css_selector) instead\n",
      "  game = driver.find_element_by_css_selector('#selectGameId')\n",
      "/tmp/ipykernel_11671/1732342239.py:25: DeprecationWarning: find_element_by_css_selector is deprecated. Please use find_element(by=By.CSS_SELECTOR, value=css_selector) instead\n",
      "  searchbutten = driver.find_element_by_css_selector('#btnSearch')\n"
     ]
    },
    {
     "output_type": "stream",
     "name": "stdout",
     "text": [
      "22R / 서울E(A)\n"
     ]
    },
    {
     "output_type": "stream",
     "name": "stderr",
     "text": [
      "/tmp/ipykernel_11671/1732342239.py:22: DeprecationWarning: find_element_by_css_selector is deprecated. Please use find_element(by=By.CSS_SELECTOR, value=css_selector) instead\n",
      "  game = driver.find_element_by_css_selector('#selectGameId')\n",
      "/tmp/ipykernel_11671/1732342239.py:25: DeprecationWarning: find_element_by_css_selector is deprecated. Please use find_element(by=By.CSS_SELECTOR, value=css_selector) instead\n",
      "  searchbutten = driver.find_element_by_css_selector('#btnSearch')\n"
     ]
    },
    {
     "output_type": "stream",
     "name": "stdout",
     "text": [
      "23R / 안양(H)\n"
     ]
    },
    {
     "output_type": "stream",
     "name": "stderr",
     "text": [
      "/tmp/ipykernel_11671/1732342239.py:22: DeprecationWarning: find_element_by_css_selector is deprecated. Please use find_element(by=By.CSS_SELECTOR, value=css_selector) instead\n",
      "  game = driver.find_element_by_css_selector('#selectGameId')\n",
      "/tmp/ipykernel_11671/1732342239.py:25: DeprecationWarning: find_element_by_css_selector is deprecated. Please use find_element(by=By.CSS_SELECTOR, value=css_selector) instead\n",
      "  searchbutten = driver.find_element_by_css_selector('#btnSearch')\n"
     ]
    },
    {
     "output_type": "stream",
     "name": "stdout",
     "text": [
      "24R / 제주(H)\n"
     ]
    },
    {
     "output_type": "stream",
     "name": "stderr",
     "text": [
      "/tmp/ipykernel_11671/1732342239.py:22: DeprecationWarning: find_element_by_css_selector is deprecated. Please use find_element(by=By.CSS_SELECTOR, value=css_selector) instead\n",
      "  game = driver.find_element_by_css_selector('#selectGameId')\n",
      "/tmp/ipykernel_11671/1732342239.py:25: DeprecationWarning: find_element_by_css_selector is deprecated. Please use find_element(by=By.CSS_SELECTOR, value=css_selector) instead\n",
      "  searchbutten = driver.find_element_by_css_selector('#btnSearch')\n"
     ]
    },
    {
     "output_type": "stream",
     "name": "stdout",
     "text": [
      "25R / 부천(A)\n"
     ]
    },
    {
     "output_type": "stream",
     "name": "stderr",
     "text": [
      "/tmp/ipykernel_11671/1732342239.py:22: DeprecationWarning: find_element_by_css_selector is deprecated. Please use find_element(by=By.CSS_SELECTOR, value=css_selector) instead\n",
      "  game = driver.find_element_by_css_selector('#selectGameId')\n",
      "/tmp/ipykernel_11671/1732342239.py:25: DeprecationWarning: find_element_by_css_selector is deprecated. Please use find_element(by=By.CSS_SELECTOR, value=css_selector) instead\n",
      "  searchbutten = driver.find_element_by_css_selector('#btnSearch')\n"
     ]
    },
    {
     "output_type": "stream",
     "name": "stdout",
     "text": [
      "26R / 수원FC(A)\n"
     ]
    },
    {
     "output_type": "stream",
     "name": "stderr",
     "text": [
      "/tmp/ipykernel_11671/1732342239.py:22: DeprecationWarning: find_element_by_css_selector is deprecated. Please use find_element(by=By.CSS_SELECTOR, value=css_selector) instead\n",
      "  game = driver.find_element_by_css_selector('#selectGameId')\n",
      "/tmp/ipykernel_11671/1732342239.py:25: DeprecationWarning: find_element_by_css_selector is deprecated. Please use find_element(by=By.CSS_SELECTOR, value=css_selector) instead\n",
      "  searchbutten = driver.find_element_by_css_selector('#btnSearch')\n"
     ]
    },
    {
     "output_type": "stream",
     "name": "stdout",
     "text": [
      "27R / 대전(H)\n"
     ]
    },
    {
     "output_type": "stream",
     "name": "stderr",
     "text": [
      "/tmp/ipykernel_11671/1732342239.py:22: DeprecationWarning: find_element_by_css_selector is deprecated. Please use find_element(by=By.CSS_SELECTOR, value=css_selector) instead\n",
      "  game = driver.find_element_by_css_selector('#selectGameId')\n",
      "/tmp/ipykernel_11671/1732342239.py:25: DeprecationWarning: find_element_by_css_selector is deprecated. Please use find_element(by=By.CSS_SELECTOR, value=css_selector) instead\n",
      "  searchbutten = driver.find_element_by_css_selector('#btnSearch')\n"
     ]
    },
    {
     "output_type": "stream",
     "name": "stdout",
     "text": [
      "28R / 대전(H)\n"
     ]
    },
    {
     "output_type": "stream",
     "name": "stderr",
     "text": [
      "/tmp/ipykernel_11671/1732342239.py:22: DeprecationWarning: find_element_by_css_selector is deprecated. Please use find_element(by=By.CSS_SELECTOR, value=css_selector) instead\n",
      "  game = driver.find_element_by_css_selector('#selectGameId')\n",
      "/tmp/ipykernel_11671/1732342239.py:25: DeprecationWarning: find_element_by_css_selector is deprecated. Please use find_element(by=By.CSS_SELECTOR, value=css_selector) instead\n",
      "  searchbutten = driver.find_element_by_css_selector('#btnSearch')\n"
     ]
    },
    {
     "output_type": "stream",
     "name": "stdout",
     "text": [
      "29R / 수원FC(A)\n"
     ]
    },
    {
     "output_type": "stream",
     "name": "stderr",
     "text": [
      "/tmp/ipykernel_11671/1732342239.py:16: DeprecationWarning: find_element_by_css_selector is deprecated. Please use find_element(by=By.CSS_SELECTOR, value=css_selector) instead\n",
      "  teamsel = driver.find_element_by_css_selector('#selectTeamId')\n",
      "/tmp/ipykernel_11671/1732342239.py:19: DeprecationWarning: find_elements_by_css_selector is deprecated. Please use find_elements(by=By.CSS_SELECTOR, value=css_selector) instead\n",
      "  gamessel = driver.find_elements_by_css_selector('#selectGameId > option')\n",
      "/tmp/ipykernel_11671/1732342239.py:22: DeprecationWarning: find_element_by_css_selector is deprecated. Please use find_element(by=By.CSS_SELECTOR, value=css_selector) instead\n",
      "  game = driver.find_element_by_css_selector('#selectGameId')\n",
      "/tmp/ipykernel_11671/1732342239.py:25: DeprecationWarning: find_element_by_css_selector is deprecated. Please use find_element(by=By.CSS_SELECTOR, value=css_selector) instead\n",
      "  searchbutten = driver.find_element_by_css_selector('#btnSearch')\n"
     ]
    },
    {
     "output_type": "stream",
     "name": "stdout",
     "text": [
      "1R / 충남아산(A)\n"
     ]
    },
    {
     "output_type": "stream",
     "name": "stderr",
     "text": [
      "/tmp/ipykernel_11671/1732342239.py:22: DeprecationWarning: find_element_by_css_selector is deprecated. Please use find_element(by=By.CSS_SELECTOR, value=css_selector) instead\n",
      "  game = driver.find_element_by_css_selector('#selectGameId')\n",
      "/tmp/ipykernel_11671/1732342239.py:25: DeprecationWarning: find_element_by_css_selector is deprecated. Please use find_element(by=By.CSS_SELECTOR, value=css_selector) instead\n",
      "  searchbutten = driver.find_element_by_css_selector('#btnSearch')\n"
     ]
    },
    {
     "output_type": "stream",
     "name": "stdout",
     "text": [
      "2R / 안양(H)\n"
     ]
    },
    {
     "output_type": "stream",
     "name": "stderr",
     "text": [
      "/tmp/ipykernel_11671/1732342239.py:22: DeprecationWarning: find_element_by_css_selector is deprecated. Please use find_element(by=By.CSS_SELECTOR, value=css_selector) instead\n",
      "  game = driver.find_element_by_css_selector('#selectGameId')\n",
      "/tmp/ipykernel_11671/1732342239.py:25: DeprecationWarning: find_element_by_css_selector is deprecated. Please use find_element(by=By.CSS_SELECTOR, value=css_selector) instead\n",
      "  searchbutten = driver.find_element_by_css_selector('#btnSearch')\n"
     ]
    },
    {
     "output_type": "stream",
     "name": "stdout",
     "text": [
      "3R / 안산(A)\n"
     ]
    },
    {
     "output_type": "stream",
     "name": "stderr",
     "text": [
      "/tmp/ipykernel_11671/1732342239.py:22: DeprecationWarning: find_element_by_css_selector is deprecated. Please use find_element(by=By.CSS_SELECTOR, value=css_selector) instead\n",
      "  game = driver.find_element_by_css_selector('#selectGameId')\n",
      "/tmp/ipykernel_11671/1732342239.py:25: DeprecationWarning: find_element_by_css_selector is deprecated. Please use find_element(by=By.CSS_SELECTOR, value=css_selector) instead\n",
      "  searchbutten = driver.find_element_by_css_selector('#btnSearch')\n"
     ]
    },
    {
     "output_type": "stream",
     "name": "stdout",
     "text": [
      "4R / 제주(H)\n"
     ]
    },
    {
     "output_type": "stream",
     "name": "stderr",
     "text": [
      "/tmp/ipykernel_11671/1732342239.py:22: DeprecationWarning: find_element_by_css_selector is deprecated. Please use find_element(by=By.CSS_SELECTOR, value=css_selector) instead\n",
      "  game = driver.find_element_by_css_selector('#selectGameId')\n",
      "/tmp/ipykernel_11671/1732342239.py:25: DeprecationWarning: find_element_by_css_selector is deprecated. Please use find_element(by=By.CSS_SELECTOR, value=css_selector) instead\n",
      "  searchbutten = driver.find_element_by_css_selector('#btnSearch')\n"
     ]
    },
    {
     "output_type": "stream",
     "name": "stdout",
     "text": [
      "5R / 수원FC(A)\n"
     ]
    },
    {
     "output_type": "stream",
     "name": "stderr",
     "text": [
      "/tmp/ipykernel_11671/1732342239.py:22: DeprecationWarning: find_element_by_css_selector is deprecated. Please use find_element(by=By.CSS_SELECTOR, value=css_selector) instead\n",
      "  game = driver.find_element_by_css_selector('#selectGameId')\n",
      "/tmp/ipykernel_11671/1732342239.py:25: DeprecationWarning: find_element_by_css_selector is deprecated. Please use find_element(by=By.CSS_SELECTOR, value=css_selector) instead\n",
      "  searchbutten = driver.find_element_by_css_selector('#btnSearch')\n"
     ]
    },
    {
     "output_type": "stream",
     "name": "stdout",
     "text": [
      "6R / 전남(H)\n"
     ]
    },
    {
     "output_type": "stream",
     "name": "stderr",
     "text": [
      "/tmp/ipykernel_11671/1732342239.py:22: DeprecationWarning: find_element_by_css_selector is deprecated. Please use find_element(by=By.CSS_SELECTOR, value=css_selector) instead\n",
      "  game = driver.find_element_by_css_selector('#selectGameId')\n",
      "/tmp/ipykernel_11671/1732342239.py:25: DeprecationWarning: find_element_by_css_selector is deprecated. Please use find_element(by=By.CSS_SELECTOR, value=css_selector) instead\n",
      "  searchbutten = driver.find_element_by_css_selector('#btnSearch')\n"
     ]
    },
    {
     "output_type": "stream",
     "name": "stdout",
     "text": [
      "7R / 경남(A)\n"
     ]
    },
    {
     "output_type": "stream",
     "name": "stderr",
     "text": [
      "/tmp/ipykernel_11671/1732342239.py:22: DeprecationWarning: find_element_by_css_selector is deprecated. Please use find_element(by=By.CSS_SELECTOR, value=css_selector) instead\n",
      "  game = driver.find_element_by_css_selector('#selectGameId')\n",
      "/tmp/ipykernel_11671/1732342239.py:25: DeprecationWarning: find_element_by_css_selector is deprecated. Please use find_element(by=By.CSS_SELECTOR, value=css_selector) instead\n",
      "  searchbutten = driver.find_element_by_css_selector('#btnSearch')\n"
     ]
    },
    {
     "output_type": "stream",
     "name": "stdout",
     "text": [
      "8R / 서울E(H)\n"
     ]
    },
    {
     "output_type": "stream",
     "name": "stderr",
     "text": [
      "/tmp/ipykernel_11671/1732342239.py:22: DeprecationWarning: find_element_by_css_selector is deprecated. Please use find_element(by=By.CSS_SELECTOR, value=css_selector) instead\n",
      "  game = driver.find_element_by_css_selector('#selectGameId')\n",
      "/tmp/ipykernel_11671/1732342239.py:25: DeprecationWarning: find_element_by_css_selector is deprecated. Please use find_element(by=By.CSS_SELECTOR, value=css_selector) instead\n",
      "  searchbutten = driver.find_element_by_css_selector('#btnSearch')\n"
     ]
    },
    {
     "output_type": "stream",
     "name": "stdout",
     "text": [
      "9R / 대전(H)\n"
     ]
    },
    {
     "output_type": "stream",
     "name": "stderr",
     "text": [
      "/tmp/ipykernel_11671/1732342239.py:22: DeprecationWarning: find_element_by_css_selector is deprecated. Please use find_element(by=By.CSS_SELECTOR, value=css_selector) instead\n",
      "  game = driver.find_element_by_css_selector('#selectGameId')\n",
      "/tmp/ipykernel_11671/1732342239.py:25: DeprecationWarning: find_element_by_css_selector is deprecated. Please use find_element(by=By.CSS_SELECTOR, value=css_selector) instead\n",
      "  searchbutten = driver.find_element_by_css_selector('#btnSearch')\n"
     ]
    },
    {
     "output_type": "stream",
     "name": "stdout",
     "text": [
      "10R / 제주(A)\n"
     ]
    },
    {
     "output_type": "stream",
     "name": "stderr",
     "text": [
      "/tmp/ipykernel_11671/1732342239.py:22: DeprecationWarning: find_element_by_css_selector is deprecated. Please use find_element(by=By.CSS_SELECTOR, value=css_selector) instead\n",
      "  game = driver.find_element_by_css_selector('#selectGameId')\n",
      "/tmp/ipykernel_11671/1732342239.py:25: DeprecationWarning: find_element_by_css_selector is deprecated. Please use find_element(by=By.CSS_SELECTOR, value=css_selector) instead\n",
      "  searchbutten = driver.find_element_by_css_selector('#btnSearch')\n"
     ]
    },
    {
     "output_type": "stream",
     "name": "stdout",
     "text": [
      "11R / 전남(A)\n"
     ]
    },
    {
     "output_type": "stream",
     "name": "stderr",
     "text": [
      "/tmp/ipykernel_11671/1732342239.py:22: DeprecationWarning: find_element_by_css_selector is deprecated. Please use find_element(by=By.CSS_SELECTOR, value=css_selector) instead\n",
      "  game = driver.find_element_by_css_selector('#selectGameId')\n",
      "/tmp/ipykernel_11671/1732342239.py:25: DeprecationWarning: find_element_by_css_selector is deprecated. Please use find_element(by=By.CSS_SELECTOR, value=css_selector) instead\n",
      "  searchbutten = driver.find_element_by_css_selector('#btnSearch')\n"
     ]
    },
    {
     "output_type": "stream",
     "name": "stdout",
     "text": [
      "12R / 안산(H)\n"
     ]
    },
    {
     "output_type": "stream",
     "name": "stderr",
     "text": [
      "/tmp/ipykernel_11671/1732342239.py:22: DeprecationWarning: find_element_by_css_selector is deprecated. Please use find_element(by=By.CSS_SELECTOR, value=css_selector) instead\n",
      "  game = driver.find_element_by_css_selector('#selectGameId')\n",
      "/tmp/ipykernel_11671/1732342239.py:25: DeprecationWarning: find_element_by_css_selector is deprecated. Please use find_element(by=By.CSS_SELECTOR, value=css_selector) instead\n",
      "  searchbutten = driver.find_element_by_css_selector('#btnSearch')\n"
     ]
    },
    {
     "output_type": "stream",
     "name": "stdout",
     "text": [
      "13R / 서울E(A)\n"
     ]
    },
    {
     "output_type": "stream",
     "name": "stderr",
     "text": [
      "/tmp/ipykernel_11671/1732342239.py:22: DeprecationWarning: find_element_by_css_selector is deprecated. Please use find_element(by=By.CSS_SELECTOR, value=css_selector) instead\n",
      "  game = driver.find_element_by_css_selector('#selectGameId')\n",
      "/tmp/ipykernel_11671/1732342239.py:25: DeprecationWarning: find_element_by_css_selector is deprecated. Please use find_element(by=By.CSS_SELECTOR, value=css_selector) instead\n",
      "  searchbutten = driver.find_element_by_css_selector('#btnSearch')\n"
     ]
    },
    {
     "output_type": "stream",
     "name": "stdout",
     "text": [
      "14R / 수원FC(H)\n"
     ]
    },
    {
     "output_type": "stream",
     "name": "stderr",
     "text": [
      "/tmp/ipykernel_11671/1732342239.py:22: DeprecationWarning: find_element_by_css_selector is deprecated. Please use find_element(by=By.CSS_SELECTOR, value=css_selector) instead\n",
      "  game = driver.find_element_by_css_selector('#selectGameId')\n",
      "/tmp/ipykernel_11671/1732342239.py:25: DeprecationWarning: find_element_by_css_selector is deprecated. Please use find_element(by=By.CSS_SELECTOR, value=css_selector) instead\n",
      "  searchbutten = driver.find_element_by_css_selector('#btnSearch')\n"
     ]
    },
    {
     "output_type": "stream",
     "name": "stdout",
     "text": [
      "15R / 안양(A)\n"
     ]
    },
    {
     "output_type": "stream",
     "name": "stderr",
     "text": [
      "/tmp/ipykernel_11671/1732342239.py:22: DeprecationWarning: find_element_by_css_selector is deprecated. Please use find_element(by=By.CSS_SELECTOR, value=css_selector) instead\n",
      "  game = driver.find_element_by_css_selector('#selectGameId')\n",
      "/tmp/ipykernel_11671/1732342239.py:25: DeprecationWarning: find_element_by_css_selector is deprecated. Please use find_element(by=By.CSS_SELECTOR, value=css_selector) instead\n",
      "  searchbutten = driver.find_element_by_css_selector('#btnSearch')\n"
     ]
    },
    {
     "output_type": "stream",
     "name": "stdout",
     "text": [
      "16R / 경남(H)\n"
     ]
    },
    {
     "output_type": "stream",
     "name": "stderr",
     "text": [
      "/tmp/ipykernel_11671/1732342239.py:22: DeprecationWarning: find_element_by_css_selector is deprecated. Please use find_element(by=By.CSS_SELECTOR, value=css_selector) instead\n",
      "  game = driver.find_element_by_css_selector('#selectGameId')\n",
      "/tmp/ipykernel_11671/1732342239.py:25: DeprecationWarning: find_element_by_css_selector is deprecated. Please use find_element(by=By.CSS_SELECTOR, value=css_selector) instead\n",
      "  searchbutten = driver.find_element_by_css_selector('#btnSearch')\n"
     ]
    },
    {
     "output_type": "stream",
     "name": "stdout",
     "text": [
      "17R / 충남아산(H)\n"
     ]
    },
    {
     "output_type": "stream",
     "name": "stderr",
     "text": [
      "/tmp/ipykernel_11671/1732342239.py:22: DeprecationWarning: find_element_by_css_selector is deprecated. Please use find_element(by=By.CSS_SELECTOR, value=css_selector) instead\n",
      "  game = driver.find_element_by_css_selector('#selectGameId')\n",
      "/tmp/ipykernel_11671/1732342239.py:25: DeprecationWarning: find_element_by_css_selector is deprecated. Please use find_element(by=By.CSS_SELECTOR, value=css_selector) instead\n",
      "  searchbutten = driver.find_element_by_css_selector('#btnSearch')\n"
     ]
    },
    {
     "output_type": "stream",
     "name": "stdout",
     "text": [
      "18R / 대전(A)\n"
     ]
    },
    {
     "output_type": "stream",
     "name": "stderr",
     "text": [
      "/tmp/ipykernel_11671/1732342239.py:22: DeprecationWarning: find_element_by_css_selector is deprecated. Please use find_element(by=By.CSS_SELECTOR, value=css_selector) instead\n",
      "  game = driver.find_element_by_css_selector('#selectGameId')\n",
      "/tmp/ipykernel_11671/1732342239.py:25: DeprecationWarning: find_element_by_css_selector is deprecated. Please use find_element(by=By.CSS_SELECTOR, value=css_selector) instead\n",
      "  searchbutten = driver.find_element_by_css_selector('#btnSearch')\n"
     ]
    },
    {
     "output_type": "stream",
     "name": "stdout",
     "text": [
      "19R / 수원FC(A)\n"
     ]
    },
    {
     "output_type": "stream",
     "name": "stderr",
     "text": [
      "/tmp/ipykernel_11671/1732342239.py:22: DeprecationWarning: find_element_by_css_selector is deprecated. Please use find_element(by=By.CSS_SELECTOR, value=css_selector) instead\n",
      "  game = driver.find_element_by_css_selector('#selectGameId')\n",
      "/tmp/ipykernel_11671/1732342239.py:25: DeprecationWarning: find_element_by_css_selector is deprecated. Please use find_element(by=By.CSS_SELECTOR, value=css_selector) instead\n",
      "  searchbutten = driver.find_element_by_css_selector('#btnSearch')\n"
     ]
    },
    {
     "output_type": "stream",
     "name": "stdout",
     "text": [
      "20R / 제주(H)\n"
     ]
    },
    {
     "output_type": "stream",
     "name": "stderr",
     "text": [
      "/tmp/ipykernel_11671/1732342239.py:22: DeprecationWarning: find_element_by_css_selector is deprecated. Please use find_element(by=By.CSS_SELECTOR, value=css_selector) instead\n",
      "  game = driver.find_element_by_css_selector('#selectGameId')\n",
      "/tmp/ipykernel_11671/1732342239.py:25: DeprecationWarning: find_element_by_css_selector is deprecated. Please use find_element(by=By.CSS_SELECTOR, value=css_selector) instead\n",
      "  searchbutten = driver.find_element_by_css_selector('#btnSearch')\n"
     ]
    },
    {
     "output_type": "stream",
     "name": "stdout",
     "text": [
      "21R / 안양(A)\n"
     ]
    },
    {
     "output_type": "stream",
     "name": "stderr",
     "text": [
      "/tmp/ipykernel_11671/1732342239.py:22: DeprecationWarning: find_element_by_css_selector is deprecated. Please use find_element(by=By.CSS_SELECTOR, value=css_selector) instead\n",
      "  game = driver.find_element_by_css_selector('#selectGameId')\n",
      "/tmp/ipykernel_11671/1732342239.py:25: DeprecationWarning: find_element_by_css_selector is deprecated. Please use find_element(by=By.CSS_SELECTOR, value=css_selector) instead\n",
      "  searchbutten = driver.find_element_by_css_selector('#btnSearch')\n"
     ]
    },
    {
     "output_type": "stream",
     "name": "stdout",
     "text": [
      "22R / 전남(H)\n"
     ]
    },
    {
     "output_type": "stream",
     "name": "stderr",
     "text": [
      "/tmp/ipykernel_11671/1732342239.py:22: DeprecationWarning: find_element_by_css_selector is deprecated. Please use find_element(by=By.CSS_SELECTOR, value=css_selector) instead\n",
      "  game = driver.find_element_by_css_selector('#selectGameId')\n",
      "/tmp/ipykernel_11671/1732342239.py:25: DeprecationWarning: find_element_by_css_selector is deprecated. Please use find_element(by=By.CSS_SELECTOR, value=css_selector) instead\n",
      "  searchbutten = driver.find_element_by_css_selector('#btnSearch')\n"
     ]
    },
    {
     "output_type": "stream",
     "name": "stdout",
     "text": [
      "23R / 서울E(A)\n"
     ]
    },
    {
     "output_type": "stream",
     "name": "stderr",
     "text": [
      "/tmp/ipykernel_11671/1732342239.py:22: DeprecationWarning: find_element_by_css_selector is deprecated. Please use find_element(by=By.CSS_SELECTOR, value=css_selector) instead\n",
      "  game = driver.find_element_by_css_selector('#selectGameId')\n",
      "/tmp/ipykernel_11671/1732342239.py:25: DeprecationWarning: find_element_by_css_selector is deprecated. Please use find_element(by=By.CSS_SELECTOR, value=css_selector) instead\n",
      "  searchbutten = driver.find_element_by_css_selector('#btnSearch')\n"
     ]
    },
    {
     "output_type": "stream",
     "name": "stdout",
     "text": [
      "24R / 대전(A)\n"
     ]
    },
    {
     "output_type": "stream",
     "name": "stderr",
     "text": [
      "/tmp/ipykernel_11671/1732342239.py:22: DeprecationWarning: find_element_by_css_selector is deprecated. Please use find_element(by=By.CSS_SELECTOR, value=css_selector) instead\n",
      "  game = driver.find_element_by_css_selector('#selectGameId')\n",
      "/tmp/ipykernel_11671/1732342239.py:25: DeprecationWarning: find_element_by_css_selector is deprecated. Please use find_element(by=By.CSS_SELECTOR, value=css_selector) instead\n",
      "  searchbutten = driver.find_element_by_css_selector('#btnSearch')\n"
     ]
    },
    {
     "output_type": "stream",
     "name": "stdout",
     "text": [
      "25R / 경남(H)\n"
     ]
    },
    {
     "output_type": "stream",
     "name": "stderr",
     "text": [
      "/tmp/ipykernel_11671/1732342239.py:22: DeprecationWarning: find_element_by_css_selector is deprecated. Please use find_element(by=By.CSS_SELECTOR, value=css_selector) instead\n",
      "  game = driver.find_element_by_css_selector('#selectGameId')\n",
      "/tmp/ipykernel_11671/1732342239.py:25: DeprecationWarning: find_element_by_css_selector is deprecated. Please use find_element(by=By.CSS_SELECTOR, value=css_selector) instead\n",
      "  searchbutten = driver.find_element_by_css_selector('#btnSearch')\n"
     ]
    },
    {
     "output_type": "stream",
     "name": "stdout",
     "text": [
      "26R / 충남아산(H)\n"
     ]
    },
    {
     "output_type": "stream",
     "name": "stderr",
     "text": [
      "/tmp/ipykernel_11671/1732342239.py:22: DeprecationWarning: find_element_by_css_selector is deprecated. Please use find_element(by=By.CSS_SELECTOR, value=css_selector) instead\n",
      "  game = driver.find_element_by_css_selector('#selectGameId')\n",
      "/tmp/ipykernel_11671/1732342239.py:25: DeprecationWarning: find_element_by_css_selector is deprecated. Please use find_element(by=By.CSS_SELECTOR, value=css_selector) instead\n",
      "  searchbutten = driver.find_element_by_css_selector('#btnSearch')\n"
     ]
    },
    {
     "output_type": "stream",
     "name": "stdout",
     "text": [
      "27R / 안산(A)\n"
     ]
    },
    {
     "output_type": "stream",
     "name": "stderr",
     "text": [
      "/tmp/ipykernel_11671/1732342239.py:16: DeprecationWarning: find_element_by_css_selector is deprecated. Please use find_element(by=By.CSS_SELECTOR, value=css_selector) instead\n",
      "  teamsel = driver.find_element_by_css_selector('#selectTeamId')\n",
      "/tmp/ipykernel_11671/1732342239.py:19: DeprecationWarning: find_elements_by_css_selector is deprecated. Please use find_elements(by=By.CSS_SELECTOR, value=css_selector) instead\n",
      "  gamessel = driver.find_elements_by_css_selector('#selectGameId > option')\n",
      "/tmp/ipykernel_11671/1732342239.py:22: DeprecationWarning: find_element_by_css_selector is deprecated. Please use find_element(by=By.CSS_SELECTOR, value=css_selector) instead\n",
      "  game = driver.find_element_by_css_selector('#selectGameId')\n",
      "/tmp/ipykernel_11671/1732342239.py:25: DeprecationWarning: find_element_by_css_selector is deprecated. Please use find_element(by=By.CSS_SELECTOR, value=css_selector) instead\n",
      "  searchbutten = driver.find_element_by_css_selector('#btnSearch')\n"
     ]
    },
    {
     "output_type": "stream",
     "name": "stdout",
     "text": [
      "1R / 안산(H)\n"
     ]
    },
    {
     "output_type": "stream",
     "name": "stderr",
     "text": [
      "/tmp/ipykernel_11671/1732342239.py:22: DeprecationWarning: find_element_by_css_selector is deprecated. Please use find_element(by=By.CSS_SELECTOR, value=css_selector) instead\n",
      "  game = driver.find_element_by_css_selector('#selectGameId')\n",
      "/tmp/ipykernel_11671/1732342239.py:25: DeprecationWarning: find_element_by_css_selector is deprecated. Please use find_element(by=By.CSS_SELECTOR, value=css_selector) instead\n",
      "  searchbutten = driver.find_element_by_css_selector('#btnSearch')\n"
     ]
    },
    {
     "output_type": "stream",
     "name": "stdout",
     "text": [
      "2R / 부천(A)\n"
     ]
    },
    {
     "output_type": "stream",
     "name": "stderr",
     "text": [
      "/tmp/ipykernel_11671/1732342239.py:22: DeprecationWarning: find_element_by_css_selector is deprecated. Please use find_element(by=By.CSS_SELECTOR, value=css_selector) instead\n",
      "  game = driver.find_element_by_css_selector('#selectGameId')\n",
      "/tmp/ipykernel_11671/1732342239.py:25: DeprecationWarning: find_element_by_css_selector is deprecated. Please use find_element(by=By.CSS_SELECTOR, value=css_selector) instead\n",
      "  searchbutten = driver.find_element_by_css_selector('#btnSearch')\n"
     ]
    },
    {
     "output_type": "stream",
     "name": "stdout",
     "text": [
      "3R / 경남(H)\n"
     ]
    },
    {
     "output_type": "stream",
     "name": "stderr",
     "text": [
      "/tmp/ipykernel_11671/1732342239.py:22: DeprecationWarning: find_element_by_css_selector is deprecated. Please use find_element(by=By.CSS_SELECTOR, value=css_selector) instead\n",
      "  game = driver.find_element_by_css_selector('#selectGameId')\n",
      "/tmp/ipykernel_11671/1732342239.py:25: DeprecationWarning: find_element_by_css_selector is deprecated. Please use find_element(by=By.CSS_SELECTOR, value=css_selector) instead\n",
      "  searchbutten = driver.find_element_by_css_selector('#btnSearch')\n"
     ]
    },
    {
     "output_type": "stream",
     "name": "stdout",
     "text": [
      "4R / 서울E(A)\n"
     ]
    },
    {
     "output_type": "stream",
     "name": "stderr",
     "text": [
      "/tmp/ipykernel_11671/1732342239.py:22: DeprecationWarning: find_element_by_css_selector is deprecated. Please use find_element(by=By.CSS_SELECTOR, value=css_selector) instead\n",
      "  game = driver.find_element_by_css_selector('#selectGameId')\n",
      "/tmp/ipykernel_11671/1732342239.py:25: DeprecationWarning: find_element_by_css_selector is deprecated. Please use find_element(by=By.CSS_SELECTOR, value=css_selector) instead\n",
      "  searchbutten = driver.find_element_by_css_selector('#btnSearch')\n"
     ]
    },
    {
     "output_type": "stream",
     "name": "stdout",
     "text": [
      "5R / 전남(A)\n"
     ]
    },
    {
     "output_type": "stream",
     "name": "stderr",
     "text": [
      "/tmp/ipykernel_11671/1732342239.py:22: DeprecationWarning: find_element_by_css_selector is deprecated. Please use find_element(by=By.CSS_SELECTOR, value=css_selector) instead\n",
      "  game = driver.find_element_by_css_selector('#selectGameId')\n",
      "/tmp/ipykernel_11671/1732342239.py:25: DeprecationWarning: find_element_by_css_selector is deprecated. Please use find_element(by=By.CSS_SELECTOR, value=css_selector) instead\n",
      "  searchbutten = driver.find_element_by_css_selector('#btnSearch')\n"
     ]
    },
    {
     "output_type": "stream",
     "name": "stdout",
     "text": [
      "6R / 충남아산(H)\n"
     ]
    },
    {
     "output_type": "stream",
     "name": "stderr",
     "text": [
      "/tmp/ipykernel_11671/1732342239.py:22: DeprecationWarning: find_element_by_css_selector is deprecated. Please use find_element(by=By.CSS_SELECTOR, value=css_selector) instead\n",
      "  game = driver.find_element_by_css_selector('#selectGameId')\n",
      "/tmp/ipykernel_11671/1732342239.py:25: DeprecationWarning: find_element_by_css_selector is deprecated. Please use find_element(by=By.CSS_SELECTOR, value=css_selector) instead\n",
      "  searchbutten = driver.find_element_by_css_selector('#btnSearch')\n"
     ]
    },
    {
     "output_type": "stream",
     "name": "stdout",
     "text": [
      "7R / 수원FC(A)\n"
     ]
    },
    {
     "output_type": "stream",
     "name": "stderr",
     "text": [
      "/tmp/ipykernel_11671/1732342239.py:22: DeprecationWarning: find_element_by_css_selector is deprecated. Please use find_element(by=By.CSS_SELECTOR, value=css_selector) instead\n",
      "  game = driver.find_element_by_css_selector('#selectGameId')\n",
      "/tmp/ipykernel_11671/1732342239.py:25: DeprecationWarning: find_element_by_css_selector is deprecated. Please use find_element(by=By.CSS_SELECTOR, value=css_selector) instead\n",
      "  searchbutten = driver.find_element_by_css_selector('#btnSearch')\n"
     ]
    },
    {
     "output_type": "stream",
     "name": "stdout",
     "text": [
      "8R / 대전(A)\n"
     ]
    },
    {
     "output_type": "stream",
     "name": "stderr",
     "text": [
      "/tmp/ipykernel_11671/1732342239.py:22: DeprecationWarning: find_element_by_css_selector is deprecated. Please use find_element(by=By.CSS_SELECTOR, value=css_selector) instead\n",
      "  game = driver.find_element_by_css_selector('#selectGameId')\n",
      "/tmp/ipykernel_11671/1732342239.py:25: DeprecationWarning: find_element_by_css_selector is deprecated. Please use find_element(by=By.CSS_SELECTOR, value=css_selector) instead\n",
      "  searchbutten = driver.find_element_by_css_selector('#btnSearch')\n"
     ]
    },
    {
     "output_type": "stream",
     "name": "stdout",
     "text": [
      "9R / 제주(H)\n"
     ]
    },
    {
     "output_type": "stream",
     "name": "stderr",
     "text": [
      "/tmp/ipykernel_11671/1732342239.py:22: DeprecationWarning: find_element_by_css_selector is deprecated. Please use find_element(by=By.CSS_SELECTOR, value=css_selector) instead\n",
      "  game = driver.find_element_by_css_selector('#selectGameId')\n",
      "/tmp/ipykernel_11671/1732342239.py:25: DeprecationWarning: find_element_by_css_selector is deprecated. Please use find_element(by=By.CSS_SELECTOR, value=css_selector) instead\n",
      "  searchbutten = driver.find_element_by_css_selector('#btnSearch')\n"
     ]
    },
    {
     "output_type": "stream",
     "name": "stdout",
     "text": [
      "10R / 전남(H)\n"
     ]
    },
    {
     "output_type": "stream",
     "name": "stderr",
     "text": [
      "/tmp/ipykernel_11671/1732342239.py:22: DeprecationWarning: find_element_by_css_selector is deprecated. Please use find_element(by=By.CSS_SELECTOR, value=css_selector) instead\n",
      "  game = driver.find_element_by_css_selector('#selectGameId')\n",
      "/tmp/ipykernel_11671/1732342239.py:25: DeprecationWarning: find_element_by_css_selector is deprecated. Please use find_element(by=By.CSS_SELECTOR, value=css_selector) instead\n",
      "  searchbutten = driver.find_element_by_css_selector('#btnSearch')\n"
     ]
    },
    {
     "output_type": "stream",
     "name": "stdout",
     "text": [
      "11R / 충남아산(A)\n"
     ]
    },
    {
     "output_type": "stream",
     "name": "stderr",
     "text": [
      "/tmp/ipykernel_11671/1732342239.py:22: DeprecationWarning: find_element_by_css_selector is deprecated. Please use find_element(by=By.CSS_SELECTOR, value=css_selector) instead\n",
      "  game = driver.find_element_by_css_selector('#selectGameId')\n",
      "/tmp/ipykernel_11671/1732342239.py:25: DeprecationWarning: find_element_by_css_selector is deprecated. Please use find_element(by=By.CSS_SELECTOR, value=css_selector) instead\n",
      "  searchbutten = driver.find_element_by_css_selector('#btnSearch')\n"
     ]
    },
    {
     "output_type": "stream",
     "name": "stdout",
     "text": [
      "12R / 수원FC(H)\n"
     ]
    },
    {
     "output_type": "stream",
     "name": "stderr",
     "text": [
      "/tmp/ipykernel_11671/1732342239.py:22: DeprecationWarning: find_element_by_css_selector is deprecated. Please use find_element(by=By.CSS_SELECTOR, value=css_selector) instead\n",
      "  game = driver.find_element_by_css_selector('#selectGameId')\n",
      "/tmp/ipykernel_11671/1732342239.py:25: DeprecationWarning: find_element_by_css_selector is deprecated. Please use find_element(by=By.CSS_SELECTOR, value=css_selector) instead\n",
      "  searchbutten = driver.find_element_by_css_selector('#btnSearch')\n"
     ]
    },
    {
     "output_type": "stream",
     "name": "stdout",
     "text": [
      "13R / 경남(A)\n"
     ]
    },
    {
     "output_type": "stream",
     "name": "stderr",
     "text": [
      "/tmp/ipykernel_11671/1732342239.py:22: DeprecationWarning: find_element_by_css_selector is deprecated. Please use find_element(by=By.CSS_SELECTOR, value=css_selector) instead\n",
      "  game = driver.find_element_by_css_selector('#selectGameId')\n",
      "/tmp/ipykernel_11671/1732342239.py:25: DeprecationWarning: find_element_by_css_selector is deprecated. Please use find_element(by=By.CSS_SELECTOR, value=css_selector) instead\n",
      "  searchbutten = driver.find_element_by_css_selector('#btnSearch')\n"
     ]
    },
    {
     "output_type": "stream",
     "name": "stdout",
     "text": [
      "14R / 안산(A)\n"
     ]
    },
    {
     "output_type": "stream",
     "name": "stderr",
     "text": [
      "/tmp/ipykernel_11671/1732342239.py:22: DeprecationWarning: find_element_by_css_selector is deprecated. Please use find_element(by=By.CSS_SELECTOR, value=css_selector) instead\n",
      "  game = driver.find_element_by_css_selector('#selectGameId')\n",
      "/tmp/ipykernel_11671/1732342239.py:25: DeprecationWarning: find_element_by_css_selector is deprecated. Please use find_element(by=By.CSS_SELECTOR, value=css_selector) instead\n",
      "  searchbutten = driver.find_element_by_css_selector('#btnSearch')\n"
     ]
    },
    {
     "output_type": "stream",
     "name": "stdout",
     "text": [
      "15R / 부천(H)\n"
     ]
    },
    {
     "output_type": "stream",
     "name": "stderr",
     "text": [
      "/tmp/ipykernel_11671/1732342239.py:22: DeprecationWarning: find_element_by_css_selector is deprecated. Please use find_element(by=By.CSS_SELECTOR, value=css_selector) instead\n",
      "  game = driver.find_element_by_css_selector('#selectGameId')\n",
      "/tmp/ipykernel_11671/1732342239.py:25: DeprecationWarning: find_element_by_css_selector is deprecated. Please use find_element(by=By.CSS_SELECTOR, value=css_selector) instead\n",
      "  searchbutten = driver.find_element_by_css_selector('#btnSearch')\n"
     ]
    },
    {
     "output_type": "stream",
     "name": "stdout",
     "text": [
      "16R / 대전(H)\n"
     ]
    },
    {
     "output_type": "stream",
     "name": "stderr",
     "text": [
      "/tmp/ipykernel_11671/1732342239.py:22: DeprecationWarning: find_element_by_css_selector is deprecated. Please use find_element(by=By.CSS_SELECTOR, value=css_selector) instead\n",
      "  game = driver.find_element_by_css_selector('#selectGameId')\n",
      "/tmp/ipykernel_11671/1732342239.py:25: DeprecationWarning: find_element_by_css_selector is deprecated. Please use find_element(by=By.CSS_SELECTOR, value=css_selector) instead\n",
      "  searchbutten = driver.find_element_by_css_selector('#btnSearch')\n"
     ]
    },
    {
     "output_type": "stream",
     "name": "stdout",
     "text": [
      "17R / 제주(A)\n"
     ]
    },
    {
     "output_type": "stream",
     "name": "stderr",
     "text": [
      "/tmp/ipykernel_11671/1732342239.py:22: DeprecationWarning: find_element_by_css_selector is deprecated. Please use find_element(by=By.CSS_SELECTOR, value=css_selector) instead\n",
      "  game = driver.find_element_by_css_selector('#selectGameId')\n",
      "/tmp/ipykernel_11671/1732342239.py:25: DeprecationWarning: find_element_by_css_selector is deprecated. Please use find_element(by=By.CSS_SELECTOR, value=css_selector) instead\n",
      "  searchbutten = driver.find_element_by_css_selector('#btnSearch')\n"
     ]
    },
    {
     "output_type": "stream",
     "name": "stdout",
     "text": [
      "18R / 서울E(H)\n"
     ]
    },
    {
     "output_type": "stream",
     "name": "stderr",
     "text": [
      "/tmp/ipykernel_11671/1732342239.py:22: DeprecationWarning: find_element_by_css_selector is deprecated. Please use find_element(by=By.CSS_SELECTOR, value=css_selector) instead\n",
      "  game = driver.find_element_by_css_selector('#selectGameId')\n",
      "/tmp/ipykernel_11671/1732342239.py:25: DeprecationWarning: find_element_by_css_selector is deprecated. Please use find_element(by=By.CSS_SELECTOR, value=css_selector) instead\n",
      "  searchbutten = driver.find_element_by_css_selector('#btnSearch')\n"
     ]
    },
    {
     "output_type": "stream",
     "name": "stdout",
     "text": [
      "19R / 안산(A)\n"
     ]
    },
    {
     "output_type": "stream",
     "name": "stderr",
     "text": [
      "/tmp/ipykernel_11671/1732342239.py:22: DeprecationWarning: find_element_by_css_selector is deprecated. Please use find_element(by=By.CSS_SELECTOR, value=css_selector) instead\n",
      "  game = driver.find_element_by_css_selector('#selectGameId')\n",
      "/tmp/ipykernel_11671/1732342239.py:25: DeprecationWarning: find_element_by_css_selector is deprecated. Please use find_element(by=By.CSS_SELECTOR, value=css_selector) instead\n",
      "  searchbutten = driver.find_element_by_css_selector('#btnSearch')\n"
     ]
    },
    {
     "output_type": "stream",
     "name": "stdout",
     "text": [
      "20R / 전남(H)\n"
     ]
    },
    {
     "output_type": "stream",
     "name": "stderr",
     "text": [
      "/tmp/ipykernel_11671/1732342239.py:22: DeprecationWarning: find_element_by_css_selector is deprecated. Please use find_element(by=By.CSS_SELECTOR, value=css_selector) instead\n",
      "  game = driver.find_element_by_css_selector('#selectGameId')\n",
      "/tmp/ipykernel_11671/1732342239.py:25: DeprecationWarning: find_element_by_css_selector is deprecated. Please use find_element(by=By.CSS_SELECTOR, value=css_selector) instead\n",
      "  searchbutten = driver.find_element_by_css_selector('#btnSearch')\n"
     ]
    },
    {
     "output_type": "stream",
     "name": "stdout",
     "text": [
      "21R / 부천(H)\n"
     ]
    },
    {
     "output_type": "stream",
     "name": "stderr",
     "text": [
      "/tmp/ipykernel_11671/1732342239.py:22: DeprecationWarning: find_element_by_css_selector is deprecated. Please use find_element(by=By.CSS_SELECTOR, value=css_selector) instead\n",
      "  game = driver.find_element_by_css_selector('#selectGameId')\n",
      "/tmp/ipykernel_11671/1732342239.py:25: DeprecationWarning: find_element_by_css_selector is deprecated. Please use find_element(by=By.CSS_SELECTOR, value=css_selector) instead\n",
      "  searchbutten = driver.find_element_by_css_selector('#btnSearch')\n"
     ]
    },
    {
     "output_type": "stream",
     "name": "stdout",
     "text": [
      "22R / 제주(A)\n"
     ]
    },
    {
     "output_type": "stream",
     "name": "stderr",
     "text": [
      "/tmp/ipykernel_11671/1732342239.py:22: DeprecationWarning: find_element_by_css_selector is deprecated. Please use find_element(by=By.CSS_SELECTOR, value=css_selector) instead\n",
      "  game = driver.find_element_by_css_selector('#selectGameId')\n",
      "/tmp/ipykernel_11671/1732342239.py:25: DeprecationWarning: find_element_by_css_selector is deprecated. Please use find_element(by=By.CSS_SELECTOR, value=css_selector) instead\n",
      "  searchbutten = driver.find_element_by_css_selector('#btnSearch')\n"
     ]
    },
    {
     "output_type": "stream",
     "name": "stdout",
     "text": [
      "23R / 경남(A)\n"
     ]
    },
    {
     "output_type": "stream",
     "name": "stderr",
     "text": [
      "/tmp/ipykernel_11671/1732342239.py:22: DeprecationWarning: find_element_by_css_selector is deprecated. Please use find_element(by=By.CSS_SELECTOR, value=css_selector) instead\n",
      "  game = driver.find_element_by_css_selector('#selectGameId')\n",
      "/tmp/ipykernel_11671/1732342239.py:25: DeprecationWarning: find_element_by_css_selector is deprecated. Please use find_element(by=By.CSS_SELECTOR, value=css_selector) instead\n",
      "  searchbutten = driver.find_element_by_css_selector('#btnSearch')\n"
     ]
    },
    {
     "output_type": "stream",
     "name": "stdout",
     "text": [
      "24R / 서울E(H)\n"
     ]
    },
    {
     "output_type": "stream",
     "name": "stderr",
     "text": [
      "/tmp/ipykernel_11671/1732342239.py:22: DeprecationWarning: find_element_by_css_selector is deprecated. Please use find_element(by=By.CSS_SELECTOR, value=css_selector) instead\n",
      "  game = driver.find_element_by_css_selector('#selectGameId')\n",
      "/tmp/ipykernel_11671/1732342239.py:25: DeprecationWarning: find_element_by_css_selector is deprecated. Please use find_element(by=By.CSS_SELECTOR, value=css_selector) instead\n",
      "  searchbutten = driver.find_element_by_css_selector('#btnSearch')\n"
     ]
    },
    {
     "output_type": "stream",
     "name": "stdout",
     "text": [
      "25R / 충남아산(A)\n"
     ]
    },
    {
     "output_type": "stream",
     "name": "stderr",
     "text": [
      "/tmp/ipykernel_11671/1732342239.py:22: DeprecationWarning: find_element_by_css_selector is deprecated. Please use find_element(by=By.CSS_SELECTOR, value=css_selector) instead\n",
      "  game = driver.find_element_by_css_selector('#selectGameId')\n",
      "/tmp/ipykernel_11671/1732342239.py:25: DeprecationWarning: find_element_by_css_selector is deprecated. Please use find_element(by=By.CSS_SELECTOR, value=css_selector) instead\n",
      "  searchbutten = driver.find_element_by_css_selector('#btnSearch')\n"
     ]
    },
    {
     "output_type": "stream",
     "name": "stdout",
     "text": [
      "26R / 대전(A)\n"
     ]
    },
    {
     "output_type": "stream",
     "name": "stderr",
     "text": [
      "/tmp/ipykernel_11671/1732342239.py:22: DeprecationWarning: find_element_by_css_selector is deprecated. Please use find_element(by=By.CSS_SELECTOR, value=css_selector) instead\n",
      "  game = driver.find_element_by_css_selector('#selectGameId')\n",
      "/tmp/ipykernel_11671/1732342239.py:25: DeprecationWarning: find_element_by_css_selector is deprecated. Please use find_element(by=By.CSS_SELECTOR, value=css_selector) instead\n",
      "  searchbutten = driver.find_element_by_css_selector('#btnSearch')\n"
     ]
    },
    {
     "output_type": "stream",
     "name": "stdout",
     "text": [
      "27R / 수원FC(H)\n"
     ]
    },
    {
     "output_type": "stream",
     "name": "stderr",
     "text": [
      "/tmp/ipykernel_11671/1732342239.py:16: DeprecationWarning: find_element_by_css_selector is deprecated. Please use find_element(by=By.CSS_SELECTOR, value=css_selector) instead\n",
      "  teamsel = driver.find_element_by_css_selector('#selectTeamId')\n",
      "/tmp/ipykernel_11671/1732342239.py:19: DeprecationWarning: find_elements_by_css_selector is deprecated. Please use find_elements(by=By.CSS_SELECTOR, value=css_selector) instead\n",
      "  gamessel = driver.find_elements_by_css_selector('#selectGameId > option')\n",
      "/tmp/ipykernel_11671/1732342239.py:22: DeprecationWarning: find_element_by_css_selector is deprecated. Please use find_element(by=By.CSS_SELECTOR, value=css_selector) instead\n",
      "  game = driver.find_element_by_css_selector('#selectGameId')\n",
      "/tmp/ipykernel_11671/1732342239.py:25: DeprecationWarning: find_element_by_css_selector is deprecated. Please use find_element(by=By.CSS_SELECTOR, value=css_selector) instead\n",
      "  searchbutten = driver.find_element_by_css_selector('#btnSearch')\n"
     ]
    },
    {
     "output_type": "stream",
     "name": "stdout",
     "text": [
      "1R / 대전(H)\n"
     ]
    },
    {
     "output_type": "stream",
     "name": "stderr",
     "text": [
      "/tmp/ipykernel_11671/1732342239.py:22: DeprecationWarning: find_element_by_css_selector is deprecated. Please use find_element(by=By.CSS_SELECTOR, value=css_selector) instead\n",
      "  game = driver.find_element_by_css_selector('#selectGameId')\n",
      "/tmp/ipykernel_11671/1732342239.py:25: DeprecationWarning: find_element_by_css_selector is deprecated. Please use find_element(by=By.CSS_SELECTOR, value=css_selector) instead\n",
      "  searchbutten = driver.find_element_by_css_selector('#btnSearch')\n"
     ]
    },
    {
     "output_type": "stream",
     "name": "stdout",
     "text": [
      "2R / 안산(A)\n"
     ]
    },
    {
     "output_type": "stream",
     "name": "stderr",
     "text": [
      "/tmp/ipykernel_11671/1732342239.py:22: DeprecationWarning: find_element_by_css_selector is deprecated. Please use find_element(by=By.CSS_SELECTOR, value=css_selector) instead\n",
      "  game = driver.find_element_by_css_selector('#selectGameId')\n",
      "/tmp/ipykernel_11671/1732342239.py:25: DeprecationWarning: find_element_by_css_selector is deprecated. Please use find_element(by=By.CSS_SELECTOR, value=css_selector) instead\n",
      "  searchbutten = driver.find_element_by_css_selector('#btnSearch')\n"
     ]
    },
    {
     "output_type": "stream",
     "name": "stdout",
     "text": [
      "3R / 충남아산(A)\n"
     ]
    },
    {
     "output_type": "stream",
     "name": "stderr",
     "text": [
      "/tmp/ipykernel_11671/1732342239.py:22: DeprecationWarning: find_element_by_css_selector is deprecated. Please use find_element(by=By.CSS_SELECTOR, value=css_selector) instead\n",
      "  game = driver.find_element_by_css_selector('#selectGameId')\n",
      "/tmp/ipykernel_11671/1732342239.py:25: DeprecationWarning: find_element_by_css_selector is deprecated. Please use find_element(by=By.CSS_SELECTOR, value=css_selector) instead\n",
      "  searchbutten = driver.find_element_by_css_selector('#btnSearch')\n"
     ]
    },
    {
     "output_type": "stream",
     "name": "stdout",
     "text": [
      "4R / 경남(H)\n"
     ]
    },
    {
     "output_type": "stream",
     "name": "stderr",
     "text": [
      "/tmp/ipykernel_11671/1732342239.py:22: DeprecationWarning: find_element_by_css_selector is deprecated. Please use find_element(by=By.CSS_SELECTOR, value=css_selector) instead\n",
      "  game = driver.find_element_by_css_selector('#selectGameId')\n",
      "/tmp/ipykernel_11671/1732342239.py:25: DeprecationWarning: find_element_by_css_selector is deprecated. Please use find_element(by=By.CSS_SELECTOR, value=css_selector) instead\n",
      "  searchbutten = driver.find_element_by_css_selector('#btnSearch')\n"
     ]
    },
    {
     "output_type": "stream",
     "name": "stdout",
     "text": [
      "5R / 부천(H)\n"
     ]
    },
    {
     "output_type": "stream",
     "name": "stderr",
     "text": [
      "/tmp/ipykernel_11671/1732342239.py:22: DeprecationWarning: find_element_by_css_selector is deprecated. Please use find_element(by=By.CSS_SELECTOR, value=css_selector) instead\n",
      "  game = driver.find_element_by_css_selector('#selectGameId')\n",
      "/tmp/ipykernel_11671/1732342239.py:25: DeprecationWarning: find_element_by_css_selector is deprecated. Please use find_element(by=By.CSS_SELECTOR, value=css_selector) instead\n",
      "  searchbutten = driver.find_element_by_css_selector('#btnSearch')\n"
     ]
    },
    {
     "output_type": "stream",
     "name": "stdout",
     "text": [
      "6R / 제주(A)\n"
     ]
    },
    {
     "output_type": "stream",
     "name": "stderr",
     "text": [
      "/tmp/ipykernel_11671/1732342239.py:22: DeprecationWarning: find_element_by_css_selector is deprecated. Please use find_element(by=By.CSS_SELECTOR, value=css_selector) instead\n",
      "  game = driver.find_element_by_css_selector('#selectGameId')\n",
      "/tmp/ipykernel_11671/1732342239.py:25: DeprecationWarning: find_element_by_css_selector is deprecated. Please use find_element(by=By.CSS_SELECTOR, value=css_selector) instead\n",
      "  searchbutten = driver.find_element_by_css_selector('#btnSearch')\n"
     ]
    },
    {
     "output_type": "stream",
     "name": "stdout",
     "text": [
      "7R / 안양(H)\n"
     ]
    },
    {
     "output_type": "stream",
     "name": "stderr",
     "text": [
      "/tmp/ipykernel_11671/1732342239.py:22: DeprecationWarning: find_element_by_css_selector is deprecated. Please use find_element(by=By.CSS_SELECTOR, value=css_selector) instead\n",
      "  game = driver.find_element_by_css_selector('#selectGameId')\n",
      "/tmp/ipykernel_11671/1732342239.py:25: DeprecationWarning: find_element_by_css_selector is deprecated. Please use find_element(by=By.CSS_SELECTOR, value=css_selector) instead\n",
      "  searchbutten = driver.find_element_by_css_selector('#btnSearch')\n"
     ]
    },
    {
     "output_type": "stream",
     "name": "stdout",
     "text": [
      "8R / 전남(A)\n"
     ]
    },
    {
     "output_type": "stream",
     "name": "stderr",
     "text": [
      "/tmp/ipykernel_11671/1732342239.py:22: DeprecationWarning: find_element_by_css_selector is deprecated. Please use find_element(by=By.CSS_SELECTOR, value=css_selector) instead\n",
      "  game = driver.find_element_by_css_selector('#selectGameId')\n",
      "/tmp/ipykernel_11671/1732342239.py:25: DeprecationWarning: find_element_by_css_selector is deprecated. Please use find_element(by=By.CSS_SELECTOR, value=css_selector) instead\n",
      "  searchbutten = driver.find_element_by_css_selector('#btnSearch')\n"
     ]
    },
    {
     "output_type": "stream",
     "name": "stdout",
     "text": [
      "9R / 서울E(A)\n"
     ]
    },
    {
     "output_type": "stream",
     "name": "stderr",
     "text": [
      "/tmp/ipykernel_11671/1732342239.py:22: DeprecationWarning: find_element_by_css_selector is deprecated. Please use find_element(by=By.CSS_SELECTOR, value=css_selector) instead\n",
      "  game = driver.find_element_by_css_selector('#selectGameId')\n",
      "/tmp/ipykernel_11671/1732342239.py:25: DeprecationWarning: find_element_by_css_selector is deprecated. Please use find_element(by=By.CSS_SELECTOR, value=css_selector) instead\n",
      "  searchbutten = driver.find_element_by_css_selector('#btnSearch')\n"
     ]
    },
    {
     "output_type": "stream",
     "name": "stdout",
     "text": [
      "10R / 충남아산(H)\n"
     ]
    },
    {
     "output_type": "stream",
     "name": "stderr",
     "text": [
      "/tmp/ipykernel_11671/1732342239.py:22: DeprecationWarning: find_element_by_css_selector is deprecated. Please use find_element(by=By.CSS_SELECTOR, value=css_selector) instead\n",
      "  game = driver.find_element_by_css_selector('#selectGameId')\n",
      "/tmp/ipykernel_11671/1732342239.py:25: DeprecationWarning: find_element_by_css_selector is deprecated. Please use find_element(by=By.CSS_SELECTOR, value=css_selector) instead\n",
      "  searchbutten = driver.find_element_by_css_selector('#btnSearch')\n"
     ]
    },
    {
     "output_type": "stream",
     "name": "stdout",
     "text": [
      "11R / 대전(A)\n"
     ]
    },
    {
     "output_type": "stream",
     "name": "stderr",
     "text": [
      "/tmp/ipykernel_11671/1732342239.py:22: DeprecationWarning: find_element_by_css_selector is deprecated. Please use find_element(by=By.CSS_SELECTOR, value=css_selector) instead\n",
      "  game = driver.find_element_by_css_selector('#selectGameId')\n",
      "/tmp/ipykernel_11671/1732342239.py:25: DeprecationWarning: find_element_by_css_selector is deprecated. Please use find_element(by=By.CSS_SELECTOR, value=css_selector) instead\n",
      "  searchbutten = driver.find_element_by_css_selector('#btnSearch')\n"
     ]
    },
    {
     "output_type": "stream",
     "name": "stdout",
     "text": [
      "12R / 안양(A)\n"
     ]
    },
    {
     "output_type": "stream",
     "name": "stderr",
     "text": [
      "/tmp/ipykernel_11671/1732342239.py:22: DeprecationWarning: find_element_by_css_selector is deprecated. Please use find_element(by=By.CSS_SELECTOR, value=css_selector) instead\n",
      "  game = driver.find_element_by_css_selector('#selectGameId')\n",
      "/tmp/ipykernel_11671/1732342239.py:25: DeprecationWarning: find_element_by_css_selector is deprecated. Please use find_element(by=By.CSS_SELECTOR, value=css_selector) instead\n",
      "  searchbutten = driver.find_element_by_css_selector('#btnSearch')\n"
     ]
    },
    {
     "output_type": "stream",
     "name": "stdout",
     "text": [
      "13R / 안산(H)\n"
     ]
    },
    {
     "output_type": "stream",
     "name": "stderr",
     "text": [
      "/tmp/ipykernel_11671/1732342239.py:22: DeprecationWarning: find_element_by_css_selector is deprecated. Please use find_element(by=By.CSS_SELECTOR, value=css_selector) instead\n",
      "  game = driver.find_element_by_css_selector('#selectGameId')\n",
      "/tmp/ipykernel_11671/1732342239.py:25: DeprecationWarning: find_element_by_css_selector is deprecated. Please use find_element(by=By.CSS_SELECTOR, value=css_selector) instead\n",
      "  searchbutten = driver.find_element_by_css_selector('#btnSearch')\n"
     ]
    },
    {
     "output_type": "stream",
     "name": "stdout",
     "text": [
      "14R / 부천(A)\n"
     ]
    },
    {
     "output_type": "stream",
     "name": "stderr",
     "text": [
      "/tmp/ipykernel_11671/1732342239.py:22: DeprecationWarning: find_element_by_css_selector is deprecated. Please use find_element(by=By.CSS_SELECTOR, value=css_selector) instead\n",
      "  game = driver.find_element_by_css_selector('#selectGameId')\n",
      "/tmp/ipykernel_11671/1732342239.py:25: DeprecationWarning: find_element_by_css_selector is deprecated. Please use find_element(by=By.CSS_SELECTOR, value=css_selector) instead\n",
      "  searchbutten = driver.find_element_by_css_selector('#btnSearch')\n"
     ]
    },
    {
     "output_type": "stream",
     "name": "stdout",
     "text": [
      "15R / 제주(H)\n"
     ]
    },
    {
     "output_type": "stream",
     "name": "stderr",
     "text": [
      "/tmp/ipykernel_11671/1732342239.py:22: DeprecationWarning: find_element_by_css_selector is deprecated. Please use find_element(by=By.CSS_SELECTOR, value=css_selector) instead\n",
      "  game = driver.find_element_by_css_selector('#selectGameId')\n",
      "/tmp/ipykernel_11671/1732342239.py:25: DeprecationWarning: find_element_by_css_selector is deprecated. Please use find_element(by=By.CSS_SELECTOR, value=css_selector) instead\n",
      "  searchbutten = driver.find_element_by_css_selector('#btnSearch')\n"
     ]
    },
    {
     "output_type": "stream",
     "name": "stdout",
     "text": [
      "16R / 서울E(H)\n"
     ]
    },
    {
     "output_type": "stream",
     "name": "stderr",
     "text": [
      "/tmp/ipykernel_11671/1732342239.py:22: DeprecationWarning: find_element_by_css_selector is deprecated. Please use find_element(by=By.CSS_SELECTOR, value=css_selector) instead\n",
      "  game = driver.find_element_by_css_selector('#selectGameId')\n",
      "/tmp/ipykernel_11671/1732342239.py:25: DeprecationWarning: find_element_by_css_selector is deprecated. Please use find_element(by=By.CSS_SELECTOR, value=css_selector) instead\n",
      "  searchbutten = driver.find_element_by_css_selector('#btnSearch')\n"
     ]
    },
    {
     "output_type": "stream",
     "name": "stdout",
     "text": [
      "17R / 경남(A)\n"
     ]
    },
    {
     "output_type": "stream",
     "name": "stderr",
     "text": [
      "/tmp/ipykernel_11671/1732342239.py:22: DeprecationWarning: find_element_by_css_selector is deprecated. Please use find_element(by=By.CSS_SELECTOR, value=css_selector) instead\n",
      "  game = driver.find_element_by_css_selector('#selectGameId')\n",
      "/tmp/ipykernel_11671/1732342239.py:25: DeprecationWarning: find_element_by_css_selector is deprecated. Please use find_element(by=By.CSS_SELECTOR, value=css_selector) instead\n",
      "  searchbutten = driver.find_element_by_css_selector('#btnSearch')\n"
     ]
    },
    {
     "output_type": "stream",
     "name": "stdout",
     "text": [
      "18R / 전남(H)\n"
     ]
    },
    {
     "output_type": "stream",
     "name": "stderr",
     "text": [
      "/tmp/ipykernel_11671/1732342239.py:22: DeprecationWarning: find_element_by_css_selector is deprecated. Please use find_element(by=By.CSS_SELECTOR, value=css_selector) instead\n",
      "  game = driver.find_element_by_css_selector('#selectGameId')\n",
      "/tmp/ipykernel_11671/1732342239.py:25: DeprecationWarning: find_element_by_css_selector is deprecated. Please use find_element(by=By.CSS_SELECTOR, value=css_selector) instead\n",
      "  searchbutten = driver.find_element_by_css_selector('#btnSearch')\n"
     ]
    },
    {
     "output_type": "stream",
     "name": "stdout",
     "text": [
      "19R / 부천(H)\n"
     ]
    },
    {
     "output_type": "stream",
     "name": "stderr",
     "text": [
      "/tmp/ipykernel_11671/1732342239.py:22: DeprecationWarning: find_element_by_css_selector is deprecated. Please use find_element(by=By.CSS_SELECTOR, value=css_selector) instead\n",
      "  game = driver.find_element_by_css_selector('#selectGameId')\n",
      "/tmp/ipykernel_11671/1732342239.py:25: DeprecationWarning: find_element_by_css_selector is deprecated. Please use find_element(by=By.CSS_SELECTOR, value=css_selector) instead\n",
      "  searchbutten = driver.find_element_by_css_selector('#btnSearch')\n"
     ]
    },
    {
     "output_type": "stream",
     "name": "stdout",
     "text": [
      "20R / 충남아산(A)\n"
     ]
    },
    {
     "output_type": "stream",
     "name": "stderr",
     "text": [
      "/tmp/ipykernel_11671/1732342239.py:22: DeprecationWarning: find_element_by_css_selector is deprecated. Please use find_element(by=By.CSS_SELECTOR, value=css_selector) instead\n",
      "  game = driver.find_element_by_css_selector('#selectGameId')\n",
      "/tmp/ipykernel_11671/1732342239.py:25: DeprecationWarning: find_element_by_css_selector is deprecated. Please use find_element(by=By.CSS_SELECTOR, value=css_selector) instead\n",
      "  searchbutten = driver.find_element_by_css_selector('#btnSearch')\n"
     ]
    },
    {
     "output_type": "stream",
     "name": "stdout",
     "text": [
      "21R / 서울E(H)\n"
     ]
    },
    {
     "output_type": "stream",
     "name": "stderr",
     "text": [
      "/tmp/ipykernel_11671/1732342239.py:22: DeprecationWarning: find_element_by_css_selector is deprecated. Please use find_element(by=By.CSS_SELECTOR, value=css_selector) instead\n",
      "  game = driver.find_element_by_css_selector('#selectGameId')\n",
      "/tmp/ipykernel_11671/1732342239.py:25: DeprecationWarning: find_element_by_css_selector is deprecated. Please use find_element(by=By.CSS_SELECTOR, value=css_selector) instead\n",
      "  searchbutten = driver.find_element_by_css_selector('#btnSearch')\n"
     ]
    },
    {
     "output_type": "stream",
     "name": "stdout",
     "text": [
      "22R / 안산(A)\n"
     ]
    },
    {
     "output_type": "stream",
     "name": "stderr",
     "text": [
      "/tmp/ipykernel_11671/1732342239.py:22: DeprecationWarning: find_element_by_css_selector is deprecated. Please use find_element(by=By.CSS_SELECTOR, value=css_selector) instead\n",
      "  game = driver.find_element_by_css_selector('#selectGameId')\n",
      "/tmp/ipykernel_11671/1732342239.py:25: DeprecationWarning: find_element_by_css_selector is deprecated. Please use find_element(by=By.CSS_SELECTOR, value=css_selector) instead\n",
      "  searchbutten = driver.find_element_by_css_selector('#btnSearch')\n"
     ]
    },
    {
     "output_type": "stream",
     "name": "stdout",
     "text": [
      "23R / 대전(A)\n"
     ]
    },
    {
     "output_type": "stream",
     "name": "stderr",
     "text": [
      "/tmp/ipykernel_11671/1732342239.py:22: DeprecationWarning: find_element_by_css_selector is deprecated. Please use find_element(by=By.CSS_SELECTOR, value=css_selector) instead\n",
      "  game = driver.find_element_by_css_selector('#selectGameId')\n",
      "/tmp/ipykernel_11671/1732342239.py:25: DeprecationWarning: find_element_by_css_selector is deprecated. Please use find_element(by=By.CSS_SELECTOR, value=css_selector) instead\n",
      "  searchbutten = driver.find_element_by_css_selector('#btnSearch')\n"
     ]
    },
    {
     "output_type": "stream",
     "name": "stdout",
     "text": [
      "24R / 전남(H)\n"
     ]
    },
    {
     "output_type": "stream",
     "name": "stderr",
     "text": [
      "/tmp/ipykernel_11671/1732342239.py:22: DeprecationWarning: find_element_by_css_selector is deprecated. Please use find_element(by=By.CSS_SELECTOR, value=css_selector) instead\n",
      "  game = driver.find_element_by_css_selector('#selectGameId')\n",
      "/tmp/ipykernel_11671/1732342239.py:25: DeprecationWarning: find_element_by_css_selector is deprecated. Please use find_element(by=By.CSS_SELECTOR, value=css_selector) instead\n",
      "  searchbutten = driver.find_element_by_css_selector('#btnSearch')\n"
     ]
    },
    {
     "output_type": "stream",
     "name": "stdout",
     "text": [
      "25R / 제주(A)\n"
     ]
    },
    {
     "output_type": "stream",
     "name": "stderr",
     "text": [
      "/tmp/ipykernel_11671/1732342239.py:22: DeprecationWarning: find_element_by_css_selector is deprecated. Please use find_element(by=By.CSS_SELECTOR, value=css_selector) instead\n",
      "  game = driver.find_element_by_css_selector('#selectGameId')\n",
      "/tmp/ipykernel_11671/1732342239.py:25: DeprecationWarning: find_element_by_css_selector is deprecated. Please use find_element(by=By.CSS_SELECTOR, value=css_selector) instead\n",
      "  searchbutten = driver.find_element_by_css_selector('#btnSearch')\n"
     ]
    },
    {
     "output_type": "stream",
     "name": "stdout",
     "text": [
      "26R / 경남(H)\n"
     ]
    },
    {
     "output_type": "stream",
     "name": "stderr",
     "text": [
      "/tmp/ipykernel_11671/1732342239.py:22: DeprecationWarning: find_element_by_css_selector is deprecated. Please use find_element(by=By.CSS_SELECTOR, value=css_selector) instead\n",
      "  game = driver.find_element_by_css_selector('#selectGameId')\n",
      "/tmp/ipykernel_11671/1732342239.py:25: DeprecationWarning: find_element_by_css_selector is deprecated. Please use find_element(by=By.CSS_SELECTOR, value=css_selector) instead\n",
      "  searchbutten = driver.find_element_by_css_selector('#btnSearch')\n"
     ]
    },
    {
     "output_type": "stream",
     "name": "stdout",
     "text": [
      "27R / 안양(A)\n"
     ]
    },
    {
     "output_type": "stream",
     "name": "stderr",
     "text": [
      "/tmp/ipykernel_11671/1732342239.py:22: DeprecationWarning: find_element_by_css_selector is deprecated. Please use find_element(by=By.CSS_SELECTOR, value=css_selector) instead\n",
      "  game = driver.find_element_by_css_selector('#selectGameId')\n",
      "/tmp/ipykernel_11671/1732342239.py:25: DeprecationWarning: find_element_by_css_selector is deprecated. Please use find_element(by=By.CSS_SELECTOR, value=css_selector) instead\n",
      "  searchbutten = driver.find_element_by_css_selector('#btnSearch')\n"
     ]
    },
    {
     "output_type": "stream",
     "name": "stdout",
     "text": [
      "29R / 경남(H)\n"
     ]
    },
    {
     "output_type": "stream",
     "name": "stderr",
     "text": [
      "/tmp/ipykernel_11671/1732342239.py:16: DeprecationWarning: find_element_by_css_selector is deprecated. Please use find_element(by=By.CSS_SELECTOR, value=css_selector) instead\n",
      "  teamsel = driver.find_element_by_css_selector('#selectTeamId')\n",
      "/tmp/ipykernel_11671/1732342239.py:19: DeprecationWarning: find_elements_by_css_selector is deprecated. Please use find_elements(by=By.CSS_SELECTOR, value=css_selector) instead\n",
      "  gamessel = driver.find_elements_by_css_selector('#selectGameId > option')\n",
      "/tmp/ipykernel_11671/1732342239.py:22: DeprecationWarning: find_element_by_css_selector is deprecated. Please use find_element(by=By.CSS_SELECTOR, value=css_selector) instead\n",
      "  game = driver.find_element_by_css_selector('#selectGameId')\n",
      "/tmp/ipykernel_11671/1732342239.py:25: DeprecationWarning: find_element_by_css_selector is deprecated. Please use find_element(by=By.CSS_SELECTOR, value=css_selector) instead\n",
      "  searchbutten = driver.find_element_by_css_selector('#btnSearch')\n"
     ]
    },
    {
     "output_type": "stream",
     "name": "stdout",
     "text": [
      "1R / 제주(A)\n"
     ]
    },
    {
     "output_type": "stream",
     "name": "stderr",
     "text": [
      "/tmp/ipykernel_11671/1732342239.py:22: DeprecationWarning: find_element_by_css_selector is deprecated. Please use find_element(by=By.CSS_SELECTOR, value=css_selector) instead\n",
      "  game = driver.find_element_by_css_selector('#selectGameId')\n",
      "/tmp/ipykernel_11671/1732342239.py:25: DeprecationWarning: find_element_by_css_selector is deprecated. Please use find_element(by=By.CSS_SELECTOR, value=css_selector) instead\n",
      "  searchbutten = driver.find_element_by_css_selector('#btnSearch')\n"
     ]
    },
    {
     "output_type": "stream",
     "name": "stdout",
     "text": [
      "2R / 경남(H)\n"
     ]
    },
    {
     "output_type": "stream",
     "name": "stderr",
     "text": [
      "/tmp/ipykernel_11671/1732342239.py:22: DeprecationWarning: find_element_by_css_selector is deprecated. Please use find_element(by=By.CSS_SELECTOR, value=css_selector) instead\n",
      "  game = driver.find_element_by_css_selector('#selectGameId')\n",
      "/tmp/ipykernel_11671/1732342239.py:25: DeprecationWarning: find_element_by_css_selector is deprecated. Please use find_element(by=By.CSS_SELECTOR, value=css_selector) instead\n",
      "  searchbutten = driver.find_element_by_css_selector('#btnSearch')\n"
     ]
    },
    {
     "output_type": "stream",
     "name": "stdout",
     "text": [
      "3R / 전남(H)\n"
     ]
    },
    {
     "output_type": "stream",
     "name": "stderr",
     "text": [
      "/tmp/ipykernel_11671/1732342239.py:22: DeprecationWarning: find_element_by_css_selector is deprecated. Please use find_element(by=By.CSS_SELECTOR, value=css_selector) instead\n",
      "  game = driver.find_element_by_css_selector('#selectGameId')\n",
      "/tmp/ipykernel_11671/1732342239.py:25: DeprecationWarning: find_element_by_css_selector is deprecated. Please use find_element(by=By.CSS_SELECTOR, value=css_selector) instead\n",
      "  searchbutten = driver.find_element_by_css_selector('#btnSearch')\n"
     ]
    },
    {
     "output_type": "stream",
     "name": "stdout",
     "text": [
      "4R / 안양(H)\n"
     ]
    },
    {
     "output_type": "stream",
     "name": "stderr",
     "text": [
      "/tmp/ipykernel_11671/1732342239.py:22: DeprecationWarning: find_element_by_css_selector is deprecated. Please use find_element(by=By.CSS_SELECTOR, value=css_selector) instead\n",
      "  game = driver.find_element_by_css_selector('#selectGameId')\n",
      "/tmp/ipykernel_11671/1732342239.py:25: DeprecationWarning: find_element_by_css_selector is deprecated. Please use find_element(by=By.CSS_SELECTOR, value=css_selector) instead\n",
      "  searchbutten = driver.find_element_by_css_selector('#btnSearch')\n"
     ]
    },
    {
     "output_type": "stream",
     "name": "stdout",
     "text": [
      "5R / 충남아산(A)\n"
     ]
    },
    {
     "output_type": "stream",
     "name": "stderr",
     "text": [
      "/tmp/ipykernel_11671/1732342239.py:22: DeprecationWarning: find_element_by_css_selector is deprecated. Please use find_element(by=By.CSS_SELECTOR, value=css_selector) instead\n",
      "  game = driver.find_element_by_css_selector('#selectGameId')\n",
      "/tmp/ipykernel_11671/1732342239.py:25: DeprecationWarning: find_element_by_css_selector is deprecated. Please use find_element(by=By.CSS_SELECTOR, value=css_selector) instead\n",
      "  searchbutten = driver.find_element_by_css_selector('#btnSearch')\n"
     ]
    },
    {
     "output_type": "stream",
     "name": "stdout",
     "text": [
      "6R / 대전(H)\n"
     ]
    },
    {
     "output_type": "stream",
     "name": "stderr",
     "text": [
      "/tmp/ipykernel_11671/1732342239.py:22: DeprecationWarning: find_element_by_css_selector is deprecated. Please use find_element(by=By.CSS_SELECTOR, value=css_selector) instead\n",
      "  game = driver.find_element_by_css_selector('#selectGameId')\n",
      "/tmp/ipykernel_11671/1732342239.py:25: DeprecationWarning: find_element_by_css_selector is deprecated. Please use find_element(by=By.CSS_SELECTOR, value=css_selector) instead\n",
      "  searchbutten = driver.find_element_by_css_selector('#btnSearch')\n"
     ]
    },
    {
     "output_type": "stream",
     "name": "stdout",
     "text": [
      "7R / 안산(H)\n"
     ]
    },
    {
     "output_type": "stream",
     "name": "stderr",
     "text": [
      "/tmp/ipykernel_11671/1732342239.py:22: DeprecationWarning: find_element_by_css_selector is deprecated. Please use find_element(by=By.CSS_SELECTOR, value=css_selector) instead\n",
      "  game = driver.find_element_by_css_selector('#selectGameId')\n",
      "/tmp/ipykernel_11671/1732342239.py:25: DeprecationWarning: find_element_by_css_selector is deprecated. Please use find_element(by=By.CSS_SELECTOR, value=css_selector) instead\n",
      "  searchbutten = driver.find_element_by_css_selector('#btnSearch')\n"
     ]
    },
    {
     "output_type": "stream",
     "name": "stdout",
     "text": [
      "8R / 부천(A)\n"
     ]
    },
    {
     "output_type": "stream",
     "name": "stderr",
     "text": [
      "/tmp/ipykernel_11671/1732342239.py:22: DeprecationWarning: find_element_by_css_selector is deprecated. Please use find_element(by=By.CSS_SELECTOR, value=css_selector) instead\n",
      "  game = driver.find_element_by_css_selector('#selectGameId')\n",
      "/tmp/ipykernel_11671/1732342239.py:25: DeprecationWarning: find_element_by_css_selector is deprecated. Please use find_element(by=By.CSS_SELECTOR, value=css_selector) instead\n",
      "  searchbutten = driver.find_element_by_css_selector('#btnSearch')\n"
     ]
    },
    {
     "output_type": "stream",
     "name": "stdout",
     "text": [
      "9R / 수원FC(H)\n"
     ]
    },
    {
     "output_type": "stream",
     "name": "stderr",
     "text": [
      "/tmp/ipykernel_11671/1732342239.py:22: DeprecationWarning: find_element_by_css_selector is deprecated. Please use find_element(by=By.CSS_SELECTOR, value=css_selector) instead\n",
      "  game = driver.find_element_by_css_selector('#selectGameId')\n",
      "/tmp/ipykernel_11671/1732342239.py:25: DeprecationWarning: find_element_by_css_selector is deprecated. Please use find_element(by=By.CSS_SELECTOR, value=css_selector) instead\n",
      "  searchbutten = driver.find_element_by_css_selector('#btnSearch')\n"
     ]
    },
    {
     "output_type": "stream",
     "name": "stdout",
     "text": [
      "10R / 경남(A)\n"
     ]
    },
    {
     "output_type": "stream",
     "name": "stderr",
     "text": [
      "/tmp/ipykernel_11671/1732342239.py:22: DeprecationWarning: find_element_by_css_selector is deprecated. Please use find_element(by=By.CSS_SELECTOR, value=css_selector) instead\n",
      "  game = driver.find_element_by_css_selector('#selectGameId')\n",
      "/tmp/ipykernel_11671/1732342239.py:25: DeprecationWarning: find_element_by_css_selector is deprecated. Please use find_element(by=By.CSS_SELECTOR, value=css_selector) instead\n",
      "  searchbutten = driver.find_element_by_css_selector('#btnSearch')\n"
     ]
    },
    {
     "output_type": "stream",
     "name": "stdout",
     "text": [
      "11R / 제주(H)\n"
     ]
    },
    {
     "output_type": "stream",
     "name": "stderr",
     "text": [
      "/tmp/ipykernel_11671/1732342239.py:22: DeprecationWarning: find_element_by_css_selector is deprecated. Please use find_element(by=By.CSS_SELECTOR, value=css_selector) instead\n",
      "  game = driver.find_element_by_css_selector('#selectGameId')\n",
      "/tmp/ipykernel_11671/1732342239.py:25: DeprecationWarning: find_element_by_css_selector is deprecated. Please use find_element(by=By.CSS_SELECTOR, value=css_selector) instead\n",
      "  searchbutten = driver.find_element_by_css_selector('#btnSearch')\n"
     ]
    },
    {
     "output_type": "stream",
     "name": "stdout",
     "text": [
      "12R / 충남아산(H)\n"
     ]
    },
    {
     "output_type": "stream",
     "name": "stderr",
     "text": [
      "/tmp/ipykernel_11671/1732342239.py:22: DeprecationWarning: find_element_by_css_selector is deprecated. Please use find_element(by=By.CSS_SELECTOR, value=css_selector) instead\n",
      "  game = driver.find_element_by_css_selector('#selectGameId')\n",
      "/tmp/ipykernel_11671/1732342239.py:25: DeprecationWarning: find_element_by_css_selector is deprecated. Please use find_element(by=By.CSS_SELECTOR, value=css_selector) instead\n",
      "  searchbutten = driver.find_element_by_css_selector('#btnSearch')\n"
     ]
    },
    {
     "output_type": "stream",
     "name": "stdout",
     "text": [
      "13R / 부천(H)\n"
     ]
    },
    {
     "output_type": "stream",
     "name": "stderr",
     "text": [
      "/tmp/ipykernel_11671/1732342239.py:22: DeprecationWarning: find_element_by_css_selector is deprecated. Please use find_element(by=By.CSS_SELECTOR, value=css_selector) instead\n",
      "  game = driver.find_element_by_css_selector('#selectGameId')\n",
      "/tmp/ipykernel_11671/1732342239.py:25: DeprecationWarning: find_element_by_css_selector is deprecated. Please use find_element(by=By.CSS_SELECTOR, value=css_selector) instead\n",
      "  searchbutten = driver.find_element_by_css_selector('#btnSearch')\n"
     ]
    },
    {
     "output_type": "stream",
     "name": "stdout",
     "text": [
      "14R / 전남(A)\n"
     ]
    },
    {
     "output_type": "stream",
     "name": "stderr",
     "text": [
      "/tmp/ipykernel_11671/1732342239.py:22: DeprecationWarning: find_element_by_css_selector is deprecated. Please use find_element(by=By.CSS_SELECTOR, value=css_selector) instead\n",
      "  game = driver.find_element_by_css_selector('#selectGameId')\n",
      "/tmp/ipykernel_11671/1732342239.py:25: DeprecationWarning: find_element_by_css_selector is deprecated. Please use find_element(by=By.CSS_SELECTOR, value=css_selector) instead\n",
      "  searchbutten = driver.find_element_by_css_selector('#btnSearch')\n"
     ]
    },
    {
     "output_type": "stream",
     "name": "stdout",
     "text": [
      "15R / 대전(A)\n"
     ]
    },
    {
     "output_type": "stream",
     "name": "stderr",
     "text": [
      "/tmp/ipykernel_11671/1732342239.py:22: DeprecationWarning: find_element_by_css_selector is deprecated. Please use find_element(by=By.CSS_SELECTOR, value=css_selector) instead\n",
      "  game = driver.find_element_by_css_selector('#selectGameId')\n",
      "/tmp/ipykernel_11671/1732342239.py:25: DeprecationWarning: find_element_by_css_selector is deprecated. Please use find_element(by=By.CSS_SELECTOR, value=css_selector) instead\n",
      "  searchbutten = driver.find_element_by_css_selector('#btnSearch')\n"
     ]
    },
    {
     "output_type": "stream",
     "name": "stdout",
     "text": [
      "16R / 수원FC(A)\n"
     ]
    },
    {
     "output_type": "stream",
     "name": "stderr",
     "text": [
      "/tmp/ipykernel_11671/1732342239.py:22: DeprecationWarning: find_element_by_css_selector is deprecated. Please use find_element(by=By.CSS_SELECTOR, value=css_selector) instead\n",
      "  game = driver.find_element_by_css_selector('#selectGameId')\n",
      "/tmp/ipykernel_11671/1732342239.py:25: DeprecationWarning: find_element_by_css_selector is deprecated. Please use find_element(by=By.CSS_SELECTOR, value=css_selector) instead\n",
      "  searchbutten = driver.find_element_by_css_selector('#btnSearch')\n"
     ]
    },
    {
     "output_type": "stream",
     "name": "stdout",
     "text": [
      "17R / 안산(A)\n"
     ]
    },
    {
     "output_type": "stream",
     "name": "stderr",
     "text": [
      "/tmp/ipykernel_11671/1732342239.py:22: DeprecationWarning: find_element_by_css_selector is deprecated. Please use find_element(by=By.CSS_SELECTOR, value=css_selector) instead\n",
      "  game = driver.find_element_by_css_selector('#selectGameId')\n",
      "/tmp/ipykernel_11671/1732342239.py:25: DeprecationWarning: find_element_by_css_selector is deprecated. Please use find_element(by=By.CSS_SELECTOR, value=css_selector) instead\n",
      "  searchbutten = driver.find_element_by_css_selector('#btnSearch')\n"
     ]
    },
    {
     "output_type": "stream",
     "name": "stdout",
     "text": [
      "18R / 안양(A)\n"
     ]
    },
    {
     "output_type": "stream",
     "name": "stderr",
     "text": [
      "/tmp/ipykernel_11671/1732342239.py:22: DeprecationWarning: find_element_by_css_selector is deprecated. Please use find_element(by=By.CSS_SELECTOR, value=css_selector) instead\n",
      "  game = driver.find_element_by_css_selector('#selectGameId')\n",
      "/tmp/ipykernel_11671/1732342239.py:25: DeprecationWarning: find_element_by_css_selector is deprecated. Please use find_element(by=By.CSS_SELECTOR, value=css_selector) instead\n",
      "  searchbutten = driver.find_element_by_css_selector('#btnSearch')\n"
     ]
    },
    {
     "output_type": "stream",
     "name": "stdout",
     "text": [
      "19R / 충남아산(H)\n"
     ]
    },
    {
     "output_type": "stream",
     "name": "stderr",
     "text": [
      "/tmp/ipykernel_11671/1732342239.py:22: DeprecationWarning: find_element_by_css_selector is deprecated. Please use find_element(by=By.CSS_SELECTOR, value=css_selector) instead\n",
      "  game = driver.find_element_by_css_selector('#selectGameId')\n",
      "/tmp/ipykernel_11671/1732342239.py:25: DeprecationWarning: find_element_by_css_selector is deprecated. Please use find_element(by=By.CSS_SELECTOR, value=css_selector) instead\n",
      "  searchbutten = driver.find_element_by_css_selector('#btnSearch')\n"
     ]
    },
    {
     "output_type": "stream",
     "name": "stdout",
     "text": [
      "20R / 대전(A)\n"
     ]
    },
    {
     "output_type": "stream",
     "name": "stderr",
     "text": [
      "/tmp/ipykernel_11671/1732342239.py:22: DeprecationWarning: find_element_by_css_selector is deprecated. Please use find_element(by=By.CSS_SELECTOR, value=css_selector) instead\n",
      "  game = driver.find_element_by_css_selector('#selectGameId')\n",
      "/tmp/ipykernel_11671/1732342239.py:25: DeprecationWarning: find_element_by_css_selector is deprecated. Please use find_element(by=By.CSS_SELECTOR, value=css_selector) instead\n",
      "  searchbutten = driver.find_element_by_css_selector('#btnSearch')\n"
     ]
    },
    {
     "output_type": "stream",
     "name": "stdout",
     "text": [
      "21R / 수원FC(A)\n"
     ]
    },
    {
     "output_type": "stream",
     "name": "stderr",
     "text": [
      "/tmp/ipykernel_11671/1732342239.py:22: DeprecationWarning: find_element_by_css_selector is deprecated. Please use find_element(by=By.CSS_SELECTOR, value=css_selector) instead\n",
      "  game = driver.find_element_by_css_selector('#selectGameId')\n",
      "/tmp/ipykernel_11671/1732342239.py:25: DeprecationWarning: find_element_by_css_selector is deprecated. Please use find_element(by=By.CSS_SELECTOR, value=css_selector) instead\n",
      "  searchbutten = driver.find_element_by_css_selector('#btnSearch')\n"
     ]
    },
    {
     "output_type": "stream",
     "name": "stdout",
     "text": [
      "22R / 경남(H)\n"
     ]
    },
    {
     "output_type": "stream",
     "name": "stderr",
     "text": [
      "/tmp/ipykernel_11671/1732342239.py:22: DeprecationWarning: find_element_by_css_selector is deprecated. Please use find_element(by=By.CSS_SELECTOR, value=css_selector) instead\n",
      "  game = driver.find_element_by_css_selector('#selectGameId')\n",
      "/tmp/ipykernel_11671/1732342239.py:25: DeprecationWarning: find_element_by_css_selector is deprecated. Please use find_element(by=By.CSS_SELECTOR, value=css_selector) instead\n",
      "  searchbutten = driver.find_element_by_css_selector('#btnSearch')\n"
     ]
    },
    {
     "output_type": "stream",
     "name": "stdout",
     "text": [
      "23R / 부천(H)\n"
     ]
    },
    {
     "output_type": "stream",
     "name": "stderr",
     "text": [
      "/tmp/ipykernel_11671/1732342239.py:22: DeprecationWarning: find_element_by_css_selector is deprecated. Please use find_element(by=By.CSS_SELECTOR, value=css_selector) instead\n",
      "  game = driver.find_element_by_css_selector('#selectGameId')\n",
      "/tmp/ipykernel_11671/1732342239.py:25: DeprecationWarning: find_element_by_css_selector is deprecated. Please use find_element(by=By.CSS_SELECTOR, value=css_selector) instead\n",
      "  searchbutten = driver.find_element_by_css_selector('#btnSearch')\n"
     ]
    },
    {
     "output_type": "stream",
     "name": "stdout",
     "text": [
      "24R / 안양(A)\n"
     ]
    },
    {
     "output_type": "stream",
     "name": "stderr",
     "text": [
      "/tmp/ipykernel_11671/1732342239.py:22: DeprecationWarning: find_element_by_css_selector is deprecated. Please use find_element(by=By.CSS_SELECTOR, value=css_selector) instead\n",
      "  game = driver.find_element_by_css_selector('#selectGameId')\n",
      "/tmp/ipykernel_11671/1732342239.py:25: DeprecationWarning: find_element_by_css_selector is deprecated. Please use find_element(by=By.CSS_SELECTOR, value=css_selector) instead\n",
      "  searchbutten = driver.find_element_by_css_selector('#btnSearch')\n"
     ]
    },
    {
     "output_type": "stream",
     "name": "stdout",
     "text": [
      "25R / 안산(A)\n"
     ]
    },
    {
     "output_type": "stream",
     "name": "stderr",
     "text": [
      "/tmp/ipykernel_11671/1732342239.py:22: DeprecationWarning: find_element_by_css_selector is deprecated. Please use find_element(by=By.CSS_SELECTOR, value=css_selector) instead\n",
      "  game = driver.find_element_by_css_selector('#selectGameId')\n",
      "/tmp/ipykernel_11671/1732342239.py:25: DeprecationWarning: find_element_by_css_selector is deprecated. Please use find_element(by=By.CSS_SELECTOR, value=css_selector) instead\n",
      "  searchbutten = driver.find_element_by_css_selector('#btnSearch')\n"
     ]
    },
    {
     "output_type": "stream",
     "name": "stdout",
     "text": [
      "26R / 제주(A)\n"
     ]
    },
    {
     "output_type": "stream",
     "name": "stderr",
     "text": [
      "/tmp/ipykernel_11671/1732342239.py:22: DeprecationWarning: find_element_by_css_selector is deprecated. Please use find_element(by=By.CSS_SELECTOR, value=css_selector) instead\n",
      "  game = driver.find_element_by_css_selector('#selectGameId')\n",
      "/tmp/ipykernel_11671/1732342239.py:25: DeprecationWarning: find_element_by_css_selector is deprecated. Please use find_element(by=By.CSS_SELECTOR, value=css_selector) instead\n",
      "  searchbutten = driver.find_element_by_css_selector('#btnSearch')\n"
     ]
    },
    {
     "output_type": "stream",
     "name": "stdout",
     "text": [
      "27R / 전남(H)\n"
     ]
    },
    {
     "output_type": "stream",
     "name": "stderr",
     "text": [
      "/tmp/ipykernel_11671/1732342239.py:16: DeprecationWarning: find_element_by_css_selector is deprecated. Please use find_element(by=By.CSS_SELECTOR, value=css_selector) instead\n",
      "  teamsel = driver.find_element_by_css_selector('#selectTeamId')\n",
      "/tmp/ipykernel_11671/1732342239.py:19: DeprecationWarning: find_elements_by_css_selector is deprecated. Please use find_elements(by=By.CSS_SELECTOR, value=css_selector) instead\n",
      "  gamessel = driver.find_elements_by_css_selector('#selectGameId > option')\n",
      "/tmp/ipykernel_11671/1732342239.py:22: DeprecationWarning: find_element_by_css_selector is deprecated. Please use find_element(by=By.CSS_SELECTOR, value=css_selector) instead\n",
      "  game = driver.find_element_by_css_selector('#selectGameId')\n",
      "/tmp/ipykernel_11671/1732342239.py:25: DeprecationWarning: find_element_by_css_selector is deprecated. Please use find_element(by=By.CSS_SELECTOR, value=css_selector) instead\n",
      "  searchbutten = driver.find_element_by_css_selector('#btnSearch')\n"
     ]
    },
    {
     "output_type": "stream",
     "name": "stdout",
     "text": [
      "1R / 안양(A)\n"
     ]
    },
    {
     "output_type": "stream",
     "name": "stderr",
     "text": [
      "/tmp/ipykernel_11671/1732342239.py:22: DeprecationWarning: find_element_by_css_selector is deprecated. Please use find_element(by=By.CSS_SELECTOR, value=css_selector) instead\n",
      "  game = driver.find_element_by_css_selector('#selectGameId')\n",
      "/tmp/ipykernel_11671/1732342239.py:25: DeprecationWarning: find_element_by_css_selector is deprecated. Please use find_element(by=By.CSS_SELECTOR, value=css_selector) instead\n",
      "  searchbutten = driver.find_element_by_css_selector('#btnSearch')\n"
     ]
    },
    {
     "output_type": "stream",
     "name": "stdout",
     "text": [
      "2R / 수원FC(H)\n"
     ]
    },
    {
     "output_type": "stream",
     "name": "stderr",
     "text": [
      "/tmp/ipykernel_11671/1732342239.py:22: DeprecationWarning: find_element_by_css_selector is deprecated. Please use find_element(by=By.CSS_SELECTOR, value=css_selector) instead\n",
      "  game = driver.find_element_by_css_selector('#selectGameId')\n",
      "/tmp/ipykernel_11671/1732342239.py:25: DeprecationWarning: find_element_by_css_selector is deprecated. Please use find_element(by=By.CSS_SELECTOR, value=css_selector) instead\n",
      "  searchbutten = driver.find_element_by_css_selector('#btnSearch')\n"
     ]
    },
    {
     "output_type": "stream",
     "name": "stdout",
     "text": [
      "3R / 부천(H)\n"
     ]
    },
    {
     "output_type": "stream",
     "name": "stderr",
     "text": [
      "/tmp/ipykernel_11671/1732342239.py:22: DeprecationWarning: find_element_by_css_selector is deprecated. Please use find_element(by=By.CSS_SELECTOR, value=css_selector) instead\n",
      "  game = driver.find_element_by_css_selector('#selectGameId')\n",
      "/tmp/ipykernel_11671/1732342239.py:25: DeprecationWarning: find_element_by_css_selector is deprecated. Please use find_element(by=By.CSS_SELECTOR, value=css_selector) instead\n",
      "  searchbutten = driver.find_element_by_css_selector('#btnSearch')\n"
     ]
    },
    {
     "output_type": "stream",
     "name": "stdout",
     "text": [
      "4R / 대전(A)\n"
     ]
    },
    {
     "output_type": "stream",
     "name": "stderr",
     "text": [
      "/tmp/ipykernel_11671/1732342239.py:22: DeprecationWarning: find_element_by_css_selector is deprecated. Please use find_element(by=By.CSS_SELECTOR, value=css_selector) instead\n",
      "  game = driver.find_element_by_css_selector('#selectGameId')\n",
      "/tmp/ipykernel_11671/1732342239.py:25: DeprecationWarning: find_element_by_css_selector is deprecated. Please use find_element(by=By.CSS_SELECTOR, value=css_selector) instead\n",
      "  searchbutten = driver.find_element_by_css_selector('#btnSearch')\n"
     ]
    },
    {
     "output_type": "stream",
     "name": "stdout",
     "text": [
      "5R / 제주(H)\n"
     ]
    },
    {
     "output_type": "stream",
     "name": "stderr",
     "text": [
      "/tmp/ipykernel_11671/1732342239.py:22: DeprecationWarning: find_element_by_css_selector is deprecated. Please use find_element(by=By.CSS_SELECTOR, value=css_selector) instead\n",
      "  game = driver.find_element_by_css_selector('#selectGameId')\n",
      "/tmp/ipykernel_11671/1732342239.py:25: DeprecationWarning: find_element_by_css_selector is deprecated. Please use find_element(by=By.CSS_SELECTOR, value=css_selector) instead\n",
      "  searchbutten = driver.find_element_by_css_selector('#btnSearch')\n"
     ]
    },
    {
     "output_type": "stream",
     "name": "stdout",
     "text": [
      "6R / 경남(A)\n"
     ]
    },
    {
     "output_type": "stream",
     "name": "stderr",
     "text": [
      "/tmp/ipykernel_11671/1732342239.py:22: DeprecationWarning: find_element_by_css_selector is deprecated. Please use find_element(by=By.CSS_SELECTOR, value=css_selector) instead\n",
      "  game = driver.find_element_by_css_selector('#selectGameId')\n",
      "/tmp/ipykernel_11671/1732342239.py:25: DeprecationWarning: find_element_by_css_selector is deprecated. Please use find_element(by=By.CSS_SELECTOR, value=css_selector) instead\n",
      "  searchbutten = driver.find_element_by_css_selector('#btnSearch')\n"
     ]
    },
    {
     "output_type": "stream",
     "name": "stdout",
     "text": [
      "7R / 서울E(A)\n"
     ]
    },
    {
     "output_type": "stream",
     "name": "stderr",
     "text": [
      "/tmp/ipykernel_11671/1732342239.py:22: DeprecationWarning: find_element_by_css_selector is deprecated. Please use find_element(by=By.CSS_SELECTOR, value=css_selector) instead\n",
      "  game = driver.find_element_by_css_selector('#selectGameId')\n",
      "/tmp/ipykernel_11671/1732342239.py:25: DeprecationWarning: find_element_by_css_selector is deprecated. Please use find_element(by=By.CSS_SELECTOR, value=css_selector) instead\n",
      "  searchbutten = driver.find_element_by_css_selector('#btnSearch')\n"
     ]
    },
    {
     "output_type": "stream",
     "name": "stdout",
     "text": [
      "8R / 충남아산(H)\n"
     ]
    },
    {
     "output_type": "stream",
     "name": "stderr",
     "text": [
      "/tmp/ipykernel_11671/1732342239.py:22: DeprecationWarning: find_element_by_css_selector is deprecated. Please use find_element(by=By.CSS_SELECTOR, value=css_selector) instead\n",
      "  game = driver.find_element_by_css_selector('#selectGameId')\n",
      "/tmp/ipykernel_11671/1732342239.py:25: DeprecationWarning: find_element_by_css_selector is deprecated. Please use find_element(by=By.CSS_SELECTOR, value=css_selector) instead\n",
      "  searchbutten = driver.find_element_by_css_selector('#btnSearch')\n"
     ]
    },
    {
     "output_type": "stream",
     "name": "stdout",
     "text": [
      "9R / 전남(A)\n"
     ]
    },
    {
     "output_type": "stream",
     "name": "stderr",
     "text": [
      "/tmp/ipykernel_11671/1732342239.py:22: DeprecationWarning: find_element_by_css_selector is deprecated. Please use find_element(by=By.CSS_SELECTOR, value=css_selector) instead\n",
      "  game = driver.find_element_by_css_selector('#selectGameId')\n",
      "/tmp/ipykernel_11671/1732342239.py:25: DeprecationWarning: find_element_by_css_selector is deprecated. Please use find_element(by=By.CSS_SELECTOR, value=css_selector) instead\n",
      "  searchbutten = driver.find_element_by_css_selector('#btnSearch')\n"
     ]
    },
    {
     "output_type": "stream",
     "name": "stdout",
     "text": [
      "10R / 대전(H)\n"
     ]
    },
    {
     "output_type": "stream",
     "name": "stderr",
     "text": [
      "/tmp/ipykernel_11671/1732342239.py:22: DeprecationWarning: find_element_by_css_selector is deprecated. Please use find_element(by=By.CSS_SELECTOR, value=css_selector) instead\n",
      "  game = driver.find_element_by_css_selector('#selectGameId')\n",
      "/tmp/ipykernel_11671/1732342239.py:25: DeprecationWarning: find_element_by_css_selector is deprecated. Please use find_element(by=By.CSS_SELECTOR, value=css_selector) instead\n",
      "  searchbutten = driver.find_element_by_css_selector('#btnSearch')\n"
     ]
    },
    {
     "output_type": "stream",
     "name": "stdout",
     "text": [
      "11R / 경남(H)\n"
     ]
    },
    {
     "output_type": "stream",
     "name": "stderr",
     "text": [
      "/tmp/ipykernel_11671/1732342239.py:22: DeprecationWarning: find_element_by_css_selector is deprecated. Please use find_element(by=By.CSS_SELECTOR, value=css_selector) instead\n",
      "  game = driver.find_element_by_css_selector('#selectGameId')\n",
      "/tmp/ipykernel_11671/1732342239.py:25: DeprecationWarning: find_element_by_css_selector is deprecated. Please use find_element(by=By.CSS_SELECTOR, value=css_selector) instead\n",
      "  searchbutten = driver.find_element_by_css_selector('#btnSearch')\n"
     ]
    },
    {
     "output_type": "stream",
     "name": "stdout",
     "text": [
      "12R / 부천(A)\n"
     ]
    },
    {
     "output_type": "stream",
     "name": "stderr",
     "text": [
      "/tmp/ipykernel_11671/1732342239.py:22: DeprecationWarning: find_element_by_css_selector is deprecated. Please use find_element(by=By.CSS_SELECTOR, value=css_selector) instead\n",
      "  game = driver.find_element_by_css_selector('#selectGameId')\n",
      "/tmp/ipykernel_11671/1732342239.py:25: DeprecationWarning: find_element_by_css_selector is deprecated. Please use find_element(by=By.CSS_SELECTOR, value=css_selector) instead\n",
      "  searchbutten = driver.find_element_by_css_selector('#btnSearch')\n"
     ]
    },
    {
     "output_type": "stream",
     "name": "stdout",
     "text": [
      "13R / 수원FC(A)\n"
     ]
    },
    {
     "output_type": "stream",
     "name": "stderr",
     "text": [
      "/tmp/ipykernel_11671/1732342239.py:22: DeprecationWarning: find_element_by_css_selector is deprecated. Please use find_element(by=By.CSS_SELECTOR, value=css_selector) instead\n",
      "  game = driver.find_element_by_css_selector('#selectGameId')\n",
      "/tmp/ipykernel_11671/1732342239.py:25: DeprecationWarning: find_element_by_css_selector is deprecated. Please use find_element(by=By.CSS_SELECTOR, value=css_selector) instead\n",
      "  searchbutten = driver.find_element_by_css_selector('#btnSearch')\n"
     ]
    },
    {
     "output_type": "stream",
     "name": "stdout",
     "text": [
      "14R / 안양(H)\n"
     ]
    },
    {
     "output_type": "stream",
     "name": "stderr",
     "text": [
      "/tmp/ipykernel_11671/1732342239.py:22: DeprecationWarning: find_element_by_css_selector is deprecated. Please use find_element(by=By.CSS_SELECTOR, value=css_selector) instead\n",
      "  game = driver.find_element_by_css_selector('#selectGameId')\n",
      "/tmp/ipykernel_11671/1732342239.py:25: DeprecationWarning: find_element_by_css_selector is deprecated. Please use find_element(by=By.CSS_SELECTOR, value=css_selector) instead\n",
      "  searchbutten = driver.find_element_by_css_selector('#btnSearch')\n"
     ]
    },
    {
     "output_type": "stream",
     "name": "stdout",
     "text": [
      "15R / 전남(H)\n"
     ]
    },
    {
     "output_type": "stream",
     "name": "stderr",
     "text": [
      "/tmp/ipykernel_11671/1732342239.py:22: DeprecationWarning: find_element_by_css_selector is deprecated. Please use find_element(by=By.CSS_SELECTOR, value=css_selector) instead\n",
      "  game = driver.find_element_by_css_selector('#selectGameId')\n",
      "/tmp/ipykernel_11671/1732342239.py:25: DeprecationWarning: find_element_by_css_selector is deprecated. Please use find_element(by=By.CSS_SELECTOR, value=css_selector) instead\n",
      "  searchbutten = driver.find_element_by_css_selector('#btnSearch')\n"
     ]
    },
    {
     "output_type": "stream",
     "name": "stdout",
     "text": [
      "16R / 제주(A)\n"
     ]
    },
    {
     "output_type": "stream",
     "name": "stderr",
     "text": [
      "/tmp/ipykernel_11671/1732342239.py:22: DeprecationWarning: find_element_by_css_selector is deprecated. Please use find_element(by=By.CSS_SELECTOR, value=css_selector) instead\n",
      "  game = driver.find_element_by_css_selector('#selectGameId')\n",
      "/tmp/ipykernel_11671/1732342239.py:25: DeprecationWarning: find_element_by_css_selector is deprecated. Please use find_element(by=By.CSS_SELECTOR, value=css_selector) instead\n",
      "  searchbutten = driver.find_element_by_css_selector('#btnSearch')\n"
     ]
    },
    {
     "output_type": "stream",
     "name": "stdout",
     "text": [
      "17R / 서울E(H)\n"
     ]
    },
    {
     "output_type": "stream",
     "name": "stderr",
     "text": [
      "/tmp/ipykernel_11671/1732342239.py:22: DeprecationWarning: find_element_by_css_selector is deprecated. Please use find_element(by=By.CSS_SELECTOR, value=css_selector) instead\n",
      "  game = driver.find_element_by_css_selector('#selectGameId')\n",
      "/tmp/ipykernel_11671/1732342239.py:25: DeprecationWarning: find_element_by_css_selector is deprecated. Please use find_element(by=By.CSS_SELECTOR, value=css_selector) instead\n",
      "  searchbutten = driver.find_element_by_css_selector('#btnSearch')\n"
     ]
    },
    {
     "output_type": "stream",
     "name": "stdout",
     "text": [
      "18R / 충남아산(A)\n"
     ]
    },
    {
     "output_type": "stream",
     "name": "stderr",
     "text": [
      "/tmp/ipykernel_11671/1732342239.py:22: DeprecationWarning: find_element_by_css_selector is deprecated. Please use find_element(by=By.CSS_SELECTOR, value=css_selector) instead\n",
      "  game = driver.find_element_by_css_selector('#selectGameId')\n",
      "/tmp/ipykernel_11671/1732342239.py:25: DeprecationWarning: find_element_by_css_selector is deprecated. Please use find_element(by=By.CSS_SELECTOR, value=css_selector) instead\n",
      "  searchbutten = driver.find_element_by_css_selector('#btnSearch')\n"
     ]
    },
    {
     "output_type": "stream",
     "name": "stdout",
     "text": [
      "19R / 안양(H)\n"
     ]
    },
    {
     "output_type": "stream",
     "name": "stderr",
     "text": [
      "/tmp/ipykernel_11671/1732342239.py:22: DeprecationWarning: find_element_by_css_selector is deprecated. Please use find_element(by=By.CSS_SELECTOR, value=css_selector) instead\n",
      "  game = driver.find_element_by_css_selector('#selectGameId')\n",
      "/tmp/ipykernel_11671/1732342239.py:25: DeprecationWarning: find_element_by_css_selector is deprecated. Please use find_element(by=By.CSS_SELECTOR, value=css_selector) instead\n",
      "  searchbutten = driver.find_element_by_css_selector('#btnSearch')\n"
     ]
    },
    {
     "output_type": "stream",
     "name": "stdout",
     "text": [
      "20R / 경남(A)\n"
     ]
    },
    {
     "output_type": "stream",
     "name": "stderr",
     "text": [
      "/tmp/ipykernel_11671/1732342239.py:22: DeprecationWarning: find_element_by_css_selector is deprecated. Please use find_element(by=By.CSS_SELECTOR, value=css_selector) instead\n",
      "  game = driver.find_element_by_css_selector('#selectGameId')\n",
      "/tmp/ipykernel_11671/1732342239.py:25: DeprecationWarning: find_element_by_css_selector is deprecated. Please use find_element(by=By.CSS_SELECTOR, value=css_selector) instead\n",
      "  searchbutten = driver.find_element_by_css_selector('#btnSearch')\n"
     ]
    },
    {
     "output_type": "stream",
     "name": "stdout",
     "text": [
      "21R / 대전(H)\n"
     ]
    },
    {
     "output_type": "stream",
     "name": "stderr",
     "text": [
      "/tmp/ipykernel_11671/1732342239.py:22: DeprecationWarning: find_element_by_css_selector is deprecated. Please use find_element(by=By.CSS_SELECTOR, value=css_selector) instead\n",
      "  game = driver.find_element_by_css_selector('#selectGameId')\n",
      "/tmp/ipykernel_11671/1732342239.py:25: DeprecationWarning: find_element_by_css_selector is deprecated. Please use find_element(by=By.CSS_SELECTOR, value=css_selector) instead\n",
      "  searchbutten = driver.find_element_by_css_selector('#btnSearch')\n"
     ]
    },
    {
     "output_type": "stream",
     "name": "stdout",
     "text": [
      "22R / 수원FC(H)\n"
     ]
    },
    {
     "output_type": "stream",
     "name": "stderr",
     "text": [
      "/tmp/ipykernel_11671/1732342239.py:22: DeprecationWarning: find_element_by_css_selector is deprecated. Please use find_element(by=By.CSS_SELECTOR, value=css_selector) instead\n",
      "  game = driver.find_element_by_css_selector('#selectGameId')\n",
      "/tmp/ipykernel_11671/1732342239.py:25: DeprecationWarning: find_element_by_css_selector is deprecated. Please use find_element(by=By.CSS_SELECTOR, value=css_selector) instead\n",
      "  searchbutten = driver.find_element_by_css_selector('#btnSearch')\n"
     ]
    },
    {
     "output_type": "stream",
     "name": "stdout",
     "text": [
      "23R / 제주(A)\n"
     ]
    },
    {
     "output_type": "stream",
     "name": "stderr",
     "text": [
      "/tmp/ipykernel_11671/1732342239.py:22: DeprecationWarning: find_element_by_css_selector is deprecated. Please use find_element(by=By.CSS_SELECTOR, value=css_selector) instead\n",
      "  game = driver.find_element_by_css_selector('#selectGameId')\n",
      "/tmp/ipykernel_11671/1732342239.py:25: DeprecationWarning: find_element_by_css_selector is deprecated. Please use find_element(by=By.CSS_SELECTOR, value=css_selector) instead\n",
      "  searchbutten = driver.find_element_by_css_selector('#btnSearch')\n"
     ]
    },
    {
     "output_type": "stream",
     "name": "stdout",
     "text": [
      "24R / 충남아산(A)\n"
     ]
    },
    {
     "output_type": "stream",
     "name": "stderr",
     "text": [
      "/tmp/ipykernel_11671/1732342239.py:22: DeprecationWarning: find_element_by_css_selector is deprecated. Please use find_element(by=By.CSS_SELECTOR, value=css_selector) instead\n",
      "  game = driver.find_element_by_css_selector('#selectGameId')\n",
      "/tmp/ipykernel_11671/1732342239.py:25: DeprecationWarning: find_element_by_css_selector is deprecated. Please use find_element(by=By.CSS_SELECTOR, value=css_selector) instead\n",
      "  searchbutten = driver.find_element_by_css_selector('#btnSearch')\n"
     ]
    },
    {
     "output_type": "stream",
     "name": "stdout",
     "text": [
      "25R / 서울E(H)\n"
     ]
    },
    {
     "output_type": "stream",
     "name": "stderr",
     "text": [
      "/tmp/ipykernel_11671/1732342239.py:22: DeprecationWarning: find_element_by_css_selector is deprecated. Please use find_element(by=By.CSS_SELECTOR, value=css_selector) instead\n",
      "  game = driver.find_element_by_css_selector('#selectGameId')\n",
      "/tmp/ipykernel_11671/1732342239.py:25: DeprecationWarning: find_element_by_css_selector is deprecated. Please use find_element(by=By.CSS_SELECTOR, value=css_selector) instead\n",
      "  searchbutten = driver.find_element_by_css_selector('#btnSearch')\n"
     ]
    },
    {
     "output_type": "stream",
     "name": "stdout",
     "text": [
      "26R / 전남(A)\n"
     ]
    },
    {
     "output_type": "stream",
     "name": "stderr",
     "text": [
      "/tmp/ipykernel_11671/1732342239.py:22: DeprecationWarning: find_element_by_css_selector is deprecated. Please use find_element(by=By.CSS_SELECTOR, value=css_selector) instead\n",
      "  game = driver.find_element_by_css_selector('#selectGameId')\n",
      "/tmp/ipykernel_11671/1732342239.py:25: DeprecationWarning: find_element_by_css_selector is deprecated. Please use find_element(by=By.CSS_SELECTOR, value=css_selector) instead\n",
      "  searchbutten = driver.find_element_by_css_selector('#btnSearch')\n"
     ]
    },
    {
     "output_type": "stream",
     "name": "stdout",
     "text": [
      "27R / 부천(H)\n"
     ]
    },
    {
     "output_type": "stream",
     "name": "stderr",
     "text": [
      "/tmp/ipykernel_11671/1732342239.py:16: DeprecationWarning: find_element_by_css_selector is deprecated. Please use find_element(by=By.CSS_SELECTOR, value=css_selector) instead\n",
      "  teamsel = driver.find_element_by_css_selector('#selectTeamId')\n",
      "/tmp/ipykernel_11671/1732342239.py:19: DeprecationWarning: find_elements_by_css_selector is deprecated. Please use find_elements(by=By.CSS_SELECTOR, value=css_selector) instead\n",
      "  gamessel = driver.find_elements_by_css_selector('#selectGameId > option')\n",
      "/tmp/ipykernel_11671/1732342239.py:22: DeprecationWarning: find_element_by_css_selector is deprecated. Please use find_element(by=By.CSS_SELECTOR, value=css_selector) instead\n",
      "  game = driver.find_element_by_css_selector('#selectGameId')\n",
      "/tmp/ipykernel_11671/1732342239.py:25: DeprecationWarning: find_element_by_css_selector is deprecated. Please use find_element(by=By.CSS_SELECTOR, value=css_selector) instead\n",
      "  searchbutten = driver.find_element_by_css_selector('#btnSearch')\n"
     ]
    },
    {
     "output_type": "stream",
     "name": "stdout",
     "text": [
      "1R / 부천(H)\n"
     ]
    },
    {
     "output_type": "stream",
     "name": "stderr",
     "text": [
      "/tmp/ipykernel_11671/1732342239.py:22: DeprecationWarning: find_element_by_css_selector is deprecated. Please use find_element(by=By.CSS_SELECTOR, value=css_selector) instead\n",
      "  game = driver.find_element_by_css_selector('#selectGameId')\n",
      "/tmp/ipykernel_11671/1732342239.py:25: DeprecationWarning: find_element_by_css_selector is deprecated. Please use find_element(by=By.CSS_SELECTOR, value=css_selector) instead\n",
      "  searchbutten = driver.find_element_by_css_selector('#btnSearch')\n"
     ]
    },
    {
     "output_type": "stream",
     "name": "stdout",
     "text": [
      "2R / 대전(A)\n"
     ]
    },
    {
     "output_type": "stream",
     "name": "stderr",
     "text": [
      "/tmp/ipykernel_11671/1732342239.py:22: DeprecationWarning: find_element_by_css_selector is deprecated. Please use find_element(by=By.CSS_SELECTOR, value=css_selector) instead\n",
      "  game = driver.find_element_by_css_selector('#selectGameId')\n",
      "/tmp/ipykernel_11671/1732342239.py:25: DeprecationWarning: find_element_by_css_selector is deprecated. Please use find_element(by=By.CSS_SELECTOR, value=css_selector) instead\n",
      "  searchbutten = driver.find_element_by_css_selector('#btnSearch')\n"
     ]
    },
    {
     "output_type": "stream",
     "name": "stdout",
     "text": [
      "3R / 수원FC(H)\n"
     ]
    },
    {
     "output_type": "stream",
     "name": "stderr",
     "text": [
      "/tmp/ipykernel_11671/1732342239.py:22: DeprecationWarning: find_element_by_css_selector is deprecated. Please use find_element(by=By.CSS_SELECTOR, value=css_selector) instead\n",
      "  game = driver.find_element_by_css_selector('#selectGameId')\n",
      "/tmp/ipykernel_11671/1732342239.py:25: DeprecationWarning: find_element_by_css_selector is deprecated. Please use find_element(by=By.CSS_SELECTOR, value=css_selector) instead\n",
      "  searchbutten = driver.find_element_by_css_selector('#btnSearch')\n"
     ]
    },
    {
     "output_type": "stream",
     "name": "stdout",
     "text": [
      "4R / 전남(A)\n"
     ]
    },
    {
     "output_type": "stream",
     "name": "stderr",
     "text": [
      "/tmp/ipykernel_11671/1732342239.py:22: DeprecationWarning: find_element_by_css_selector is deprecated. Please use find_element(by=By.CSS_SELECTOR, value=css_selector) instead\n",
      "  game = driver.find_element_by_css_selector('#selectGameId')\n",
      "/tmp/ipykernel_11671/1732342239.py:25: DeprecationWarning: find_element_by_css_selector is deprecated. Please use find_element(by=By.CSS_SELECTOR, value=css_selector) instead\n",
      "  searchbutten = driver.find_element_by_css_selector('#btnSearch')\n"
     ]
    },
    {
     "output_type": "stream",
     "name": "stdout",
     "text": [
      "5R / 서울E(H)\n"
     ]
    },
    {
     "output_type": "stream",
     "name": "stderr",
     "text": [
      "/tmp/ipykernel_11671/1732342239.py:22: DeprecationWarning: find_element_by_css_selector is deprecated. Please use find_element(by=By.CSS_SELECTOR, value=css_selector) instead\n",
      "  game = driver.find_element_by_css_selector('#selectGameId')\n",
      "/tmp/ipykernel_11671/1732342239.py:25: DeprecationWarning: find_element_by_css_selector is deprecated. Please use find_element(by=By.CSS_SELECTOR, value=css_selector) instead\n",
      "  searchbutten = driver.find_element_by_css_selector('#btnSearch')\n"
     ]
    },
    {
     "output_type": "stream",
     "name": "stdout",
     "text": [
      "6R / 안양(A)\n"
     ]
    },
    {
     "output_type": "stream",
     "name": "stderr",
     "text": [
      "/tmp/ipykernel_11671/1732342239.py:22: DeprecationWarning: find_element_by_css_selector is deprecated. Please use find_element(by=By.CSS_SELECTOR, value=css_selector) instead\n",
      "  game = driver.find_element_by_css_selector('#selectGameId')\n",
      "/tmp/ipykernel_11671/1732342239.py:25: DeprecationWarning: find_element_by_css_selector is deprecated. Please use find_element(by=By.CSS_SELECTOR, value=css_selector) instead\n",
      "  searchbutten = driver.find_element_by_css_selector('#btnSearch')\n"
     ]
    },
    {
     "output_type": "stream",
     "name": "stdout",
     "text": [
      "7R / 제주(H)\n"
     ]
    },
    {
     "output_type": "stream",
     "name": "stderr",
     "text": [
      "/tmp/ipykernel_11671/1732342239.py:22: DeprecationWarning: find_element_by_css_selector is deprecated. Please use find_element(by=By.CSS_SELECTOR, value=css_selector) instead\n",
      "  game = driver.find_element_by_css_selector('#selectGameId')\n",
      "/tmp/ipykernel_11671/1732342239.py:25: DeprecationWarning: find_element_by_css_selector is deprecated. Please use find_element(by=By.CSS_SELECTOR, value=css_selector) instead\n",
      "  searchbutten = driver.find_element_by_css_selector('#btnSearch')\n"
     ]
    },
    {
     "output_type": "stream",
     "name": "stdout",
     "text": [
      "8R / 안산(A)\n"
     ]
    },
    {
     "output_type": "stream",
     "name": "stderr",
     "text": [
      "/tmp/ipykernel_11671/1732342239.py:22: DeprecationWarning: find_element_by_css_selector is deprecated. Please use find_element(by=By.CSS_SELECTOR, value=css_selector) instead\n",
      "  game = driver.find_element_by_css_selector('#selectGameId')\n",
      "/tmp/ipykernel_11671/1732342239.py:25: DeprecationWarning: find_element_by_css_selector is deprecated. Please use find_element(by=By.CSS_SELECTOR, value=css_selector) instead\n",
      "  searchbutten = driver.find_element_by_css_selector('#btnSearch')\n"
     ]
    },
    {
     "output_type": "stream",
     "name": "stdout",
     "text": [
      "9R / 경남(H)\n"
     ]
    },
    {
     "output_type": "stream",
     "name": "stderr",
     "text": [
      "/tmp/ipykernel_11671/1732342239.py:22: DeprecationWarning: find_element_by_css_selector is deprecated. Please use find_element(by=By.CSS_SELECTOR, value=css_selector) instead\n",
      "  game = driver.find_element_by_css_selector('#selectGameId')\n",
      "/tmp/ipykernel_11671/1732342239.py:25: DeprecationWarning: find_element_by_css_selector is deprecated. Please use find_element(by=By.CSS_SELECTOR, value=css_selector) instead\n",
      "  searchbutten = driver.find_element_by_css_selector('#btnSearch')\n"
     ]
    },
    {
     "output_type": "stream",
     "name": "stdout",
     "text": [
      "10R / 수원FC(A)\n"
     ]
    },
    {
     "output_type": "stream",
     "name": "stderr",
     "text": [
      "/tmp/ipykernel_11671/1732342239.py:22: DeprecationWarning: find_element_by_css_selector is deprecated. Please use find_element(by=By.CSS_SELECTOR, value=css_selector) instead\n",
      "  game = driver.find_element_by_css_selector('#selectGameId')\n",
      "/tmp/ipykernel_11671/1732342239.py:25: DeprecationWarning: find_element_by_css_selector is deprecated. Please use find_element(by=By.CSS_SELECTOR, value=css_selector) instead\n",
      "  searchbutten = driver.find_element_by_css_selector('#btnSearch')\n"
     ]
    },
    {
     "output_type": "stream",
     "name": "stdout",
     "text": [
      "11R / 안양(H)\n"
     ]
    },
    {
     "output_type": "stream",
     "name": "stderr",
     "text": [
      "/tmp/ipykernel_11671/1732342239.py:22: DeprecationWarning: find_element_by_css_selector is deprecated. Please use find_element(by=By.CSS_SELECTOR, value=css_selector) instead\n",
      "  game = driver.find_element_by_css_selector('#selectGameId')\n",
      "/tmp/ipykernel_11671/1732342239.py:25: DeprecationWarning: find_element_by_css_selector is deprecated. Please use find_element(by=By.CSS_SELECTOR, value=css_selector) instead\n",
      "  searchbutten = driver.find_element_by_css_selector('#btnSearch')\n"
     ]
    },
    {
     "output_type": "stream",
     "name": "stdout",
     "text": [
      "12R / 서울E(A)\n"
     ]
    },
    {
     "output_type": "stream",
     "name": "stderr",
     "text": [
      "/tmp/ipykernel_11671/1732342239.py:22: DeprecationWarning: find_element_by_css_selector is deprecated. Please use find_element(by=By.CSS_SELECTOR, value=css_selector) instead\n",
      "  game = driver.find_element_by_css_selector('#selectGameId')\n",
      "/tmp/ipykernel_11671/1732342239.py:25: DeprecationWarning: find_element_by_css_selector is deprecated. Please use find_element(by=By.CSS_SELECTOR, value=css_selector) instead\n",
      "  searchbutten = driver.find_element_by_css_selector('#btnSearch')\n"
     ]
    },
    {
     "output_type": "stream",
     "name": "stdout",
     "text": [
      "13R / 대전(H)\n"
     ]
    },
    {
     "output_type": "stream",
     "name": "stderr",
     "text": [
      "/tmp/ipykernel_11671/1732342239.py:22: DeprecationWarning: find_element_by_css_selector is deprecated. Please use find_element(by=By.CSS_SELECTOR, value=css_selector) instead\n",
      "  game = driver.find_element_by_css_selector('#selectGameId')\n",
      "/tmp/ipykernel_11671/1732342239.py:25: DeprecationWarning: find_element_by_css_selector is deprecated. Please use find_element(by=By.CSS_SELECTOR, value=css_selector) instead\n",
      "  searchbutten = driver.find_element_by_css_selector('#btnSearch')\n"
     ]
    },
    {
     "output_type": "stream",
     "name": "stdout",
     "text": [
      "14R / 제주(A)\n"
     ]
    },
    {
     "output_type": "stream",
     "name": "stderr",
     "text": [
      "/tmp/ipykernel_11671/1732342239.py:22: DeprecationWarning: find_element_by_css_selector is deprecated. Please use find_element(by=By.CSS_SELECTOR, value=css_selector) instead\n",
      "  game = driver.find_element_by_css_selector('#selectGameId')\n",
      "/tmp/ipykernel_11671/1732342239.py:25: DeprecationWarning: find_element_by_css_selector is deprecated. Please use find_element(by=By.CSS_SELECTOR, value=css_selector) instead\n",
      "  searchbutten = driver.find_element_by_css_selector('#btnSearch')\n"
     ]
    },
    {
     "output_type": "stream",
     "name": "stdout",
     "text": [
      "15R / 경남(A)\n"
     ]
    },
    {
     "output_type": "stream",
     "name": "stderr",
     "text": [
      "/tmp/ipykernel_11671/1732342239.py:22: DeprecationWarning: find_element_by_css_selector is deprecated. Please use find_element(by=By.CSS_SELECTOR, value=css_selector) instead\n",
      "  game = driver.find_element_by_css_selector('#selectGameId')\n",
      "/tmp/ipykernel_11671/1732342239.py:25: DeprecationWarning: find_element_by_css_selector is deprecated. Please use find_element(by=By.CSS_SELECTOR, value=css_selector) instead\n",
      "  searchbutten = driver.find_element_by_css_selector('#btnSearch')\n"
     ]
    },
    {
     "output_type": "stream",
     "name": "stdout",
     "text": [
      "16R / 전남(H)\n"
     ]
    },
    {
     "output_type": "stream",
     "name": "stderr",
     "text": [
      "/tmp/ipykernel_11671/1732342239.py:22: DeprecationWarning: find_element_by_css_selector is deprecated. Please use find_element(by=By.CSS_SELECTOR, value=css_selector) instead\n",
      "  game = driver.find_element_by_css_selector('#selectGameId')\n",
      "/tmp/ipykernel_11671/1732342239.py:25: DeprecationWarning: find_element_by_css_selector is deprecated. Please use find_element(by=By.CSS_SELECTOR, value=css_selector) instead\n",
      "  searchbutten = driver.find_element_by_css_selector('#btnSearch')\n"
     ]
    },
    {
     "output_type": "stream",
     "name": "stdout",
     "text": [
      "17R / 부천(A)\n"
     ]
    },
    {
     "output_type": "stream",
     "name": "stderr",
     "text": [
      "/tmp/ipykernel_11671/1732342239.py:22: DeprecationWarning: find_element_by_css_selector is deprecated. Please use find_element(by=By.CSS_SELECTOR, value=css_selector) instead\n",
      "  game = driver.find_element_by_css_selector('#selectGameId')\n",
      "/tmp/ipykernel_11671/1732342239.py:25: DeprecationWarning: find_element_by_css_selector is deprecated. Please use find_element(by=By.CSS_SELECTOR, value=css_selector) instead\n",
      "  searchbutten = driver.find_element_by_css_selector('#btnSearch')\n"
     ]
    },
    {
     "output_type": "stream",
     "name": "stdout",
     "text": [
      "18R / 안산(H)\n"
     ]
    },
    {
     "output_type": "stream",
     "name": "stderr",
     "text": [
      "/tmp/ipykernel_11671/1732342239.py:22: DeprecationWarning: find_element_by_css_selector is deprecated. Please use find_element(by=By.CSS_SELECTOR, value=css_selector) instead\n",
      "  game = driver.find_element_by_css_selector('#selectGameId')\n",
      "/tmp/ipykernel_11671/1732342239.py:25: DeprecationWarning: find_element_by_css_selector is deprecated. Please use find_element(by=By.CSS_SELECTOR, value=css_selector) instead\n",
      "  searchbutten = driver.find_element_by_css_selector('#btnSearch')\n"
     ]
    },
    {
     "output_type": "stream",
     "name": "stdout",
     "text": [
      "19R / 서울E(A)\n"
     ]
    },
    {
     "output_type": "stream",
     "name": "stderr",
     "text": [
      "/tmp/ipykernel_11671/1732342239.py:22: DeprecationWarning: find_element_by_css_selector is deprecated. Please use find_element(by=By.CSS_SELECTOR, value=css_selector) instead\n",
      "  game = driver.find_element_by_css_selector('#selectGameId')\n",
      "/tmp/ipykernel_11671/1732342239.py:25: DeprecationWarning: find_element_by_css_selector is deprecated. Please use find_element(by=By.CSS_SELECTOR, value=css_selector) instead\n",
      "  searchbutten = driver.find_element_by_css_selector('#btnSearch')\n"
     ]
    },
    {
     "output_type": "stream",
     "name": "stdout",
     "text": [
      "20R / 수원FC(H)\n"
     ]
    },
    {
     "output_type": "stream",
     "name": "stderr",
     "text": [
      "/tmp/ipykernel_11671/1732342239.py:22: DeprecationWarning: find_element_by_css_selector is deprecated. Please use find_element(by=By.CSS_SELECTOR, value=css_selector) instead\n",
      "  game = driver.find_element_by_css_selector('#selectGameId')\n",
      "/tmp/ipykernel_11671/1732342239.py:25: DeprecationWarning: find_element_by_css_selector is deprecated. Please use find_element(by=By.CSS_SELECTOR, value=css_selector) instead\n",
      "  searchbutten = driver.find_element_by_css_selector('#btnSearch')\n"
     ]
    },
    {
     "output_type": "stream",
     "name": "stdout",
     "text": [
      "21R / 경남(A)\n"
     ]
    },
    {
     "output_type": "stream",
     "name": "stderr",
     "text": [
      "/tmp/ipykernel_11671/1732342239.py:22: DeprecationWarning: find_element_by_css_selector is deprecated. Please use find_element(by=By.CSS_SELECTOR, value=css_selector) instead\n",
      "  game = driver.find_element_by_css_selector('#selectGameId')\n",
      "/tmp/ipykernel_11671/1732342239.py:25: DeprecationWarning: find_element_by_css_selector is deprecated. Please use find_element(by=By.CSS_SELECTOR, value=css_selector) instead\n",
      "  searchbutten = driver.find_element_by_css_selector('#btnSearch')\n"
     ]
    },
    {
     "output_type": "stream",
     "name": "stdout",
     "text": [
      "22R / 대전(H)\n"
     ]
    },
    {
     "output_type": "stream",
     "name": "stderr",
     "text": [
      "/tmp/ipykernel_11671/1732342239.py:22: DeprecationWarning: find_element_by_css_selector is deprecated. Please use find_element(by=By.CSS_SELECTOR, value=css_selector) instead\n",
      "  game = driver.find_element_by_css_selector('#selectGameId')\n",
      "/tmp/ipykernel_11671/1732342239.py:25: DeprecationWarning: find_element_by_css_selector is deprecated. Please use find_element(by=By.CSS_SELECTOR, value=css_selector) instead\n",
      "  searchbutten = driver.find_element_by_css_selector('#btnSearch')\n"
     ]
    },
    {
     "output_type": "stream",
     "name": "stdout",
     "text": [
      "23R / 전남(A)\n"
     ]
    },
    {
     "output_type": "stream",
     "name": "stderr",
     "text": [
      "/tmp/ipykernel_11671/1732342239.py:22: DeprecationWarning: find_element_by_css_selector is deprecated. Please use find_element(by=By.CSS_SELECTOR, value=css_selector) instead\n",
      "  game = driver.find_element_by_css_selector('#selectGameId')\n",
      "/tmp/ipykernel_11671/1732342239.py:25: DeprecationWarning: find_element_by_css_selector is deprecated. Please use find_element(by=By.CSS_SELECTOR, value=css_selector) instead\n",
      "  searchbutten = driver.find_element_by_css_selector('#btnSearch')\n"
     ]
    },
    {
     "output_type": "stream",
     "name": "stdout",
     "text": [
      "24R / 안산(H)\n"
     ]
    },
    {
     "output_type": "stream",
     "name": "stderr",
     "text": [
      "/tmp/ipykernel_11671/1732342239.py:22: DeprecationWarning: find_element_by_css_selector is deprecated. Please use find_element(by=By.CSS_SELECTOR, value=css_selector) instead\n",
      "  game = driver.find_element_by_css_selector('#selectGameId')\n",
      "/tmp/ipykernel_11671/1732342239.py:25: DeprecationWarning: find_element_by_css_selector is deprecated. Please use find_element(by=By.CSS_SELECTOR, value=css_selector) instead\n",
      "  searchbutten = driver.find_element_by_css_selector('#btnSearch')\n"
     ]
    },
    {
     "output_type": "stream",
     "name": "stdout",
     "text": [
      "25R / 안양(H)\n"
     ]
    },
    {
     "output_type": "stream",
     "name": "stderr",
     "text": [
      "/tmp/ipykernel_11671/1732342239.py:22: DeprecationWarning: find_element_by_css_selector is deprecated. Please use find_element(by=By.CSS_SELECTOR, value=css_selector) instead\n",
      "  game = driver.find_element_by_css_selector('#selectGameId')\n",
      "/tmp/ipykernel_11671/1732342239.py:25: DeprecationWarning: find_element_by_css_selector is deprecated. Please use find_element(by=By.CSS_SELECTOR, value=css_selector) instead\n",
      "  searchbutten = driver.find_element_by_css_selector('#btnSearch')\n"
     ]
    },
    {
     "output_type": "stream",
     "name": "stdout",
     "text": [
      "26R / 부천(A)\n"
     ]
    },
    {
     "output_type": "stream",
     "name": "stderr",
     "text": [
      "/tmp/ipykernel_11671/1732342239.py:22: DeprecationWarning: find_element_by_css_selector is deprecated. Please use find_element(by=By.CSS_SELECTOR, value=css_selector) instead\n",
      "  game = driver.find_element_by_css_selector('#selectGameId')\n",
      "/tmp/ipykernel_11671/1732342239.py:25: DeprecationWarning: find_element_by_css_selector is deprecated. Please use find_element(by=By.CSS_SELECTOR, value=css_selector) instead\n",
      "  searchbutten = driver.find_element_by_css_selector('#btnSearch')\n"
     ]
    },
    {
     "output_type": "stream",
     "name": "stdout",
     "text": [
      "27R / 제주(H)\n"
     ]
    },
    {
     "output_type": "stream",
     "name": "stderr",
     "text": [
      "/tmp/ipykernel_11671/1732342239.py:9: DeprecationWarning: find_element_by_css_selector is deprecated. Please use find_element(by=By.CSS_SELECTOR, value=css_selector) instead\n",
      "  leaguesel = driver.find_element_by_css_selector('#selectMeetSeq')\n",
      "/tmp/ipykernel_11671/1732342239.py:12: DeprecationWarning: find_elements_by_css_selector is deprecated. Please use find_elements(by=By.CSS_SELECTOR, value=css_selector) instead\n",
      "  option = driver.find_elements_by_css_selector('#selectTeamId > option')\n"
     ]
    },
    {
     "output_type": "stream",
     "name": "stdout",
     "text": [
      "['울산', '수원', '포항', '전북', '부산', '성남', '서울', '대구', '인천', '강원', '광주', '상주']\n"
     ]
    },
    {
     "output_type": "stream",
     "name": "stderr",
     "text": [
      "/tmp/ipykernel_11671/1732342239.py:16: DeprecationWarning: find_element_by_css_selector is deprecated. Please use find_element(by=By.CSS_SELECTOR, value=css_selector) instead\n",
      "  teamsel = driver.find_element_by_css_selector('#selectTeamId')\n",
      "/tmp/ipykernel_11671/1732342239.py:19: DeprecationWarning: find_elements_by_css_selector is deprecated. Please use find_elements(by=By.CSS_SELECTOR, value=css_selector) instead\n",
      "  gamessel = driver.find_elements_by_css_selector('#selectGameId > option')\n",
      "/tmp/ipykernel_11671/1732342239.py:22: DeprecationWarning: find_element_by_css_selector is deprecated. Please use find_element(by=By.CSS_SELECTOR, value=css_selector) instead\n",
      "  game = driver.find_element_by_css_selector('#selectGameId')\n",
      "/tmp/ipykernel_11671/1732342239.py:25: DeprecationWarning: find_element_by_css_selector is deprecated. Please use find_element(by=By.CSS_SELECTOR, value=css_selector) instead\n",
      "  searchbutten = driver.find_element_by_css_selector('#btnSearch')\n"
     ]
    },
    {
     "output_type": "stream",
     "name": "stdout",
     "text": [
      "1R / 상주(H)\n"
     ]
    },
    {
     "output_type": "stream",
     "name": "stderr",
     "text": [
      "/tmp/ipykernel_11671/1732342239.py:22: DeprecationWarning: find_element_by_css_selector is deprecated. Please use find_element(by=By.CSS_SELECTOR, value=css_selector) instead\n",
      "  game = driver.find_element_by_css_selector('#selectGameId')\n",
      "/tmp/ipykernel_11671/1732342239.py:25: DeprecationWarning: find_element_by_css_selector is deprecated. Please use find_element(by=By.CSS_SELECTOR, value=css_selector) instead\n",
      "  searchbutten = driver.find_element_by_css_selector('#btnSearch')\n"
     ]
    },
    {
     "output_type": "stream",
     "name": "stdout",
     "text": [
      "2R / 수원(A)\n"
     ]
    },
    {
     "output_type": "stream",
     "name": "stderr",
     "text": [
      "/tmp/ipykernel_11671/1732342239.py:22: DeprecationWarning: find_element_by_css_selector is deprecated. Please use find_element(by=By.CSS_SELECTOR, value=css_selector) instead\n",
      "  game = driver.find_element_by_css_selector('#selectGameId')\n",
      "/tmp/ipykernel_11671/1732342239.py:25: DeprecationWarning: find_element_by_css_selector is deprecated. Please use find_element(by=By.CSS_SELECTOR, value=css_selector) instead\n",
      "  searchbutten = driver.find_element_by_css_selector('#btnSearch')\n"
     ]
    },
    {
     "output_type": "stream",
     "name": "stdout",
     "text": [
      "3R / 부산(H)\n"
     ]
    },
    {
     "output_type": "stream",
     "name": "stderr",
     "text": [
      "/tmp/ipykernel_11671/1732342239.py:22: DeprecationWarning: find_element_by_css_selector is deprecated. Please use find_element(by=By.CSS_SELECTOR, value=css_selector) instead\n",
      "  game = driver.find_element_by_css_selector('#selectGameId')\n",
      "/tmp/ipykernel_11671/1732342239.py:25: DeprecationWarning: find_element_by_css_selector is deprecated. Please use find_element(by=By.CSS_SELECTOR, value=css_selector) instead\n",
      "  searchbutten = driver.find_element_by_css_selector('#btnSearch')\n"
     ]
    },
    {
     "output_type": "stream",
     "name": "stdout",
     "text": [
      "4R / 광주(A)\n"
     ]
    },
    {
     "output_type": "stream",
     "name": "stderr",
     "text": [
      "/tmp/ipykernel_11671/1732342239.py:22: DeprecationWarning: find_element_by_css_selector is deprecated. Please use find_element(by=By.CSS_SELECTOR, value=css_selector) instead\n",
      "  game = driver.find_element_by_css_selector('#selectGameId')\n",
      "/tmp/ipykernel_11671/1732342239.py:25: DeprecationWarning: find_element_by_css_selector is deprecated. Please use find_element(by=By.CSS_SELECTOR, value=css_selector) instead\n",
      "  searchbutten = driver.find_element_by_css_selector('#btnSearch')\n"
     ]
    },
    {
     "output_type": "stream",
     "name": "stdout",
     "text": [
      "5R / 포항(A)\n"
     ]
    },
    {
     "output_type": "stream",
     "name": "stderr",
     "text": [
      "/tmp/ipykernel_11671/1732342239.py:22: DeprecationWarning: find_element_by_css_selector is deprecated. Please use find_element(by=By.CSS_SELECTOR, value=css_selector) instead\n",
      "  game = driver.find_element_by_css_selector('#selectGameId')\n",
      "/tmp/ipykernel_11671/1732342239.py:25: DeprecationWarning: find_element_by_css_selector is deprecated. Please use find_element(by=By.CSS_SELECTOR, value=css_selector) instead\n",
      "  searchbutten = driver.find_element_by_css_selector('#btnSearch')\n"
     ]
    },
    {
     "output_type": "stream",
     "name": "stdout",
     "text": [
      "6R / 성남(H)\n"
     ]
    },
    {
     "output_type": "stream",
     "name": "stderr",
     "text": [
      "/tmp/ipykernel_11671/1732342239.py:22: DeprecationWarning: find_element_by_css_selector is deprecated. Please use find_element(by=By.CSS_SELECTOR, value=css_selector) instead\n",
      "  game = driver.find_element_by_css_selector('#selectGameId')\n",
      "/tmp/ipykernel_11671/1732342239.py:25: DeprecationWarning: find_element_by_css_selector is deprecated. Please use find_element(by=By.CSS_SELECTOR, value=css_selector) instead\n",
      "  searchbutten = driver.find_element_by_css_selector('#btnSearch')\n"
     ]
    },
    {
     "output_type": "stream",
     "name": "stdout",
     "text": [
      "7R / 강원(A)\n"
     ]
    },
    {
     "output_type": "stream",
     "name": "stderr",
     "text": [
      "/tmp/ipykernel_11671/1732342239.py:22: DeprecationWarning: find_element_by_css_selector is deprecated. Please use find_element(by=By.CSS_SELECTOR, value=css_selector) instead\n",
      "  game = driver.find_element_by_css_selector('#selectGameId')\n",
      "/tmp/ipykernel_11671/1732342239.py:25: DeprecationWarning: find_element_by_css_selector is deprecated. Please use find_element(by=By.CSS_SELECTOR, value=css_selector) instead\n",
      "  searchbutten = driver.find_element_by_css_selector('#btnSearch')\n"
     ]
    },
    {
     "output_type": "stream",
     "name": "stdout",
     "text": [
      "8R / 서울(A)\n"
     ]
    },
    {
     "output_type": "stream",
     "name": "stderr",
     "text": [
      "/tmp/ipykernel_11671/1732342239.py:22: DeprecationWarning: find_element_by_css_selector is deprecated. Please use find_element(by=By.CSS_SELECTOR, value=css_selector) instead\n",
      "  game = driver.find_element_by_css_selector('#selectGameId')\n",
      "/tmp/ipykernel_11671/1732342239.py:25: DeprecationWarning: find_element_by_css_selector is deprecated. Please use find_element(by=By.CSS_SELECTOR, value=css_selector) instead\n",
      "  searchbutten = driver.find_element_by_css_selector('#btnSearch')\n"
     ]
    },
    {
     "output_type": "stream",
     "name": "stdout",
     "text": [
      "9R / 전북(H)\n"
     ]
    },
    {
     "output_type": "stream",
     "name": "stderr",
     "text": [
      "/tmp/ipykernel_11671/1732342239.py:22: DeprecationWarning: find_element_by_css_selector is deprecated. Please use find_element(by=By.CSS_SELECTOR, value=css_selector) instead\n",
      "  game = driver.find_element_by_css_selector('#selectGameId')\n",
      "/tmp/ipykernel_11671/1732342239.py:25: DeprecationWarning: find_element_by_css_selector is deprecated. Please use find_element(by=By.CSS_SELECTOR, value=css_selector) instead\n",
      "  searchbutten = driver.find_element_by_css_selector('#btnSearch')\n"
     ]
    },
    {
     "output_type": "stream",
     "name": "stdout",
     "text": [
      "10R / 인천(H)\n"
     ]
    },
    {
     "output_type": "stream",
     "name": "stderr",
     "text": [
      "/tmp/ipykernel_11671/1732342239.py:22: DeprecationWarning: find_element_by_css_selector is deprecated. Please use find_element(by=By.CSS_SELECTOR, value=css_selector) instead\n",
      "  game = driver.find_element_by_css_selector('#selectGameId')\n",
      "/tmp/ipykernel_11671/1732342239.py:25: DeprecationWarning: find_element_by_css_selector is deprecated. Please use find_element(by=By.CSS_SELECTOR, value=css_selector) instead\n",
      "  searchbutten = driver.find_element_by_css_selector('#btnSearch')\n"
     ]
    },
    {
     "output_type": "stream",
     "name": "stdout",
     "text": [
      "11R / 대구(A)\n"
     ]
    },
    {
     "output_type": "stream",
     "name": "stderr",
     "text": [
      "/tmp/ipykernel_11671/1732342239.py:22: DeprecationWarning: find_element_by_css_selector is deprecated. Please use find_element(by=By.CSS_SELECTOR, value=css_selector) instead\n",
      "  game = driver.find_element_by_css_selector('#selectGameId')\n",
      "/tmp/ipykernel_11671/1732342239.py:25: DeprecationWarning: find_element_by_css_selector is deprecated. Please use find_element(by=By.CSS_SELECTOR, value=css_selector) instead\n",
      "  searchbutten = driver.find_element_by_css_selector('#btnSearch')\n"
     ]
    },
    {
     "output_type": "stream",
     "name": "stdout",
     "text": [
      "12R / 강원(H)\n"
     ]
    },
    {
     "output_type": "stream",
     "name": "stderr",
     "text": [
      "/tmp/ipykernel_11671/1732342239.py:22: DeprecationWarning: find_element_by_css_selector is deprecated. Please use find_element(by=By.CSS_SELECTOR, value=css_selector) instead\n",
      "  game = driver.find_element_by_css_selector('#selectGameId')\n",
      "/tmp/ipykernel_11671/1732342239.py:25: DeprecationWarning: find_element_by_css_selector is deprecated. Please use find_element(by=By.CSS_SELECTOR, value=css_selector) instead\n",
      "  searchbutten = driver.find_element_by_css_selector('#btnSearch')\n"
     ]
    },
    {
     "output_type": "stream",
     "name": "stdout",
     "text": [
      "13R / 상주(A)\n"
     ]
    },
    {
     "output_type": "stream",
     "name": "stderr",
     "text": [
      "/tmp/ipykernel_11671/1732342239.py:22: DeprecationWarning: find_element_by_css_selector is deprecated. Please use find_element(by=By.CSS_SELECTOR, value=css_selector) instead\n",
      "  game = driver.find_element_by_css_selector('#selectGameId')\n",
      "/tmp/ipykernel_11671/1732342239.py:25: DeprecationWarning: find_element_by_css_selector is deprecated. Please use find_element(by=By.CSS_SELECTOR, value=css_selector) instead\n",
      "  searchbutten = driver.find_element_by_css_selector('#btnSearch')\n"
     ]
    },
    {
     "output_type": "stream",
     "name": "stdout",
     "text": [
      "14R / 부산(A)\n"
     ]
    },
    {
     "output_type": "stream",
     "name": "stderr",
     "text": [
      "/tmp/ipykernel_11671/1732342239.py:22: DeprecationWarning: find_element_by_css_selector is deprecated. Please use find_element(by=By.CSS_SELECTOR, value=css_selector) instead\n",
      "  game = driver.find_element_by_css_selector('#selectGameId')\n",
      "/tmp/ipykernel_11671/1732342239.py:25: DeprecationWarning: find_element_by_css_selector is deprecated. Please use find_element(by=By.CSS_SELECTOR, value=css_selector) instead\n",
      "  searchbutten = driver.find_element_by_css_selector('#btnSearch')\n"
     ]
    },
    {
     "output_type": "stream",
     "name": "stdout",
     "text": [
      "15R / 수원(H)\n"
     ]
    },
    {
     "output_type": "stream",
     "name": "stderr",
     "text": [
      "/tmp/ipykernel_11671/1732342239.py:22: DeprecationWarning: find_element_by_css_selector is deprecated. Please use find_element(by=By.CSS_SELECTOR, value=css_selector) instead\n",
      "  game = driver.find_element_by_css_selector('#selectGameId')\n",
      "/tmp/ipykernel_11671/1732342239.py:25: DeprecationWarning: find_element_by_css_selector is deprecated. Please use find_element(by=By.CSS_SELECTOR, value=css_selector) instead\n",
      "  searchbutten = driver.find_element_by_css_selector('#btnSearch')\n"
     ]
    },
    {
     "output_type": "stream",
     "name": "stdout",
     "text": [
      "16R / 포항(H)\n"
     ]
    },
    {
     "output_type": "stream",
     "name": "stderr",
     "text": [
      "/tmp/ipykernel_11671/1732342239.py:22: DeprecationWarning: find_element_by_css_selector is deprecated. Please use find_element(by=By.CSS_SELECTOR, value=css_selector) instead\n",
      "  game = driver.find_element_by_css_selector('#selectGameId')\n",
      "/tmp/ipykernel_11671/1732342239.py:25: DeprecationWarning: find_element_by_css_selector is deprecated. Please use find_element(by=By.CSS_SELECTOR, value=css_selector) instead\n",
      "  searchbutten = driver.find_element_by_css_selector('#btnSearch')\n"
     ]
    },
    {
     "output_type": "stream",
     "name": "stdout",
     "text": [
      "17R / 성남(A)\n"
     ]
    },
    {
     "output_type": "stream",
     "name": "stderr",
     "text": [
      "/tmp/ipykernel_11671/1732342239.py:22: DeprecationWarning: find_element_by_css_selector is deprecated. Please use find_element(by=By.CSS_SELECTOR, value=css_selector) instead\n",
      "  game = driver.find_element_by_css_selector('#selectGameId')\n",
      "/tmp/ipykernel_11671/1732342239.py:25: DeprecationWarning: find_element_by_css_selector is deprecated. Please use find_element(by=By.CSS_SELECTOR, value=css_selector) instead\n",
      "  searchbutten = driver.find_element_by_css_selector('#btnSearch')\n"
     ]
    },
    {
     "output_type": "stream",
     "name": "stdout",
     "text": [
      "18R / 서울(H)\n"
     ]
    },
    {
     "output_type": "stream",
     "name": "stderr",
     "text": [
      "/tmp/ipykernel_11671/1732342239.py:22: DeprecationWarning: find_element_by_css_selector is deprecated. Please use find_element(by=By.CSS_SELECTOR, value=css_selector) instead\n",
      "  game = driver.find_element_by_css_selector('#selectGameId')\n",
      "/tmp/ipykernel_11671/1732342239.py:25: DeprecationWarning: find_element_by_css_selector is deprecated. Please use find_element(by=By.CSS_SELECTOR, value=css_selector) instead\n",
      "  searchbutten = driver.find_element_by_css_selector('#btnSearch')\n"
     ]
    },
    {
     "output_type": "stream",
     "name": "stdout",
     "text": [
      "19R / 광주(H)\n"
     ]
    },
    {
     "output_type": "stream",
     "name": "stderr",
     "text": [
      "/tmp/ipykernel_11671/1732342239.py:22: DeprecationWarning: find_element_by_css_selector is deprecated. Please use find_element(by=By.CSS_SELECTOR, value=css_selector) instead\n",
      "  game = driver.find_element_by_css_selector('#selectGameId')\n",
      "/tmp/ipykernel_11671/1732342239.py:25: DeprecationWarning: find_element_by_css_selector is deprecated. Please use find_element(by=By.CSS_SELECTOR, value=css_selector) instead\n",
      "  searchbutten = driver.find_element_by_css_selector('#btnSearch')\n"
     ]
    },
    {
     "output_type": "stream",
     "name": "stdout",
     "text": [
      "20R / 대구(H)\n"
     ]
    },
    {
     "output_type": "stream",
     "name": "stderr",
     "text": [
      "/tmp/ipykernel_11671/1732342239.py:22: DeprecationWarning: find_element_by_css_selector is deprecated. Please use find_element(by=By.CSS_SELECTOR, value=css_selector) instead\n",
      "  game = driver.find_element_by_css_selector('#selectGameId')\n",
      "/tmp/ipykernel_11671/1732342239.py:25: DeprecationWarning: find_element_by_css_selector is deprecated. Please use find_element(by=By.CSS_SELECTOR, value=css_selector) instead\n",
      "  searchbutten = driver.find_element_by_css_selector('#btnSearch')\n"
     ]
    },
    {
     "output_type": "stream",
     "name": "stdout",
     "text": [
      "21R / 전북(A)\n"
     ]
    },
    {
     "output_type": "stream",
     "name": "stderr",
     "text": [
      "/tmp/ipykernel_11671/1732342239.py:22: DeprecationWarning: find_element_by_css_selector is deprecated. Please use find_element(by=By.CSS_SELECTOR, value=css_selector) instead\n",
      "  game = driver.find_element_by_css_selector('#selectGameId')\n",
      "/tmp/ipykernel_11671/1732342239.py:25: DeprecationWarning: find_element_by_css_selector is deprecated. Please use find_element(by=By.CSS_SELECTOR, value=css_selector) instead\n",
      "  searchbutten = driver.find_element_by_css_selector('#btnSearch')\n"
     ]
    },
    {
     "output_type": "stream",
     "name": "stdout",
     "text": [
      "22R / 인천(A)\n"
     ]
    },
    {
     "output_type": "stream",
     "name": "stderr",
     "text": [
      "/tmp/ipykernel_11671/1732342239.py:22: DeprecationWarning: find_element_by_css_selector is deprecated. Please use find_element(by=By.CSS_SELECTOR, value=css_selector) instead\n",
      "  game = driver.find_element_by_css_selector('#selectGameId')\n",
      "/tmp/ipykernel_11671/1732342239.py:25: DeprecationWarning: find_element_by_css_selector is deprecated. Please use find_element(by=By.CSS_SELECTOR, value=css_selector) instead\n",
      "  searchbutten = driver.find_element_by_css_selector('#btnSearch')\n"
     ]
    },
    {
     "output_type": "stream",
     "name": "stdout",
     "text": [
      "23R / 대구(A)\n"
     ]
    },
    {
     "output_type": "stream",
     "name": "stderr",
     "text": [
      "/tmp/ipykernel_11671/1732342239.py:22: DeprecationWarning: find_element_by_css_selector is deprecated. Please use find_element(by=By.CSS_SELECTOR, value=css_selector) instead\n",
      "  game = driver.find_element_by_css_selector('#selectGameId')\n",
      "/tmp/ipykernel_11671/1732342239.py:25: DeprecationWarning: find_element_by_css_selector is deprecated. Please use find_element(by=By.CSS_SELECTOR, value=css_selector) instead\n",
      "  searchbutten = driver.find_element_by_css_selector('#btnSearch')\n"
     ]
    },
    {
     "output_type": "stream",
     "name": "stdout",
     "text": [
      "24R / 상주(H)\n"
     ]
    },
    {
     "output_type": "stream",
     "name": "stderr",
     "text": [
      "/tmp/ipykernel_11671/1732342239.py:22: DeprecationWarning: find_element_by_css_selector is deprecated. Please use find_element(by=By.CSS_SELECTOR, value=css_selector) instead\n",
      "  game = driver.find_element_by_css_selector('#selectGameId')\n",
      "/tmp/ipykernel_11671/1732342239.py:25: DeprecationWarning: find_element_by_css_selector is deprecated. Please use find_element(by=By.CSS_SELECTOR, value=css_selector) instead\n",
      "  searchbutten = driver.find_element_by_css_selector('#btnSearch')\n"
     ]
    },
    {
     "output_type": "stream",
     "name": "stdout",
     "text": [
      "25R / 포항(A)\n"
     ]
    },
    {
     "output_type": "stream",
     "name": "stderr",
     "text": [
      "/tmp/ipykernel_11671/1732342239.py:22: DeprecationWarning: find_element_by_css_selector is deprecated. Please use find_element(by=By.CSS_SELECTOR, value=css_selector) instead\n",
      "  game = driver.find_element_by_css_selector('#selectGameId')\n",
      "/tmp/ipykernel_11671/1732342239.py:25: DeprecationWarning: find_element_by_css_selector is deprecated. Please use find_element(by=By.CSS_SELECTOR, value=css_selector) instead\n",
      "  searchbutten = driver.find_element_by_css_selector('#btnSearch')\n"
     ]
    },
    {
     "output_type": "stream",
     "name": "stdout",
     "text": [
      "26R / 전북(H)\n"
     ]
    },
    {
     "output_type": "stream",
     "name": "stderr",
     "text": [
      "/tmp/ipykernel_11671/1732342239.py:22: DeprecationWarning: find_element_by_css_selector is deprecated. Please use find_element(by=By.CSS_SELECTOR, value=css_selector) instead\n",
      "  game = driver.find_element_by_css_selector('#selectGameId')\n",
      "/tmp/ipykernel_11671/1732342239.py:25: DeprecationWarning: find_element_by_css_selector is deprecated. Please use find_element(by=By.CSS_SELECTOR, value=css_selector) instead\n",
      "  searchbutten = driver.find_element_by_css_selector('#btnSearch')\n"
     ]
    },
    {
     "output_type": "stream",
     "name": "stdout",
     "text": [
      "27R / 광주(H)\n"
     ]
    },
    {
     "output_type": "stream",
     "name": "stderr",
     "text": [
      "/tmp/ipykernel_11671/1732342239.py:16: DeprecationWarning: find_element_by_css_selector is deprecated. Please use find_element(by=By.CSS_SELECTOR, value=css_selector) instead\n",
      "  teamsel = driver.find_element_by_css_selector('#selectTeamId')\n",
      "/tmp/ipykernel_11671/1732342239.py:19: DeprecationWarning: find_elements_by_css_selector is deprecated. Please use find_elements(by=By.CSS_SELECTOR, value=css_selector) instead\n",
      "  gamessel = driver.find_elements_by_css_selector('#selectGameId > option')\n",
      "/tmp/ipykernel_11671/1732342239.py:22: DeprecationWarning: find_element_by_css_selector is deprecated. Please use find_element(by=By.CSS_SELECTOR, value=css_selector) instead\n",
      "  game = driver.find_element_by_css_selector('#selectGameId')\n",
      "/tmp/ipykernel_11671/1732342239.py:25: DeprecationWarning: find_element_by_css_selector is deprecated. Please use find_element(by=By.CSS_SELECTOR, value=css_selector) instead\n",
      "  searchbutten = driver.find_element_by_css_selector('#btnSearch')\n"
     ]
    },
    {
     "output_type": "stream",
     "name": "stdout",
     "text": [
      "1R / 전북(A)\n"
     ]
    },
    {
     "output_type": "stream",
     "name": "stderr",
     "text": [
      "/tmp/ipykernel_11671/1732342239.py:22: DeprecationWarning: find_element_by_css_selector is deprecated. Please use find_element(by=By.CSS_SELECTOR, value=css_selector) instead\n",
      "  game = driver.find_element_by_css_selector('#selectGameId')\n",
      "/tmp/ipykernel_11671/1732342239.py:25: DeprecationWarning: find_element_by_css_selector is deprecated. Please use find_element(by=By.CSS_SELECTOR, value=css_selector) instead\n",
      "  searchbutten = driver.find_element_by_css_selector('#btnSearch')\n"
     ]
    },
    {
     "output_type": "stream",
     "name": "stdout",
     "text": [
      "2R / 울산(H)\n"
     ]
    },
    {
     "output_type": "stream",
     "name": "stderr",
     "text": [
      "/tmp/ipykernel_11671/1732342239.py:22: DeprecationWarning: find_element_by_css_selector is deprecated. Please use find_element(by=By.CSS_SELECTOR, value=css_selector) instead\n",
      "  game = driver.find_element_by_css_selector('#selectGameId')\n",
      "/tmp/ipykernel_11671/1732342239.py:25: DeprecationWarning: find_element_by_css_selector is deprecated. Please use find_element(by=By.CSS_SELECTOR, value=css_selector) instead\n",
      "  searchbutten = driver.find_element_by_css_selector('#btnSearch')\n"
     ]
    },
    {
     "output_type": "stream",
     "name": "stdout",
     "text": [
      "3R / 인천(H)\n"
     ]
    },
    {
     "output_type": "stream",
     "name": "stderr",
     "text": [
      "/tmp/ipykernel_11671/1732342239.py:22: DeprecationWarning: find_element_by_css_selector is deprecated. Please use find_element(by=By.CSS_SELECTOR, value=css_selector) instead\n",
      "  game = driver.find_element_by_css_selector('#selectGameId')\n",
      "/tmp/ipykernel_11671/1732342239.py:25: DeprecationWarning: find_element_by_css_selector is deprecated. Please use find_element(by=By.CSS_SELECTOR, value=css_selector) instead\n",
      "  searchbutten = driver.find_element_by_css_selector('#btnSearch')\n"
     ]
    },
    {
     "output_type": "stream",
     "name": "stdout",
     "text": [
      "4R / 부산(A)\n"
     ]
    },
    {
     "output_type": "stream",
     "name": "stderr",
     "text": [
      "/tmp/ipykernel_11671/1732342239.py:22: DeprecationWarning: find_element_by_css_selector is deprecated. Please use find_element(by=By.CSS_SELECTOR, value=css_selector) instead\n",
      "  game = driver.find_element_by_css_selector('#selectGameId')\n",
      "/tmp/ipykernel_11671/1732342239.py:25: DeprecationWarning: find_element_by_css_selector is deprecated. Please use find_element(by=By.CSS_SELECTOR, value=css_selector) instead\n",
      "  searchbutten = driver.find_element_by_css_selector('#btnSearch')\n"
     ]
    },
    {
     "output_type": "stream",
     "name": "stdout",
     "text": [
      "5R / 광주(H)\n"
     ]
    },
    {
     "output_type": "stream",
     "name": "stderr",
     "text": [
      "/tmp/ipykernel_11671/1732342239.py:22: DeprecationWarning: find_element_by_css_selector is deprecated. Please use find_element(by=By.CSS_SELECTOR, value=css_selector) instead\n",
      "  game = driver.find_element_by_css_selector('#selectGameId')\n",
      "/tmp/ipykernel_11671/1732342239.py:25: DeprecationWarning: find_element_by_css_selector is deprecated. Please use find_element(by=By.CSS_SELECTOR, value=css_selector) instead\n",
      "  searchbutten = driver.find_element_by_css_selector('#btnSearch')\n"
     ]
    },
    {
     "output_type": "stream",
     "name": "stdout",
     "text": [
      "6R / 강원(H)\n"
     ]
    },
    {
     "output_type": "stream",
     "name": "stderr",
     "text": [
      "/tmp/ipykernel_11671/1732342239.py:22: DeprecationWarning: find_element_by_css_selector is deprecated. Please use find_element(by=By.CSS_SELECTOR, value=css_selector) instead\n",
      "  game = driver.find_element_by_css_selector('#selectGameId')\n",
      "/tmp/ipykernel_11671/1732342239.py:25: DeprecationWarning: find_element_by_css_selector is deprecated. Please use find_element(by=By.CSS_SELECTOR, value=css_selector) instead\n",
      "  searchbutten = driver.find_element_by_css_selector('#btnSearch')\n"
     ]
    },
    {
     "output_type": "stream",
     "name": "stdout",
     "text": [
      "7R / 성남(A)\n"
     ]
    },
    {
     "output_type": "stream",
     "name": "stderr",
     "text": [
      "/tmp/ipykernel_11671/1732342239.py:22: DeprecationWarning: find_element_by_css_selector is deprecated. Please use find_element(by=By.CSS_SELECTOR, value=css_selector) instead\n",
      "  game = driver.find_element_by_css_selector('#selectGameId')\n",
      "/tmp/ipykernel_11671/1732342239.py:25: DeprecationWarning: find_element_by_css_selector is deprecated. Please use find_element(by=By.CSS_SELECTOR, value=css_selector) instead\n",
      "  searchbutten = driver.find_element_by_css_selector('#btnSearch')\n"
     ]
    },
    {
     "output_type": "stream",
     "name": "stdout",
     "text": [
      "8R / 대구(A)\n"
     ]
    },
    {
     "output_type": "stream",
     "name": "stderr",
     "text": [
      "/tmp/ipykernel_11671/1732342239.py:22: DeprecationWarning: find_element_by_css_selector is deprecated. Please use find_element(by=By.CSS_SELECTOR, value=css_selector) instead\n",
      "  game = driver.find_element_by_css_selector('#selectGameId')\n",
      "/tmp/ipykernel_11671/1732342239.py:25: DeprecationWarning: find_element_by_css_selector is deprecated. Please use find_element(by=By.CSS_SELECTOR, value=css_selector) instead\n",
      "  searchbutten = driver.find_element_by_css_selector('#btnSearch')\n"
     ]
    },
    {
     "output_type": "stream",
     "name": "stdout",
     "text": [
      "9R / 상주(H)\n"
     ]
    },
    {
     "output_type": "stream",
     "name": "stderr",
     "text": [
      "/tmp/ipykernel_11671/1732342239.py:22: DeprecationWarning: find_element_by_css_selector is deprecated. Please use find_element(by=By.CSS_SELECTOR, value=css_selector) instead\n",
      "  game = driver.find_element_by_css_selector('#selectGameId')\n",
      "/tmp/ipykernel_11671/1732342239.py:25: DeprecationWarning: find_element_by_css_selector is deprecated. Please use find_element(by=By.CSS_SELECTOR, value=css_selector) instead\n",
      "  searchbutten = driver.find_element_by_css_selector('#btnSearch')\n"
     ]
    },
    {
     "output_type": "stream",
     "name": "stdout",
     "text": [
      "10R / 서울(H)\n"
     ]
    },
    {
     "output_type": "stream",
     "name": "stderr",
     "text": [
      "/tmp/ipykernel_11671/1732342239.py:22: DeprecationWarning: find_element_by_css_selector is deprecated. Please use find_element(by=By.CSS_SELECTOR, value=css_selector) instead\n",
      "  game = driver.find_element_by_css_selector('#selectGameId')\n",
      "/tmp/ipykernel_11671/1732342239.py:25: DeprecationWarning: find_element_by_css_selector is deprecated. Please use find_element(by=By.CSS_SELECTOR, value=css_selector) instead\n",
      "  searchbutten = driver.find_element_by_css_selector('#btnSearch')\n"
     ]
    },
    {
     "output_type": "stream",
     "name": "stdout",
     "text": [
      "11R / 포항(A)\n"
     ]
    },
    {
     "output_type": "stream",
     "name": "stderr",
     "text": [
      "/tmp/ipykernel_11671/1732342239.py:22: DeprecationWarning: find_element_by_css_selector is deprecated. Please use find_element(by=By.CSS_SELECTOR, value=css_selector) instead\n",
      "  game = driver.find_element_by_css_selector('#selectGameId')\n",
      "/tmp/ipykernel_11671/1732342239.py:25: DeprecationWarning: find_element_by_css_selector is deprecated. Please use find_element(by=By.CSS_SELECTOR, value=css_selector) instead\n",
      "  searchbutten = driver.find_element_by_css_selector('#btnSearch')\n"
     ]
    },
    {
     "output_type": "stream",
     "name": "stdout",
     "text": [
      "12R / 성남(H)\n"
     ]
    },
    {
     "output_type": "stream",
     "name": "stderr",
     "text": [
      "/tmp/ipykernel_11671/1732342239.py:22: DeprecationWarning: find_element_by_css_selector is deprecated. Please use find_element(by=By.CSS_SELECTOR, value=css_selector) instead\n",
      "  game = driver.find_element_by_css_selector('#selectGameId')\n",
      "/tmp/ipykernel_11671/1732342239.py:25: DeprecationWarning: find_element_by_css_selector is deprecated. Please use find_element(by=By.CSS_SELECTOR, value=css_selector) instead\n",
      "  searchbutten = driver.find_element_by_css_selector('#btnSearch')\n"
     ]
    },
    {
     "output_type": "stream",
     "name": "stdout",
     "text": [
      "13R / 광주(A)\n"
     ]
    },
    {
     "output_type": "stream",
     "name": "stderr",
     "text": [
      "/tmp/ipykernel_11671/1732342239.py:22: DeprecationWarning: find_element_by_css_selector is deprecated. Please use find_element(by=By.CSS_SELECTOR, value=css_selector) instead\n",
      "  game = driver.find_element_by_css_selector('#selectGameId')\n",
      "/tmp/ipykernel_11671/1732342239.py:25: DeprecationWarning: find_element_by_css_selector is deprecated. Please use find_element(by=By.CSS_SELECTOR, value=css_selector) instead\n",
      "  searchbutten = driver.find_element_by_css_selector('#btnSearch')\n"
     ]
    },
    {
     "output_type": "stream",
     "name": "stdout",
     "text": [
      "14R / 대구(H)\n"
     ]
    },
    {
     "output_type": "stream",
     "name": "stderr",
     "text": [
      "/tmp/ipykernel_11671/1732342239.py:22: DeprecationWarning: find_element_by_css_selector is deprecated. Please use find_element(by=By.CSS_SELECTOR, value=css_selector) instead\n",
      "  game = driver.find_element_by_css_selector('#selectGameId')\n",
      "/tmp/ipykernel_11671/1732342239.py:25: DeprecationWarning: find_element_by_css_selector is deprecated. Please use find_element(by=By.CSS_SELECTOR, value=css_selector) instead\n",
      "  searchbutten = driver.find_element_by_css_selector('#btnSearch')\n"
     ]
    },
    {
     "output_type": "stream",
     "name": "stdout",
     "text": [
      "15R / 울산(A)\n"
     ]
    },
    {
     "output_type": "stream",
     "name": "stderr",
     "text": [
      "/tmp/ipykernel_11671/1732342239.py:22: DeprecationWarning: find_element_by_css_selector is deprecated. Please use find_element(by=By.CSS_SELECTOR, value=css_selector) instead\n",
      "  game = driver.find_element_by_css_selector('#selectGameId')\n",
      "/tmp/ipykernel_11671/1732342239.py:25: DeprecationWarning: find_element_by_css_selector is deprecated. Please use find_element(by=By.CSS_SELECTOR, value=css_selector) instead\n",
      "  searchbutten = driver.find_element_by_css_selector('#btnSearch')\n"
     ]
    },
    {
     "output_type": "stream",
     "name": "stdout",
     "text": [
      "16R / 전북(H)\n"
     ]
    },
    {
     "output_type": "stream",
     "name": "stderr",
     "text": [
      "/tmp/ipykernel_11671/1732342239.py:22: DeprecationWarning: find_element_by_css_selector is deprecated. Please use find_element(by=By.CSS_SELECTOR, value=css_selector) instead\n",
      "  game = driver.find_element_by_css_selector('#selectGameId')\n",
      "/tmp/ipykernel_11671/1732342239.py:25: DeprecationWarning: find_element_by_css_selector is deprecated. Please use find_element(by=By.CSS_SELECTOR, value=css_selector) instead\n",
      "  searchbutten = driver.find_element_by_css_selector('#btnSearch')\n"
     ]
    },
    {
     "output_type": "stream",
     "name": "stdout",
     "text": [
      "17R / 인천(A)\n"
     ]
    },
    {
     "output_type": "stream",
     "name": "stderr",
     "text": [
      "/tmp/ipykernel_11671/1732342239.py:22: DeprecationWarning: find_element_by_css_selector is deprecated. Please use find_element(by=By.CSS_SELECTOR, value=css_selector) instead\n",
      "  game = driver.find_element_by_css_selector('#selectGameId')\n",
      "/tmp/ipykernel_11671/1732342239.py:25: DeprecationWarning: find_element_by_css_selector is deprecated. Please use find_element(by=By.CSS_SELECTOR, value=css_selector) instead\n",
      "  searchbutten = driver.find_element_by_css_selector('#btnSearch')\n"
     ]
    },
    {
     "output_type": "stream",
     "name": "stdout",
     "text": [
      "18R / 부산(H)\n"
     ]
    },
    {
     "output_type": "stream",
     "name": "stderr",
     "text": [
      "/tmp/ipykernel_11671/1732342239.py:22: DeprecationWarning: find_element_by_css_selector is deprecated. Please use find_element(by=By.CSS_SELECTOR, value=css_selector) instead\n",
      "  game = driver.find_element_by_css_selector('#selectGameId')\n",
      "/tmp/ipykernel_11671/1732342239.py:25: DeprecationWarning: find_element_by_css_selector is deprecated. Please use find_element(by=By.CSS_SELECTOR, value=css_selector) instead\n",
      "  searchbutten = driver.find_element_by_css_selector('#btnSearch')\n"
     ]
    },
    {
     "output_type": "stream",
     "name": "stdout",
     "text": [
      "19R / 상주(A)\n"
     ]
    },
    {
     "output_type": "stream",
     "name": "stderr",
     "text": [
      "/tmp/ipykernel_11671/1732342239.py:22: DeprecationWarning: find_element_by_css_selector is deprecated. Please use find_element(by=By.CSS_SELECTOR, value=css_selector) instead\n",
      "  game = driver.find_element_by_css_selector('#selectGameId')\n",
      "/tmp/ipykernel_11671/1732342239.py:25: DeprecationWarning: find_element_by_css_selector is deprecated. Please use find_element(by=By.CSS_SELECTOR, value=css_selector) instead\n",
      "  searchbutten = driver.find_element_by_css_selector('#btnSearch')\n"
     ]
    },
    {
     "output_type": "stream",
     "name": "stdout",
     "text": [
      "20R / 서울(A)\n"
     ]
    },
    {
     "output_type": "stream",
     "name": "stderr",
     "text": [
      "/tmp/ipykernel_11671/1732342239.py:22: DeprecationWarning: find_element_by_css_selector is deprecated. Please use find_element(by=By.CSS_SELECTOR, value=css_selector) instead\n",
      "  game = driver.find_element_by_css_selector('#selectGameId')\n",
      "/tmp/ipykernel_11671/1732342239.py:25: DeprecationWarning: find_element_by_css_selector is deprecated. Please use find_element(by=By.CSS_SELECTOR, value=css_selector) instead\n",
      "  searchbutten = driver.find_element_by_css_selector('#btnSearch')\n"
     ]
    },
    {
     "output_type": "stream",
     "name": "stdout",
     "text": [
      "21R / 포항(H)\n"
     ]
    },
    {
     "output_type": "stream",
     "name": "stderr",
     "text": [
      "/tmp/ipykernel_11671/1732342239.py:22: DeprecationWarning: find_element_by_css_selector is deprecated. Please use find_element(by=By.CSS_SELECTOR, value=css_selector) instead\n",
      "  game = driver.find_element_by_css_selector('#selectGameId')\n",
      "/tmp/ipykernel_11671/1732342239.py:25: DeprecationWarning: find_element_by_css_selector is deprecated. Please use find_element(by=By.CSS_SELECTOR, value=css_selector) instead\n",
      "  searchbutten = driver.find_element_by_css_selector('#btnSearch')\n"
     ]
    },
    {
     "output_type": "stream",
     "name": "stdout",
     "text": [
      "22R / 강원(A)\n"
     ]
    },
    {
     "output_type": "stream",
     "name": "stderr",
     "text": [
      "/tmp/ipykernel_11671/1732342239.py:22: DeprecationWarning: find_element_by_css_selector is deprecated. Please use find_element(by=By.CSS_SELECTOR, value=css_selector) instead\n",
      "  game = driver.find_element_by_css_selector('#selectGameId')\n",
      "/tmp/ipykernel_11671/1732342239.py:25: DeprecationWarning: find_element_by_css_selector is deprecated. Please use find_element(by=By.CSS_SELECTOR, value=css_selector) instead\n",
      "  searchbutten = driver.find_element_by_css_selector('#btnSearch')\n"
     ]
    },
    {
     "output_type": "stream",
     "name": "stdout",
     "text": [
      "23R / 서울(H)\n"
     ]
    },
    {
     "output_type": "stream",
     "name": "stderr",
     "text": [
      "/tmp/ipykernel_11671/1732342239.py:22: DeprecationWarning: find_element_by_css_selector is deprecated. Please use find_element(by=By.CSS_SELECTOR, value=css_selector) instead\n",
      "  game = driver.find_element_by_css_selector('#selectGameId')\n",
      "/tmp/ipykernel_11671/1732342239.py:25: DeprecationWarning: find_element_by_css_selector is deprecated. Please use find_element(by=By.CSS_SELECTOR, value=css_selector) instead\n",
      "  searchbutten = driver.find_element_by_css_selector('#btnSearch')\n"
     ]
    },
    {
     "output_type": "stream",
     "name": "stdout",
     "text": [
      "24R / 인천(A)\n"
     ]
    },
    {
     "output_type": "stream",
     "name": "stderr",
     "text": [
      "/tmp/ipykernel_11671/1732342239.py:22: DeprecationWarning: find_element_by_css_selector is deprecated. Please use find_element(by=By.CSS_SELECTOR, value=css_selector) instead\n",
      "  game = driver.find_element_by_css_selector('#selectGameId')\n",
      "/tmp/ipykernel_11671/1732342239.py:25: DeprecationWarning: find_element_by_css_selector is deprecated. Please use find_element(by=By.CSS_SELECTOR, value=css_selector) instead\n",
      "  searchbutten = driver.find_element_by_css_selector('#btnSearch')\n"
     ]
    },
    {
     "output_type": "stream",
     "name": "stdout",
     "text": [
      "25R / 부산(A)\n"
     ]
    },
    {
     "output_type": "stream",
     "name": "stderr",
     "text": [
      "/tmp/ipykernel_11671/1732342239.py:22: DeprecationWarning: find_element_by_css_selector is deprecated. Please use find_element(by=By.CSS_SELECTOR, value=css_selector) instead\n",
      "  game = driver.find_element_by_css_selector('#selectGameId')\n",
      "/tmp/ipykernel_11671/1732342239.py:25: DeprecationWarning: find_element_by_css_selector is deprecated. Please use find_element(by=By.CSS_SELECTOR, value=css_selector) instead\n",
      "  searchbutten = driver.find_element_by_css_selector('#btnSearch')\n"
     ]
    },
    {
     "output_type": "stream",
     "name": "stdout",
     "text": [
      "26R / 성남(H)\n"
     ]
    },
    {
     "output_type": "stream",
     "name": "stderr",
     "text": [
      "/tmp/ipykernel_11671/1732342239.py:22: DeprecationWarning: find_element_by_css_selector is deprecated. Please use find_element(by=By.CSS_SELECTOR, value=css_selector) instead\n",
      "  game = driver.find_element_by_css_selector('#selectGameId')\n",
      "/tmp/ipykernel_11671/1732342239.py:25: DeprecationWarning: find_element_by_css_selector is deprecated. Please use find_element(by=By.CSS_SELECTOR, value=css_selector) instead\n",
      "  searchbutten = driver.find_element_by_css_selector('#btnSearch')\n"
     ]
    },
    {
     "output_type": "stream",
     "name": "stdout",
     "text": [
      "27R / 강원(A)\n"
     ]
    },
    {
     "output_type": "stream",
     "name": "stderr",
     "text": [
      "/tmp/ipykernel_11671/1732342239.py:16: DeprecationWarning: find_element_by_css_selector is deprecated. Please use find_element(by=By.CSS_SELECTOR, value=css_selector) instead\n",
      "  teamsel = driver.find_element_by_css_selector('#selectTeamId')\n",
      "/tmp/ipykernel_11671/1732342239.py:19: DeprecationWarning: find_elements_by_css_selector is deprecated. Please use find_elements(by=By.CSS_SELECTOR, value=css_selector) instead\n",
      "  gamessel = driver.find_elements_by_css_selector('#selectGameId > option')\n",
      "/tmp/ipykernel_11671/1732342239.py:22: DeprecationWarning: find_element_by_css_selector is deprecated. Please use find_element(by=By.CSS_SELECTOR, value=css_selector) instead\n",
      "  game = driver.find_element_by_css_selector('#selectGameId')\n",
      "/tmp/ipykernel_11671/1732342239.py:25: DeprecationWarning: find_element_by_css_selector is deprecated. Please use find_element(by=By.CSS_SELECTOR, value=css_selector) instead\n",
      "  searchbutten = driver.find_element_by_css_selector('#btnSearch')\n"
     ]
    },
    {
     "output_type": "stream",
     "name": "stdout",
     "text": [
      "1R / 부산(H)\n"
     ]
    },
    {
     "output_type": "stream",
     "name": "stderr",
     "text": [
      "/tmp/ipykernel_11671/1732342239.py:22: DeprecationWarning: find_element_by_css_selector is deprecated. Please use find_element(by=By.CSS_SELECTOR, value=css_selector) instead\n",
      "  game = driver.find_element_by_css_selector('#selectGameId')\n",
      "/tmp/ipykernel_11671/1732342239.py:25: DeprecationWarning: find_element_by_css_selector is deprecated. Please use find_element(by=By.CSS_SELECTOR, value=css_selector) instead\n",
      "  searchbutten = driver.find_element_by_css_selector('#btnSearch')\n"
     ]
    },
    {
     "output_type": "stream",
     "name": "stdout",
     "text": [
      "2R / 대구(A)\n"
     ]
    },
    {
     "output_type": "stream",
     "name": "stderr",
     "text": [
      "/tmp/ipykernel_11671/1732342239.py:22: DeprecationWarning: find_element_by_css_selector is deprecated. Please use find_element(by=By.CSS_SELECTOR, value=css_selector) instead\n",
      "  game = driver.find_element_by_css_selector('#selectGameId')\n",
      "/tmp/ipykernel_11671/1732342239.py:25: DeprecationWarning: find_element_by_css_selector is deprecated. Please use find_element(by=By.CSS_SELECTOR, value=css_selector) instead\n",
      "  searchbutten = driver.find_element_by_css_selector('#btnSearch')\n"
     ]
    },
    {
     "output_type": "stream",
     "name": "stdout",
     "text": [
      "3R / 서울(H)\n"
     ]
    },
    {
     "output_type": "stream",
     "name": "stderr",
     "text": [
      "/tmp/ipykernel_11671/1732342239.py:22: DeprecationWarning: find_element_by_css_selector is deprecated. Please use find_element(by=By.CSS_SELECTOR, value=css_selector) instead\n",
      "  game = driver.find_element_by_css_selector('#selectGameId')\n",
      "/tmp/ipykernel_11671/1732342239.py:25: DeprecationWarning: find_element_by_css_selector is deprecated. Please use find_element(by=By.CSS_SELECTOR, value=css_selector) instead\n",
      "  searchbutten = driver.find_element_by_css_selector('#btnSearch')\n"
     ]
    },
    {
     "output_type": "stream",
     "name": "stdout",
     "text": [
      "4R / 인천(A)\n"
     ]
    },
    {
     "output_type": "stream",
     "name": "stderr",
     "text": [
      "/tmp/ipykernel_11671/1732342239.py:22: DeprecationWarning: find_element_by_css_selector is deprecated. Please use find_element(by=By.CSS_SELECTOR, value=css_selector) instead\n",
      "  game = driver.find_element_by_css_selector('#selectGameId')\n",
      "/tmp/ipykernel_11671/1732342239.py:25: DeprecationWarning: find_element_by_css_selector is deprecated. Please use find_element(by=By.CSS_SELECTOR, value=css_selector) instead\n",
      "  searchbutten = driver.find_element_by_css_selector('#btnSearch')\n"
     ]
    },
    {
     "output_type": "stream",
     "name": "stdout",
     "text": [
      "5R / 울산(H)\n"
     ]
    },
    {
     "output_type": "stream",
     "name": "stderr",
     "text": [
      "/tmp/ipykernel_11671/1732342239.py:22: DeprecationWarning: find_element_by_css_selector is deprecated. Please use find_element(by=By.CSS_SELECTOR, value=css_selector) instead\n",
      "  game = driver.find_element_by_css_selector('#selectGameId')\n",
      "/tmp/ipykernel_11671/1732342239.py:25: DeprecationWarning: find_element_by_css_selector is deprecated. Please use find_element(by=By.CSS_SELECTOR, value=css_selector) instead\n",
      "  searchbutten = driver.find_element_by_css_selector('#btnSearch')\n"
     ]
    },
    {
     "output_type": "stream",
     "name": "stdout",
     "text": [
      "6R / 상주(A)\n"
     ]
    },
    {
     "output_type": "stream",
     "name": "stderr",
     "text": [
      "/tmp/ipykernel_11671/1732342239.py:22: DeprecationWarning: find_element_by_css_selector is deprecated. Please use find_element(by=By.CSS_SELECTOR, value=css_selector) instead\n",
      "  game = driver.find_element_by_css_selector('#selectGameId')\n",
      "/tmp/ipykernel_11671/1732342239.py:25: DeprecationWarning: find_element_by_css_selector is deprecated. Please use find_element(by=By.CSS_SELECTOR, value=css_selector) instead\n",
      "  searchbutten = driver.find_element_by_css_selector('#btnSearch')\n"
     ]
    },
    {
     "output_type": "stream",
     "name": "stdout",
     "text": [
      "7R / 전북(H)\n"
     ]
    },
    {
     "output_type": "stream",
     "name": "stderr",
     "text": [
      "/tmp/ipykernel_11671/1732342239.py:22: DeprecationWarning: find_element_by_css_selector is deprecated. Please use find_element(by=By.CSS_SELECTOR, value=css_selector) instead\n",
      "  game = driver.find_element_by_css_selector('#selectGameId')\n",
      "/tmp/ipykernel_11671/1732342239.py:25: DeprecationWarning: find_element_by_css_selector is deprecated. Please use find_element(by=By.CSS_SELECTOR, value=css_selector) instead\n",
      "  searchbutten = driver.find_element_by_css_selector('#btnSearch')\n"
     ]
    },
    {
     "output_type": "stream",
     "name": "stdout",
     "text": [
      "8R / 강원(H)\n"
     ]
    },
    {
     "output_type": "stream",
     "name": "stderr",
     "text": [
      "/tmp/ipykernel_11671/1732342239.py:22: DeprecationWarning: find_element_by_css_selector is deprecated. Please use find_element(by=By.CSS_SELECTOR, value=css_selector) instead\n",
      "  game = driver.find_element_by_css_selector('#selectGameId')\n",
      "/tmp/ipykernel_11671/1732342239.py:25: DeprecationWarning: find_element_by_css_selector is deprecated. Please use find_element(by=By.CSS_SELECTOR, value=css_selector) instead\n",
      "  searchbutten = driver.find_element_by_css_selector('#btnSearch')\n"
     ]
    },
    {
     "output_type": "stream",
     "name": "stdout",
     "text": [
      "9R / 광주(A)\n"
     ]
    },
    {
     "output_type": "stream",
     "name": "stderr",
     "text": [
      "/tmp/ipykernel_11671/1732342239.py:22: DeprecationWarning: find_element_by_css_selector is deprecated. Please use find_element(by=By.CSS_SELECTOR, value=css_selector) instead\n",
      "  game = driver.find_element_by_css_selector('#selectGameId')\n",
      "/tmp/ipykernel_11671/1732342239.py:25: DeprecationWarning: find_element_by_css_selector is deprecated. Please use find_element(by=By.CSS_SELECTOR, value=css_selector) instead\n",
      "  searchbutten = driver.find_element_by_css_selector('#btnSearch')\n"
     ]
    },
    {
     "output_type": "stream",
     "name": "stdout",
     "text": [
      "10R / 성남(A)\n"
     ]
    },
    {
     "output_type": "stream",
     "name": "stderr",
     "text": [
      "/tmp/ipykernel_11671/1732342239.py:22: DeprecationWarning: find_element_by_css_selector is deprecated. Please use find_element(by=By.CSS_SELECTOR, value=css_selector) instead\n",
      "  game = driver.find_element_by_css_selector('#selectGameId')\n",
      "/tmp/ipykernel_11671/1732342239.py:25: DeprecationWarning: find_element_by_css_selector is deprecated. Please use find_element(by=By.CSS_SELECTOR, value=css_selector) instead\n",
      "  searchbutten = driver.find_element_by_css_selector('#btnSearch')\n"
     ]
    },
    {
     "output_type": "stream",
     "name": "stdout",
     "text": [
      "11R / 수원(H)\n"
     ]
    },
    {
     "output_type": "stream",
     "name": "stderr",
     "text": [
      "/tmp/ipykernel_11671/1732342239.py:22: DeprecationWarning: find_element_by_css_selector is deprecated. Please use find_element(by=By.CSS_SELECTOR, value=css_selector) instead\n",
      "  game = driver.find_element_by_css_selector('#selectGameId')\n",
      "/tmp/ipykernel_11671/1732342239.py:25: DeprecationWarning: find_element_by_css_selector is deprecated. Please use find_element(by=By.CSS_SELECTOR, value=css_selector) instead\n",
      "  searchbutten = driver.find_element_by_css_selector('#btnSearch')\n"
     ]
    },
    {
     "output_type": "stream",
     "name": "stdout",
     "text": [
      "12R / 서울(A)\n"
     ]
    },
    {
     "output_type": "stream",
     "name": "stderr",
     "text": [
      "/tmp/ipykernel_11671/1732342239.py:22: DeprecationWarning: find_element_by_css_selector is deprecated. Please use find_element(by=By.CSS_SELECTOR, value=css_selector) instead\n",
      "  game = driver.find_element_by_css_selector('#selectGameId')\n",
      "/tmp/ipykernel_11671/1732342239.py:25: DeprecationWarning: find_element_by_css_selector is deprecated. Please use find_element(by=By.CSS_SELECTOR, value=css_selector) instead\n",
      "  searchbutten = driver.find_element_by_css_selector('#btnSearch')\n"
     ]
    },
    {
     "output_type": "stream",
     "name": "stdout",
     "text": [
      "13R / 인천(H)\n"
     ]
    },
    {
     "output_type": "stream",
     "name": "stderr",
     "text": [
      "/tmp/ipykernel_11671/1732342239.py:22: DeprecationWarning: find_element_by_css_selector is deprecated. Please use find_element(by=By.CSS_SELECTOR, value=css_selector) instead\n",
      "  game = driver.find_element_by_css_selector('#selectGameId')\n",
      "/tmp/ipykernel_11671/1732342239.py:25: DeprecationWarning: find_element_by_css_selector is deprecated. Please use find_element(by=By.CSS_SELECTOR, value=css_selector) instead\n",
      "  searchbutten = driver.find_element_by_css_selector('#btnSearch')\n"
     ]
    },
    {
     "output_type": "stream",
     "name": "stdout",
     "text": [
      "14R / 전북(A)\n"
     ]
    },
    {
     "output_type": "stream",
     "name": "stderr",
     "text": [
      "/tmp/ipykernel_11671/1732342239.py:22: DeprecationWarning: find_element_by_css_selector is deprecated. Please use find_element(by=By.CSS_SELECTOR, value=css_selector) instead\n",
      "  game = driver.find_element_by_css_selector('#selectGameId')\n",
      "/tmp/ipykernel_11671/1732342239.py:25: DeprecationWarning: find_element_by_css_selector is deprecated. Please use find_element(by=By.CSS_SELECTOR, value=css_selector) instead\n",
      "  searchbutten = driver.find_element_by_css_selector('#btnSearch')\n"
     ]
    },
    {
     "output_type": "stream",
     "name": "stdout",
     "text": [
      "15R / 광주(H)\n"
     ]
    },
    {
     "output_type": "stream",
     "name": "stderr",
     "text": [
      "/tmp/ipykernel_11671/1732342239.py:22: DeprecationWarning: find_element_by_css_selector is deprecated. Please use find_element(by=By.CSS_SELECTOR, value=css_selector) instead\n",
      "  game = driver.find_element_by_css_selector('#selectGameId')\n",
      "/tmp/ipykernel_11671/1732342239.py:25: DeprecationWarning: find_element_by_css_selector is deprecated. Please use find_element(by=By.CSS_SELECTOR, value=css_selector) instead\n",
      "  searchbutten = driver.find_element_by_css_selector('#btnSearch')\n"
     ]
    },
    {
     "output_type": "stream",
     "name": "stdout",
     "text": [
      "16R / 울산(A)\n"
     ]
    },
    {
     "output_type": "stream",
     "name": "stderr",
     "text": [
      "/tmp/ipykernel_11671/1732342239.py:22: DeprecationWarning: find_element_by_css_selector is deprecated. Please use find_element(by=By.CSS_SELECTOR, value=css_selector) instead\n",
      "  game = driver.find_element_by_css_selector('#selectGameId')\n",
      "/tmp/ipykernel_11671/1732342239.py:25: DeprecationWarning: find_element_by_css_selector is deprecated. Please use find_element(by=By.CSS_SELECTOR, value=css_selector) instead\n",
      "  searchbutten = driver.find_element_by_css_selector('#btnSearch')\n"
     ]
    },
    {
     "output_type": "stream",
     "name": "stdout",
     "text": [
      "17R / 부산(A)\n"
     ]
    },
    {
     "output_type": "stream",
     "name": "stderr",
     "text": [
      "/tmp/ipykernel_11671/1732342239.py:22: DeprecationWarning: find_element_by_css_selector is deprecated. Please use find_element(by=By.CSS_SELECTOR, value=css_selector) instead\n",
      "  game = driver.find_element_by_css_selector('#selectGameId')\n",
      "/tmp/ipykernel_11671/1732342239.py:25: DeprecationWarning: find_element_by_css_selector is deprecated. Please use find_element(by=By.CSS_SELECTOR, value=css_selector) instead\n",
      "  searchbutten = driver.find_element_by_css_selector('#btnSearch')\n"
     ]
    },
    {
     "output_type": "stream",
     "name": "stdout",
     "text": [
      "18R / 성남(H)\n"
     ]
    },
    {
     "output_type": "stream",
     "name": "stderr",
     "text": [
      "/tmp/ipykernel_11671/1732342239.py:22: DeprecationWarning: find_element_by_css_selector is deprecated. Please use find_element(by=By.CSS_SELECTOR, value=css_selector) instead\n",
      "  game = driver.find_element_by_css_selector('#selectGameId')\n",
      "/tmp/ipykernel_11671/1732342239.py:25: DeprecationWarning: find_element_by_css_selector is deprecated. Please use find_element(by=By.CSS_SELECTOR, value=css_selector) instead\n",
      "  searchbutten = driver.find_element_by_css_selector('#btnSearch')\n"
     ]
    },
    {
     "output_type": "stream",
     "name": "stdout",
     "text": [
      "19R / 대구(H)\n"
     ]
    },
    {
     "output_type": "stream",
     "name": "stderr",
     "text": [
      "/tmp/ipykernel_11671/1732342239.py:22: DeprecationWarning: find_element_by_css_selector is deprecated. Please use find_element(by=By.CSS_SELECTOR, value=css_selector) instead\n",
      "  game = driver.find_element_by_css_selector('#selectGameId')\n",
      "/tmp/ipykernel_11671/1732342239.py:25: DeprecationWarning: find_element_by_css_selector is deprecated. Please use find_element(by=By.CSS_SELECTOR, value=css_selector) instead\n",
      "  searchbutten = driver.find_element_by_css_selector('#btnSearch')\n"
     ]
    },
    {
     "output_type": "stream",
     "name": "stdout",
     "text": [
      "20R / 강원(A)\n"
     ]
    },
    {
     "output_type": "stream",
     "name": "stderr",
     "text": [
      "/tmp/ipykernel_11671/1732342239.py:22: DeprecationWarning: find_element_by_css_selector is deprecated. Please use find_element(by=By.CSS_SELECTOR, value=css_selector) instead\n",
      "  game = driver.find_element_by_css_selector('#selectGameId')\n",
      "/tmp/ipykernel_11671/1732342239.py:25: DeprecationWarning: find_element_by_css_selector is deprecated. Please use find_element(by=By.CSS_SELECTOR, value=css_selector) instead\n",
      "  searchbutten = driver.find_element_by_css_selector('#btnSearch')\n"
     ]
    },
    {
     "output_type": "stream",
     "name": "stdout",
     "text": [
      "21R / 수원(A)\n"
     ]
    },
    {
     "output_type": "stream",
     "name": "stderr",
     "text": [
      "/tmp/ipykernel_11671/1732342239.py:22: DeprecationWarning: find_element_by_css_selector is deprecated. Please use find_element(by=By.CSS_SELECTOR, value=css_selector) instead\n",
      "  game = driver.find_element_by_css_selector('#selectGameId')\n",
      "/tmp/ipykernel_11671/1732342239.py:25: DeprecationWarning: find_element_by_css_selector is deprecated. Please use find_element(by=By.CSS_SELECTOR, value=css_selector) instead\n",
      "  searchbutten = driver.find_element_by_css_selector('#btnSearch')\n"
     ]
    },
    {
     "output_type": "stream",
     "name": "stdout",
     "text": [
      "22R / 상주(H)\n"
     ]
    },
    {
     "output_type": "stream",
     "name": "stderr",
     "text": [
      "/tmp/ipykernel_11671/1732342239.py:22: DeprecationWarning: find_element_by_css_selector is deprecated. Please use find_element(by=By.CSS_SELECTOR, value=css_selector) instead\n",
      "  game = driver.find_element_by_css_selector('#selectGameId')\n",
      "/tmp/ipykernel_11671/1732342239.py:25: DeprecationWarning: find_element_by_css_selector is deprecated. Please use find_element(by=By.CSS_SELECTOR, value=css_selector) instead\n",
      "  searchbutten = driver.find_element_by_css_selector('#btnSearch')\n"
     ]
    },
    {
     "output_type": "stream",
     "name": "stdout",
     "text": [
      "23R / 광주(H)\n"
     ]
    },
    {
     "output_type": "stream",
     "name": "stderr",
     "text": [
      "/tmp/ipykernel_11671/1732342239.py:22: DeprecationWarning: find_element_by_css_selector is deprecated. Please use find_element(by=By.CSS_SELECTOR, value=css_selector) instead\n",
      "  game = driver.find_element_by_css_selector('#selectGameId')\n",
      "/tmp/ipykernel_11671/1732342239.py:25: DeprecationWarning: find_element_by_css_selector is deprecated. Please use find_element(by=By.CSS_SELECTOR, value=css_selector) instead\n",
      "  searchbutten = driver.find_element_by_css_selector('#btnSearch')\n"
     ]
    },
    {
     "output_type": "stream",
     "name": "stdout",
     "text": [
      "24R / 전북(A)\n"
     ]
    },
    {
     "output_type": "stream",
     "name": "stderr",
     "text": [
      "/tmp/ipykernel_11671/1732342239.py:22: DeprecationWarning: find_element_by_css_selector is deprecated. Please use find_element(by=By.CSS_SELECTOR, value=css_selector) instead\n",
      "  game = driver.find_element_by_css_selector('#selectGameId')\n",
      "/tmp/ipykernel_11671/1732342239.py:25: DeprecationWarning: find_element_by_css_selector is deprecated. Please use find_element(by=By.CSS_SELECTOR, value=css_selector) instead\n",
      "  searchbutten = driver.find_element_by_css_selector('#btnSearch')\n"
     ]
    },
    {
     "output_type": "stream",
     "name": "stdout",
     "text": [
      "25R / 울산(H)\n"
     ]
    },
    {
     "output_type": "stream",
     "name": "stderr",
     "text": [
      "/tmp/ipykernel_11671/1732342239.py:22: DeprecationWarning: find_element_by_css_selector is deprecated. Please use find_element(by=By.CSS_SELECTOR, value=css_selector) instead\n",
      "  game = driver.find_element_by_css_selector('#selectGameId')\n",
      "/tmp/ipykernel_11671/1732342239.py:25: DeprecationWarning: find_element_by_css_selector is deprecated. Please use find_element(by=By.CSS_SELECTOR, value=css_selector) instead\n",
      "  searchbutten = driver.find_element_by_css_selector('#btnSearch')\n"
     ]
    },
    {
     "output_type": "stream",
     "name": "stdout",
     "text": [
      "26R / 대구(A)\n"
     ]
    },
    {
     "output_type": "stream",
     "name": "stderr",
     "text": [
      "/tmp/ipykernel_11671/1732342239.py:22: DeprecationWarning: find_element_by_css_selector is deprecated. Please use find_element(by=By.CSS_SELECTOR, value=css_selector) instead\n",
      "  game = driver.find_element_by_css_selector('#selectGameId')\n",
      "/tmp/ipykernel_11671/1732342239.py:25: DeprecationWarning: find_element_by_css_selector is deprecated. Please use find_element(by=By.CSS_SELECTOR, value=css_selector) instead\n",
      "  searchbutten = driver.find_element_by_css_selector('#btnSearch')\n"
     ]
    },
    {
     "output_type": "stream",
     "name": "stdout",
     "text": [
      "27R / 상주(H)\n"
     ]
    },
    {
     "output_type": "stream",
     "name": "stderr",
     "text": [
      "/tmp/ipykernel_11671/1732342239.py:16: DeprecationWarning: find_element_by_css_selector is deprecated. Please use find_element(by=By.CSS_SELECTOR, value=css_selector) instead\n",
      "  teamsel = driver.find_element_by_css_selector('#selectTeamId')\n",
      "/tmp/ipykernel_11671/1732342239.py:19: DeprecationWarning: find_elements_by_css_selector is deprecated. Please use find_elements(by=By.CSS_SELECTOR, value=css_selector) instead\n",
      "  gamessel = driver.find_elements_by_css_selector('#selectGameId > option')\n",
      "/tmp/ipykernel_11671/1732342239.py:22: DeprecationWarning: find_element_by_css_selector is deprecated. Please use find_element(by=By.CSS_SELECTOR, value=css_selector) instead\n",
      "  game = driver.find_element_by_css_selector('#selectGameId')\n",
      "/tmp/ipykernel_11671/1732342239.py:25: DeprecationWarning: find_element_by_css_selector is deprecated. Please use find_element(by=By.CSS_SELECTOR, value=css_selector) instead\n",
      "  searchbutten = driver.find_element_by_css_selector('#btnSearch')\n"
     ]
    },
    {
     "output_type": "stream",
     "name": "stdout",
     "text": [
      "1R / 수원(H)\n"
     ]
    },
    {
     "output_type": "stream",
     "name": "stderr",
     "text": [
      "/tmp/ipykernel_11671/1732342239.py:22: DeprecationWarning: find_element_by_css_selector is deprecated. Please use find_element(by=By.CSS_SELECTOR, value=css_selector) instead\n",
      "  game = driver.find_element_by_css_selector('#selectGameId')\n",
      "/tmp/ipykernel_11671/1732342239.py:25: DeprecationWarning: find_element_by_css_selector is deprecated. Please use find_element(by=By.CSS_SELECTOR, value=css_selector) instead\n",
      "  searchbutten = driver.find_element_by_css_selector('#btnSearch')\n"
     ]
    },
    {
     "output_type": "stream",
     "name": "stdout",
     "text": [
      "2R / 부산(A)\n"
     ]
    },
    {
     "output_type": "stream",
     "name": "stderr",
     "text": [
      "/tmp/ipykernel_11671/1732342239.py:22: DeprecationWarning: find_element_by_css_selector is deprecated. Please use find_element(by=By.CSS_SELECTOR, value=css_selector) instead\n",
      "  game = driver.find_element_by_css_selector('#selectGameId')\n",
      "/tmp/ipykernel_11671/1732342239.py:25: DeprecationWarning: find_element_by_css_selector is deprecated. Please use find_element(by=By.CSS_SELECTOR, value=css_selector) instead\n",
      "  searchbutten = driver.find_element_by_css_selector('#btnSearch')\n"
     ]
    },
    {
     "output_type": "stream",
     "name": "stdout",
     "text": [
      "3R / 대구(H)\n"
     ]
    },
    {
     "output_type": "stream",
     "name": "stderr",
     "text": [
      "/tmp/ipykernel_11671/1732342239.py:22: DeprecationWarning: find_element_by_css_selector is deprecated. Please use find_element(by=By.CSS_SELECTOR, value=css_selector) instead\n",
      "  game = driver.find_element_by_css_selector('#selectGameId')\n",
      "/tmp/ipykernel_11671/1732342239.py:25: DeprecationWarning: find_element_by_css_selector is deprecated. Please use find_element(by=By.CSS_SELECTOR, value=css_selector) instead\n",
      "  searchbutten = driver.find_element_by_css_selector('#btnSearch')\n"
     ]
    },
    {
     "output_type": "stream",
     "name": "stdout",
     "text": [
      "4R / 강원(A)\n"
     ]
    },
    {
     "output_type": "stream",
     "name": "stderr",
     "text": [
      "/tmp/ipykernel_11671/1732342239.py:22: DeprecationWarning: find_element_by_css_selector is deprecated. Please use find_element(by=By.CSS_SELECTOR, value=css_selector) instead\n",
      "  game = driver.find_element_by_css_selector('#selectGameId')\n",
      "/tmp/ipykernel_11671/1732342239.py:25: DeprecationWarning: find_element_by_css_selector is deprecated. Please use find_element(by=By.CSS_SELECTOR, value=css_selector) instead\n",
      "  searchbutten = driver.find_element_by_css_selector('#btnSearch')\n"
     ]
    },
    {
     "output_type": "stream",
     "name": "stdout",
     "text": [
      "5R / 서울(A)\n"
     ]
    },
    {
     "output_type": "stream",
     "name": "stderr",
     "text": [
      "/tmp/ipykernel_11671/1732342239.py:22: DeprecationWarning: find_element_by_css_selector is deprecated. Please use find_element(by=By.CSS_SELECTOR, value=css_selector) instead\n",
      "  game = driver.find_element_by_css_selector('#selectGameId')\n",
      "/tmp/ipykernel_11671/1732342239.py:25: DeprecationWarning: find_element_by_css_selector is deprecated. Please use find_element(by=By.CSS_SELECTOR, value=css_selector) instead\n",
      "  searchbutten = driver.find_element_by_css_selector('#btnSearch')\n"
     ]
    },
    {
     "output_type": "stream",
     "name": "stdout",
     "text": [
      "6R / 인천(H)\n"
     ]
    },
    {
     "output_type": "stream",
     "name": "stderr",
     "text": [
      "/tmp/ipykernel_11671/1732342239.py:22: DeprecationWarning: find_element_by_css_selector is deprecated. Please use find_element(by=By.CSS_SELECTOR, value=css_selector) instead\n",
      "  game = driver.find_element_by_css_selector('#selectGameId')\n",
      "/tmp/ipykernel_11671/1732342239.py:25: DeprecationWarning: find_element_by_css_selector is deprecated. Please use find_element(by=By.CSS_SELECTOR, value=css_selector) instead\n",
      "  searchbutten = driver.find_element_by_css_selector('#btnSearch')\n"
     ]
    },
    {
     "output_type": "stream",
     "name": "stdout",
     "text": [
      "7R / 포항(A)\n"
     ]
    },
    {
     "output_type": "stream",
     "name": "stderr",
     "text": [
      "/tmp/ipykernel_11671/1732342239.py:22: DeprecationWarning: find_element_by_css_selector is deprecated. Please use find_element(by=By.CSS_SELECTOR, value=css_selector) instead\n",
      "  game = driver.find_element_by_css_selector('#selectGameId')\n",
      "/tmp/ipykernel_11671/1732342239.py:25: DeprecationWarning: find_element_by_css_selector is deprecated. Please use find_element(by=By.CSS_SELECTOR, value=css_selector) instead\n",
      "  searchbutten = driver.find_element_by_css_selector('#btnSearch')\n"
     ]
    },
    {
     "output_type": "stream",
     "name": "stdout",
     "text": [
      "8R / 광주(H)\n"
     ]
    },
    {
     "output_type": "stream",
     "name": "stderr",
     "text": [
      "/tmp/ipykernel_11671/1732342239.py:22: DeprecationWarning: find_element_by_css_selector is deprecated. Please use find_element(by=By.CSS_SELECTOR, value=css_selector) instead\n",
      "  game = driver.find_element_by_css_selector('#selectGameId')\n",
      "/tmp/ipykernel_11671/1732342239.py:25: DeprecationWarning: find_element_by_css_selector is deprecated. Please use find_element(by=By.CSS_SELECTOR, value=css_selector) instead\n",
      "  searchbutten = driver.find_element_by_css_selector('#btnSearch')\n"
     ]
    },
    {
     "output_type": "stream",
     "name": "stdout",
     "text": [
      "9R / 울산(A)\n"
     ]
    },
    {
     "output_type": "stream",
     "name": "stderr",
     "text": [
      "/tmp/ipykernel_11671/1732342239.py:22: DeprecationWarning: find_element_by_css_selector is deprecated. Please use find_element(by=By.CSS_SELECTOR, value=css_selector) instead\n",
      "  game = driver.find_element_by_css_selector('#selectGameId')\n",
      "/tmp/ipykernel_11671/1732342239.py:25: DeprecationWarning: find_element_by_css_selector is deprecated. Please use find_element(by=By.CSS_SELECTOR, value=css_selector) instead\n",
      "  searchbutten = driver.find_element_by_css_selector('#btnSearch')\n"
     ]
    },
    {
     "output_type": "stream",
     "name": "stdout",
     "text": [
      "10R / 상주(A)\n"
     ]
    },
    {
     "output_type": "stream",
     "name": "stderr",
     "text": [
      "/tmp/ipykernel_11671/1732342239.py:22: DeprecationWarning: find_element_by_css_selector is deprecated. Please use find_element(by=By.CSS_SELECTOR, value=css_selector) instead\n",
      "  game = driver.find_element_by_css_selector('#selectGameId')\n",
      "/tmp/ipykernel_11671/1732342239.py:25: DeprecationWarning: find_element_by_css_selector is deprecated. Please use find_element(by=By.CSS_SELECTOR, value=css_selector) instead\n",
      "  searchbutten = driver.find_element_by_css_selector('#btnSearch')\n"
     ]
    },
    {
     "output_type": "stream",
     "name": "stdout",
     "text": [
      "11R / 성남(H)\n"
     ]
    },
    {
     "output_type": "stream",
     "name": "stderr",
     "text": [
      "/tmp/ipykernel_11671/1732342239.py:22: DeprecationWarning: find_element_by_css_selector is deprecated. Please use find_element(by=By.CSS_SELECTOR, value=css_selector) instead\n",
      "  game = driver.find_element_by_css_selector('#selectGameId')\n",
      "/tmp/ipykernel_11671/1732342239.py:25: DeprecationWarning: find_element_by_css_selector is deprecated. Please use find_element(by=By.CSS_SELECTOR, value=css_selector) instead\n",
      "  searchbutten = driver.find_element_by_css_selector('#btnSearch')\n"
     ]
    },
    {
     "output_type": "stream",
     "name": "stdout",
     "text": [
      "12R / 인천(A)\n"
     ]
    },
    {
     "output_type": "stream",
     "name": "stderr",
     "text": [
      "/tmp/ipykernel_11671/1732342239.py:22: DeprecationWarning: find_element_by_css_selector is deprecated. Please use find_element(by=By.CSS_SELECTOR, value=css_selector) instead\n",
      "  game = driver.find_element_by_css_selector('#selectGameId')\n",
      "/tmp/ipykernel_11671/1732342239.py:25: DeprecationWarning: find_element_by_css_selector is deprecated. Please use find_element(by=By.CSS_SELECTOR, value=css_selector) instead\n",
      "  searchbutten = driver.find_element_by_css_selector('#btnSearch')\n"
     ]
    },
    {
     "output_type": "stream",
     "name": "stdout",
     "text": [
      "13R / 서울(H)\n"
     ]
    },
    {
     "output_type": "stream",
     "name": "stderr",
     "text": [
      "/tmp/ipykernel_11671/1732342239.py:22: DeprecationWarning: find_element_by_css_selector is deprecated. Please use find_element(by=By.CSS_SELECTOR, value=css_selector) instead\n",
      "  game = driver.find_element_by_css_selector('#selectGameId')\n",
      "/tmp/ipykernel_11671/1732342239.py:25: DeprecationWarning: find_element_by_css_selector is deprecated. Please use find_element(by=By.CSS_SELECTOR, value=css_selector) instead\n",
      "  searchbutten = driver.find_element_by_css_selector('#btnSearch')\n"
     ]
    },
    {
     "output_type": "stream",
     "name": "stdout",
     "text": [
      "14R / 포항(H)\n"
     ]
    },
    {
     "output_type": "stream",
     "name": "stderr",
     "text": [
      "/tmp/ipykernel_11671/1732342239.py:22: DeprecationWarning: find_element_by_css_selector is deprecated. Please use find_element(by=By.CSS_SELECTOR, value=css_selector) instead\n",
      "  game = driver.find_element_by_css_selector('#selectGameId')\n",
      "/tmp/ipykernel_11671/1732342239.py:25: DeprecationWarning: find_element_by_css_selector is deprecated. Please use find_element(by=By.CSS_SELECTOR, value=css_selector) instead\n",
      "  searchbutten = driver.find_element_by_css_selector('#btnSearch')\n"
     ]
    },
    {
     "output_type": "stream",
     "name": "stdout",
     "text": [
      "15R / 대구(A)\n"
     ]
    },
    {
     "output_type": "stream",
     "name": "stderr",
     "text": [
      "/tmp/ipykernel_11671/1732342239.py:22: DeprecationWarning: find_element_by_css_selector is deprecated. Please use find_element(by=By.CSS_SELECTOR, value=css_selector) instead\n",
      "  game = driver.find_element_by_css_selector('#selectGameId')\n",
      "/tmp/ipykernel_11671/1732342239.py:25: DeprecationWarning: find_element_by_css_selector is deprecated. Please use find_element(by=By.CSS_SELECTOR, value=css_selector) instead\n",
      "  searchbutten = driver.find_element_by_css_selector('#btnSearch')\n"
     ]
    },
    {
     "output_type": "stream",
     "name": "stdout",
     "text": [
      "16R / 수원(A)\n"
     ]
    },
    {
     "output_type": "stream",
     "name": "stderr",
     "text": [
      "/tmp/ipykernel_11671/1732342239.py:22: DeprecationWarning: find_element_by_css_selector is deprecated. Please use find_element(by=By.CSS_SELECTOR, value=css_selector) instead\n",
      "  game = driver.find_element_by_css_selector('#selectGameId')\n",
      "/tmp/ipykernel_11671/1732342239.py:25: DeprecationWarning: find_element_by_css_selector is deprecated. Please use find_element(by=By.CSS_SELECTOR, value=css_selector) instead\n",
      "  searchbutten = driver.find_element_by_css_selector('#btnSearch')\n"
     ]
    },
    {
     "output_type": "stream",
     "name": "stdout",
     "text": [
      "17R / 상주(H)\n"
     ]
    },
    {
     "output_type": "stream",
     "name": "stderr",
     "text": [
      "/tmp/ipykernel_11671/1732342239.py:22: DeprecationWarning: find_element_by_css_selector is deprecated. Please use find_element(by=By.CSS_SELECTOR, value=css_selector) instead\n",
      "  game = driver.find_element_by_css_selector('#selectGameId')\n",
      "/tmp/ipykernel_11671/1732342239.py:25: DeprecationWarning: find_element_by_css_selector is deprecated. Please use find_element(by=By.CSS_SELECTOR, value=css_selector) instead\n",
      "  searchbutten = driver.find_element_by_css_selector('#btnSearch')\n"
     ]
    },
    {
     "output_type": "stream",
     "name": "stdout",
     "text": [
      "18R / 강원(H)\n"
     ]
    },
    {
     "output_type": "stream",
     "name": "stderr",
     "text": [
      "/tmp/ipykernel_11671/1732342239.py:22: DeprecationWarning: find_element_by_css_selector is deprecated. Please use find_element(by=By.CSS_SELECTOR, value=css_selector) instead\n",
      "  game = driver.find_element_by_css_selector('#selectGameId')\n",
      "/tmp/ipykernel_11671/1732342239.py:25: DeprecationWarning: find_element_by_css_selector is deprecated. Please use find_element(by=By.CSS_SELECTOR, value=css_selector) instead\n",
      "  searchbutten = driver.find_element_by_css_selector('#btnSearch')\n"
     ]
    },
    {
     "output_type": "stream",
     "name": "stdout",
     "text": [
      "19R / 성남(A)\n"
     ]
    },
    {
     "output_type": "stream",
     "name": "stderr",
     "text": [
      "/tmp/ipykernel_11671/1732342239.py:22: DeprecationWarning: find_element_by_css_selector is deprecated. Please use find_element(by=By.CSS_SELECTOR, value=css_selector) instead\n",
      "  game = driver.find_element_by_css_selector('#selectGameId')\n",
      "/tmp/ipykernel_11671/1732342239.py:25: DeprecationWarning: find_element_by_css_selector is deprecated. Please use find_element(by=By.CSS_SELECTOR, value=css_selector) instead\n",
      "  searchbutten = driver.find_element_by_css_selector('#btnSearch')\n"
     ]
    },
    {
     "output_type": "stream",
     "name": "stdout",
     "text": [
      "20R / 광주(A)\n"
     ]
    },
    {
     "output_type": "stream",
     "name": "stderr",
     "text": [
      "/tmp/ipykernel_11671/1732342239.py:22: DeprecationWarning: find_element_by_css_selector is deprecated. Please use find_element(by=By.CSS_SELECTOR, value=css_selector) instead\n",
      "  game = driver.find_element_by_css_selector('#selectGameId')\n",
      "/tmp/ipykernel_11671/1732342239.py:25: DeprecationWarning: find_element_by_css_selector is deprecated. Please use find_element(by=By.CSS_SELECTOR, value=css_selector) instead\n",
      "  searchbutten = driver.find_element_by_css_selector('#btnSearch')\n"
     ]
    },
    {
     "output_type": "stream",
     "name": "stdout",
     "text": [
      "21R / 울산(H)\n"
     ]
    },
    {
     "output_type": "stream",
     "name": "stderr",
     "text": [
      "/tmp/ipykernel_11671/1732342239.py:22: DeprecationWarning: find_element_by_css_selector is deprecated. Please use find_element(by=By.CSS_SELECTOR, value=css_selector) instead\n",
      "  game = driver.find_element_by_css_selector('#selectGameId')\n",
      "/tmp/ipykernel_11671/1732342239.py:25: DeprecationWarning: find_element_by_css_selector is deprecated. Please use find_element(by=By.CSS_SELECTOR, value=css_selector) instead\n",
      "  searchbutten = driver.find_element_by_css_selector('#btnSearch')\n"
     ]
    },
    {
     "output_type": "stream",
     "name": "stdout",
     "text": [
      "22R / 부산(H)\n"
     ]
    },
    {
     "output_type": "stream",
     "name": "stderr",
     "text": [
      "/tmp/ipykernel_11671/1732342239.py:22: DeprecationWarning: find_element_by_css_selector is deprecated. Please use find_element(by=By.CSS_SELECTOR, value=css_selector) instead\n",
      "  game = driver.find_element_by_css_selector('#selectGameId')\n",
      "/tmp/ipykernel_11671/1732342239.py:25: DeprecationWarning: find_element_by_css_selector is deprecated. Please use find_element(by=By.CSS_SELECTOR, value=css_selector) instead\n",
      "  searchbutten = driver.find_element_by_css_selector('#btnSearch')\n"
     ]
    },
    {
     "output_type": "stream",
     "name": "stdout",
     "text": [
      "23R / 상주(A)\n"
     ]
    },
    {
     "output_type": "stream",
     "name": "stderr",
     "text": [
      "/tmp/ipykernel_11671/1732342239.py:22: DeprecationWarning: find_element_by_css_selector is deprecated. Please use find_element(by=By.CSS_SELECTOR, value=css_selector) instead\n",
      "  game = driver.find_element_by_css_selector('#selectGameId')\n",
      "/tmp/ipykernel_11671/1732342239.py:25: DeprecationWarning: find_element_by_css_selector is deprecated. Please use find_element(by=By.CSS_SELECTOR, value=css_selector) instead\n",
      "  searchbutten = driver.find_element_by_css_selector('#btnSearch')\n"
     ]
    },
    {
     "output_type": "stream",
     "name": "stdout",
     "text": [
      "24R / 포항(H)\n"
     ]
    },
    {
     "output_type": "stream",
     "name": "stderr",
     "text": [
      "/tmp/ipykernel_11671/1732342239.py:22: DeprecationWarning: find_element_by_css_selector is deprecated. Please use find_element(by=By.CSS_SELECTOR, value=css_selector) instead\n",
      "  game = driver.find_element_by_css_selector('#selectGameId')\n",
      "/tmp/ipykernel_11671/1732342239.py:25: DeprecationWarning: find_element_by_css_selector is deprecated. Please use find_element(by=By.CSS_SELECTOR, value=css_selector) instead\n",
      "  searchbutten = driver.find_element_by_css_selector('#btnSearch')\n"
     ]
    },
    {
     "output_type": "stream",
     "name": "stdout",
     "text": [
      "25R / 광주(H)\n"
     ]
    },
    {
     "output_type": "stream",
     "name": "stderr",
     "text": [
      "/tmp/ipykernel_11671/1732342239.py:22: DeprecationWarning: find_element_by_css_selector is deprecated. Please use find_element(by=By.CSS_SELECTOR, value=css_selector) instead\n",
      "  game = driver.find_element_by_css_selector('#selectGameId')\n",
      "/tmp/ipykernel_11671/1732342239.py:25: DeprecationWarning: find_element_by_css_selector is deprecated. Please use find_element(by=By.CSS_SELECTOR, value=css_selector) instead\n",
      "  searchbutten = driver.find_element_by_css_selector('#btnSearch')\n"
     ]
    },
    {
     "output_type": "stream",
     "name": "stdout",
     "text": [
      "26R / 울산(A)\n"
     ]
    },
    {
     "output_type": "stream",
     "name": "stderr",
     "text": [
      "/tmp/ipykernel_11671/1732342239.py:22: DeprecationWarning: find_element_by_css_selector is deprecated. Please use find_element(by=By.CSS_SELECTOR, value=css_selector) instead\n",
      "  game = driver.find_element_by_css_selector('#selectGameId')\n",
      "/tmp/ipykernel_11671/1732342239.py:25: DeprecationWarning: find_element_by_css_selector is deprecated. Please use find_element(by=By.CSS_SELECTOR, value=css_selector) instead\n",
      "  searchbutten = driver.find_element_by_css_selector('#btnSearch')\n"
     ]
    },
    {
     "output_type": "stream",
     "name": "stdout",
     "text": [
      "27R / 대구(H)\n"
     ]
    },
    {
     "output_type": "stream",
     "name": "stderr",
     "text": [
      "/tmp/ipykernel_11671/1732342239.py:16: DeprecationWarning: find_element_by_css_selector is deprecated. Please use find_element(by=By.CSS_SELECTOR, value=css_selector) instead\n",
      "  teamsel = driver.find_element_by_css_selector('#selectTeamId')\n",
      "/tmp/ipykernel_11671/1732342239.py:19: DeprecationWarning: find_elements_by_css_selector is deprecated. Please use find_elements(by=By.CSS_SELECTOR, value=css_selector) instead\n",
      "  gamessel = driver.find_elements_by_css_selector('#selectGameId > option')\n",
      "/tmp/ipykernel_11671/1732342239.py:22: DeprecationWarning: find_element_by_css_selector is deprecated. Please use find_element(by=By.CSS_SELECTOR, value=css_selector) instead\n",
      "  game = driver.find_element_by_css_selector('#selectGameId')\n",
      "/tmp/ipykernel_11671/1732342239.py:25: DeprecationWarning: find_element_by_css_selector is deprecated. Please use find_element(by=By.CSS_SELECTOR, value=css_selector) instead\n",
      "  searchbutten = driver.find_element_by_css_selector('#btnSearch')\n"
     ]
    },
    {
     "output_type": "stream",
     "name": "stdout",
     "text": [
      "1R / 포항(A)\n"
     ]
    },
    {
     "output_type": "stream",
     "name": "stderr",
     "text": [
      "/tmp/ipykernel_11671/1732342239.py:22: DeprecationWarning: find_element_by_css_selector is deprecated. Please use find_element(by=By.CSS_SELECTOR, value=css_selector) instead\n",
      "  game = driver.find_element_by_css_selector('#selectGameId')\n",
      "/tmp/ipykernel_11671/1732342239.py:25: DeprecationWarning: find_element_by_css_selector is deprecated. Please use find_element(by=By.CSS_SELECTOR, value=css_selector) instead\n",
      "  searchbutten = driver.find_element_by_css_selector('#btnSearch')\n"
     ]
    },
    {
     "output_type": "stream",
     "name": "stdout",
     "text": [
      "2R / 전북(H)\n"
     ]
    },
    {
     "output_type": "stream",
     "name": "stderr",
     "text": [
      "/tmp/ipykernel_11671/1732342239.py:22: DeprecationWarning: find_element_by_css_selector is deprecated. Please use find_element(by=By.CSS_SELECTOR, value=css_selector) instead\n",
      "  game = driver.find_element_by_css_selector('#selectGameId')\n",
      "/tmp/ipykernel_11671/1732342239.py:25: DeprecationWarning: find_element_by_css_selector is deprecated. Please use find_element(by=By.CSS_SELECTOR, value=css_selector) instead\n",
      "  searchbutten = driver.find_element_by_css_selector('#btnSearch')\n"
     ]
    },
    {
     "output_type": "stream",
     "name": "stdout",
     "text": [
      "3R / 울산(A)\n"
     ]
    },
    {
     "output_type": "stream",
     "name": "stderr",
     "text": [
      "/tmp/ipykernel_11671/1732342239.py:22: DeprecationWarning: find_element_by_css_selector is deprecated. Please use find_element(by=By.CSS_SELECTOR, value=css_selector) instead\n",
      "  game = driver.find_element_by_css_selector('#selectGameId')\n",
      "/tmp/ipykernel_11671/1732342239.py:25: DeprecationWarning: find_element_by_css_selector is deprecated. Please use find_element(by=By.CSS_SELECTOR, value=css_selector) instead\n",
      "  searchbutten = driver.find_element_by_css_selector('#btnSearch')\n"
     ]
    },
    {
     "output_type": "stream",
     "name": "stdout",
     "text": [
      "4R / 수원(H)\n"
     ]
    },
    {
     "output_type": "stream",
     "name": "stderr",
     "text": [
      "/tmp/ipykernel_11671/1732342239.py:22: DeprecationWarning: find_element_by_css_selector is deprecated. Please use find_element(by=By.CSS_SELECTOR, value=css_selector) instead\n",
      "  game = driver.find_element_by_css_selector('#selectGameId')\n",
      "/tmp/ipykernel_11671/1732342239.py:25: DeprecationWarning: find_element_by_css_selector is deprecated. Please use find_element(by=By.CSS_SELECTOR, value=css_selector) instead\n",
      "  searchbutten = driver.find_element_by_css_selector('#btnSearch')\n"
     ]
    },
    {
     "output_type": "stream",
     "name": "stdout",
     "text": [
      "5R / 상주(H)\n"
     ]
    },
    {
     "output_type": "stream",
     "name": "stderr",
     "text": [
      "/tmp/ipykernel_11671/1732342239.py:22: DeprecationWarning: find_element_by_css_selector is deprecated. Please use find_element(by=By.CSS_SELECTOR, value=css_selector) instead\n",
      "  game = driver.find_element_by_css_selector('#selectGameId')\n",
      "/tmp/ipykernel_11671/1732342239.py:25: DeprecationWarning: find_element_by_css_selector is deprecated. Please use find_element(by=By.CSS_SELECTOR, value=css_selector) instead\n",
      "  searchbutten = driver.find_element_by_css_selector('#btnSearch')\n"
     ]
    },
    {
     "output_type": "stream",
     "name": "stdout",
     "text": [
      "6R / 광주(A)\n"
     ]
    },
    {
     "output_type": "stream",
     "name": "stderr",
     "text": [
      "/tmp/ipykernel_11671/1732342239.py:22: DeprecationWarning: find_element_by_css_selector is deprecated. Please use find_element(by=By.CSS_SELECTOR, value=css_selector) instead\n",
      "  game = driver.find_element_by_css_selector('#selectGameId')\n",
      "/tmp/ipykernel_11671/1732342239.py:25: DeprecationWarning: find_element_by_css_selector is deprecated. Please use find_element(by=By.CSS_SELECTOR, value=css_selector) instead\n",
      "  searchbutten = driver.find_element_by_css_selector('#btnSearch')\n"
     ]
    },
    {
     "output_type": "stream",
     "name": "stdout",
     "text": [
      "7R / 대구(H)\n"
     ]
    },
    {
     "output_type": "stream",
     "name": "stderr",
     "text": [
      "/tmp/ipykernel_11671/1732342239.py:22: DeprecationWarning: find_element_by_css_selector is deprecated. Please use find_element(by=By.CSS_SELECTOR, value=css_selector) instead\n",
      "  game = driver.find_element_by_css_selector('#selectGameId')\n",
      "/tmp/ipykernel_11671/1732342239.py:25: DeprecationWarning: find_element_by_css_selector is deprecated. Please use find_element(by=By.CSS_SELECTOR, value=css_selector) instead\n",
      "  searchbutten = driver.find_element_by_css_selector('#btnSearch')\n"
     ]
    },
    {
     "output_type": "stream",
     "name": "stdout",
     "text": [
      "8R / 인천(A)\n"
     ]
    },
    {
     "output_type": "stream",
     "name": "stderr",
     "text": [
      "/tmp/ipykernel_11671/1732342239.py:22: DeprecationWarning: find_element_by_css_selector is deprecated. Please use find_element(by=By.CSS_SELECTOR, value=css_selector) instead\n",
      "  game = driver.find_element_by_css_selector('#selectGameId')\n",
      "/tmp/ipykernel_11671/1732342239.py:25: DeprecationWarning: find_element_by_css_selector is deprecated. Please use find_element(by=By.CSS_SELECTOR, value=css_selector) instead\n",
      "  searchbutten = driver.find_element_by_css_selector('#btnSearch')\n"
     ]
    },
    {
     "output_type": "stream",
     "name": "stdout",
     "text": [
      "9R / 성남(H)\n"
     ]
    },
    {
     "output_type": "stream",
     "name": "stderr",
     "text": [
      "/tmp/ipykernel_11671/1732342239.py:22: DeprecationWarning: find_element_by_css_selector is deprecated. Please use find_element(by=By.CSS_SELECTOR, value=css_selector) instead\n",
      "  game = driver.find_element_by_css_selector('#selectGameId')\n",
      "/tmp/ipykernel_11671/1732342239.py:25: DeprecationWarning: find_element_by_css_selector is deprecated. Please use find_element(by=By.CSS_SELECTOR, value=css_selector) instead\n",
      "  searchbutten = driver.find_element_by_css_selector('#btnSearch')\n"
     ]
    },
    {
     "output_type": "stream",
     "name": "stdout",
     "text": [
      "10R / 강원(A)\n"
     ]
    },
    {
     "output_type": "stream",
     "name": "stderr",
     "text": [
      "/tmp/ipykernel_11671/1732342239.py:22: DeprecationWarning: find_element_by_css_selector is deprecated. Please use find_element(by=By.CSS_SELECTOR, value=css_selector) instead\n",
      "  game = driver.find_element_by_css_selector('#selectGameId')\n",
      "/tmp/ipykernel_11671/1732342239.py:25: DeprecationWarning: find_element_by_css_selector is deprecated. Please use find_element(by=By.CSS_SELECTOR, value=css_selector) instead\n",
      "  searchbutten = driver.find_element_by_css_selector('#btnSearch')\n"
     ]
    },
    {
     "output_type": "stream",
     "name": "stdout",
     "text": [
      "11R / 서울(H)\n"
     ]
    },
    {
     "output_type": "stream",
     "name": "stderr",
     "text": [
      "/tmp/ipykernel_11671/1732342239.py:22: DeprecationWarning: find_element_by_css_selector is deprecated. Please use find_element(by=By.CSS_SELECTOR, value=css_selector) instead\n",
      "  game = driver.find_element_by_css_selector('#selectGameId')\n",
      "/tmp/ipykernel_11671/1732342239.py:25: DeprecationWarning: find_element_by_css_selector is deprecated. Please use find_element(by=By.CSS_SELECTOR, value=css_selector) instead\n",
      "  searchbutten = driver.find_element_by_css_selector('#btnSearch')\n"
     ]
    },
    {
     "output_type": "stream",
     "name": "stdout",
     "text": [
      "12R / 광주(H)\n"
     ]
    },
    {
     "output_type": "stream",
     "name": "stderr",
     "text": [
      "/tmp/ipykernel_11671/1732342239.py:22: DeprecationWarning: find_element_by_css_selector is deprecated. Please use find_element(by=By.CSS_SELECTOR, value=css_selector) instead\n",
      "  game = driver.find_element_by_css_selector('#selectGameId')\n",
      "/tmp/ipykernel_11671/1732342239.py:25: DeprecationWarning: find_element_by_css_selector is deprecated. Please use find_element(by=By.CSS_SELECTOR, value=css_selector) instead\n",
      "  searchbutten = driver.find_element_by_css_selector('#btnSearch')\n"
     ]
    },
    {
     "output_type": "stream",
     "name": "stdout",
     "text": [
      "13R / 대구(A)\n"
     ]
    },
    {
     "output_type": "stream",
     "name": "stderr",
     "text": [
      "/tmp/ipykernel_11671/1732342239.py:22: DeprecationWarning: find_element_by_css_selector is deprecated. Please use find_element(by=By.CSS_SELECTOR, value=css_selector) instead\n",
      "  game = driver.find_element_by_css_selector('#selectGameId')\n",
      "/tmp/ipykernel_11671/1732342239.py:25: DeprecationWarning: find_element_by_css_selector is deprecated. Please use find_element(by=By.CSS_SELECTOR, value=css_selector) instead\n",
      "  searchbutten = driver.find_element_by_css_selector('#btnSearch')\n"
     ]
    },
    {
     "output_type": "stream",
     "name": "stdout",
     "text": [
      "14R / 울산(H)\n"
     ]
    },
    {
     "output_type": "stream",
     "name": "stderr",
     "text": [
      "/tmp/ipykernel_11671/1732342239.py:22: DeprecationWarning: find_element_by_css_selector is deprecated. Please use find_element(by=By.CSS_SELECTOR, value=css_selector) instead\n",
      "  game = driver.find_element_by_css_selector('#selectGameId')\n",
      "/tmp/ipykernel_11671/1732342239.py:25: DeprecationWarning: find_element_by_css_selector is deprecated. Please use find_element(by=By.CSS_SELECTOR, value=css_selector) instead\n",
      "  searchbutten = driver.find_element_by_css_selector('#btnSearch')\n"
     ]
    },
    {
     "output_type": "stream",
     "name": "stdout",
     "text": [
      "15R / 상주(A)\n"
     ]
    },
    {
     "output_type": "stream",
     "name": "stderr",
     "text": [
      "/tmp/ipykernel_11671/1732342239.py:22: DeprecationWarning: find_element_by_css_selector is deprecated. Please use find_element(by=By.CSS_SELECTOR, value=css_selector) instead\n",
      "  game = driver.find_element_by_css_selector('#selectGameId')\n",
      "/tmp/ipykernel_11671/1732342239.py:25: DeprecationWarning: find_element_by_css_selector is deprecated. Please use find_element(by=By.CSS_SELECTOR, value=css_selector) instead\n",
      "  searchbutten = driver.find_element_by_css_selector('#btnSearch')\n"
     ]
    },
    {
     "output_type": "stream",
     "name": "stdout",
     "text": [
      "16R / 성남(A)\n"
     ]
    },
    {
     "output_type": "stream",
     "name": "stderr",
     "text": [
      "/tmp/ipykernel_11671/1732342239.py:22: DeprecationWarning: find_element_by_css_selector is deprecated. Please use find_element(by=By.CSS_SELECTOR, value=css_selector) instead\n",
      "  game = driver.find_element_by_css_selector('#selectGameId')\n",
      "/tmp/ipykernel_11671/1732342239.py:25: DeprecationWarning: find_element_by_css_selector is deprecated. Please use find_element(by=By.CSS_SELECTOR, value=css_selector) instead\n",
      "  searchbutten = driver.find_element_by_css_selector('#btnSearch')\n"
     ]
    },
    {
     "output_type": "stream",
     "name": "stdout",
     "text": [
      "17R / 포항(H)\n"
     ]
    },
    {
     "output_type": "stream",
     "name": "stderr",
     "text": [
      "/tmp/ipykernel_11671/1732342239.py:22: DeprecationWarning: find_element_by_css_selector is deprecated. Please use find_element(by=By.CSS_SELECTOR, value=css_selector) instead\n",
      "  game = driver.find_element_by_css_selector('#selectGameId')\n",
      "/tmp/ipykernel_11671/1732342239.py:25: DeprecationWarning: find_element_by_css_selector is deprecated. Please use find_element(by=By.CSS_SELECTOR, value=css_selector) instead\n",
      "  searchbutten = driver.find_element_by_css_selector('#btnSearch')\n"
     ]
    },
    {
     "output_type": "stream",
     "name": "stdout",
     "text": [
      "18R / 수원(A)\n"
     ]
    },
    {
     "output_type": "stream",
     "name": "stderr",
     "text": [
      "/tmp/ipykernel_11671/1732342239.py:22: DeprecationWarning: find_element_by_css_selector is deprecated. Please use find_element(by=By.CSS_SELECTOR, value=css_selector) instead\n",
      "  game = driver.find_element_by_css_selector('#selectGameId')\n",
      "/tmp/ipykernel_11671/1732342239.py:25: DeprecationWarning: find_element_by_css_selector is deprecated. Please use find_element(by=By.CSS_SELECTOR, value=css_selector) instead\n",
      "  searchbutten = driver.find_element_by_css_selector('#btnSearch')\n"
     ]
    },
    {
     "output_type": "stream",
     "name": "stdout",
     "text": [
      "19R / 서울(A)\n"
     ]
    },
    {
     "output_type": "stream",
     "name": "stderr",
     "text": [
      "/tmp/ipykernel_11671/1732342239.py:22: DeprecationWarning: find_element_by_css_selector is deprecated. Please use find_element(by=By.CSS_SELECTOR, value=css_selector) instead\n",
      "  game = driver.find_element_by_css_selector('#selectGameId')\n",
      "/tmp/ipykernel_11671/1732342239.py:25: DeprecationWarning: find_element_by_css_selector is deprecated. Please use find_element(by=By.CSS_SELECTOR, value=css_selector) instead\n",
      "  searchbutten = driver.find_element_by_css_selector('#btnSearch')\n"
     ]
    },
    {
     "output_type": "stream",
     "name": "stdout",
     "text": [
      "20R / 인천(H)\n"
     ]
    },
    {
     "output_type": "stream",
     "name": "stderr",
     "text": [
      "/tmp/ipykernel_11671/1732342239.py:22: DeprecationWarning: find_element_by_css_selector is deprecated. Please use find_element(by=By.CSS_SELECTOR, value=css_selector) instead\n",
      "  game = driver.find_element_by_css_selector('#selectGameId')\n",
      "/tmp/ipykernel_11671/1732342239.py:25: DeprecationWarning: find_element_by_css_selector is deprecated. Please use find_element(by=By.CSS_SELECTOR, value=css_selector) instead\n",
      "  searchbutten = driver.find_element_by_css_selector('#btnSearch')\n"
     ]
    },
    {
     "output_type": "stream",
     "name": "stdout",
     "text": [
      "21R / 강원(H)\n"
     ]
    },
    {
     "output_type": "stream",
     "name": "stderr",
     "text": [
      "/tmp/ipykernel_11671/1732342239.py:22: DeprecationWarning: find_element_by_css_selector is deprecated. Please use find_element(by=By.CSS_SELECTOR, value=css_selector) instead\n",
      "  game = driver.find_element_by_css_selector('#selectGameId')\n",
      "/tmp/ipykernel_11671/1732342239.py:25: DeprecationWarning: find_element_by_css_selector is deprecated. Please use find_element(by=By.CSS_SELECTOR, value=css_selector) instead\n",
      "  searchbutten = driver.find_element_by_css_selector('#btnSearch')\n"
     ]
    },
    {
     "output_type": "stream",
     "name": "stdout",
     "text": [
      "22R / 전북(A)\n"
     ]
    },
    {
     "output_type": "stream",
     "name": "stderr",
     "text": [
      "/tmp/ipykernel_11671/1732342239.py:22: DeprecationWarning: find_element_by_css_selector is deprecated. Please use find_element(by=By.CSS_SELECTOR, value=css_selector) instead\n",
      "  game = driver.find_element_by_css_selector('#selectGameId')\n",
      "/tmp/ipykernel_11671/1732342239.py:25: DeprecationWarning: find_element_by_css_selector is deprecated. Please use find_element(by=By.CSS_SELECTOR, value=css_selector) instead\n",
      "  searchbutten = driver.find_element_by_css_selector('#btnSearch')\n"
     ]
    },
    {
     "output_type": "stream",
     "name": "stdout",
     "text": [
      "23R / 강원(H)\n"
     ]
    },
    {
     "output_type": "stream",
     "name": "stderr",
     "text": [
      "/tmp/ipykernel_11671/1732342239.py:22: DeprecationWarning: find_element_by_css_selector is deprecated. Please use find_element(by=By.CSS_SELECTOR, value=css_selector) instead\n",
      "  game = driver.find_element_by_css_selector('#selectGameId')\n",
      "/tmp/ipykernel_11671/1732342239.py:25: DeprecationWarning: find_element_by_css_selector is deprecated. Please use find_element(by=By.CSS_SELECTOR, value=css_selector) instead\n",
      "  searchbutten = driver.find_element_by_css_selector('#btnSearch')\n"
     ]
    },
    {
     "output_type": "stream",
     "name": "stdout",
     "text": [
      "24R / 서울(A)\n"
     ]
    },
    {
     "output_type": "stream",
     "name": "stderr",
     "text": [
      "/tmp/ipykernel_11671/1732342239.py:22: DeprecationWarning: find_element_by_css_selector is deprecated. Please use find_element(by=By.CSS_SELECTOR, value=css_selector) instead\n",
      "  game = driver.find_element_by_css_selector('#selectGameId')\n",
      "/tmp/ipykernel_11671/1732342239.py:25: DeprecationWarning: find_element_by_css_selector is deprecated. Please use find_element(by=By.CSS_SELECTOR, value=css_selector) instead\n",
      "  searchbutten = driver.find_element_by_css_selector('#btnSearch')\n"
     ]
    },
    {
     "output_type": "stream",
     "name": "stdout",
     "text": [
      "25R / 수원(H)\n"
     ]
    },
    {
     "output_type": "stream",
     "name": "stderr",
     "text": [
      "/tmp/ipykernel_11671/1732342239.py:22: DeprecationWarning: find_element_by_css_selector is deprecated. Please use find_element(by=By.CSS_SELECTOR, value=css_selector) instead\n",
      "  game = driver.find_element_by_css_selector('#selectGameId')\n",
      "/tmp/ipykernel_11671/1732342239.py:25: DeprecationWarning: find_element_by_css_selector is deprecated. Please use find_element(by=By.CSS_SELECTOR, value=css_selector) instead\n",
      "  searchbutten = driver.find_element_by_css_selector('#btnSearch')\n"
     ]
    },
    {
     "output_type": "stream",
     "name": "stdout",
     "text": [
      "26R / 인천(A)\n"
     ]
    },
    {
     "output_type": "stream",
     "name": "stderr",
     "text": [
      "/tmp/ipykernel_11671/1732342239.py:22: DeprecationWarning: find_element_by_css_selector is deprecated. Please use find_element(by=By.CSS_SELECTOR, value=css_selector) instead\n",
      "  game = driver.find_element_by_css_selector('#selectGameId')\n",
      "/tmp/ipykernel_11671/1732342239.py:25: DeprecationWarning: find_element_by_css_selector is deprecated. Please use find_element(by=By.CSS_SELECTOR, value=css_selector) instead\n",
      "  searchbutten = driver.find_element_by_css_selector('#btnSearch')\n"
     ]
    },
    {
     "output_type": "stream",
     "name": "stdout",
     "text": [
      "27R / 성남(A)\n"
     ]
    },
    {
     "output_type": "stream",
     "name": "stderr",
     "text": [
      "/tmp/ipykernel_11671/1732342239.py:16: DeprecationWarning: find_element_by_css_selector is deprecated. Please use find_element(by=By.CSS_SELECTOR, value=css_selector) instead\n",
      "  teamsel = driver.find_element_by_css_selector('#selectTeamId')\n",
      "/tmp/ipykernel_11671/1732342239.py:19: DeprecationWarning: find_elements_by_css_selector is deprecated. Please use find_elements(by=By.CSS_SELECTOR, value=css_selector) instead\n",
      "  gamessel = driver.find_elements_by_css_selector('#selectGameId > option')\n",
      "/tmp/ipykernel_11671/1732342239.py:22: DeprecationWarning: find_element_by_css_selector is deprecated. Please use find_element(by=By.CSS_SELECTOR, value=css_selector) instead\n",
      "  game = driver.find_element_by_css_selector('#selectGameId')\n",
      "/tmp/ipykernel_11671/1732342239.py:25: DeprecationWarning: find_element_by_css_selector is deprecated. Please use find_element(by=By.CSS_SELECTOR, value=css_selector) instead\n",
      "  searchbutten = driver.find_element_by_css_selector('#btnSearch')\n"
     ]
    },
    {
     "output_type": "stream",
     "name": "stdout",
     "text": [
      "1R / 광주(A)\n"
     ]
    },
    {
     "output_type": "stream",
     "name": "stderr",
     "text": [
      "/tmp/ipykernel_11671/1732342239.py:22: DeprecationWarning: find_element_by_css_selector is deprecated. Please use find_element(by=By.CSS_SELECTOR, value=css_selector) instead\n",
      "  game = driver.find_element_by_css_selector('#selectGameId')\n",
      "/tmp/ipykernel_11671/1732342239.py:25: DeprecationWarning: find_element_by_css_selector is deprecated. Please use find_element(by=By.CSS_SELECTOR, value=css_selector) instead\n",
      "  searchbutten = driver.find_element_by_css_selector('#btnSearch')\n"
     ]
    },
    {
     "output_type": "stream",
     "name": "stdout",
     "text": [
      "2R / 인천(H)\n"
     ]
    },
    {
     "output_type": "stream",
     "name": "stderr",
     "text": [
      "/tmp/ipykernel_11671/1732342239.py:22: DeprecationWarning: find_element_by_css_selector is deprecated. Please use find_element(by=By.CSS_SELECTOR, value=css_selector) instead\n",
      "  game = driver.find_element_by_css_selector('#selectGameId')\n",
      "/tmp/ipykernel_11671/1732342239.py:25: DeprecationWarning: find_element_by_css_selector is deprecated. Please use find_element(by=By.CSS_SELECTOR, value=css_selector) instead\n",
      "  searchbutten = driver.find_element_by_css_selector('#btnSearch')\n"
     ]
    },
    {
     "output_type": "stream",
     "name": "stdout",
     "text": [
      "3R / 강원(A)\n"
     ]
    },
    {
     "output_type": "stream",
     "name": "stderr",
     "text": [
      "/tmp/ipykernel_11671/1732342239.py:22: DeprecationWarning: find_element_by_css_selector is deprecated. Please use find_element(by=By.CSS_SELECTOR, value=css_selector) instead\n",
      "  game = driver.find_element_by_css_selector('#selectGameId')\n",
      "/tmp/ipykernel_11671/1732342239.py:25: DeprecationWarning: find_element_by_css_selector is deprecated. Please use find_element(by=By.CSS_SELECTOR, value=css_selector) instead\n",
      "  searchbutten = driver.find_element_by_css_selector('#btnSearch')\n"
     ]
    },
    {
     "output_type": "stream",
     "name": "stdout",
     "text": [
      "4R / 서울(A)\n"
     ]
    },
    {
     "output_type": "stream",
     "name": "stderr",
     "text": [
      "/tmp/ipykernel_11671/1732342239.py:22: DeprecationWarning: find_element_by_css_selector is deprecated. Please use find_element(by=By.CSS_SELECTOR, value=css_selector) instead\n",
      "  game = driver.find_element_by_css_selector('#selectGameId')\n",
      "/tmp/ipykernel_11671/1732342239.py:25: DeprecationWarning: find_element_by_css_selector is deprecated. Please use find_element(by=By.CSS_SELECTOR, value=css_selector) instead\n",
      "  searchbutten = driver.find_element_by_css_selector('#btnSearch')\n"
     ]
    },
    {
     "output_type": "stream",
     "name": "stdout",
     "text": [
      "5R / 대구(H)\n"
     ]
    },
    {
     "output_type": "stream",
     "name": "stderr",
     "text": [
      "/tmp/ipykernel_11671/1732342239.py:22: DeprecationWarning: find_element_by_css_selector is deprecated. Please use find_element(by=By.CSS_SELECTOR, value=css_selector) instead\n",
      "  game = driver.find_element_by_css_selector('#selectGameId')\n",
      "/tmp/ipykernel_11671/1732342239.py:25: DeprecationWarning: find_element_by_css_selector is deprecated. Please use find_element(by=By.CSS_SELECTOR, value=css_selector) instead\n",
      "  searchbutten = driver.find_element_by_css_selector('#btnSearch')\n"
     ]
    },
    {
     "output_type": "stream",
     "name": "stdout",
     "text": [
      "6R / 울산(A)\n"
     ]
    },
    {
     "output_type": "stream",
     "name": "stderr",
     "text": [
      "/tmp/ipykernel_11671/1732342239.py:22: DeprecationWarning: find_element_by_css_selector is deprecated. Please use find_element(by=By.CSS_SELECTOR, value=css_selector) instead\n",
      "  game = driver.find_element_by_css_selector('#selectGameId')\n",
      "/tmp/ipykernel_11671/1732342239.py:25: DeprecationWarning: find_element_by_css_selector is deprecated. Please use find_element(by=By.CSS_SELECTOR, value=css_selector) instead\n",
      "  searchbutten = driver.find_element_by_css_selector('#btnSearch')\n"
     ]
    },
    {
     "output_type": "stream",
     "name": "stdout",
     "text": [
      "7R / 수원(H)\n"
     ]
    },
    {
     "output_type": "stream",
     "name": "stderr",
     "text": [
      "/tmp/ipykernel_11671/1732342239.py:22: DeprecationWarning: find_element_by_css_selector is deprecated. Please use find_element(by=By.CSS_SELECTOR, value=css_selector) instead\n",
      "  game = driver.find_element_by_css_selector('#selectGameId')\n",
      "/tmp/ipykernel_11671/1732342239.py:25: DeprecationWarning: find_element_by_css_selector is deprecated. Please use find_element(by=By.CSS_SELECTOR, value=css_selector) instead\n",
      "  searchbutten = driver.find_element_by_css_selector('#btnSearch')\n"
     ]
    },
    {
     "output_type": "stream",
     "name": "stdout",
     "text": [
      "8R / 상주(H)\n"
     ]
    },
    {
     "output_type": "stream",
     "name": "stderr",
     "text": [
      "/tmp/ipykernel_11671/1732342239.py:22: DeprecationWarning: find_element_by_css_selector is deprecated. Please use find_element(by=By.CSS_SELECTOR, value=css_selector) instead\n",
      "  game = driver.find_element_by_css_selector('#selectGameId')\n",
      "/tmp/ipykernel_11671/1732342239.py:25: DeprecationWarning: find_element_by_css_selector is deprecated. Please use find_element(by=By.CSS_SELECTOR, value=css_selector) instead\n",
      "  searchbutten = driver.find_element_by_css_selector('#btnSearch')\n"
     ]
    },
    {
     "output_type": "stream",
     "name": "stdout",
     "text": [
      "9R / 부산(A)\n"
     ]
    },
    {
     "output_type": "stream",
     "name": "stderr",
     "text": [
      "/tmp/ipykernel_11671/1732342239.py:22: DeprecationWarning: find_element_by_css_selector is deprecated. Please use find_element(by=By.CSS_SELECTOR, value=css_selector) instead\n",
      "  game = driver.find_element_by_css_selector('#selectGameId')\n",
      "/tmp/ipykernel_11671/1732342239.py:25: DeprecationWarning: find_element_by_css_selector is deprecated. Please use find_element(by=By.CSS_SELECTOR, value=css_selector) instead\n",
      "  searchbutten = driver.find_element_by_css_selector('#btnSearch')\n"
     ]
    },
    {
     "output_type": "stream",
     "name": "stdout",
     "text": [
      "10R / 포항(H)\n"
     ]
    },
    {
     "output_type": "stream",
     "name": "stderr",
     "text": [
      "/tmp/ipykernel_11671/1732342239.py:22: DeprecationWarning: find_element_by_css_selector is deprecated. Please use find_element(by=By.CSS_SELECTOR, value=css_selector) instead\n",
      "  game = driver.find_element_by_css_selector('#selectGameId')\n",
      "/tmp/ipykernel_11671/1732342239.py:25: DeprecationWarning: find_element_by_css_selector is deprecated. Please use find_element(by=By.CSS_SELECTOR, value=css_selector) instead\n",
      "  searchbutten = driver.find_element_by_css_selector('#btnSearch')\n"
     ]
    },
    {
     "output_type": "stream",
     "name": "stdout",
     "text": [
      "11R / 전북(A)\n"
     ]
    },
    {
     "output_type": "stream",
     "name": "stderr",
     "text": [
      "/tmp/ipykernel_11671/1732342239.py:22: DeprecationWarning: find_element_by_css_selector is deprecated. Please use find_element(by=By.CSS_SELECTOR, value=css_selector) instead\n",
      "  game = driver.find_element_by_css_selector('#selectGameId')\n",
      "/tmp/ipykernel_11671/1732342239.py:25: DeprecationWarning: find_element_by_css_selector is deprecated. Please use find_element(by=By.CSS_SELECTOR, value=css_selector) instead\n",
      "  searchbutten = driver.find_element_by_css_selector('#btnSearch')\n"
     ]
    },
    {
     "output_type": "stream",
     "name": "stdout",
     "text": [
      "12R / 수원(A)\n"
     ]
    },
    {
     "output_type": "stream",
     "name": "stderr",
     "text": [
      "/tmp/ipykernel_11671/1732342239.py:22: DeprecationWarning: find_element_by_css_selector is deprecated. Please use find_element(by=By.CSS_SELECTOR, value=css_selector) instead\n",
      "  game = driver.find_element_by_css_selector('#selectGameId')\n",
      "/tmp/ipykernel_11671/1732342239.py:25: DeprecationWarning: find_element_by_css_selector is deprecated. Please use find_element(by=By.CSS_SELECTOR, value=css_selector) instead\n",
      "  searchbutten = driver.find_element_by_css_selector('#btnSearch')\n"
     ]
    },
    {
     "output_type": "stream",
     "name": "stdout",
     "text": [
      "13R / 강원(H)\n"
     ]
    },
    {
     "output_type": "stream",
     "name": "stderr",
     "text": [
      "/tmp/ipykernel_11671/1732342239.py:22: DeprecationWarning: find_element_by_css_selector is deprecated. Please use find_element(by=By.CSS_SELECTOR, value=css_selector) instead\n",
      "  game = driver.find_element_by_css_selector('#selectGameId')\n",
      "/tmp/ipykernel_11671/1732342239.py:25: DeprecationWarning: find_element_by_css_selector is deprecated. Please use find_element(by=By.CSS_SELECTOR, value=css_selector) instead\n",
      "  searchbutten = driver.find_element_by_css_selector('#btnSearch')\n"
     ]
    },
    {
     "output_type": "stream",
     "name": "stdout",
     "text": [
      "14R / 서울(H)\n"
     ]
    },
    {
     "output_type": "stream",
     "name": "stderr",
     "text": [
      "/tmp/ipykernel_11671/1732342239.py:22: DeprecationWarning: find_element_by_css_selector is deprecated. Please use find_element(by=By.CSS_SELECTOR, value=css_selector) instead\n",
      "  game = driver.find_element_by_css_selector('#selectGameId')\n",
      "/tmp/ipykernel_11671/1732342239.py:25: DeprecationWarning: find_element_by_css_selector is deprecated. Please use find_element(by=By.CSS_SELECTOR, value=css_selector) instead\n",
      "  searchbutten = driver.find_element_by_css_selector('#btnSearch')\n"
     ]
    },
    {
     "output_type": "stream",
     "name": "stdout",
     "text": [
      "15R / 인천(A)\n"
     ]
    },
    {
     "output_type": "stream",
     "name": "stderr",
     "text": [
      "/tmp/ipykernel_11671/1732342239.py:22: DeprecationWarning: find_element_by_css_selector is deprecated. Please use find_element(by=By.CSS_SELECTOR, value=css_selector) instead\n",
      "  game = driver.find_element_by_css_selector('#selectGameId')\n",
      "/tmp/ipykernel_11671/1732342239.py:25: DeprecationWarning: find_element_by_css_selector is deprecated. Please use find_element(by=By.CSS_SELECTOR, value=css_selector) instead\n",
      "  searchbutten = driver.find_element_by_css_selector('#btnSearch')\n"
     ]
    },
    {
     "output_type": "stream",
     "name": "stdout",
     "text": [
      "16R / 부산(H)\n"
     ]
    },
    {
     "output_type": "stream",
     "name": "stderr",
     "text": [
      "/tmp/ipykernel_11671/1732342239.py:22: DeprecationWarning: find_element_by_css_selector is deprecated. Please use find_element(by=By.CSS_SELECTOR, value=css_selector) instead\n",
      "  game = driver.find_element_by_css_selector('#selectGameId')\n",
      "/tmp/ipykernel_11671/1732342239.py:25: DeprecationWarning: find_element_by_css_selector is deprecated. Please use find_element(by=By.CSS_SELECTOR, value=css_selector) instead\n",
      "  searchbutten = driver.find_element_by_css_selector('#btnSearch')\n"
     ]
    },
    {
     "output_type": "stream",
     "name": "stdout",
     "text": [
      "17R / 울산(H)\n"
     ]
    },
    {
     "output_type": "stream",
     "name": "stderr",
     "text": [
      "/tmp/ipykernel_11671/1732342239.py:22: DeprecationWarning: find_element_by_css_selector is deprecated. Please use find_element(by=By.CSS_SELECTOR, value=css_selector) instead\n",
      "  game = driver.find_element_by_css_selector('#selectGameId')\n",
      "/tmp/ipykernel_11671/1732342239.py:25: DeprecationWarning: find_element_by_css_selector is deprecated. Please use find_element(by=By.CSS_SELECTOR, value=css_selector) instead\n",
      "  searchbutten = driver.find_element_by_css_selector('#btnSearch')\n"
     ]
    },
    {
     "output_type": "stream",
     "name": "stdout",
     "text": [
      "18R / 포항(A)\n"
     ]
    },
    {
     "output_type": "stream",
     "name": "stderr",
     "text": [
      "/tmp/ipykernel_11671/1732342239.py:22: DeprecationWarning: find_element_by_css_selector is deprecated. Please use find_element(by=By.CSS_SELECTOR, value=css_selector) instead\n",
      "  game = driver.find_element_by_css_selector('#selectGameId')\n",
      "/tmp/ipykernel_11671/1732342239.py:25: DeprecationWarning: find_element_by_css_selector is deprecated. Please use find_element(by=By.CSS_SELECTOR, value=css_selector) instead\n",
      "  searchbutten = driver.find_element_by_css_selector('#btnSearch')\n"
     ]
    },
    {
     "output_type": "stream",
     "name": "stdout",
     "text": [
      "19R / 전북(H)\n"
     ]
    },
    {
     "output_type": "stream",
     "name": "stderr",
     "text": [
      "/tmp/ipykernel_11671/1732342239.py:22: DeprecationWarning: find_element_by_css_selector is deprecated. Please use find_element(by=By.CSS_SELECTOR, value=css_selector) instead\n",
      "  game = driver.find_element_by_css_selector('#selectGameId')\n",
      "/tmp/ipykernel_11671/1732342239.py:25: DeprecationWarning: find_element_by_css_selector is deprecated. Please use find_element(by=By.CSS_SELECTOR, value=css_selector) instead\n",
      "  searchbutten = driver.find_element_by_css_selector('#btnSearch')\n"
     ]
    },
    {
     "output_type": "stream",
     "name": "stdout",
     "text": [
      "20R / 상주(A)\n"
     ]
    },
    {
     "output_type": "stream",
     "name": "stderr",
     "text": [
      "/tmp/ipykernel_11671/1732342239.py:22: DeprecationWarning: find_element_by_css_selector is deprecated. Please use find_element(by=By.CSS_SELECTOR, value=css_selector) instead\n",
      "  game = driver.find_element_by_css_selector('#selectGameId')\n",
      "/tmp/ipykernel_11671/1732342239.py:25: DeprecationWarning: find_element_by_css_selector is deprecated. Please use find_element(by=By.CSS_SELECTOR, value=css_selector) instead\n",
      "  searchbutten = driver.find_element_by_css_selector('#btnSearch')\n"
     ]
    },
    {
     "output_type": "stream",
     "name": "stdout",
     "text": [
      "21R / 대구(A)\n"
     ]
    },
    {
     "output_type": "stream",
     "name": "stderr",
     "text": [
      "/tmp/ipykernel_11671/1732342239.py:22: DeprecationWarning: find_element_by_css_selector is deprecated. Please use find_element(by=By.CSS_SELECTOR, value=css_selector) instead\n",
      "  game = driver.find_element_by_css_selector('#selectGameId')\n",
      "/tmp/ipykernel_11671/1732342239.py:25: DeprecationWarning: find_element_by_css_selector is deprecated. Please use find_element(by=By.CSS_SELECTOR, value=css_selector) instead\n",
      "  searchbutten = driver.find_element_by_css_selector('#btnSearch')\n"
     ]
    },
    {
     "output_type": "stream",
     "name": "stdout",
     "text": [
      "22R / 광주(H)\n"
     ]
    },
    {
     "output_type": "stream",
     "name": "stderr",
     "text": [
      "/tmp/ipykernel_11671/1732342239.py:22: DeprecationWarning: find_element_by_css_selector is deprecated. Please use find_element(by=By.CSS_SELECTOR, value=css_selector) instead\n",
      "  game = driver.find_element_by_css_selector('#selectGameId')\n",
      "/tmp/ipykernel_11671/1732342239.py:25: DeprecationWarning: find_element_by_css_selector is deprecated. Please use find_element(by=By.CSS_SELECTOR, value=css_selector) instead\n",
      "  searchbutten = driver.find_element_by_css_selector('#btnSearch')\n"
     ]
    },
    {
     "output_type": "stream",
     "name": "stdout",
     "text": [
      "23R / 인천(H)\n"
     ]
    },
    {
     "output_type": "stream",
     "name": "stderr",
     "text": [
      "/tmp/ipykernel_11671/1732342239.py:22: DeprecationWarning: find_element_by_css_selector is deprecated. Please use find_element(by=By.CSS_SELECTOR, value=css_selector) instead\n",
      "  game = driver.find_element_by_css_selector('#selectGameId')\n",
      "/tmp/ipykernel_11671/1732342239.py:25: DeprecationWarning: find_element_by_css_selector is deprecated. Please use find_element(by=By.CSS_SELECTOR, value=css_selector) instead\n",
      "  searchbutten = driver.find_element_by_css_selector('#btnSearch')\n"
     ]
    },
    {
     "output_type": "stream",
     "name": "stdout",
     "text": [
      "24R / 강원(A)\n"
     ]
    },
    {
     "output_type": "stream",
     "name": "stderr",
     "text": [
      "/tmp/ipykernel_11671/1732342239.py:22: DeprecationWarning: find_element_by_css_selector is deprecated. Please use find_element(by=By.CSS_SELECTOR, value=css_selector) instead\n",
      "  game = driver.find_element_by_css_selector('#selectGameId')\n",
      "/tmp/ipykernel_11671/1732342239.py:25: DeprecationWarning: find_element_by_css_selector is deprecated. Please use find_element(by=By.CSS_SELECTOR, value=css_selector) instead\n",
      "  searchbutten = driver.find_element_by_css_selector('#btnSearch')\n"
     ]
    },
    {
     "output_type": "stream",
     "name": "stdout",
     "text": [
      "25R / 서울(H)\n"
     ]
    },
    {
     "output_type": "stream",
     "name": "stderr",
     "text": [
      "/tmp/ipykernel_11671/1732342239.py:22: DeprecationWarning: find_element_by_css_selector is deprecated. Please use find_element(by=By.CSS_SELECTOR, value=css_selector) instead\n",
      "  game = driver.find_element_by_css_selector('#selectGameId')\n",
      "/tmp/ipykernel_11671/1732342239.py:25: DeprecationWarning: find_element_by_css_selector is deprecated. Please use find_element(by=By.CSS_SELECTOR, value=css_selector) instead\n",
      "  searchbutten = driver.find_element_by_css_selector('#btnSearch')\n"
     ]
    },
    {
     "output_type": "stream",
     "name": "stdout",
     "text": [
      "26R / 수원(A)\n"
     ]
    },
    {
     "output_type": "stream",
     "name": "stderr",
     "text": [
      "/tmp/ipykernel_11671/1732342239.py:22: DeprecationWarning: find_element_by_css_selector is deprecated. Please use find_element(by=By.CSS_SELECTOR, value=css_selector) instead\n",
      "  game = driver.find_element_by_css_selector('#selectGameId')\n",
      "/tmp/ipykernel_11671/1732342239.py:25: DeprecationWarning: find_element_by_css_selector is deprecated. Please use find_element(by=By.CSS_SELECTOR, value=css_selector) instead\n",
      "  searchbutten = driver.find_element_by_css_selector('#btnSearch')\n"
     ]
    },
    {
     "output_type": "stream",
     "name": "stdout",
     "text": [
      "27R / 부산(H)\n"
     ]
    },
    {
     "output_type": "stream",
     "name": "stderr",
     "text": [
      "/tmp/ipykernel_11671/1732342239.py:16: DeprecationWarning: find_element_by_css_selector is deprecated. Please use find_element(by=By.CSS_SELECTOR, value=css_selector) instead\n",
      "  teamsel = driver.find_element_by_css_selector('#selectTeamId')\n",
      "/tmp/ipykernel_11671/1732342239.py:19: DeprecationWarning: find_elements_by_css_selector is deprecated. Please use find_elements(by=By.CSS_SELECTOR, value=css_selector) instead\n",
      "  gamessel = driver.find_elements_by_css_selector('#selectGameId > option')\n",
      "/tmp/ipykernel_11671/1732342239.py:22: DeprecationWarning: find_element_by_css_selector is deprecated. Please use find_element(by=By.CSS_SELECTOR, value=css_selector) instead\n",
      "  game = driver.find_element_by_css_selector('#selectGameId')\n",
      "/tmp/ipykernel_11671/1732342239.py:25: DeprecationWarning: find_element_by_css_selector is deprecated. Please use find_element(by=By.CSS_SELECTOR, value=css_selector) instead\n",
      "  searchbutten = driver.find_element_by_css_selector('#btnSearch')\n"
     ]
    },
    {
     "output_type": "stream",
     "name": "stdout",
     "text": [
      "1R / 강원(A)\n"
     ]
    },
    {
     "output_type": "stream",
     "name": "stderr",
     "text": [
      "/tmp/ipykernel_11671/1732342239.py:22: DeprecationWarning: find_element_by_css_selector is deprecated. Please use find_element(by=By.CSS_SELECTOR, value=css_selector) instead\n",
      "  game = driver.find_element_by_css_selector('#selectGameId')\n",
      "/tmp/ipykernel_11671/1732342239.py:25: DeprecationWarning: find_element_by_css_selector is deprecated. Please use find_element(by=By.CSS_SELECTOR, value=css_selector) instead\n",
      "  searchbutten = driver.find_element_by_css_selector('#btnSearch')\n"
     ]
    },
    {
     "output_type": "stream",
     "name": "stdout",
     "text": [
      "2R / 광주(H)\n"
     ]
    },
    {
     "output_type": "stream",
     "name": "stderr",
     "text": [
      "/tmp/ipykernel_11671/1732342239.py:22: DeprecationWarning: find_element_by_css_selector is deprecated. Please use find_element(by=By.CSS_SELECTOR, value=css_selector) instead\n",
      "  game = driver.find_element_by_css_selector('#selectGameId')\n",
      "/tmp/ipykernel_11671/1732342239.py:25: DeprecationWarning: find_element_by_css_selector is deprecated. Please use find_element(by=By.CSS_SELECTOR, value=css_selector) instead\n",
      "  searchbutten = driver.find_element_by_css_selector('#btnSearch')\n"
     ]
    },
    {
     "output_type": "stream",
     "name": "stdout",
     "text": [
      "3R / 포항(A)\n"
     ]
    },
    {
     "output_type": "stream",
     "name": "stderr",
     "text": [
      "/tmp/ipykernel_11671/1732342239.py:22: DeprecationWarning: find_element_by_css_selector is deprecated. Please use find_element(by=By.CSS_SELECTOR, value=css_selector) instead\n",
      "  game = driver.find_element_by_css_selector('#selectGameId')\n",
      "/tmp/ipykernel_11671/1732342239.py:25: DeprecationWarning: find_element_by_css_selector is deprecated. Please use find_element(by=By.CSS_SELECTOR, value=css_selector) instead\n",
      "  searchbutten = driver.find_element_by_css_selector('#btnSearch')\n"
     ]
    },
    {
     "output_type": "stream",
     "name": "stdout",
     "text": [
      "4R / 성남(H)\n"
     ]
    },
    {
     "output_type": "stream",
     "name": "stderr",
     "text": [
      "/tmp/ipykernel_11671/1732342239.py:22: DeprecationWarning: find_element_by_css_selector is deprecated. Please use find_element(by=By.CSS_SELECTOR, value=css_selector) instead\n",
      "  game = driver.find_element_by_css_selector('#selectGameId')\n",
      "/tmp/ipykernel_11671/1732342239.py:25: DeprecationWarning: find_element_by_css_selector is deprecated. Please use find_element(by=By.CSS_SELECTOR, value=css_selector) instead\n",
      "  searchbutten = driver.find_element_by_css_selector('#btnSearch')\n"
     ]
    },
    {
     "output_type": "stream",
     "name": "stdout",
     "text": [
      "5R / 전북(H)\n"
     ]
    },
    {
     "output_type": "stream",
     "name": "stderr",
     "text": [
      "/tmp/ipykernel_11671/1732342239.py:22: DeprecationWarning: find_element_by_css_selector is deprecated. Please use find_element(by=By.CSS_SELECTOR, value=css_selector) instead\n",
      "  game = driver.find_element_by_css_selector('#selectGameId')\n",
      "/tmp/ipykernel_11671/1732342239.py:25: DeprecationWarning: find_element_by_css_selector is deprecated. Please use find_element(by=By.CSS_SELECTOR, value=css_selector) instead\n",
      "  searchbutten = driver.find_element_by_css_selector('#btnSearch')\n"
     ]
    },
    {
     "output_type": "stream",
     "name": "stdout",
     "text": [
      "6R / 대구(A)\n"
     ]
    },
    {
     "output_type": "stream",
     "name": "stderr",
     "text": [
      "/tmp/ipykernel_11671/1732342239.py:22: DeprecationWarning: find_element_by_css_selector is deprecated. Please use find_element(by=By.CSS_SELECTOR, value=css_selector) instead\n",
      "  game = driver.find_element_by_css_selector('#selectGameId')\n",
      "/tmp/ipykernel_11671/1732342239.py:25: DeprecationWarning: find_element_by_css_selector is deprecated. Please use find_element(by=By.CSS_SELECTOR, value=css_selector) instead\n",
      "  searchbutten = driver.find_element_by_css_selector('#btnSearch')\n"
     ]
    },
    {
     "output_type": "stream",
     "name": "stdout",
     "text": [
      "7R / 상주(A)\n"
     ]
    },
    {
     "output_type": "stream",
     "name": "stderr",
     "text": [
      "/tmp/ipykernel_11671/1732342239.py:22: DeprecationWarning: find_element_by_css_selector is deprecated. Please use find_element(by=By.CSS_SELECTOR, value=css_selector) instead\n",
      "  game = driver.find_element_by_css_selector('#selectGameId')\n",
      "/tmp/ipykernel_11671/1732342239.py:25: DeprecationWarning: find_element_by_css_selector is deprecated. Please use find_element(by=By.CSS_SELECTOR, value=css_selector) instead\n",
      "  searchbutten = driver.find_element_by_css_selector('#btnSearch')\n"
     ]
    },
    {
     "output_type": "stream",
     "name": "stdout",
     "text": [
      "8R / 울산(H)\n"
     ]
    },
    {
     "output_type": "stream",
     "name": "stderr",
     "text": [
      "/tmp/ipykernel_11671/1732342239.py:22: DeprecationWarning: find_element_by_css_selector is deprecated. Please use find_element(by=By.CSS_SELECTOR, value=css_selector) instead\n",
      "  game = driver.find_element_by_css_selector('#selectGameId')\n",
      "/tmp/ipykernel_11671/1732342239.py:25: DeprecationWarning: find_element_by_css_selector is deprecated. Please use find_element(by=By.CSS_SELECTOR, value=css_selector) instead\n",
      "  searchbutten = driver.find_element_by_css_selector('#btnSearch')\n"
     ]
    },
    {
     "output_type": "stream",
     "name": "stdout",
     "text": [
      "9R / 인천(H)\n"
     ]
    },
    {
     "output_type": "stream",
     "name": "stderr",
     "text": [
      "/tmp/ipykernel_11671/1732342239.py:22: DeprecationWarning: find_element_by_css_selector is deprecated. Please use find_element(by=By.CSS_SELECTOR, value=css_selector) instead\n",
      "  game = driver.find_element_by_css_selector('#selectGameId')\n",
      "/tmp/ipykernel_11671/1732342239.py:25: DeprecationWarning: find_element_by_css_selector is deprecated. Please use find_element(by=By.CSS_SELECTOR, value=css_selector) instead\n",
      "  searchbutten = driver.find_element_by_css_selector('#btnSearch')\n"
     ]
    },
    {
     "output_type": "stream",
     "name": "stdout",
     "text": [
      "10R / 수원(A)\n"
     ]
    },
    {
     "output_type": "stream",
     "name": "stderr",
     "text": [
      "/tmp/ipykernel_11671/1732342239.py:22: DeprecationWarning: find_element_by_css_selector is deprecated. Please use find_element(by=By.CSS_SELECTOR, value=css_selector) instead\n",
      "  game = driver.find_element_by_css_selector('#selectGameId')\n",
      "/tmp/ipykernel_11671/1732342239.py:25: DeprecationWarning: find_element_by_css_selector is deprecated. Please use find_element(by=By.CSS_SELECTOR, value=css_selector) instead\n",
      "  searchbutten = driver.find_element_by_css_selector('#btnSearch')\n"
     ]
    },
    {
     "output_type": "stream",
     "name": "stdout",
     "text": [
      "11R / 부산(A)\n"
     ]
    },
    {
     "output_type": "stream",
     "name": "stderr",
     "text": [
      "/tmp/ipykernel_11671/1732342239.py:22: DeprecationWarning: find_element_by_css_selector is deprecated. Please use find_element(by=By.CSS_SELECTOR, value=css_selector) instead\n",
      "  game = driver.find_element_by_css_selector('#selectGameId')\n",
      "/tmp/ipykernel_11671/1732342239.py:25: DeprecationWarning: find_element_by_css_selector is deprecated. Please use find_element(by=By.CSS_SELECTOR, value=css_selector) instead\n",
      "  searchbutten = driver.find_element_by_css_selector('#btnSearch')\n"
     ]
    },
    {
     "output_type": "stream",
     "name": "stdout",
     "text": [
      "12R / 포항(H)\n"
     ]
    },
    {
     "output_type": "stream",
     "name": "stderr",
     "text": [
      "/tmp/ipykernel_11671/1732342239.py:22: DeprecationWarning: find_element_by_css_selector is deprecated. Please use find_element(by=By.CSS_SELECTOR, value=css_selector) instead\n",
      "  game = driver.find_element_by_css_selector('#selectGameId')\n",
      "/tmp/ipykernel_11671/1732342239.py:25: DeprecationWarning: find_element_by_css_selector is deprecated. Please use find_element(by=By.CSS_SELECTOR, value=css_selector) instead\n",
      "  searchbutten = driver.find_element_by_css_selector('#btnSearch')\n"
     ]
    },
    {
     "output_type": "stream",
     "name": "stdout",
     "text": [
      "13R / 전북(A)\n"
     ]
    },
    {
     "output_type": "stream",
     "name": "stderr",
     "text": [
      "/tmp/ipykernel_11671/1732342239.py:22: DeprecationWarning: find_element_by_css_selector is deprecated. Please use find_element(by=By.CSS_SELECTOR, value=css_selector) instead\n",
      "  game = driver.find_element_by_css_selector('#selectGameId')\n",
      "/tmp/ipykernel_11671/1732342239.py:25: DeprecationWarning: find_element_by_css_selector is deprecated. Please use find_element(by=By.CSS_SELECTOR, value=css_selector) instead\n",
      "  searchbutten = driver.find_element_by_css_selector('#btnSearch')\n"
     ]
    },
    {
     "output_type": "stream",
     "name": "stdout",
     "text": [
      "14R / 성남(A)\n"
     ]
    },
    {
     "output_type": "stream",
     "name": "stderr",
     "text": [
      "/tmp/ipykernel_11671/1732342239.py:22: DeprecationWarning: find_element_by_css_selector is deprecated. Please use find_element(by=By.CSS_SELECTOR, value=css_selector) instead\n",
      "  game = driver.find_element_by_css_selector('#selectGameId')\n",
      "/tmp/ipykernel_11671/1732342239.py:25: DeprecationWarning: find_element_by_css_selector is deprecated. Please use find_element(by=By.CSS_SELECTOR, value=css_selector) instead\n",
      "  searchbutten = driver.find_element_by_css_selector('#btnSearch')\n"
     ]
    },
    {
     "output_type": "stream",
     "name": "stdout",
     "text": [
      "15R / 강원(H)\n"
     ]
    },
    {
     "output_type": "stream",
     "name": "stderr",
     "text": [
      "/tmp/ipykernel_11671/1732342239.py:22: DeprecationWarning: find_element_by_css_selector is deprecated. Please use find_element(by=By.CSS_SELECTOR, value=css_selector) instead\n",
      "  game = driver.find_element_by_css_selector('#selectGameId')\n",
      "/tmp/ipykernel_11671/1732342239.py:25: DeprecationWarning: find_element_by_css_selector is deprecated. Please use find_element(by=By.CSS_SELECTOR, value=css_selector) instead\n",
      "  searchbutten = driver.find_element_by_css_selector('#btnSearch')\n"
     ]
    },
    {
     "output_type": "stream",
     "name": "stdout",
     "text": [
      "16R / 상주(H)\n"
     ]
    },
    {
     "output_type": "stream",
     "name": "stderr",
     "text": [
      "/tmp/ipykernel_11671/1732342239.py:22: DeprecationWarning: find_element_by_css_selector is deprecated. Please use find_element(by=By.CSS_SELECTOR, value=css_selector) instead\n",
      "  game = driver.find_element_by_css_selector('#selectGameId')\n",
      "/tmp/ipykernel_11671/1732342239.py:25: DeprecationWarning: find_element_by_css_selector is deprecated. Please use find_element(by=By.CSS_SELECTOR, value=css_selector) instead\n",
      "  searchbutten = driver.find_element_by_css_selector('#btnSearch')\n"
     ]
    },
    {
     "output_type": "stream",
     "name": "stdout",
     "text": [
      "17R / 광주(A)\n"
     ]
    },
    {
     "output_type": "stream",
     "name": "stderr",
     "text": [
      "/tmp/ipykernel_11671/1732342239.py:22: DeprecationWarning: find_element_by_css_selector is deprecated. Please use find_element(by=By.CSS_SELECTOR, value=css_selector) instead\n",
      "  game = driver.find_element_by_css_selector('#selectGameId')\n",
      "/tmp/ipykernel_11671/1732342239.py:25: DeprecationWarning: find_element_by_css_selector is deprecated. Please use find_element(by=By.CSS_SELECTOR, value=css_selector) instead\n",
      "  searchbutten = driver.find_element_by_css_selector('#btnSearch')\n"
     ]
    },
    {
     "output_type": "stream",
     "name": "stdout",
     "text": [
      "18R / 울산(A)\n"
     ]
    },
    {
     "output_type": "stream",
     "name": "stderr",
     "text": [
      "/tmp/ipykernel_11671/1732342239.py:22: DeprecationWarning: find_element_by_css_selector is deprecated. Please use find_element(by=By.CSS_SELECTOR, value=css_selector) instead\n",
      "  game = driver.find_element_by_css_selector('#selectGameId')\n",
      "/tmp/ipykernel_11671/1732342239.py:25: DeprecationWarning: find_element_by_css_selector is deprecated. Please use find_element(by=By.CSS_SELECTOR, value=css_selector) instead\n",
      "  searchbutten = driver.find_element_by_css_selector('#btnSearch')\n"
     ]
    },
    {
     "output_type": "stream",
     "name": "stdout",
     "text": [
      "19R / 부산(H)\n"
     ]
    },
    {
     "output_type": "stream",
     "name": "stderr",
     "text": [
      "/tmp/ipykernel_11671/1732342239.py:22: DeprecationWarning: find_element_by_css_selector is deprecated. Please use find_element(by=By.CSS_SELECTOR, value=css_selector) instead\n",
      "  game = driver.find_element_by_css_selector('#selectGameId')\n",
      "/tmp/ipykernel_11671/1732342239.py:25: DeprecationWarning: find_element_by_css_selector is deprecated. Please use find_element(by=By.CSS_SELECTOR, value=css_selector) instead\n",
      "  searchbutten = driver.find_element_by_css_selector('#btnSearch')\n"
     ]
    },
    {
     "output_type": "stream",
     "name": "stdout",
     "text": [
      "20R / 수원(H)\n"
     ]
    },
    {
     "output_type": "stream",
     "name": "stderr",
     "text": [
      "/tmp/ipykernel_11671/1732342239.py:22: DeprecationWarning: find_element_by_css_selector is deprecated. Please use find_element(by=By.CSS_SELECTOR, value=css_selector) instead\n",
      "  game = driver.find_element_by_css_selector('#selectGameId')\n",
      "/tmp/ipykernel_11671/1732342239.py:25: DeprecationWarning: find_element_by_css_selector is deprecated. Please use find_element(by=By.CSS_SELECTOR, value=css_selector) instead\n",
      "  searchbutten = driver.find_element_by_css_selector('#btnSearch')\n"
     ]
    },
    {
     "output_type": "stream",
     "name": "stdout",
     "text": [
      "21R / 인천(A)\n"
     ]
    },
    {
     "output_type": "stream",
     "name": "stderr",
     "text": [
      "/tmp/ipykernel_11671/1732342239.py:22: DeprecationWarning: find_element_by_css_selector is deprecated. Please use find_element(by=By.CSS_SELECTOR, value=css_selector) instead\n",
      "  game = driver.find_element_by_css_selector('#selectGameId')\n",
      "/tmp/ipykernel_11671/1732342239.py:25: DeprecationWarning: find_element_by_css_selector is deprecated. Please use find_element(by=By.CSS_SELECTOR, value=css_selector) instead\n",
      "  searchbutten = driver.find_element_by_css_selector('#btnSearch')\n"
     ]
    },
    {
     "output_type": "stream",
     "name": "stdout",
     "text": [
      "22R / 대구(H)\n"
     ]
    },
    {
     "output_type": "stream",
     "name": "stderr",
     "text": [
      "/tmp/ipykernel_11671/1732342239.py:22: DeprecationWarning: find_element_by_css_selector is deprecated. Please use find_element(by=By.CSS_SELECTOR, value=css_selector) instead\n",
      "  game = driver.find_element_by_css_selector('#selectGameId')\n",
      "/tmp/ipykernel_11671/1732342239.py:25: DeprecationWarning: find_element_by_css_selector is deprecated. Please use find_element(by=By.CSS_SELECTOR, value=css_selector) instead\n",
      "  searchbutten = driver.find_element_by_css_selector('#btnSearch')\n"
     ]
    },
    {
     "output_type": "stream",
     "name": "stdout",
     "text": [
      "23R / 수원(A)\n"
     ]
    },
    {
     "output_type": "stream",
     "name": "stderr",
     "text": [
      "/tmp/ipykernel_11671/1732342239.py:22: DeprecationWarning: find_element_by_css_selector is deprecated. Please use find_element(by=By.CSS_SELECTOR, value=css_selector) instead\n",
      "  game = driver.find_element_by_css_selector('#selectGameId')\n",
      "/tmp/ipykernel_11671/1732342239.py:25: DeprecationWarning: find_element_by_css_selector is deprecated. Please use find_element(by=By.CSS_SELECTOR, value=css_selector) instead\n",
      "  searchbutten = driver.find_element_by_css_selector('#btnSearch')\n"
     ]
    },
    {
     "output_type": "stream",
     "name": "stdout",
     "text": [
      "24R / 부산(H)\n"
     ]
    },
    {
     "output_type": "stream",
     "name": "stderr",
     "text": [
      "/tmp/ipykernel_11671/1732342239.py:22: DeprecationWarning: find_element_by_css_selector is deprecated. Please use find_element(by=By.CSS_SELECTOR, value=css_selector) instead\n",
      "  game = driver.find_element_by_css_selector('#selectGameId')\n",
      "/tmp/ipykernel_11671/1732342239.py:25: DeprecationWarning: find_element_by_css_selector is deprecated. Please use find_element(by=By.CSS_SELECTOR, value=css_selector) instead\n",
      "  searchbutten = driver.find_element_by_css_selector('#btnSearch')\n"
     ]
    },
    {
     "output_type": "stream",
     "name": "stdout",
     "text": [
      "25R / 성남(A)\n"
     ]
    },
    {
     "output_type": "stream",
     "name": "stderr",
     "text": [
      "/tmp/ipykernel_11671/1732342239.py:22: DeprecationWarning: find_element_by_css_selector is deprecated. Please use find_element(by=By.CSS_SELECTOR, value=css_selector) instead\n",
      "  game = driver.find_element_by_css_selector('#selectGameId')\n",
      "/tmp/ipykernel_11671/1732342239.py:25: DeprecationWarning: find_element_by_css_selector is deprecated. Please use find_element(by=By.CSS_SELECTOR, value=css_selector) instead\n",
      "  searchbutten = driver.find_element_by_css_selector('#btnSearch')\n"
     ]
    },
    {
     "output_type": "stream",
     "name": "stdout",
     "text": [
      "26R / 강원(H)\n"
     ]
    },
    {
     "output_type": "stream",
     "name": "stderr",
     "text": [
      "/tmp/ipykernel_11671/1732342239.py:22: DeprecationWarning: find_element_by_css_selector is deprecated. Please use find_element(by=By.CSS_SELECTOR, value=css_selector) instead\n",
      "  game = driver.find_element_by_css_selector('#selectGameId')\n",
      "/tmp/ipykernel_11671/1732342239.py:25: DeprecationWarning: find_element_by_css_selector is deprecated. Please use find_element(by=By.CSS_SELECTOR, value=css_selector) instead\n",
      "  searchbutten = driver.find_element_by_css_selector('#btnSearch')\n"
     ]
    },
    {
     "output_type": "stream",
     "name": "stdout",
     "text": [
      "27R / 인천(H)\n"
     ]
    },
    {
     "output_type": "stream",
     "name": "stderr",
     "text": [
      "/tmp/ipykernel_11671/1732342239.py:16: DeprecationWarning: find_element_by_css_selector is deprecated. Please use find_element(by=By.CSS_SELECTOR, value=css_selector) instead\n",
      "  teamsel = driver.find_element_by_css_selector('#selectTeamId')\n",
      "/tmp/ipykernel_11671/1732342239.py:19: DeprecationWarning: find_elements_by_css_selector is deprecated. Please use find_elements(by=By.CSS_SELECTOR, value=css_selector) instead\n",
      "  gamessel = driver.find_elements_by_css_selector('#selectGameId > option')\n",
      "/tmp/ipykernel_11671/1732342239.py:22: DeprecationWarning: find_element_by_css_selector is deprecated. Please use find_element(by=By.CSS_SELECTOR, value=css_selector) instead\n",
      "  game = driver.find_element_by_css_selector('#selectGameId')\n",
      "/tmp/ipykernel_11671/1732342239.py:25: DeprecationWarning: find_element_by_css_selector is deprecated. Please use find_element(by=By.CSS_SELECTOR, value=css_selector) instead\n",
      "  searchbutten = driver.find_element_by_css_selector('#btnSearch')\n"
     ]
    },
    {
     "output_type": "stream",
     "name": "stdout",
     "text": [
      "1R / 인천(A)\n"
     ]
    },
    {
     "output_type": "stream",
     "name": "stderr",
     "text": [
      "/tmp/ipykernel_11671/1732342239.py:22: DeprecationWarning: find_element_by_css_selector is deprecated. Please use find_element(by=By.CSS_SELECTOR, value=css_selector) instead\n",
      "  game = driver.find_element_by_css_selector('#selectGameId')\n",
      "/tmp/ipykernel_11671/1732342239.py:25: DeprecationWarning: find_element_by_css_selector is deprecated. Please use find_element(by=By.CSS_SELECTOR, value=css_selector) instead\n",
      "  searchbutten = driver.find_element_by_css_selector('#btnSearch')\n"
     ]
    },
    {
     "output_type": "stream",
     "name": "stdout",
     "text": [
      "2R / 포항(H)\n"
     ]
    },
    {
     "output_type": "stream",
     "name": "stderr",
     "text": [
      "/tmp/ipykernel_11671/1732342239.py:22: DeprecationWarning: find_element_by_css_selector is deprecated. Please use find_element(by=By.CSS_SELECTOR, value=css_selector) instead\n",
      "  game = driver.find_element_by_css_selector('#selectGameId')\n",
      "/tmp/ipykernel_11671/1732342239.py:25: DeprecationWarning: find_element_by_css_selector is deprecated. Please use find_element(by=By.CSS_SELECTOR, value=css_selector) instead\n",
      "  searchbutten = driver.find_element_by_css_selector('#btnSearch')\n"
     ]
    },
    {
     "output_type": "stream",
     "name": "stdout",
     "text": [
      "3R / 전북(A)\n"
     ]
    },
    {
     "output_type": "stream",
     "name": "stderr",
     "text": [
      "/tmp/ipykernel_11671/1732342239.py:22: DeprecationWarning: find_element_by_css_selector is deprecated. Please use find_element(by=By.CSS_SELECTOR, value=css_selector) instead\n",
      "  game = driver.find_element_by_css_selector('#selectGameId')\n",
      "/tmp/ipykernel_11671/1732342239.py:25: DeprecationWarning: find_element_by_css_selector is deprecated. Please use find_element(by=By.CSS_SELECTOR, value=css_selector) instead\n",
      "  searchbutten = driver.find_element_by_css_selector('#btnSearch')\n"
     ]
    },
    {
     "output_type": "stream",
     "name": "stdout",
     "text": [
      "4R / 상주(H)\n"
     ]
    },
    {
     "output_type": "stream",
     "name": "stderr",
     "text": [
      "/tmp/ipykernel_11671/1732342239.py:22: DeprecationWarning: find_element_by_css_selector is deprecated. Please use find_element(by=By.CSS_SELECTOR, value=css_selector) instead\n",
      "  game = driver.find_element_by_css_selector('#selectGameId')\n",
      "/tmp/ipykernel_11671/1732342239.py:25: DeprecationWarning: find_element_by_css_selector is deprecated. Please use find_element(by=By.CSS_SELECTOR, value=css_selector) instead\n",
      "  searchbutten = driver.find_element_by_css_selector('#btnSearch')\n"
     ]
    },
    {
     "output_type": "stream",
     "name": "stdout",
     "text": [
      "5R / 성남(A)\n"
     ]
    },
    {
     "output_type": "stream",
     "name": "stderr",
     "text": [
      "/tmp/ipykernel_11671/1732342239.py:22: DeprecationWarning: find_element_by_css_selector is deprecated. Please use find_element(by=By.CSS_SELECTOR, value=css_selector) instead\n",
      "  game = driver.find_element_by_css_selector('#selectGameId')\n",
      "/tmp/ipykernel_11671/1732342239.py:25: DeprecationWarning: find_element_by_css_selector is deprecated. Please use find_element(by=By.CSS_SELECTOR, value=css_selector) instead\n",
      "  searchbutten = driver.find_element_by_css_selector('#btnSearch')\n"
     ]
    },
    {
     "output_type": "stream",
     "name": "stdout",
     "text": [
      "6R / 서울(H)\n"
     ]
    },
    {
     "output_type": "stream",
     "name": "stderr",
     "text": [
      "/tmp/ipykernel_11671/1732342239.py:22: DeprecationWarning: find_element_by_css_selector is deprecated. Please use find_element(by=By.CSS_SELECTOR, value=css_selector) instead\n",
      "  game = driver.find_element_by_css_selector('#selectGameId')\n",
      "/tmp/ipykernel_11671/1732342239.py:25: DeprecationWarning: find_element_by_css_selector is deprecated. Please use find_element(by=By.CSS_SELECTOR, value=css_selector) instead\n",
      "  searchbutten = driver.find_element_by_css_selector('#btnSearch')\n"
     ]
    },
    {
     "output_type": "stream",
     "name": "stdout",
     "text": [
      "7R / 부산(A)\n"
     ]
    },
    {
     "output_type": "stream",
     "name": "stderr",
     "text": [
      "/tmp/ipykernel_11671/1732342239.py:22: DeprecationWarning: find_element_by_css_selector is deprecated. Please use find_element(by=By.CSS_SELECTOR, value=css_selector) instead\n",
      "  game = driver.find_element_by_css_selector('#selectGameId')\n",
      "/tmp/ipykernel_11671/1732342239.py:25: DeprecationWarning: find_element_by_css_selector is deprecated. Please use find_element(by=By.CSS_SELECTOR, value=css_selector) instead\n",
      "  searchbutten = driver.find_element_by_css_selector('#btnSearch')\n"
     ]
    },
    {
     "output_type": "stream",
     "name": "stdout",
     "text": [
      "8R / 수원(H)\n"
     ]
    },
    {
     "output_type": "stream",
     "name": "stderr",
     "text": [
      "/tmp/ipykernel_11671/1732342239.py:22: DeprecationWarning: find_element_by_css_selector is deprecated. Please use find_element(by=By.CSS_SELECTOR, value=css_selector) instead\n",
      "  game = driver.find_element_by_css_selector('#selectGameId')\n",
      "/tmp/ipykernel_11671/1732342239.py:25: DeprecationWarning: find_element_by_css_selector is deprecated. Please use find_element(by=By.CSS_SELECTOR, value=css_selector) instead\n",
      "  searchbutten = driver.find_element_by_css_selector('#btnSearch')\n"
     ]
    },
    {
     "output_type": "stream",
     "name": "stdout",
     "text": [
      "9R / 강원(H)\n"
     ]
    },
    {
     "output_type": "stream",
     "name": "stderr",
     "text": [
      "/tmp/ipykernel_11671/1732342239.py:22: DeprecationWarning: find_element_by_css_selector is deprecated. Please use find_element(by=By.CSS_SELECTOR, value=css_selector) instead\n",
      "  game = driver.find_element_by_css_selector('#selectGameId')\n",
      "/tmp/ipykernel_11671/1732342239.py:25: DeprecationWarning: find_element_by_css_selector is deprecated. Please use find_element(by=By.CSS_SELECTOR, value=css_selector) instead\n",
      "  searchbutten = driver.find_element_by_css_selector('#btnSearch')\n"
     ]
    },
    {
     "output_type": "stream",
     "name": "stdout",
     "text": [
      "10R / 광주(A)\n"
     ]
    },
    {
     "output_type": "stream",
     "name": "stderr",
     "text": [
      "/tmp/ipykernel_11671/1732342239.py:22: DeprecationWarning: find_element_by_css_selector is deprecated. Please use find_element(by=By.CSS_SELECTOR, value=css_selector) instead\n",
      "  game = driver.find_element_by_css_selector('#selectGameId')\n",
      "/tmp/ipykernel_11671/1732342239.py:25: DeprecationWarning: find_element_by_css_selector is deprecated. Please use find_element(by=By.CSS_SELECTOR, value=css_selector) instead\n",
      "  searchbutten = driver.find_element_by_css_selector('#btnSearch')\n"
     ]
    },
    {
     "output_type": "stream",
     "name": "stdout",
     "text": [
      "11R / 울산(H)\n"
     ]
    },
    {
     "output_type": "stream",
     "name": "stderr",
     "text": [
      "/tmp/ipykernel_11671/1732342239.py:22: DeprecationWarning: find_element_by_css_selector is deprecated. Please use find_element(by=By.CSS_SELECTOR, value=css_selector) instead\n",
      "  game = driver.find_element_by_css_selector('#selectGameId')\n",
      "/tmp/ipykernel_11671/1732342239.py:25: DeprecationWarning: find_element_by_css_selector is deprecated. Please use find_element(by=By.CSS_SELECTOR, value=css_selector) instead\n",
      "  searchbutten = driver.find_element_by_css_selector('#btnSearch')\n"
     ]
    },
    {
     "output_type": "stream",
     "name": "stdout",
     "text": [
      "12R / 상주(A)\n"
     ]
    },
    {
     "output_type": "stream",
     "name": "stderr",
     "text": [
      "/tmp/ipykernel_11671/1732342239.py:22: DeprecationWarning: find_element_by_css_selector is deprecated. Please use find_element(by=By.CSS_SELECTOR, value=css_selector) instead\n",
      "  game = driver.find_element_by_css_selector('#selectGameId')\n",
      "/tmp/ipykernel_11671/1732342239.py:25: DeprecationWarning: find_element_by_css_selector is deprecated. Please use find_element(by=By.CSS_SELECTOR, value=css_selector) instead\n",
      "  searchbutten = driver.find_element_by_css_selector('#btnSearch')\n"
     ]
    },
    {
     "output_type": "stream",
     "name": "stdout",
     "text": [
      "13R / 부산(H)\n"
     ]
    },
    {
     "output_type": "stream",
     "name": "stderr",
     "text": [
      "/tmp/ipykernel_11671/1732342239.py:22: DeprecationWarning: find_element_by_css_selector is deprecated. Please use find_element(by=By.CSS_SELECTOR, value=css_selector) instead\n",
      "  game = driver.find_element_by_css_selector('#selectGameId')\n",
      "/tmp/ipykernel_11671/1732342239.py:25: DeprecationWarning: find_element_by_css_selector is deprecated. Please use find_element(by=By.CSS_SELECTOR, value=css_selector) instead\n",
      "  searchbutten = driver.find_element_by_css_selector('#btnSearch')\n"
     ]
    },
    {
     "output_type": "stream",
     "name": "stdout",
     "text": [
      "14R / 수원(A)\n"
     ]
    },
    {
     "output_type": "stream",
     "name": "stderr",
     "text": [
      "/tmp/ipykernel_11671/1732342239.py:22: DeprecationWarning: find_element_by_css_selector is deprecated. Please use find_element(by=By.CSS_SELECTOR, value=css_selector) instead\n",
      "  game = driver.find_element_by_css_selector('#selectGameId')\n",
      "/tmp/ipykernel_11671/1732342239.py:25: DeprecationWarning: find_element_by_css_selector is deprecated. Please use find_element(by=By.CSS_SELECTOR, value=css_selector) instead\n",
      "  searchbutten = driver.find_element_by_css_selector('#btnSearch')\n"
     ]
    },
    {
     "output_type": "stream",
     "name": "stdout",
     "text": [
      "15R / 전북(H)\n"
     ]
    },
    {
     "output_type": "stream",
     "name": "stderr",
     "text": [
      "/tmp/ipykernel_11671/1732342239.py:22: DeprecationWarning: find_element_by_css_selector is deprecated. Please use find_element(by=By.CSS_SELECTOR, value=css_selector) instead\n",
      "  game = driver.find_element_by_css_selector('#selectGameId')\n",
      "/tmp/ipykernel_11671/1732342239.py:25: DeprecationWarning: find_element_by_css_selector is deprecated. Please use find_element(by=By.CSS_SELECTOR, value=css_selector) instead\n",
      "  searchbutten = driver.find_element_by_css_selector('#btnSearch')\n"
     ]
    },
    {
     "output_type": "stream",
     "name": "stdout",
     "text": [
      "16R / 인천(H)\n"
     ]
    },
    {
     "output_type": "stream",
     "name": "stderr",
     "text": [
      "/tmp/ipykernel_11671/1732342239.py:22: DeprecationWarning: find_element_by_css_selector is deprecated. Please use find_element(by=By.CSS_SELECTOR, value=css_selector) instead\n",
      "  game = driver.find_element_by_css_selector('#selectGameId')\n",
      "/tmp/ipykernel_11671/1732342239.py:25: DeprecationWarning: find_element_by_css_selector is deprecated. Please use find_element(by=By.CSS_SELECTOR, value=css_selector) instead\n",
      "  searchbutten = driver.find_element_by_css_selector('#btnSearch')\n"
     ]
    },
    {
     "output_type": "stream",
     "name": "stdout",
     "text": [
      "17R / 강원(A)\n"
     ]
    },
    {
     "output_type": "stream",
     "name": "stderr",
     "text": [
      "/tmp/ipykernel_11671/1732342239.py:22: DeprecationWarning: find_element_by_css_selector is deprecated. Please use find_element(by=By.CSS_SELECTOR, value=css_selector) instead\n",
      "  game = driver.find_element_by_css_selector('#selectGameId')\n",
      "/tmp/ipykernel_11671/1732342239.py:25: DeprecationWarning: find_element_by_css_selector is deprecated. Please use find_element(by=By.CSS_SELECTOR, value=css_selector) instead\n",
      "  searchbutten = driver.find_element_by_css_selector('#btnSearch')\n"
     ]
    },
    {
     "output_type": "stream",
     "name": "stdout",
     "text": [
      "18R / 광주(H)\n"
     ]
    },
    {
     "output_type": "stream",
     "name": "stderr",
     "text": [
      "/tmp/ipykernel_11671/1732342239.py:22: DeprecationWarning: find_element_by_css_selector is deprecated. Please use find_element(by=By.CSS_SELECTOR, value=css_selector) instead\n",
      "  game = driver.find_element_by_css_selector('#selectGameId')\n",
      "/tmp/ipykernel_11671/1732342239.py:25: DeprecationWarning: find_element_by_css_selector is deprecated. Please use find_element(by=By.CSS_SELECTOR, value=css_selector) instead\n",
      "  searchbutten = driver.find_element_by_css_selector('#btnSearch')\n"
     ]
    },
    {
     "output_type": "stream",
     "name": "stdout",
     "text": [
      "19R / 포항(A)\n"
     ]
    },
    {
     "output_type": "stream",
     "name": "stderr",
     "text": [
      "/tmp/ipykernel_11671/1732342239.py:22: DeprecationWarning: find_element_by_css_selector is deprecated. Please use find_element(by=By.CSS_SELECTOR, value=css_selector) instead\n",
      "  game = driver.find_element_by_css_selector('#selectGameId')\n",
      "/tmp/ipykernel_11671/1732342239.py:25: DeprecationWarning: find_element_by_css_selector is deprecated. Please use find_element(by=By.CSS_SELECTOR, value=css_selector) instead\n",
      "  searchbutten = driver.find_element_by_css_selector('#btnSearch')\n"
     ]
    },
    {
     "output_type": "stream",
     "name": "stdout",
     "text": [
      "20R / 울산(A)\n"
     ]
    },
    {
     "output_type": "stream",
     "name": "stderr",
     "text": [
      "/tmp/ipykernel_11671/1732342239.py:22: DeprecationWarning: find_element_by_css_selector is deprecated. Please use find_element(by=By.CSS_SELECTOR, value=css_selector) instead\n",
      "  game = driver.find_element_by_css_selector('#selectGameId')\n",
      "/tmp/ipykernel_11671/1732342239.py:25: DeprecationWarning: find_element_by_css_selector is deprecated. Please use find_element(by=By.CSS_SELECTOR, value=css_selector) instead\n",
      "  searchbutten = driver.find_element_by_css_selector('#btnSearch')\n"
     ]
    },
    {
     "output_type": "stream",
     "name": "stdout",
     "text": [
      "21R / 성남(H)\n"
     ]
    },
    {
     "output_type": "stream",
     "name": "stderr",
     "text": [
      "/tmp/ipykernel_11671/1732342239.py:22: DeprecationWarning: find_element_by_css_selector is deprecated. Please use find_element(by=By.CSS_SELECTOR, value=css_selector) instead\n",
      "  game = driver.find_element_by_css_selector('#selectGameId')\n",
      "/tmp/ipykernel_11671/1732342239.py:25: DeprecationWarning: find_element_by_css_selector is deprecated. Please use find_element(by=By.CSS_SELECTOR, value=css_selector) instead\n",
      "  searchbutten = driver.find_element_by_css_selector('#btnSearch')\n"
     ]
    },
    {
     "output_type": "stream",
     "name": "stdout",
     "text": [
      "22R / 서울(A)\n"
     ]
    },
    {
     "output_type": "stream",
     "name": "stderr",
     "text": [
      "/tmp/ipykernel_11671/1732342239.py:22: DeprecationWarning: find_element_by_css_selector is deprecated. Please use find_element(by=By.CSS_SELECTOR, value=css_selector) instead\n",
      "  game = driver.find_element_by_css_selector('#selectGameId')\n",
      "/tmp/ipykernel_11671/1732342239.py:25: DeprecationWarning: find_element_by_css_selector is deprecated. Please use find_element(by=By.CSS_SELECTOR, value=css_selector) instead\n",
      "  searchbutten = driver.find_element_by_css_selector('#btnSearch')\n"
     ]
    },
    {
     "output_type": "stream",
     "name": "stdout",
     "text": [
      "23R / 울산(H)\n"
     ]
    },
    {
     "output_type": "stream",
     "name": "stderr",
     "text": [
      "/tmp/ipykernel_11671/1732342239.py:22: DeprecationWarning: find_element_by_css_selector is deprecated. Please use find_element(by=By.CSS_SELECTOR, value=css_selector) instead\n",
      "  game = driver.find_element_by_css_selector('#selectGameId')\n",
      "/tmp/ipykernel_11671/1732342239.py:25: DeprecationWarning: find_element_by_css_selector is deprecated. Please use find_element(by=By.CSS_SELECTOR, value=css_selector) instead\n",
      "  searchbutten = driver.find_element_by_css_selector('#btnSearch')\n"
     ]
    },
    {
     "output_type": "stream",
     "name": "stdout",
     "text": [
      "24R / 광주(A)\n"
     ]
    },
    {
     "output_type": "stream",
     "name": "stderr",
     "text": [
      "/tmp/ipykernel_11671/1732342239.py:22: DeprecationWarning: find_element_by_css_selector is deprecated. Please use find_element(by=By.CSS_SELECTOR, value=css_selector) instead\n",
      "  game = driver.find_element_by_css_selector('#selectGameId')\n",
      "/tmp/ipykernel_11671/1732342239.py:25: DeprecationWarning: find_element_by_css_selector is deprecated. Please use find_element(by=By.CSS_SELECTOR, value=css_selector) instead\n",
      "  searchbutten = driver.find_element_by_css_selector('#btnSearch')\n"
     ]
    },
    {
     "output_type": "stream",
     "name": "stdout",
     "text": [
      "25R / 상주(A)\n"
     ]
    },
    {
     "output_type": "stream",
     "name": "stderr",
     "text": [
      "/tmp/ipykernel_11671/1732342239.py:22: DeprecationWarning: find_element_by_css_selector is deprecated. Please use find_element(by=By.CSS_SELECTOR, value=css_selector) instead\n",
      "  game = driver.find_element_by_css_selector('#selectGameId')\n",
      "/tmp/ipykernel_11671/1732342239.py:25: DeprecationWarning: find_element_by_css_selector is deprecated. Please use find_element(by=By.CSS_SELECTOR, value=css_selector) instead\n",
      "  searchbutten = driver.find_element_by_css_selector('#btnSearch')\n"
     ]
    },
    {
     "output_type": "stream",
     "name": "stdout",
     "text": [
      "26R / 포항(H)\n"
     ]
    },
    {
     "output_type": "stream",
     "name": "stderr",
     "text": [
      "/tmp/ipykernel_11671/1732342239.py:22: DeprecationWarning: find_element_by_css_selector is deprecated. Please use find_element(by=By.CSS_SELECTOR, value=css_selector) instead\n",
      "  game = driver.find_element_by_css_selector('#selectGameId')\n",
      "/tmp/ipykernel_11671/1732342239.py:25: DeprecationWarning: find_element_by_css_selector is deprecated. Please use find_element(by=By.CSS_SELECTOR, value=css_selector) instead\n",
      "  searchbutten = driver.find_element_by_css_selector('#btnSearch')\n"
     ]
    },
    {
     "output_type": "stream",
     "name": "stdout",
     "text": [
      "27R / 전북(A)\n"
     ]
    },
    {
     "output_type": "stream",
     "name": "stderr",
     "text": [
      "/tmp/ipykernel_11671/1732342239.py:16: DeprecationWarning: find_element_by_css_selector is deprecated. Please use find_element(by=By.CSS_SELECTOR, value=css_selector) instead\n",
      "  teamsel = driver.find_element_by_css_selector('#selectTeamId')\n",
      "/tmp/ipykernel_11671/1732342239.py:19: DeprecationWarning: find_elements_by_css_selector is deprecated. Please use find_elements(by=By.CSS_SELECTOR, value=css_selector) instead\n",
      "  gamessel = driver.find_elements_by_css_selector('#selectGameId > option')\n",
      "/tmp/ipykernel_11671/1732342239.py:22: DeprecationWarning: find_element_by_css_selector is deprecated. Please use find_element(by=By.CSS_SELECTOR, value=css_selector) instead\n",
      "  game = driver.find_element_by_css_selector('#selectGameId')\n",
      "/tmp/ipykernel_11671/1732342239.py:25: DeprecationWarning: find_element_by_css_selector is deprecated. Please use find_element(by=By.CSS_SELECTOR, value=css_selector) instead\n",
      "  searchbutten = driver.find_element_by_css_selector('#btnSearch')\n"
     ]
    },
    {
     "output_type": "stream",
     "name": "stdout",
     "text": [
      "1R / 대구(H)\n"
     ]
    },
    {
     "output_type": "stream",
     "name": "stderr",
     "text": [
      "/tmp/ipykernel_11671/1732342239.py:22: DeprecationWarning: find_element_by_css_selector is deprecated. Please use find_element(by=By.CSS_SELECTOR, value=css_selector) instead\n",
      "  game = driver.find_element_by_css_selector('#selectGameId')\n",
      "/tmp/ipykernel_11671/1732342239.py:25: DeprecationWarning: find_element_by_css_selector is deprecated. Please use find_element(by=By.CSS_SELECTOR, value=css_selector) instead\n",
      "  searchbutten = driver.find_element_by_css_selector('#btnSearch')\n"
     ]
    },
    {
     "output_type": "stream",
     "name": "stdout",
     "text": [
      "2R / 성남(A)\n"
     ]
    },
    {
     "output_type": "stream",
     "name": "stderr",
     "text": [
      "/tmp/ipykernel_11671/1732342239.py:22: DeprecationWarning: find_element_by_css_selector is deprecated. Please use find_element(by=By.CSS_SELECTOR, value=css_selector) instead\n",
      "  game = driver.find_element_by_css_selector('#selectGameId')\n",
      "/tmp/ipykernel_11671/1732342239.py:25: DeprecationWarning: find_element_by_css_selector is deprecated. Please use find_element(by=By.CSS_SELECTOR, value=css_selector) instead\n",
      "  searchbutten = driver.find_element_by_css_selector('#btnSearch')\n"
     ]
    },
    {
     "output_type": "stream",
     "name": "stdout",
     "text": [
      "3R / 수원(A)\n"
     ]
    },
    {
     "output_type": "stream",
     "name": "stderr",
     "text": [
      "/tmp/ipykernel_11671/1732342239.py:22: DeprecationWarning: find_element_by_css_selector is deprecated. Please use find_element(by=By.CSS_SELECTOR, value=css_selector) instead\n",
      "  game = driver.find_element_by_css_selector('#selectGameId')\n",
      "/tmp/ipykernel_11671/1732342239.py:25: DeprecationWarning: find_element_by_css_selector is deprecated. Please use find_element(by=By.CSS_SELECTOR, value=css_selector) instead\n",
      "  searchbutten = driver.find_element_by_css_selector('#btnSearch')\n"
     ]
    },
    {
     "output_type": "stream",
     "name": "stdout",
     "text": [
      "4R / 포항(H)\n"
     ]
    },
    {
     "output_type": "stream",
     "name": "stderr",
     "text": [
      "/tmp/ipykernel_11671/1732342239.py:22: DeprecationWarning: find_element_by_css_selector is deprecated. Please use find_element(by=By.CSS_SELECTOR, value=css_selector) instead\n",
      "  game = driver.find_element_by_css_selector('#selectGameId')\n",
      "/tmp/ipykernel_11671/1732342239.py:25: DeprecationWarning: find_element_by_css_selector is deprecated. Please use find_element(by=By.CSS_SELECTOR, value=css_selector) instead\n",
      "  searchbutten = driver.find_element_by_css_selector('#btnSearch')\n"
     ]
    },
    {
     "output_type": "stream",
     "name": "stdout",
     "text": [
      "5R / 강원(H)\n"
     ]
    },
    {
     "output_type": "stream",
     "name": "stderr",
     "text": [
      "/tmp/ipykernel_11671/1732342239.py:22: DeprecationWarning: find_element_by_css_selector is deprecated. Please use find_element(by=By.CSS_SELECTOR, value=css_selector) instead\n",
      "  game = driver.find_element_by_css_selector('#selectGameId')\n",
      "/tmp/ipykernel_11671/1732342239.py:25: DeprecationWarning: find_element_by_css_selector is deprecated. Please use find_element(by=By.CSS_SELECTOR, value=css_selector) instead\n",
      "  searchbutten = driver.find_element_by_css_selector('#btnSearch')\n"
     ]
    },
    {
     "output_type": "stream",
     "name": "stdout",
     "text": [
      "6R / 전북(A)\n"
     ]
    },
    {
     "output_type": "stream",
     "name": "stderr",
     "text": [
      "/tmp/ipykernel_11671/1732342239.py:22: DeprecationWarning: find_element_by_css_selector is deprecated. Please use find_element(by=By.CSS_SELECTOR, value=css_selector) instead\n",
      "  game = driver.find_element_by_css_selector('#selectGameId')\n",
      "/tmp/ipykernel_11671/1732342239.py:25: DeprecationWarning: find_element_by_css_selector is deprecated. Please use find_element(by=By.CSS_SELECTOR, value=css_selector) instead\n",
      "  searchbutten = driver.find_element_by_css_selector('#btnSearch')\n"
     ]
    },
    {
     "output_type": "stream",
     "name": "stdout",
     "text": [
      "7R / 광주(A)\n"
     ]
    },
    {
     "output_type": "stream",
     "name": "stderr",
     "text": [
      "/tmp/ipykernel_11671/1732342239.py:22: DeprecationWarning: find_element_by_css_selector is deprecated. Please use find_element(by=By.CSS_SELECTOR, value=css_selector) instead\n",
      "  game = driver.find_element_by_css_selector('#selectGameId')\n",
      "/tmp/ipykernel_11671/1732342239.py:25: DeprecationWarning: find_element_by_css_selector is deprecated. Please use find_element(by=By.CSS_SELECTOR, value=css_selector) instead\n",
      "  searchbutten = driver.find_element_by_css_selector('#btnSearch')\n"
     ]
    },
    {
     "output_type": "stream",
     "name": "stdout",
     "text": [
      "8R / 부산(H)\n"
     ]
    },
    {
     "output_type": "stream",
     "name": "stderr",
     "text": [
      "/tmp/ipykernel_11671/1732342239.py:22: DeprecationWarning: find_element_by_css_selector is deprecated. Please use find_element(by=By.CSS_SELECTOR, value=css_selector) instead\n",
      "  game = driver.find_element_by_css_selector('#selectGameId')\n"
     ]
    },
    {
     "output_type": "error",
     "ename": "ElementNotInteractableException",
     "evalue": "Message: element not interactable\n  (Session info: chrome=100.0.4896.60)\nStacktrace:\n#0 0x55d77abc3013 <unknown>\n#1 0x55d77a92589f <unknown>\n#2 0x55d77a95641e <unknown>\n#3 0x55d77a955a10 <unknown>\n#4 0x55d77a979932 <unknown>\n#5 0x55d77a9506d3 <unknown>\n#6 0x55d77a979a3e <unknown>\n#7 0x55d77a98cb94 <unknown>\n#8 0x55d77a979823 <unknown>\n#9 0x55d77a94f08a <unknown>\n#10 0x55d77a9501e5 <unknown>\n#11 0x55d77abf0e5d <unknown>\n#12 0x55d77ac0a061 <unknown>\n#13 0x55d77abf2bb5 <unknown>\n#14 0x55d77ac0ae08 <unknown>\n#15 0x55d77abe62f0 <unknown>\n#16 0x55d77ac26988 <unknown>\n#17 0x55d77ac26b08 <unknown>\n#18 0x55d77ac405dd <unknown>\n#19 0x7f0091108609 <unknown>\n",
     "traceback": [
      "\u001b[0;31m---------------------------------------------------------------------------\u001b[0m",
      "\u001b[0;31mElementNotInteractableException\u001b[0m           Traceback (most recent call last)",
      "\u001b[1;32m/home/hchang/Working/more/crawling/kleague/hi.ipynb Cell 24'\u001b[0m in \u001b[0;36m<cell line: 1>\u001b[0;34m()\u001b[0m\n\u001b[1;32m      <a href='vscode-notebook-cell:/home/hchang/Working/more/crawling/kleague/hi.ipynb#ch0000024?line=0'>1</a>\u001b[0m \u001b[39mfor\u001b[39;00m year \u001b[39min\u001b[39;00m [\u001b[39m'\u001b[39m\u001b[39m2020\u001b[39m\u001b[39m'\u001b[39m,\u001b[39m'\u001b[39m\u001b[39m2021\u001b[39m\u001b[39m'\u001b[39m,\u001b[39m'\u001b[39m\u001b[39m2022\u001b[39m\u001b[39m'\u001b[39m]:\n\u001b[0;32m----> <a href='vscode-notebook-cell:/home/hchang/Working/more/crawling/kleague/hi.ipynb#ch0000024?line=1'>2</a>\u001b[0m     searchperson(year)\n",
      "\u001b[1;32m/home/hchang/Working/more/crawling/kleague/hi.ipynb Cell 22'\u001b[0m in \u001b[0;36msearchperson\u001b[0;34m(year)\u001b[0m\n\u001b[1;32m     <a href='vscode-notebook-cell:/home/hchang/Working/more/crawling/kleague/hi.ipynb#ch0000022?line=20'>21</a>\u001b[0m \u001b[39mfor\u001b[39;00m gm \u001b[39min\u001b[39;00m games:\n\u001b[1;32m     <a href='vscode-notebook-cell:/home/hchang/Working/more/crawling/kleague/hi.ipynb#ch0000022?line=21'>22</a>\u001b[0m     game \u001b[39m=\u001b[39m driver\u001b[39m.\u001b[39mfind_element_by_css_selector(\u001b[39m'\u001b[39m\u001b[39m#selectGameId\u001b[39m\u001b[39m'\u001b[39m)\n\u001b[0;32m---> <a href='vscode-notebook-cell:/home/hchang/Working/more/crawling/kleague/hi.ipynb#ch0000022?line=22'>23</a>\u001b[0m     game\u001b[39m.\u001b[39;49msend_keys(gm)\n\u001b[1;32m     <a href='vscode-notebook-cell:/home/hchang/Working/more/crawling/kleague/hi.ipynb#ch0000022?line=23'>24</a>\u001b[0m     sleep(\u001b[39m0.2\u001b[39m)\n\u001b[1;32m     <a href='vscode-notebook-cell:/home/hchang/Working/more/crawling/kleague/hi.ipynb#ch0000022?line=24'>25</a>\u001b[0m     searchbutten \u001b[39m=\u001b[39m driver\u001b[39m.\u001b[39mfind_element_by_css_selector(\u001b[39m'\u001b[39m\u001b[39m#btnSearch\u001b[39m\u001b[39m'\u001b[39m)\n",
      "File \u001b[0;32m~/Working/env/analysis/lib/python3.8/site-packages/selenium/webdriver/remote/webelement.py:540\u001b[0m, in \u001b[0;36mWebElement.send_keys\u001b[0;34m(self, *value)\u001b[0m\n\u001b[1;32m    <a href='file:///home/hchang/Working/env/analysis/lib/python3.8/site-packages/selenium/webdriver/remote/webelement.py?line=536'>537</a>\u001b[0m             remote_files\u001b[39m.\u001b[39mappend(\u001b[39mself\u001b[39m\u001b[39m.\u001b[39m_upload(file))\n\u001b[1;32m    <a href='file:///home/hchang/Working/env/analysis/lib/python3.8/site-packages/selenium/webdriver/remote/webelement.py?line=537'>538</a>\u001b[0m         value \u001b[39m=\u001b[39m \u001b[39m'\u001b[39m\u001b[39m\\n\u001b[39;00m\u001b[39m'\u001b[39m\u001b[39m.\u001b[39mjoin(remote_files)\n\u001b[0;32m--> <a href='file:///home/hchang/Working/env/analysis/lib/python3.8/site-packages/selenium/webdriver/remote/webelement.py?line=539'>540</a>\u001b[0m \u001b[39mself\u001b[39;49m\u001b[39m.\u001b[39;49m_execute(Command\u001b[39m.\u001b[39;49mSEND_KEYS_TO_ELEMENT,\n\u001b[1;32m    <a href='file:///home/hchang/Working/env/analysis/lib/python3.8/site-packages/selenium/webdriver/remote/webelement.py?line=540'>541</a>\u001b[0m               {\u001b[39m'\u001b[39;49m\u001b[39mtext\u001b[39;49m\u001b[39m'\u001b[39;49m: \u001b[39m\"\u001b[39;49m\u001b[39m\"\u001b[39;49m\u001b[39m.\u001b[39;49mjoin(keys_to_typing(value)),\n\u001b[1;32m    <a href='file:///home/hchang/Working/env/analysis/lib/python3.8/site-packages/selenium/webdriver/remote/webelement.py?line=541'>542</a>\u001b[0m                \u001b[39m'\u001b[39;49m\u001b[39mvalue\u001b[39;49m\u001b[39m'\u001b[39;49m: keys_to_typing(value)})\n",
      "File \u001b[0;32m~/Working/env/analysis/lib/python3.8/site-packages/selenium/webdriver/remote/webelement.py:710\u001b[0m, in \u001b[0;36mWebElement._execute\u001b[0;34m(self, command, params)\u001b[0m\n\u001b[1;32m    <a href='file:///home/hchang/Working/env/analysis/lib/python3.8/site-packages/selenium/webdriver/remote/webelement.py?line=707'>708</a>\u001b[0m     params \u001b[39m=\u001b[39m {}\n\u001b[1;32m    <a href='file:///home/hchang/Working/env/analysis/lib/python3.8/site-packages/selenium/webdriver/remote/webelement.py?line=708'>709</a>\u001b[0m params[\u001b[39m'\u001b[39m\u001b[39mid\u001b[39m\u001b[39m'\u001b[39m] \u001b[39m=\u001b[39m \u001b[39mself\u001b[39m\u001b[39m.\u001b[39m_id\n\u001b[0;32m--> <a href='file:///home/hchang/Working/env/analysis/lib/python3.8/site-packages/selenium/webdriver/remote/webelement.py?line=709'>710</a>\u001b[0m \u001b[39mreturn\u001b[39;00m \u001b[39mself\u001b[39;49m\u001b[39m.\u001b[39;49m_parent\u001b[39m.\u001b[39;49mexecute(command, params)\n",
      "File \u001b[0;32m~/Working/env/analysis/lib/python3.8/site-packages/selenium/webdriver/remote/webdriver.py:425\u001b[0m, in \u001b[0;36mWebDriver.execute\u001b[0;34m(self, driver_command, params)\u001b[0m\n\u001b[1;32m    <a href='file:///home/hchang/Working/env/analysis/lib/python3.8/site-packages/selenium/webdriver/remote/webdriver.py?line=422'>423</a>\u001b[0m response \u001b[39m=\u001b[39m \u001b[39mself\u001b[39m\u001b[39m.\u001b[39mcommand_executor\u001b[39m.\u001b[39mexecute(driver_command, params)\n\u001b[1;32m    <a href='file:///home/hchang/Working/env/analysis/lib/python3.8/site-packages/selenium/webdriver/remote/webdriver.py?line=423'>424</a>\u001b[0m \u001b[39mif\u001b[39;00m response:\n\u001b[0;32m--> <a href='file:///home/hchang/Working/env/analysis/lib/python3.8/site-packages/selenium/webdriver/remote/webdriver.py?line=424'>425</a>\u001b[0m     \u001b[39mself\u001b[39;49m\u001b[39m.\u001b[39;49merror_handler\u001b[39m.\u001b[39;49mcheck_response(response)\n\u001b[1;32m    <a href='file:///home/hchang/Working/env/analysis/lib/python3.8/site-packages/selenium/webdriver/remote/webdriver.py?line=425'>426</a>\u001b[0m     response[\u001b[39m'\u001b[39m\u001b[39mvalue\u001b[39m\u001b[39m'\u001b[39m] \u001b[39m=\u001b[39m \u001b[39mself\u001b[39m\u001b[39m.\u001b[39m_unwrap_value(\n\u001b[1;32m    <a href='file:///home/hchang/Working/env/analysis/lib/python3.8/site-packages/selenium/webdriver/remote/webdriver.py?line=426'>427</a>\u001b[0m         response\u001b[39m.\u001b[39mget(\u001b[39m'\u001b[39m\u001b[39mvalue\u001b[39m\u001b[39m'\u001b[39m, \u001b[39mNone\u001b[39;00m))\n\u001b[1;32m    <a href='file:///home/hchang/Working/env/analysis/lib/python3.8/site-packages/selenium/webdriver/remote/webdriver.py?line=427'>428</a>\u001b[0m     \u001b[39mreturn\u001b[39;00m response\n",
      "File \u001b[0;32m~/Working/env/analysis/lib/python3.8/site-packages/selenium/webdriver/remote/errorhandler.py:247\u001b[0m, in \u001b[0;36mErrorHandler.check_response\u001b[0;34m(self, response)\u001b[0m\n\u001b[1;32m    <a href='file:///home/hchang/Working/env/analysis/lib/python3.8/site-packages/selenium/webdriver/remote/errorhandler.py?line=244'>245</a>\u001b[0m         alert_text \u001b[39m=\u001b[39m value[\u001b[39m'\u001b[39m\u001b[39malert\u001b[39m\u001b[39m'\u001b[39m]\u001b[39m.\u001b[39mget(\u001b[39m'\u001b[39m\u001b[39mtext\u001b[39m\u001b[39m'\u001b[39m)\n\u001b[1;32m    <a href='file:///home/hchang/Working/env/analysis/lib/python3.8/site-packages/selenium/webdriver/remote/errorhandler.py?line=245'>246</a>\u001b[0m     \u001b[39mraise\u001b[39;00m exception_class(message, screen, stacktrace, alert_text)  \u001b[39m# type: ignore[call-arg]  # mypy is not smart enough here\u001b[39;00m\n\u001b[0;32m--> <a href='file:///home/hchang/Working/env/analysis/lib/python3.8/site-packages/selenium/webdriver/remote/errorhandler.py?line=246'>247</a>\u001b[0m \u001b[39mraise\u001b[39;00m exception_class(message, screen, stacktrace)\n",
      "\u001b[0;31mElementNotInteractableException\u001b[0m: Message: element not interactable\n  (Session info: chrome=100.0.4896.60)\nStacktrace:\n#0 0x55d77abc3013 <unknown>\n#1 0x55d77a92589f <unknown>\n#2 0x55d77a95641e <unknown>\n#3 0x55d77a955a10 <unknown>\n#4 0x55d77a979932 <unknown>\n#5 0x55d77a9506d3 <unknown>\n#6 0x55d77a979a3e <unknown>\n#7 0x55d77a98cb94 <unknown>\n#8 0x55d77a979823 <unknown>\n#9 0x55d77a94f08a <unknown>\n#10 0x55d77a9501e5 <unknown>\n#11 0x55d77abf0e5d <unknown>\n#12 0x55d77ac0a061 <unknown>\n#13 0x55d77abf2bb5 <unknown>\n#14 0x55d77ac0ae08 <unknown>\n#15 0x55d77abe62f0 <unknown>\n#16 0x55d77ac26988 <unknown>\n#17 0x55d77ac26b08 <unknown>\n#18 0x55d77ac405dd <unknown>\n#19 0x7f0091108609 <unknown>\n"
     ]
    }
   ],
   "metadata": {}
  },
  {
   "cell_type": "code",
   "execution_count": 17,
   "source": [
    "driver.page_source"
   ],
   "outputs": [
    {
     "output_type": "execute_result",
     "data": {
      "text/plain": [
       "'<html xmlns=\"http://www.w3.org/1999/xhtml\"><head>\\n<link rel=\"shortcut icon\" href=\"/images/favicon/favicon.ico\">\\n<meta http-equiv=\"Content-Type\" content=\"text/html; charset=utf-8\">\\n<meta name=\"description\" content=\"K리그 축구 전문 데이터 포털\">\\n<meta property=\"og:type\" content=\"website\">\\n<meta property=\"og:title\" content=\"K리그 축구 전문 데이터 포털\">\\n<meta property=\"og:description\" content=\"K리그의 모든 것이 담겨있습니다. 경기전 관전포인트 부터 전문 분석 매치서머리까지 지금 방문해보세요. 로그인 없이 이용하실 수 있습니다.\">\\n<meta property=\"og:image\" content=\"http://data.kleague.com/images/K_LEAGUE_PORTAL.png\">\\n<meta property=\"og:url\" content=\"https://data.kleague.com\">\\n<meta name=\"google-site-verification\" content=\"O3awnS63EFambt9EtuWECT_4xMY65nLH88j01m1vP88\">\\n<link rel=\"canonical\" href=\"https://data.kleague.com\">\\n<title>K리그 데이터 포털</title>\\n</head>\\n<frameset rows=\"0,*\" border=\"0\">\\n\\t<frame src=\"about:blank\">\\n\\t<frame src=\"https://portal.kleague.com/user/loginById.do?portalGuest=rstNE9zxjdkUC9kbUA08XQ==\" frameborder=\"0\" scrolling=\"auto\">\\n</frameset>\\n<noframes>\\n<body>\\n프레임지원X\\n</body>\\n</noframes>\\n</html>'"
      ]
     },
     "metadata": {},
     "execution_count": 17
    }
   ],
   "metadata": {}
  }
 ],
 "metadata": {
  "interpreter": {
   "hash": "026aceb1435085fcef523649cdfc9385a4a55dbc5c65435142607853821fa50a"
  },
  "kernelspec": {
   "name": "python3",
   "display_name": "Python 3.8.10 64-bit ('Working': venv)"
  },
  "language_info": {
   "codemirror_mode": {
    "name": "ipython",
    "version": 3
   },
   "file_extension": ".py",
   "mimetype": "text/x-python",
   "name": "python",
   "nbconvert_exporter": "python",
   "pygments_lexer": "ipython3",
   "version": "3.8.10"
  },
  "orig_nbformat": 4
 },
 "nbformat": 4,
 "nbformat_minor": 2
}