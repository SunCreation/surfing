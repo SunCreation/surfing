{
 "cells": [
  {
   "cell_type": "code",
   "execution_count": 1,
   "metadata": {},
   "outputs": [],
   "source": [
    "import chromedriver_autoinstaller\n",
    "from selenium import webdriver\n",
    "from bs4 import BeautifulSoup\n",
    "\n",
    "chromedriver_autoinstaller.install()\n",
    "driver = webdriver.Chrome()\n"
   ]
  },
  {
   "cell_type": "code",
   "execution_count": 2,
   "metadata": {},
   "outputs": [],
   "source": [
    "from IPython.display import HTML\n",
    "from time import sleep"
   ]
  },
  {
   "cell_type": "code",
   "execution_count": 3,
   "metadata": {},
   "outputs": [],
   "source": [
    "url = 'https://thebook.io/080268/part01/'\n",
    "driver.get(url)"
   ]
  },
  {
   "cell_type": "code",
   "execution_count": 4,
   "metadata": {},
   "outputs": [],
   "source": [
    "def nextpage():\n",
    "    next_button = driver.find_elements_by_css_selector(\"#next-page\")[0]\n",
    "    next_button.click()"
   ]
  },
  {
   "cell_type": "code",
   "execution_count": 178,
   "metadata": {},
   "outputs": [
    {
     "name": "stderr",
     "output_type": "stream",
     "text": [
      "/tmp/ipykernel_25969/3621445373.py:2: DeprecationWarning: find_elements_by_css_selector is deprecated. Please use find_elements(by=By.CSS_SELECTOR, value=css_selector) instead\n",
      "  next_button = driver.find_elements_by_css_selector(\"#next-page\")[0]\n"
     ]
    }
   ],
   "source": [
    "nextpage()"
   ]
  },
  {
   "cell_type": "code",
   "execution_count": 3,
   "metadata": {},
   "outputs": [],
   "source": [
    "head = '''<head><style type=\"text/css\">@charset \"UTF-8\";[ng\\:cloak],[ng-cloak],[data-ng-cloak],[x-ng-cloak],.ng-cloak,.x-ng-cloak,.ng-hide:not(.ng-hide-animate){display:none !important;}ng\\:form{display:block;}.ng-animate-shim{visibility:hidden;}.ng-anchor{position:absolute;}</style>\n",
    "    <meta charset=\"utf-8\">\n",
    "    <title>Let's Get IT SQL 프로그래밍: 1장 데이터베이스와 SQL 알아보기</title>\n",
    "    <link rel=\"canonical\" href=\"https://thebook.io/080268/part01/ch01/\">\n",
    "    <meta name=\"viewport\" content=\"width=device-width,minimum-scale=1,initial-scale=1,user-scalable=yes\">\n",
    "    <meta http-equiv=\"Content-Type\" content=\"text/html; charset=UTF-8\">\n",
    "    <meta http-equiv=\"X-UA-Compatible\" content=\"IE=edge,chrome=1\">\n",
    "    <meta name=\"keywords\" content=\"더북, TheBook, Let's Get IT SQL 프로그래밍: 1장 데이터베이스와 SQL 알아보기\">\n",
    "    <meta name=\"description\" content=\"더북(TheBook): (주)도서출판 길벗에서 제공하는 IT 도서 열람 서비스입니다.\">\n",
    "    <link rel=\"stylesheet\" href=\"https://fonts.googleapis.com/icon?family=Material+Icons\">\n",
    "    <link rel=\"stylesheet\" href=\"https://code.getmdl.io/1.3.0/material.deep_purple-pink.min.css\">\n",
    "    <link rel=\"stylesheet\" href=\"https://netdna.bootstrapcdn.com/bootstrap/3.3.6/css/bootstrap.min.css\" type=\"text/css\">\n",
    "    <link rel=\"stylesheet\" href=\"https://cdn.rawgit.com/Foxandxss/angular-toastr/master/dist/angular-toastr.min.css\">\n",
    "    <link rel=\"stylesheet\" href=\"https://thebook.io/css/fonts.css\" type=\"text/css\">\n",
    "    <link rel=\"stylesheet\" href=\"https://thebook.io/css/styles.css\" type=\"text/css\">\n",
    "    <link rel=\"stylesheet\" href=\"https://thebook.io/css/master.css\" type=\"text/css\">\n",
    "    <link rel=\"stylesheet\" href=\"https://thebook.io/css/minprep.css\" type=\"text/css\">\n",
    "    <link rel=\"stylesheet\" href=\"https://thebook.io/css/book/080268.css\" type=\"text/css\">\n",
    "    <link rel=\"stylesheet\" href=\"https://thebook.io/css/app.css\" type=\"text/css\">\n",
    "    <link rel=\"stylesheet\" href=\"https://thebook.io/css/main.chunk.css\" type=\"text/css\">\n",
    "    <script async=\"\" src=\"//www.google-analytics.com/analytics.js\"></script><script defer=\"\" src=\"https://code.getmdl.io/1.3.0/material.min.js\"></script>\n",
    "    <script src=\"https://thebook.io/js/helpers.js\" type=\"text/javascript\"></script>\n",
    "    <script src=\"https://ajax.googleapis.com/ajax/libs/angularjs/1.4.4/angular.min.js\"></script>\n",
    "    <script src=\"https://ajax.googleapis.com/ajax/libs/angularjs/1.4.4/angular-animate.min.js\"></script>\n",
    "    <script src=\"https://cdnjs.cloudflare.com/ajax/libs/angular-ui-bootstrap/0.14.3/ui-bootstrap-tpls.min.js\"></script>\n",
    "    <script src=\"https://cdn.rawgit.com/Foxandxss/angular-toastr/master/dist/angular-toastr.tpls.min.js\"></script>\n",
    "    <script src=\"https://thebook.io/js/app.js\" type=\"text/javascript\"></script>\n",
    "</head>'''"
   ]
  },
  {
   "cell_type": "code",
   "execution_count": 4,
   "metadata": {},
   "outputs": [],
   "source": [
    "soup = BeautifulSoup(driver.page_source, 'html.parser')"
   ]
  },
  {
   "cell_type": "code",
   "execution_count": 5,
   "metadata": {},
   "outputs": [],
   "source": [
    "def divbox(driver) -> str:\n",
    "    soup = BeautifulSoup(driver.page_source, 'html.parser')\n",
    "    contents = head+str(soup.select(\".thebook-container\")[0])\n",
    "    return contents "
   ]
  },
  {
   "cell_type": "code",
   "execution_count": 7,
   "metadata": {},
   "outputs": [],
   "source": [
    "import os\n",
    "for i in os.listdir('data/textbook/'):\n",
    "    os.system('mv '+'data/textbook/'+i+' data/textbook/'+i.strip(\".html\")+'.html')"
   ]
  },
  {
   "cell_type": "code",
   "execution_count": 53,
   "metadata": {},
   "outputs": [
    {
     "name": "stderr",
     "output_type": "stream",
     "text": [
      "/tmp/ipykernel_4177/3621445373.py:2: DeprecationWarning: find_elements_by_css_selector is deprecated. Please use find_elements(by=By.CSS_SELECTOR, value=css_selector) instead\n",
      "  next_button = driver.find_elements_by_css_selector(\"#next-page\")[0]\n"
     ]
    }
   ],
   "source": [
    "count = 0\n",
    "for i in range(1,1000):\n",
    "    try:\n",
    "        with open(f'data/textbook/page{count}.html','w') as f:\n",
    "            f.write(divbox(driver))\n",
    "        nextpage()\n",
    "        count += 1\n",
    "    except:\n",
    "        ..."
   ]
  },
  {
   "cell_type": "code",
   "execution_count": 9,
   "metadata": {},
   "outputs": [],
   "source": [
    "def openpage(num):\n",
    "    num -= 21\n",
    "    url = 'file:///media/hchang/ssd/hchang/working/more/surfing/sql_textbook/data/textbook/page'\n",
    "    driver.get(f'{url}{num}.html')\n",
    "    print(f'{url}{num}.html')\n",
    "    \n",
    "def next_p():\n",
    "    url = 'file:///media/hchang/ssd/hchang/working/more/surfing/sql_textbook/data/textbook/page'\n",
    "    num = int(driver.current_url.lstrip(url).rstrip('.html'))\n",
    "    driver.get(f'{url}{num+1}.html')\n",
    "    print(num+22)\n",
    "\n",
    "def prev_p():\n",
    "    url = 'file:///media/hchang/ssd/hchang/working/more/surfing/sql_textbook/data/textbook/page'\n",
    "    num = int(driver.current_url.lstrip(url).rstrip('.html'))\n",
    "    driver.get(f'{url}{num-1}.html')\n",
    "    print(num+20)\n"
   ]
  },
  {
   "cell_type": "code",
   "execution_count": 1,
   "metadata": {},
   "outputs": [
    {
     "data": {
      "text/plain": [
       "'\\n096_2.jpg\\n096_1.jpg\\n095_2.jpg\\n095_1.jpg\\n'"
      ]
     },
     "execution_count": 1,
     "metadata": {},
     "output_type": "execute_result"
    }
   ],
   "source": [
    "'''\n",
    "096_2.jpg\n",
    "096_1.jpg\n",
    "095_2.jpg\n",
    "095_1.jpg\n",
    "'''"
   ]
  },
  {
   "cell_type": "code",
   "execution_count": 11,
   "metadata": {},
   "outputs": [
    {
     "name": "stdout",
     "output_type": "stream",
     "text": [
      "file:///media/hchang/ssd/hchang/working/more/surfing/sql_textbook/data/textbook/page169.html\n"
     ]
    }
   ],
   "source": [
    "openpage(190)"
   ]
  },
  {
   "cell_type": "code",
   "execution_count": 8,
   "metadata": {},
   "outputs": [
    {
     "name": "stdout",
     "output_type": "stream",
     "text": [
      "170\n"
     ]
    }
   ],
   "source": [
    "next_p()"
   ]
  },
  {
   "cell_type": "code",
   "execution_count": 67,
   "metadata": {},
   "outputs": [
    {
     "name": "stdout",
     "output_type": "stream",
     "text": [
      "83\n"
     ]
    }
   ],
   "source": [
    "prev_p()"
   ]
  },
  {
   "cell_type": "code",
   "execution_count": 25,
   "metadata": {},
   "outputs": [],
   "source": [
    "import requests as rq\n",
    "\n",
    "url = 'https://thebook.io/img/080268/'\n",
    "# task = ['icon_lightning.jpg']\n",
    "task = '''111_1.jpg\n",
    "111_2.jpg'''.split('\\n')\n",
    "for i in task:\n",
    "    image = rq.get(url+i)\n",
    "    with open(i,'wb') as f:\n",
    "        f.write(image.content)\n",
    "# url = 'https://thebook.io/img/080268/'\n",
    "# task = '''096_2.jpg\n",
    "# 096_1.jpg\n",
    "# 095_2.jpg\n",
    "# 095_1.jpg'''.split('\\n')\n",
    "# for i in task:\n",
    "#     image = rq.get(url+i)\n",
    "#     with open(i,'wb') as f:\n",
    "#         f.write(image.content)\n",
    "\n"
   ]
  },
  {
   "cell_type": "code",
   "execution_count": 113,
   "metadata": {},
   "outputs": [
    {
     "name": "stdout",
     "output_type": "stream",
     "text": [
      "[sudo] password for hchang: \n"
     ]
    }
   ],
   "source": [
    "# !sudo mv *.jpg /img/080268/"
   ]
  },
  {
   "cell_type": "code",
   "execution_count": 19,
   "metadata": {},
   "outputs": [
    {
     "data": {
      "text/html": [
       "<iframe src=\"https://www.google.com/maps/embed?pb=!1m14!1m12!1m3!1d3618.727010735933!2d126.837871!3d36.907291700000002!2m3!1f0!2f0!3f0!3m2!1i1024!2i768!4f13.1!5e0!3m2!1sen!2s!4v1404919738144\"> </iframe>"
      ],
      "text/plain": [
       "<IPython.core.display.HTML object>"
      ]
     },
     "execution_count": 19,
     "metadata": {},
     "output_type": "execute_result"
    }
   ],
   "source": [
    "from IPython.display import HTML\n",
    "HTML('<iframe src=\"https://www.google.com/maps/embed?pb=!1m14!1m12!1m3!1d3618.727010735933!2d126.837871!3d36.907291700000002!2m3!1f0!2f0!3f0!3m2!1i1024!2i768!4f13.1!5e0!3m2!1sen!2s!4v1404919738144\"> </iframe>')"
   ]
  },
  {
   "cell_type": "markdown",
   "metadata": {},
   "source": [
    "그래서 MySQL에서는 기본 키를 생성하면 자동으로 PRIMARY라는 이름으로 만들어집니다. 참고로 다른 RDBMS에서는 기본 키가 별도의 이름을 갖고 있으며, 기본 키 생성 시 이름을 지정할 수 있습니다."
   ]
  }
 ],
 "metadata": {
  "kernelspec": {
   "display_name": "Python 3.10.4 ('env')",
   "language": "python",
   "name": "python3"
  },
  "language_info": {
   "codemirror_mode": {
    "name": "ipython",
    "version": 3
   },
   "file_extension": ".py",
   "mimetype": "text/x-python",
   "name": "python",
   "nbconvert_exporter": "python",
   "pygments_lexer": "ipython3",
   "version": "3.10.4"
  },
  "orig_nbformat": 4,
  "vscode": {
   "interpreter": {
    "hash": "a39879ae9ccb927afc0cf2ce944a9e89e93d1a75059893b60dcfa8646ca8faf1"
   }
  }
 },
 "nbformat": 4,
 "nbformat_minor": 2
}
