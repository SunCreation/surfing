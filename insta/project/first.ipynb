{
 "cells": [
  {
   "cell_type": "markdown",
   "metadata": {},
   "source": [
    "# 5.1 인스타그램 크롤링 "
   ]
  },
  {
   "cell_type": "markdown",
   "metadata": {},
   "source": [
    "### 5.1.2 인스타그램 접속 후 로그인하기"
   ]
  },
  {
   "cell_type": "code",
   "execution_count": 1,
   "metadata": {},
   "outputs": [],
   "source": [
    "# 예제 5-1 chromedriver 열기\n",
    "import chromedriver_autoinstaller\n",
    "from selenium import webdriver\n",
    "from bs4 import BeautifulSoup\n",
    "\n",
    "chromedriver_autoinstaller.install()\n",
    "driver = webdriver.Chrome()\n"
   ]
  },
  {
   "cell_type": "markdown",
   "metadata": {},
   "source": [
    "#### 안내사항\n",
    "로그인을 해야만 게시물을 볼 수 있도록 인스타그램 운영 정책이 변경되었습니다(2020.04.27)  \n",
    "인스타그램 로그인을 하는 코드를 추가하였습니다.   \n",
    "직접 브라우저에 계정 정보를 입력해도 되고, 코드를 이용해도 됩니다.   \n",
    "다만,  본인의 계정/비번 정보가 외부에 노출되지 않도록 주의하시기 바랍니다. \n",
    "\n",
    "※ 주의) `인스타 로그인`을 위해 계정 `아이디` / `비번` 입력이 필요합니다. "
   ]
  },
  {
   "cell_type": "code",
   "execution_count": 2,
   "metadata": {},
   "outputs": [],
   "source": [
    "# 예제 5-2 인스타그램 접속하기\n",
    "import time\n",
    "\n",
    "# 인스타그램 접속하기\n",
    "driver.get('https://www.instargram.com')\n",
    "time.sleep(2)"
   ]
  },
  {
   "cell_type": "code",
   "execution_count": 3,
   "metadata": {},
   "outputs": [
    {
     "name": "stderr",
     "output_type": "stream",
     "text": [
      "/tmp/ipykernel_9393/2949803461.py:1: DeprecationWarning: find_element_by_css_selector is deprecated. Please use find_element(by=By.CSS_SELECTOR, value=css_selector) instead\n",
      "  button = driver.find_element_by_css_selector('#details-button')\n",
      "/tmp/ipykernel_9393/2949803461.py:3: DeprecationWarning: find_element_by_css_selector is deprecated. Please use find_element(by=By.CSS_SELECTOR, value=css_selector) instead\n",
      "  link = driver.find_element_by_css_selector('#proceed-link')\n"
     ]
    }
   ],
   "source": [
    "button = driver.find_element_by_css_selector('#details-button')\n",
    "button.click()\n",
    "link = driver.find_element_by_css_selector('#proceed-link')\n",
    "link.click()\n"
   ]
  },
  {
   "cell_type": "code",
   "execution_count": 4,
   "metadata": {},
   "outputs": [],
   "source": [
    "# driver.get('#') 작동안함."
   ]
  },
  {
   "cell_type": "markdown",
   "metadata": {},
   "source": [
    "---"
   ]
  },
  {
   "cell_type": "markdown",
   "metadata": {},
   "source": [
    "#### ※ 로그인 페이지로 접속이 되지 않고 오류 화면이 보일 경우 아래 링크를 참고하세요\n",
    "https://www.notion.so/playwithdata/c02e510507504b42ae6073c1fbb46f29"
   ]
  },
  {
   "cell_type": "markdown",
   "metadata": {},
   "source": [
    "---"
   ]
  },
  {
   "cell_type": "code",
   "execution_count": 5,
   "metadata": {},
   "outputs": [
    {
     "name": "stderr",
     "output_type": "stream",
     "text": [
      "/tmp/ipykernel_9393/316514582.py:6: DeprecationWarning: find_elements_by_css_selector is deprecated. Please use find_elements(by=By.CSS_SELECTOR, value=css_selector) instead\n",
      "  input_id = driver.find_elements_by_css_selector('input._2hvTZ.pexuQ.zyHYP')[0]\n",
      "/tmp/ipykernel_9393/316514582.py:12: DeprecationWarning: find_elements_by_css_selector is deprecated. Please use find_elements(by=By.CSS_SELECTOR, value=css_selector) instead\n",
      "  input_pw = driver.find_elements_by_css_selector('input._2hvTZ.pexuQ.zyHYP')[1]\n"
     ]
    }
   ],
   "source": [
    "# 예제 5-3 인스타계정으로 로그인하기\n",
    "with open('private', 'r') as f:\n",
    "    email = f.readline().strip()\n",
    "    password = f.readline().strip()\n",
    "   ### 계정 정보 수정 필요\n",
    "input_id = driver.find_elements_by_css_selector('input._2hvTZ.pexuQ.zyHYP')[0]\n",
    "input_id.clear()\n",
    "time.sleep(0.3)\n",
    "input_id.send_keys(email)\n",
    "\n",
    " ### 비번 정보 수정 필요\n",
    "input_pw = driver.find_elements_by_css_selector('input._2hvTZ.pexuQ.zyHYP')[1]\n",
    "input_pw.clear()\n",
    "time.sleep(0.3)\n",
    "input_pw.send_keys(password)\n",
    "input_pw.submit()\n",
    "time.sleep(3)"
   ]
  },
  {
   "cell_type": "code",
   "execution_count": 7,
   "metadata": {},
   "outputs": [
    {
     "name": "stderr",
     "output_type": "stream",
     "text": [
      "/tmp/ipykernel_9393/2168658101.py:2: DeprecationWarning: find_elements_by_css_selector is deprecated. Please use find_elements(by=By.CSS_SELECTOR, value=css_selector) instead\n",
      "  button = driver.find_elements_by_css_selector('button.sqdOP.yWX7d.y3zKF')[0]\n"
     ]
    }
   ],
   "source": [
    "# 로그인 정보 저장하겠냐는 메세지 \n",
    "button = driver.find_elements_by_css_selector('button.sqdOP.yWX7d.y3zKF')[0]\n",
    "button.click()"
   ]
  },
  {
   "cell_type": "code",
   "execution_count": 8,
   "metadata": {},
   "outputs": [
    {
     "name": "stderr",
     "output_type": "stream",
     "text": [
      "/tmp/ipykernel_9393/3549363966.py:5: DeprecationWarning: find_elements_by_css_selector is deprecated. Please use find_elements(by=By.CSS_SELECTOR, value=css_selector) instead\n",
      "  button = driver.find_elements_by_css_selector('.aOOlW.HoLwm')[0]\n"
     ]
    }
   ],
   "source": [
    "# 알림을 키라는 메세지에 싫다는 의사\n",
    "button = driver.find_elements_by_css_selector('.aOOlW.HoLwm')[0]\n",
    "button.click()\n"
   ]
  },
  {
   "cell_type": "markdown",
   "metadata": {},
   "source": [
    "위 코드 실행후 인스타그램 로그인이 완료되어야 합니다.  \n",
    "\n",
    "추가로, 2단계 인증이 필요하다고 나올 경우 인증까지 완료해주세요. \n",
    "\n",
    "인스타계정이 아닌 페이스북계정으로 로그인이 필요하거나  코드에 아이디/비번 입력하는 것이 부담되는 분은\n",
    "\n",
    "수기로 직접 입력해서 로그인까지 완료하시면 됩니다. \n",
    "\n"
   ]
  },
  {
   "cell_type": "markdown",
   "metadata": {},
   "source": [
    "### 5.1.3 인스타그램 검색결과 URL 만들어서 접속하기"
   ]
  },
  {
   "cell_type": "code",
   "execution_count": 9,
   "metadata": {},
   "outputs": [],
   "source": [
    "# 예제 5-4 검색결과 URL 만드는 함수\n",
    "def insta_searching(word):\n",
    "    \n",
    "    url = 'https://www.instagram.com/explore/tags/' + word\n",
    "    return url    "
   ]
  },
  {
   "cell_type": "code",
   "execution_count": 10,
   "metadata": {},
   "outputs": [],
   "source": [
    "# 예제 5-5 검색결과 페이지 접속하기\n",
    "word = \"제주도맛집\"\n",
    "url = insta_searching(word)\n",
    "driver.get(url)"
   ]
  },
  {
   "cell_type": "markdown",
   "metadata": {},
   "source": [
    "### 5.1.4 첫 번째 게시글 열기 "
   ]
  },
  {
   "cell_type": "code",
   "execution_count": 11,
   "metadata": {},
   "outputs": [
    {
     "name": "stderr",
     "output_type": "stream",
     "text": [
      "/tmp/ipykernel_9393/3062274932.py:3: DeprecationWarning: find_element_by_css_selector is deprecated. Please use find_element(by=By.CSS_SELECTOR, value=css_selector) instead\n",
      "  first = driver.find_element_by_css_selector(\"div._9AhH0\")\n"
     ]
    }
   ],
   "source": [
    "# 예제 5-6 HTML에서 첫번째 게시글 찾아 클릭하기\n",
    "def select_first(driver):\n",
    "    first = driver.find_element_by_css_selector(\"div._9AhH0\")\n",
    "    first.click()\n",
    "    time.sleep(1)\n",
    "    \n",
    "select_first(driver)"
   ]
  },
  {
   "cell_type": "markdown",
   "metadata": {},
   "source": [
    "### 5.1.5 게시글 정보 가져오기 "
   ]
  },
  {
   "cell_type": "code",
   "execution_count": 34,
   "metadata": {},
   "outputs": [
    {
     "data": {
      "text/plain": [
       "['redrabbit_973• 영국찻집워낙 유명한 곳이라 언제나 뒤로 미뤘는데, 급 들렸다 횡재💚 너무... 너무 아름다와.... 💚 .....#제주 #제주도 #제주맛집 #제주도맛집 #제주카페 #제주카페추천 #애월카페 #애월카페추천 #제주여행 #여행 #여행스타그램 #여행에미치다31m',\n",
       " '2022-05-10',\n",
       " '58 likes',\n",
       " '영국찻집',\n",
       " ['#제주',\n",
       "  '#제주도',\n",
       "  '#제주맛집',\n",
       "  '#제주도맛집',\n",
       "  '#제주카페',\n",
       "  '#제주카페추천',\n",
       "  '#애월카페',\n",
       "  '#애월카페추천',\n",
       "  '#제주여행',\n",
       "  '#여행',\n",
       "  '#여행스타그램',\n",
       "  '#여행에미치다31m']]"
      ]
     },
     "execution_count": 34,
     "metadata": {},
     "output_type": "execute_result"
    }
   ],
   "source": [
    "# 예제 5-7 게시글 정보 가져오기\n",
    "import re\n",
    "from bs4 import BeautifulSoup\n",
    "import unicodedata\n",
    "\n",
    "def get_content(driver):\n",
    "    # ① 현재 페이지 html 정보 가져오기\n",
    "    html = driver.page_source\n",
    "    soup = BeautifulSoup(html, 'html.parser')\n",
    "    # ② 본문 내용 가져오기\n",
    "    try:\n",
    "        content = soup.select('div.C4VMK')[0].text\n",
    "        # content = unicodedata.normalize('NFC', content) \n",
    "    except:\n",
    "        content = ' '\n",
    "    # ③ 본문 내용에서 해시태그 가져오기(정규식 활용)\n",
    "    tags = re.findall(r'#[^\\s#,\\\\]+', content)  \n",
    "    # ④ 작성일자 정보 가져오기\n",
    "    date = soup.select('time._1o9PC')[0]['datetime'][:10]\n",
    "    # ⑤ 좋아요 수 가져오기\n",
    "    try: \n",
    "        # _7UhW9   xLCgt      MMzan   KV-D4           uL8Hv        T0kll # 이름\n",
    "        # _7UhW9   xLCgt        qyrsm KV-D4               fDxYl    T0kll # 수\n",
    "        # _7UhW9   xLCgt        qyrsm KV-D4           uL8Hv        T0kll # views \n",
    "        like = soup.select('div._7UhW9.xLCgt.qyrsm.fDxYl')[0].text#[0].text[4:-1]   \n",
    "    except:\n",
    "        like = 0\n",
    "    # ⑥ 위치정보 가져오기\n",
    "    try: \n",
    "        place = soup.select('div.M30cS')[0].text\n",
    "        place = unicodedata.normalize('NFC', place)\n",
    "    except:\n",
    "        place = ''\n",
    "    # ⑦ 수집한 정보 저장하기\n",
    "    data = [content, date, like, place, tags]\n",
    "    return data\n",
    "\n",
    "get_content(driver)"
   ]
  },
  {
   "cell_type": "markdown",
   "metadata": {},
   "source": [
    "### 5.1.6 다음 게시글 열기"
   ]
  },
  {
   "cell_type": "code",
   "execution_count": 13,
   "metadata": {},
   "outputs": [
    {
     "name": "stderr",
     "output_type": "stream",
     "text": [
      "/tmp/ipykernel_9393/3818341435.py:4: DeprecationWarning: find_element_by_css_selector is deprecated. Please use find_element(by=By.CSS_SELECTOR, value=css_selector) instead\n",
      "  right = driver.find_element_by_css_selector('.l8mY4 button')\n"
     ]
    }
   ],
   "source": [
    "# 예제 5-8 다음 게시글 열기\n",
    "def move_next(driver):\n",
    "\n",
    "    right = driver.find_element_by_css_selector('.l8mY4 button')\n",
    "    # print(right)\n",
    "    right.send_keys('\\n')\n",
    "    time.sleep(1)\n",
    "\n",
    "move_next(driver)"
   ]
  },
  {
   "cell_type": "code",
   "execution_count": 37,
   "metadata": {},
   "outputs": [
    {
     "name": "stderr",
     "output_type": "stream",
     "text": [
      "/tmp/ipykernel_9393/3818341435.py:4: DeprecationWarning: find_element_by_css_selector is deprecated. Please use find_element(by=By.CSS_SELECTOR, value=css_selector) instead\n",
      "  right = driver.find_element_by_css_selector('.l8mY4 button')\n"
     ]
    },
    {
     "ename": "NoSuchElementException",
     "evalue": "Message: no such element: Unable to locate element: {\"method\":\"css selector\",\"selector\":\".l8mY4 button\"}\n  (Session info: chrome=100.0.4896.60)\nStacktrace:\n#0 0x55985a8b9013 <unknown>\n#1 0x55985a61ba08 <unknown>\n#2 0x55985a651fb6 <unknown>\n#3 0x55985a652171 <unknown>\n#4 0x55985a684dd4 <unknown>\n#5 0x55985a66f95d <unknown>\n#6 0x55985a682b94 <unknown>\n#7 0x55985a66f823 <unknown>\n#8 0x55985a64508a <unknown>\n#9 0x55985a6461e5 <unknown>\n#10 0x55985a8e6e5d <unknown>\n#11 0x55985a900061 <unknown>\n#12 0x55985a8e8bb5 <unknown>\n#13 0x55985a900e08 <unknown>\n#14 0x55985a8dc2f0 <unknown>\n#15 0x55985a91c988 <unknown>\n#16 0x55985a91cb08 <unknown>\n#17 0x55985a9365dd <unknown>\n#18 0x7feff7d62609 <unknown>\n",
     "output_type": "error",
     "traceback": [
      "\u001b[0;31m---------------------------------------------------------------------------\u001b[0m",
      "\u001b[0;31mNoSuchElementException\u001b[0m                    Traceback (most recent call last)",
      "\u001b[1;32m/home/hchang/Working/more/crawling/insta/project/first.ipynb Cell 24'\u001b[0m in \u001b[0;36m<cell line: 1>\u001b[0;34m()\u001b[0m\n\u001b[0;32m----> <a href='vscode-notebook-cell:/home/hchang/Working/more/crawling/insta/project/first.ipynb#ch0000023?line=0'>1</a>\u001b[0m move_next(driver)\n",
      "\u001b[1;32m/home/hchang/Working/more/crawling/insta/project/first.ipynb Cell 23'\u001b[0m in \u001b[0;36mmove_next\u001b[0;34m(driver)\u001b[0m\n\u001b[1;32m      <a href='vscode-notebook-cell:/home/hchang/Working/more/crawling/insta/project/first.ipynb#ch0000022?line=1'>2</a>\u001b[0m \u001b[39mdef\u001b[39;00m \u001b[39mmove_next\u001b[39m(driver):\n\u001b[0;32m----> <a href='vscode-notebook-cell:/home/hchang/Working/more/crawling/insta/project/first.ipynb#ch0000022?line=3'>4</a>\u001b[0m     right \u001b[39m=\u001b[39m driver\u001b[39m.\u001b[39;49mfind_element_by_css_selector(\u001b[39m'\u001b[39;49m\u001b[39m.l8mY4 button\u001b[39;49m\u001b[39m'\u001b[39;49m)\n\u001b[1;32m      <a href='vscode-notebook-cell:/home/hchang/Working/more/crawling/insta/project/first.ipynb#ch0000022?line=4'>5</a>\u001b[0m     \u001b[39m# print(right)\u001b[39;00m\n\u001b[1;32m      <a href='vscode-notebook-cell:/home/hchang/Working/more/crawling/insta/project/first.ipynb#ch0000022?line=5'>6</a>\u001b[0m     right\u001b[39m.\u001b[39msend_keys(\u001b[39m'\u001b[39m\u001b[39m\\n\u001b[39;00m\u001b[39m'\u001b[39m)\n",
      "File \u001b[0;32m~/Working/env/analysis/lib/python3.8/site-packages/selenium/webdriver/remote/webdriver.py:809\u001b[0m, in \u001b[0;36mWebDriver.find_element_by_css_selector\u001b[0;34m(self, css_selector)\u001b[0m\n\u001b[1;32m    <a href='file:///home/hchang/Working/env/analysis/lib/python3.8/site-packages/selenium/webdriver/remote/webdriver.py?line=786'>787</a>\u001b[0m \u001b[39m\"\"\"\u001b[39;00m\n\u001b[1;32m    <a href='file:///home/hchang/Working/env/analysis/lib/python3.8/site-packages/selenium/webdriver/remote/webdriver.py?line=787'>788</a>\u001b[0m \u001b[39mFinds an element by css selector.\u001b[39;00m\n\u001b[1;32m    <a href='file:///home/hchang/Working/env/analysis/lib/python3.8/site-packages/selenium/webdriver/remote/webdriver.py?line=788'>789</a>\u001b[0m \n\u001b[0;32m   (...)\u001b[0m\n\u001b[1;32m    <a href='file:///home/hchang/Working/env/analysis/lib/python3.8/site-packages/selenium/webdriver/remote/webdriver.py?line=801'>802</a>\u001b[0m \u001b[39m        element = driver.find_element_by_css_selector('#foo')\u001b[39;00m\n\u001b[1;32m    <a href='file:///home/hchang/Working/env/analysis/lib/python3.8/site-packages/selenium/webdriver/remote/webdriver.py?line=802'>803</a>\u001b[0m \u001b[39m\"\"\"\u001b[39;00m\n\u001b[1;32m    <a href='file:///home/hchang/Working/env/analysis/lib/python3.8/site-packages/selenium/webdriver/remote/webdriver.py?line=803'>804</a>\u001b[0m warnings\u001b[39m.\u001b[39mwarn(\n\u001b[1;32m    <a href='file:///home/hchang/Working/env/analysis/lib/python3.8/site-packages/selenium/webdriver/remote/webdriver.py?line=804'>805</a>\u001b[0m     \u001b[39m\"\u001b[39m\u001b[39mfind_element_by_css_selector is deprecated. Please use find_element(by=By.CSS_SELECTOR, value=css_selector) instead\u001b[39m\u001b[39m\"\u001b[39m,\n\u001b[1;32m    <a href='file:///home/hchang/Working/env/analysis/lib/python3.8/site-packages/selenium/webdriver/remote/webdriver.py?line=805'>806</a>\u001b[0m     \u001b[39mDeprecationWarning\u001b[39;00m,\n\u001b[1;32m    <a href='file:///home/hchang/Working/env/analysis/lib/python3.8/site-packages/selenium/webdriver/remote/webdriver.py?line=806'>807</a>\u001b[0m     stacklevel\u001b[39m=\u001b[39m\u001b[39m2\u001b[39m,\n\u001b[1;32m    <a href='file:///home/hchang/Working/env/analysis/lib/python3.8/site-packages/selenium/webdriver/remote/webdriver.py?line=807'>808</a>\u001b[0m )\n\u001b[0;32m--> <a href='file:///home/hchang/Working/env/analysis/lib/python3.8/site-packages/selenium/webdriver/remote/webdriver.py?line=808'>809</a>\u001b[0m \u001b[39mreturn\u001b[39;00m \u001b[39mself\u001b[39;49m\u001b[39m.\u001b[39;49mfind_element(by\u001b[39m=\u001b[39;49mBy\u001b[39m.\u001b[39;49mCSS_SELECTOR, value\u001b[39m=\u001b[39;49mcss_selector)\n",
      "File \u001b[0;32m~/Working/env/analysis/lib/python3.8/site-packages/selenium/webdriver/remote/webdriver.py:1248\u001b[0m, in \u001b[0;36mWebDriver.find_element\u001b[0;34m(self, by, value)\u001b[0m\n\u001b[1;32m   <a href='file:///home/hchang/Working/env/analysis/lib/python3.8/site-packages/selenium/webdriver/remote/webdriver.py?line=1244'>1245</a>\u001b[0m     by \u001b[39m=\u001b[39m By\u001b[39m.\u001b[39mCSS_SELECTOR\n\u001b[1;32m   <a href='file:///home/hchang/Working/env/analysis/lib/python3.8/site-packages/selenium/webdriver/remote/webdriver.py?line=1245'>1246</a>\u001b[0m     value \u001b[39m=\u001b[39m \u001b[39m'\u001b[39m\u001b[39m[name=\u001b[39m\u001b[39m\"\u001b[39m\u001b[39m%s\u001b[39;00m\u001b[39m\"\u001b[39m\u001b[39m]\u001b[39m\u001b[39m'\u001b[39m \u001b[39m%\u001b[39m value\n\u001b[0;32m-> <a href='file:///home/hchang/Working/env/analysis/lib/python3.8/site-packages/selenium/webdriver/remote/webdriver.py?line=1247'>1248</a>\u001b[0m \u001b[39mreturn\u001b[39;00m \u001b[39mself\u001b[39;49m\u001b[39m.\u001b[39;49mexecute(Command\u001b[39m.\u001b[39;49mFIND_ELEMENT, {\n\u001b[1;32m   <a href='file:///home/hchang/Working/env/analysis/lib/python3.8/site-packages/selenium/webdriver/remote/webdriver.py?line=1248'>1249</a>\u001b[0m     \u001b[39m'\u001b[39;49m\u001b[39musing\u001b[39;49m\u001b[39m'\u001b[39;49m: by,\n\u001b[1;32m   <a href='file:///home/hchang/Working/env/analysis/lib/python3.8/site-packages/selenium/webdriver/remote/webdriver.py?line=1249'>1250</a>\u001b[0m     \u001b[39m'\u001b[39;49m\u001b[39mvalue\u001b[39;49m\u001b[39m'\u001b[39;49m: value})[\u001b[39m'\u001b[39m\u001b[39mvalue\u001b[39m\u001b[39m'\u001b[39m]\n",
      "File \u001b[0;32m~/Working/env/analysis/lib/python3.8/site-packages/selenium/webdriver/remote/webdriver.py:425\u001b[0m, in \u001b[0;36mWebDriver.execute\u001b[0;34m(self, driver_command, params)\u001b[0m\n\u001b[1;32m    <a href='file:///home/hchang/Working/env/analysis/lib/python3.8/site-packages/selenium/webdriver/remote/webdriver.py?line=422'>423</a>\u001b[0m response \u001b[39m=\u001b[39m \u001b[39mself\u001b[39m\u001b[39m.\u001b[39mcommand_executor\u001b[39m.\u001b[39mexecute(driver_command, params)\n\u001b[1;32m    <a href='file:///home/hchang/Working/env/analysis/lib/python3.8/site-packages/selenium/webdriver/remote/webdriver.py?line=423'>424</a>\u001b[0m \u001b[39mif\u001b[39;00m response:\n\u001b[0;32m--> <a href='file:///home/hchang/Working/env/analysis/lib/python3.8/site-packages/selenium/webdriver/remote/webdriver.py?line=424'>425</a>\u001b[0m     \u001b[39mself\u001b[39;49m\u001b[39m.\u001b[39;49merror_handler\u001b[39m.\u001b[39;49mcheck_response(response)\n\u001b[1;32m    <a href='file:///home/hchang/Working/env/analysis/lib/python3.8/site-packages/selenium/webdriver/remote/webdriver.py?line=425'>426</a>\u001b[0m     response[\u001b[39m'\u001b[39m\u001b[39mvalue\u001b[39m\u001b[39m'\u001b[39m] \u001b[39m=\u001b[39m \u001b[39mself\u001b[39m\u001b[39m.\u001b[39m_unwrap_value(\n\u001b[1;32m    <a href='file:///home/hchang/Working/env/analysis/lib/python3.8/site-packages/selenium/webdriver/remote/webdriver.py?line=426'>427</a>\u001b[0m         response\u001b[39m.\u001b[39mget(\u001b[39m'\u001b[39m\u001b[39mvalue\u001b[39m\u001b[39m'\u001b[39m, \u001b[39mNone\u001b[39;00m))\n\u001b[1;32m    <a href='file:///home/hchang/Working/env/analysis/lib/python3.8/site-packages/selenium/webdriver/remote/webdriver.py?line=427'>428</a>\u001b[0m     \u001b[39mreturn\u001b[39;00m response\n",
      "File \u001b[0;32m~/Working/env/analysis/lib/python3.8/site-packages/selenium/webdriver/remote/errorhandler.py:247\u001b[0m, in \u001b[0;36mErrorHandler.check_response\u001b[0;34m(self, response)\u001b[0m\n\u001b[1;32m    <a href='file:///home/hchang/Working/env/analysis/lib/python3.8/site-packages/selenium/webdriver/remote/errorhandler.py?line=244'>245</a>\u001b[0m         alert_text \u001b[39m=\u001b[39m value[\u001b[39m'\u001b[39m\u001b[39malert\u001b[39m\u001b[39m'\u001b[39m]\u001b[39m.\u001b[39mget(\u001b[39m'\u001b[39m\u001b[39mtext\u001b[39m\u001b[39m'\u001b[39m)\n\u001b[1;32m    <a href='file:///home/hchang/Working/env/analysis/lib/python3.8/site-packages/selenium/webdriver/remote/errorhandler.py?line=245'>246</a>\u001b[0m     \u001b[39mraise\u001b[39;00m exception_class(message, screen, stacktrace, alert_text)  \u001b[39m# type: ignore[call-arg]  # mypy is not smart enough here\u001b[39;00m\n\u001b[0;32m--> <a href='file:///home/hchang/Working/env/analysis/lib/python3.8/site-packages/selenium/webdriver/remote/errorhandler.py?line=246'>247</a>\u001b[0m \u001b[39mraise\u001b[39;00m exception_class(message, screen, stacktrace)\n",
      "\u001b[0;31mNoSuchElementException\u001b[0m: Message: no such element: Unable to locate element: {\"method\":\"css selector\",\"selector\":\".l8mY4 button\"}\n  (Session info: chrome=100.0.4896.60)\nStacktrace:\n#0 0x55985a8b9013 <unknown>\n#1 0x55985a61ba08 <unknown>\n#2 0x55985a651fb6 <unknown>\n#3 0x55985a652171 <unknown>\n#4 0x55985a684dd4 <unknown>\n#5 0x55985a66f95d <unknown>\n#6 0x55985a682b94 <unknown>\n#7 0x55985a66f823 <unknown>\n#8 0x55985a64508a <unknown>\n#9 0x55985a6461e5 <unknown>\n#10 0x55985a8e6e5d <unknown>\n#11 0x55985a900061 <unknown>\n#12 0x55985a8e8bb5 <unknown>\n#13 0x55985a900e08 <unknown>\n#14 0x55985a8dc2f0 <unknown>\n#15 0x55985a91c988 <unknown>\n#16 0x55985a91cb08 <unknown>\n#17 0x55985a9365dd <unknown>\n#18 0x7feff7d62609 <unknown>\n"
     ]
    }
   ],
   "source": [
    "move_next(driver)"
   ]
  },
  {
   "cell_type": "markdown",
   "metadata": {},
   "source": [
    "### 5.1.7여러 게시글 정보 수집하기"
   ]
  },
  {
   "cell_type": "code",
   "execution_count": 1,
   "metadata": {},
   "outputs": [
    {
     "ename": "WebDriverException",
     "evalue": "Message: 'chromedriver' executable needs to be in PATH. Please see https://chromedriver.chromium.org/home\n",
     "output_type": "error",
     "traceback": [
      "\u001b[0;31m---------------------------------------------------------------------------\u001b[0m",
      "\u001b[0;31mFileNotFoundError\u001b[0m                         Traceback (most recent call last)",
      "File \u001b[0;32m~/Working/env/analysis/lib/python3.8/site-packages/selenium/webdriver/common/service.py:71\u001b[0m, in \u001b[0;36mService.start\u001b[0;34m(self)\u001b[0m\n\u001b[1;32m     <a href='file:///home/hchang/Working/env/analysis/lib/python3.8/site-packages/selenium/webdriver/common/service.py?line=69'>70</a>\u001b[0m     cmd\u001b[39m.\u001b[39mextend(\u001b[39mself\u001b[39m\u001b[39m.\u001b[39mcommand_line_args())\n\u001b[0;32m---> <a href='file:///home/hchang/Working/env/analysis/lib/python3.8/site-packages/selenium/webdriver/common/service.py?line=70'>71</a>\u001b[0m     \u001b[39mself\u001b[39m\u001b[39m.\u001b[39mprocess \u001b[39m=\u001b[39m subprocess\u001b[39m.\u001b[39;49mPopen(cmd, env\u001b[39m=\u001b[39;49m\u001b[39mself\u001b[39;49m\u001b[39m.\u001b[39;49menv,\n\u001b[1;32m     <a href='file:///home/hchang/Working/env/analysis/lib/python3.8/site-packages/selenium/webdriver/common/service.py?line=71'>72</a>\u001b[0m                                     close_fds\u001b[39m=\u001b[39;49msystem() \u001b[39m!=\u001b[39;49m \u001b[39m'\u001b[39;49m\u001b[39mWindows\u001b[39;49m\u001b[39m'\u001b[39;49m,\n\u001b[1;32m     <a href='file:///home/hchang/Working/env/analysis/lib/python3.8/site-packages/selenium/webdriver/common/service.py?line=72'>73</a>\u001b[0m                                     stdout\u001b[39m=\u001b[39;49m\u001b[39mself\u001b[39;49m\u001b[39m.\u001b[39;49mlog_file,\n\u001b[1;32m     <a href='file:///home/hchang/Working/env/analysis/lib/python3.8/site-packages/selenium/webdriver/common/service.py?line=73'>74</a>\u001b[0m                                     stderr\u001b[39m=\u001b[39;49m\u001b[39mself\u001b[39;49m\u001b[39m.\u001b[39;49mlog_file,\n\u001b[1;32m     <a href='file:///home/hchang/Working/env/analysis/lib/python3.8/site-packages/selenium/webdriver/common/service.py?line=74'>75</a>\u001b[0m                                     stdin\u001b[39m=\u001b[39;49mPIPE,\n\u001b[1;32m     <a href='file:///home/hchang/Working/env/analysis/lib/python3.8/site-packages/selenium/webdriver/common/service.py?line=75'>76</a>\u001b[0m                                     creationflags\u001b[39m=\u001b[39;49m\u001b[39mself\u001b[39;49m\u001b[39m.\u001b[39;49mcreationflags)\n\u001b[1;32m     <a href='file:///home/hchang/Working/env/analysis/lib/python3.8/site-packages/selenium/webdriver/common/service.py?line=76'>77</a>\u001b[0m \u001b[39mexcept\u001b[39;00m \u001b[39mTypeError\u001b[39;00m:\n",
      "File \u001b[0;32m/usr/lib/python3.8/subprocess.py:858\u001b[0m, in \u001b[0;36mPopen.__init__\u001b[0;34m(self, args, bufsize, executable, stdin, stdout, stderr, preexec_fn, close_fds, shell, cwd, env, universal_newlines, startupinfo, creationflags, restore_signals, start_new_session, pass_fds, encoding, errors, text)\u001b[0m\n\u001b[1;32m    <a href='file:///usr/lib/python3.8/subprocess.py?line=854'>855</a>\u001b[0m             \u001b[39mself\u001b[39m\u001b[39m.\u001b[39mstderr \u001b[39m=\u001b[39m io\u001b[39m.\u001b[39mTextIOWrapper(\u001b[39mself\u001b[39m\u001b[39m.\u001b[39mstderr,\n\u001b[1;32m    <a href='file:///usr/lib/python3.8/subprocess.py?line=855'>856</a>\u001b[0m                     encoding\u001b[39m=\u001b[39mencoding, errors\u001b[39m=\u001b[39merrors)\n\u001b[0;32m--> <a href='file:///usr/lib/python3.8/subprocess.py?line=857'>858</a>\u001b[0m     \u001b[39mself\u001b[39;49m\u001b[39m.\u001b[39;49m_execute_child(args, executable, preexec_fn, close_fds,\n\u001b[1;32m    <a href='file:///usr/lib/python3.8/subprocess.py?line=858'>859</a>\u001b[0m                         pass_fds, cwd, env,\n\u001b[1;32m    <a href='file:///usr/lib/python3.8/subprocess.py?line=859'>860</a>\u001b[0m                         startupinfo, creationflags, shell,\n\u001b[1;32m    <a href='file:///usr/lib/python3.8/subprocess.py?line=860'>861</a>\u001b[0m                         p2cread, p2cwrite,\n\u001b[1;32m    <a href='file:///usr/lib/python3.8/subprocess.py?line=861'>862</a>\u001b[0m                         c2pread, c2pwrite,\n\u001b[1;32m    <a href='file:///usr/lib/python3.8/subprocess.py?line=862'>863</a>\u001b[0m                         errread, errwrite,\n\u001b[1;32m    <a href='file:///usr/lib/python3.8/subprocess.py?line=863'>864</a>\u001b[0m                         restore_signals, start_new_session)\n\u001b[1;32m    <a href='file:///usr/lib/python3.8/subprocess.py?line=864'>865</a>\u001b[0m \u001b[39mexcept\u001b[39;00m:\n\u001b[1;32m    <a href='file:///usr/lib/python3.8/subprocess.py?line=865'>866</a>\u001b[0m     \u001b[39m# Cleanup if the child failed starting.\u001b[39;00m\n",
      "File \u001b[0;32m/usr/lib/python3.8/subprocess.py:1704\u001b[0m, in \u001b[0;36mPopen._execute_child\u001b[0;34m(self, args, executable, preexec_fn, close_fds, pass_fds, cwd, env, startupinfo, creationflags, shell, p2cread, p2cwrite, c2pread, c2pwrite, errread, errwrite, restore_signals, start_new_session)\u001b[0m\n\u001b[1;32m   <a href='file:///usr/lib/python3.8/subprocess.py?line=1702'>1703</a>\u001b[0m         err_msg \u001b[39m=\u001b[39m os\u001b[39m.\u001b[39mstrerror(errno_num)\n\u001b[0;32m-> <a href='file:///usr/lib/python3.8/subprocess.py?line=1703'>1704</a>\u001b[0m     \u001b[39mraise\u001b[39;00m child_exception_type(errno_num, err_msg, err_filename)\n\u001b[1;32m   <a href='file:///usr/lib/python3.8/subprocess.py?line=1704'>1705</a>\u001b[0m \u001b[39mraise\u001b[39;00m child_exception_type(err_msg)\n",
      "\u001b[0;31mFileNotFoundError\u001b[0m: [Errno 2] No such file or directory: 'chromedriver'",
      "\nDuring handling of the above exception, another exception occurred:\n",
      "\u001b[0;31mWebDriverException\u001b[0m                        Traceback (most recent call last)",
      "\u001b[1;32m/home/hchang/Working/more/crawling/insta/project/first.ipynb Cell 26'\u001b[0m in \u001b[0;36m<cell line: 8>\u001b[0;34m()\u001b[0m\n\u001b[1;32m      <a href='vscode-notebook-cell:/home/hchang/Working/more/crawling/insta/project/first.ipynb#ch0000025?line=4'>5</a>\u001b[0m \u001b[39mimport\u001b[39;00m \u001b[39mre\u001b[39;00m\n\u001b[1;32m      <a href='vscode-notebook-cell:/home/hchang/Working/more/crawling/insta/project/first.ipynb#ch0000025?line=6'>7</a>\u001b[0m \u001b[39m# ① 크롬 브라우저 열기\u001b[39;00m\n\u001b[0;32m----> <a href='vscode-notebook-cell:/home/hchang/Working/more/crawling/insta/project/first.ipynb#ch0000025?line=7'>8</a>\u001b[0m driver \u001b[39m=\u001b[39m webdriver\u001b[39m.\u001b[39;49mChrome() \n\u001b[1;32m     <a href='vscode-notebook-cell:/home/hchang/Working/more/crawling/insta/project/first.ipynb#ch0000025?line=9'>10</a>\u001b[0m \u001b[39m# 추가) 인스타그램 접속후, 로그인 하기  - \u001b[39;00m\n\u001b[1;32m     <a href='vscode-notebook-cell:/home/hchang/Working/more/crawling/insta/project/first.ipynb#ch0000025?line=10'>11</a>\u001b[0m driver\u001b[39m.\u001b[39mget(\u001b[39m'\u001b[39m\u001b[39mhttps://www.instargram.com\u001b[39m\u001b[39m'\u001b[39m)\n",
      "File \u001b[0;32m~/Working/env/analysis/lib/python3.8/site-packages/selenium/webdriver/chrome/webdriver.py:70\u001b[0m, in \u001b[0;36mWebDriver.__init__\u001b[0;34m(self, executable_path, port, options, service_args, desired_capabilities, service_log_path, chrome_options, service, keep_alive)\u001b[0m\n\u001b[1;32m     <a href='file:///home/hchang/Working/env/analysis/lib/python3.8/site-packages/selenium/webdriver/chrome/webdriver.py?line=66'>67</a>\u001b[0m \u001b[39mif\u001b[39;00m \u001b[39mnot\u001b[39;00m service:\n\u001b[1;32m     <a href='file:///home/hchang/Working/env/analysis/lib/python3.8/site-packages/selenium/webdriver/chrome/webdriver.py?line=67'>68</a>\u001b[0m     service \u001b[39m=\u001b[39m Service(executable_path, port, service_args, service_log_path)\n\u001b[0;32m---> <a href='file:///home/hchang/Working/env/analysis/lib/python3.8/site-packages/selenium/webdriver/chrome/webdriver.py?line=69'>70</a>\u001b[0m \u001b[39msuper\u001b[39;49m(WebDriver, \u001b[39mself\u001b[39;49m)\u001b[39m.\u001b[39;49m\u001b[39m__init__\u001b[39;49m(DesiredCapabilities\u001b[39m.\u001b[39;49mCHROME[\u001b[39m'\u001b[39;49m\u001b[39mbrowserName\u001b[39;49m\u001b[39m'\u001b[39;49m], \u001b[39m\"\u001b[39;49m\u001b[39mgoog\u001b[39;49m\u001b[39m\"\u001b[39;49m,\n\u001b[1;32m     <a href='file:///home/hchang/Working/env/analysis/lib/python3.8/site-packages/selenium/webdriver/chrome/webdriver.py?line=70'>71</a>\u001b[0m                                 port, options,\n\u001b[1;32m     <a href='file:///home/hchang/Working/env/analysis/lib/python3.8/site-packages/selenium/webdriver/chrome/webdriver.py?line=71'>72</a>\u001b[0m                                 service_args, desired_capabilities,\n\u001b[1;32m     <a href='file:///home/hchang/Working/env/analysis/lib/python3.8/site-packages/selenium/webdriver/chrome/webdriver.py?line=72'>73</a>\u001b[0m                                 service_log_path, service, keep_alive)\n",
      "File \u001b[0;32m~/Working/env/analysis/lib/python3.8/site-packages/selenium/webdriver/chromium/webdriver.py:90\u001b[0m, in \u001b[0;36mChromiumDriver.__init__\u001b[0;34m(self, browser_name, vendor_prefix, port, options, service_args, desired_capabilities, service_log_path, service, keep_alive)\u001b[0m\n\u001b[1;32m     <a href='file:///home/hchang/Working/env/analysis/lib/python3.8/site-packages/selenium/webdriver/chromium/webdriver.py?line=86'>87</a>\u001b[0m     \u001b[39mraise\u001b[39;00m \u001b[39mAttributeError\u001b[39;00m(\u001b[39m'\u001b[39m\u001b[39mservice cannot be None\u001b[39m\u001b[39m'\u001b[39m)\n\u001b[1;32m     <a href='file:///home/hchang/Working/env/analysis/lib/python3.8/site-packages/selenium/webdriver/chromium/webdriver.py?line=88'>89</a>\u001b[0m \u001b[39mself\u001b[39m\u001b[39m.\u001b[39mservice \u001b[39m=\u001b[39m service\n\u001b[0;32m---> <a href='file:///home/hchang/Working/env/analysis/lib/python3.8/site-packages/selenium/webdriver/chromium/webdriver.py?line=89'>90</a>\u001b[0m \u001b[39mself\u001b[39;49m\u001b[39m.\u001b[39;49mservice\u001b[39m.\u001b[39;49mstart()\n\u001b[1;32m     <a href='file:///home/hchang/Working/env/analysis/lib/python3.8/site-packages/selenium/webdriver/chromium/webdriver.py?line=91'>92</a>\u001b[0m \u001b[39mtry\u001b[39;00m:\n\u001b[1;32m     <a href='file:///home/hchang/Working/env/analysis/lib/python3.8/site-packages/selenium/webdriver/chromium/webdriver.py?line=92'>93</a>\u001b[0m     RemoteWebDriver\u001b[39m.\u001b[39m\u001b[39m__init__\u001b[39m(\n\u001b[1;32m     <a href='file:///home/hchang/Working/env/analysis/lib/python3.8/site-packages/selenium/webdriver/chromium/webdriver.py?line=93'>94</a>\u001b[0m         \u001b[39mself\u001b[39m,\n\u001b[1;32m     <a href='file:///home/hchang/Working/env/analysis/lib/python3.8/site-packages/selenium/webdriver/chromium/webdriver.py?line=94'>95</a>\u001b[0m         command_executor\u001b[39m=\u001b[39mChromiumRemoteConnection(\n\u001b[0;32m   (...)\u001b[0m\n\u001b[1;32m     <a href='file:///home/hchang/Working/env/analysis/lib/python3.8/site-packages/selenium/webdriver/chromium/webdriver.py?line=97'>98</a>\u001b[0m             keep_alive\u001b[39m=\u001b[39mkeep_alive, ignore_proxy\u001b[39m=\u001b[39m_ignore_proxy),\n\u001b[1;32m     <a href='file:///home/hchang/Working/env/analysis/lib/python3.8/site-packages/selenium/webdriver/chromium/webdriver.py?line=98'>99</a>\u001b[0m         options\u001b[39m=\u001b[39moptions)\n",
      "File \u001b[0;32m~/Working/env/analysis/lib/python3.8/site-packages/selenium/webdriver/common/service.py:81\u001b[0m, in \u001b[0;36mService.start\u001b[0;34m(self)\u001b[0m\n\u001b[1;32m     <a href='file:///home/hchang/Working/env/analysis/lib/python3.8/site-packages/selenium/webdriver/common/service.py?line=78'>79</a>\u001b[0m \u001b[39mexcept\u001b[39;00m \u001b[39mOSError\u001b[39;00m \u001b[39mas\u001b[39;00m err:\n\u001b[1;32m     <a href='file:///home/hchang/Working/env/analysis/lib/python3.8/site-packages/selenium/webdriver/common/service.py?line=79'>80</a>\u001b[0m     \u001b[39mif\u001b[39;00m err\u001b[39m.\u001b[39merrno \u001b[39m==\u001b[39m errno\u001b[39m.\u001b[39mENOENT:\n\u001b[0;32m---> <a href='file:///home/hchang/Working/env/analysis/lib/python3.8/site-packages/selenium/webdriver/common/service.py?line=80'>81</a>\u001b[0m         \u001b[39mraise\u001b[39;00m WebDriverException(\n\u001b[1;32m     <a href='file:///home/hchang/Working/env/analysis/lib/python3.8/site-packages/selenium/webdriver/common/service.py?line=81'>82</a>\u001b[0m             \u001b[39m\"\u001b[39m\u001b[39m'\u001b[39m\u001b[39m%s\u001b[39;00m\u001b[39m'\u001b[39m\u001b[39m executable needs to be in PATH. \u001b[39m\u001b[39m%s\u001b[39;00m\u001b[39m\"\u001b[39m \u001b[39m%\u001b[39m (\n\u001b[1;32m     <a href='file:///home/hchang/Working/env/analysis/lib/python3.8/site-packages/selenium/webdriver/common/service.py?line=82'>83</a>\u001b[0m                 os\u001b[39m.\u001b[39mpath\u001b[39m.\u001b[39mbasename(\u001b[39mself\u001b[39m\u001b[39m.\u001b[39mpath), \u001b[39mself\u001b[39m\u001b[39m.\u001b[39mstart_error_message)\n\u001b[1;32m     <a href='file:///home/hchang/Working/env/analysis/lib/python3.8/site-packages/selenium/webdriver/common/service.py?line=83'>84</a>\u001b[0m         )\n\u001b[1;32m     <a href='file:///home/hchang/Working/env/analysis/lib/python3.8/site-packages/selenium/webdriver/common/service.py?line=84'>85</a>\u001b[0m     \u001b[39melif\u001b[39;00m err\u001b[39m.\u001b[39merrno \u001b[39m==\u001b[39m errno\u001b[39m.\u001b[39mEACCES:\n\u001b[1;32m     <a href='file:///home/hchang/Working/env/analysis/lib/python3.8/site-packages/selenium/webdriver/common/service.py?line=85'>86</a>\u001b[0m         \u001b[39mraise\u001b[39;00m WebDriverException(\n\u001b[1;32m     <a href='file:///home/hchang/Working/env/analysis/lib/python3.8/site-packages/selenium/webdriver/common/service.py?line=86'>87</a>\u001b[0m             \u001b[39m\"\u001b[39m\u001b[39m'\u001b[39m\u001b[39m%s\u001b[39;00m\u001b[39m'\u001b[39m\u001b[39m executable may have wrong permissions. \u001b[39m\u001b[39m%s\u001b[39;00m\u001b[39m\"\u001b[39m \u001b[39m%\u001b[39m (\n\u001b[1;32m     <a href='file:///home/hchang/Working/env/analysis/lib/python3.8/site-packages/selenium/webdriver/common/service.py?line=87'>88</a>\u001b[0m                 os\u001b[39m.\u001b[39mpath\u001b[39m.\u001b[39mbasename(\u001b[39mself\u001b[39m\u001b[39m.\u001b[39mpath), \u001b[39mself\u001b[39m\u001b[39m.\u001b[39mstart_error_message)\n\u001b[1;32m     <a href='file:///home/hchang/Working/env/analysis/lib/python3.8/site-packages/selenium/webdriver/common/service.py?line=88'>89</a>\u001b[0m         )\n",
      "\u001b[0;31mWebDriverException\u001b[0m: Message: 'chromedriver' executable needs to be in PATH. Please see https://chromedriver.chromium.org/home\n"
     ]
    }
   ],
   "source": [
    "# 예제 5-9 인스타그램 크롤링 ①\n",
    "from selenium import webdriver\n",
    "from bs4 import BeautifulSoup\n",
    "import time\n",
    "import re\n",
    "\n",
    "# ① 크롬 브라우저 열기\n",
    "driver = webdriver.Chrome() \n",
    "\n",
    "# 추가) 인스타그램 접속후, 로그인 하기  - \n",
    "driver.get('https://www.instargram.com')\n",
    "time.sleep(2)\n",
    "\n",
    "button = driver.find_element_by_css_selector('#details-button')\n",
    "button.click()\n",
    "link = driver.find_element_by_css_selector('#proceed-link')\n",
    "link.click()\n",
    "time.sleep(2)\n",
    "######## 인스타 계정 로그인이 필요합니다 #########\n",
    "# 아이디 입력\n",
    "input_id = driver.find_elements_by_css_selector('input._2hvTZ.pexuQ.zyHYP')[0]\n",
    "input_id.clear()\n",
    "time.sleep(0.3)\n",
    "input_id.send_keys(email)\n",
    "# 비밀번호 입력\n",
    "input_pw = driver.find_elements_by_css_selector('input._2hvTZ.pexuQ.zyHYP')[1]\n",
    "input_pw.clear()\n",
    "time.sleep(0.3)\n",
    "input_pw.send_keys(password)\n",
    "input_pw.submit()\n",
    "time.sleep(3)\n",
    "# 로그인 정보 저장하겠냐는 메세지 \n",
    "button = driver.find_elements_by_css_selector('button.sqdOP.yWX7d.y3zKF')[0]\n",
    "button.click()\n",
    "time.sleep(2)\n",
    "# 알림을 키라는 메세지에 싫다는 의사를 내비치자!\n",
    "button = driver.find_elements_by_css_selector('.aOOlW.HoLwm')[0]\n",
    "button.click()\n"
   ]
  },
  {
   "cell_type": "markdown",
   "metadata": {},
   "source": [
    "위 코드 실행후 인스타그램 로그인이 완료되어야 합니다.  \n",
    "\n",
    "추가로, 2단계 인증이 필요하다고 나올 경우 인증까지 완료해주세요. \n",
    "\n",
    "인스타계정이 아닌 페이스북계정으로 로그인이 필요하거나  코드에 아이디/비번 입력하는 것이 부담되는 분은\n",
    "\n",
    "수기로 직접 입력해서 로그인까지 완료하시면 됩니다. \n",
    "\n"
   ]
  },
  {
   "cell_type": "code",
   "execution_count": 38,
   "metadata": {},
   "outputs": [
    {
     "name": "stderr",
     "output_type": "stream",
     "text": [
      "/tmp/ipykernel_9393/3062274932.py:3: DeprecationWarning: find_element_by_css_selector is deprecated. Please use find_element(by=By.CSS_SELECTOR, value=css_selector) instead\n",
      "  first = driver.find_element_by_css_selector(\"div._9AhH0\")\n",
      "/tmp/ipykernel_9393/3818341435.py:4: DeprecationWarning: find_element_by_css_selector is deprecated. Please use find_element(by=By.CSS_SELECTOR, value=css_selector) instead\n",
      "  right = driver.find_element_by_css_selector('.l8mY4 button')\n"
     ]
    },
    {
     "ename": "NoSuchElementException",
     "evalue": "Message: no such element: Unable to locate element: {\"method\":\"css selector\",\"selector\":\".l8mY4 button\"}\n  (Session info: chrome=100.0.4896.60)\nStacktrace:\n#0 0x55985a8b9013 <unknown>\n#1 0x55985a61ba08 <unknown>\n#2 0x55985a651fb6 <unknown>\n#3 0x55985a652171 <unknown>\n#4 0x55985a684dd4 <unknown>\n#5 0x55985a66f95d <unknown>\n#6 0x55985a682b94 <unknown>\n#7 0x55985a66f823 <unknown>\n#8 0x55985a64508a <unknown>\n#9 0x55985a6461e5 <unknown>\n#10 0x55985a8e6e5d <unknown>\n#11 0x55985a900061 <unknown>\n#12 0x55985a8e8bb5 <unknown>\n#13 0x55985a900e08 <unknown>\n#14 0x55985a8dc2f0 <unknown>\n#15 0x55985a91c988 <unknown>\n#16 0x55985a91cb08 <unknown>\n#17 0x55985a9365dd <unknown>\n#18 0x7feff7d62609 <unknown>\n",
     "output_type": "error",
     "traceback": [
      "\u001b[0;31m---------------------------------------------------------------------------\u001b[0m",
      "\u001b[0;31mIndexError\u001b[0m                                Traceback (most recent call last)",
      "\u001b[1;32m/home/hchang/Working/more/crawling/insta/project/first.ipynb Cell 28'\u001b[0m in \u001b[0;36m<cell line: 19>\u001b[0;34m()\u001b[0m\n\u001b[1;32m     <a href='vscode-notebook-cell:/home/hchang/Working/more/crawling/insta/project/first.ipynb#ch0000027?line=20'>21</a>\u001b[0m \u001b[39mtry\u001b[39;00m:\n\u001b[0;32m---> <a href='vscode-notebook-cell:/home/hchang/Working/more/crawling/insta/project/first.ipynb#ch0000027?line=21'>22</a>\u001b[0m     data \u001b[39m=\u001b[39m get_content(driver)    \u001b[39m# 게시글 정보 가져오기\u001b[39;00m\n\u001b[1;32m     <a href='vscode-notebook-cell:/home/hchang/Working/more/crawling/insta/project/first.ipynb#ch0000027?line=22'>23</a>\u001b[0m     results\u001b[39m.\u001b[39mappend(data)\n",
      "\u001b[1;32m/home/hchang/Working/more/crawling/insta/project/first.ipynb Cell 21'\u001b[0m in \u001b[0;36mget_content\u001b[0;34m(driver)\u001b[0m\n\u001b[1;32m     <a href='vscode-notebook-cell:/home/hchang/Working/more/crawling/insta/project/first.ipynb#ch0000020?line=17'>18</a>\u001b[0m \u001b[39m# ④ 작성일자 정보 가져오기\u001b[39;00m\n\u001b[0;32m---> <a href='vscode-notebook-cell:/home/hchang/Working/more/crawling/insta/project/first.ipynb#ch0000020?line=18'>19</a>\u001b[0m date \u001b[39m=\u001b[39m soup\u001b[39m.\u001b[39;49mselect(\u001b[39m'\u001b[39;49m\u001b[39mtime._1o9PC\u001b[39;49m\u001b[39m'\u001b[39;49m)[\u001b[39m0\u001b[39;49m][\u001b[39m'\u001b[39m\u001b[39mdatetime\u001b[39m\u001b[39m'\u001b[39m][:\u001b[39m10\u001b[39m]\n\u001b[1;32m     <a href='vscode-notebook-cell:/home/hchang/Working/more/crawling/insta/project/first.ipynb#ch0000020?line=19'>20</a>\u001b[0m \u001b[39m# ⑤ 좋아요 수 가져오기\u001b[39;00m\n",
      "\u001b[0;31mIndexError\u001b[0m: list index out of range",
      "\nDuring handling of the above exception, another exception occurred:\n",
      "\u001b[0;31mNoSuchElementException\u001b[0m                    Traceback (most recent call last)",
      "\u001b[1;32m/home/hchang/Working/more/crawling/insta/project/first.ipynb Cell 28'\u001b[0m in \u001b[0;36m<cell line: 19>\u001b[0;34m()\u001b[0m\n\u001b[1;32m     <a href='vscode-notebook-cell:/home/hchang/Working/more/crawling/insta/project/first.ipynb#ch0000027?line=24'>25</a>\u001b[0m     \u001b[39mexcept\u001b[39;00m:\n\u001b[1;32m     <a href='vscode-notebook-cell:/home/hchang/Working/more/crawling/insta/project/first.ipynb#ch0000027?line=25'>26</a>\u001b[0m         time\u001b[39m.\u001b[39msleep(\u001b[39m2\u001b[39m)\n\u001b[0;32m---> <a href='vscode-notebook-cell:/home/hchang/Working/more/crawling/insta/project/first.ipynb#ch0000027?line=26'>27</a>\u001b[0m         move_next(driver)\n\u001b[1;32m     <a href='vscode-notebook-cell:/home/hchang/Working/more/crawling/insta/project/first.ipynb#ch0000027?line=29'>30</a>\u001b[0m \u001b[39mprint\u001b[39m(results[:\u001b[39m2\u001b[39m])\n",
      "\u001b[1;32m/home/hchang/Working/more/crawling/insta/project/first.ipynb Cell 23'\u001b[0m in \u001b[0;36mmove_next\u001b[0;34m(driver)\u001b[0m\n\u001b[1;32m      <a href='vscode-notebook-cell:/home/hchang/Working/more/crawling/insta/project/first.ipynb#ch0000022?line=1'>2</a>\u001b[0m \u001b[39mdef\u001b[39;00m \u001b[39mmove_next\u001b[39m(driver):\n\u001b[0;32m----> <a href='vscode-notebook-cell:/home/hchang/Working/more/crawling/insta/project/first.ipynb#ch0000022?line=3'>4</a>\u001b[0m     right \u001b[39m=\u001b[39m driver\u001b[39m.\u001b[39;49mfind_element_by_css_selector(\u001b[39m'\u001b[39;49m\u001b[39m.l8mY4 button\u001b[39;49m\u001b[39m'\u001b[39;49m)\n\u001b[1;32m      <a href='vscode-notebook-cell:/home/hchang/Working/more/crawling/insta/project/first.ipynb#ch0000022?line=4'>5</a>\u001b[0m     \u001b[39m# print(right)\u001b[39;00m\n\u001b[1;32m      <a href='vscode-notebook-cell:/home/hchang/Working/more/crawling/insta/project/first.ipynb#ch0000022?line=5'>6</a>\u001b[0m     right\u001b[39m.\u001b[39msend_keys(\u001b[39m'\u001b[39m\u001b[39m\\n\u001b[39;00m\u001b[39m'\u001b[39m)\n",
      "File \u001b[0;32m~/Working/env/analysis/lib/python3.8/site-packages/selenium/webdriver/remote/webdriver.py:809\u001b[0m, in \u001b[0;36mWebDriver.find_element_by_css_selector\u001b[0;34m(self, css_selector)\u001b[0m\n\u001b[1;32m    <a href='file:///home/hchang/Working/env/analysis/lib/python3.8/site-packages/selenium/webdriver/remote/webdriver.py?line=786'>787</a>\u001b[0m \u001b[39m\"\"\"\u001b[39;00m\n\u001b[1;32m    <a href='file:///home/hchang/Working/env/analysis/lib/python3.8/site-packages/selenium/webdriver/remote/webdriver.py?line=787'>788</a>\u001b[0m \u001b[39mFinds an element by css selector.\u001b[39;00m\n\u001b[1;32m    <a href='file:///home/hchang/Working/env/analysis/lib/python3.8/site-packages/selenium/webdriver/remote/webdriver.py?line=788'>789</a>\u001b[0m \n\u001b[0;32m   (...)\u001b[0m\n\u001b[1;32m    <a href='file:///home/hchang/Working/env/analysis/lib/python3.8/site-packages/selenium/webdriver/remote/webdriver.py?line=801'>802</a>\u001b[0m \u001b[39m        element = driver.find_element_by_css_selector('#foo')\u001b[39;00m\n\u001b[1;32m    <a href='file:///home/hchang/Working/env/analysis/lib/python3.8/site-packages/selenium/webdriver/remote/webdriver.py?line=802'>803</a>\u001b[0m \u001b[39m\"\"\"\u001b[39;00m\n\u001b[1;32m    <a href='file:///home/hchang/Working/env/analysis/lib/python3.8/site-packages/selenium/webdriver/remote/webdriver.py?line=803'>804</a>\u001b[0m warnings\u001b[39m.\u001b[39mwarn(\n\u001b[1;32m    <a href='file:///home/hchang/Working/env/analysis/lib/python3.8/site-packages/selenium/webdriver/remote/webdriver.py?line=804'>805</a>\u001b[0m     \u001b[39m\"\u001b[39m\u001b[39mfind_element_by_css_selector is deprecated. Please use find_element(by=By.CSS_SELECTOR, value=css_selector) instead\u001b[39m\u001b[39m\"\u001b[39m,\n\u001b[1;32m    <a href='file:///home/hchang/Working/env/analysis/lib/python3.8/site-packages/selenium/webdriver/remote/webdriver.py?line=805'>806</a>\u001b[0m     \u001b[39mDeprecationWarning\u001b[39;00m,\n\u001b[1;32m    <a href='file:///home/hchang/Working/env/analysis/lib/python3.8/site-packages/selenium/webdriver/remote/webdriver.py?line=806'>807</a>\u001b[0m     stacklevel\u001b[39m=\u001b[39m\u001b[39m2\u001b[39m,\n\u001b[1;32m    <a href='file:///home/hchang/Working/env/analysis/lib/python3.8/site-packages/selenium/webdriver/remote/webdriver.py?line=807'>808</a>\u001b[0m )\n\u001b[0;32m--> <a href='file:///home/hchang/Working/env/analysis/lib/python3.8/site-packages/selenium/webdriver/remote/webdriver.py?line=808'>809</a>\u001b[0m \u001b[39mreturn\u001b[39;00m \u001b[39mself\u001b[39;49m\u001b[39m.\u001b[39;49mfind_element(by\u001b[39m=\u001b[39;49mBy\u001b[39m.\u001b[39;49mCSS_SELECTOR, value\u001b[39m=\u001b[39;49mcss_selector)\n",
      "File \u001b[0;32m~/Working/env/analysis/lib/python3.8/site-packages/selenium/webdriver/remote/webdriver.py:1248\u001b[0m, in \u001b[0;36mWebDriver.find_element\u001b[0;34m(self, by, value)\u001b[0m\n\u001b[1;32m   <a href='file:///home/hchang/Working/env/analysis/lib/python3.8/site-packages/selenium/webdriver/remote/webdriver.py?line=1244'>1245</a>\u001b[0m     by \u001b[39m=\u001b[39m By\u001b[39m.\u001b[39mCSS_SELECTOR\n\u001b[1;32m   <a href='file:///home/hchang/Working/env/analysis/lib/python3.8/site-packages/selenium/webdriver/remote/webdriver.py?line=1245'>1246</a>\u001b[0m     value \u001b[39m=\u001b[39m \u001b[39m'\u001b[39m\u001b[39m[name=\u001b[39m\u001b[39m\"\u001b[39m\u001b[39m%s\u001b[39;00m\u001b[39m\"\u001b[39m\u001b[39m]\u001b[39m\u001b[39m'\u001b[39m \u001b[39m%\u001b[39m value\n\u001b[0;32m-> <a href='file:///home/hchang/Working/env/analysis/lib/python3.8/site-packages/selenium/webdriver/remote/webdriver.py?line=1247'>1248</a>\u001b[0m \u001b[39mreturn\u001b[39;00m \u001b[39mself\u001b[39;49m\u001b[39m.\u001b[39;49mexecute(Command\u001b[39m.\u001b[39;49mFIND_ELEMENT, {\n\u001b[1;32m   <a href='file:///home/hchang/Working/env/analysis/lib/python3.8/site-packages/selenium/webdriver/remote/webdriver.py?line=1248'>1249</a>\u001b[0m     \u001b[39m'\u001b[39;49m\u001b[39musing\u001b[39;49m\u001b[39m'\u001b[39;49m: by,\n\u001b[1;32m   <a href='file:///home/hchang/Working/env/analysis/lib/python3.8/site-packages/selenium/webdriver/remote/webdriver.py?line=1249'>1250</a>\u001b[0m     \u001b[39m'\u001b[39;49m\u001b[39mvalue\u001b[39;49m\u001b[39m'\u001b[39;49m: value})[\u001b[39m'\u001b[39m\u001b[39mvalue\u001b[39m\u001b[39m'\u001b[39m]\n",
      "File \u001b[0;32m~/Working/env/analysis/lib/python3.8/site-packages/selenium/webdriver/remote/webdriver.py:425\u001b[0m, in \u001b[0;36mWebDriver.execute\u001b[0;34m(self, driver_command, params)\u001b[0m\n\u001b[1;32m    <a href='file:///home/hchang/Working/env/analysis/lib/python3.8/site-packages/selenium/webdriver/remote/webdriver.py?line=422'>423</a>\u001b[0m response \u001b[39m=\u001b[39m \u001b[39mself\u001b[39m\u001b[39m.\u001b[39mcommand_executor\u001b[39m.\u001b[39mexecute(driver_command, params)\n\u001b[1;32m    <a href='file:///home/hchang/Working/env/analysis/lib/python3.8/site-packages/selenium/webdriver/remote/webdriver.py?line=423'>424</a>\u001b[0m \u001b[39mif\u001b[39;00m response:\n\u001b[0;32m--> <a href='file:///home/hchang/Working/env/analysis/lib/python3.8/site-packages/selenium/webdriver/remote/webdriver.py?line=424'>425</a>\u001b[0m     \u001b[39mself\u001b[39;49m\u001b[39m.\u001b[39;49merror_handler\u001b[39m.\u001b[39;49mcheck_response(response)\n\u001b[1;32m    <a href='file:///home/hchang/Working/env/analysis/lib/python3.8/site-packages/selenium/webdriver/remote/webdriver.py?line=425'>426</a>\u001b[0m     response[\u001b[39m'\u001b[39m\u001b[39mvalue\u001b[39m\u001b[39m'\u001b[39m] \u001b[39m=\u001b[39m \u001b[39mself\u001b[39m\u001b[39m.\u001b[39m_unwrap_value(\n\u001b[1;32m    <a href='file:///home/hchang/Working/env/analysis/lib/python3.8/site-packages/selenium/webdriver/remote/webdriver.py?line=426'>427</a>\u001b[0m         response\u001b[39m.\u001b[39mget(\u001b[39m'\u001b[39m\u001b[39mvalue\u001b[39m\u001b[39m'\u001b[39m, \u001b[39mNone\u001b[39;00m))\n\u001b[1;32m    <a href='file:///home/hchang/Working/env/analysis/lib/python3.8/site-packages/selenium/webdriver/remote/webdriver.py?line=427'>428</a>\u001b[0m     \u001b[39mreturn\u001b[39;00m response\n",
      "File \u001b[0;32m~/Working/env/analysis/lib/python3.8/site-packages/selenium/webdriver/remote/errorhandler.py:247\u001b[0m, in \u001b[0;36mErrorHandler.check_response\u001b[0;34m(self, response)\u001b[0m\n\u001b[1;32m    <a href='file:///home/hchang/Working/env/analysis/lib/python3.8/site-packages/selenium/webdriver/remote/errorhandler.py?line=244'>245</a>\u001b[0m         alert_text \u001b[39m=\u001b[39m value[\u001b[39m'\u001b[39m\u001b[39malert\u001b[39m\u001b[39m'\u001b[39m]\u001b[39m.\u001b[39mget(\u001b[39m'\u001b[39m\u001b[39mtext\u001b[39m\u001b[39m'\u001b[39m)\n\u001b[1;32m    <a href='file:///home/hchang/Working/env/analysis/lib/python3.8/site-packages/selenium/webdriver/remote/errorhandler.py?line=245'>246</a>\u001b[0m     \u001b[39mraise\u001b[39;00m exception_class(message, screen, stacktrace, alert_text)  \u001b[39m# type: ignore[call-arg]  # mypy is not smart enough here\u001b[39;00m\n\u001b[0;32m--> <a href='file:///home/hchang/Working/env/analysis/lib/python3.8/site-packages/selenium/webdriver/remote/errorhandler.py?line=246'>247</a>\u001b[0m \u001b[39mraise\u001b[39;00m exception_class(message, screen, stacktrace)\n",
      "\u001b[0;31mNoSuchElementException\u001b[0m: Message: no such element: Unable to locate element: {\"method\":\"css selector\",\"selector\":\".l8mY4 button\"}\n  (Session info: chrome=100.0.4896.60)\nStacktrace:\n#0 0x55985a8b9013 <unknown>\n#1 0x55985a61ba08 <unknown>\n#2 0x55985a651fb6 <unknown>\n#3 0x55985a652171 <unknown>\n#4 0x55985a684dd4 <unknown>\n#5 0x55985a66f95d <unknown>\n#6 0x55985a682b94 <unknown>\n#7 0x55985a66f823 <unknown>\n#8 0x55985a64508a <unknown>\n#9 0x55985a6461e5 <unknown>\n#10 0x55985a8e6e5d <unknown>\n#11 0x55985a900061 <unknown>\n#12 0x55985a8e8bb5 <unknown>\n#13 0x55985a900e08 <unknown>\n#14 0x55985a8dc2f0 <unknown>\n#15 0x55985a91c988 <unknown>\n#16 0x55985a91cb08 <unknown>\n#17 0x55985a9365dd <unknown>\n#18 0x7feff7d62609 <unknown>\n"
     ]
    }
   ],
   "source": [
    "# 예제 5-10 인스타그램 크롤링  ②\n",
    "# ② 인스타그램 검색페이지 URL 만들기\n",
    "word = \"제주도맛집\"    #검색어\n",
    "url = insta_searching(word)\n",
    "\n",
    "# ③ 검색페이지 접속하기\n",
    "driver.get(url)\n",
    "time.sleep(9)\n",
    "\n",
    "# ④ 첫 번째 게시글 열기\n",
    "select_first(driver)\n",
    "\n",
    "# ⑤ 비어있는 변수(results)만들기\n",
    "results = [ ]\n",
    "\n",
    "\n",
    "# ⑥→⑦→⑧ 여러 게시물 수집하기\n",
    "target = 50      # 크롤링할 게시글 수\n",
    "for i in range(target):\n",
    "    # 게시글 수집에 오류 발생시(네트워크 문제 등의 이유로)  2초 대기 후, 다음 게시글로 넘어가도록 try, except 구문 활용\n",
    "    try:\n",
    "        data = get_content(driver)    # 게시글 정보 가져오기\n",
    "        results.append(data)\n",
    "        move_next(driver)\n",
    "    except:\n",
    "        time.sleep(2)\n",
    "        move_next(driver)\n",
    "    \n",
    "\n",
    "print(results[:2])"
   ]
  },
  {
   "cell_type": "code",
   "execution_count": 39,
   "metadata": {},
   "outputs": [
    {
     "data": {
      "text/plain": [
       "[['qqn667ui8i(광고)지만 제주 공항에서 가깝고 (🚗공항에서 12분)오션뷰& 노을뷰를 보면서 먹을 수 있는 💙삼미횟집💙 싱싱한 회는 물론이고사이드가 다양하게 손님들 모시고 오기 딱이야 🤭⛲삼미 돔모듬-대⛲-회국수 -전복,삼겹살,새우구이-삼계탕- 다양한 해산물 모듬 2판- 해물난장-성게 미역국-생선구이 2종 -매운탕등 ~ 너무 많아서 나열하기 어려운 정도! 🤪가게도 총 3층으로 룸이 나눠져 있으니깐 편하고 프라이빗하게 ~✌🧭삼미횟집제주 제주시 도두항서5길 1064-713-6400#제주도맛집#제주맛집#제주도횟집#제주시횟집#제주공항근처횟집#제주시내횟집#용두암근처맛집#용두암맛집#제주횟집추천#제주도공항근처횟집#도두맛집#이호테우해변맛집#제주공항맛집23h',\n",
       "  '2022-05-09',\n",
       "  'others',\n",
       "  '',\n",
       "  ['#제주도맛집',\n",
       "   '#제주맛집',\n",
       "   '#제주도횟집',\n",
       "   '#제주시횟집',\n",
       "   '#제주공항근처횟집',\n",
       "   '#제주시내횟집',\n",
       "   '#용두암근처맛집',\n",
       "   '#용두암맛집',\n",
       "   '#제주횟집추천',\n",
       "   '#제주도공항근처횟집',\n",
       "   '#도두맛집',\n",
       "   '#이호테우해변맛집',\n",
       "   '#제주공항맛집23h']],\n",
       " ['jejuyogi_.💖제주 \"자드부팡\"💖요즘 새롭게 생기고 조녜스러운유럽감성으로 유명해지구있는 신상카페얌😎여기서 사진한컷 찍으면...내가 어딧는지전부 모를꺼야!!!ㅠㅠ 한컷 찍으러가쟈!✔주소 : 제주시 조천읍 선흘리 954..#제주맛집 #제주도맛집 #제주공항근처맛집 #제주시맛집 #애월맛집 #중문맛집 #제주공항맛집 #서귀포맛집 #산방산맛집 #신제주맛집 #제주시청맛집 #제주애월맛집 #월정리맛집 #제주여행 #제주핫플19h',\n",
       "  '2022-05-09',\n",
       "  '1,103 likes',\n",
       "  '',\n",
       "  ['#제주맛집',\n",
       "   '#제주도맛집',\n",
       "   '#제주공항근처맛집',\n",
       "   '#제주시맛집',\n",
       "   '#애월맛집',\n",
       "   '#중문맛집',\n",
       "   '#제주공항맛집',\n",
       "   '#서귀포맛집',\n",
       "   '#산방산맛집',\n",
       "   '#신제주맛집',\n",
       "   '#제주시청맛집',\n",
       "   '#제주애월맛집',\n",
       "   '#월정리맛집',\n",
       "   '#제주여행',\n",
       "   '#제주핫플19h']],\n",
       " ['hello_hasand#달튀김부드러운 흑돼지를 한번 더 갈아서 더욱 부드럽게,숨어있는 맛있는 치즈로 한번 더 고소하게♥️함께 나가는 칠리소스, 와사비마요소스와 함께 더 맛있게 즐기세요🙆\\u200d♀️전 메뉴 포장 가능하며,도착 30분 전 전화주시면 시간 맞춰 포장 도와드리겠습니다🙋\\u200d♀️오늘도 #안녕하샌3h',\n",
       "  '2022-05-10',\n",
       "  'others',\n",
       "  '월정리해변',\n",
       "  ['#달튀김부드러운', '#안녕하샌3h']],\n",
       " ['cg56ty43d제주 공항에서 가깝고 (🚗공항에서 12분)오션뷰& 노을뷰를 보면서 먹을 수 있는 💙삼미횟집💙 싱싱한 회는 물론이고사이드가 다양하게 손님들 모시고 오기 딱이야 🤭⛲삼미 돔모듬-대⛲-회국수 -전복,삼겹살,새우구이-삼계탕- 다양한 해산물 모듬 2판- 해물난장-성게 미역국-생선구이 2종 -매운탕등 ~ 너무 많아서 나열하기 어려운 정도! 🤪가게도 총 3층으로 룸이 나눠져 있으니깐 편하고 프라이빗하게 ~✌🧭삼미횟집제주 제주시 도두항서5길 1064-713-6400#제주도맛집#제주맛집#제주도횟집#제주시횟집#제주공항근처횟집#제주시내횟집#용두암근처맛집#용두암맛집#제주횟집추천#제주도공항근처횟집#도두맛집#이호테우해변맛집#제주공항맛집1h',\n",
       "  '2022-05-10',\n",
       "  'others',\n",
       "  '',\n",
       "  ['#제주도맛집',\n",
       "   '#제주맛집',\n",
       "   '#제주도횟집',\n",
       "   '#제주시횟집',\n",
       "   '#제주공항근처횟집',\n",
       "   '#제주시내횟집',\n",
       "   '#용두암근처맛집',\n",
       "   '#용두암맛집',\n",
       "   '#제주횟집추천',\n",
       "   '#제주도공항근처횟집',\n",
       "   '#도두맛집',\n",
       "   '#이호테우해변맛집',\n",
       "   '#제주공항맛집1h']],\n",
       " [\"dw66yh5t5광고)제주공항에서 진~짜가깝고 개별룸이 많아서 더 좋고맛있는 도민맛집으로유명한 '연동대게회타운'낮2시부터 ~라스트오더는 밤 12시까지개인룸에서 맘편하게 먹자!!🙊이야.. 살이 꽉 차있네소리가 절로나오는탱글 쫄깃한💦속살에⠀녹~찐한 내장까지증말 스릉흔다❤❤⠀밑반찬 구성도푸짐하니 다양하게즐길 수 있어 좋고!⠀살이꽉찬 대게&킹크랩 맛집👏⠀개별룸 형식으로걱정🙅 ♀없이 먹는'연동대게회타운'⠀🧭연동대게회타운*제주 제주시 신대로 125*064-903-1889#제주도맛집#제주맛집#제주공항근처맛집#제주골프#제주도골프#제주여행#제주도여행#제주#제주도#제주시맛집#제주시#제주도민맛집#제주공항#제주도공항22h\",\n",
       "  '2022-05-09',\n",
       "  'others',\n",
       "  '',\n",
       "  ['#제주도맛집',\n",
       "   '#제주맛집',\n",
       "   '#제주공항근처맛집',\n",
       "   '#제주골프',\n",
       "   '#제주도골프',\n",
       "   '#제주여행',\n",
       "   '#제주도여행',\n",
       "   '#제주',\n",
       "   '#제주도',\n",
       "   '#제주시맛집',\n",
       "   '#제주시',\n",
       "   '#제주도민맛집',\n",
       "   '#제주공항',\n",
       "   '#제주도공항22h']],\n",
       " ['today_chucheon_(광고)제주도에서 쓰끼다시가 가장 잘나오고 서귀포에서 오션뷰로 회를 먹을수있는곳💜💜대포항 바로 앞에 큰 규모의 횟집에서 오션뷰로 즐길 수 있는 횟집으로,제주에서 횟감 하나만큼은 가장 싱싱하다고 자부할 수 있는 이곳!!제주도에서 스끼다시가 가장 잘 나오는 곳으로그때그때 가장 싱싱한 해산물만을 즐길 수 있는 맛집커플, 가족단위로 와서 힐링하기도 좋고대규모 좌석으로 대형버스 예약까지 많은 맛집!!👉🏻식사 후에는 바로 옆에 dp159카페에서 커피한잔까지 완벽한 맛집☕️☕️OCEAN VIEW 중문 큰갯물횟집0507-1360-1625제주 서귀포시 대포로 16111:50 - 22:0021:00 라스트오더#제주중문맛집#서귀포횟집#중문횟집#제주중문카페#제주도횟집#서귀포맛집#중문맛집#제주횟집#제주도맛집#제주도민맛집#서귀포맛집추천#제주도맛집추천21h',\n",
       "  '2022-05-09',\n",
       "  0,\n",
       "  '큰갯물횟집',\n",
       "  ['#제주중문맛집',\n",
       "   '#서귀포횟집',\n",
       "   '#중문횟집',\n",
       "   '#제주중문카페',\n",
       "   '#제주도횟집',\n",
       "   '#서귀포맛집',\n",
       "   '#중문맛집',\n",
       "   '#제주횟집',\n",
       "   '#제주도맛집',\n",
       "   '#제주도민맛집',\n",
       "   '#서귀포맛집추천',\n",
       "   '#제주도맛집추천21h']],\n",
       " [\"ssn667yd광고)제주공항에서 진~짜가깝고 개별룸이 많아서 더 좋고맛있는 도민맛집으로유명한 '연동대게회타운'낮2시부터 ~라스트오더는 밤 12시까지개인룸에서 맘편하게 먹자!!🙊이야.. 살이 꽉 차있네소리가 절로나오는탱글 쫄깃한💦속살에⠀녹~찐한 내장까지증말 스릉흔다❤❤⠀밑반찬 구성도푸짐하니 다양하게즐길 수 있어 좋고!⠀살이꽉찬 대게&킹크랩 맛집👏⠀개별룸 형식으로걱정🙅 ♀없이 먹는'연동대게회타운'⠀🧭연동대게회타운*제주 제주시 신대로 125*064-903-1889#제주도맛집#제주맛집#제주공항근처맛집#제주골프#제주도골프#제주여행#제주도여행#제주#제주도#제주시맛집#제주시#제주도민맛집#제주공항#제주도공항1d\",\n",
       "  '2022-05-09',\n",
       "  'others',\n",
       "  '',\n",
       "  ['#제주도맛집',\n",
       "   '#제주맛집',\n",
       "   '#제주공항근처맛집',\n",
       "   '#제주골프',\n",
       "   '#제주도골프',\n",
       "   '#제주여행',\n",
       "   '#제주도여행',\n",
       "   '#제주',\n",
       "   '#제주도',\n",
       "   '#제주시맛집',\n",
       "   '#제주시',\n",
       "   '#제주도민맛집',\n",
       "   '#제주공항',\n",
       "   '#제주도공항1d']],\n",
       " ['jejuplanets.🥽조천읍 창꼼바위🥽자연이 만든 천연 액자 포토스팟!!📷제주도에서 유명한 인생샷 핫플존!바위 구멍 사이로 보이는바다뷰가 정말루 예술이야~😆@함께 가고싶은 사람 소환@주소: 제주시 조천읍 북촌리 393번지..#제주맛집 #제주도맛집 #제주공항근처맛집 #제주시맛집 #애월맛집 #중문맛집 #제주공항맛집 #서귀포맛집 #산방산맛집 #신제주맛집 #제주시청맛집 #제주애월맛집 #월정리맛집 #제주여행 #제주핫플1d',\n",
       "  '2022-05-09',\n",
       "  '1,188 likes',\n",
       "  '',\n",
       "  ['#제주맛집',\n",
       "   '#제주도맛집',\n",
       "   '#제주공항근처맛집',\n",
       "   '#제주시맛집',\n",
       "   '#애월맛집',\n",
       "   '#중문맛집',\n",
       "   '#제주공항맛집',\n",
       "   '#서귀포맛집',\n",
       "   '#산방산맛집',\n",
       "   '#신제주맛집',\n",
       "   '#제주시청맛집',\n",
       "   '#제주애월맛집',\n",
       "   '#월정리맛집',\n",
       "   '#제주여행',\n",
       "   '#제주핫플1d']],\n",
       " ['sohee_0.0-#제주도 🗿여사님이 제주도에서 사온 제주도 #너울 전통주 #칵테일 🍹---#제주도여행#여행스타그램#제주도카페#나들이#daily#follow#followforfollowback#likeforfollow#follow4followback#likeforlikes#일상#데일리#선팔하면맞팔#선팔맞팔#좋아요반사#좋반#인친환영#셀카#셀피#selfie#selca#부산#소통#제주도맛집#ootd#첫줄반사#술스타그램43s',\n",
       "  '2022-05-10',\n",
       "  '10 likes',\n",
       "  '',\n",
       "  ['#제주도',\n",
       "   '#너울',\n",
       "   '#칵테일',\n",
       "   '#제주도여행',\n",
       "   '#여행스타그램',\n",
       "   '#제주도카페',\n",
       "   '#나들이',\n",
       "   '#daily',\n",
       "   '#follow',\n",
       "   '#followforfollowback',\n",
       "   '#likeforfollow',\n",
       "   '#follow4followback',\n",
       "   '#likeforlikes',\n",
       "   '#일상',\n",
       "   '#데일리',\n",
       "   '#선팔하면맞팔',\n",
       "   '#선팔맞팔',\n",
       "   '#좋아요반사',\n",
       "   '#좋반',\n",
       "   '#인친환영',\n",
       "   '#셀카',\n",
       "   '#셀피',\n",
       "   '#selfie',\n",
       "   '#selca',\n",
       "   '#부산',\n",
       "   '#소통',\n",
       "   '#제주도맛집',\n",
       "   '#ootd',\n",
       "   '#첫줄반사',\n",
       "   '#술스타그램43s']],\n",
       " ['lss_0__바다해찬음식도 좋고 맛도 좋고 어느하나 빠지는 게 없었던 곳!가족들이랑 다시 꼭 가고야 말테야#협재맛집#한림맛집#애월맛집#서귀포맛집#제주도맛집#제주맛집바다해찬#애월가볼만한곳#협재가볼만한곳#한림가볼만한곳54s',\n",
       "  '2022-05-10',\n",
       "  0,\n",
       "  '',\n",
       "  ['#협재맛집',\n",
       "   '#한림맛집',\n",
       "   '#애월맛집',\n",
       "   '#서귀포맛집',\n",
       "   '#제주도맛집',\n",
       "   '#제주맛집바다해찬',\n",
       "   '#애월가볼만한곳',\n",
       "   '#협재가볼만한곳',\n",
       "   '#한림가볼만한곳54s']]]"
      ]
     },
     "execution_count": 39,
     "metadata": {},
     "output_type": "execute_result"
    }
   ],
   "source": [
    "results[:10]"
   ]
  },
  {
   "cell_type": "code",
   "execution_count": 45,
   "metadata": {},
   "outputs": [],
   "source": [
    "# 예제 5-11 크롤링 결과 저장하기\n",
    "\n",
    "import pandas as pd\n",
    "\n",
    "results_df = pd.DataFrame(results)\n",
    "results_df.columns = ['content','date','like','place','tags']\n",
    "results_df.to_excel('./files/1_crawling_jejudoMatJip.xlsx',index=False)\n"
   ]
  },
  {
   "cell_type": "markdown",
   "metadata": {},
   "source": [
    "### 5.1.8 여러 엑셀 파일의 중복을 제거한 후 통합 저장\n"
   ]
  },
  {
   "cell_type": "code",
   "execution_count": 47,
   "metadata": {},
   "outputs": [
    {
     "name": "stderr",
     "output_type": "stream",
     "text": [
      "/tmp/ipykernel_9393/1342247775.py:9: FutureWarning: The frame.append method is deprecated and will be removed from pandas in a future version. Use pandas.concat instead.\n",
      "  jeju_insta_df = jeju_insta_df.append(temp)\n",
      "/tmp/ipykernel_9393/1342247775.py:9: FutureWarning: The frame.append method is deprecated and will be removed from pandas in a future version. Use pandas.concat instead.\n",
      "  jeju_insta_df = jeju_insta_df.append(temp)\n",
      "/tmp/ipykernel_9393/1342247775.py:9: FutureWarning: The frame.append method is deprecated and will be removed from pandas in a future version. Use pandas.concat instead.\n",
      "  jeju_insta_df = jeju_insta_df.append(temp)\n",
      "/tmp/ipykernel_9393/1342247775.py:9: FutureWarning: The frame.append method is deprecated and will be removed from pandas in a future version. Use pandas.concat instead.\n",
      "  jeju_insta_df = jeju_insta_df.append(temp)\n"
     ]
    }
   ],
   "source": [
    "# 예제 5-12 여러 개의 저장파일 통합하기\n",
    "jeju_insta_df = pd.DataFrame( [ ] )\n",
    "\n",
    "folder = './files/'\n",
    "f_list = ['1_crawling_jejudoMatJip.xlsx', '1_crawling_jejudoGwanGwang.xlsx', '1_crawling_jejuMatJip.xlsx', '1_crawling_jejuYeoHang.xlsx']\n",
    "for fname in f_list:\n",
    "    fpath = folder + fname\n",
    "    temp = pd.read_excel(fpath,)\n",
    "    jeju_insta_df = jeju_insta_df.append(temp)\n",
    "jeju_insta_df\n",
    "jeju_insta_df.columns =['content','data','like','place','tags']\n"
   ]
  },
  {
   "cell_type": "code",
   "execution_count": 48,
   "metadata": {
    "scrolled": true
   },
   "outputs": [],
   "source": [
    "# 예제 5-13 중복 데이터 제거하고 저장하기\n",
    "jeju_insta_df.drop_duplicates(subset = [ \"content\"] , inplace = True)\n",
    "jeju_insta_df.to_excel('./files/1_crawling_raw.xlsx', index = False)"
   ]
  }
 ],
 "metadata": {
  "kernelspec": {
   "display_name": "Python 3",
   "language": "python",
   "name": "python3"
  },
  "language_info": {
   "codemirror_mode": {
    "name": "ipython",
    "version": 3
   },
   "file_extension": ".py",
   "mimetype": "text/x-python",
   "name": "python",
   "nbconvert_exporter": "python",
   "pygments_lexer": "ipython3",
   "version": "3.8.10"
  }
 },
 "nbformat": 4,
 "nbformat_minor": 2
}
