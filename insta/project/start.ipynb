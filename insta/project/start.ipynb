{
 "cells": [
  {
   "cell_type": "code",
   "execution_count": 3,
   "metadata": {},
   "outputs": [],
   "source": [
    "import chromedriver_autoinstaller\n",
    "from selenium import webdriver\n",
    "\n",
    "chromedriver_autoinstaller.install()\n",
    "driver = webdriver.Chrome()"
   ]
  },
  {
   "cell_type": "code",
   "execution_count": 55,
   "metadata": {},
   "outputs": [],
   "source": [
    "from time import sleep"
   ]
  },
  {
   "cell_type": "code",
   "execution_count": 4,
   "metadata": {},
   "outputs": [],
   "source": [
    "driver.get('https://www.instagram.com/')"
   ]
  },
  {
   "cell_type": "code",
   "execution_count": null,
   "metadata": {},
   "outputs": [],
   "source": [
    "button = driver.find_element_by_css_selector('#details-button')\n",
    "button.click()\n",
    "link = driver.find_element_by_css_selector('#proceed-link')\n",
    "link.click()\n"
   ]
  },
  {
   "cell_type": "code",
   "execution_count": 5,
   "metadata": {},
   "outputs": [
    {
     "data": {
      "text/plain": [
       "'cake0103@nate.com'"
      ]
     },
     "execution_count": 5,
     "metadata": {},
     "output_type": "execute_result"
    }
   ],
   "source": [
    "with open('private', 'r') as f:\n",
    "    email = f.readline().strip()\n",
    "    password = f.readline().strip()\n",
    "email"
   ]
  },
  {
   "cell_type": "code",
   "execution_count": 8,
   "metadata": {},
   "outputs": [
    {
     "name": "stderr",
     "output_type": "stream",
     "text": [
      "/tmp/ipykernel_4169/1737844390.py:1: DeprecationWarning: find_elements_by_css_selector is deprecated. Please use find_elements(by=By.CSS_SELECTOR, value=css_selector) instead\n",
      "  input_id = driver.find_elements_by_css_selector('input._2hvTZ.pexuQ.zyHYP')\n"
     ]
    }
   ],
   "source": [
    "input_id = driver.find_elements_by_css_selector('input._2hvTZ.pexuQ.zyHYP')[0]\n",
    "# input_id.send_keys(email)"
   ]
  },
  {
   "cell_type": "code",
   "execution_count": 9,
   "metadata": {},
   "outputs": [
    {
     "data": {
      "text/plain": [
       "[<selenium.webdriver.remote.webelement.WebElement (session=\"f397acee0092b7a400feb4e6c034efd6\", element=\"be502b0c-3819-4f6e-a740-2ad0ea6b04c7\")>,\n",
       " <selenium.webdriver.remote.webelement.WebElement (session=\"f397acee0092b7a400feb4e6c034efd6\", element=\"374d849d-c061-4db1-b0fb-d5ebd50dca7c\")>]"
      ]
     },
     "execution_count": 9,
     "metadata": {},
     "output_type": "execute_result"
    }
   ],
   "source": [
    "input_id"
   ]
  },
  {
   "cell_type": "code",
   "execution_count": 10,
   "metadata": {},
   "outputs": [
    {
     "name": "stderr",
     "output_type": "stream",
     "text": [
      "/tmp/ipykernel_4169/1311593951.py:1: DeprecationWarning: find_elements_by_css_selector is deprecated. Please use find_elements(by=By.CSS_SELECTOR, value=css_selector) instead\n",
      "  input_pw = driver.find_elements_by_css_selector('input._2hvTZ.pexuQ.zyHYP')[1]\n"
     ]
    }
   ],
   "source": [
    "input_pw = driver.find_elements_by_css_selector('input._2hvTZ.pexuQ.zyHYP')[1]\n",
    "input_pw.send_keys(password)\n",
    "input_pw.submit()"
   ]
  },
  {
   "cell_type": "code",
   "execution_count": 11,
   "metadata": {},
   "outputs": [
    {
     "name": "stderr",
     "output_type": "stream",
     "text": [
      "/tmp/ipykernel_4169/2168658101.py:2: DeprecationWarning: find_elements_by_css_selector is deprecated. Please use find_elements(by=By.CSS_SELECTOR, value=css_selector) instead\n",
      "  button = driver.find_elements_by_css_selector('button.sqdOP.yWX7d.y3zKF')[0]\n"
     ]
    }
   ],
   "source": [
    "# 로그인 정보 저장하겠냐는 메세지 \n",
    "button = driver.find_elements_by_css_selector('button.sqdOP.yWX7d.y3zKF')[0]\n",
    "button.click()"
   ]
  },
  {
   "cell_type": "code",
   "execution_count": 12,
   "metadata": {},
   "outputs": [
    {
     "name": "stderr",
     "output_type": "stream",
     "text": [
      "/tmp/ipykernel_4169/937824848.py:2: DeprecationWarning: find_elements_by_css_selector is deprecated. Please use find_elements(by=By.CSS_SELECTOR, value=css_selector) instead\n",
      "  button = driver.find_elements_by_css_selector('.aOOlW.HoLwm')[0]\n"
     ]
    }
   ],
   "source": [
    "# 알림을 키라는 메세지에 싫다는 의사\n",
    "button = driver.find_elements_by_css_selector('.aOOlW.HoLwm')[0]\n",
    "button.click()"
   ]
  },
  {
   "cell_type": "code",
   "execution_count": 13,
   "metadata": {},
   "outputs": [],
   "source": [
    "def insta_searching(word):\n",
    "    url = f'https://www.instagram.com/explore/tags/{word}'\n",
    "    return url"
   ]
  },
  {
   "cell_type": "code",
   "execution_count": 15,
   "metadata": {},
   "outputs": [],
   "source": [
    "word = \"제주도맛집\"\n",
    "url = insta_searching(word)\n",
    "driver.get(url)"
   ]
  },
  {
   "cell_type": "code",
   "execution_count": 57,
   "metadata": {},
   "outputs": [
    {
     "name": "stderr",
     "output_type": "stream",
     "text": [
      "/tmp/ipykernel_4169/4221054712.py:2: DeprecationWarning: find_element_by_css_selector is deprecated. Please use find_element(by=By.CSS_SELECTOR, value=css_selector) instead\n",
      "  first = driver.find_element_by_css_selector(\"div.eLAPa\")\n"
     ]
    }
   ],
   "source": [
    "def select_first(driver):\n",
    "    first = driver.find_element_by_css_selector(\"div.eLAPa\")\n",
    "    first.click()\n",
    "    sleep(0.5)\n",
    "\n",
    "select_first(driver)"
   ]
  },
  {
   "cell_type": "code",
   "execution_count": 65,
   "metadata": {},
   "outputs": [
    {
     "data": {
      "text/plain": [
       "['#국수 너무 좋다 ㅠㅠ제주에서 꼭 가봐야 할 맛집 추천합니국수 여러분 제주도 오시면 #늘소담 은 꼭 가보세요맛부터 너무 좋아요늘소담 #제주고기국수맛집 #제주국수맛집 #제주공항근처맛집 #제주탑동맛집 #제주공항근처국수맛집 #제주도맛집 #제주맛집 #제주늘소담 #늘소담 #제주보말칼국수 #제주돼지국밥 #홍국수 #고기폭탄유부초밥 #눈꽃폭탄유부초밥 #보말솥죽 #돔배고기#먹팔맛팔 #제주맛집발견 #제주가볼만한곳 #댓글은맞팔 #댓글맞팔 #맛집 #댓글반사 #먹방녀 #먹팔하면맞팔 #제쥬맛집그램',\n",
       " '2022-05-10',\n",
       " '103',\n",
       " '',\n",
       " ['#국수',\n",
       "  '#늘소담',\n",
       "  '#제주고기국수맛집',\n",
       "  '#제주국수맛집',\n",
       "  '#제주공항근처맛집',\n",
       "  '#제주탑동맛집',\n",
       "  '#제주공항근처국수맛집',\n",
       "  '#제주도맛집',\n",
       "  '#제주맛집',\n",
       "  '#제주늘소담',\n",
       "  '#늘소담',\n",
       "  '#제주보말칼국수',\n",
       "  '#제주돼지국밥',\n",
       "  '#홍국수',\n",
       "  '#고기폭탄유부초밥',\n",
       "  '#눈꽃폭탄유부초밥',\n",
       "  '#보말솥죽',\n",
       "  '#돔배고기',\n",
       "  '#먹팔맛팔',\n",
       "  '#제주맛집발견',\n",
       "  '#제주가볼만한곳',\n",
       "  '#댓글은맞팔',\n",
       "  '#댓글맞팔',\n",
       "  '#맛집',\n",
       "  '#댓글반사',\n",
       "  '#먹방녀',\n",
       "  '#먹팔하면맞팔',\n",
       "  '#제쥬맛집그램']]"
      ]
     },
     "execution_count": 65,
     "metadata": {},
     "output_type": "execute_result"
    }
   ],
   "source": [
    "from bs4 import BeautifulSoup\n",
    "import re\n",
    "import unicodedata\n",
    "\n",
    "def get_content(driver):\n",
    "    html = driver.page_source\n",
    "    soup = BeautifulSoup(html, 'html.parser')\n",
    "    try: \n",
    "        content = soup.select('div.MOdxS')[0].text\n",
    "    except:\n",
    "        content = ''\n",
    "    tags = re.findall(r'#[^\\s#,\\\\]+', content)\n",
    "    date = soup.select('time.FH9sR.RhOlS')[0]['datetime'][:10]\n",
    "    try:\n",
    "        like = soup.select('div._7UhW9.xLCgt.qyrsm.KV-D4.fDxYl.T0kll > span')[0].text\n",
    "    except:\n",
    "        like = '0'\n",
    "    try:\n",
    "        place = soup.select('div.M30cS')[0].text\n",
    "        place = unicodedata.normalize('NFC', place)\n",
    "    except:\n",
    "        place = ''\n",
    "    return [content, date, like, place, tags]\n",
    "get_content(driver)"
   ]
  },
  {
   "cell_type": "code",
   "execution_count": 68,
   "metadata": {},
   "outputs": [
    {
     "name": "stderr",
     "output_type": "stream",
     "text": [
      "/tmp/ipykernel_4169/942184774.py:3: DeprecationWarning: find_element_by_css_selector is deprecated. Please use find_element(by=By.CSS_SELECTOR, value=css_selector) instead\n",
      "  right = driver.find_element_by_css_selector('.l8mY4.feth3')\n"
     ]
    }
   ],
   "source": [
    "def move_next(driver):\n",
    "    \n",
    "    right = driver.find_element_by_css_selector('.l8mY4.feth3')\n",
    "    right.click()\n",
    "    sleep(1)\n",
    "\n",
    "move_next(driver)"
   ]
  },
  {
   "cell_type": "code",
   "execution_count": 69,
   "metadata": {},
   "outputs": [
    {
     "name": "stderr",
     "output_type": "stream",
     "text": [
      "/tmp/ipykernel_4169/942184774.py:3: DeprecationWarning: find_element_by_css_selector is deprecated. Please use find_element(by=By.CSS_SELECTOR, value=css_selector) instead\n",
      "  right = driver.find_element_by_css_selector('.l8mY4.feth3')\n"
     ]
    },
    {
     "data": {
      "text/plain": [
       "[['I visited one of the famous restaurants in Jeju Island that many people recommended in my community. Yukdodam Seogwipo. The staff are very friendly and service-minded.#육도담 #육도담서귀포점 #제주도맛집 #제주도찐맛집 #jeju #jejuisland #jejurestaurant #가격도착한편 #직원들정말친절 #jejumeatrestaurant #제주삼겹살 #제주맛집 #서귀포맛집 #제주고기집 #제주도고기집 #jejuhotplace #제주핫플레이스 #서귀포 #seogwipo #숙성고기 #숙성고기맛집',\n",
       "  '2022-05-10',\n",
       "  '5',\n",
       "  '',\n",
       "  ['#육도담',\n",
       "   '#육도담서귀포점',\n",
       "   '#제주도맛집',\n",
       "   '#제주도찐맛집',\n",
       "   '#jeju',\n",
       "   '#jejuisland',\n",
       "   '#jejurestaurant',\n",
       "   '#가격도착한편',\n",
       "   '#직원들정말친절',\n",
       "   '#jejumeatrestaurant',\n",
       "   '#제주삼겹살',\n",
       "   '#제주맛집',\n",
       "   '#서귀포맛집',\n",
       "   '#제주고기집',\n",
       "   '#제주도고기집',\n",
       "   '#jejuhotplace',\n",
       "   '#제주핫플레이스',\n",
       "   '#서귀포',\n",
       "   '#seogwipo',\n",
       "   '#숙성고기',\n",
       "   '#숙성고기맛집']],\n",
       " ['정말 생각보다 너무 이뻤던 카페🤍제주도여행은 다 오빠픽이었는데하나도 빠짐없이 다 좋았음...❤️',\n",
       "  '2022-05-10',\n",
       "  '52',\n",
       "  'Jeju-do',\n",
       "  []],\n",
       " ['🌴🐤🌿🌿#jeju', '2022-05-10', '9', '', ['#jeju']],\n",
       " ['🏖미스터육🏖🎈이불세트 - 48,000원🎈김치찌개 - 3,000원ㆍㆍㆍ이번에 기숙사 근처에 새로 생긴 고깃집에 다녀왔음리뷰를 보고 가려고 했는데 생긴지 얼마 안되서 리뷰가 2개밖에 없었음ㅠ가서 바로 이불세트를 주문했는데  괜찮았음ㅎㅎ일반 불판이 아니라서 기름에 마늘을 구워먹을 수는 없었는데통에 참기름 담아서 구워먹을수는 있음이불세트에 이불갈비랑 꽃목살이 나오는데 둘 다 맛있음고기를 구워주시면서 히말라야솔트랑 후추를 뿌려주시는데손으로 돌려서 나오는게 아니라 버튼을 누르니 자동으로 갈아져서 나옴😳그리고 소스들도 많이 있었음 멜젓, 쯔란, 와사비 고추장아찌소스, 홀그레인 머스타드, 타르소스가 나옴소스에 고기를 찍어먹는데 소스가 많으니 계속 다른 맛들도 볼수있어서👍(수제양념소스들도 많음!!)그리고 김치찌개도 3,000원밖에 안하는데 내용물을 보면 단품식사로 7,000원에 팔아도 괜찮을 것 같음맛도 있고 안에 내용물들이 많음ㅎㅎ기숙사 근처에 생긴 고깃집인데 사장님도 친절하시고맛도 좋고 앞으로 자주 갈듯ㅎㅎ😋👍다음에는 젓갈비빔밥도 시켜서 먹을 예정!!',\n",
       "  '2022-05-09',\n",
       "  '104',\n",
       "  'Jeju City',\n",
       "  []],\n",
       " ['🏖육갑봉🏖🎈옛날 왕갈비탕 - 12,000원ㆍㆍㆍ매일 해장할 때 시켜먹던 갈비탕 맛집을 드디어 매장에 와서 먹어봤음국물부터 김치가 진짜 맛있는 곳인데 병원 갔다가 몸보신하러 왔음배달로 시킬 때보다 더 큰 갈비대가 나왔는데 진짜 큼😳(아무래도 배달로 시킬 때는 배달용기 때문에 저렇게 긴 갈비가 안나오는듯)고기도 엄청 푸짐하고 국물도 시원하고 배달도 맛있지만역시 매장에 직접와서 먹으니 장난아님...🤤그리고 배추김치가 진짜 맛있어서 덜어먹으라고 나온 김치를 다 먹을정도로 진짜 맛있음자주 배달 시켜먹는 곳이지만 매장에 오니깐 더 맛있었고제주도 놀러오는 사람들은 해장할 때 시켜먹으면 딱일듯😋👍',\n",
       "  '2022-05-08',\n",
       "  '188',\n",
       "  '제주시 아라동',\n",
       "  []]]"
      ]
     },
     "execution_count": 69,
     "metadata": {},
     "output_type": "execute_result"
    }
   ],
   "source": [
    "results = []\n",
    "\n",
    "target = 5\n",
    "\n",
    "for i in range(target):\n",
    "    try:\n",
    "        data = get_content(driver)\n",
    "        results.append(data)\n",
    "        move_next(driver)\n",
    "    except:\n",
    "        move_next(driver)\n",
    "\n",
    "results[:10]"
   ]
  },
  {
   "cell_type": "code",
   "execution_count": 70,
   "metadata": {},
   "outputs": [
    {
     "data": {
      "text/html": [
       "<div>\n",
       "<style scoped>\n",
       "    .dataframe tbody tr th:only-of-type {\n",
       "        vertical-align: middle;\n",
       "    }\n",
       "\n",
       "    .dataframe tbody tr th {\n",
       "        vertical-align: top;\n",
       "    }\n",
       "\n",
       "    .dataframe thead th {\n",
       "        text-align: right;\n",
       "    }\n",
       "</style>\n",
       "<table border=\"1\" class=\"dataframe\">\n",
       "  <thead>\n",
       "    <tr style=\"text-align: right;\">\n",
       "      <th></th>\n",
       "      <th>0</th>\n",
       "      <th>1</th>\n",
       "      <th>2</th>\n",
       "      <th>3</th>\n",
       "      <th>4</th>\n",
       "    </tr>\n",
       "  </thead>\n",
       "  <tbody>\n",
       "    <tr>\n",
       "      <th>0</th>\n",
       "      <td>I visited one of the famous restaurants in Jej...</td>\n",
       "      <td>2022-05-10</td>\n",
       "      <td>5</td>\n",
       "      <td></td>\n",
       "      <td>[#육도담, #육도담서귀포점, #제주도맛집, #제주도찐맛집, #jeju, #jeju...</td>\n",
       "    </tr>\n",
       "    <tr>\n",
       "      <th>1</th>\n",
       "      <td>정말 생각보다 너무 이뻤던 카페🤍제주도여행은 다 오빠픽이었는데하나도 빠짐없이 다 좋...</td>\n",
       "      <td>2022-05-10</td>\n",
       "      <td>52</td>\n",
       "      <td>Jeju-do</td>\n",
       "      <td>[]</td>\n",
       "    </tr>\n",
       "    <tr>\n",
       "      <th>2</th>\n",
       "      <td>🌴🐤🌿🌿#jeju</td>\n",
       "      <td>2022-05-10</td>\n",
       "      <td>9</td>\n",
       "      <td></td>\n",
       "      <td>[#jeju]</td>\n",
       "    </tr>\n",
       "    <tr>\n",
       "      <th>3</th>\n",
       "      <td>🏖미스터육🏖🎈이불세트 - 48,000원🎈김치찌개 - 3,000원ㆍㆍㆍ이번에 기숙사 ...</td>\n",
       "      <td>2022-05-09</td>\n",
       "      <td>104</td>\n",
       "      <td>Jeju City</td>\n",
       "      <td>[]</td>\n",
       "    </tr>\n",
       "    <tr>\n",
       "      <th>4</th>\n",
       "      <td>🏖육갑봉🏖🎈옛날 왕갈비탕 - 12,000원ㆍㆍㆍ매일 해장할 때 시켜먹던 갈비탕 맛집...</td>\n",
       "      <td>2022-05-08</td>\n",
       "      <td>188</td>\n",
       "      <td>제주시 아라동</td>\n",
       "      <td>[]</td>\n",
       "    </tr>\n",
       "  </tbody>\n",
       "</table>\n",
       "</div>"
      ],
      "text/plain": [
       "                                                   0           1    2  \\\n",
       "0  I visited one of the famous restaurants in Jej...  2022-05-10    5   \n",
       "1  정말 생각보다 너무 이뻤던 카페🤍제주도여행은 다 오빠픽이었는데하나도 빠짐없이 다 좋...  2022-05-10   52   \n",
       "2                                          🌴🐤🌿🌿#jeju  2022-05-10    9   \n",
       "3  🏖미스터육🏖🎈이불세트 - 48,000원🎈김치찌개 - 3,000원ㆍㆍㆍ이번에 기숙사 ...  2022-05-09  104   \n",
       "4  🏖육갑봉🏖🎈옛날 왕갈비탕 - 12,000원ㆍㆍㆍ매일 해장할 때 시켜먹던 갈비탕 맛집...  2022-05-08  188   \n",
       "\n",
       "           3                                                  4  \n",
       "0             [#육도담, #육도담서귀포점, #제주도맛집, #제주도찐맛집, #jeju, #jeju...  \n",
       "1    Jeju-do                                                 []  \n",
       "2                                                       [#jeju]  \n",
       "3  Jeju City                                                 []  \n",
       "4    제주시 아라동                                                 []  "
      ]
     },
     "execution_count": 70,
     "metadata": {},
     "output_type": "execute_result"
    }
   ],
   "source": [
    "import pandas as pd\n",
    "\n",
    "results_df = pd.DataFrame(results)\n",
    "results_df"
   ]
  },
  {
   "cell_type": "code",
   "execution_count": 73,
   "metadata": {},
   "outputs": [],
   "source": [
    "results_df.columns = ['content', 'date', 'like', 'place', 'tags']\n",
    "results_df.to_excel('./myfile/jejuMatjip.xlsx', index=False)"
   ]
  },
  {
   "cell_type": "code",
   "execution_count": 78,
   "metadata": {},
   "outputs": [],
   "source": [
    "jeju_insta_df = pd.DataFrame([])\n",
    "\n",
    "folder = './files/'\n",
    "f_list = []"
   ]
  },
  {
   "cell_type": "code",
   "execution_count": 80,
   "metadata": {},
   "outputs": [
    {
     "data": {
      "text/plain": [
       "['1_crawling_jejuYeoHang.xlsx',\n",
       " '1_crawling_jejuMatJip.xlsx',\n",
       " '1_crawling_jejudoGwanGwang.xlsx',\n",
       " '1_crawling_jejudoMatJip.xlsx']"
      ]
     },
     "execution_count": 80,
     "metadata": {},
     "output_type": "execute_result"
    }
   ],
   "source": [
    "import os\n",
    "f_list = [i for i in os.listdir('files') if 'crawling_jeju' in i]\n",
    "f_list"
   ]
  },
  {
   "cell_type": "code",
   "execution_count": 81,
   "metadata": {},
   "outputs": [
    {
     "name": "stderr",
     "output_type": "stream",
     "text": [
      "/tmp/ipykernel_4169/3202550926.py:4: FutureWarning: The frame.append method is deprecated and will be removed from pandas in a future version. Use pandas.concat instead.\n",
      "  jeju_insta_df = jeju_insta_df.append(temp)\n",
      "/tmp/ipykernel_4169/3202550926.py:4: FutureWarning: The frame.append method is deprecated and will be removed from pandas in a future version. Use pandas.concat instead.\n",
      "  jeju_insta_df = jeju_insta_df.append(temp)\n",
      "/tmp/ipykernel_4169/3202550926.py:4: FutureWarning: The frame.append method is deprecated and will be removed from pandas in a future version. Use pandas.concat instead.\n",
      "  jeju_insta_df = jeju_insta_df.append(temp)\n",
      "/tmp/ipykernel_4169/3202550926.py:4: FutureWarning: The frame.append method is deprecated and will be removed from pandas in a future version. Use pandas.concat instead.\n",
      "  jeju_insta_df = jeju_insta_df.append(temp)\n"
     ]
    },
    {
     "data": {
      "text/html": [
       "<div>\n",
       "<style scoped>\n",
       "    .dataframe tbody tr th:only-of-type {\n",
       "        vertical-align: middle;\n",
       "    }\n",
       "\n",
       "    .dataframe tbody tr th {\n",
       "        vertical-align: top;\n",
       "    }\n",
       "\n",
       "    .dataframe thead th {\n",
       "        text-align: right;\n",
       "    }\n",
       "</style>\n",
       "<table border=\"1\" class=\"dataframe\">\n",
       "  <thead>\n",
       "    <tr style=\"text-align: right;\">\n",
       "      <th></th>\n",
       "      <th>content</th>\n",
       "      <th>date</th>\n",
       "      <th>like</th>\n",
       "      <th>place</th>\n",
       "      <th>tags</th>\n",
       "    </tr>\n",
       "  </thead>\n",
       "  <tbody>\n",
       "    <tr>\n",
       "      <th>0</th>\n",
       "      <td>제주에서 맞는 새해 첫날, 해는 못봤지만 눈은 원없이 보고 왔다!!! 눈되게 좋아하...</td>\n",
       "      <td>2019-01-01</td>\n",
       "      <td>431</td>\n",
       "      <td>1100고지</td>\n",
       "      <td>['#제주도']</td>\n",
       "    </tr>\n",
       "    <tr>\n",
       "      <th>1</th>\n",
       "      <td>저번에 못간 #동백군락지 🌺🌺보는것보다 사진이 더 이뻐요! (칭찬인지 욕인지.. 😜...</td>\n",
       "      <td>2019-01-01</td>\n",
       "      <td>1,521</td>\n",
       "      <td>위미동백나무군락</td>\n",
       "      <td>['#동백군락지', '#제주위미동백군락지', '#제주', '#위미', '#동백', ...</td>\n",
       "    </tr>\n",
       "    <tr>\n",
       "      <th>2</th>\n",
       "      <td>저번에 못간 #동백군락지 🌺🌺보는것보다 사진이 더 이뻐요! (칭찬인지 욕인지.. 😜...</td>\n",
       "      <td>2019-01-01</td>\n",
       "      <td>1,521</td>\n",
       "      <td>위미동백나무군락</td>\n",
       "      <td>['#동백군락지', '#제주위미동백군락지', '#제주', '#위미', '#동백', ...</td>\n",
       "    </tr>\n",
       "    <tr>\n",
       "      <th>3</th>\n",
       "      <td>.엘사는 아니지만 눈의 왕국을 다녀왔도다~~^^1100고지 주차장 잇바이데쓰 ㅠㅠ그...</td>\n",
       "      <td>2018-12-31</td>\n",
       "      <td>742</td>\n",
       "      <td>NaN</td>\n",
       "      <td>['#제주', '#숲길', '#제주도', '#제주인생사진', '#제주여행', '#제...</td>\n",
       "    </tr>\n",
       "    <tr>\n",
       "      <th>4</th>\n",
       "      <td>#제주 #친봉산장 #adieu #2018 12월 31일,우리의 2018 마지막 데이...</td>\n",
       "      <td>2019-01-01</td>\n",
       "      <td>108</td>\n",
       "      <td>친봉산장</td>\n",
       "      <td>['#제주', '#친봉산장', '#adieu', '#2018', '#럽스타그램', ...</td>\n",
       "    </tr>\n",
       "    <tr>\n",
       "      <th>...</th>\n",
       "      <td>...</td>\n",
       "      <td>...</td>\n",
       "      <td>...</td>\n",
       "      <td>...</td>\n",
       "      <td>...</td>\n",
       "    </tr>\n",
       "    <tr>\n",
       "      <th>8</th>\n",
       "      <td>sohee_0.0-#제주도 🗿여사님이 제주도에서 사온 제주도 #너울 전통주 #칵테일...</td>\n",
       "      <td>2022-05-10</td>\n",
       "      <td>10 likes</td>\n",
       "      <td>NaN</td>\n",
       "      <td>['#제주도', '#너울', '#칵테일', '#제주도여행', '#여행스타ᄀ...</td>\n",
       "    </tr>\n",
       "    <tr>\n",
       "      <th>9</th>\n",
       "      <td>lss_0__바다해찬음식도 좋고 맛도 좋고 어느하나 빠지는 게 없었던 곳!가족들이랑...</td>\n",
       "      <td>2022-05-10</td>\n",
       "      <td>0</td>\n",
       "      <td>NaN</td>\n",
       "      <td>['#협재맛집', '#한림맛집', '#애월맛집', '#서귀포맛집', '#제주도맛집'...</td>\n",
       "    </tr>\n",
       "    <tr>\n",
       "      <th>10</th>\n",
       "      <td>realtalk.o날씨도 좋고맛도 분위기도 좋았어🤍3m</td>\n",
       "      <td>2022-05-10</td>\n",
       "      <td>12 likes</td>\n",
       "      <td>NaN</td>\n",
       "      <td>[]</td>\n",
       "    </tr>\n",
       "    <tr>\n",
       "      <th>11</th>\n",
       "      <td>plateyummy1234영주말가든의 말고기!요기는 고기가 정말 신선하고 맛있어요~...</td>\n",
       "      <td>2022-05-10</td>\n",
       "      <td>2 likes</td>\n",
       "      <td>NaN</td>\n",
       "      <td>['#영주말가든', '#제주맛집', '#제주도맛집', '#제주공항근처맛집', '#제...</td>\n",
       "    </tr>\n",
       "    <tr>\n",
       "      <th>12</th>\n",
       "      <td>yeggyun1662인테리어부터 뷰, 디저트 모두 맘에 들었던제주 카페 투어 필수 ...</td>\n",
       "      <td>2022-05-10</td>\n",
       "      <td>0</td>\n",
       "      <td>NaN</td>\n",
       "      <td>['#협재카페', '#제주도카페', '#제주도여행', '#제주카페', '#제주데이트...</td>\n",
       "    </tr>\n",
       "  </tbody>\n",
       "</table>\n",
       "<p>8780 rows × 5 columns</p>\n",
       "</div>"
      ],
      "text/plain": [
       "                                              content        date      like  \\\n",
       "0   제주에서 맞는 새해 첫날, 해는 못봤지만 눈은 원없이 보고 왔다!!! 눈되게 좋아하...  2019-01-01       431   \n",
       "1   저번에 못간 #동백군락지 🌺🌺보는것보다 사진이 더 이뻐요! (칭찬인지 욕인지.. 😜...  2019-01-01     1,521   \n",
       "2   저번에 못간 #동백군락지 🌺🌺보는것보다 사진이 더 이뻐요! (칭찬인지 욕인지.. 😜...  2019-01-01     1,521   \n",
       "3   .엘사는 아니지만 눈의 왕국을 다녀왔도다~~^^1100고지 주차장 잇바이데쓰 ㅠㅠ그...  2018-12-31       742   \n",
       "4   #제주 #친봉산장 #adieu #2018 12월 31일,우리의 2018 마지막 데이...  2019-01-01       108   \n",
       "..                                                ...         ...       ...   \n",
       "8   sohee_0.0-#제주도 🗿여사님이 제주도에서 사온 제주도 #너울 전통주 #칵테일...  2022-05-10  10 likes   \n",
       "9   lss_0__바다해찬음식도 좋고 맛도 좋고 어느하나 빠지는 게 없었던 곳!가족들이랑...  2022-05-10         0   \n",
       "10                     realtalk.o날씨도 좋고맛도 분위기도 좋았어🤍3m  2022-05-10  12 likes   \n",
       "11  plateyummy1234영주말가든의 말고기!요기는 고기가 정말 신선하고 맛있어요~...  2022-05-10   2 likes   \n",
       "12  yeggyun1662인테리어부터 뷰, 디저트 모두 맘에 들었던제주 카페 투어 필수 ...  2022-05-10         0   \n",
       "\n",
       "       place                                               tags  \n",
       "0     1100고지                                           ['#제주도']  \n",
       "1   위미동백나무군락  ['#동백군락지', '#제주위미동백군락지', '#제주', '#위미', '#동백', ...  \n",
       "2   위미동백나무군락  ['#동백군락지', '#제주위미동백군락지', '#제주', '#위미', '#동백', ...  \n",
       "3        NaN  ['#제주', '#숲길', '#제주도', '#제주인생사진', '#제주여행', '#제...  \n",
       "4       친봉산장  ['#제주', '#친봉산장', '#adieu', '#2018', '#럽스타그램', ...  \n",
       "..       ...                                                ...  \n",
       "8        NaN  ['#제주도', '#너울', '#칵테일', '#제주도여행', '#여행스타ᄀ...  \n",
       "9        NaN  ['#협재맛집', '#한림맛집', '#애월맛집', '#서귀포맛집', '#제주도맛집'...  \n",
       "10       NaN                                                 []  \n",
       "11       NaN  ['#영주말가든', '#제주맛집', '#제주도맛집', '#제주공항근처맛집', '#제...  \n",
       "12       NaN  ['#협재카페', '#제주도카페', '#제주도여행', '#제주카페', '#제주데이트...  \n",
       "\n",
       "[8780 rows x 5 columns]"
      ]
     },
     "execution_count": 81,
     "metadata": {},
     "output_type": "execute_result"
    }
   ],
   "source": [
    "for fname in f_list:\n",
    "    fpath = folder + fname.DataFrame(tag_counts_selected.most_common(30)"
   ]
  },
  {
   "cell_type": "code",
   "execution_count": 82,
   "metadata": {},
   "outputs": [
    {
     "data": {
      "text/html": [
       "<div>\n",
       "<style scoped>\n",
       "    .dataframe tbody tr th:only-of-type {\n",
       "        vertical-align: middle;\n",
       "    }\n",
       "\n",
       "    .dataframe tbody tr th {\n",
       "        vertical-align: top;\n",
       "    }\n",
       "\n",
       "    .dataframe thead th {\n",
       "        text-align: right;\n",
       "    }\n",
       "</style>\n",
       "<table border=\"1\" class=\"dataframe\">\n",
       "  <thead>\n",
       "    <tr style=\"text-align: right;\">\n",
       "      <th></th>\n",
       "      <th>content</th>\n",
       "      <th>date</th>\n",
       "      <th>like</th>\n",
       "      <th>place</th>\n",
       "      <th>tags</th>\n",
       "    </tr>\n",
       "  </thead>\n",
       "  <tbody>\n",
       "    <tr>\n",
       "      <th>0</th>\n",
       "      <td>제주에서 맞는 새해 첫날, 해는 못봤지만 눈은 원없이 보고 왔다!!! 눈되게 좋아하...</td>\n",
       "      <td>2019-01-01</td>\n",
       "      <td>431</td>\n",
       "      <td>1100고지</td>\n",
       "      <td>['#제주도']</td>\n",
       "    </tr>\n",
       "    <tr>\n",
       "      <th>1</th>\n",
       "      <td>저번에 못간 #동백군락지 🌺🌺보는것보다 사진이 더 이뻐요! (칭찬인지 욕인지.. 😜...</td>\n",
       "      <td>2019-01-01</td>\n",
       "      <td>1,521</td>\n",
       "      <td>위미동백나무군락</td>\n",
       "      <td>['#동백군락지', '#제주위미동백군락지', '#제주', '#위미', '#동백', ...</td>\n",
       "    </tr>\n",
       "    <tr>\n",
       "      <th>3</th>\n",
       "      <td>.엘사는 아니지만 눈의 왕국을 다녀왔도다~~^^1100고지 주차장 잇바이데쓰 ㅠㅠ그...</td>\n",
       "      <td>2018-12-31</td>\n",
       "      <td>742</td>\n",
       "      <td>NaN</td>\n",
       "      <td>['#제주', '#숲길', '#제주도', '#제주인생사진', '#제주여행', '#제...</td>\n",
       "    </tr>\n",
       "    <tr>\n",
       "      <th>4</th>\n",
       "      <td>#제주 #친봉산장 #adieu #2018 12월 31일,우리의 2018 마지막 데이...</td>\n",
       "      <td>2019-01-01</td>\n",
       "      <td>108</td>\n",
       "      <td>친봉산장</td>\n",
       "      <td>['#제주', '#친봉산장', '#adieu', '#2018', '#럽스타그램', ...</td>\n",
       "    </tr>\n",
       "    <tr>\n",
       "      <th>5</th>\n",
       "      <td>_와... 제주 겨울 바다 예술 😍😍😍</td>\n",
       "      <td>2019-01-01</td>\n",
       "      <td>718</td>\n",
       "      <td>Jeju Island 제주특별자치도 济州道</td>\n",
       "      <td>[]</td>\n",
       "    </tr>\n",
       "    <tr>\n",
       "      <th>...</th>\n",
       "      <td>...</td>\n",
       "      <td>...</td>\n",
       "      <td>...</td>\n",
       "      <td>...</td>\n",
       "      <td>...</td>\n",
       "    </tr>\n",
       "    <tr>\n",
       "      <th>8</th>\n",
       "      <td>sohee_0.0-#제주도 🗿여사님이 제주도에서 사온 제주도 #너울 전통주 #칵테일...</td>\n",
       "      <td>2022-05-10</td>\n",
       "      <td>10 likes</td>\n",
       "      <td>NaN</td>\n",
       "      <td>['#제주도', '#너울', '#칵테일', '#제주도여행', '#여행스타ᄀ...</td>\n",
       "    </tr>\n",
       "    <tr>\n",
       "      <th>9</th>\n",
       "      <td>lss_0__바다해찬음식도 좋고 맛도 좋고 어느하나 빠지는 게 없었던 곳!가족들이랑...</td>\n",
       "      <td>2022-05-10</td>\n",
       "      <td>0</td>\n",
       "      <td>NaN</td>\n",
       "      <td>['#협재맛집', '#한림맛집', '#애월맛집', '#서귀포맛집', '#제주도맛집'...</td>\n",
       "    </tr>\n",
       "    <tr>\n",
       "      <th>10</th>\n",
       "      <td>realtalk.o날씨도 좋고맛도 분위기도 좋았어🤍3m</td>\n",
       "      <td>2022-05-10</td>\n",
       "      <td>12 likes</td>\n",
       "      <td>NaN</td>\n",
       "      <td>[]</td>\n",
       "    </tr>\n",
       "    <tr>\n",
       "      <th>11</th>\n",
       "      <td>plateyummy1234영주말가든의 말고기!요기는 고기가 정말 신선하고 맛있어요~...</td>\n",
       "      <td>2022-05-10</td>\n",
       "      <td>2 likes</td>\n",
       "      <td>NaN</td>\n",
       "      <td>['#영주말가든', '#제주맛집', '#제주도맛집', '#제주공항근처맛집', '#제...</td>\n",
       "    </tr>\n",
       "    <tr>\n",
       "      <th>12</th>\n",
       "      <td>yeggyun1662인테리어부터 뷰, 디저트 모두 맘에 들었던제주 카페 투어 필수 ...</td>\n",
       "      <td>2022-05-10</td>\n",
       "      <td>0</td>\n",
       "      <td>NaN</td>\n",
       "      <td>['#협재카페', '#제주도카페', '#제주도여행', '#제주카페', '#제주데이트...</td>\n",
       "    </tr>\n",
       "  </tbody>\n",
       "</table>\n",
       "<p>6794 rows × 5 columns</p>\n",
       "</div>"
      ],
      "text/plain": [
       "                                              content        date      like  \\\n",
       "0   제주에서 맞는 새해 첫날, 해는 못봤지만 눈은 원없이 보고 왔다!!! 눈되게 좋아하...  2019-01-01       431   \n",
       "1   저번에 못간 #동백군락지 🌺🌺보는것보다 사진이 더 이뻐요! (칭찬인지 욕인지.. 😜...  2019-01-01     1,521   \n",
       "3   .엘사는 아니지만 눈의 왕국을 다녀왔도다~~^^1100고지 주차장 잇바이데쓰 ㅠㅠ그...  2018-12-31       742   \n",
       "4   #제주 #친봉산장 #adieu #2018 12월 31일,우리의 2018 마지막 데이...  2019-01-01       108   \n",
       "5                               _와... 제주 겨울 바다 예술 😍😍😍  2019-01-01       718   \n",
       "..                                                ...         ...       ...   \n",
       "8   sohee_0.0-#제주도 🗿여사님이 제주도에서 사온 제주도 #너울 전통주 #칵테일...  2022-05-10  10 likes   \n",
       "9   lss_0__바다해찬음식도 좋고 맛도 좋고 어느하나 빠지는 게 없었던 곳!가족들이랑...  2022-05-10         0   \n",
       "10                     realtalk.o날씨도 좋고맛도 분위기도 좋았어🤍3m  2022-05-10  12 likes   \n",
       "11  plateyummy1234영주말가든의 말고기!요기는 고기가 정말 신선하고 맛있어요~...  2022-05-10   2 likes   \n",
       "12  yeggyun1662인테리어부터 뷰, 디저트 모두 맘에 들었던제주 카페 투어 필수 ...  2022-05-10         0   \n",
       "\n",
       "                      place                                               tags  \n",
       "0                    1100고지                                           ['#제주도']  \n",
       "1                  위미동백나무군락  ['#동백군락지', '#제주위미동백군락지', '#제주', '#위미', '#동백', ...  \n",
       "3                       NaN  ['#제주', '#숲길', '#제주도', '#제주인생사진', '#제주여행', '#제...  \n",
       "4                      친봉산장  ['#제주', '#친봉산장', '#adieu', '#2018', '#럽스타그램', ...  \n",
       "5   Jeju Island 제주특별자치도 济州道                                                 []  \n",
       "..                      ...                                                ...  \n",
       "8                       NaN  ['#제주도', '#너울', '#칵테일', '#제주도여행', '#여행스타ᄀ...  \n",
       "9                       NaN  ['#협재맛집', '#한림맛집', '#애월맛집', '#서귀포맛집', '#제주도맛집'...  \n",
       "10                      NaN                                                 []  \n",
       "11                      NaN  ['#영주말가든', '#제주맛집', '#제주도맛집', '#제주공항근처맛집', '#제...  \n",
       "12                      NaN  ['#협재카페', '#제주도카페', '#제주도여행', '#제주카페', '#제주데이트...  \n",
       "\n",
       "[6794 rows x 5 columns]"
      ]
     },
     "execution_count": 82,
     "metadata": {},
     "output_type": "execute_result"
    }
   ],
   "source": [
    "jeju_insta_df.drop_duplicates(subset=[\"content\"], inplace=True)\n",
    "jeju_insta_df"
   ]
  },
  {
   "cell_type": "code",
   "execution_count": 83,
   "metadata": {},
   "outputs": [],
   "source": [
    "jeju_insta_df.to_excel('./files/1_crawling_raw.xlsx', index = False)"
   ]
  },
  {
   "cell_type": "code",
   "execution_count": null,
   "metadata": {},
   "outputs": [],
   "source": [
    "import pasdas "
   ]
  }
 ],
 "metadata": {
  "interpreter": {
   "hash": "da1bc25f0a14767b87a2da66f259e240bdb82c6ab2e6fbc74b290106645bc35d"
  },
  "kernelspec": {
   "display_name": "Python 3.8.10 ('analysis': venv)",
   "language": "python",
   "name": "python3"
  },
  "language_info": {
   "codemirror_mode": {
    "name": "ipython",
    "version": 3
   },
   "file_extension": ".py",
   "mimetype": "text/x-python",
   "name": "python",
   "nbconvert_exporter": "python",
   "pygments_lexer": "ipython3",
   "version": "3.8.10"
  },
  "orig_nbformat": 4
 },
 "nbformat": 4,
 "nbformat_minor": 2
}
